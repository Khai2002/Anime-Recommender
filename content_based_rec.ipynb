{
 "cells": [
  {
   "cell_type": "code",
   "execution_count": 6,
   "metadata": {
    "ExecuteTime": {
     "end_time": "2024-04-30T06:54:01.474514200Z",
     "start_time": "2024-04-30T06:53:47.903288200Z"
    }
   },
   "outputs": [],
   "source": [
    "import numpy as np\n",
    "import pandas as pd\n",
    "import math\n",
    "import string\n",
    "import nltk\n",
    "from nltk.corpus import stopwords\n",
    "from nltk.stem import WordNetLemmatizer\n",
    "from nltk.tokenize import word_tokenize\n",
    "from nltk import pos_tag\n",
    "from sklearn.feature_extraction.text import TfidfVectorizer\n",
    "from sklearn.metrics.pairwise import cosine_similarity\n",
    "from numpy import nan\n",
    "import re\n",
    "from sklearn.preprocessing import MinMaxScaler, StandardScaler\n",
    "from numpy import vstack\n",
    "from sympy.physics.quantum.identitysearch import scipy\n",
    "from sklearn.metrics.pairwise import linear_kernel"
   ]
  },
  {
   "cell_type": "code",
   "execution_count": 7,
   "outputs": [],
   "source": [
    "def extract_year(date_str):\n",
    "    date_str = str(date_str)\n",
    "    if 'Unknown' in date_str:\n",
    "        return nan  \n",
    "    years = re.findall(r'\\b(19\\d{2}|20\\d{2})\\b', date_str)\n",
    "    if len(years) == 2:  \n",
    "        return (int(years[0]) + int(years[1])) // 2  \n",
    "    elif years:\n",
    "        return int(years[0])  \n",
    "    else:\n",
    "        return nan  # In case of a parsing error\n",
    "\n"
   ],
   "metadata": {
    "collapsed": false,
    "ExecuteTime": {
     "end_time": "2024-04-30T06:54:10.558380400Z",
     "start_time": "2024-04-30T06:54:10.533963500Z"
    }
   }
  },
  {
   "cell_type": "code",
   "execution_count": 8,
   "metadata": {
    "ExecuteTime": {
     "end_time": "2024-04-30T06:54:12.538859400Z",
     "start_time": "2024-04-30T06:54:12.526549900Z"
    }
   },
   "outputs": [],
   "source": [
    "def preprocess(anime_list): #TODO : Gérer les cas limites \n",
    "    anime_list = anime_list.copy()\n",
    "\n",
    "    ## Dropping columns\n",
    "    columns_to_keep = ['anime_id', 'Name', 'Genres', 'Synopsis', 'Episodes', 'Aired', 'Studios', 'Duration', 'Rating']\n",
    "    anime_list = anime_list[columns_to_keep]\n",
    "\n",
    "    ## Dealing with Genres : use one-hot encoding\n",
    "    all_genres = set()\n",
    "    for genres in anime_list['Genres']:\n",
    "        all_genres.update(genres.split(', '))\n",
    "    for genre in all_genres:\n",
    "        anime_list[genre] = anime_list['Genres'].apply(lambda x: 1 if genre in x.split(', ') else 0)\n",
    "    anime_list.drop(columns=['Genres'], inplace=True)\n",
    "\n",
    "    ## Dealing with Episodes and Duration : calculate total length\n",
    "    anime_list['Episodes'] = pd.to_numeric(anime_list['Episodes'], errors='coerce').fillna(0) #case to deal with\n",
    "    hours = anime_list['Duration'].str.extract(r'(\\d+) hr', expand=False).astype(float)\n",
    "    minutes = anime_list['Duration'].str.extract(r'(\\d+) min', expand=False).astype(float)\n",
    "    hours.fillna(0, inplace=True)\n",
    "    minutes.fillna(0, inplace=True)\n",
    "    anime_list['Duration'] = hours * 60 + minutes\n",
    "    anime_list['Total_Duration'] = anime_list['Duration'] * anime_list['Episodes']\n",
    "    anime_list.drop(columns=['Episodes'], inplace=True)\n",
    "    anime_list.drop(columns=['Duration'], inplace=True)\n",
    "\n",
    "    ## Dealing with Aired => get starting date\n",
    "    anime_list['Start_Date'] = pd.to_datetime(anime_list['Aired'].str.split(' to ').str[0], errors='coerce')\n",
    "    anime_list['Aired'] = anime_list['Aired'].apply(extract_year)\n",
    "    middle_year = anime_list['Aired'].median()\n",
    "    anime_list['Aired'].fillna(middle_year, inplace=True)\n",
    "    anime_list['Aired'] = anime_list['Aired'].astype(int)\n",
    "    \n",
    "    \n",
    "  \n",
    "\n",
    "    ## Dealing with Studios => keep the first (for now)\n",
    "    anime_list['Studios'] = anime_list['Studios'].str.split(',', expand=True)[0]\n",
    "    anime_list['Studios'] = anime_list['Studios'].str.strip()\n",
    "\n",
    "    ## Dealing with Rating => simplify\n",
    "    anime_list.loc[anime_list['Rating'].str.contains('G'), 'Rating'] = 'All Ages'\n",
    "    anime_list.loc[anime_list['Rating'].str.contains('PG-13'), 'Rating'] = 'Teen'\n",
    "    anime_list.loc[anime_list['Rating'].str.contains('PG'), 'Rating'] = 'Children'\n",
    "    anime_list.loc[anime_list['Rating'].str.contains('Rx'), 'Rating'] = 'Hentai'\n",
    "    anime_list.loc[anime_list['Rating'].str.contains(r'R\\+'), 'Rating'] = 'Adult'\n",
    "    anime_list.loc[anime_list['Rating'].str.contains('R'), 'Rating'] = 'Young Adult'\n",
    "    anime_list.loc[~anime_list['Rating'].isin(['All Ages', 'Children', 'Teen', 'Young Adult', 'Hentai', 'Adult']), 'Rating'] = 'Other'\n",
    "\n",
    "    ## Dealing with synopsis\n",
    "    #anime_list['Synopsis'] = anime_list['Synopsis'].apply(lambda x: x.translate(str.maketrans('', '', string.punctuation)).lower())\n",
    "    stop_words = set(stopwords.words('english'))\n",
    "    #anime_list['Synopsis'] = anime_list['Synopsis'].apply(lambda x  : ' '.join([word for word in x.split() if word not in stop_words]))\n",
    "    lemmatizer = WordNetLemmatizer()\n",
    "    #anime_list['Synopsis'] = anime_list['Synopsis'].apply(lambda x: ' '.join([lemmatizer.lemmatize(word) for word in x.split()]))\n",
    "    \n",
    "    anime_list['Synopsis'] = anime_list['Synopsis'].fillna('')\n",
    "    anime_list['Synopsis'] = anime_list['Synopsis'].str.lower()\n",
    "    anime_list['Synopsis'] = anime_list['Synopsis'].str.replace(r'[^\\w\\s]+', '')\n",
    "    \n",
    "    #anime_list['Synopsis'] = anime_list['Synopsis'].apply(lambda x: ' '.join([word for word, pos in pos_tag(word_tokenize(x)) if pos.startswith(('JJ', 'NN', 'VB', 'RB'))]))\n",
    "\n",
    "    return anime_list"
   ]
  },
  {
   "cell_type": "code",
   "execution_count": 10,
   "metadata": {
    "ExecuteTime": {
     "end_time": "2024-04-30T06:58:30.574144100Z",
     "start_time": "2024-04-30T06:58:30.557155Z"
    }
   },
   "outputs": [],
   "source": [
    "def show(anime_list):\n",
    "    nbl, nbc = anime_list.shape\n",
    "    print(\"\\nNombre de lignes :\", nbl)\n",
    "    print(\"\\nNombre de colonnes :\", nbc)\n",
    "    print(\"\\nInfos\\n\")\n",
    "    print(anime_list.info())\n",
    "    print(\"\\nDescribe\\n\")\n",
    "    print(anime_list.describe())\n",
    "    print(\"\\nHead\\n\")\n",
    "    print(anime_list.head(40))"
   ]
  },
  {
   "cell_type": "code",
   "execution_count": 56,
   "metadata": {
    "ExecuteTime": {
     "end_time": "2024-04-30T08:12:57.434059500Z",
     "start_time": "2024-04-30T08:12:56.787084800Z"
    }
   },
   "outputs": [
    {
     "name": "stdout",
     "output_type": "stream",
     "text": [
      "\n",
      "Nombre de lignes : 24903\n",
      "\n",
      "Nombre de colonnes : 30\n",
      "\n",
      "Infos\n",
      "\n",
      "<class 'pandas.core.frame.DataFrame'>\n",
      "RangeIndex: 24903 entries, 0 to 24902\n",
      "Data columns (total 30 columns):\n",
      " #   Column          Non-Null Count  Dtype         \n",
      "---  ------          --------------  -----         \n",
      " 0   anime_id        24903 non-null  int64         \n",
      " 1   Name            24903 non-null  object        \n",
      " 2   Synopsis        24903 non-null  object        \n",
      " 3   Aired           24903 non-null  int32         \n",
      " 4   Studios         24903 non-null  object        \n",
      " 5   Rating          24903 non-null  object        \n",
      " 6   Fantasy         24903 non-null  int64         \n",
      " 7   Girls Love      24903 non-null  int64         \n",
      " 8   Sci-Fi          24903 non-null  int64         \n",
      " 9   Award Winning   24903 non-null  int64         \n",
      " 10  Romance         24903 non-null  int64         \n",
      " 11  Supernatural    24903 non-null  int64         \n",
      " 12  Sports          24903 non-null  int64         \n",
      " 13  Action          24903 non-null  int64         \n",
      " 14  Horror          24903 non-null  int64         \n",
      " 15  Erotica         24903 non-null  int64         \n",
      " 16  Mystery         24903 non-null  int64         \n",
      " 17  Hentai          24903 non-null  int64         \n",
      " 18  Ecchi           24903 non-null  int64         \n",
      " 19  Drama           24903 non-null  int64         \n",
      " 20  UNKNOWN         24903 non-null  int64         \n",
      " 21  Adventure       24903 non-null  int64         \n",
      " 22  Gourmet         24903 non-null  int64         \n",
      " 23  Avant Garde     24903 non-null  int64         \n",
      " 24  Boys Love       24903 non-null  int64         \n",
      " 25  Suspense        24903 non-null  int64         \n",
      " 26  Comedy          24903 non-null  int64         \n",
      " 27  Slice of Life   24903 non-null  int64         \n",
      " 28  Total_Duration  24903 non-null  float64       \n",
      " 29  Start_Date      20090 non-null  datetime64[ns]\n",
      "dtypes: datetime64[ns](1), float64(1), int32(1), int64(23), object(4)\n",
      "memory usage: 5.6+ MB\n",
      "None\n",
      "\n",
      "Describe\n",
      "\n",
      "           anime_id         Aired       Fantasy    Girls Love        Sci-Fi  \\\n",
      "count  24903.000000  24903.000000  24903.000000  24903.000000  24903.000000   \n",
      "mean   29775.596876   2007.864193      0.213027      0.004538      0.124122   \n",
      "min        1.000000   1917.000000      0.000000      0.000000      0.000000   \n",
      "25%    10506.500000   2003.000000      0.000000      0.000000      0.000000   \n",
      "50%    34628.000000   2012.000000      0.000000      0.000000      0.000000   \n",
      "75%    45239.500000   2017.000000      0.000000      0.000000      0.000000   \n",
      "max    55735.000000   2025.000000      1.000000      1.000000      1.000000   \n",
      "std    17976.051401     14.449726      0.409454      0.067210      0.329727   \n",
      "\n",
      "       Award Winning       Romance  Supernatural        Sports        Action  \\\n",
      "count   24903.000000  24903.000000  24903.000000  24903.000000  24903.000000   \n",
      "mean        0.009678      0.082841      0.059953      0.030960      0.189897   \n",
      "min         0.000000      0.000000      0.000000      0.000000      0.000000   \n",
      "25%         0.000000      0.000000      0.000000      0.000000      0.000000   \n",
      "50%         0.000000      0.000000      0.000000      0.000000      0.000000   \n",
      "75%         0.000000      0.000000      0.000000      0.000000      0.000000   \n",
      "max         1.000000      1.000000      1.000000      1.000000      1.000000   \n",
      "std         0.097899      0.275648      0.237404      0.173213      0.392227   \n",
      "\n",
      "       ...       UNKNOWN     Adventure       Gourmet   Avant Garde  \\\n",
      "count  ...  24903.000000  24903.000000  24903.000000  24903.000000   \n",
      "mean   ...      0.197928      0.154238      0.005863      0.032245   \n",
      "min    ...      0.000000      0.000000      0.000000      0.000000   \n",
      "25%    ...      0.000000      0.000000      0.000000      0.000000   \n",
      "50%    ...      0.000000      0.000000      0.000000      0.000000   \n",
      "75%    ...      0.000000      0.000000      0.000000      0.000000   \n",
      "max    ...      1.000000      1.000000      1.000000      1.000000   \n",
      "std    ...      0.398446      0.361184      0.076345      0.176654   \n",
      "\n",
      "          Boys Love      Suspense        Comedy  Slice of Life  \\\n",
      "count  24903.000000  24903.000000  24903.000000   24903.000000   \n",
      "mean       0.006786      0.009718      0.286793       0.070473   \n",
      "min        0.000000      0.000000      0.000000       0.000000   \n",
      "25%        0.000000      0.000000      0.000000       0.000000   \n",
      "50%        0.000000      0.000000      0.000000       0.000000   \n",
      "75%        0.000000      0.000000      1.000000       0.000000   \n",
      "max        1.000000      1.000000      1.000000       1.000000   \n",
      "std        0.082101      0.098100      0.452273       0.255948   \n",
      "\n",
      "       Total_Duration                     Start_Date  \n",
      "count    24903.000000                          20090  \n",
      "mean       218.374854  2009-07-01 05:27:16.754604032  \n",
      "min          0.000000            1917-04-28 00:00:00  \n",
      "25%          7.000000            2004-03-15 12:00:00  \n",
      "50%         50.000000            2013-07-12 00:00:00  \n",
      "75%        273.000000            2018-07-14 00:00:00  \n",
      "max      48000.000000            2023-12-22 00:00:00  \n",
      "std        681.055226                            NaN  \n",
      "\n",
      "[8 rows x 26 columns]\n",
      "\n",
      "Head\n",
      "\n",
      "    anime_id                                               Name  \\\n",
      "0          1                                       Cowboy Bebop   \n",
      "1          5                    Cowboy Bebop: Tengoku no Tobira   \n",
      "2          6                                             Trigun   \n",
      "3          7                                 Witch Hunter Robin   \n",
      "4          8                                     Bouken Ou Beet   \n",
      "5         15                                       Eyeshield 21   \n",
      "6         16                               Hachimitsu to Clover   \n",
      "7         17                         Hungry Heart: Wild Striker   \n",
      "8         18                             Initial D Fourth Stage   \n",
      "9         19                                            Monster   \n",
      "10        20                                             Naruto   \n",
      "11        21                                          One Piece   \n",
      "12        22                                Tennis no Ouji-sama   \n",
      "13        23                                   Ring ni Kakero 1   \n",
      "14        24                                      School Rumble   \n",
      "15        25                                          Sunabouzu   \n",
      "16        26                                         Texhnolyze   \n",
      "17        27                                      Trinity Blood   \n",
      "18        28                                   Yakitate!! Japan   \n",
      "19        29                                             Zipang   \n",
      "20        30                            Neon Genesis Evangelion   \n",
      "21        31           Neon Genesis Evangelion: Death & Rebirth   \n",
      "22        32     Neon Genesis Evangelion: The End of Evangelion   \n",
      "23        33                               Kenpuu Denki Berserk   \n",
      "24        43                                   Koukaku Kidoutai   \n",
      "25        44  Rurouni Kenshin: Meiji Kenkaku Romantan - Tsui...   \n",
      "26        45            Rurouni Kenshin: Meiji Kenkaku Romantan   \n",
      "27        46  Rurouni Kenshin: Meiji Kenkaku Romantan - Ishi...   \n",
      "28        47                                              Akira   \n",
      "29        48                                        .hack//Sign   \n",
      "30        49                                   Aa! Megami-sama!   \n",
      "31        50                              Aa! Megami-sama! (TV)   \n",
      "32        51                                   Tenshi Kinryouku   \n",
      "33        52                         Kidou Tenshi Angelic Layer   \n",
      "34        53                                      Ai Yori Aoshi   \n",
      "35        54                                  Appleseed (Movie)   \n",
      "36        55                                        Arc the Lad   \n",
      "37        56                                            Avenger   \n",
      "38        57                                               Beck   \n",
      "39        58                                        Blue Gender   \n",
      "\n",
      "                                             Synopsis  Aired  \\\n",
      "0   crime is timeless. by the year 2071, humanity ...   1998   \n",
      "1   another day, another bounty—such is the life o...   2001   \n",
      "2   vash the stampede is the man with a $$60,000,0...   1998   \n",
      "3   robin sena is a powerful craft user drafted in...   2002   \n",
      "4   it is the dark century and the people are suff...   2004   \n",
      "5   shy, reserved, and small-statured, deimon high...   2006   \n",
      "6   yuuta takemoto, a sophomore at an arts college...   2005   \n",
      "7   as the younger brother of japanese soccer star...   2002   \n",
      "8   takumi fujiwara finally joins ryousuke and kei...   2005   \n",
      "9   dr. kenzou tenma, an elite neurosurgeon recent...   2004   \n",
      "10  moments prior to naruto uzumaki's birth, a hug...   2004   \n",
      "11  gol d. roger was known as the \"pirate king,\" t...   1999   \n",
      "12  at the request of his father, tennis prodigy r...   2003   \n",
      "13  in order to fulfill their dead father's wish, ...   2004   \n",
      "14  just the words \"i love you,\" and everything ch...   2004   \n",
      "15  the great kanto desert, a sweltering wasteland...   2004   \n",
      "16  in the dark underground city of lux, people li...   2003   \n",
      "17  following armageddon, an apocalyptic war, mank...   2005   \n",
      "18  while countries such as france, england, and g...   2005   \n",
      "19  mirai, an improved kongou-class aegis guided m...   2004   \n",
      "20  fifteen years after a cataclysmic event known ...   1995   \n",
      "21  in the year 2015, more than a decade has passe...   1997   \n",
      "22  shinji ikari is left emotionally comatose afte...   1997   \n",
      "23  guts, a man who will one day be known as the b...   1997   \n",
      "24  in the year 2029, niihama city has become a te...   1995   \n",
      "25  when mankind's savagery surpasses his fear of ...   1999   \n",
      "26  in the final years of the bakumatsu era lived ...   1997   \n",
      "27  the war against the tokugawa shogunate ended y...   1997   \n",
      "28  japan, 1988. an explosion caused by a young bo...   1988   \n",
      "29  a young wavemaster, only known by the alias of...   2002   \n",
      "30  when college student keiichi morisato dials th...   1993   \n",
      "31  in a world where humans can have their wish gr...   2005   \n",
      "32  setsuna mudo is a 16-year-old high school stud...   2000   \n",
      "33  12-year-old misaki suzuhara has just gotten in...   2001   \n",
      "34  kaoru hanabishi, a college student who lives a...   2002   \n",
      "35  growing out of the chaos of a global war, the ...   2004   \n",
      "36  the story follows elk, a bounty hunter in some...   1999   \n",
      "37  mars has been colonized and is a world where c...   2003   \n",
      "38  fourteen-year-old yukio \"koyuki\" tanaka is a d...   2004   \n",
      "39  blue gender takes place in the not too distant...   1999   \n",
      "\n",
      "                Studios       Rating  Fantasy  Girls Love  Sci-Fi  \\\n",
      "0               Sunrise  Young Adult        0           0       1   \n",
      "1                 Bones  Young Adult        0           0       1   \n",
      "2              Madhouse     All Ages        0           0       1   \n",
      "3               Sunrise     All Ages        0           0       0   \n",
      "4        Toei Animation     All Ages        1           0       0   \n",
      "5                Gallop     All Ages        0           0       0   \n",
      "6             J.C.Staff     All Ages        0           0       0   \n",
      "7      Nippon Animation     All Ages        0           0       0   \n",
      "8              A.C.G.T.     All Ages        0           0       0   \n",
      "9              Madhouse        Adult        0           0       0   \n",
      "10              Pierrot     All Ages        1           0       0   \n",
      "11       Toei Animation     All Ages        1           0       0   \n",
      "12           Trans Arts     All Ages        0           0       0   \n",
      "13       Toei Animation     All Ages        0           0       0   \n",
      "14         Studio Comet     All Ages        0           0       0   \n",
      "15                Gonzo  Young Adult        0           0       1   \n",
      "16             Madhouse        Adult        0           0       1   \n",
      "17                Gonzo  Young Adult        0           0       0   \n",
      "18              Sunrise     All Ages        0           0       0   \n",
      "19          Studio Deen     All Ages        0           0       1   \n",
      "20               Gainax     All Ages        0           0       1   \n",
      "21               Gainax  Young Adult        0           0       1   \n",
      "22               Gainax        Adult        0           0       1   \n",
      "23                  OLM        Adult        1           0       0   \n",
      "24       Production I.G        Adult        0           0       1   \n",
      "25          Studio Deen  Young Adult        0           0       0   \n",
      "26               Gallop     All Ages        0           0       0   \n",
      "27               Gallop  Young Adult        0           0       0   \n",
      "28  Tokyo Movie Shinsha        Adult        0           0       1   \n",
      "29            Bee Train     All Ages        1           0       0   \n",
      "30                  AIC     All Ages        0           0       0   \n",
      "31                  AIC     All Ages        0           0       0   \n",
      "32       Hal Film Maker        Adult        0           0       0   \n",
      "33                Bones     All Ages        0           0       1   \n",
      "34            J.C.Staff     All Ages        0           0       0   \n",
      "35     Digital Frontier  Young Adult        0           0       1   \n",
      "36            Bee Train  Young Adult        1           0       1   \n",
      "37            Bee Train  Young Adult        1           0       1   \n",
      "38             Madhouse  Young Adult        0           0       0   \n",
      "39                  AIC        Adult        0           0       1   \n",
      "\n",
      "    Award Winning  ...  UNKNOWN  Adventure  Gourmet  Avant Garde  Boys Love  \\\n",
      "0               1  ...        0          0        0            0          0   \n",
      "1               0  ...        0          0        0            0          0   \n",
      "2               0  ...        0          1        0            0          0   \n",
      "3               0  ...        0          0        0            0          0   \n",
      "4               0  ...        0          1        0            0          0   \n",
      "5               0  ...        0          0        0            0          0   \n",
      "6               0  ...        0          0        0            0          0   \n",
      "7               0  ...        0          0        0            0          0   \n",
      "8               0  ...        0          0        0            0          0   \n",
      "9               0  ...        0          0        0            0          0   \n",
      "10              0  ...        0          1        0            0          0   \n",
      "11              0  ...        0          1        0            0          0   \n",
      "12              0  ...        0          0        0            0          0   \n",
      "13              0  ...        0          0        0            0          0   \n",
      "14              0  ...        0          0        0            0          0   \n",
      "15              0  ...        0          1        0            0          0   \n",
      "16              0  ...        0          0        0            0          0   \n",
      "17              0  ...        0          0        0            0          0   \n",
      "18              0  ...        0          0        1            0          0   \n",
      "19              0  ...        0          0        0            0          0   \n",
      "20              1  ...        0          0        0            1          0   \n",
      "21              0  ...        0          0        0            0          0   \n",
      "22              0  ...        0          0        0            1          0   \n",
      "23              0  ...        0          1        0            0          0   \n",
      "24              1  ...        0          0        0            0          0   \n",
      "25              0  ...        0          0        0            0          0   \n",
      "26              0  ...        0          1        0            0          0   \n",
      "27              0  ...        0          0        0            0          0   \n",
      "28              0  ...        0          1        0            0          0   \n",
      "29              0  ...        0          1        0            0          0   \n",
      "30              0  ...        0          0        0            0          0   \n",
      "31              0  ...        0          0        0            0          0   \n",
      "32              0  ...        0          0        0            0          0   \n",
      "33              1  ...        0          0        0            0          0   \n",
      "34              0  ...        0          0        0            0          0   \n",
      "35              0  ...        0          0        0            0          0   \n",
      "36              0  ...        0          1        0            0          0   \n",
      "37              0  ...        0          1        0            0          0   \n",
      "38              0  ...        0          0        0            0          0   \n",
      "39              0  ...        0          1        0            0          0   \n",
      "\n",
      "    Suspense  Comedy  Slice of Life  Total_Duration  Start_Date  \n",
      "0          0       0              0           624.0  1998-04-03  \n",
      "1          0       0              0           115.0  2001-09-01  \n",
      "2          0       0              0           624.0  1998-04-01  \n",
      "3          0       0              0           650.0  2002-07-03  \n",
      "4          0       0              0          1196.0  2004-09-30  \n",
      "5          0       0              0          3335.0  2005-04-06  \n",
      "6          0       1              0           552.0  2005-04-15  \n",
      "7          0       1              1          1196.0  2002-09-11  \n",
      "8          0       0              0           648.0  2004-04-17  \n",
      "9          1       0              0          1776.0  2004-04-07  \n",
      "10         0       0              0          5060.0  2002-10-03  \n",
      "11         0       0              0             0.0  1999-10-20  \n",
      "12         0       0              0          3916.0  2001-10-10  \n",
      "13         0       0              0           300.0  2004-10-06  \n",
      "14         0       1              0           598.0  2004-10-05  \n",
      "15         0       1              0           576.0  2004-10-06  \n",
      "16         0       0              0           506.0  2003-04-17  \n",
      "17         0       0              0           576.0  2005-04-29  \n",
      "18         0       1              0          1656.0  2004-10-12  \n",
      "19         0       0              0           624.0  2004-10-08  \n",
      "20         1       0              0           624.0  1995-10-04  \n",
      "21         0       0              0           104.0  1997-03-15  \n",
      "22         0       0              0            86.0  1997-07-19  \n",
      "23         0       0              0           625.0  1997-10-08  \n",
      "24         1       0              0            82.0  1995-11-18  \n",
      "25         0       0              0           116.0  1999-02-20  \n",
      "26         0       1              0          2350.0  1996-01-10  \n",
      "27         0       0              0            91.0  1997-12-20  \n",
      "28         0       0              0           124.0  1988-07-16  \n",
      "29         0       0              0           624.0  2002-04-04  \n",
      "30         0       1              0           150.0  1993-02-21  \n",
      "31         0       1              0           576.0  2005-01-07  \n",
      "32         0       0              0            87.0  2000-05-25  \n",
      "33         0       1              0           624.0  2001-04-01  \n",
      "34         0       1              0           552.0  2002-04-11  \n",
      "35         0       0              0           105.0  2004-04-17  \n",
      "36         0       0              0           572.0  1999-04-05  \n",
      "37         0       0              0           312.0  2003-10-02  \n",
      "38         0       1              1           650.0  2004-10-07  \n",
      "39         0       0              0           598.0  1999-10-08  \n",
      "\n",
      "[40 rows x 30 columns]\n"
     ]
    }
   ],
   "source": [
    "fav_anime_list = [21]\n",
    "anime_list = pd.read_parquet('anime/anime.parquet')\n",
    "anime_list = preprocess(anime_list)\n",
    "show(anime_list)"
   ]
  },
  {
   "cell_type": "code",
   "execution_count": 36,
   "outputs": [
    {
     "data": {
      "text/plain": "       anime_id                             Name  \\\n0             1                     Cowboy Bebop   \n1             5  Cowboy Bebop: Tengoku no Tobira   \n2             6                           Trigun   \n3             7               Witch Hunter Robin   \n4             8                   Bouken Ou Beet   \n...         ...                              ...   \n24898     55731                      Wu Nao Monu   \n24899     55732              Bu Xing Si: Yuan Qi   \n24900     55733                      Di Yi Xulie   \n24901     55734         Bokura no Saishuu Sensou   \n24902     55735                   Shijuuku Nichi   \n\n                                                Synopsis  Aired  \\\n0      crime timeless year 2071 humanity expanded acr...   1998   \n1      another day another bounty—such life often unl...   2001   \n2      vash stampede man 60000000000 bounty head reas...   1998   \n3      robin sena powerful craft user drafted stnj—a ...   2002   \n4      dark century people suffering rule devil vande...   2004   \n...                                                  ...    ...   \n24898                        description available anime   2023   \n24899                        description available anime   2023   \n24900                        description available anime   2023   \n24901     music video song bokura saishuu sensou shannon   2022   \n24902            music video song shijuuku nichi shannon   2022   \n\n              Studios       Rating  Boys Love  Slice of Life  Mystery  \\\n0             Sunrise  Young Adult          0              0        0   \n1               Bones  Young Adult          0              0        0   \n2            Madhouse     All Ages          0              0        0   \n3             Sunrise     All Ages          0              0        1   \n4      Toei Animation     All Ages          0              0        0   \n...               ...          ...        ...            ...      ...   \n24898         UNKNOWN     All Ages          0              1        0   \n24899         UNKNOWN     All Ages          0              0        0   \n24900         UNKNOWN     All Ages          0              0        0   \n24901         UNKNOWN     All Ages          0              0        0   \n24902         UNKNOWN     All Ages          0              0        0   \n\n       Girls Love  ...  Award Winning  Hentai  Sci-Fi  Ecchi  Supernatural  \\\n0               0  ...              1       0       1      0             0   \n1               0  ...              0       0       1      0             0   \n2               0  ...              0       0       1      0             0   \n3               0  ...              0       0       0      0             1   \n4               0  ...              0       0       0      0             1   \n...           ...  ...            ...     ...     ...    ...           ...   \n24898           0  ...              0       0       0      0             0   \n24899           0  ...              0       0       0      0             0   \n24900           0  ...              0       0       1      0             0   \n24901           0  ...              0       0       0      0             0   \n24902           0  ...              0       0       0      0             0   \n\n       Horror  Erotica  Adventure  Total_Duration  Start_Date  \n0           0        0          0           624.0  1998-04-03  \n1           0        0          0           115.0  2001-09-01  \n2           0        0          1           624.0  1998-04-01  \n3           0        0          0           650.0  2002-07-03  \n4           0        0          1          1196.0  2004-09-30  \n...       ...      ...        ...             ...         ...  \n24898       0        0          0             0.0  2023-07-04  \n24899       0        0          1             0.0  2023-07-27  \n24900       0        0          1             0.0  2023-07-19  \n24901       0        0          0             3.0  2022-04-23  \n24902       0        0          0             3.0  2022-09-05  \n\n[24903 rows x 30 columns]",
      "text/html": "<div>\n<style scoped>\n    .dataframe tbody tr th:only-of-type {\n        vertical-align: middle;\n    }\n\n    .dataframe tbody tr th {\n        vertical-align: top;\n    }\n\n    .dataframe thead th {\n        text-align: right;\n    }\n</style>\n<table border=\"1\" class=\"dataframe\">\n  <thead>\n    <tr style=\"text-align: right;\">\n      <th></th>\n      <th>anime_id</th>\n      <th>Name</th>\n      <th>Synopsis</th>\n      <th>Aired</th>\n      <th>Studios</th>\n      <th>Rating</th>\n      <th>Boys Love</th>\n      <th>Slice of Life</th>\n      <th>Mystery</th>\n      <th>Girls Love</th>\n      <th>...</th>\n      <th>Award Winning</th>\n      <th>Hentai</th>\n      <th>Sci-Fi</th>\n      <th>Ecchi</th>\n      <th>Supernatural</th>\n      <th>Horror</th>\n      <th>Erotica</th>\n      <th>Adventure</th>\n      <th>Total_Duration</th>\n      <th>Start_Date</th>\n    </tr>\n  </thead>\n  <tbody>\n    <tr>\n      <th>0</th>\n      <td>1</td>\n      <td>Cowboy Bebop</td>\n      <td>crime timeless year 2071 humanity expanded acr...</td>\n      <td>1998</td>\n      <td>Sunrise</td>\n      <td>Young Adult</td>\n      <td>0</td>\n      <td>0</td>\n      <td>0</td>\n      <td>0</td>\n      <td>...</td>\n      <td>1</td>\n      <td>0</td>\n      <td>1</td>\n      <td>0</td>\n      <td>0</td>\n      <td>0</td>\n      <td>0</td>\n      <td>0</td>\n      <td>624.0</td>\n      <td>1998-04-03</td>\n    </tr>\n    <tr>\n      <th>1</th>\n      <td>5</td>\n      <td>Cowboy Bebop: Tengoku no Tobira</td>\n      <td>another day another bounty—such life often unl...</td>\n      <td>2001</td>\n      <td>Bones</td>\n      <td>Young Adult</td>\n      <td>0</td>\n      <td>0</td>\n      <td>0</td>\n      <td>0</td>\n      <td>...</td>\n      <td>0</td>\n      <td>0</td>\n      <td>1</td>\n      <td>0</td>\n      <td>0</td>\n      <td>0</td>\n      <td>0</td>\n      <td>0</td>\n      <td>115.0</td>\n      <td>2001-09-01</td>\n    </tr>\n    <tr>\n      <th>2</th>\n      <td>6</td>\n      <td>Trigun</td>\n      <td>vash stampede man 60000000000 bounty head reas...</td>\n      <td>1998</td>\n      <td>Madhouse</td>\n      <td>All Ages</td>\n      <td>0</td>\n      <td>0</td>\n      <td>0</td>\n      <td>0</td>\n      <td>...</td>\n      <td>0</td>\n      <td>0</td>\n      <td>1</td>\n      <td>0</td>\n      <td>0</td>\n      <td>0</td>\n      <td>0</td>\n      <td>1</td>\n      <td>624.0</td>\n      <td>1998-04-01</td>\n    </tr>\n    <tr>\n      <th>3</th>\n      <td>7</td>\n      <td>Witch Hunter Robin</td>\n      <td>robin sena powerful craft user drafted stnj—a ...</td>\n      <td>2002</td>\n      <td>Sunrise</td>\n      <td>All Ages</td>\n      <td>0</td>\n      <td>0</td>\n      <td>1</td>\n      <td>0</td>\n      <td>...</td>\n      <td>0</td>\n      <td>0</td>\n      <td>0</td>\n      <td>0</td>\n      <td>1</td>\n      <td>0</td>\n      <td>0</td>\n      <td>0</td>\n      <td>650.0</td>\n      <td>2002-07-03</td>\n    </tr>\n    <tr>\n      <th>4</th>\n      <td>8</td>\n      <td>Bouken Ou Beet</td>\n      <td>dark century people suffering rule devil vande...</td>\n      <td>2004</td>\n      <td>Toei Animation</td>\n      <td>All Ages</td>\n      <td>0</td>\n      <td>0</td>\n      <td>0</td>\n      <td>0</td>\n      <td>...</td>\n      <td>0</td>\n      <td>0</td>\n      <td>0</td>\n      <td>0</td>\n      <td>1</td>\n      <td>0</td>\n      <td>0</td>\n      <td>1</td>\n      <td>1196.0</td>\n      <td>2004-09-30</td>\n    </tr>\n    <tr>\n      <th>...</th>\n      <td>...</td>\n      <td>...</td>\n      <td>...</td>\n      <td>...</td>\n      <td>...</td>\n      <td>...</td>\n      <td>...</td>\n      <td>...</td>\n      <td>...</td>\n      <td>...</td>\n      <td>...</td>\n      <td>...</td>\n      <td>...</td>\n      <td>...</td>\n      <td>...</td>\n      <td>...</td>\n      <td>...</td>\n      <td>...</td>\n      <td>...</td>\n      <td>...</td>\n      <td>...</td>\n    </tr>\n    <tr>\n      <th>24898</th>\n      <td>55731</td>\n      <td>Wu Nao Monu</td>\n      <td>description available anime</td>\n      <td>2023</td>\n      <td>UNKNOWN</td>\n      <td>All Ages</td>\n      <td>0</td>\n      <td>1</td>\n      <td>0</td>\n      <td>0</td>\n      <td>...</td>\n      <td>0</td>\n      <td>0</td>\n      <td>0</td>\n      <td>0</td>\n      <td>0</td>\n      <td>0</td>\n      <td>0</td>\n      <td>0</td>\n      <td>0.0</td>\n      <td>2023-07-04</td>\n    </tr>\n    <tr>\n      <th>24899</th>\n      <td>55732</td>\n      <td>Bu Xing Si: Yuan Qi</td>\n      <td>description available anime</td>\n      <td>2023</td>\n      <td>UNKNOWN</td>\n      <td>All Ages</td>\n      <td>0</td>\n      <td>0</td>\n      <td>0</td>\n      <td>0</td>\n      <td>...</td>\n      <td>0</td>\n      <td>0</td>\n      <td>0</td>\n      <td>0</td>\n      <td>0</td>\n      <td>0</td>\n      <td>0</td>\n      <td>1</td>\n      <td>0.0</td>\n      <td>2023-07-27</td>\n    </tr>\n    <tr>\n      <th>24900</th>\n      <td>55733</td>\n      <td>Di Yi Xulie</td>\n      <td>description available anime</td>\n      <td>2023</td>\n      <td>UNKNOWN</td>\n      <td>All Ages</td>\n      <td>0</td>\n      <td>0</td>\n      <td>0</td>\n      <td>0</td>\n      <td>...</td>\n      <td>0</td>\n      <td>0</td>\n      <td>1</td>\n      <td>0</td>\n      <td>0</td>\n      <td>0</td>\n      <td>0</td>\n      <td>1</td>\n      <td>0.0</td>\n      <td>2023-07-19</td>\n    </tr>\n    <tr>\n      <th>24901</th>\n      <td>55734</td>\n      <td>Bokura no Saishuu Sensou</td>\n      <td>music video song bokura saishuu sensou shannon</td>\n      <td>2022</td>\n      <td>UNKNOWN</td>\n      <td>All Ages</td>\n      <td>0</td>\n      <td>0</td>\n      <td>0</td>\n      <td>0</td>\n      <td>...</td>\n      <td>0</td>\n      <td>0</td>\n      <td>0</td>\n      <td>0</td>\n      <td>0</td>\n      <td>0</td>\n      <td>0</td>\n      <td>0</td>\n      <td>3.0</td>\n      <td>2022-04-23</td>\n    </tr>\n    <tr>\n      <th>24902</th>\n      <td>55735</td>\n      <td>Shijuuku Nichi</td>\n      <td>music video song shijuuku nichi shannon</td>\n      <td>2022</td>\n      <td>UNKNOWN</td>\n      <td>All Ages</td>\n      <td>0</td>\n      <td>0</td>\n      <td>0</td>\n      <td>0</td>\n      <td>...</td>\n      <td>0</td>\n      <td>0</td>\n      <td>0</td>\n      <td>0</td>\n      <td>0</td>\n      <td>0</td>\n      <td>0</td>\n      <td>0</td>\n      <td>3.0</td>\n      <td>2022-09-05</td>\n    </tr>\n  </tbody>\n</table>\n<p>24903 rows × 30 columns</p>\n</div>"
     },
     "execution_count": 36,
     "metadata": {},
     "output_type": "execute_result"
    }
   ],
   "source": [
    "anime_list[anime_list['Name'] == '']"
   ],
   "metadata": {
    "collapsed": false,
    "ExecuteTime": {
     "end_time": "2024-04-29T09:01:55.940123100Z",
     "start_time": "2024-04-29T09:01:55.904547700Z"
    }
   }
  },
  {
   "cell_type": "code",
   "execution_count": 12,
   "metadata": {
    "ExecuteTime": {
     "end_time": "2024-04-30T06:58:39.761431900Z",
     "start_time": "2024-04-30T06:58:39.755879Z"
    }
   },
   "outputs": [],
   "source": [
    "def recommend_anime(similarities_tab):\n",
    "    sorted_df = similarities_tab.sort_values(by='similarity', ascending=False)\n",
    "    #sorted_df = similarities_tab.sort_values(by='total_similarity', ascending=False)\n",
    "    top_anime_ids = sorted_df.head(30)['anime_id'].tolist()\n",
    "    recommended_animes = []\n",
    "    for anime_id in top_anime_ids:\n",
    "        anime_name = anime_list.loc[anime_list['anime_id'] == anime_id, 'Name'].iloc[0]\n",
    "        recommended_animes.append({'anime_id': anime_id, 'Name': anime_name})\n",
    "    return pd.DataFrame(recommended_animes)"
   ]
  },
  {
   "cell_type": "code",
   "execution_count": 13,
   "metadata": {
    "ExecuteTime": {
     "end_time": "2024-04-30T06:58:43.603878Z",
     "start_time": "2024-04-30T06:58:41.521446600Z"
    }
   },
   "outputs": [
    {
     "name": "stdout",
     "output_type": "stream",
     "text": [
      "    anime_id                                               Name\n",
      "0      36215  One Piece: Episode of East Blue - Luffy to 4-n...\n",
      "1       8740             One Piece Film: Strong World Episode 0\n",
      "2      38234                       One Piece Movie 14: Stampede\n",
      "3       5252                      One Piece: Romance Dawn Story\n",
      "4      19505                                       Kaizoku Ouji\n",
      "5      12859                                  One Piece Film: Z\n",
      "6       4155                       One Piece Film: Strong World\n",
      "7      18315                   Nareuneun Dwaeji - Haejeok Mateo\n",
      "8      33165                                    Mashou no Nie 3\n",
      "9       2699                    Uchuu Kaizoku Mito no Daibouken\n",
      "10      1237  One Piece: Oounabara ni Hirake! Dekkai Dekkai ...\n",
      "11      2618                                         Takarajima\n",
      "12     15335  Gintama Movie 2: Kanketsu-hen - Yorozuya yo Ei...\n",
      "13     25161  One Piece 3D2Y: Ace no shi wo Koete! Luffy Nak...\n",
      "14     14817              Mouretsu Pirates: Abyss of Hyperspace\n",
      "15      2451                                        Space Cobra\n",
      "16       459                                 One Piece Movie 01\n",
      "17     38419  Tokyo One Piece Tower: Tongari Shima no Dai Hihou\n",
      "18      9999                       One Piece 3D: Mugiwara Chase\n",
      "19       460     One Piece Movie 02: Nejimaki-jima no Daibouken\n",
      "20       466                  One Piece: Taose! Kaizoku Ganzack\n",
      "21       567                                          The Big O\n",
      "22      1386                                       Blood Royale\n",
      "23      2664      Doraemon Movie 19: Nobita no Nankai Daibouken\n",
      "24      2452                              Space Adventure Cobra\n",
      "25     15323  One Piece: Episode of Nami - Koukaishi no Nami...\n",
      "26     37688                               Ousama no Takaramono\n",
      "27     50410                                One Piece Film: Red\n",
      "28      2385                 One Piece: Jango no Dance Carnival\n",
      "29     11009  Pokemon 3D Adventure 2: Pikachu no Kaitei Daib...\n"
     ]
    }
   ],
   "source": [
    "### Synopsis\n",
    "\n",
    "def extract_keywords(anime_ids, anime_list):\n",
    "    # récupérer tous les synopsis des animes favoris\n",
    "    fav_anime_synopsis = anime_list.loc[anime_list['anime_id'].isin(anime_ids), 'Synopsis'].tolist()\n",
    "    # concaténer l'ensemble de ces synopsis\n",
    "    fav_anime_synopsis = ' '.join(fav_anime_synopsis)\n",
    "    # récupérer les mots clés\n",
    "    fav_anime_keywords = fav_anime_synopsis.split()\n",
    "    fav_anime_keywords = [word.translate(str.maketrans('', '', string.punctuation)).lower() for word in fav_anime_keywords]\n",
    "    stop_words = set(stopwords.words('english'))\n",
    "    fav_anime_keywords = [word for word in fav_anime_keywords if word not in stop_words]\n",
    "    lemmatizer = WordNetLemmatizer()\n",
    "    fav_anime_keywords = [lemmatizer.lemmatize(word) for word in fav_anime_keywords]\n",
    "    ## add here more advanced analysis ?\n",
    "    return ' '.join(fav_anime_keywords)\n",
    "\n",
    "\n",
    "def recommendation_synopsis_based(fav_anime_list, anime_list):\n",
    "    # Extraction de mots-clés des synopsis des animes favoris\n",
    "    fav_anime_keywords = extract_keywords(fav_anime_list, anime_list)\n",
    "\n",
    "    anime_ids = anime_list.loc[~anime_list['anime_id'].isin(fav_anime_list), 'anime_id'].values\n",
    "\n",
    "    # Calcul de la similarité cosinus entre les mots-clés générés des animes favoris et les synopsis de tous les autres animes\n",
    "    tfidf_vectorizer = TfidfVectorizer()\n",
    "    tfidf_matrix_other_anime = tfidf_vectorizer.fit_transform(anime_list.loc[~anime_list['anime_id'].isin(fav_anime_list), 'Synopsis'])\n",
    "    tfidf_matrix_fav_anime = tfidf_vectorizer.transform([fav_anime_keywords]) \n",
    "    cosine_similarities = cosine_similarity(tfidf_matrix_other_anime, tfidf_matrix_fav_anime)\n",
    "\n",
    "    return pd.DataFrame({'anime_id': anime_ids, 'similarity': cosine_similarities.flatten()})\n",
    "\n",
    "\n",
    "synopsis_cosine_similarities_tab = recommendation_synopsis_based(fav_anime_list, anime_list)\n",
    "recommended_animes = recommend_anime(synopsis_cosine_similarities_tab)\n",
    "print(recommended_animes[['anime_id', 'Name']])"
   ]
  },
  {
   "cell_type": "code",
   "execution_count": 14,
   "outputs": [],
   "source": [
    "  \n",
    "  tfidf = TfidfVectorizer(stop_words='english')\n",
    "  tfidf_matrix = tfidf.fit_transform(anime_list['Synopsis'])\n",
    "  cosine_synopsis = linear_kernel(tfidf_matrix, tfidf_matrix)\n",
    "  \n"
   ],
   "metadata": {
    "collapsed": false,
    "ExecuteTime": {
     "end_time": "2024-04-30T06:58:59.058741500Z",
     "start_time": "2024-04-30T06:58:53.264513600Z"
    }
   }
  },
  {
   "cell_type": "code",
   "execution_count": 167,
   "outputs": [
    {
     "data": {
      "text/plain": "(24903, 24903)"
     },
     "execution_count": 167,
     "metadata": {},
     "output_type": "execute_result"
    }
   ],
   "source": [
    "cosine_synopsis.shape"
   ],
   "metadata": {
    "collapsed": false,
    "ExecuteTime": {
     "end_time": "2024-04-29T21:13:50.071472600Z",
     "start_time": "2024-04-29T21:13:50.019515Z"
    }
   }
  },
  {
   "cell_type": "code",
   "execution_count": 15,
   "outputs": [],
   "source": [
    "indices = pd.Series(anime_list.index, index=anime_list['Name']).drop_duplicates()\n",
    "# For one Anime in the list \n",
    "def get_recommendations(title, cosine_sim=cosine_synopsis, suggest_amount=15):\n",
    "    try:\n",
    "        idx = indices[title]\n",
    "        print(idx)\n",
    "    except KeyError:\n",
    "        raise ValueError(\"Anime  not found in matrix.\")\n",
    "\n",
    "\n",
    "    return get_recommendations_by_id(idx,cosine_sim, suggest_amount)\n",
    "\n",
    "\n",
    "def get_recommendations_by_id(idx, cosine_sim=cosine_synopsis, suggest_amount=15) : \n",
    "    sim_scores = list(enumerate(cosine_sim[idx])) \n",
    "    sim_scores = sorted(sim_scores, key=lambda x: x[1], reverse=True)\n",
    "    \n",
    "    max_amount = len(sim_scores)\n",
    "    if suggest_amount > max_amount:\n",
    "        suggest_amount = max_amount\n",
    "    \n",
    "    sim_scores = sim_scores[1:suggest_amount]\n",
    "    \n",
    "    # Get the anime indices\n",
    "    anime_indices = [i[0] for i in sim_scores]\n",
    "    \n",
    "    # Map indices to anime_id\n",
    "    anime_ids = anime_list.iloc[anime_indices]['anime_id'].values\n",
    "    \n",
    "    # Calculate the normalized scores (L2 normalization)\n",
    "    scores = np.array([i[1] for i in sim_scores])\n",
    "    norm_scores = scores / np.linalg.norm(scores)\n",
    "    \n",
    "    ret_df = pd.DataFrame({\n",
    "        'Anime' : anime_list.iloc[anime_indices]['Name'] , \n",
    "        'Score' : norm_scores , \n",
    "        'anime_id': anime_ids , \n",
    "        'Position' : range(1 ,  suggest_amount)\n",
    "    }\n",
    "    )\n",
    "    return ret_df"
   ],
   "metadata": {
    "collapsed": false,
    "ExecuteTime": {
     "end_time": "2024-04-30T06:59:08.474270600Z",
     "start_time": "2024-04-30T06:59:08.458233900Z"
    }
   }
  },
  {
   "cell_type": "code",
   "execution_count": 28,
   "outputs": [
    {
     "name": "stdout",
     "output_type": "stream",
     "text": [
      "24872\n"
     ]
    },
    {
     "data": {
      "text/plain": "                                                Anime     Score  anime_id  \\\n2413         The☆Doraemons: Strange, Sweets, Strange?  0.267261      2628   \n2414                     Doraemon and Itchy the Stray  0.267261      2629   \n2417             Doraemon: Time Machine de Oshougatsu  0.267261      2632   \n2418     The☆Doraemons: Dokidoki Kikansha Daibakusou!  0.267261      2633   \n2419                    Doraemon: Doraemon Comes Back  0.267261      2634   \n2420        Dorami-chan: Wow, The Kid Gang of Bandits  0.267261      2636   \n2422                    Dorami-chan: A Blue Straw Hat  0.267261      2642   \n2423  Dorami & Doraemons: Space Land's Critical Event  0.267261      2645   \n2430                Doraemon: The Day When I Was Born  0.267261      2652   \n2431                        Doraemon: Ganbare! Gian!!  0.267261      2653   \n2476                              Susie-chan to Marvy  0.267261      2701   \n2483                                       Wankorobee  0.267261      2708   \n2667                                Tensai? Dr. Hamax  0.267261      2930   \n2876                                       Fuyu no Hi  0.267261      3215   \n\n      Position  \n2413         1  \n2414         2  \n2417         3  \n2418         4  \n2419         5  \n2420         6  \n2422         7  \n2423         8  \n2430         9  \n2431        10  \n2476        11  \n2483        12  \n2667        13  \n2876        14  ",
      "text/html": "<div>\n<style scoped>\n    .dataframe tbody tr th:only-of-type {\n        vertical-align: middle;\n    }\n\n    .dataframe tbody tr th {\n        vertical-align: top;\n    }\n\n    .dataframe thead th {\n        text-align: right;\n    }\n</style>\n<table border=\"1\" class=\"dataframe\">\n  <thead>\n    <tr style=\"text-align: right;\">\n      <th></th>\n      <th>Anime</th>\n      <th>Score</th>\n      <th>anime_id</th>\n      <th>Position</th>\n    </tr>\n  </thead>\n  <tbody>\n    <tr>\n      <th>2413</th>\n      <td>The☆Doraemons: Strange, Sweets, Strange?</td>\n      <td>0.267261</td>\n      <td>2628</td>\n      <td>1</td>\n    </tr>\n    <tr>\n      <th>2414</th>\n      <td>Doraemon and Itchy the Stray</td>\n      <td>0.267261</td>\n      <td>2629</td>\n      <td>2</td>\n    </tr>\n    <tr>\n      <th>2417</th>\n      <td>Doraemon: Time Machine de Oshougatsu</td>\n      <td>0.267261</td>\n      <td>2632</td>\n      <td>3</td>\n    </tr>\n    <tr>\n      <th>2418</th>\n      <td>The☆Doraemons: Dokidoki Kikansha Daibakusou!</td>\n      <td>0.267261</td>\n      <td>2633</td>\n      <td>4</td>\n    </tr>\n    <tr>\n      <th>2419</th>\n      <td>Doraemon: Doraemon Comes Back</td>\n      <td>0.267261</td>\n      <td>2634</td>\n      <td>5</td>\n    </tr>\n    <tr>\n      <th>2420</th>\n      <td>Dorami-chan: Wow, The Kid Gang of Bandits</td>\n      <td>0.267261</td>\n      <td>2636</td>\n      <td>6</td>\n    </tr>\n    <tr>\n      <th>2422</th>\n      <td>Dorami-chan: A Blue Straw Hat</td>\n      <td>0.267261</td>\n      <td>2642</td>\n      <td>7</td>\n    </tr>\n    <tr>\n      <th>2423</th>\n      <td>Dorami &amp; Doraemons: Space Land's Critical Event</td>\n      <td>0.267261</td>\n      <td>2645</td>\n      <td>8</td>\n    </tr>\n    <tr>\n      <th>2430</th>\n      <td>Doraemon: The Day When I Was Born</td>\n      <td>0.267261</td>\n      <td>2652</td>\n      <td>9</td>\n    </tr>\n    <tr>\n      <th>2431</th>\n      <td>Doraemon: Ganbare! Gian!!</td>\n      <td>0.267261</td>\n      <td>2653</td>\n      <td>10</td>\n    </tr>\n    <tr>\n      <th>2476</th>\n      <td>Susie-chan to Marvy</td>\n      <td>0.267261</td>\n      <td>2701</td>\n      <td>11</td>\n    </tr>\n    <tr>\n      <th>2483</th>\n      <td>Wankorobee</td>\n      <td>0.267261</td>\n      <td>2708</td>\n      <td>12</td>\n    </tr>\n    <tr>\n      <th>2667</th>\n      <td>Tensai? Dr. Hamax</td>\n      <td>0.267261</td>\n      <td>2930</td>\n      <td>13</td>\n    </tr>\n    <tr>\n      <th>2876</th>\n      <td>Fuyu no Hi</td>\n      <td>0.267261</td>\n      <td>3215</td>\n      <td>14</td>\n    </tr>\n  </tbody>\n</table>\n</div>"
     },
     "execution_count": 28,
     "metadata": {},
     "output_type": "execute_result"
    }
   ],
   "source": [
    "get_recommendations('demon slayer')"
   ],
   "metadata": {
    "collapsed": false,
    "ExecuteTime": {
     "end_time": "2024-04-30T07:30:30.056001Z",
     "start_time": "2024-04-30T07:30:30.045195700Z"
    }
   }
  },
  {
   "cell_type": "code",
   "execution_count": 192,
   "outputs": [
    {
     "name": "stdout",
     "output_type": "stream",
     "text": [
      "24903\n",
      "24903\n"
     ]
    }
   ],
   "source": [
    "#Synopis but with another method\n",
    "\n",
    "#def recommendation_synopsis_based(fav_anime_list, anime_list , cosine_sim=cosine_synopsis, ssuggest_amount = 15):\n",
    "    # Extraction de mots-clés des synopsis des animes favoris\n",
    "\n",
    "fav_indices = anime_list[anime_list['anime_id'].isin(fav_anime_list)].index\n",
    "all_sim_scores = []\n",
    "\n",
    "# Compute average similarity scores from all provided indices\n",
    "for idx in fav_indices:\n",
    "    sim_scores = list(enumerate(cosine_synopsis[idx]))\n",
    "    print(len(sim_scores))\n",
    "    all_sim_scores.append(sim_scores)\n",
    "    \n",
    "# Calculate the mean of the similarity scores across all provided indices\n",
    "mean_sim_scores = np.mean(np.array([[score for _, score in item] for item in all_sim_scores]), axis=0)\n",
    "\n",
    "#print(len(mean_sim_scores))\n",
    "# Create a list of tuples (index, mean score)\n",
    "#mean_sim_scores = list(enumerate(mean_sim_scores))\n",
    "\n",
    "# Sort the scores in descending order\n",
    "#mean_sim_scores = sorted(mean_sim_scores, key=lambda x: x[1], reverse=True)\n",
    "\n",
    "#filtered_scores = [(idx, score) for idx, score in mean_sim_scores if idx not in id_list][:]\n"
   ],
   "metadata": {
    "collapsed": false,
    "ExecuteTime": {
     "end_time": "2024-04-29T21:29:52.378073200Z",
     "start_time": "2024-04-29T21:29:52.336673400Z"
    }
   }
  },
  {
   "cell_type": "code",
   "execution_count": 34,
   "outputs": [
    {
     "data": {
      "text/plain": "                                                   Anime     Score  anime_id\n22047           Kimetsu no Yaiba: Katanakaji no Sato-hen  0.129918     51019\n16059           Kimetsu no Yaiba Movie: Mugen Ressha-hen  0.107979     40456\n20429                      Kimetsu no Yaiba: Yuukaku-hen  0.081337     47778\n21532                 Kimetsu no Yaiba: Mugen Ressha-hen  0.079096     49926\n20152  Chuukou Ikkan!! Kimetsu Gakuen Monogatari: Val...  0.063208     47398\n...                                                  ...       ...       ...\n24898                                        Wu Nao Monu  0.000000     55731\n24899                                Bu Xing Si: Yuan Qi  0.000000     55732\n24900                                        Di Yi Xulie  0.000000     55733\n24901                           Bokura no Saishuu Sensou  0.000000     55734\n24902                                     Shijuuku Nichi  0.000000     55735\n\n[24902 rows x 3 columns]",
      "text/html": "<div>\n<style scoped>\n    .dataframe tbody tr th:only-of-type {\n        vertical-align: middle;\n    }\n\n    .dataframe tbody tr th {\n        vertical-align: top;\n    }\n\n    .dataframe thead th {\n        text-align: right;\n    }\n</style>\n<table border=\"1\" class=\"dataframe\">\n  <thead>\n    <tr style=\"text-align: right;\">\n      <th></th>\n      <th>Anime</th>\n      <th>Score</th>\n      <th>anime_id</th>\n    </tr>\n  </thead>\n  <tbody>\n    <tr>\n      <th>22047</th>\n      <td>Kimetsu no Yaiba: Katanakaji no Sato-hen</td>\n      <td>0.129918</td>\n      <td>51019</td>\n    </tr>\n    <tr>\n      <th>16059</th>\n      <td>Kimetsu no Yaiba Movie: Mugen Ressha-hen</td>\n      <td>0.107979</td>\n      <td>40456</td>\n    </tr>\n    <tr>\n      <th>20429</th>\n      <td>Kimetsu no Yaiba: Yuukaku-hen</td>\n      <td>0.081337</td>\n      <td>47778</td>\n    </tr>\n    <tr>\n      <th>21532</th>\n      <td>Kimetsu no Yaiba: Mugen Ressha-hen</td>\n      <td>0.079096</td>\n      <td>49926</td>\n    </tr>\n    <tr>\n      <th>20152</th>\n      <td>Chuukou Ikkan!! Kimetsu Gakuen Monogatari: Val...</td>\n      <td>0.063208</td>\n      <td>47398</td>\n    </tr>\n    <tr>\n      <th>...</th>\n      <td>...</td>\n      <td>...</td>\n      <td>...</td>\n    </tr>\n    <tr>\n      <th>24898</th>\n      <td>Wu Nao Monu</td>\n      <td>0.000000</td>\n      <td>55731</td>\n    </tr>\n    <tr>\n      <th>24899</th>\n      <td>Bu Xing Si: Yuan Qi</td>\n      <td>0.000000</td>\n      <td>55732</td>\n    </tr>\n    <tr>\n      <th>24900</th>\n      <td>Di Yi Xulie</td>\n      <td>0.000000</td>\n      <td>55733</td>\n    </tr>\n    <tr>\n      <th>24901</th>\n      <td>Bokura no Saishuu Sensou</td>\n      <td>0.000000</td>\n      <td>55734</td>\n    </tr>\n    <tr>\n      <th>24902</th>\n      <td>Shijuuku Nichi</td>\n      <td>0.000000</td>\n      <td>55735</td>\n    </tr>\n  </tbody>\n</table>\n<p>24902 rows × 3 columns</p>\n</div>"
     },
     "execution_count": 34,
     "metadata": {},
     "output_type": "execute_result"
    }
   ],
   "source": [
    "def get_recommendations_Synopsis_based(fav_anime_list, cosine_sim=cosine_synopsis, suggest_amount=15):\n",
    "    # Initialize a list to collect all similarity scores\n",
    "    all_sim_scores = []\n",
    "    id_list = anime_list[anime_list['anime_id'].isin(fav_anime_list)].index\n",
    "    # Compute average similarity scores from all provided indices\n",
    "    for idx in id_list:\n",
    "        sim_scores = list(enumerate(cosine_sim[idx]))\n",
    "        all_sim_scores.append(sim_scores)\n",
    "\n",
    "    # Calculate the mean of the similarity scores across all provided indices\n",
    "    mean_sim_scores = np.mean(np.array([[score for _, score in item] for item in all_sim_scores]), axis=0)\n",
    "\n",
    "    # Create a list of tuples (index, mean score)\n",
    "    mean_sim_scores = list(enumerate(mean_sim_scores))\n",
    "\n",
    "    # Sort the scores in descending order\n",
    "    mean_sim_scores = sorted(mean_sim_scores, key=lambda x: x[1], reverse=True)\n",
    "    \n",
    "    \n",
    "    '''\n",
    "    # Adjust the number of suggestions based on the length of scores\n",
    "    max_amount = len(mean_sim_scores)\n",
    "    if suggest_amount > max_amount:\n",
    "        suggest_amount = max_amount\n",
    "    '''\n",
    "\n",
    "    # Exclude the indices that were part of the input to avoid self-recommendation\n",
    "    filtered_scores = [(idx, score) for idx, score in mean_sim_scores if idx not in id_list]\n",
    "    \n",
    "\n",
    "    # Get the anime indices\n",
    "    anime_indices = [i[0] for i in filtered_scores]\n",
    "\n",
    "    # Map indices to anime_id\n",
    "    anime_ids = anime_list.iloc[anime_indices]['anime_id'].values\n",
    "    \n",
    "    # Calculate the normalized scores (L2 normalization)\n",
    "    scores = np.array([i[1] for i in filtered_scores])\n",
    "    norm_scores = scores / np.linalg.norm(scores)\n",
    "    \n",
    "    ret_df = pd.DataFrame({\n",
    "        'Anime' : anime_list.iloc[anime_indices]['Name'],\n",
    "        'Score' : norm_scores,\n",
    "        'anime_id' : anime_ids,\n",
    "    \n",
    "    })\n",
    "\n",
    "    return ret_df\n",
    "get_recommendations_Synopsis_based([38000])"
   ],
   "metadata": {
    "collapsed": false,
    "ExecuteTime": {
     "end_time": "2024-04-30T07:42:42.098392200Z",
     "start_time": "2024-04-30T07:42:42.002625700Z"
    }
   }
  },
  {
   "cell_type": "code",
   "execution_count": 2,
   "outputs": [
    {
     "ename": "NameError",
     "evalue": "name 'get_recommendations' is not defined",
     "output_type": "error",
     "traceback": [
      "\u001B[1;31m---------------------------------------------------------------------------\u001B[0m",
      "\u001B[1;31mNameError\u001B[0m                                 Traceback (most recent call last)",
      "Cell \u001B[1;32mIn[2], line 1\u001B[0m\n\u001B[1;32m----> 1\u001B[0m get_recommendations(\u001B[38;5;124m'\u001B[39m\u001B[38;5;124mOne Piece\u001B[39m\u001B[38;5;124m'\u001B[39m)\n",
      "\u001B[1;31mNameError\u001B[0m: name 'get_recommendations' is not defined"
     ]
    }
   ],
   "source": [
    "get_recommendations('One Piece')"
   ],
   "metadata": {
    "collapsed": false,
    "ExecuteTime": {
     "end_time": "2024-04-30T06:52:44.754595Z",
     "start_time": "2024-04-30T06:52:42.450077100Z"
    }
   }
  },
  {
   "cell_type": "code",
   "execution_count": 149,
   "outputs": [
    {
     "data": {
      "text/plain": "      anime_id         Name  \\\n8619     22319  Tokyo Ghoul   \n\n                                               Synopsis  Aired  Studios  \\\n8619  sinister threat invading tokyo flesheating gho...   2014  Pierrot   \n\n           Rating  Boys Love  Slice of Life  Mystery  Girls Love  ...  \\\n8619  Young Adult          0              0        0           0  ...   \n\n      Award Winning  Hentai  Sci-Fi  Ecchi  Supernatural  Horror  Erotica  \\\n8619              0       0       0      0             0       1        0   \n\n      Adventure  Total_Duration  Start_Date  \n8619          0           288.0  2014-07-04  \n\n[1 rows x 30 columns]",
      "text/html": "<div>\n<style scoped>\n    .dataframe tbody tr th:only-of-type {\n        vertical-align: middle;\n    }\n\n    .dataframe tbody tr th {\n        vertical-align: top;\n    }\n\n    .dataframe thead th {\n        text-align: right;\n    }\n</style>\n<table border=\"1\" class=\"dataframe\">\n  <thead>\n    <tr style=\"text-align: right;\">\n      <th></th>\n      <th>anime_id</th>\n      <th>Name</th>\n      <th>Synopsis</th>\n      <th>Aired</th>\n      <th>Studios</th>\n      <th>Rating</th>\n      <th>Boys Love</th>\n      <th>Slice of Life</th>\n      <th>Mystery</th>\n      <th>Girls Love</th>\n      <th>...</th>\n      <th>Award Winning</th>\n      <th>Hentai</th>\n      <th>Sci-Fi</th>\n      <th>Ecchi</th>\n      <th>Supernatural</th>\n      <th>Horror</th>\n      <th>Erotica</th>\n      <th>Adventure</th>\n      <th>Total_Duration</th>\n      <th>Start_Date</th>\n    </tr>\n  </thead>\n  <tbody>\n    <tr>\n      <th>8619</th>\n      <td>22319</td>\n      <td>Tokyo Ghoul</td>\n      <td>sinister threat invading tokyo flesheating gho...</td>\n      <td>2014</td>\n      <td>Pierrot</td>\n      <td>Young Adult</td>\n      <td>0</td>\n      <td>0</td>\n      <td>0</td>\n      <td>0</td>\n      <td>...</td>\n      <td>0</td>\n      <td>0</td>\n      <td>0</td>\n      <td>0</td>\n      <td>0</td>\n      <td>1</td>\n      <td>0</td>\n      <td>0</td>\n      <td>288.0</td>\n      <td>2014-07-04</td>\n    </tr>\n  </tbody>\n</table>\n<p>1 rows × 30 columns</p>\n</div>"
     },
     "execution_count": 149,
     "metadata": {},
     "output_type": "execute_result"
    }
   ],
   "source": [
    "anime_list[anime_list['Name'] == 'Tokyo Ghoul']"
   ],
   "metadata": {
    "collapsed": false,
    "ExecuteTime": {
     "end_time": "2024-04-29T20:57:45.299379900Z",
     "start_time": "2024-04-29T20:57:45.280082800Z"
    }
   }
  },
  {
   "cell_type": "code",
   "execution_count": 101,
   "outputs": [
    {
     "data": {
      "text/plain": "array([[-1.42364847],\n       [-1.77263284],\n       [-1.30732034],\n       ...,\n       [ 1.13557029],\n       [ 1.01924216],\n       [ 1.01924216]])"
     },
     "execution_count": 101,
     "metadata": {},
     "output_type": "execute_result"
    }
   ],
   "source": [
    "\n",
    "\n",
    "# This code is for debug\n",
    "fav_anime_list = [1  ]\n",
    "\n",
    "anime_ids = anime_list.loc[~anime_list['anime_id'].isin(fav_anime_list), 'anime_id'].values\n",
    "similarities = []\n",
    "\n",
    "Fav_Date =  anime_list.loc[anime_list['anime_id'].isin(fav_anime_list)  , 'Aired' ].mean()\n",
    "Dates  = anime_list.loc[~anime_list['anime_id'].isin(fav_anime_list)  , 'Aired']\n",
    "\n",
    "    \n",
    "\n",
    "for Date in Dates :\n",
    "    similarities.append( abs(Date -  Fav_Date)) \n",
    "\n",
    "similarities_array = np.array(similarities).reshape(-1, 1)\n",
    "\n",
    " # Créer l'instance de MinMaxScaler\n",
    "scaler = MinMaxScaler()\n",
    "    \n",
    "# Normaliser les similarités\n",
    "normalized_similarities = scaler.fit_transform(similarities_array)\n",
    "\n",
    "normalized_similarities\n",
    "\n",
    "#max(normalized_similarities)\n"
   ],
   "metadata": {
    "collapsed": false,
    "ExecuteTime": {
     "end_time": "2024-04-29T14:39:21.362328700Z",
     "start_time": "2024-04-29T14:39:21.336605900Z"
    }
   }
  },
  {
   "cell_type": "code",
   "execution_count": 77,
   "outputs": [
    {
     "data": {
      "text/plain": "       anime_id             Name  \\\n23277     53164  Come On Tonight   \n\n                                                Synopsis  Aired  Studios  \\\n23277  music video for the song come on tonight by wa...   2019  UNKNOWN   \n\n         Rating  Fantasy  Girls Love  Sci-Fi  Award Winning  ...  UNKNOWN  \\\n23277  All Ages        0           0       0              0  ...        1   \n\n       Adventure  Gourmet  Avant Garde  Boys Love  Suspense  Comedy  \\\n23277          0        0            0          0         0       0   \n\n       Slice of Life  Total_Duration  Start_Date  \n23277              0             2.0  2019-10-04  \n\n[1 rows x 30 columns]",
      "text/html": "<div>\n<style scoped>\n    .dataframe tbody tr th:only-of-type {\n        vertical-align: middle;\n    }\n\n    .dataframe tbody tr th {\n        vertical-align: top;\n    }\n\n    .dataframe thead th {\n        text-align: right;\n    }\n</style>\n<table border=\"1\" class=\"dataframe\">\n  <thead>\n    <tr style=\"text-align: right;\">\n      <th></th>\n      <th>anime_id</th>\n      <th>Name</th>\n      <th>Synopsis</th>\n      <th>Aired</th>\n      <th>Studios</th>\n      <th>Rating</th>\n      <th>Fantasy</th>\n      <th>Girls Love</th>\n      <th>Sci-Fi</th>\n      <th>Award Winning</th>\n      <th>...</th>\n      <th>UNKNOWN</th>\n      <th>Adventure</th>\n      <th>Gourmet</th>\n      <th>Avant Garde</th>\n      <th>Boys Love</th>\n      <th>Suspense</th>\n      <th>Comedy</th>\n      <th>Slice of Life</th>\n      <th>Total_Duration</th>\n      <th>Start_Date</th>\n    </tr>\n  </thead>\n  <tbody>\n    <tr>\n      <th>23277</th>\n      <td>53164</td>\n      <td>Come On Tonight</td>\n      <td>music video for the song come on tonight by wa...</td>\n      <td>2019</td>\n      <td>UNKNOWN</td>\n      <td>All Ages</td>\n      <td>0</td>\n      <td>0</td>\n      <td>0</td>\n      <td>0</td>\n      <td>...</td>\n      <td>1</td>\n      <td>0</td>\n      <td>0</td>\n      <td>0</td>\n      <td>0</td>\n      <td>0</td>\n      <td>0</td>\n      <td>0</td>\n      <td>2.0</td>\n      <td>2019-10-04</td>\n    </tr>\n  </tbody>\n</table>\n<p>1 rows × 30 columns</p>\n</div>"
     },
     "execution_count": 77,
     "metadata": {},
     "output_type": "execute_result"
    }
   ],
   "source": [
    "\n",
    "anime_list[anime_list['anime_id'] == 53164]\n",
    "    "
   ],
   "metadata": {
    "collapsed": false,
    "ExecuteTime": {
     "end_time": "2024-04-30T08:32:46.067658700Z",
     "start_time": "2024-04-30T08:32:46.056526800Z"
    }
   }
  },
  {
   "cell_type": "code",
   "execution_count": 70,
   "outputs": [
    {
     "data": {
      "text/plain": "       anime_id  similarity\n15889     40152         0.0\n22776     52335         0.0\n20526     47908         0.0\n22781     52342         0.0\n22782     52343         0.0\n...         ...         ...\n7626      17387       102.0\n9127      24575       102.0\n9128      24577       102.0\n8833      23183       102.0\n21885     50577       102.0\n\n[24902 rows x 2 columns]",
      "text/html": "<div>\n<style scoped>\n    .dataframe tbody tr th:only-of-type {\n        vertical-align: middle;\n    }\n\n    .dataframe tbody tr th {\n        vertical-align: top;\n    }\n\n    .dataframe thead th {\n        text-align: right;\n    }\n</style>\n<table border=\"1\" class=\"dataframe\">\n  <thead>\n    <tr style=\"text-align: right;\">\n      <th></th>\n      <th>anime_id</th>\n      <th>similarity</th>\n    </tr>\n  </thead>\n  <tbody>\n    <tr>\n      <th>15889</th>\n      <td>40152</td>\n      <td>0.0</td>\n    </tr>\n    <tr>\n      <th>22776</th>\n      <td>52335</td>\n      <td>0.0</td>\n    </tr>\n    <tr>\n      <th>20526</th>\n      <td>47908</td>\n      <td>0.0</td>\n    </tr>\n    <tr>\n      <th>22781</th>\n      <td>52342</td>\n      <td>0.0</td>\n    </tr>\n    <tr>\n      <th>22782</th>\n      <td>52343</td>\n      <td>0.0</td>\n    </tr>\n    <tr>\n      <th>...</th>\n      <td>...</td>\n      <td>...</td>\n    </tr>\n    <tr>\n      <th>7626</th>\n      <td>17387</td>\n      <td>102.0</td>\n    </tr>\n    <tr>\n      <th>9127</th>\n      <td>24575</td>\n      <td>102.0</td>\n    </tr>\n    <tr>\n      <th>9128</th>\n      <td>24577</td>\n      <td>102.0</td>\n    </tr>\n    <tr>\n      <th>8833</th>\n      <td>23183</td>\n      <td>102.0</td>\n    </tr>\n    <tr>\n      <th>21885</th>\n      <td>50577</td>\n      <td>102.0</td>\n    </tr>\n  </tbody>\n</table>\n<p>24902 rows × 2 columns</p>\n</div>"
     },
     "execution_count": 70,
     "metadata": {},
     "output_type": "execute_result"
    }
   ],
   "source": [
    "\n",
    "fav_anime_list = [38000]\n",
    "anime_ids = anime_list.loc[~anime_list['anime_id'].isin(fav_anime_list), 'anime_id'].values\n",
    "similarities = []\n",
    "Fav_Date =  anime_list.loc[anime_list['anime_id'].isin(fav_anime_list)  , 'Aired' ].mean()\n",
    "Dates  = anime_list.loc[~anime_list['anime_id'].isin(fav_anime_list)  , 'Aired']\n",
    "\n",
    "for Date in Dates :\n",
    "    similarities.append(abs(Date -  Fav_Date)) \n",
    "\n",
    "pd1 = pd.DataFrame({'anime_id': anime_ids, 'similarity': similarities})\n",
    "sorted_df = pd1.sort_values(by='similarity', ascending=False)\n",
    "#sorted_df = similarities_tab.sort_values(by='total_similarity', ascending=False)\n",
    "top_anime_ids = sorted_df.head(30)['anime_id'].tolist()\n",
    "sorted_df\n",
    "\n",
    "#recommended_animes = []\n",
    "#for anime_id in top_anime_ids:\n",
    "    #anime_name = anime_list.loc[anime_list['anime_id'] == anime_id, 'Name'].iloc[0]\n",
    "    #recommended_animes.append({'anime_id': anime_id, 'Name': anime_name})\n",
    "\n"
   ],
   "metadata": {
    "collapsed": false,
    "ExecuteTime": {
     "end_time": "2024-04-30T08:26:20.983748700Z",
     "start_time": "2024-04-30T08:26:20.953024100Z"
    }
   }
  },
  {
   "cell_type": "code",
   "execution_count": 75,
   "outputs": [
    {
     "name": "stdout",
     "output_type": "stream",
     "text": [
      "    anime_id                                               Name\n",
      "0      53164                                    Come On Tonight\n",
      "1      40031                             Mugyutto! Black Clover\n",
      "2      40033                                          Animagear\n",
      "3      37509                                                W'z\n",
      "4      38935                                        Miru Tights\n",
      "5      38572                                    Assassins Pride\n",
      "6      37510                                  Mob Psycho 100 II\n",
      "7      40239         Arifureta Shokugyou de Sekai Saikyou Recap\n",
      "8      40030                       Tayo-ui Jangnangam Adventure\n",
      "9      38562  The iDOLM@STER SideM: Wake Atte Mini! - Shoshi...\n",
      "10     37514          Made in Abyss Movie 1: Tabidachi no Yoake\n",
      "11     40029                                 Broadcast by Bibby\n",
      "12     52453                     Koumori Bat wa Good na Shinshi\n",
      "13     42988                                          New Tribe\n",
      "14     42985              Ling Long: Incarnation Middle Chapter\n",
      "15     37515        Made in Abyss Movie 2: Hourou Suru Tasogare\n",
      "16     35868             Grisaia: Phantom Trigger The Animation\n",
      "17     40238                                        Yumemi no E\n",
      "18     40542                 Saiki Kusuo no Ψ-nan: Ψ-shidou-hen\n",
      "19     40569                                      Raison d'être\n",
      "20     35848                                            Promare\n",
      "21     43293                          Kaitai Shita Inu no Blues\n",
      "22     40040                                    Odoru Mowai-kun\n",
      "23     40570                                           The Peak\n",
      "24     43291                      Mu Wang Zhi Wang: You Du Zhan\n",
      "25     38925                                       Kao Haru CMs\n",
      "26     50089                                              Ithna\n",
      "27     40568             Yin Yang Shi: Ping An Wu Yu 2nd Season\n",
      "28     38062                                            Endro~!\n",
      "29     38558                                        Laidbackers\n"
     ]
    }
   ],
   "source": [
    "## Date (Aired column)\n",
    "def recommendation_date_based(fav_anime_list, anime_list):\n",
    "    anime_ids = anime_list.loc[~anime_list['anime_id'].isin(fav_anime_list), 'anime_id'].values\n",
    "    similarities = []\n",
    "\n",
    "    Fav_Date =  anime_list.loc[anime_list['anime_id'].isin(fav_anime_list)  , 'Aired' ].mean()\n",
    "    Dates  = anime_list.loc[~anime_list['anime_id'].isin(fav_anime_list)  , 'Aired']\n",
    "\n",
    "    for Date in Dates :\n",
    "        similarities.append(abs(Date -  Fav_Date)) \n",
    "    similarities_array = np.array(similarities).reshape(-1, 1)\n",
    "\n",
    "    # Créer l'instance de MinMaxScaler\n",
    "    scaler = MinMaxScaler()\n",
    "    \n",
    "    # Normaliser les similarités\n",
    "    normalized_similarities = scaler.fit_transform(similarities_array)\n",
    "    \n",
    "    normalized_similarities  = 1 - normalized_similarities\n",
    "\n",
    "# Redimensionner pour revenir à une liste simple si nécessaire\n",
    "    normalized_similarities = normalized_similarities.flatten().tolist()\n",
    "    return pd.DataFrame({'anime_id': anime_ids, 'similarity': normalized_similarities})\n",
    "\n",
    "Date_Similarities = recommendation_date_based([38000], anime_list)\n",
    "recommended_animes = recommend_anime(Date_Similarities)\n",
    "print(recommended_animes[['anime_id', 'Name']])"
   ],
   "metadata": {
    "collapsed": false,
    "ExecuteTime": {
     "end_time": "2024-04-30T08:32:17.280471200Z",
     "start_time": "2024-04-30T08:32:17.258755300Z"
    }
   }
  },
  {
   "cell_type": "code",
   "execution_count": 43,
   "metadata": {
    "ExecuteTime": {
     "end_time": "2024-04-29T13:53:42.265255100Z",
     "start_time": "2024-04-29T13:53:39.638901800Z"
    }
   },
   "outputs": [
    {
     "name": "stdout",
     "output_type": "stream",
     "text": [
      "       anime_id   similarity\n",
      "0             1  1995.505121\n",
      "1             6  1995.505121\n",
      "2             7  1999.499875\n",
      "3             8  2001.496877\n",
      "4            15  2003.494379\n",
      "...         ...          ...\n",
      "24896     55731  2020.473145\n",
      "24897     55732  2020.473395\n",
      "24898     55733  2020.473895\n",
      "24899     55734  2019.474394\n",
      "24900     55735  2019.474394\n",
      "\n",
      "[24901 rows x 2 columns]\n"
     ]
    }
   ],
   "source": [
    "### Genre\n",
    "\n",
    "def recommendation_genre_based(fav_anime_list, anime_list):\n",
    "    anime_ids = anime_list.loc[~anime_list['anime_id'].isin(fav_anime_list), 'anime_id'].values\n",
    "    similarities = []\n",
    "\n",
    "    fav_genres = anime_list.loc[anime_list['anime_id'].isin(fav_anime_list), ~anime_list.columns.isin(['anime_id', 'Name', 'Total_Duration', 'Start_Date', 'Studios', 'Rating', 'Synopsis'])].sum()\n",
    "    fav_genres_prop = fav_genres / fav_genres.sum()\n",
    "\n",
    "    other_anime_genres = anime_list.loc[~anime_list['anime_id'].isin(fav_anime_list), ~anime_list.columns.isin(['Name', 'Total_Duration', 'Start_Date', 'Studios', 'Rating', 'Synopsis'])]\n",
    "    for _, row in other_anime_genres.drop(columns=['anime_id']).iterrows():\n",
    "        genre_similarity = sum(row[genre] * fav_genres_prop[genre] for genre in fav_genres_prop.index)\n",
    "        similarities.append(genre_similarity)\n",
    "       \n",
    "    return pd.DataFrame({'anime_id': anime_ids, 'similarity': similarities})\n",
    "\n",
    "genre_cosine_similarities_tab = recommendation_genre_based(fav_anime_list, anime_list)\n",
    "recommended_animes = recommend_anime(genre_cosine_similarities_tab)\n",
    "print(genre_cosine_similarities_tab)"
   ]
  },
  {
   "cell_type": "code",
   "execution_count": 8,
   "metadata": {},
   "outputs": [
    {
     "name": "stdout",
     "output_type": "stream",
     "text": [
      "0.0\n",
      "    anime_id                                               Name\n",
      "0          1                                       Cowboy Bebop\n",
      "1      40665   Shoujo☆Kageki Revue Starlight: Rondo Rondo Rondo\n",
      "2      40661                 Jashin-chan Dropkick': Chitose-hen\n",
      "3      40660                                              Start\n",
      "4      40659  Senki Zesshou Symphogear XV: Senki Zesshou Shi...\n",
      "5      40658                                          ** Kouhai\n",
      "6      40656        Girls & Panzer: Saishuushou Part 2 Specials\n",
      "7      40655                                    Melon no Kirime\n",
      "8      40651                          Kandagawa Jet Girls Recap\n",
      "9      40646                             Yes ka No ka Hanbun ka\n",
      "10     40645                                     Kaigo to Ikiru\n",
      "11     40644                              Miki no Mikoto (2020)\n",
      "12     40642                                    Yakusoku (2011)\n",
      "13     40641                             Little Wonders: Sneeze\n",
      "14     40639           Tonari no Ie no Anette-san The Animation\n",
      "15     40638                                        Wan Guo Zhi\n",
      "16     40636                                Marco to Ginga Ryuu\n",
      "17     40633                                            Seishun\n",
      "18     40630                                      Saga Incident\n",
      "19     40628                                 A Brightening Life\n",
      "20     40626                           Shobo Kujira Chibi Cobra\n",
      "21     40664                Shoujo☆Kageki Revue Starlight Movie\n",
      "22     40667                                Jigoku Shoujo Recap\n",
      "23     40623                               Dokyuu Hentai HxEros\n",
      "24     40673                                     Tokyo Mikansei\n",
      "25     40702                                          Life Size\n",
      "26     40701                                  Monochro∞Blue Sky\n",
      "27     40700                                   Shikijou Kyoudan\n",
      "28     40699                                    Ai no Tabidachi\n",
      "29     40695                                         Zou da Zou\n"
     ]
    },
    {
     "name": "stderr",
     "output_type": "stream",
     "text": [
      "C:\\Users\\mathi\\AppData\\Local\\Temp\\ipykernel_14720\\3323861660.py:11: RuntimeWarning: invalid value encountered in scalar divide\n",
      "  relative_difference = abs(duration - avg_fav_duration) / max(duration, avg_fav_duration)\n"
     ]
    }
   ],
   "source": [
    "### Duration\n",
    "\n",
    "def recommendation_duration_based(fav_anime_list, anime_list):\n",
    "    anime_ids = anime_list.loc[~anime_list['anime_id'].isin(fav_anime_list), 'anime_id'].values\n",
    "    similarities = []\n",
    "    \n",
    "    \n",
    "    \n",
    "    avg_fav_duration = anime_list.loc[anime_list['anime_id'].isin(fav_anime_list), 'Total_Duration'].mean()\n",
    "    print(avg_fav_duration)\n",
    "\n",
    "    other_anime_durations = anime_list.loc[~anime_list['anime_id'].isin(fav_anime_list), 'Total_Duration']\n",
    "\n",
    "    for duration in other_anime_durations:\n",
    "        relative_difference = abs(duration - avg_fav_duration) / max(duration, avg_fav_duration)\n",
    "        duration_similarity = 1 - relative_difference\n",
    "        similarities.append(duration_similarity)\n",
    "\n",
    "    return pd.DataFrame({'anime_id': anime_ids, 'similarity': similarities})\n",
    "\n",
    "\n",
    "duration_cosine_similarities_tab = recommendation_duration_based(fav_anime_list, anime_list)\n",
    "recommended_animes = recommend_anime(duration_cosine_similarities_tab)\n",
    "print(recommended_animes[['anime_id', 'Name']])"
   ]
  },
  {
   "cell_type": "code",
   "execution_count": 10,
   "metadata": {},
   "outputs": [
    {
     "name": "stdout",
     "output_type": "stream",
     "text": [
      "       anime_id  similarity\n",
      "0             1    0.333333\n",
      "1             5    0.333333\n",
      "2             6    0.666667\n",
      "3             7    0.333333\n",
      "4             8    0.666667\n",
      "...         ...         ...\n",
      "24897     55731    0.333333\n",
      "24898     55732    1.000000\n",
      "24899     55733    1.000000\n",
      "24900     55734    0.000000\n",
      "24901     55735    0.000000\n",
      "\n",
      "[24902 rows x 2 columns]\n",
      "       anime_id  similarity\n",
      "0             1         0.0\n",
      "1             5         0.0\n",
      "2             6         0.0\n",
      "3             7         0.0\n",
      "4             8         0.0\n",
      "...         ...         ...\n",
      "24897     55731         NaN\n",
      "24898     55732         NaN\n",
      "24899     55733         NaN\n",
      "24900     55734         0.0\n",
      "24901     55735         0.0\n",
      "\n",
      "[24902 rows x 2 columns]\n",
      "       anime_id  similarity\n",
      "0             1    0.013469\n",
      "1             5    0.026405\n",
      "2             6    0.027187\n",
      "3             7    0.005047\n",
      "4             8    0.031917\n",
      "...         ...         ...\n",
      "24897     55731    0.000000\n",
      "24898     55732    0.000000\n",
      "24899     55733    0.000000\n",
      "24900     55734    0.000000\n",
      "24901     55735    0.000000\n",
      "\n",
      "[24902 rows x 2 columns]\n",
      "       anime_id  similarity_genre  similarity_duration  similarity  \\\n",
      "0             1          0.333333                  0.0    0.013469   \n",
      "1             5          0.333333                  0.0    0.026405   \n",
      "2             6          0.666667                  0.0    0.027187   \n",
      "3             7          0.333333                  0.0    0.005047   \n",
      "4             8          0.666667                  0.0    0.031917   \n",
      "...         ...               ...                  ...         ...   \n",
      "24897     55731          0.333333                  NaN    0.000000   \n",
      "24898     55732          1.000000                  NaN    0.000000   \n",
      "24899     55733          1.000000                  NaN    0.000000   \n",
      "24900     55734          0.000000                  0.0    0.000000   \n",
      "24901     55735          0.000000                  0.0    0.000000   \n",
      "\n",
      "       total_similarity  \n",
      "0              0.074748  \n",
      "1              0.082510  \n",
      "2              0.149645  \n",
      "3              0.069695  \n",
      "4              0.152484  \n",
      "...                 ...  \n",
      "24897               NaN  \n",
      "24898               NaN  \n",
      "24899               NaN  \n",
      "24900          0.000000  \n",
      "24901          0.000000  \n",
      "\n",
      "[24902 rows x 5 columns]\n",
      "    anime_id                                               Name\n",
      "0      12859                                  One Piece Film: Z\n",
      "1      36215  One Piece: Episode of East Blue - Luffy to 4-n...\n",
      "2      38234                       One Piece Movie 14: Stampede\n",
      "3       5252                      One Piece: Romance Dawn Story\n",
      "4       1237  One Piece: Oounabara ni Hirake! Dekkai Dekkai ...\n",
      "5       4155                       One Piece Film: Strong World\n",
      "6        464  One Piece Movie 06: Omatsuri Danshaku to Himit...\n",
      "7        459                                 One Piece Movie 01\n",
      "8      50410                                One Piece Film: Red\n",
      "9       1238              One Piece: Mamore! Saigo no Dai Butai\n",
      "10     31289  One Piece: Episode of Sabo - 3 Kyoudai no Kizu...\n",
      "11       462             One Piece Movie 04: Dead End no Bouken\n",
      "12      8740             One Piece Film: Strong World Episode 0\n",
      "13       465   One Piece Movie 07: Karakuri-jou no Mecha Kyohei\n",
      "14     33338                           One Piece: Heart of Gold\n",
      "15      9999                       One Piece 3D: Mugiwara Chase\n",
      "16       466                  One Piece: Taose! Kaizoku Ganzack\n",
      "17     15323  One Piece: Episode of Nami - Koukaishi no Nami...\n",
      "18       460     One Piece Movie 02: Nejimaki-jima no Daibouken\n",
      "19      1638                                Peter Pan no Bouken\n",
      "20      2107  One Piece Movie 08: Episode of Alabasta - Saba...\n",
      "21       463              One Piece Movie 05: Norowareta Seiken\n",
      "22     52921     One Piece: Densetsu no Log! Akagami no Shanks!\n",
      "23     50385                           One Piece Characters Log\n",
      "24     16143  One Piece: Kinkyuu Kikaku One Piece Kanzen Kou...\n",
      "25     19123  One Piece: Episode of Merry - Mou Hitori no Na...\n",
      "26     31838                                         Ze Tian Ji\n",
      "27     33606          One Piece Film: Gold Episode 0 - 711 ver.\n",
      "28     22097                             Magi: Sinbad no Bouken\n",
      "29      2201  Pokemon Movie 09: Pokemon Ranger to Umi no Ouj...\n"
     ]
    }
   ],
   "source": [
    "## Combination\n",
    "\n",
    "print(genre_cosine_similarities_tab)\n",
    "print(duration_cosine_similarities_tab)\n",
    "print(synopsis_cosine_similarities_tab)\n",
    "\n",
    "combined_tab = pd.merge(genre_cosine_similarities_tab, duration_cosine_similarities_tab, on='anime_id', suffixes=('_genre', '_duration'))\n",
    "combined_tab = pd.merge(combined_tab, synopsis_cosine_similarities_tab, on='anime_id', suffixes=('', '_synopsis'))\n",
    "combined_tab['total_similarity'] = 0.2*combined_tab['similarity_genre'] + 0.2*combined_tab['similarity_duration'] + 0.6*combined_tab['similarity']\n",
    "\n",
    "print(combined_tab)\n",
    "\n",
    "recommended_animes = recommend_anime(combined_tab)\n",
    "print(recommended_animes[['anime_id', 'Name']])"
   ]
  }
 ],
 "metadata": {
  "kernelspec": {
   "display_name": "Python 3",
   "language": "python",
   "name": "python3"
  },
  "language_info": {
   "codemirror_mode": {
    "name": "ipython",
    "version": 3
   },
   "file_extension": ".py",
   "mimetype": "text/x-python",
   "name": "python",
   "nbconvert_exporter": "python",
   "pygments_lexer": "ipython3",
   "version": "3.12.2"
  }
 },
 "nbformat": 4,
 "nbformat_minor": 2
}
