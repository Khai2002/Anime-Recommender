{
 "cells": [
  {
   "cell_type": "code",
   "execution_count": null,
   "id": "initial_id",
   "metadata": {
    "collapsed": true
   },
   "outputs": [],
   "source": [
    "from collab_based_rec import *\n",
    "from content_based_rec import *"
   ]
  },
  {
   "cell_type": "code",
   "execution_count": 8,
   "outputs": [],
   "source": [
    "fav_anime_list = [21]"
   ],
   "metadata": {
    "collapsed": false,
    "ExecuteTime": {
     "end_time": "2024-05-02T07:46:48.467345500Z",
     "start_time": "2024-05-02T07:46:48.467345500Z"
    }
   },
   "id": "ebf2df655ae74585"
  },
  {
   "cell_type": "code",
   "execution_count": 9,
   "outputs": [],
   "source": [
    "def show_names(anime_ids, anime_list):\n",
    "    animes = []\n",
    "    for anime_id in anime_ids:\n",
    "        anime_name = anime_list.loc[anime_list['anime_id'] == anime_id, 'Name'].iloc[0]\n",
    "        animes.append({'anime_id': anime_id, 'Name': anime_name})\n",
    "\n",
    "    print(pd.DataFrame(animes))"
   ],
   "metadata": {
    "collapsed": false,
    "ExecuteTime": {
     "end_time": "2024-05-02T07:46:54.012284800Z",
     "start_time": "2024-05-02T07:46:54.005774600Z"
    }
   },
   "id": "a0bae789f6ad56fb"
  },
  {
   "cell_type": "code",
   "execution_count": 38,
   "outputs": [],
   "source": [
    "def merge_score(collab_tab, content_tab):\n",
    "    final_tab = pd.merge(content_tab, collab_tab, on='anime_id', suffixes=('_content', '_collab'), how='left')\n",
    "    final_tab['recommend_score_collab'] = final_tab['recommend_score_collab'].fillna(0)\n",
    "    final_tab['recommend_score_content'] = (final_tab['recommend_score_content'] - final_tab['recommend_score_content'].min()) / (final_tab['recommend_score_content'].max() - final_tab['recommend_score_content'].min())\n",
    "\n",
    "    final_tab['recommend_score_collab'] = (final_tab['recommend_score_collab'] - final_tab['recommend_score_collab'].min()) / (final_tab['recommend_score_collab'].max() - final_tab['recommend_score_collab'].min())\n",
    "    final_tab['total_score'] = final_tab['recommend_score_content'] + final_tab['recommend_score_collab']\n",
    "    return final_tab"
   ],
   "metadata": {
    "collapsed": false,
    "ExecuteTime": {
     "end_time": "2024-05-02T08:29:13.828068300Z",
     "start_time": "2024-05-02T08:29:13.828068300Z"
    }
   },
   "id": "1ee908e4d7c28580"
  },
  {
   "cell_type": "code",
   "execution_count": 11,
   "outputs": [],
   "source": [
    "def recommendation_anime(fav_anime_list):\n",
    "    collab_tab = get_recommandation_collab_tab(fav_anime_list)\n",
    "    content_tab = get_recommandation_content_tab(fav_anime_list)\n",
    "    similarities_tab = merge_score(collab_tab, content_tab)\n",
    "    \n",
    "    sorted_df = similarities_tab.sort_values(by='total_score', ascending=False)\n",
    "    top_anime_ids = sorted_df.head(30)['anime_id'].tolist()\n",
    "    return top_anime_ids\n"
   ],
   "metadata": {
    "collapsed": false,
    "ExecuteTime": {
     "end_time": "2024-05-02T07:47:06.711579600Z",
     "start_time": "2024-05-02T07:47:06.701578800Z"
    }
   },
   "id": "8140e44a783275d2"
  },
  {
   "cell_type": "code",
   "execution_count": 28,
   "outputs": [
    {
     "name": "stdout",
     "output_type": "stream",
     "text": [
      "    anime_id                                               Name\n",
      "0      36215  One Piece: Episode of East Blue - Luffy to 4-n...\n",
      "1      12859                                  One Piece Film: Z\n",
      "2      38234                       One Piece Movie 14: Stampede\n",
      "3       5252                      One Piece: Romance Dawn Story\n",
      "4       1237  One Piece: Oounabara ni Hirake! Dekkai Dekkai ...\n",
      "5       4155                       One Piece Film: Strong World\n",
      "6        464  One Piece Movie 06: Omatsuri Danshaku to Himit...\n",
      "7        459                                 One Piece Movie 01\n",
      "8      50410                                One Piece Film: Red\n",
      "9       1238              One Piece: Mamore! Saigo no Dai Butai\n",
      "10     31289  One Piece: Episode of Sabo - 3 Kyoudai no Kizu...\n",
      "11       462             One Piece Movie 04: Dead End no Bouken\n",
      "12      8740             One Piece Film: Strong World Episode 0\n",
      "13       465   One Piece Movie 07: Karakuri-jou no Mecha Kyohei\n",
      "14       466                  One Piece: Taose! Kaizoku Ganzack\n",
      "15     15323  One Piece: Episode of Nami - Koukaishi no Nami...\n",
      "16       460     One Piece Movie 02: Nejimaki-jima no Daibouken\n",
      "17     33338                           One Piece: Heart of Gold\n",
      "18      9999                       One Piece 3D: Mugiwara Chase\n",
      "19      2107  One Piece Movie 08: Episode of Alabasta - Saba...\n",
      "20      1638                                Peter Pan no Bouken\n",
      "21       463              One Piece Movie 05: Norowareta Seiken\n",
      "22     52921     One Piece: Densetsu no Log! Akagami no Shanks!\n",
      "23     31741                        Magi: Sinbad no Bouken (TV)\n",
      "24     22043                                  Fairy Tail (2014)\n",
      "25     19123  One Piece: Episode of Merry - Mou Hitori no Na...\n",
      "26      5071                                            Croket!\n",
      "27     16143  One Piece: Kinkyuu Kikaku One Piece Kanzen Kou...\n",
      "28       461  One Piece Movie 03: Chinjuu-jima no Chopper Ou...\n",
      "29      1735                                 Naruto: Shippuuden\n"
     ]
    }
   ],
   "source": [
    "anime_list = pd.read_parquet('anime/anime.parquet')\n",
    "show_names(recommendation_anime(fav_anime_list), anime_list)\n"
   ],
   "metadata": {
    "collapsed": false,
    "ExecuteTime": {
     "end_time": "2024-05-02T08:10:54.730002300Z",
     "start_time": "2024-05-02T08:10:39.380341500Z"
    }
   },
   "id": "4f7122e4d61a708d"
  },
  {
   "cell_type": "code",
   "execution_count": 33,
   "outputs": [],
   "source": [
    "collab_tab = get_recommandation_collab_tab(fav_anime_list)\n",
    "content_tab = get_recommandation_content_tab(fav_anime_list)\n",
    "final_tab = pd.merge(content_tab, collab_tab, on='anime_id', suffixes=('_content', '_collab'), how='left')\n",
    "#final_tab['recommend_score_collab'] = final_tab['recommend_score_collab'].fillna(0)\n",
    "#final_tab['total_score'] = final_tab['recommend_score_content'] + 100*final_tab['recommend_score_collab']"
   ],
   "metadata": {
    "collapsed": false,
    "ExecuteTime": {
     "end_time": "2024-05-02T08:15:50.626264900Z",
     "start_time": "2024-05-02T08:15:34.971382200Z"
    }
   },
   "id": "7d247b25b98a0c66"
  },
  {
   "cell_type": "code",
   "execution_count": 34,
   "outputs": [],
   "source": [
    "final_tab['recommend_score_collab'] = final_tab['recommend_score_collab'].fillna(0)"
   ],
   "metadata": {
    "collapsed": false,
    "ExecuteTime": {
     "end_time": "2024-05-02T08:16:03.820865400Z",
     "start_time": "2024-05-02T08:16:03.815588600Z"
    }
   },
   "id": "2d152641976fb60b"
  },
  {
   "cell_type": "code",
   "execution_count": 35,
   "outputs": [],
   "source": [
    "final_tab['recommend_score_content_norm'] = (final_tab['recommend_score_content'] - final_tab['recommend_score_content'].min()) / (final_tab['recommend_score_content'].max() - final_tab['recommend_score_content'].min())\n",
    "\n",
    "final_tab['recommend_score_collab_norm'] = (final_tab['recommend_score_collab'] - final_tab['recommend_score_collab'].min()) / (final_tab['recommend_score_collab'].max() - final_tab['recommend_score_collab'].min())\n",
    "\n"
   ],
   "metadata": {
    "collapsed": false,
    "ExecuteTime": {
     "end_time": "2024-05-02T08:16:04.605270300Z",
     "start_time": "2024-05-02T08:16:04.597840400Z"
    }
   },
   "id": "b1888608c0e42123"
  },
  {
   "cell_type": "code",
   "execution_count": 36,
   "outputs": [
    {
     "data": {
      "text/plain": "       anime_id  recommend_score_content  recommend_score_collab  \\\n244         269                 0.333806                0.028739   \n114         136                 0.339100                0.014749   \n10           20                 0.337348                0.012610   \n13407     36215                 0.383702                0.000000   \n6822      12859                 0.383244                0.000000   \n...         ...                      ...                     ...   \n6342      10757                 0.263962                0.000000   \n9126      24575                 0.263962                0.000000   \n9125      24573                 0.263962                0.000000   \n6341      10756                 0.263962                0.000000   \n8951      23651                 0.263962                0.000000   \n\n       recommend_score_content_norm  recommend_score_collab_norm  total_score  \n244                        0.583297                     1.000000     1.583297  \n114                        0.627506                     0.513199     1.140705  \n10                         0.612879                     0.438800     1.051679  \n13407                      1.000000                     0.000000     1.000000  \n6822                       0.996171                     0.000000     0.996171  \n...                             ...                          ...          ...  \n6342                       0.000000                     0.000000     0.000000  \n9126                       0.000000                     0.000000     0.000000  \n9125                       0.000000                     0.000000     0.000000  \n6341                       0.000000                     0.000000     0.000000  \n8951                       0.000000                     0.000000     0.000000  \n\n[24902 rows x 6 columns]",
      "text/html": "<div>\n<style scoped>\n    .dataframe tbody tr th:only-of-type {\n        vertical-align: middle;\n    }\n\n    .dataframe tbody tr th {\n        vertical-align: top;\n    }\n\n    .dataframe thead th {\n        text-align: right;\n    }\n</style>\n<table border=\"1\" class=\"dataframe\">\n  <thead>\n    <tr style=\"text-align: right;\">\n      <th></th>\n      <th>anime_id</th>\n      <th>recommend_score_content</th>\n      <th>recommend_score_collab</th>\n      <th>recommend_score_content_norm</th>\n      <th>recommend_score_collab_norm</th>\n      <th>total_score</th>\n    </tr>\n  </thead>\n  <tbody>\n    <tr>\n      <th>244</th>\n      <td>269</td>\n      <td>0.333806</td>\n      <td>0.028739</td>\n      <td>0.583297</td>\n      <td>1.000000</td>\n      <td>1.583297</td>\n    </tr>\n    <tr>\n      <th>114</th>\n      <td>136</td>\n      <td>0.339100</td>\n      <td>0.014749</td>\n      <td>0.627506</td>\n      <td>0.513199</td>\n      <td>1.140705</td>\n    </tr>\n    <tr>\n      <th>10</th>\n      <td>20</td>\n      <td>0.337348</td>\n      <td>0.012610</td>\n      <td>0.612879</td>\n      <td>0.438800</td>\n      <td>1.051679</td>\n    </tr>\n    <tr>\n      <th>13407</th>\n      <td>36215</td>\n      <td>0.383702</td>\n      <td>0.000000</td>\n      <td>1.000000</td>\n      <td>0.000000</td>\n      <td>1.000000</td>\n    </tr>\n    <tr>\n      <th>6822</th>\n      <td>12859</td>\n      <td>0.383244</td>\n      <td>0.000000</td>\n      <td>0.996171</td>\n      <td>0.000000</td>\n      <td>0.996171</td>\n    </tr>\n    <tr>\n      <th>...</th>\n      <td>...</td>\n      <td>...</td>\n      <td>...</td>\n      <td>...</td>\n      <td>...</td>\n      <td>...</td>\n    </tr>\n    <tr>\n      <th>6342</th>\n      <td>10757</td>\n      <td>0.263962</td>\n      <td>0.000000</td>\n      <td>0.000000</td>\n      <td>0.000000</td>\n      <td>0.000000</td>\n    </tr>\n    <tr>\n      <th>9126</th>\n      <td>24575</td>\n      <td>0.263962</td>\n      <td>0.000000</td>\n      <td>0.000000</td>\n      <td>0.000000</td>\n      <td>0.000000</td>\n    </tr>\n    <tr>\n      <th>9125</th>\n      <td>24573</td>\n      <td>0.263962</td>\n      <td>0.000000</td>\n      <td>0.000000</td>\n      <td>0.000000</td>\n      <td>0.000000</td>\n    </tr>\n    <tr>\n      <th>6341</th>\n      <td>10756</td>\n      <td>0.263962</td>\n      <td>0.000000</td>\n      <td>0.000000</td>\n      <td>0.000000</td>\n      <td>0.000000</td>\n    </tr>\n    <tr>\n      <th>8951</th>\n      <td>23651</td>\n      <td>0.263962</td>\n      <td>0.000000</td>\n      <td>0.000000</td>\n      <td>0.000000</td>\n      <td>0.000000</td>\n    </tr>\n  </tbody>\n</table>\n<p>24902 rows × 6 columns</p>\n</div>"
     },
     "execution_count": 36,
     "metadata": {},
     "output_type": "execute_result"
    }
   ],
   "source": [
    "final_tab['total_score'] = final_tab['recommend_score_content_norm'] + final_tab['recommend_score_collab_norm']\n",
    "final_tab.sort_values(by='total_score', ascending=False)"
   ],
   "metadata": {
    "collapsed": false,
    "ExecuteTime": {
     "end_time": "2024-05-02T08:16:19.118959400Z",
     "start_time": "2024-05-02T08:16:19.105264Z"
    }
   },
   "id": "554a751fedc04810"
  },
  {
   "cell_type": "code",
   "execution_count": 37,
   "outputs": [
    {
     "data": {
      "text/plain": "    anime_id  recommend_score\n40       269         0.028739\n54       790         0.016686\n20       136         0.014749\n5         20         0.012610\n72      1735         0.006699",
      "text/html": "<div>\n<style scoped>\n    .dataframe tbody tr th:only-of-type {\n        vertical-align: middle;\n    }\n\n    .dataframe tbody tr th {\n        vertical-align: top;\n    }\n\n    .dataframe thead th {\n        text-align: right;\n    }\n</style>\n<table border=\"1\" class=\"dataframe\">\n  <thead>\n    <tr style=\"text-align: right;\">\n      <th></th>\n      <th>anime_id</th>\n      <th>recommend_score</th>\n    </tr>\n  </thead>\n  <tbody>\n    <tr>\n      <th>40</th>\n      <td>269</td>\n      <td>0.028739</td>\n    </tr>\n    <tr>\n      <th>54</th>\n      <td>790</td>\n      <td>0.016686</td>\n    </tr>\n    <tr>\n      <th>20</th>\n      <td>136</td>\n      <td>0.014749</td>\n    </tr>\n    <tr>\n      <th>5</th>\n      <td>20</td>\n      <td>0.012610</td>\n    </tr>\n    <tr>\n      <th>72</th>\n      <td>1735</td>\n      <td>0.006699</td>\n    </tr>\n  </tbody>\n</table>\n</div>"
     },
     "execution_count": 37,
     "metadata": {},
     "output_type": "execute_result"
    }
   ],
   "source": [
    "collab_tab"
   ],
   "metadata": {
    "collapsed": false,
    "ExecuteTime": {
     "end_time": "2024-05-02T08:17:39.609795800Z",
     "start_time": "2024-05-02T08:17:39.579416500Z"
    }
   },
   "id": "fe4de1a7d248b187"
  },
  {
   "cell_type": "code",
   "execution_count": null,
   "outputs": [],
   "source": [],
   "metadata": {
    "collapsed": false
   },
   "id": "57c0120d0da22843"
  }
 ],
 "metadata": {
  "kernelspec": {
   "display_name": "Python 3",
   "language": "python",
   "name": "python3"
  },
  "language_info": {
   "codemirror_mode": {
    "name": "ipython",
    "version": 2
   },
   "file_extension": ".py",
   "mimetype": "text/x-python",
   "name": "python",
   "nbconvert_exporter": "python",
   "pygments_lexer": "ipython2",
   "version": "2.7.6"
  }
 },
 "nbformat": 4,
 "nbformat_minor": 5
}
