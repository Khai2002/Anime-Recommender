{
 "cells": [
  {
   "cell_type": "code",
   "execution_count": 1,
   "id": "initial_id",
   "metadata": {
    "collapsed": true,
    "ExecuteTime": {
     "end_time": "2024-02-26T21:04:26.810972Z",
     "start_time": "2024-02-26T21:04:24.331451600Z"
    }
   },
   "outputs": [],
   "source": [
    "import numpy as np\n",
    "import pandas as pd"
   ]
  },
  {
   "cell_type": "code",
   "execution_count": 29,
   "outputs": [],
   "source": [
    "anime = pd.read_parquet('anime/anime.parquet')"
   ],
   "metadata": {
    "collapsed": false,
    "ExecuteTime": {
     "end_time": "2024-02-26T21:17:27.146047500Z",
     "start_time": "2024-02-26T21:17:27.068306100Z"
    }
   },
   "id": "c45730dcff21e113"
  },
  {
   "cell_type": "code",
   "execution_count": 30,
   "outputs": [
    {
     "data": {
      "text/plain": "   anime_id                             Name  Score  \\\n0         1                     Cowboy Bebop   8.75   \n1         5  Cowboy Bebop: Tengoku no Tobira   8.38   \n2         6                           Trigun   8.22   \n3         7               Witch Hunter Robin   7.25   \n4         8                   Bouken Ou Beet   6.94   \n\n                                 Genres   Type Episodes  \\\n0         Action, Award Winning, Sci-Fi     TV     26.0   \n1                        Action, Sci-Fi  Movie      1.0   \n2             Action, Adventure, Sci-Fi     TV     26.0   \n3  Action, Drama, Mystery, Supernatural     TV     26.0   \n4      Adventure, Fantasy, Supernatural     TV     52.0   \n\n                          Aired    Premiered           Status         Studios  \\\n0   Apr 3, 1998 to Apr 24, 1999  spring 1998  Finished Airing         Sunrise   \n1                   Sep 1, 2001      UNKNOWN  Finished Airing           Bones   \n2   Apr 1, 1998 to Sep 30, 1998  spring 1998  Finished Airing        Madhouse   \n3   Jul 3, 2002 to Dec 25, 2002  summer 2002  Finished Airing         Sunrise   \n4  Sep 30, 2004 to Sep 29, 2005    fall 2004  Finished Airing  Toei Animation   \n\n     Source       Duration                          Rating    Rank  \\\n0  Original  24 min per ep  R - 17+ (violence & profanity)    41.0   \n1  Original    1 hr 55 min  R - 17+ (violence & profanity)   189.0   \n2     Manga  24 min per ep       PG-13 - Teens 13 or older   328.0   \n3  Original  25 min per ep       PG-13 - Teens 13 or older  2764.0   \n4     Manga  23 min per ep                   PG - Children  4240.0   \n\n   Popularity  Favorites  Scored By  Members  \\\n0          43      78525   914193.0  1771505   \n1         602       1448   206248.0   360978   \n2         246      15035   356739.0   727252   \n3        1795        613    42829.0   111931   \n4        5126         14     6413.0    15001   \n\n                                           Image URL  \n0  https://cdn.myanimelist.net/images/anime/4/196...  \n1  https://cdn.myanimelist.net/images/anime/1439/...  \n2  https://cdn.myanimelist.net/images/anime/7/203...  \n3  https://cdn.myanimelist.net/images/anime/10/19...  \n4  https://cdn.myanimelist.net/images/anime/7/215...  ",
      "text/html": "<div>\n<style scoped>\n    .dataframe tbody tr th:only-of-type {\n        vertical-align: middle;\n    }\n\n    .dataframe tbody tr th {\n        vertical-align: top;\n    }\n\n    .dataframe thead th {\n        text-align: right;\n    }\n</style>\n<table border=\"1\" class=\"dataframe\">\n  <thead>\n    <tr style=\"text-align: right;\">\n      <th></th>\n      <th>anime_id</th>\n      <th>Name</th>\n      <th>Score</th>\n      <th>Genres</th>\n      <th>Type</th>\n      <th>Episodes</th>\n      <th>Aired</th>\n      <th>Premiered</th>\n      <th>Status</th>\n      <th>Studios</th>\n      <th>Source</th>\n      <th>Duration</th>\n      <th>Rating</th>\n      <th>Rank</th>\n      <th>Popularity</th>\n      <th>Favorites</th>\n      <th>Scored By</th>\n      <th>Members</th>\n      <th>Image URL</th>\n    </tr>\n  </thead>\n  <tbody>\n    <tr>\n      <th>0</th>\n      <td>1</td>\n      <td>Cowboy Bebop</td>\n      <td>8.75</td>\n      <td>Action, Award Winning, Sci-Fi</td>\n      <td>TV</td>\n      <td>26.0</td>\n      <td>Apr 3, 1998 to Apr 24, 1999</td>\n      <td>spring 1998</td>\n      <td>Finished Airing</td>\n      <td>Sunrise</td>\n      <td>Original</td>\n      <td>24 min per ep</td>\n      <td>R - 17+ (violence &amp; profanity)</td>\n      <td>41.0</td>\n      <td>43</td>\n      <td>78525</td>\n      <td>914193.0</td>\n      <td>1771505</td>\n      <td>https://cdn.myanimelist.net/images/anime/4/196...</td>\n    </tr>\n    <tr>\n      <th>1</th>\n      <td>5</td>\n      <td>Cowboy Bebop: Tengoku no Tobira</td>\n      <td>8.38</td>\n      <td>Action, Sci-Fi</td>\n      <td>Movie</td>\n      <td>1.0</td>\n      <td>Sep 1, 2001</td>\n      <td>UNKNOWN</td>\n      <td>Finished Airing</td>\n      <td>Bones</td>\n      <td>Original</td>\n      <td>1 hr 55 min</td>\n      <td>R - 17+ (violence &amp; profanity)</td>\n      <td>189.0</td>\n      <td>602</td>\n      <td>1448</td>\n      <td>206248.0</td>\n      <td>360978</td>\n      <td>https://cdn.myanimelist.net/images/anime/1439/...</td>\n    </tr>\n    <tr>\n      <th>2</th>\n      <td>6</td>\n      <td>Trigun</td>\n      <td>8.22</td>\n      <td>Action, Adventure, Sci-Fi</td>\n      <td>TV</td>\n      <td>26.0</td>\n      <td>Apr 1, 1998 to Sep 30, 1998</td>\n      <td>spring 1998</td>\n      <td>Finished Airing</td>\n      <td>Madhouse</td>\n      <td>Manga</td>\n      <td>24 min per ep</td>\n      <td>PG-13 - Teens 13 or older</td>\n      <td>328.0</td>\n      <td>246</td>\n      <td>15035</td>\n      <td>356739.0</td>\n      <td>727252</td>\n      <td>https://cdn.myanimelist.net/images/anime/7/203...</td>\n    </tr>\n    <tr>\n      <th>3</th>\n      <td>7</td>\n      <td>Witch Hunter Robin</td>\n      <td>7.25</td>\n      <td>Action, Drama, Mystery, Supernatural</td>\n      <td>TV</td>\n      <td>26.0</td>\n      <td>Jul 3, 2002 to Dec 25, 2002</td>\n      <td>summer 2002</td>\n      <td>Finished Airing</td>\n      <td>Sunrise</td>\n      <td>Original</td>\n      <td>25 min per ep</td>\n      <td>PG-13 - Teens 13 or older</td>\n      <td>2764.0</td>\n      <td>1795</td>\n      <td>613</td>\n      <td>42829.0</td>\n      <td>111931</td>\n      <td>https://cdn.myanimelist.net/images/anime/10/19...</td>\n    </tr>\n    <tr>\n      <th>4</th>\n      <td>8</td>\n      <td>Bouken Ou Beet</td>\n      <td>6.94</td>\n      <td>Adventure, Fantasy, Supernatural</td>\n      <td>TV</td>\n      <td>52.0</td>\n      <td>Sep 30, 2004 to Sep 29, 2005</td>\n      <td>fall 2004</td>\n      <td>Finished Airing</td>\n      <td>Toei Animation</td>\n      <td>Manga</td>\n      <td>23 min per ep</td>\n      <td>PG - Children</td>\n      <td>4240.0</td>\n      <td>5126</td>\n      <td>14</td>\n      <td>6413.0</td>\n      <td>15001</td>\n      <td>https://cdn.myanimelist.net/images/anime/7/215...</td>\n    </tr>\n  </tbody>\n</table>\n</div>"
     },
     "execution_count": 30,
     "metadata": {},
     "output_type": "execute_result"
    }
   ],
   "source": [
    "anime.head()"
   ],
   "metadata": {
    "collapsed": false,
    "ExecuteTime": {
     "end_time": "2024-02-26T21:17:27.307838800Z",
     "start_time": "2024-02-26T21:17:27.264002500Z"
    }
   },
   "id": "fbce59bb9c5ac116"
  },
  {
   "cell_type": "code",
   "execution_count": 33,
   "outputs": [],
   "source": [
    "# Modify names for better search efficiency\n",
    "added_column = 'mod_name'\n",
    "if added_column not in anime.columns:\n",
    "    anime.insert(2, added_column, None)\n",
    "anime['mod_name'] = anime['Name'].str.replace(\"[^a-zA-Z0-9 ]\", \"\", regex=True)\n",
    "anime['mod_name'] = anime['mod_name'].str.lower()\n",
    "anime['mod_name'] = anime['mod_name'].str.replace(\"\\s+\", \" \", regex=True)\n",
    "anime = anime[anime['mod_name'].str.len() > 0]\n"
   ],
   "metadata": {
    "collapsed": false,
    "ExecuteTime": {
     "end_time": "2024-02-26T21:18:53.789703200Z",
     "start_time": "2024-02-26T21:18:53.665685500Z"
    }
   },
   "id": "1e605b89315a9ff5"
  },
  {
   "cell_type": "code",
   "execution_count": 34,
   "outputs": [
    {
     "data": {
      "text/plain": "       anime_id                             Name  \\\n0             1                     Cowboy Bebop   \n1             5  Cowboy Bebop: Tengoku no Tobira   \n2             6                           Trigun   \n3             7               Witch Hunter Robin   \n4             8                   Bouken Ou Beet   \n...         ...                              ...   \n24900     55731                      Wu Nao Monu   \n24901     55732              Bu Xing Si: Yuan Qi   \n24902     55733                      Di Yi Xulie   \n24903     55734         Bokura no Saishuu Sensou   \n24904     55735                   Shijuuku Nichi   \n\n                             mod_name  Score  \\\n0                        cowboy bebop   8.75   \n1      cowboy bebop tengoku no tobira   8.38   \n2                              trigun   8.22   \n3                  witch hunter robin   7.25   \n4                      bouken ou beet   6.94   \n...                               ...    ...   \n24900                     wu nao monu   0.00   \n24901              bu xing si yuan qi   0.00   \n24902                     di yi xulie   0.00   \n24903        bokura no saishuu sensou   0.00   \n24904                  shijuuku nichi   0.00   \n\n                                     Genres   Type Episodes  \\\n0             Action, Award Winning, Sci-Fi     TV     26.0   \n1                            Action, Sci-Fi  Movie      1.0   \n2                 Action, Adventure, Sci-Fi     TV     26.0   \n3      Action, Drama, Mystery, Supernatural     TV     26.0   \n4          Adventure, Fantasy, Supernatural     TV     52.0   \n...                                     ...    ...      ...   \n24900        Comedy, Fantasy, Slice of Life    ONA     15.0   \n24901            Action, Adventure, Fantasy    ONA     18.0   \n24902    Action, Adventure, Fantasy, Sci-Fi    ONA     16.0   \n24903                               UNKNOWN  Music      1.0   \n24904                               UNKNOWN  Music      1.0   \n\n                              Aired    Premiered           Status  \\\n0       Apr 3, 1998 to Apr 24, 1999  spring 1998  Finished Airing   \n1                       Sep 1, 2001      UNKNOWN  Finished Airing   \n2       Apr 1, 1998 to Sep 30, 1998  spring 1998  Finished Airing   \n3       Jul 3, 2002 to Dec 25, 2002  summer 2002  Finished Airing   \n4      Sep 30, 2004 to Sep 29, 2005    fall 2004  Finished Airing   \n...                             ...          ...              ...   \n24900              Jul 4, 2023 to ?      UNKNOWN    Not yet aired   \n24901             Jul 27, 2023 to ?      UNKNOWN    Not yet aired   \n24902             Jul 19, 2023 to ?      UNKNOWN  Finished Airing   \n24903                  Apr 23, 2022      UNKNOWN  Finished Airing   \n24904                   Sep 5, 2022      UNKNOWN  Finished Airing   \n\n              Studios     Source       Duration  \\\n0             Sunrise   Original  24 min per ep   \n1               Bones   Original    1 hr 55 min   \n2            Madhouse      Manga  24 min per ep   \n3             Sunrise   Original  25 min per ep   \n4      Toei Animation      Manga  23 min per ep   \n...               ...        ...            ...   \n24900         UNKNOWN  Web manga        Unknown   \n24901         UNKNOWN  Web novel        Unknown   \n24902         UNKNOWN  Web novel        Unknown   \n24903         UNKNOWN   Original          3 min   \n24904         UNKNOWN   Original          3 min   \n\n                               Rating    Rank  Popularity  Favorites  \\\n0      R - 17+ (violence & profanity)    41.0          43      78525   \n1      R - 17+ (violence & profanity)   189.0         602       1448   \n2           PG-13 - Teens 13 or older   328.0         246      15035   \n3           PG-13 - Teens 13 or older  2764.0        1795        613   \n4                       PG - Children  4240.0        5126         14   \n...                               ...     ...         ...        ...   \n24900       PG-13 - Teens 13 or older     NaN       24723          0   \n24901       PG-13 - Teens 13 or older     0.0           0          0   \n24902       PG-13 - Teens 13 or older     0.0           0          0   \n24903       PG-13 - Teens 13 or older     0.0           0          0   \n24904       PG-13 - Teens 13 or older     0.0           0          0   \n\n       Scored By  Members                                          Image URL  \n0       914193.0  1771505  https://cdn.myanimelist.net/images/anime/4/196...  \n1       206248.0   360978  https://cdn.myanimelist.net/images/anime/1439/...  \n2       356739.0   727252  https://cdn.myanimelist.net/images/anime/7/203...  \n3        42829.0   111931  https://cdn.myanimelist.net/images/anime/10/19...  \n4         6413.0    15001  https://cdn.myanimelist.net/images/anime/7/215...  \n...          ...      ...                                                ...  \n24900        NaN        0  https://cdn.myanimelist.net/images/anime/1386/...  \n24901        NaN        0  https://cdn.myanimelist.net/images/anime/1383/...  \n24902        NaN        0  https://cdn.myanimelist.net/images/anime/1130/...  \n24903        NaN        0  https://cdn.myanimelist.net/images/anime/1931/...  \n24904        NaN        0  https://cdn.myanimelist.net/images/anime/1902/...  \n\n[24903 rows x 20 columns]",
      "text/html": "<div>\n<style scoped>\n    .dataframe tbody tr th:only-of-type {\n        vertical-align: middle;\n    }\n\n    .dataframe tbody tr th {\n        vertical-align: top;\n    }\n\n    .dataframe thead th {\n        text-align: right;\n    }\n</style>\n<table border=\"1\" class=\"dataframe\">\n  <thead>\n    <tr style=\"text-align: right;\">\n      <th></th>\n      <th>anime_id</th>\n      <th>Name</th>\n      <th>mod_name</th>\n      <th>Score</th>\n      <th>Genres</th>\n      <th>Type</th>\n      <th>Episodes</th>\n      <th>Aired</th>\n      <th>Premiered</th>\n      <th>Status</th>\n      <th>Studios</th>\n      <th>Source</th>\n      <th>Duration</th>\n      <th>Rating</th>\n      <th>Rank</th>\n      <th>Popularity</th>\n      <th>Favorites</th>\n      <th>Scored By</th>\n      <th>Members</th>\n      <th>Image URL</th>\n    </tr>\n  </thead>\n  <tbody>\n    <tr>\n      <th>0</th>\n      <td>1</td>\n      <td>Cowboy Bebop</td>\n      <td>cowboy bebop</td>\n      <td>8.75</td>\n      <td>Action, Award Winning, Sci-Fi</td>\n      <td>TV</td>\n      <td>26.0</td>\n      <td>Apr 3, 1998 to Apr 24, 1999</td>\n      <td>spring 1998</td>\n      <td>Finished Airing</td>\n      <td>Sunrise</td>\n      <td>Original</td>\n      <td>24 min per ep</td>\n      <td>R - 17+ (violence &amp; profanity)</td>\n      <td>41.0</td>\n      <td>43</td>\n      <td>78525</td>\n      <td>914193.0</td>\n      <td>1771505</td>\n      <td>https://cdn.myanimelist.net/images/anime/4/196...</td>\n    </tr>\n    <tr>\n      <th>1</th>\n      <td>5</td>\n      <td>Cowboy Bebop: Tengoku no Tobira</td>\n      <td>cowboy bebop tengoku no tobira</td>\n      <td>8.38</td>\n      <td>Action, Sci-Fi</td>\n      <td>Movie</td>\n      <td>1.0</td>\n      <td>Sep 1, 2001</td>\n      <td>UNKNOWN</td>\n      <td>Finished Airing</td>\n      <td>Bones</td>\n      <td>Original</td>\n      <td>1 hr 55 min</td>\n      <td>R - 17+ (violence &amp; profanity)</td>\n      <td>189.0</td>\n      <td>602</td>\n      <td>1448</td>\n      <td>206248.0</td>\n      <td>360978</td>\n      <td>https://cdn.myanimelist.net/images/anime/1439/...</td>\n    </tr>\n    <tr>\n      <th>2</th>\n      <td>6</td>\n      <td>Trigun</td>\n      <td>trigun</td>\n      <td>8.22</td>\n      <td>Action, Adventure, Sci-Fi</td>\n      <td>TV</td>\n      <td>26.0</td>\n      <td>Apr 1, 1998 to Sep 30, 1998</td>\n      <td>spring 1998</td>\n      <td>Finished Airing</td>\n      <td>Madhouse</td>\n      <td>Manga</td>\n      <td>24 min per ep</td>\n      <td>PG-13 - Teens 13 or older</td>\n      <td>328.0</td>\n      <td>246</td>\n      <td>15035</td>\n      <td>356739.0</td>\n      <td>727252</td>\n      <td>https://cdn.myanimelist.net/images/anime/7/203...</td>\n    </tr>\n    <tr>\n      <th>3</th>\n      <td>7</td>\n      <td>Witch Hunter Robin</td>\n      <td>witch hunter robin</td>\n      <td>7.25</td>\n      <td>Action, Drama, Mystery, Supernatural</td>\n      <td>TV</td>\n      <td>26.0</td>\n      <td>Jul 3, 2002 to Dec 25, 2002</td>\n      <td>summer 2002</td>\n      <td>Finished Airing</td>\n      <td>Sunrise</td>\n      <td>Original</td>\n      <td>25 min per ep</td>\n      <td>PG-13 - Teens 13 or older</td>\n      <td>2764.0</td>\n      <td>1795</td>\n      <td>613</td>\n      <td>42829.0</td>\n      <td>111931</td>\n      <td>https://cdn.myanimelist.net/images/anime/10/19...</td>\n    </tr>\n    <tr>\n      <th>4</th>\n      <td>8</td>\n      <td>Bouken Ou Beet</td>\n      <td>bouken ou beet</td>\n      <td>6.94</td>\n      <td>Adventure, Fantasy, Supernatural</td>\n      <td>TV</td>\n      <td>52.0</td>\n      <td>Sep 30, 2004 to Sep 29, 2005</td>\n      <td>fall 2004</td>\n      <td>Finished Airing</td>\n      <td>Toei Animation</td>\n      <td>Manga</td>\n      <td>23 min per ep</td>\n      <td>PG - Children</td>\n      <td>4240.0</td>\n      <td>5126</td>\n      <td>14</td>\n      <td>6413.0</td>\n      <td>15001</td>\n      <td>https://cdn.myanimelist.net/images/anime/7/215...</td>\n    </tr>\n    <tr>\n      <th>...</th>\n      <td>...</td>\n      <td>...</td>\n      <td>...</td>\n      <td>...</td>\n      <td>...</td>\n      <td>...</td>\n      <td>...</td>\n      <td>...</td>\n      <td>...</td>\n      <td>...</td>\n      <td>...</td>\n      <td>...</td>\n      <td>...</td>\n      <td>...</td>\n      <td>...</td>\n      <td>...</td>\n      <td>...</td>\n      <td>...</td>\n      <td>...</td>\n      <td>...</td>\n    </tr>\n    <tr>\n      <th>24900</th>\n      <td>55731</td>\n      <td>Wu Nao Monu</td>\n      <td>wu nao monu</td>\n      <td>0.00</td>\n      <td>Comedy, Fantasy, Slice of Life</td>\n      <td>ONA</td>\n      <td>15.0</td>\n      <td>Jul 4, 2023 to ?</td>\n      <td>UNKNOWN</td>\n      <td>Not yet aired</td>\n      <td>UNKNOWN</td>\n      <td>Web manga</td>\n      <td>Unknown</td>\n      <td>PG-13 - Teens 13 or older</td>\n      <td>NaN</td>\n      <td>24723</td>\n      <td>0</td>\n      <td>NaN</td>\n      <td>0</td>\n      <td>https://cdn.myanimelist.net/images/anime/1386/...</td>\n    </tr>\n    <tr>\n      <th>24901</th>\n      <td>55732</td>\n      <td>Bu Xing Si: Yuan Qi</td>\n      <td>bu xing si yuan qi</td>\n      <td>0.00</td>\n      <td>Action, Adventure, Fantasy</td>\n      <td>ONA</td>\n      <td>18.0</td>\n      <td>Jul 27, 2023 to ?</td>\n      <td>UNKNOWN</td>\n      <td>Not yet aired</td>\n      <td>UNKNOWN</td>\n      <td>Web novel</td>\n      <td>Unknown</td>\n      <td>PG-13 - Teens 13 or older</td>\n      <td>0.0</td>\n      <td>0</td>\n      <td>0</td>\n      <td>NaN</td>\n      <td>0</td>\n      <td>https://cdn.myanimelist.net/images/anime/1383/...</td>\n    </tr>\n    <tr>\n      <th>24902</th>\n      <td>55733</td>\n      <td>Di Yi Xulie</td>\n      <td>di yi xulie</td>\n      <td>0.00</td>\n      <td>Action, Adventure, Fantasy, Sci-Fi</td>\n      <td>ONA</td>\n      <td>16.0</td>\n      <td>Jul 19, 2023 to ?</td>\n      <td>UNKNOWN</td>\n      <td>Finished Airing</td>\n      <td>UNKNOWN</td>\n      <td>Web novel</td>\n      <td>Unknown</td>\n      <td>PG-13 - Teens 13 or older</td>\n      <td>0.0</td>\n      <td>0</td>\n      <td>0</td>\n      <td>NaN</td>\n      <td>0</td>\n      <td>https://cdn.myanimelist.net/images/anime/1130/...</td>\n    </tr>\n    <tr>\n      <th>24903</th>\n      <td>55734</td>\n      <td>Bokura no Saishuu Sensou</td>\n      <td>bokura no saishuu sensou</td>\n      <td>0.00</td>\n      <td>UNKNOWN</td>\n      <td>Music</td>\n      <td>1.0</td>\n      <td>Apr 23, 2022</td>\n      <td>UNKNOWN</td>\n      <td>Finished Airing</td>\n      <td>UNKNOWN</td>\n      <td>Original</td>\n      <td>3 min</td>\n      <td>PG-13 - Teens 13 or older</td>\n      <td>0.0</td>\n      <td>0</td>\n      <td>0</td>\n      <td>NaN</td>\n      <td>0</td>\n      <td>https://cdn.myanimelist.net/images/anime/1931/...</td>\n    </tr>\n    <tr>\n      <th>24904</th>\n      <td>55735</td>\n      <td>Shijuuku Nichi</td>\n      <td>shijuuku nichi</td>\n      <td>0.00</td>\n      <td>UNKNOWN</td>\n      <td>Music</td>\n      <td>1.0</td>\n      <td>Sep 5, 2022</td>\n      <td>UNKNOWN</td>\n      <td>Finished Airing</td>\n      <td>UNKNOWN</td>\n      <td>Original</td>\n      <td>3 min</td>\n      <td>PG-13 - Teens 13 or older</td>\n      <td>0.0</td>\n      <td>0</td>\n      <td>0</td>\n      <td>NaN</td>\n      <td>0</td>\n      <td>https://cdn.myanimelist.net/images/anime/1902/...</td>\n    </tr>\n  </tbody>\n</table>\n<p>24903 rows × 20 columns</p>\n</div>"
     },
     "execution_count": 34,
     "metadata": {},
     "output_type": "execute_result"
    }
   ],
   "source": [
    "anime"
   ],
   "metadata": {
    "collapsed": false,
    "ExecuteTime": {
     "end_time": "2024-02-26T21:18:54.966751700Z",
     "start_time": "2024-02-26T21:18:54.924932800Z"
    }
   },
   "id": "2e43af4999554aef"
  },
  {
   "cell_type": "code",
   "execution_count": 35,
   "outputs": [],
   "source": [
    "anime.to_parquet('anime/anime.parquet')"
   ],
   "metadata": {
    "collapsed": false,
    "ExecuteTime": {
     "end_time": "2024-02-26T21:19:29.687878300Z",
     "start_time": "2024-02-26T21:19:29.486419700Z"
    }
   },
   "id": "8cf58a45bb407b44"
  },
  {
   "cell_type": "code",
   "execution_count": 36,
   "outputs": [],
   "source": [
    "data = pd.read_parquet('anime/anime.parquet')"
   ],
   "metadata": {
    "collapsed": false,
    "ExecuteTime": {
     "end_time": "2024-02-26T21:19:40.562686400Z",
     "start_time": "2024-02-26T21:19:40.450440900Z"
    }
   },
   "id": "a9172bed41ea40e9"
  },
  {
   "cell_type": "code",
   "execution_count": 37,
   "outputs": [
    {
     "data": {
      "text/plain": "       anime_id                             Name  \\\n0             1                     Cowboy Bebop   \n1             5  Cowboy Bebop: Tengoku no Tobira   \n2             6                           Trigun   \n3             7               Witch Hunter Robin   \n4             8                   Bouken Ou Beet   \n...         ...                              ...   \n24900     55731                      Wu Nao Monu   \n24901     55732              Bu Xing Si: Yuan Qi   \n24902     55733                      Di Yi Xulie   \n24903     55734         Bokura no Saishuu Sensou   \n24904     55735                   Shijuuku Nichi   \n\n                             mod_name  Score  \\\n0                        cowboy bebop   8.75   \n1      cowboy bebop tengoku no tobira   8.38   \n2                              trigun   8.22   \n3                  witch hunter robin   7.25   \n4                      bouken ou beet   6.94   \n...                               ...    ...   \n24900                     wu nao monu   0.00   \n24901              bu xing si yuan qi   0.00   \n24902                     di yi xulie   0.00   \n24903        bokura no saishuu sensou   0.00   \n24904                  shijuuku nichi   0.00   \n\n                                     Genres   Type Episodes  \\\n0             Action, Award Winning, Sci-Fi     TV     26.0   \n1                            Action, Sci-Fi  Movie      1.0   \n2                 Action, Adventure, Sci-Fi     TV     26.0   \n3      Action, Drama, Mystery, Supernatural     TV     26.0   \n4          Adventure, Fantasy, Supernatural     TV     52.0   \n...                                     ...    ...      ...   \n24900        Comedy, Fantasy, Slice of Life    ONA     15.0   \n24901            Action, Adventure, Fantasy    ONA     18.0   \n24902    Action, Adventure, Fantasy, Sci-Fi    ONA     16.0   \n24903                               UNKNOWN  Music      1.0   \n24904                               UNKNOWN  Music      1.0   \n\n                              Aired    Premiered           Status  \\\n0       Apr 3, 1998 to Apr 24, 1999  spring 1998  Finished Airing   \n1                       Sep 1, 2001      UNKNOWN  Finished Airing   \n2       Apr 1, 1998 to Sep 30, 1998  spring 1998  Finished Airing   \n3       Jul 3, 2002 to Dec 25, 2002  summer 2002  Finished Airing   \n4      Sep 30, 2004 to Sep 29, 2005    fall 2004  Finished Airing   \n...                             ...          ...              ...   \n24900              Jul 4, 2023 to ?      UNKNOWN    Not yet aired   \n24901             Jul 27, 2023 to ?      UNKNOWN    Not yet aired   \n24902             Jul 19, 2023 to ?      UNKNOWN  Finished Airing   \n24903                  Apr 23, 2022      UNKNOWN  Finished Airing   \n24904                   Sep 5, 2022      UNKNOWN  Finished Airing   \n\n              Studios     Source       Duration  \\\n0             Sunrise   Original  24 min per ep   \n1               Bones   Original    1 hr 55 min   \n2            Madhouse      Manga  24 min per ep   \n3             Sunrise   Original  25 min per ep   \n4      Toei Animation      Manga  23 min per ep   \n...               ...        ...            ...   \n24900         UNKNOWN  Web manga        Unknown   \n24901         UNKNOWN  Web novel        Unknown   \n24902         UNKNOWN  Web novel        Unknown   \n24903         UNKNOWN   Original          3 min   \n24904         UNKNOWN   Original          3 min   \n\n                               Rating    Rank  Popularity  Favorites  \\\n0      R - 17+ (violence & profanity)    41.0          43      78525   \n1      R - 17+ (violence & profanity)   189.0         602       1448   \n2           PG-13 - Teens 13 or older   328.0         246      15035   \n3           PG-13 - Teens 13 or older  2764.0        1795        613   \n4                       PG - Children  4240.0        5126         14   \n...                               ...     ...         ...        ...   \n24900       PG-13 - Teens 13 or older     NaN       24723          0   \n24901       PG-13 - Teens 13 or older     0.0           0          0   \n24902       PG-13 - Teens 13 or older     0.0           0          0   \n24903       PG-13 - Teens 13 or older     0.0           0          0   \n24904       PG-13 - Teens 13 or older     0.0           0          0   \n\n       Scored By  Members                                          Image URL  \n0       914193.0  1771505  https://cdn.myanimelist.net/images/anime/4/196...  \n1       206248.0   360978  https://cdn.myanimelist.net/images/anime/1439/...  \n2       356739.0   727252  https://cdn.myanimelist.net/images/anime/7/203...  \n3        42829.0   111931  https://cdn.myanimelist.net/images/anime/10/19...  \n4         6413.0    15001  https://cdn.myanimelist.net/images/anime/7/215...  \n...          ...      ...                                                ...  \n24900        NaN        0  https://cdn.myanimelist.net/images/anime/1386/...  \n24901        NaN        0  https://cdn.myanimelist.net/images/anime/1383/...  \n24902        NaN        0  https://cdn.myanimelist.net/images/anime/1130/...  \n24903        NaN        0  https://cdn.myanimelist.net/images/anime/1931/...  \n24904        NaN        0  https://cdn.myanimelist.net/images/anime/1902/...  \n\n[24903 rows x 20 columns]",
      "text/html": "<div>\n<style scoped>\n    .dataframe tbody tr th:only-of-type {\n        vertical-align: middle;\n    }\n\n    .dataframe tbody tr th {\n        vertical-align: top;\n    }\n\n    .dataframe thead th {\n        text-align: right;\n    }\n</style>\n<table border=\"1\" class=\"dataframe\">\n  <thead>\n    <tr style=\"text-align: right;\">\n      <th></th>\n      <th>anime_id</th>\n      <th>Name</th>\n      <th>mod_name</th>\n      <th>Score</th>\n      <th>Genres</th>\n      <th>Type</th>\n      <th>Episodes</th>\n      <th>Aired</th>\n      <th>Premiered</th>\n      <th>Status</th>\n      <th>Studios</th>\n      <th>Source</th>\n      <th>Duration</th>\n      <th>Rating</th>\n      <th>Rank</th>\n      <th>Popularity</th>\n      <th>Favorites</th>\n      <th>Scored By</th>\n      <th>Members</th>\n      <th>Image URL</th>\n    </tr>\n  </thead>\n  <tbody>\n    <tr>\n      <th>0</th>\n      <td>1</td>\n      <td>Cowboy Bebop</td>\n      <td>cowboy bebop</td>\n      <td>8.75</td>\n      <td>Action, Award Winning, Sci-Fi</td>\n      <td>TV</td>\n      <td>26.0</td>\n      <td>Apr 3, 1998 to Apr 24, 1999</td>\n      <td>spring 1998</td>\n      <td>Finished Airing</td>\n      <td>Sunrise</td>\n      <td>Original</td>\n      <td>24 min per ep</td>\n      <td>R - 17+ (violence &amp; profanity)</td>\n      <td>41.0</td>\n      <td>43</td>\n      <td>78525</td>\n      <td>914193.0</td>\n      <td>1771505</td>\n      <td>https://cdn.myanimelist.net/images/anime/4/196...</td>\n    </tr>\n    <tr>\n      <th>1</th>\n      <td>5</td>\n      <td>Cowboy Bebop: Tengoku no Tobira</td>\n      <td>cowboy bebop tengoku no tobira</td>\n      <td>8.38</td>\n      <td>Action, Sci-Fi</td>\n      <td>Movie</td>\n      <td>1.0</td>\n      <td>Sep 1, 2001</td>\n      <td>UNKNOWN</td>\n      <td>Finished Airing</td>\n      <td>Bones</td>\n      <td>Original</td>\n      <td>1 hr 55 min</td>\n      <td>R - 17+ (violence &amp; profanity)</td>\n      <td>189.0</td>\n      <td>602</td>\n      <td>1448</td>\n      <td>206248.0</td>\n      <td>360978</td>\n      <td>https://cdn.myanimelist.net/images/anime/1439/...</td>\n    </tr>\n    <tr>\n      <th>2</th>\n      <td>6</td>\n      <td>Trigun</td>\n      <td>trigun</td>\n      <td>8.22</td>\n      <td>Action, Adventure, Sci-Fi</td>\n      <td>TV</td>\n      <td>26.0</td>\n      <td>Apr 1, 1998 to Sep 30, 1998</td>\n      <td>spring 1998</td>\n      <td>Finished Airing</td>\n      <td>Madhouse</td>\n      <td>Manga</td>\n      <td>24 min per ep</td>\n      <td>PG-13 - Teens 13 or older</td>\n      <td>328.0</td>\n      <td>246</td>\n      <td>15035</td>\n      <td>356739.0</td>\n      <td>727252</td>\n      <td>https://cdn.myanimelist.net/images/anime/7/203...</td>\n    </tr>\n    <tr>\n      <th>3</th>\n      <td>7</td>\n      <td>Witch Hunter Robin</td>\n      <td>witch hunter robin</td>\n      <td>7.25</td>\n      <td>Action, Drama, Mystery, Supernatural</td>\n      <td>TV</td>\n      <td>26.0</td>\n      <td>Jul 3, 2002 to Dec 25, 2002</td>\n      <td>summer 2002</td>\n      <td>Finished Airing</td>\n      <td>Sunrise</td>\n      <td>Original</td>\n      <td>25 min per ep</td>\n      <td>PG-13 - Teens 13 or older</td>\n      <td>2764.0</td>\n      <td>1795</td>\n      <td>613</td>\n      <td>42829.0</td>\n      <td>111931</td>\n      <td>https://cdn.myanimelist.net/images/anime/10/19...</td>\n    </tr>\n    <tr>\n      <th>4</th>\n      <td>8</td>\n      <td>Bouken Ou Beet</td>\n      <td>bouken ou beet</td>\n      <td>6.94</td>\n      <td>Adventure, Fantasy, Supernatural</td>\n      <td>TV</td>\n      <td>52.0</td>\n      <td>Sep 30, 2004 to Sep 29, 2005</td>\n      <td>fall 2004</td>\n      <td>Finished Airing</td>\n      <td>Toei Animation</td>\n      <td>Manga</td>\n      <td>23 min per ep</td>\n      <td>PG - Children</td>\n      <td>4240.0</td>\n      <td>5126</td>\n      <td>14</td>\n      <td>6413.0</td>\n      <td>15001</td>\n      <td>https://cdn.myanimelist.net/images/anime/7/215...</td>\n    </tr>\n    <tr>\n      <th>...</th>\n      <td>...</td>\n      <td>...</td>\n      <td>...</td>\n      <td>...</td>\n      <td>...</td>\n      <td>...</td>\n      <td>...</td>\n      <td>...</td>\n      <td>...</td>\n      <td>...</td>\n      <td>...</td>\n      <td>...</td>\n      <td>...</td>\n      <td>...</td>\n      <td>...</td>\n      <td>...</td>\n      <td>...</td>\n      <td>...</td>\n      <td>...</td>\n      <td>...</td>\n    </tr>\n    <tr>\n      <th>24900</th>\n      <td>55731</td>\n      <td>Wu Nao Monu</td>\n      <td>wu nao monu</td>\n      <td>0.00</td>\n      <td>Comedy, Fantasy, Slice of Life</td>\n      <td>ONA</td>\n      <td>15.0</td>\n      <td>Jul 4, 2023 to ?</td>\n      <td>UNKNOWN</td>\n      <td>Not yet aired</td>\n      <td>UNKNOWN</td>\n      <td>Web manga</td>\n      <td>Unknown</td>\n      <td>PG-13 - Teens 13 or older</td>\n      <td>NaN</td>\n      <td>24723</td>\n      <td>0</td>\n      <td>NaN</td>\n      <td>0</td>\n      <td>https://cdn.myanimelist.net/images/anime/1386/...</td>\n    </tr>\n    <tr>\n      <th>24901</th>\n      <td>55732</td>\n      <td>Bu Xing Si: Yuan Qi</td>\n      <td>bu xing si yuan qi</td>\n      <td>0.00</td>\n      <td>Action, Adventure, Fantasy</td>\n      <td>ONA</td>\n      <td>18.0</td>\n      <td>Jul 27, 2023 to ?</td>\n      <td>UNKNOWN</td>\n      <td>Not yet aired</td>\n      <td>UNKNOWN</td>\n      <td>Web novel</td>\n      <td>Unknown</td>\n      <td>PG-13 - Teens 13 or older</td>\n      <td>0.0</td>\n      <td>0</td>\n      <td>0</td>\n      <td>NaN</td>\n      <td>0</td>\n      <td>https://cdn.myanimelist.net/images/anime/1383/...</td>\n    </tr>\n    <tr>\n      <th>24902</th>\n      <td>55733</td>\n      <td>Di Yi Xulie</td>\n      <td>di yi xulie</td>\n      <td>0.00</td>\n      <td>Action, Adventure, Fantasy, Sci-Fi</td>\n      <td>ONA</td>\n      <td>16.0</td>\n      <td>Jul 19, 2023 to ?</td>\n      <td>UNKNOWN</td>\n      <td>Finished Airing</td>\n      <td>UNKNOWN</td>\n      <td>Web novel</td>\n      <td>Unknown</td>\n      <td>PG-13 - Teens 13 or older</td>\n      <td>0.0</td>\n      <td>0</td>\n      <td>0</td>\n      <td>NaN</td>\n      <td>0</td>\n      <td>https://cdn.myanimelist.net/images/anime/1130/...</td>\n    </tr>\n    <tr>\n      <th>24903</th>\n      <td>55734</td>\n      <td>Bokura no Saishuu Sensou</td>\n      <td>bokura no saishuu sensou</td>\n      <td>0.00</td>\n      <td>UNKNOWN</td>\n      <td>Music</td>\n      <td>1.0</td>\n      <td>Apr 23, 2022</td>\n      <td>UNKNOWN</td>\n      <td>Finished Airing</td>\n      <td>UNKNOWN</td>\n      <td>Original</td>\n      <td>3 min</td>\n      <td>PG-13 - Teens 13 or older</td>\n      <td>0.0</td>\n      <td>0</td>\n      <td>0</td>\n      <td>NaN</td>\n      <td>0</td>\n      <td>https://cdn.myanimelist.net/images/anime/1931/...</td>\n    </tr>\n    <tr>\n      <th>24904</th>\n      <td>55735</td>\n      <td>Shijuuku Nichi</td>\n      <td>shijuuku nichi</td>\n      <td>0.00</td>\n      <td>UNKNOWN</td>\n      <td>Music</td>\n      <td>1.0</td>\n      <td>Sep 5, 2022</td>\n      <td>UNKNOWN</td>\n      <td>Finished Airing</td>\n      <td>UNKNOWN</td>\n      <td>Original</td>\n      <td>3 min</td>\n      <td>PG-13 - Teens 13 or older</td>\n      <td>0.0</td>\n      <td>0</td>\n      <td>0</td>\n      <td>NaN</td>\n      <td>0</td>\n      <td>https://cdn.myanimelist.net/images/anime/1902/...</td>\n    </tr>\n  </tbody>\n</table>\n<p>24903 rows × 20 columns</p>\n</div>"
     },
     "execution_count": 37,
     "metadata": {},
     "output_type": "execute_result"
    }
   ],
   "source": [],
   "metadata": {
    "collapsed": false,
    "ExecuteTime": {
     "end_time": "2024-02-26T21:19:41.937466100Z",
     "start_time": "2024-02-26T21:19:41.889826200Z"
    }
   },
   "id": "e24a7c20e2678755"
  },
  {
   "cell_type": "code",
   "execution_count": null,
   "outputs": [],
   "source": [],
   "metadata": {
    "collapsed": false
   },
   "id": "a70bbc656de8f89c"
  }
 ],
 "metadata": {
  "kernelspec": {
   "display_name": "Python 3",
   "language": "python",
   "name": "python3"
  },
  "language_info": {
   "codemirror_mode": {
    "name": "ipython",
    "version": 2
   },
   "file_extension": ".py",
   "mimetype": "text/x-python",
   "name": "python",
   "nbconvert_exporter": "python",
   "pygments_lexer": "ipython2",
   "version": "2.7.6"
  }
 },
 "nbformat": 4,
 "nbformat_minor": 5
}
