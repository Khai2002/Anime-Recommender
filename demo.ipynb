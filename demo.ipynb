{
 "cells": [
  {
   "cell_type": "code",
   "execution_count": 3,
   "id": "initial_id",
   "metadata": {
    "collapsed": true,
    "ExecuteTime": {
     "end_time": "2024-04-12T07:24:52.653527500Z",
     "start_time": "2024-04-12T07:24:52.589819300Z"
    }
   },
   "outputs": [],
   "source": [
    "import numpy as np\n",
    "import pandas as pd"
   ]
  },
  {
   "cell_type": "code",
   "execution_count": 4,
   "outputs": [],
   "source": [
    "anime = pd.read_parquet('anime/anime.parquet')"
   ],
   "metadata": {
    "collapsed": false,
    "ExecuteTime": {
     "end_time": "2024-04-12T07:24:52.717856400Z",
     "start_time": "2024-04-12T07:24:52.597365900Z"
    }
   },
   "id": "c45730dcff21e113"
  },
  {
   "cell_type": "code",
   "execution_count": 5,
   "outputs": [
    {
     "data": {
      "text/plain": "   anime_id                             Name             English name  \\\n0         1                     Cowboy Bebop             Cowboy Bebop   \n1         5  Cowboy Bebop: Tengoku no Tobira  Cowboy Bebop: The Movie   \n2         6                           Trigun                   Trigun   \n3         7               Witch Hunter Robin       Witch Hunter Robin   \n4         8                   Bouken Ou Beet   Beet the Vandel Buster   \n\n                         Other name  Score  \\\n0                         カウボーイビバップ   8.75   \n1                    カウボーイビバップ 天国の扉   8.38   \n2                             トライガン   8.22   \n3  Witch Hunter ROBIN (ウイッチハンターロビン)   7.25   \n4                            冒険王ビィト   6.94   \n\n                                 Genres  \\\n0         Action, Award Winning, Sci-Fi   \n1                        Action, Sci-Fi   \n2             Action, Adventure, Sci-Fi   \n3  Action, Drama, Mystery, Supernatural   \n4      Adventure, Fantasy, Supernatural   \n\n                                            Synopsis   Type Episodes  \\\n0  Crime is timeless. By the year 2071, humanity ...     TV     26.0   \n1  Another day, another bounty—such is the life o...  Movie      1.0   \n2  Vash the Stampede is the man with a $$60,000,0...     TV     26.0   \n3  Robin Sena is a powerful craft user drafted in...     TV     26.0   \n4  It is the dark century and the people are suff...     TV     52.0   \n\n                          Aired  ...    Source       Duration  \\\n0   Apr 3, 1998 to Apr 24, 1999  ...  Original  24 min per ep   \n1                   Sep 1, 2001  ...  Original    1 hr 55 min   \n2   Apr 1, 1998 to Sep 30, 1998  ...     Manga  24 min per ep   \n3   Jul 3, 2002 to Dec 25, 2002  ...  Original  25 min per ep   \n4  Sep 30, 2004 to Sep 29, 2005  ...     Manga  23 min per ep   \n\n                           Rating    Rank Popularity Favorites Scored By  \\\n0  R - 17+ (violence & profanity)    41.0         43     78525    914193   \n1  R - 17+ (violence & profanity)   189.0        602      1448    206248   \n2       PG-13 - Teens 13 or older   328.0        246     15035    356739   \n3       PG-13 - Teens 13 or older  2764.0       1795       613     42829   \n4                   PG - Children  4240.0       5126        14      6413   \n\n   Members                                          Image URL  \\\n0  1771505  https://cdn.myanimelist.net/images/anime/4/196...   \n1   360978  https://cdn.myanimelist.net/images/anime/1439/...   \n2   727252  https://cdn.myanimelist.net/images/anime/7/203...   \n3   111931  https://cdn.myanimelist.net/images/anime/10/19...   \n4    15001  https://cdn.myanimelist.net/images/anime/7/215...   \n\n                         Mod_name  \n0                    cowboy bebop  \n1  cowboy bebop tengoku no tobira  \n2                          trigun  \n3              witch hunter robin  \n4                  bouken ou beet  \n\n[5 rows x 23 columns]",
      "text/html": "<div>\n<style scoped>\n    .dataframe tbody tr th:only-of-type {\n        vertical-align: middle;\n    }\n\n    .dataframe tbody tr th {\n        vertical-align: top;\n    }\n\n    .dataframe thead th {\n        text-align: right;\n    }\n</style>\n<table border=\"1\" class=\"dataframe\">\n  <thead>\n    <tr style=\"text-align: right;\">\n      <th></th>\n      <th>anime_id</th>\n      <th>Name</th>\n      <th>English name</th>\n      <th>Other name</th>\n      <th>Score</th>\n      <th>Genres</th>\n      <th>Synopsis</th>\n      <th>Type</th>\n      <th>Episodes</th>\n      <th>Aired</th>\n      <th>...</th>\n      <th>Source</th>\n      <th>Duration</th>\n      <th>Rating</th>\n      <th>Rank</th>\n      <th>Popularity</th>\n      <th>Favorites</th>\n      <th>Scored By</th>\n      <th>Members</th>\n      <th>Image URL</th>\n      <th>Mod_name</th>\n    </tr>\n  </thead>\n  <tbody>\n    <tr>\n      <th>0</th>\n      <td>1</td>\n      <td>Cowboy Bebop</td>\n      <td>Cowboy Bebop</td>\n      <td>カウボーイビバップ</td>\n      <td>8.75</td>\n      <td>Action, Award Winning, Sci-Fi</td>\n      <td>Crime is timeless. By the year 2071, humanity ...</td>\n      <td>TV</td>\n      <td>26.0</td>\n      <td>Apr 3, 1998 to Apr 24, 1999</td>\n      <td>...</td>\n      <td>Original</td>\n      <td>24 min per ep</td>\n      <td>R - 17+ (violence &amp; profanity)</td>\n      <td>41.0</td>\n      <td>43</td>\n      <td>78525</td>\n      <td>914193</td>\n      <td>1771505</td>\n      <td>https://cdn.myanimelist.net/images/anime/4/196...</td>\n      <td>cowboy bebop</td>\n    </tr>\n    <tr>\n      <th>1</th>\n      <td>5</td>\n      <td>Cowboy Bebop: Tengoku no Tobira</td>\n      <td>Cowboy Bebop: The Movie</td>\n      <td>カウボーイビバップ 天国の扉</td>\n      <td>8.38</td>\n      <td>Action, Sci-Fi</td>\n      <td>Another day, another bounty—such is the life o...</td>\n      <td>Movie</td>\n      <td>1.0</td>\n      <td>Sep 1, 2001</td>\n      <td>...</td>\n      <td>Original</td>\n      <td>1 hr 55 min</td>\n      <td>R - 17+ (violence &amp; profanity)</td>\n      <td>189.0</td>\n      <td>602</td>\n      <td>1448</td>\n      <td>206248</td>\n      <td>360978</td>\n      <td>https://cdn.myanimelist.net/images/anime/1439/...</td>\n      <td>cowboy bebop tengoku no tobira</td>\n    </tr>\n    <tr>\n      <th>2</th>\n      <td>6</td>\n      <td>Trigun</td>\n      <td>Trigun</td>\n      <td>トライガン</td>\n      <td>8.22</td>\n      <td>Action, Adventure, Sci-Fi</td>\n      <td>Vash the Stampede is the man with a $$60,000,0...</td>\n      <td>TV</td>\n      <td>26.0</td>\n      <td>Apr 1, 1998 to Sep 30, 1998</td>\n      <td>...</td>\n      <td>Manga</td>\n      <td>24 min per ep</td>\n      <td>PG-13 - Teens 13 or older</td>\n      <td>328.0</td>\n      <td>246</td>\n      <td>15035</td>\n      <td>356739</td>\n      <td>727252</td>\n      <td>https://cdn.myanimelist.net/images/anime/7/203...</td>\n      <td>trigun</td>\n    </tr>\n    <tr>\n      <th>3</th>\n      <td>7</td>\n      <td>Witch Hunter Robin</td>\n      <td>Witch Hunter Robin</td>\n      <td>Witch Hunter ROBIN (ウイッチハンターロビン)</td>\n      <td>7.25</td>\n      <td>Action, Drama, Mystery, Supernatural</td>\n      <td>Robin Sena is a powerful craft user drafted in...</td>\n      <td>TV</td>\n      <td>26.0</td>\n      <td>Jul 3, 2002 to Dec 25, 2002</td>\n      <td>...</td>\n      <td>Original</td>\n      <td>25 min per ep</td>\n      <td>PG-13 - Teens 13 or older</td>\n      <td>2764.0</td>\n      <td>1795</td>\n      <td>613</td>\n      <td>42829</td>\n      <td>111931</td>\n      <td>https://cdn.myanimelist.net/images/anime/10/19...</td>\n      <td>witch hunter robin</td>\n    </tr>\n    <tr>\n      <th>4</th>\n      <td>8</td>\n      <td>Bouken Ou Beet</td>\n      <td>Beet the Vandel Buster</td>\n      <td>冒険王ビィト</td>\n      <td>6.94</td>\n      <td>Adventure, Fantasy, Supernatural</td>\n      <td>It is the dark century and the people are suff...</td>\n      <td>TV</td>\n      <td>52.0</td>\n      <td>Sep 30, 2004 to Sep 29, 2005</td>\n      <td>...</td>\n      <td>Manga</td>\n      <td>23 min per ep</td>\n      <td>PG - Children</td>\n      <td>4240.0</td>\n      <td>5126</td>\n      <td>14</td>\n      <td>6413</td>\n      <td>15001</td>\n      <td>https://cdn.myanimelist.net/images/anime/7/215...</td>\n      <td>bouken ou beet</td>\n    </tr>\n  </tbody>\n</table>\n<p>5 rows × 23 columns</p>\n</div>"
     },
     "execution_count": 5,
     "metadata": {},
     "output_type": "execute_result"
    }
   ],
   "source": [
    "anime.head()"
   ],
   "metadata": {
    "collapsed": false,
    "ExecuteTime": {
     "end_time": "2024-04-12T07:24:52.745705700Z",
     "start_time": "2024-04-12T07:24:52.724915Z"
    }
   },
   "id": "fbce59bb9c5ac116"
  },
  {
   "cell_type": "code",
   "execution_count": 6,
   "outputs": [],
   "source": [
    "# Modify names for better search efficiency\n",
    "added_column = 'mod_name'\n",
    "if added_column not in anime.columns:\n",
    "    anime.insert(2, added_column, None)\n",
    "anime['mod_name'] = anime['Name'].str.replace(\"[^a-zA-Z0-9 ]\", \"\", regex=True)\n",
    "anime['mod_name'] = anime['mod_name'].str.lower()\n",
    "anime['mod_name'] = anime['mod_name'].str.replace(\"\\s+\", \" \", regex=True)\n",
    "anime = anime[anime['mod_name'].str.len() > 0]\n"
   ],
   "metadata": {
    "collapsed": false,
    "ExecuteTime": {
     "end_time": "2024-04-12T07:24:52.909399Z",
     "start_time": "2024-04-12T07:24:52.748731300Z"
    }
   },
   "id": "1e605b89315a9ff5"
  },
  {
   "cell_type": "code",
   "execution_count": 7,
   "outputs": [
    {
     "data": {
      "text/plain": "       anime_id                             Name  \\\n0             1                     Cowboy Bebop   \n1             5  Cowboy Bebop: Tengoku no Tobira   \n2             6                           Trigun   \n3             7               Witch Hunter Robin   \n4             8                   Bouken Ou Beet   \n...         ...                              ...   \n24898     55731                      Wu Nao Monu   \n24899     55732              Bu Xing Si: Yuan Qi   \n24900     55733                      Di Yi Xulie   \n24901     55734         Bokura no Saishuu Sensou   \n24902     55735                   Shijuuku Nichi   \n\n                             mod_name             English name  \\\n0                        cowboy bebop             Cowboy Bebop   \n1      cowboy bebop tengoku no tobira  Cowboy Bebop: The Movie   \n2                              trigun                   Trigun   \n3                  witch hunter robin       Witch Hunter Robin   \n4                      bouken ou beet   Beet the Vandel Buster   \n...                               ...                      ...   \n24898                     wu nao monu                  UNKNOWN   \n24899              bu xing si yuan qi              Blader Soul   \n24900                     di yi xulie          The First Order   \n24901        bokura no saishuu sensou                  UNKNOWN   \n24902                  shijuuku nichi                  UNKNOWN   \n\n                             Other name  Score  \\\n0                             カウボーイビバップ   8.75   \n1                        カウボーイビバップ 天国の扉   8.38   \n2                                 トライガン   8.22   \n3      Witch Hunter ROBIN (ウイッチハンターロビン)   7.25   \n4                                冒険王ビィト   6.94   \n...                                 ...    ...   \n24898                              无脑魔女   0.00   \n24899                            捕星司·源起   0.00   \n24900                              第一序列   0.00   \n24901                           僕らの最終戦争   0.00   \n24902                              四十九日   0.00   \n\n                                     Genres  \\\n0             Action, Award Winning, Sci-Fi   \n1                            Action, Sci-Fi   \n2                 Action, Adventure, Sci-Fi   \n3      Action, Drama, Mystery, Supernatural   \n4          Adventure, Fantasy, Supernatural   \n...                                     ...   \n24898        Comedy, Fantasy, Slice of Life   \n24899            Action, Adventure, Fantasy   \n24900    Action, Adventure, Fantasy, Sci-Fi   \n24901                               UNKNOWN   \n24902                               UNKNOWN   \n\n                                                Synopsis   Type Episodes  ...  \\\n0      Crime is timeless. By the year 2071, humanity ...     TV     26.0  ...   \n1      Another day, another bounty—such is the life o...  Movie      1.0  ...   \n2      Vash the Stampede is the man with a $$60,000,0...     TV     26.0  ...   \n3      Robin Sena is a powerful craft user drafted in...     TV     26.0  ...   \n4      It is the dark century and the people are suff...     TV     52.0  ...   \n...                                                  ...    ...      ...  ...   \n24898           No description available for this anime.    ONA     15.0  ...   \n24899           No description available for this anime.    ONA     18.0  ...   \n24900           No description available for this anime.    ONA     16.0  ...   \n24901  A music video for the song Bokura no Saishuu S...  Music      1.0  ...   \n24902  A music video for the song Shijuuku Nichi by S...  Music      1.0  ...   \n\n          Source       Duration                          Rating     Rank  \\\n0       Original  24 min per ep  R - 17+ (violence & profanity)     41.0   \n1       Original    1 hr 55 min  R - 17+ (violence & profanity)    189.0   \n2          Manga  24 min per ep       PG-13 - Teens 13 or older    328.0   \n3       Original  25 min per ep       PG-13 - Teens 13 or older   2764.0   \n4          Manga  23 min per ep                   PG - Children   4240.0   \n...          ...            ...                             ...      ...   \n24898  Web manga        Unknown       PG-13 - Teens 13 or older  UNKNOWN   \n24899  Web novel        Unknown       PG-13 - Teens 13 or older      0.0   \n24900  Web novel        Unknown       PG-13 - Teens 13 or older      0.0   \n24901   Original          3 min       PG-13 - Teens 13 or older      0.0   \n24902   Original          3 min       PG-13 - Teens 13 or older      0.0   \n\n      Popularity Favorites Scored By  Members  \\\n0             43     78525    914193  1771505   \n1            602      1448    206248   360978   \n2            246     15035    356739   727252   \n3           1795       613     42829   111931   \n4           5126        14      6413    15001   \n...          ...       ...       ...      ...   \n24898      24723         0         0        0   \n24899          0         0         0        0   \n24900          0         0         0        0   \n24901          0         0         0        0   \n24902          0         0         0        0   \n\n                                               Image URL  \\\n0      https://cdn.myanimelist.net/images/anime/4/196...   \n1      https://cdn.myanimelist.net/images/anime/1439/...   \n2      https://cdn.myanimelist.net/images/anime/7/203...   \n3      https://cdn.myanimelist.net/images/anime/10/19...   \n4      https://cdn.myanimelist.net/images/anime/7/215...   \n...                                                  ...   \n24898  https://cdn.myanimelist.net/images/anime/1386/...   \n24899  https://cdn.myanimelist.net/images/anime/1383/...   \n24900  https://cdn.myanimelist.net/images/anime/1130/...   \n24901  https://cdn.myanimelist.net/images/anime/1931/...   \n24902  https://cdn.myanimelist.net/images/anime/1902/...   \n\n                             Mod_name  \n0                        cowboy bebop  \n1      cowboy bebop tengoku no tobira  \n2                              trigun  \n3                  witch hunter robin  \n4                      bouken ou beet  \n...                               ...  \n24898                     wu nao monu  \n24899              bu xing si yuan qi  \n24900                     di yi xulie  \n24901        bokura no saishuu sensou  \n24902                  shijuuku nichi  \n\n[24903 rows x 24 columns]",
      "text/html": "<div>\n<style scoped>\n    .dataframe tbody tr th:only-of-type {\n        vertical-align: middle;\n    }\n\n    .dataframe tbody tr th {\n        vertical-align: top;\n    }\n\n    .dataframe thead th {\n        text-align: right;\n    }\n</style>\n<table border=\"1\" class=\"dataframe\">\n  <thead>\n    <tr style=\"text-align: right;\">\n      <th></th>\n      <th>anime_id</th>\n      <th>Name</th>\n      <th>mod_name</th>\n      <th>English name</th>\n      <th>Other name</th>\n      <th>Score</th>\n      <th>Genres</th>\n      <th>Synopsis</th>\n      <th>Type</th>\n      <th>Episodes</th>\n      <th>...</th>\n      <th>Source</th>\n      <th>Duration</th>\n      <th>Rating</th>\n      <th>Rank</th>\n      <th>Popularity</th>\n      <th>Favorites</th>\n      <th>Scored By</th>\n      <th>Members</th>\n      <th>Image URL</th>\n      <th>Mod_name</th>\n    </tr>\n  </thead>\n  <tbody>\n    <tr>\n      <th>0</th>\n      <td>1</td>\n      <td>Cowboy Bebop</td>\n      <td>cowboy bebop</td>\n      <td>Cowboy Bebop</td>\n      <td>カウボーイビバップ</td>\n      <td>8.75</td>\n      <td>Action, Award Winning, Sci-Fi</td>\n      <td>Crime is timeless. By the year 2071, humanity ...</td>\n      <td>TV</td>\n      <td>26.0</td>\n      <td>...</td>\n      <td>Original</td>\n      <td>24 min per ep</td>\n      <td>R - 17+ (violence &amp; profanity)</td>\n      <td>41.0</td>\n      <td>43</td>\n      <td>78525</td>\n      <td>914193</td>\n      <td>1771505</td>\n      <td>https://cdn.myanimelist.net/images/anime/4/196...</td>\n      <td>cowboy bebop</td>\n    </tr>\n    <tr>\n      <th>1</th>\n      <td>5</td>\n      <td>Cowboy Bebop: Tengoku no Tobira</td>\n      <td>cowboy bebop tengoku no tobira</td>\n      <td>Cowboy Bebop: The Movie</td>\n      <td>カウボーイビバップ 天国の扉</td>\n      <td>8.38</td>\n      <td>Action, Sci-Fi</td>\n      <td>Another day, another bounty—such is the life o...</td>\n      <td>Movie</td>\n      <td>1.0</td>\n      <td>...</td>\n      <td>Original</td>\n      <td>1 hr 55 min</td>\n      <td>R - 17+ (violence &amp; profanity)</td>\n      <td>189.0</td>\n      <td>602</td>\n      <td>1448</td>\n      <td>206248</td>\n      <td>360978</td>\n      <td>https://cdn.myanimelist.net/images/anime/1439/...</td>\n      <td>cowboy bebop tengoku no tobira</td>\n    </tr>\n    <tr>\n      <th>2</th>\n      <td>6</td>\n      <td>Trigun</td>\n      <td>trigun</td>\n      <td>Trigun</td>\n      <td>トライガン</td>\n      <td>8.22</td>\n      <td>Action, Adventure, Sci-Fi</td>\n      <td>Vash the Stampede is the man with a $$60,000,0...</td>\n      <td>TV</td>\n      <td>26.0</td>\n      <td>...</td>\n      <td>Manga</td>\n      <td>24 min per ep</td>\n      <td>PG-13 - Teens 13 or older</td>\n      <td>328.0</td>\n      <td>246</td>\n      <td>15035</td>\n      <td>356739</td>\n      <td>727252</td>\n      <td>https://cdn.myanimelist.net/images/anime/7/203...</td>\n      <td>trigun</td>\n    </tr>\n    <tr>\n      <th>3</th>\n      <td>7</td>\n      <td>Witch Hunter Robin</td>\n      <td>witch hunter robin</td>\n      <td>Witch Hunter Robin</td>\n      <td>Witch Hunter ROBIN (ウイッチハンターロビン)</td>\n      <td>7.25</td>\n      <td>Action, Drama, Mystery, Supernatural</td>\n      <td>Robin Sena is a powerful craft user drafted in...</td>\n      <td>TV</td>\n      <td>26.0</td>\n      <td>...</td>\n      <td>Original</td>\n      <td>25 min per ep</td>\n      <td>PG-13 - Teens 13 or older</td>\n      <td>2764.0</td>\n      <td>1795</td>\n      <td>613</td>\n      <td>42829</td>\n      <td>111931</td>\n      <td>https://cdn.myanimelist.net/images/anime/10/19...</td>\n      <td>witch hunter robin</td>\n    </tr>\n    <tr>\n      <th>4</th>\n      <td>8</td>\n      <td>Bouken Ou Beet</td>\n      <td>bouken ou beet</td>\n      <td>Beet the Vandel Buster</td>\n      <td>冒険王ビィト</td>\n      <td>6.94</td>\n      <td>Adventure, Fantasy, Supernatural</td>\n      <td>It is the dark century and the people are suff...</td>\n      <td>TV</td>\n      <td>52.0</td>\n      <td>...</td>\n      <td>Manga</td>\n      <td>23 min per ep</td>\n      <td>PG - Children</td>\n      <td>4240.0</td>\n      <td>5126</td>\n      <td>14</td>\n      <td>6413</td>\n      <td>15001</td>\n      <td>https://cdn.myanimelist.net/images/anime/7/215...</td>\n      <td>bouken ou beet</td>\n    </tr>\n    <tr>\n      <th>...</th>\n      <td>...</td>\n      <td>...</td>\n      <td>...</td>\n      <td>...</td>\n      <td>...</td>\n      <td>...</td>\n      <td>...</td>\n      <td>...</td>\n      <td>...</td>\n      <td>...</td>\n      <td>...</td>\n      <td>...</td>\n      <td>...</td>\n      <td>...</td>\n      <td>...</td>\n      <td>...</td>\n      <td>...</td>\n      <td>...</td>\n      <td>...</td>\n      <td>...</td>\n      <td>...</td>\n    </tr>\n    <tr>\n      <th>24898</th>\n      <td>55731</td>\n      <td>Wu Nao Monu</td>\n      <td>wu nao monu</td>\n      <td>UNKNOWN</td>\n      <td>无脑魔女</td>\n      <td>0.00</td>\n      <td>Comedy, Fantasy, Slice of Life</td>\n      <td>No description available for this anime.</td>\n      <td>ONA</td>\n      <td>15.0</td>\n      <td>...</td>\n      <td>Web manga</td>\n      <td>Unknown</td>\n      <td>PG-13 - Teens 13 or older</td>\n      <td>UNKNOWN</td>\n      <td>24723</td>\n      <td>0</td>\n      <td>0</td>\n      <td>0</td>\n      <td>https://cdn.myanimelist.net/images/anime/1386/...</td>\n      <td>wu nao monu</td>\n    </tr>\n    <tr>\n      <th>24899</th>\n      <td>55732</td>\n      <td>Bu Xing Si: Yuan Qi</td>\n      <td>bu xing si yuan qi</td>\n      <td>Blader Soul</td>\n      <td>捕星司·源起</td>\n      <td>0.00</td>\n      <td>Action, Adventure, Fantasy</td>\n      <td>No description available for this anime.</td>\n      <td>ONA</td>\n      <td>18.0</td>\n      <td>...</td>\n      <td>Web novel</td>\n      <td>Unknown</td>\n      <td>PG-13 - Teens 13 or older</td>\n      <td>0.0</td>\n      <td>0</td>\n      <td>0</td>\n      <td>0</td>\n      <td>0</td>\n      <td>https://cdn.myanimelist.net/images/anime/1383/...</td>\n      <td>bu xing si yuan qi</td>\n    </tr>\n    <tr>\n      <th>24900</th>\n      <td>55733</td>\n      <td>Di Yi Xulie</td>\n      <td>di yi xulie</td>\n      <td>The First Order</td>\n      <td>第一序列</td>\n      <td>0.00</td>\n      <td>Action, Adventure, Fantasy, Sci-Fi</td>\n      <td>No description available for this anime.</td>\n      <td>ONA</td>\n      <td>16.0</td>\n      <td>...</td>\n      <td>Web novel</td>\n      <td>Unknown</td>\n      <td>PG-13 - Teens 13 or older</td>\n      <td>0.0</td>\n      <td>0</td>\n      <td>0</td>\n      <td>0</td>\n      <td>0</td>\n      <td>https://cdn.myanimelist.net/images/anime/1130/...</td>\n      <td>di yi xulie</td>\n    </tr>\n    <tr>\n      <th>24901</th>\n      <td>55734</td>\n      <td>Bokura no Saishuu Sensou</td>\n      <td>bokura no saishuu sensou</td>\n      <td>UNKNOWN</td>\n      <td>僕らの最終戦争</td>\n      <td>0.00</td>\n      <td>UNKNOWN</td>\n      <td>A music video for the song Bokura no Saishuu S...</td>\n      <td>Music</td>\n      <td>1.0</td>\n      <td>...</td>\n      <td>Original</td>\n      <td>3 min</td>\n      <td>PG-13 - Teens 13 or older</td>\n      <td>0.0</td>\n      <td>0</td>\n      <td>0</td>\n      <td>0</td>\n      <td>0</td>\n      <td>https://cdn.myanimelist.net/images/anime/1931/...</td>\n      <td>bokura no saishuu sensou</td>\n    </tr>\n    <tr>\n      <th>24902</th>\n      <td>55735</td>\n      <td>Shijuuku Nichi</td>\n      <td>shijuuku nichi</td>\n      <td>UNKNOWN</td>\n      <td>四十九日</td>\n      <td>0.00</td>\n      <td>UNKNOWN</td>\n      <td>A music video for the song Shijuuku Nichi by S...</td>\n      <td>Music</td>\n      <td>1.0</td>\n      <td>...</td>\n      <td>Original</td>\n      <td>3 min</td>\n      <td>PG-13 - Teens 13 or older</td>\n      <td>0.0</td>\n      <td>0</td>\n      <td>0</td>\n      <td>0</td>\n      <td>0</td>\n      <td>https://cdn.myanimelist.net/images/anime/1902/...</td>\n      <td>shijuuku nichi</td>\n    </tr>\n  </tbody>\n</table>\n<p>24903 rows × 24 columns</p>\n</div>"
     },
     "execution_count": 7,
     "metadata": {},
     "output_type": "execute_result"
    }
   ],
   "source": [
    "anime"
   ],
   "metadata": {
    "collapsed": false,
    "ExecuteTime": {
     "end_time": "2024-04-12T07:24:52.909399Z",
     "start_time": "2024-04-12T07:24:52.849519Z"
    }
   },
   "id": "2e43af4999554aef"
  },
  {
   "cell_type": "code",
   "execution_count": 8,
   "outputs": [],
   "source": [
    "anime.to_parquet('anime/anime.parquet')"
   ],
   "metadata": {
    "collapsed": false,
    "ExecuteTime": {
     "end_time": "2024-04-12T07:24:53.145174300Z",
     "start_time": "2024-04-12T07:24:52.899069400Z"
    }
   },
   "id": "8cf58a45bb407b44"
  },
  {
   "cell_type": "code",
   "execution_count": 9,
   "outputs": [],
   "source": [
    "data = pd.read_parquet('anime/anime.parquet')"
   ],
   "metadata": {
    "collapsed": false,
    "ExecuteTime": {
     "end_time": "2024-04-12T07:24:53.266701400Z",
     "start_time": "2024-04-12T07:24:53.136231100Z"
    }
   },
   "id": "a9172bed41ea40e9"
  },
  {
   "cell_type": "code",
   "execution_count": 9,
   "outputs": [],
   "source": [],
   "metadata": {
    "collapsed": false,
    "ExecuteTime": {
     "end_time": "2024-04-12T07:24:53.276384300Z",
     "start_time": "2024-04-12T07:24:53.270508200Z"
    }
   },
   "id": "e24a7c20e2678755"
  },
  {
   "cell_type": "code",
   "execution_count": 9,
   "outputs": [],
   "source": [],
   "metadata": {
    "collapsed": false,
    "ExecuteTime": {
     "end_time": "2024-04-12T07:24:53.276384300Z",
     "start_time": "2024-04-12T07:24:53.273362Z"
    }
   },
   "id": "a70bbc656de8f89c"
  }
 ],
 "metadata": {
  "kernelspec": {
   "display_name": "Python 3",
   "language": "python",
   "name": "python3"
  },
  "language_info": {
   "codemirror_mode": {
    "name": "ipython",
    "version": 2
   },
   "file_extension": ".py",
   "mimetype": "text/x-python",
   "name": "python",
   "nbconvert_exporter": "python",
   "pygments_lexer": "ipython2",
   "version": "2.7.6"
  }
 },
 "nbformat": 4,
 "nbformat_minor": 5
}
