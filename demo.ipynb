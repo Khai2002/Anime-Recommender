{
 "cells": [
  {
   "cell_type": "code",
   "execution_count": null,
   "id": "initial_id",
   "metadata": {
    "ExecuteTime": {
     "end_time": "2024-02-26T21:04:26.810972Z",
     "start_time": "2024-02-26T21:04:24.331451600Z"
    },
    "collapsed": true
   },
   "outputs": [],
   "source": [
    "import numpy as np\n",
    "import pandas as pd"
   ]
  },
  {
   "cell_type": "code",
   "execution_count": null,
   "id": "c45730dcff21e113",
   "metadata": {
    "ExecuteTime": {
     "end_time": "2024-02-26T21:17:27.146047500Z",
     "start_time": "2024-02-26T21:17:27.068306100Z"
    },
    "collapsed": false
   },
   "outputs": [],
   "source": [
    "anime = pd.read_parquet('anime/anime.parquet')"
   ]
  },
  {
   "cell_type": "code",
   "execution_count": null,
   "id": "fbce59bb9c5ac116",
   "metadata": {
    "ExecuteTime": {
     "end_time": "2024-02-26T21:17:27.307838800Z",
     "start_time": "2024-02-26T21:17:27.264002500Z"
    },
    "collapsed": false
   },
   "outputs": [],
   "source": [
    "anime.head()"
   ]
  },
  {
   "cell_type": "code",
   "execution_count": null,
   "id": "1e605b89315a9ff5",
   "metadata": {
    "ExecuteTime": {
     "end_time": "2024-02-26T21:18:53.789703200Z",
     "start_time": "2024-02-26T21:18:53.665685500Z"
    },
    "collapsed": false
   },
   "outputs": [],
   "source": [
    "# Modify names for better search efficiency\n",
    "added_column = 'mod_name'\n",
    "if added_column not in anime.columns:\n",
    "    anime.insert(2, added_column, None)\n",
    "anime['mod_name'] = anime['Name'].str.replace(\"[^a-zA-Z0-9 ]\", \"\", regex=True)\n",
    "anime['mod_name'] = anime['mod_name'].str.lower()\n",
    "anime['mod_name'] = anime['mod_name'].str.replace(\"\\s+\", \" \", regex=True)\n",
    "anime = anime[anime['mod_name'].str.len() > 0]\n"
   ]
  },
  {
   "cell_type": "code",
   "execution_count": null,
   "id": "2e43af4999554aef",
   "metadata": {
    "ExecuteTime": {
     "end_time": "2024-02-26T21:18:54.966751700Z",
     "start_time": "2024-02-26T21:18:54.924932800Z"
    },
    "collapsed": false
   },
   "outputs": [],
   "source": [
    "anime"
   ]
  },
  {
   "cell_type": "code",
   "execution_count": null,
   "id": "8cf58a45bb407b44",
   "metadata": {
    "ExecuteTime": {
     "end_time": "2024-02-26T21:19:29.687878300Z",
     "start_time": "2024-02-26T21:19:29.486419700Z"
    },
    "collapsed": false
   },
   "outputs": [],
   "source": [
    "anime.to_parquet('anime/anime.parquet')"
   ]
  },
  {
   "cell_type": "code",
   "execution_count": null,
   "id": "a9172bed41ea40e9",
   "metadata": {
    "ExecuteTime": {
     "end_time": "2024-02-26T21:19:40.562686400Z",
     "start_time": "2024-02-26T21:19:40.450440900Z"
    },
    "collapsed": false
   },
   "outputs": [],
   "source": [
    "data = pd.read_parquet('anime/anime.parquet')"
   ]
  },
  {
   "cell_type": "code",
   "execution_count": null,
   "id": "e24a7c20e2678755",
   "metadata": {
    "ExecuteTime": {
     "end_time": "2024-02-26T21:19:41.937466100Z",
     "start_time": "2024-02-26T21:19:41.889826200Z"
    },
    "collapsed": false
   },
   "outputs": [],
   "source": []
  },
  {
   "cell_type": "code",
   "execution_count": null,
   "id": "a70bbc656de8f89c",
   "metadata": {
    "collapsed": false
   },
   "outputs": [],
   "source": []
  }
 ],
 "metadata": {
  "kernelspec": {
   "display_name": "Python 3",
   "language": "python",
   "name": "python3"
  },
  "language_info": {
   "codemirror_mode": {
    "name": "ipython",
    "version": 3
   },
   "file_extension": ".py",
   "mimetype": "text/x-python",
   "name": "python",
   "nbconvert_exporter": "python",
   "pygments_lexer": "ipython3",
   "version": "3.12.2"
  }
 },
 "nbformat": 4,
 "nbformat_minor": 5
}
