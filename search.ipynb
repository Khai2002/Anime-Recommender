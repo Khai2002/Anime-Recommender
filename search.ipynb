{
 "cells": [
  {
   "cell_type": "code",
   "execution_count": 5,
   "id": "initial_id",
   "metadata": {
    "collapsed": true,
    "ExecuteTime": {
     "end_time": "2024-04-11T17:55:00.839746Z",
     "start_time": "2024-04-11T17:55:00.804478400Z"
    }
   },
   "outputs": [],
   "source": [
    "import numpy as np\n",
    "import pandas as pd"
   ]
  },
  {
   "cell_type": "code",
   "execution_count": 6,
   "outputs": [],
   "source": [
    "anime = pd.read_parquet('anime/anime.parquet')"
   ],
   "metadata": {
    "collapsed": false,
    "ExecuteTime": {
     "end_time": "2024-04-11T17:55:01.229801900Z",
     "start_time": "2024-04-11T17:55:01.050637600Z"
    }
   },
   "id": "5474536794b700ef"
  },
  {
   "cell_type": "code",
   "execution_count": 7,
   "outputs": [
    {
     "data": {
      "text/plain": "       anime_id                             Name             English name  \\\n0             1                     Cowboy Bebop             Cowboy Bebop   \n1             5  Cowboy Bebop: Tengoku no Tobira  Cowboy Bebop: The Movie   \n2             6                           Trigun                   Trigun   \n3             7               Witch Hunter Robin       Witch Hunter Robin   \n4             8                   Bouken Ou Beet   Beet the Vandel Buster   \n...         ...                              ...                      ...   \n24898     55731                      Wu Nao Monu                  UNKNOWN   \n24899     55732              Bu Xing Si: Yuan Qi              Blader Soul   \n24900     55733                      Di Yi Xulie          The First Order   \n24901     55734         Bokura no Saishuu Sensou                  UNKNOWN   \n24902     55735                   Shijuuku Nichi                  UNKNOWN   \n\n                             Other name  Score  \\\n0                             カウボーイビバップ   8.75   \n1                        カウボーイビバップ 天国の扉   8.38   \n2                                 トライガン   8.22   \n3      Witch Hunter ROBIN (ウイッチハンターロビン)   7.25   \n4                                冒険王ビィト   6.94   \n...                                 ...    ...   \n24898                              无脑魔女   0.00   \n24899                            捕星司·源起   0.00   \n24900                              第一序列   0.00   \n24901                           僕らの最終戦争   0.00   \n24902                              四十九日   0.00   \n\n                                     Genres  \\\n0             Action, Award Winning, Sci-Fi   \n1                            Action, Sci-Fi   \n2                 Action, Adventure, Sci-Fi   \n3      Action, Drama, Mystery, Supernatural   \n4          Adventure, Fantasy, Supernatural   \n...                                     ...   \n24898        Comedy, Fantasy, Slice of Life   \n24899            Action, Adventure, Fantasy   \n24900    Action, Adventure, Fantasy, Sci-Fi   \n24901                               UNKNOWN   \n24902                               UNKNOWN   \n\n                                                Synopsis   Type Episodes  \\\n0      Crime is timeless. By the year 2071, humanity ...     TV     26.0   \n1      Another day, another bounty—such is the life o...  Movie      1.0   \n2      Vash the Stampede is the man with a $$60,000,0...     TV     26.0   \n3      Robin Sena is a powerful craft user drafted in...     TV     26.0   \n4      It is the dark century and the people are suff...     TV     52.0   \n...                                                  ...    ...      ...   \n24898           No description available for this anime.    ONA     15.0   \n24899           No description available for this anime.    ONA     18.0   \n24900           No description available for this anime.    ONA     16.0   \n24901  A music video for the song Bokura no Saishuu S...  Music      1.0   \n24902  A music video for the song Shijuuku Nichi by S...  Music      1.0   \n\n                              Aired  ...     Source       Duration  \\\n0       Apr 3, 1998 to Apr 24, 1999  ...   Original  24 min per ep   \n1                       Sep 1, 2001  ...   Original    1 hr 55 min   \n2       Apr 1, 1998 to Sep 30, 1998  ...      Manga  24 min per ep   \n3       Jul 3, 2002 to Dec 25, 2002  ...   Original  25 min per ep   \n4      Sep 30, 2004 to Sep 29, 2005  ...      Manga  23 min per ep   \n...                             ...  ...        ...            ...   \n24898              Jul 4, 2023 to ?  ...  Web manga        Unknown   \n24899             Jul 27, 2023 to ?  ...  Web novel        Unknown   \n24900             Jul 19, 2023 to ?  ...  Web novel        Unknown   \n24901                  Apr 23, 2022  ...   Original          3 min   \n24902                   Sep 5, 2022  ...   Original          3 min   \n\n                               Rating     Rank Popularity Favorites Scored By  \\\n0      R - 17+ (violence & profanity)     41.0         43     78525    914193   \n1      R - 17+ (violence & profanity)    189.0        602      1448    206248   \n2           PG-13 - Teens 13 or older    328.0        246     15035    356739   \n3           PG-13 - Teens 13 or older   2764.0       1795       613     42829   \n4                       PG - Children   4240.0       5126        14      6413   \n...                               ...      ...        ...       ...       ...   \n24898       PG-13 - Teens 13 or older  UNKNOWN      24723         0         0   \n24899       PG-13 - Teens 13 or older      0.0          0         0         0   \n24900       PG-13 - Teens 13 or older      0.0          0         0         0   \n24901       PG-13 - Teens 13 or older      0.0          0         0         0   \n24902       PG-13 - Teens 13 or older      0.0          0         0         0   \n\n       Members                                          Image URL  \\\n0      1771505  https://cdn.myanimelist.net/images/anime/4/196...   \n1       360978  https://cdn.myanimelist.net/images/anime/1439/...   \n2       727252  https://cdn.myanimelist.net/images/anime/7/203...   \n3       111931  https://cdn.myanimelist.net/images/anime/10/19...   \n4        15001  https://cdn.myanimelist.net/images/anime/7/215...   \n...        ...                                                ...   \n24898        0  https://cdn.myanimelist.net/images/anime/1386/...   \n24899        0  https://cdn.myanimelist.net/images/anime/1383/...   \n24900        0  https://cdn.myanimelist.net/images/anime/1130/...   \n24901        0  https://cdn.myanimelist.net/images/anime/1931/...   \n24902        0  https://cdn.myanimelist.net/images/anime/1902/...   \n\n                             Mod_name  \n0                        cowboy bebop  \n1      cowboy bebop tengoku no tobira  \n2                              trigun  \n3                  witch hunter robin  \n4                      bouken ou beet  \n...                               ...  \n24898                     wu nao monu  \n24899              bu xing si yuan qi  \n24900                     di yi xulie  \n24901        bokura no saishuu sensou  \n24902                  shijuuku nichi  \n\n[24903 rows x 23 columns]",
      "text/html": "<div>\n<style scoped>\n    .dataframe tbody tr th:only-of-type {\n        vertical-align: middle;\n    }\n\n    .dataframe tbody tr th {\n        vertical-align: top;\n    }\n\n    .dataframe thead th {\n        text-align: right;\n    }\n</style>\n<table border=\"1\" class=\"dataframe\">\n  <thead>\n    <tr style=\"text-align: right;\">\n      <th></th>\n      <th>anime_id</th>\n      <th>Name</th>\n      <th>English name</th>\n      <th>Other name</th>\n      <th>Score</th>\n      <th>Genres</th>\n      <th>Synopsis</th>\n      <th>Type</th>\n      <th>Episodes</th>\n      <th>Aired</th>\n      <th>...</th>\n      <th>Source</th>\n      <th>Duration</th>\n      <th>Rating</th>\n      <th>Rank</th>\n      <th>Popularity</th>\n      <th>Favorites</th>\n      <th>Scored By</th>\n      <th>Members</th>\n      <th>Image URL</th>\n      <th>Mod_name</th>\n    </tr>\n  </thead>\n  <tbody>\n    <tr>\n      <th>0</th>\n      <td>1</td>\n      <td>Cowboy Bebop</td>\n      <td>Cowboy Bebop</td>\n      <td>カウボーイビバップ</td>\n      <td>8.75</td>\n      <td>Action, Award Winning, Sci-Fi</td>\n      <td>Crime is timeless. By the year 2071, humanity ...</td>\n      <td>TV</td>\n      <td>26.0</td>\n      <td>Apr 3, 1998 to Apr 24, 1999</td>\n      <td>...</td>\n      <td>Original</td>\n      <td>24 min per ep</td>\n      <td>R - 17+ (violence &amp; profanity)</td>\n      <td>41.0</td>\n      <td>43</td>\n      <td>78525</td>\n      <td>914193</td>\n      <td>1771505</td>\n      <td>https://cdn.myanimelist.net/images/anime/4/196...</td>\n      <td>cowboy bebop</td>\n    </tr>\n    <tr>\n      <th>1</th>\n      <td>5</td>\n      <td>Cowboy Bebop: Tengoku no Tobira</td>\n      <td>Cowboy Bebop: The Movie</td>\n      <td>カウボーイビバップ 天国の扉</td>\n      <td>8.38</td>\n      <td>Action, Sci-Fi</td>\n      <td>Another day, another bounty—such is the life o...</td>\n      <td>Movie</td>\n      <td>1.0</td>\n      <td>Sep 1, 2001</td>\n      <td>...</td>\n      <td>Original</td>\n      <td>1 hr 55 min</td>\n      <td>R - 17+ (violence &amp; profanity)</td>\n      <td>189.0</td>\n      <td>602</td>\n      <td>1448</td>\n      <td>206248</td>\n      <td>360978</td>\n      <td>https://cdn.myanimelist.net/images/anime/1439/...</td>\n      <td>cowboy bebop tengoku no tobira</td>\n    </tr>\n    <tr>\n      <th>2</th>\n      <td>6</td>\n      <td>Trigun</td>\n      <td>Trigun</td>\n      <td>トライガン</td>\n      <td>8.22</td>\n      <td>Action, Adventure, Sci-Fi</td>\n      <td>Vash the Stampede is the man with a $$60,000,0...</td>\n      <td>TV</td>\n      <td>26.0</td>\n      <td>Apr 1, 1998 to Sep 30, 1998</td>\n      <td>...</td>\n      <td>Manga</td>\n      <td>24 min per ep</td>\n      <td>PG-13 - Teens 13 or older</td>\n      <td>328.0</td>\n      <td>246</td>\n      <td>15035</td>\n      <td>356739</td>\n      <td>727252</td>\n      <td>https://cdn.myanimelist.net/images/anime/7/203...</td>\n      <td>trigun</td>\n    </tr>\n    <tr>\n      <th>3</th>\n      <td>7</td>\n      <td>Witch Hunter Robin</td>\n      <td>Witch Hunter Robin</td>\n      <td>Witch Hunter ROBIN (ウイッチハンターロビン)</td>\n      <td>7.25</td>\n      <td>Action, Drama, Mystery, Supernatural</td>\n      <td>Robin Sena is a powerful craft user drafted in...</td>\n      <td>TV</td>\n      <td>26.0</td>\n      <td>Jul 3, 2002 to Dec 25, 2002</td>\n      <td>...</td>\n      <td>Original</td>\n      <td>25 min per ep</td>\n      <td>PG-13 - Teens 13 or older</td>\n      <td>2764.0</td>\n      <td>1795</td>\n      <td>613</td>\n      <td>42829</td>\n      <td>111931</td>\n      <td>https://cdn.myanimelist.net/images/anime/10/19...</td>\n      <td>witch hunter robin</td>\n    </tr>\n    <tr>\n      <th>4</th>\n      <td>8</td>\n      <td>Bouken Ou Beet</td>\n      <td>Beet the Vandel Buster</td>\n      <td>冒険王ビィト</td>\n      <td>6.94</td>\n      <td>Adventure, Fantasy, Supernatural</td>\n      <td>It is the dark century and the people are suff...</td>\n      <td>TV</td>\n      <td>52.0</td>\n      <td>Sep 30, 2004 to Sep 29, 2005</td>\n      <td>...</td>\n      <td>Manga</td>\n      <td>23 min per ep</td>\n      <td>PG - Children</td>\n      <td>4240.0</td>\n      <td>5126</td>\n      <td>14</td>\n      <td>6413</td>\n      <td>15001</td>\n      <td>https://cdn.myanimelist.net/images/anime/7/215...</td>\n      <td>bouken ou beet</td>\n    </tr>\n    <tr>\n      <th>...</th>\n      <td>...</td>\n      <td>...</td>\n      <td>...</td>\n      <td>...</td>\n      <td>...</td>\n      <td>...</td>\n      <td>...</td>\n      <td>...</td>\n      <td>...</td>\n      <td>...</td>\n      <td>...</td>\n      <td>...</td>\n      <td>...</td>\n      <td>...</td>\n      <td>...</td>\n      <td>...</td>\n      <td>...</td>\n      <td>...</td>\n      <td>...</td>\n      <td>...</td>\n      <td>...</td>\n    </tr>\n    <tr>\n      <th>24898</th>\n      <td>55731</td>\n      <td>Wu Nao Monu</td>\n      <td>UNKNOWN</td>\n      <td>无脑魔女</td>\n      <td>0.00</td>\n      <td>Comedy, Fantasy, Slice of Life</td>\n      <td>No description available for this anime.</td>\n      <td>ONA</td>\n      <td>15.0</td>\n      <td>Jul 4, 2023 to ?</td>\n      <td>...</td>\n      <td>Web manga</td>\n      <td>Unknown</td>\n      <td>PG-13 - Teens 13 or older</td>\n      <td>UNKNOWN</td>\n      <td>24723</td>\n      <td>0</td>\n      <td>0</td>\n      <td>0</td>\n      <td>https://cdn.myanimelist.net/images/anime/1386/...</td>\n      <td>wu nao monu</td>\n    </tr>\n    <tr>\n      <th>24899</th>\n      <td>55732</td>\n      <td>Bu Xing Si: Yuan Qi</td>\n      <td>Blader Soul</td>\n      <td>捕星司·源起</td>\n      <td>0.00</td>\n      <td>Action, Adventure, Fantasy</td>\n      <td>No description available for this anime.</td>\n      <td>ONA</td>\n      <td>18.0</td>\n      <td>Jul 27, 2023 to ?</td>\n      <td>...</td>\n      <td>Web novel</td>\n      <td>Unknown</td>\n      <td>PG-13 - Teens 13 or older</td>\n      <td>0.0</td>\n      <td>0</td>\n      <td>0</td>\n      <td>0</td>\n      <td>0</td>\n      <td>https://cdn.myanimelist.net/images/anime/1383/...</td>\n      <td>bu xing si yuan qi</td>\n    </tr>\n    <tr>\n      <th>24900</th>\n      <td>55733</td>\n      <td>Di Yi Xulie</td>\n      <td>The First Order</td>\n      <td>第一序列</td>\n      <td>0.00</td>\n      <td>Action, Adventure, Fantasy, Sci-Fi</td>\n      <td>No description available for this anime.</td>\n      <td>ONA</td>\n      <td>16.0</td>\n      <td>Jul 19, 2023 to ?</td>\n      <td>...</td>\n      <td>Web novel</td>\n      <td>Unknown</td>\n      <td>PG-13 - Teens 13 or older</td>\n      <td>0.0</td>\n      <td>0</td>\n      <td>0</td>\n      <td>0</td>\n      <td>0</td>\n      <td>https://cdn.myanimelist.net/images/anime/1130/...</td>\n      <td>di yi xulie</td>\n    </tr>\n    <tr>\n      <th>24901</th>\n      <td>55734</td>\n      <td>Bokura no Saishuu Sensou</td>\n      <td>UNKNOWN</td>\n      <td>僕らの最終戦争</td>\n      <td>0.00</td>\n      <td>UNKNOWN</td>\n      <td>A music video for the song Bokura no Saishuu S...</td>\n      <td>Music</td>\n      <td>1.0</td>\n      <td>Apr 23, 2022</td>\n      <td>...</td>\n      <td>Original</td>\n      <td>3 min</td>\n      <td>PG-13 - Teens 13 or older</td>\n      <td>0.0</td>\n      <td>0</td>\n      <td>0</td>\n      <td>0</td>\n      <td>0</td>\n      <td>https://cdn.myanimelist.net/images/anime/1931/...</td>\n      <td>bokura no saishuu sensou</td>\n    </tr>\n    <tr>\n      <th>24902</th>\n      <td>55735</td>\n      <td>Shijuuku Nichi</td>\n      <td>UNKNOWN</td>\n      <td>四十九日</td>\n      <td>0.00</td>\n      <td>UNKNOWN</td>\n      <td>A music video for the song Shijuuku Nichi by S...</td>\n      <td>Music</td>\n      <td>1.0</td>\n      <td>Sep 5, 2022</td>\n      <td>...</td>\n      <td>Original</td>\n      <td>3 min</td>\n      <td>PG-13 - Teens 13 or older</td>\n      <td>0.0</td>\n      <td>0</td>\n      <td>0</td>\n      <td>0</td>\n      <td>0</td>\n      <td>https://cdn.myanimelist.net/images/anime/1902/...</td>\n      <td>shijuuku nichi</td>\n    </tr>\n  </tbody>\n</table>\n<p>24903 rows × 23 columns</p>\n</div>"
     },
     "execution_count": 7,
     "metadata": {},
     "output_type": "execute_result"
    }
   ],
   "source": [
    "anime"
   ],
   "metadata": {
    "collapsed": false,
    "ExecuteTime": {
     "end_time": "2024-04-11T17:55:01.492512100Z",
     "start_time": "2024-04-11T17:55:01.403436100Z"
    }
   },
   "id": "27d727149db85668"
  },
  {
   "cell_type": "code",
   "execution_count": 9,
   "outputs": [],
   "source": [
    "from sklearn.feature_extraction.text import TfidfVectorizer\n",
    "vectorizer = TfidfVectorizer()\n",
    "\n",
    "tfidf = vectorizer.fit_transform(anime['Mod_name'])"
   ],
   "metadata": {
    "collapsed": false,
    "ExecuteTime": {
     "end_time": "2024-04-11T17:55:20.239712200Z",
     "start_time": "2024-04-11T17:55:20.137322400Z"
    }
   },
   "id": "3aebbbeca742b0eb"
  },
  {
   "cell_type": "code",
   "execution_count": 10,
   "outputs": [],
   "source": [
    "from sklearn.metrics.pairwise import cosine_similarity\n",
    "import re\n",
    "\n",
    "def search(query, vectorizer):\n",
    "    processed_query = re.sub(\"[^a-zA-Z0-9 ]\", \"\", query.lower())\n",
    "    query_vec = vectorizer.transform([processed_query])\n",
    "    cosine_sim = cosine_similarity(query_vec, tfidf).flatten()\n",
    "    indices = np.argpartition(cosine_sim, -10)[-10:]\n",
    "    result = anime.iloc[indices].sort_values(\"Popularity\", ascending=True)\n",
    "    \n",
    "    return result\n",
    "    "
   ],
   "metadata": {
    "collapsed": false,
    "ExecuteTime": {
     "end_time": "2024-04-11T17:55:21.751252100Z",
     "start_time": "2024-04-11T17:55:21.082441900Z"
    }
   },
   "id": "b5148ad4cf12b5c1"
  },
  {
   "cell_type": "code",
   "execution_count": 10,
   "outputs": [
    {
     "data": {
      "text/plain": "       anime_id                                  Name  \\\n7428      16498                    Shingeki no Kyojin   \n9352      25777           Shingeki no Kyojin Season 2   \n13175     35760           Shingeki no Kyojin Season 3   \n14864     38524    Shingeki no Kyojin Season 3 Part 2   \n15821     40028  Shingeki no Kyojin: The Final Season   \n7857      18397                Shingeki no Kyojin OVA   \n16826     42091         Shingeki no Kyojin: Chronicle   \n8046      19391      Shingeki no Kyojin Picture Drama   \n15519     39477  Shingeki no Kyojin Season 3 Specials   \n12775     35122                    Shingeki no Kyotou   \n\n                                            English name  \\\n7428                                     Attack on Titan   \n9352                            Attack on Titan Season 2   \n13175                           Attack on Titan Season 3   \n14864                    Attack on Titan Season 3 Part 2   \n15821                      Attack on Titan: Final Season   \n7857                                 Attack on Titan OAD   \n16826                         Attack on Titan: Chronicle   \n8046   Attack on Titan: Chibi Theater - Fly, Cadets, ...   \n15519  Attack on Titan: Chibi Theater - Survey Corps,...   \n12775                                  Attack on Skytree   \n\n                         Other name  Score  \\\n7428                          進撃の巨人   8.54   \n9352                  進撃の巨人 Season2   8.50   \n13175                 進撃の巨人 Season3   8.62   \n14864          進撃の巨人 Season3 Part.2   9.05   \n15821        進撃の巨人 The Final Season   8.80   \n7857                       進撃の巨人ＯＡＤ   7.87   \n16826                 進撃の巨人 〜クロニクル〜   7.73   \n8046     「進撃の巨人」ちみキャラ劇場\"とんでけ! 訓練兵団\"   6.60   \n15519  ｢進撃の巨人｣ちみキャラ劇場”とんでけ！新生リヴァイ班”   7.55   \n12775                         進撃の巨塔   6.37   \n\n                                       Genres  \\\n7428   Action, Award Winning, Drama, Suspense   \n9352                  Action, Drama, Suspense   \n13175                           Action, Drama   \n14864                           Action, Drama   \n15821                           Action, Drama   \n7857                            Action, Drama   \n16826                           Action, Drama   \n8046                                   Comedy   \n15519                                  Comedy   \n12775                         Action, Fantasy   \n\n                                                Synopsis     Type Episodes  \\\n7428   Centuries ago, mankind was slaughtered to near...       TV     25.0   \n9352   For centuries, humanity has been hunted by gia...       TV     12.0   \n13175  Still threatened by the \"Titans\" that rob them...       TV     12.0   \n14864  Seeking to restore humanity's diminishing hope...       TV     10.0   \n15821  Gabi Braun and Falco Grice have been training ...       TV     16.0   \n7857   Ilse no Techou: Aru Chousa Heidanin no Shuki\\n...      OVA      3.0   \n16826  The compilation film will recap the anime's 59...    Movie      1.0   \n8046   Shingeki no Kyojin Picture Drama  is a series ...  Special      9.0   \n15519  Shingeki no Kyojin Season 3 DVD/BD specials. T...  Special      7.0   \n12775  A special anime featuring a battle against the...    Movie      1.0   \n\n                              Aired  ... Source       Duration  \\\n7428    Apr 7, 2013 to Sep 29, 2013  ...  Manga  24 min per ep   \n9352    Apr 1, 2017 to Jun 17, 2017  ...  Manga  24 min per ep   \n13175  Jul 23, 2018 to Oct 15, 2018  ...  Manga  23 min per ep   \n14864   Apr 29, 2019 to Jul 1, 2019  ...  Manga  23 min per ep   \n15821   Dec 7, 2020 to Mar 29, 2021  ...  Manga  23 min per ep   \n7857     Dec 9, 2013 to Aug 8, 2014  ...  Manga  23 min per ep   \n16826                  Jul 17, 2020  ...  Manga           2 hr   \n8046   Jul 17, 2013 to Mar 19, 2014  ...  Manga  10 min per ep   \n15519  Oct 17, 2018 to Sep 18, 2019  ...  Manga   2 min per ep   \n12775                  Apr 10, 2017  ...  Manga          7 min   \n\n                               Rating    Rank Popularity Favorites Scored By  \\\n7428   R - 17+ (violence & profanity)   107.0          1    163844   2660903   \n9352   R - 17+ (violence & profanity)   128.0         12     20899   1761316   \n13175  R - 17+ (violence & profanity)    78.0         18     19825   1505962   \n14864  R - 17+ (violence & profanity)     6.0         24     55245   1471825   \n15821  R - 17+ (violence & profanity)    34.0         41     51403   1219934   \n7857   R - 17+ (violence & profanity)   781.0        470       897    258640   \n16826  R - 17+ (violence & profanity)  1078.0       2208       224     25414   \n8046        PG-13 - Teens 13 or older  5842.0       2773        75     26703   \n15519                    G - All Ages  1569.0       3638        56      9721   \n12775       PG-13 - Teens 13 or older  7023.0       4170        81      6775   \n\n       Members                                          Image URL  \\\n7428   3744541  https://cdn.myanimelist.net/images/anime/10/47...   \n9352   2566796  https://cdn.myanimelist.net/images/anime/4/841...   \n13175  2212297  https://cdn.myanimelist.net/images/anime/1173/...   \n14864  2104016  https://cdn.myanimelist.net/images/anime/1517/...   \n15821  1846397  https://cdn.myanimelist.net/images/anime/1000/...   \n7857    442327  https://cdn.myanimelist.net/images/anime/9/592...   \n16826    81015  https://cdn.myanimelist.net/images/anime/1786/...   \n8046     54585  https://cdn.myanimelist.net/images/anime/8/534...   \n15519    32717  https://cdn.myanimelist.net/images/anime/1909/...   \n12775    24604  https://cdn.myanimelist.net/images/anime/3/847...   \n\n                                   Mod_name  \n7428                     shingeki no kyojin  \n9352            shingeki no kyojin season 2  \n13175           shingeki no kyojin season 3  \n14864    shingeki no kyojin season 3 part 2  \n15821   shingeki no kyojin the final season  \n7857                 shingeki no kyojin ova  \n16826          shingeki no kyojin chronicle  \n8046       shingeki no kyojin picture drama  \n15519  shingeki no kyojin season 3 specials  \n12775                    shingeki no kyotou  \n\n[10 rows x 23 columns]",
      "text/html": "<div>\n<style scoped>\n    .dataframe tbody tr th:only-of-type {\n        vertical-align: middle;\n    }\n\n    .dataframe tbody tr th {\n        vertical-align: top;\n    }\n\n    .dataframe thead th {\n        text-align: right;\n    }\n</style>\n<table border=\"1\" class=\"dataframe\">\n  <thead>\n    <tr style=\"text-align: right;\">\n      <th></th>\n      <th>anime_id</th>\n      <th>Name</th>\n      <th>English name</th>\n      <th>Other name</th>\n      <th>Score</th>\n      <th>Genres</th>\n      <th>Synopsis</th>\n      <th>Type</th>\n      <th>Episodes</th>\n      <th>Aired</th>\n      <th>...</th>\n      <th>Source</th>\n      <th>Duration</th>\n      <th>Rating</th>\n      <th>Rank</th>\n      <th>Popularity</th>\n      <th>Favorites</th>\n      <th>Scored By</th>\n      <th>Members</th>\n      <th>Image URL</th>\n      <th>Mod_name</th>\n    </tr>\n  </thead>\n  <tbody>\n    <tr>\n      <th>7428</th>\n      <td>16498</td>\n      <td>Shingeki no Kyojin</td>\n      <td>Attack on Titan</td>\n      <td>進撃の巨人</td>\n      <td>8.54</td>\n      <td>Action, Award Winning, Drama, Suspense</td>\n      <td>Centuries ago, mankind was slaughtered to near...</td>\n      <td>TV</td>\n      <td>25.0</td>\n      <td>Apr 7, 2013 to Sep 29, 2013</td>\n      <td>...</td>\n      <td>Manga</td>\n      <td>24 min per ep</td>\n      <td>R - 17+ (violence &amp; profanity)</td>\n      <td>107.0</td>\n      <td>1</td>\n      <td>163844</td>\n      <td>2660903</td>\n      <td>3744541</td>\n      <td>https://cdn.myanimelist.net/images/anime/10/47...</td>\n      <td>shingeki no kyojin</td>\n    </tr>\n    <tr>\n      <th>9352</th>\n      <td>25777</td>\n      <td>Shingeki no Kyojin Season 2</td>\n      <td>Attack on Titan Season 2</td>\n      <td>進撃の巨人 Season2</td>\n      <td>8.50</td>\n      <td>Action, Drama, Suspense</td>\n      <td>For centuries, humanity has been hunted by gia...</td>\n      <td>TV</td>\n      <td>12.0</td>\n      <td>Apr 1, 2017 to Jun 17, 2017</td>\n      <td>...</td>\n      <td>Manga</td>\n      <td>24 min per ep</td>\n      <td>R - 17+ (violence &amp; profanity)</td>\n      <td>128.0</td>\n      <td>12</td>\n      <td>20899</td>\n      <td>1761316</td>\n      <td>2566796</td>\n      <td>https://cdn.myanimelist.net/images/anime/4/841...</td>\n      <td>shingeki no kyojin season 2</td>\n    </tr>\n    <tr>\n      <th>13175</th>\n      <td>35760</td>\n      <td>Shingeki no Kyojin Season 3</td>\n      <td>Attack on Titan Season 3</td>\n      <td>進撃の巨人 Season3</td>\n      <td>8.62</td>\n      <td>Action, Drama</td>\n      <td>Still threatened by the \"Titans\" that rob them...</td>\n      <td>TV</td>\n      <td>12.0</td>\n      <td>Jul 23, 2018 to Oct 15, 2018</td>\n      <td>...</td>\n      <td>Manga</td>\n      <td>23 min per ep</td>\n      <td>R - 17+ (violence &amp; profanity)</td>\n      <td>78.0</td>\n      <td>18</td>\n      <td>19825</td>\n      <td>1505962</td>\n      <td>2212297</td>\n      <td>https://cdn.myanimelist.net/images/anime/1173/...</td>\n      <td>shingeki no kyojin season 3</td>\n    </tr>\n    <tr>\n      <th>14864</th>\n      <td>38524</td>\n      <td>Shingeki no Kyojin Season 3 Part 2</td>\n      <td>Attack on Titan Season 3 Part 2</td>\n      <td>進撃の巨人 Season3 Part.2</td>\n      <td>9.05</td>\n      <td>Action, Drama</td>\n      <td>Seeking to restore humanity's diminishing hope...</td>\n      <td>TV</td>\n      <td>10.0</td>\n      <td>Apr 29, 2019 to Jul 1, 2019</td>\n      <td>...</td>\n      <td>Manga</td>\n      <td>23 min per ep</td>\n      <td>R - 17+ (violence &amp; profanity)</td>\n      <td>6.0</td>\n      <td>24</td>\n      <td>55245</td>\n      <td>1471825</td>\n      <td>2104016</td>\n      <td>https://cdn.myanimelist.net/images/anime/1517/...</td>\n      <td>shingeki no kyojin season 3 part 2</td>\n    </tr>\n    <tr>\n      <th>15821</th>\n      <td>40028</td>\n      <td>Shingeki no Kyojin: The Final Season</td>\n      <td>Attack on Titan: Final Season</td>\n      <td>進撃の巨人 The Final Season</td>\n      <td>8.80</td>\n      <td>Action, Drama</td>\n      <td>Gabi Braun and Falco Grice have been training ...</td>\n      <td>TV</td>\n      <td>16.0</td>\n      <td>Dec 7, 2020 to Mar 29, 2021</td>\n      <td>...</td>\n      <td>Manga</td>\n      <td>23 min per ep</td>\n      <td>R - 17+ (violence &amp; profanity)</td>\n      <td>34.0</td>\n      <td>41</td>\n      <td>51403</td>\n      <td>1219934</td>\n      <td>1846397</td>\n      <td>https://cdn.myanimelist.net/images/anime/1000/...</td>\n      <td>shingeki no kyojin the final season</td>\n    </tr>\n    <tr>\n      <th>7857</th>\n      <td>18397</td>\n      <td>Shingeki no Kyojin OVA</td>\n      <td>Attack on Titan OAD</td>\n      <td>進撃の巨人ＯＡＤ</td>\n      <td>7.87</td>\n      <td>Action, Drama</td>\n      <td>Ilse no Techou: Aru Chousa Heidanin no Shuki\\n...</td>\n      <td>OVA</td>\n      <td>3.0</td>\n      <td>Dec 9, 2013 to Aug 8, 2014</td>\n      <td>...</td>\n      <td>Manga</td>\n      <td>23 min per ep</td>\n      <td>R - 17+ (violence &amp; profanity)</td>\n      <td>781.0</td>\n      <td>470</td>\n      <td>897</td>\n      <td>258640</td>\n      <td>442327</td>\n      <td>https://cdn.myanimelist.net/images/anime/9/592...</td>\n      <td>shingeki no kyojin ova</td>\n    </tr>\n    <tr>\n      <th>16826</th>\n      <td>42091</td>\n      <td>Shingeki no Kyojin: Chronicle</td>\n      <td>Attack on Titan: Chronicle</td>\n      <td>進撃の巨人 〜クロニクル〜</td>\n      <td>7.73</td>\n      <td>Action, Drama</td>\n      <td>The compilation film will recap the anime's 59...</td>\n      <td>Movie</td>\n      <td>1.0</td>\n      <td>Jul 17, 2020</td>\n      <td>...</td>\n      <td>Manga</td>\n      <td>2 hr</td>\n      <td>R - 17+ (violence &amp; profanity)</td>\n      <td>1078.0</td>\n      <td>2208</td>\n      <td>224</td>\n      <td>25414</td>\n      <td>81015</td>\n      <td>https://cdn.myanimelist.net/images/anime/1786/...</td>\n      <td>shingeki no kyojin chronicle</td>\n    </tr>\n    <tr>\n      <th>8046</th>\n      <td>19391</td>\n      <td>Shingeki no Kyojin Picture Drama</td>\n      <td>Attack on Titan: Chibi Theater - Fly, Cadets, ...</td>\n      <td>「進撃の巨人」ちみキャラ劇場\"とんでけ! 訓練兵団\"</td>\n      <td>6.60</td>\n      <td>Comedy</td>\n      <td>Shingeki no Kyojin Picture Drama  is a series ...</td>\n      <td>Special</td>\n      <td>9.0</td>\n      <td>Jul 17, 2013 to Mar 19, 2014</td>\n      <td>...</td>\n      <td>Manga</td>\n      <td>10 min per ep</td>\n      <td>PG-13 - Teens 13 or older</td>\n      <td>5842.0</td>\n      <td>2773</td>\n      <td>75</td>\n      <td>26703</td>\n      <td>54585</td>\n      <td>https://cdn.myanimelist.net/images/anime/8/534...</td>\n      <td>shingeki no kyojin picture drama</td>\n    </tr>\n    <tr>\n      <th>15519</th>\n      <td>39477</td>\n      <td>Shingeki no Kyojin Season 3 Specials</td>\n      <td>Attack on Titan: Chibi Theater - Survey Corps,...</td>\n      <td>｢進撃の巨人｣ちみキャラ劇場”とんでけ！新生リヴァイ班”</td>\n      <td>7.55</td>\n      <td>Comedy</td>\n      <td>Shingeki no Kyojin Season 3 DVD/BD specials. T...</td>\n      <td>Special</td>\n      <td>7.0</td>\n      <td>Oct 17, 2018 to Sep 18, 2019</td>\n      <td>...</td>\n      <td>Manga</td>\n      <td>2 min per ep</td>\n      <td>G - All Ages</td>\n      <td>1569.0</td>\n      <td>3638</td>\n      <td>56</td>\n      <td>9721</td>\n      <td>32717</td>\n      <td>https://cdn.myanimelist.net/images/anime/1909/...</td>\n      <td>shingeki no kyojin season 3 specials</td>\n    </tr>\n    <tr>\n      <th>12775</th>\n      <td>35122</td>\n      <td>Shingeki no Kyotou</td>\n      <td>Attack on Skytree</td>\n      <td>進撃の巨塔</td>\n      <td>6.37</td>\n      <td>Action, Fantasy</td>\n      <td>A special anime featuring a battle against the...</td>\n      <td>Movie</td>\n      <td>1.0</td>\n      <td>Apr 10, 2017</td>\n      <td>...</td>\n      <td>Manga</td>\n      <td>7 min</td>\n      <td>PG-13 - Teens 13 or older</td>\n      <td>7023.0</td>\n      <td>4170</td>\n      <td>81</td>\n      <td>6775</td>\n      <td>24604</td>\n      <td>https://cdn.myanimelist.net/images/anime/3/847...</td>\n      <td>shingeki no kyotou</td>\n    </tr>\n  </tbody>\n</table>\n<p>10 rows × 23 columns</p>\n</div>"
     },
     "execution_count": 10,
     "metadata": {},
     "output_type": "execute_result"
    }
   ],
   "source": [
    "search(\"Shingeki \", vectorizer)"
   ],
   "metadata": {
    "collapsed": false,
    "ExecuteTime": {
     "end_time": "2024-05-01T07:01:35.496007400Z",
     "start_time": "2024-05-01T07:01:35.134713100Z"
    }
   },
   "id": "f842516dd4503630"
  },
  {
   "cell_type": "code",
   "execution_count": null,
   "outputs": [],
   "source": [],
   "metadata": {
    "collapsed": false
   },
   "id": "ee40bc3e7678de85"
  }
 ],
 "metadata": {
  "kernelspec": {
   "display_name": "Python 3",
   "language": "python",
   "name": "python3"
  },
  "language_info": {
   "codemirror_mode": {
    "name": "ipython",
    "version": 2
   },
   "file_extension": ".py",
   "mimetype": "text/x-python",
   "name": "python",
   "nbconvert_exporter": "python",
   "pygments_lexer": "ipython2",
   "version": "2.7.6"
  }
 },
 "nbformat": 4,
 "nbformat_minor": 5
}
