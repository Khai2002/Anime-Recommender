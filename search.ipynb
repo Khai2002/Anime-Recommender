{
 "cells": [
  {
   "cell_type": "code",
   "execution_count": 1,
   "id": "initial_id",
   "metadata": {
    "collapsed": true,
    "ExecuteTime": {
     "end_time": "2024-04-30T07:29:34.183881300Z",
     "start_time": "2024-04-30T07:29:33.378911500Z"
    }
   },
   "outputs": [],
   "source": [
    "import numpy as np\n",
    "import pandas as pd"
   ]
  },
  {
   "cell_type": "code",
   "execution_count": 2,
   "outputs": [],
   "source": [
    "anime = pd.read_parquet('anime/anime.parquet')"
   ],
   "metadata": {
    "collapsed": false,
    "ExecuteTime": {
     "end_time": "2024-04-30T07:29:39.415750500Z",
     "start_time": "2024-04-30T07:29:39.182033700Z"
    }
   },
   "id": "5474536794b700ef"
  },
  {
   "cell_type": "code",
   "execution_count": 7,
   "outputs": [
    {
     "data": {
      "text/plain": "       anime_id                             Name             English name  \\\n0             1                     Cowboy Bebop             Cowboy Bebop   \n1             5  Cowboy Bebop: Tengoku no Tobira  Cowboy Bebop: The Movie   \n2             6                           Trigun                   Trigun   \n3             7               Witch Hunter Robin       Witch Hunter Robin   \n4             8                   Bouken Ou Beet   Beet the Vandel Buster   \n...         ...                              ...                      ...   \n24898     55731                      Wu Nao Monu                  UNKNOWN   \n24899     55732              Bu Xing Si: Yuan Qi              Blader Soul   \n24900     55733                      Di Yi Xulie          The First Order   \n24901     55734         Bokura no Saishuu Sensou                  UNKNOWN   \n24902     55735                   Shijuuku Nichi                  UNKNOWN   \n\n                             Other name  Score  \\\n0                             カウボーイビバップ   8.75   \n1                        カウボーイビバップ 天国の扉   8.38   \n2                                 トライガン   8.22   \n3      Witch Hunter ROBIN (ウイッチハンターロビン)   7.25   \n4                                冒険王ビィト   6.94   \n...                                 ...    ...   \n24898                              无脑魔女   0.00   \n24899                            捕星司·源起   0.00   \n24900                              第一序列   0.00   \n24901                           僕らの最終戦争   0.00   \n24902                              四十九日   0.00   \n\n                                     Genres  \\\n0             Action, Award Winning, Sci-Fi   \n1                            Action, Sci-Fi   \n2                 Action, Adventure, Sci-Fi   \n3      Action, Drama, Mystery, Supernatural   \n4          Adventure, Fantasy, Supernatural   \n...                                     ...   \n24898        Comedy, Fantasy, Slice of Life   \n24899            Action, Adventure, Fantasy   \n24900    Action, Adventure, Fantasy, Sci-Fi   \n24901                               UNKNOWN   \n24902                               UNKNOWN   \n\n                                                Synopsis   Type Episodes  \\\n0      Crime is timeless. By the year 2071, humanity ...     TV     26.0   \n1      Another day, another bounty—such is the life o...  Movie      1.0   \n2      Vash the Stampede is the man with a $$60,000,0...     TV     26.0   \n3      Robin Sena is a powerful craft user drafted in...     TV     26.0   \n4      It is the dark century and the people are suff...     TV     52.0   \n...                                                  ...    ...      ...   \n24898           No description available for this anime.    ONA     15.0   \n24899           No description available for this anime.    ONA     18.0   \n24900           No description available for this anime.    ONA     16.0   \n24901  A music video for the song Bokura no Saishuu S...  Music      1.0   \n24902  A music video for the song Shijuuku Nichi by S...  Music      1.0   \n\n                              Aired  ...     Source       Duration  \\\n0       Apr 3, 1998 to Apr 24, 1999  ...   Original  24 min per ep   \n1                       Sep 1, 2001  ...   Original    1 hr 55 min   \n2       Apr 1, 1998 to Sep 30, 1998  ...      Manga  24 min per ep   \n3       Jul 3, 2002 to Dec 25, 2002  ...   Original  25 min per ep   \n4      Sep 30, 2004 to Sep 29, 2005  ...      Manga  23 min per ep   \n...                             ...  ...        ...            ...   \n24898              Jul 4, 2023 to ?  ...  Web manga        Unknown   \n24899             Jul 27, 2023 to ?  ...  Web novel        Unknown   \n24900             Jul 19, 2023 to ?  ...  Web novel        Unknown   \n24901                  Apr 23, 2022  ...   Original          3 min   \n24902                   Sep 5, 2022  ...   Original          3 min   \n\n                               Rating     Rank Popularity Favorites Scored By  \\\n0      R - 17+ (violence & profanity)     41.0         43     78525    914193   \n1      R - 17+ (violence & profanity)    189.0        602      1448    206248   \n2           PG-13 - Teens 13 or older    328.0        246     15035    356739   \n3           PG-13 - Teens 13 or older   2764.0       1795       613     42829   \n4                       PG - Children   4240.0       5126        14      6413   \n...                               ...      ...        ...       ...       ...   \n24898       PG-13 - Teens 13 or older  UNKNOWN      24723         0         0   \n24899       PG-13 - Teens 13 or older      0.0          0         0         0   \n24900       PG-13 - Teens 13 or older      0.0          0         0         0   \n24901       PG-13 - Teens 13 or older      0.0          0         0         0   \n24902       PG-13 - Teens 13 or older      0.0          0         0         0   \n\n       Members                                          Image URL  \\\n0      1771505  https://cdn.myanimelist.net/images/anime/4/196...   \n1       360978  https://cdn.myanimelist.net/images/anime/1439/...   \n2       727252  https://cdn.myanimelist.net/images/anime/7/203...   \n3       111931  https://cdn.myanimelist.net/images/anime/10/19...   \n4        15001  https://cdn.myanimelist.net/images/anime/7/215...   \n...        ...                                                ...   \n24898        0  https://cdn.myanimelist.net/images/anime/1386/...   \n24899        0  https://cdn.myanimelist.net/images/anime/1383/...   \n24900        0  https://cdn.myanimelist.net/images/anime/1130/...   \n24901        0  https://cdn.myanimelist.net/images/anime/1931/...   \n24902        0  https://cdn.myanimelist.net/images/anime/1902/...   \n\n                             Mod_name  \n0                        cowboy bebop  \n1      cowboy bebop tengoku no tobira  \n2                              trigun  \n3                  witch hunter robin  \n4                      bouken ou beet  \n...                               ...  \n24898                     wu nao monu  \n24899              bu xing si yuan qi  \n24900                     di yi xulie  \n24901        bokura no saishuu sensou  \n24902                  shijuuku nichi  \n\n[24903 rows x 23 columns]",
      "text/html": "<div>\n<style scoped>\n    .dataframe tbody tr th:only-of-type {\n        vertical-align: middle;\n    }\n\n    .dataframe tbody tr th {\n        vertical-align: top;\n    }\n\n    .dataframe thead th {\n        text-align: right;\n    }\n</style>\n<table border=\"1\" class=\"dataframe\">\n  <thead>\n    <tr style=\"text-align: right;\">\n      <th></th>\n      <th>anime_id</th>\n      <th>Name</th>\n      <th>English name</th>\n      <th>Other name</th>\n      <th>Score</th>\n      <th>Genres</th>\n      <th>Synopsis</th>\n      <th>Type</th>\n      <th>Episodes</th>\n      <th>Aired</th>\n      <th>...</th>\n      <th>Source</th>\n      <th>Duration</th>\n      <th>Rating</th>\n      <th>Rank</th>\n      <th>Popularity</th>\n      <th>Favorites</th>\n      <th>Scored By</th>\n      <th>Members</th>\n      <th>Image URL</th>\n      <th>Mod_name</th>\n    </tr>\n  </thead>\n  <tbody>\n    <tr>\n      <th>0</th>\n      <td>1</td>\n      <td>Cowboy Bebop</td>\n      <td>Cowboy Bebop</td>\n      <td>カウボーイビバップ</td>\n      <td>8.75</td>\n      <td>Action, Award Winning, Sci-Fi</td>\n      <td>Crime is timeless. By the year 2071, humanity ...</td>\n      <td>TV</td>\n      <td>26.0</td>\n      <td>Apr 3, 1998 to Apr 24, 1999</td>\n      <td>...</td>\n      <td>Original</td>\n      <td>24 min per ep</td>\n      <td>R - 17+ (violence &amp; profanity)</td>\n      <td>41.0</td>\n      <td>43</td>\n      <td>78525</td>\n      <td>914193</td>\n      <td>1771505</td>\n      <td>https://cdn.myanimelist.net/images/anime/4/196...</td>\n      <td>cowboy bebop</td>\n    </tr>\n    <tr>\n      <th>1</th>\n      <td>5</td>\n      <td>Cowboy Bebop: Tengoku no Tobira</td>\n      <td>Cowboy Bebop: The Movie</td>\n      <td>カウボーイビバップ 天国の扉</td>\n      <td>8.38</td>\n      <td>Action, Sci-Fi</td>\n      <td>Another day, another bounty—such is the life o...</td>\n      <td>Movie</td>\n      <td>1.0</td>\n      <td>Sep 1, 2001</td>\n      <td>...</td>\n      <td>Original</td>\n      <td>1 hr 55 min</td>\n      <td>R - 17+ (violence &amp; profanity)</td>\n      <td>189.0</td>\n      <td>602</td>\n      <td>1448</td>\n      <td>206248</td>\n      <td>360978</td>\n      <td>https://cdn.myanimelist.net/images/anime/1439/...</td>\n      <td>cowboy bebop tengoku no tobira</td>\n    </tr>\n    <tr>\n      <th>2</th>\n      <td>6</td>\n      <td>Trigun</td>\n      <td>Trigun</td>\n      <td>トライガン</td>\n      <td>8.22</td>\n      <td>Action, Adventure, Sci-Fi</td>\n      <td>Vash the Stampede is the man with a $$60,000,0...</td>\n      <td>TV</td>\n      <td>26.0</td>\n      <td>Apr 1, 1998 to Sep 30, 1998</td>\n      <td>...</td>\n      <td>Manga</td>\n      <td>24 min per ep</td>\n      <td>PG-13 - Teens 13 or older</td>\n      <td>328.0</td>\n      <td>246</td>\n      <td>15035</td>\n      <td>356739</td>\n      <td>727252</td>\n      <td>https://cdn.myanimelist.net/images/anime/7/203...</td>\n      <td>trigun</td>\n    </tr>\n    <tr>\n      <th>3</th>\n      <td>7</td>\n      <td>Witch Hunter Robin</td>\n      <td>Witch Hunter Robin</td>\n      <td>Witch Hunter ROBIN (ウイッチハンターロビン)</td>\n      <td>7.25</td>\n      <td>Action, Drama, Mystery, Supernatural</td>\n      <td>Robin Sena is a powerful craft user drafted in...</td>\n      <td>TV</td>\n      <td>26.0</td>\n      <td>Jul 3, 2002 to Dec 25, 2002</td>\n      <td>...</td>\n      <td>Original</td>\n      <td>25 min per ep</td>\n      <td>PG-13 - Teens 13 or older</td>\n      <td>2764.0</td>\n      <td>1795</td>\n      <td>613</td>\n      <td>42829</td>\n      <td>111931</td>\n      <td>https://cdn.myanimelist.net/images/anime/10/19...</td>\n      <td>witch hunter robin</td>\n    </tr>\n    <tr>\n      <th>4</th>\n      <td>8</td>\n      <td>Bouken Ou Beet</td>\n      <td>Beet the Vandel Buster</td>\n      <td>冒険王ビィト</td>\n      <td>6.94</td>\n      <td>Adventure, Fantasy, Supernatural</td>\n      <td>It is the dark century and the people are suff...</td>\n      <td>TV</td>\n      <td>52.0</td>\n      <td>Sep 30, 2004 to Sep 29, 2005</td>\n      <td>...</td>\n      <td>Manga</td>\n      <td>23 min per ep</td>\n      <td>PG - Children</td>\n      <td>4240.0</td>\n      <td>5126</td>\n      <td>14</td>\n      <td>6413</td>\n      <td>15001</td>\n      <td>https://cdn.myanimelist.net/images/anime/7/215...</td>\n      <td>bouken ou beet</td>\n    </tr>\n    <tr>\n      <th>...</th>\n      <td>...</td>\n      <td>...</td>\n      <td>...</td>\n      <td>...</td>\n      <td>...</td>\n      <td>...</td>\n      <td>...</td>\n      <td>...</td>\n      <td>...</td>\n      <td>...</td>\n      <td>...</td>\n      <td>...</td>\n      <td>...</td>\n      <td>...</td>\n      <td>...</td>\n      <td>...</td>\n      <td>...</td>\n      <td>...</td>\n      <td>...</td>\n      <td>...</td>\n      <td>...</td>\n    </tr>\n    <tr>\n      <th>24898</th>\n      <td>55731</td>\n      <td>Wu Nao Monu</td>\n      <td>UNKNOWN</td>\n      <td>无脑魔女</td>\n      <td>0.00</td>\n      <td>Comedy, Fantasy, Slice of Life</td>\n      <td>No description available for this anime.</td>\n      <td>ONA</td>\n      <td>15.0</td>\n      <td>Jul 4, 2023 to ?</td>\n      <td>...</td>\n      <td>Web manga</td>\n      <td>Unknown</td>\n      <td>PG-13 - Teens 13 or older</td>\n      <td>UNKNOWN</td>\n      <td>24723</td>\n      <td>0</td>\n      <td>0</td>\n      <td>0</td>\n      <td>https://cdn.myanimelist.net/images/anime/1386/...</td>\n      <td>wu nao monu</td>\n    </tr>\n    <tr>\n      <th>24899</th>\n      <td>55732</td>\n      <td>Bu Xing Si: Yuan Qi</td>\n      <td>Blader Soul</td>\n      <td>捕星司·源起</td>\n      <td>0.00</td>\n      <td>Action, Adventure, Fantasy</td>\n      <td>No description available for this anime.</td>\n      <td>ONA</td>\n      <td>18.0</td>\n      <td>Jul 27, 2023 to ?</td>\n      <td>...</td>\n      <td>Web novel</td>\n      <td>Unknown</td>\n      <td>PG-13 - Teens 13 or older</td>\n      <td>0.0</td>\n      <td>0</td>\n      <td>0</td>\n      <td>0</td>\n      <td>0</td>\n      <td>https://cdn.myanimelist.net/images/anime/1383/...</td>\n      <td>bu xing si yuan qi</td>\n    </tr>\n    <tr>\n      <th>24900</th>\n      <td>55733</td>\n      <td>Di Yi Xulie</td>\n      <td>The First Order</td>\n      <td>第一序列</td>\n      <td>0.00</td>\n      <td>Action, Adventure, Fantasy, Sci-Fi</td>\n      <td>No description available for this anime.</td>\n      <td>ONA</td>\n      <td>16.0</td>\n      <td>Jul 19, 2023 to ?</td>\n      <td>...</td>\n      <td>Web novel</td>\n      <td>Unknown</td>\n      <td>PG-13 - Teens 13 or older</td>\n      <td>0.0</td>\n      <td>0</td>\n      <td>0</td>\n      <td>0</td>\n      <td>0</td>\n      <td>https://cdn.myanimelist.net/images/anime/1130/...</td>\n      <td>di yi xulie</td>\n    </tr>\n    <tr>\n      <th>24901</th>\n      <td>55734</td>\n      <td>Bokura no Saishuu Sensou</td>\n      <td>UNKNOWN</td>\n      <td>僕らの最終戦争</td>\n      <td>0.00</td>\n      <td>UNKNOWN</td>\n      <td>A music video for the song Bokura no Saishuu S...</td>\n      <td>Music</td>\n      <td>1.0</td>\n      <td>Apr 23, 2022</td>\n      <td>...</td>\n      <td>Original</td>\n      <td>3 min</td>\n      <td>PG-13 - Teens 13 or older</td>\n      <td>0.0</td>\n      <td>0</td>\n      <td>0</td>\n      <td>0</td>\n      <td>0</td>\n      <td>https://cdn.myanimelist.net/images/anime/1931/...</td>\n      <td>bokura no saishuu sensou</td>\n    </tr>\n    <tr>\n      <th>24902</th>\n      <td>55735</td>\n      <td>Shijuuku Nichi</td>\n      <td>UNKNOWN</td>\n      <td>四十九日</td>\n      <td>0.00</td>\n      <td>UNKNOWN</td>\n      <td>A music video for the song Shijuuku Nichi by S...</td>\n      <td>Music</td>\n      <td>1.0</td>\n      <td>Sep 5, 2022</td>\n      <td>...</td>\n      <td>Original</td>\n      <td>3 min</td>\n      <td>PG-13 - Teens 13 or older</td>\n      <td>0.0</td>\n      <td>0</td>\n      <td>0</td>\n      <td>0</td>\n      <td>0</td>\n      <td>https://cdn.myanimelist.net/images/anime/1902/...</td>\n      <td>shijuuku nichi</td>\n    </tr>\n  </tbody>\n</table>\n<p>24903 rows × 23 columns</p>\n</div>"
     },
     "execution_count": 7,
     "metadata": {},
     "output_type": "execute_result"
    }
   ],
   "source": [
    "anime"
   ],
   "metadata": {
    "collapsed": false,
    "ExecuteTime": {
     "end_time": "2024-04-11T17:55:01.492512100Z",
     "start_time": "2024-04-11T17:55:01.403436100Z"
    }
   },
   "id": "27d727149db85668"
  },
  {
   "cell_type": "code",
   "execution_count": 8,
   "outputs": [],
   "source": [
    "from sklearn.feature_extraction.text import TfidfVectorizer\n",
    "vectorizer = TfidfVectorizer()\n",
    "\n",
    "tfidf = vectorizer.fit_transform(anime['Mod_name'])"
   ],
   "metadata": {
    "collapsed": false,
    "ExecuteTime": {
     "end_time": "2024-04-30T07:30:09.754635300Z",
     "start_time": "2024-04-30T07:30:09.611022600Z"
    }
   },
   "id": "3aebbbeca742b0eb"
  },
  {
   "cell_type": "code",
   "execution_count": 7,
   "outputs": [],
   "source": [
    "from sklearn.metrics.pairwise import cosine_similarity\n",
    "import re\n",
    "\n",
    "def search(query, vectorizer):\n",
    "    processed_query = re.sub(\"[^a-zA-Z0-9 ]\", \"\", query.lower())\n",
    "    query_vec = vectorizer.transform([processed_query])\n",
    "    cosine_sim = cosine_similarity(query_vec, tfidf).flatten()\n",
    "    indices = np.argpartition(cosine_sim, -10)[-10:]\n",
    "    result = anime.iloc[indices].sort_values(\"Popularity\", ascending=True)\n",
    "    \n",
    "    return result\n",
    "\n",
    "\n",
    "    "
   ],
   "metadata": {
    "collapsed": false,
    "ExecuteTime": {
     "end_time": "2024-04-30T07:30:07.946848Z",
     "start_time": "2024-04-30T07:30:07.920685600Z"
    }
   },
   "id": "b5148ad4cf12b5c1"
  },
  {
   "cell_type": "code",
   "execution_count": 9,
   "outputs": [
    {
     "data": {
      "text/plain": "       anime_id                                               Name  \\\n24288     54880               Demon Queen Just Wants to Make Peace   \n24886     55719                   The Demon Queen Has a Death Wish   \n24872     55697                                       demon slayer   \n24826     55643                           MY WIFE IS A DEMON QUEEN   \n8306      20787                                       Black Bullet   \n8298      20723                           Kyousou Giga (TV) Recaps   \n10780     31118  Demon Busters: Ecchi na Ecchi na Demon Taiji T...   \n4486       6184                            Makaryuudo Demon Hunter   \n15330     39204                                  Demon Dance Tokyo   \n8776      22975                         Kaibutsu-kun: Demon no Ken   \n\n                                            English name  \\\n24288                                            UNKNOWN   \n24886                                            UNKNOWN   \n24872  Junior High and High School!! Kimetsu Academy ...   \n24826                           MY WIFE IS A DEMON QUEEN   \n8306                                        Black Bullet   \n8298                                             UNKNOWN   \n10780                                            UNKNOWN   \n4486                                             UNKNOWN   \n15330                                  Demon Dance Tokyo   \n8776                                             UNKNOWN   \n\n                                     Other name  Score  \\\n24288                        눈을 떠보니 마왕이 되어있었습니다   0.00   \n24886                                마왕님은 죽고 싶어   0.00   \n24872                                   UNKNOWN   0.00   \n24826                                  我老婆是魔王大人   0.00   \n8306              ブラック・ブレット　BLACK BULLET　［黒の銃弾］   7.09   \n8298                                       京騒戯画   6.51   \n10780  デーモンバスターズ ~えっちなえっちなデーモン退治~ THE ANIMATION   6.73   \n4486                                        魔狩人   5.52   \n15330                              デーモンダンストーキョー   6.60   \n8776                                怪物くん デーモンの剣   5.72   \n\n                                    Genres  \\\n24288       Fantasy, Romance, Supernatural   \n24886                     Fantasy, Romance   \n24872                               Comedy   \n24826  Action, Adventure, Fantasy, Romance   \n8306               Action, Mystery, Sci-Fi   \n8298                       Action, Fantasy   \n10780                 Supernatural, Hentai   \n4486                          Supernatural   \n15330                              UNKNOWN   \n8776                        Comedy, Horror   \n\n                                                Synopsis     Type Episodes  \\\n24288  Jinjoo has suddenly been transported into her ...      ONA  UNKNOWN   \n24886  I wanted to die.. until I met him.\\nAfter brea...      ONA     10.0   \n24872           No description available for this anime.  Special      4.0   \n24826  Xiang Ye was a fairly ordinary young man; afte...      ONA  UNKNOWN   \n8306   In the year 2021, a parasitic virus known as \"...       TV     13.0   \n8298   Recaps of ONA (Episode 0) and 2013 TV Anime Se...  Special      2.0   \n10780  Kou is a member of the public morals committee...      OVA      1.0   \n4486   Yama Rikudo is not your average teenage girl. ...      OVA      1.0   \n15330  An original song by Eve, animated by Mah. The ...    Music      1.0   \n8776   Based on the shounen manga by Fujiko Fujio.\\n\\...    Movie      1.0   \n\n                             Aired  ...        Source       Duration  \\\n24288            Mar 27, 2023 to ?  ...     Web manga          7 min   \n24886                    2023 to ?  ...     Web manga   6 min per ep   \n24872                Not available  ...       Unknown  20 min per ep   \n24826                Not available  ...     Web manga          5 min   \n8306    Apr 8, 2014 to Jul 1, 2014  ...   Light novel  24 min per ep   \n8298   Oct 3, 2013 to Dec 26, 2013  ...      Original  26 min per ep   \n10780                 Sep 25, 2015  ...  Visual novel         26 min   \n4486                   Nov 8, 1989  ...         Manga         30 min   \n15330                 Oct 19, 2016  ...      Original          4 min   \n8776                  Mar 13, 1982  ...       Unknown         55 min   \n\n                               Rating     Rank Popularity Favorites Scored By  \\\n24288                         UNKNOWN      0.0          0         0         0   \n24886       PG-13 - Teens 13 or older      0.0          0         0         0   \n24872                         UNKNOWN      0.0          0         0         0   \n24826       PG-13 - Teens 13 or older      0.0          0         0         0   \n8306   R - 17+ (violence & profanity)   3599.0        169      3713    477177   \n8298        PG-13 - Teens 13 or older   6327.0       5819         3      4978   \n10780                     Rx - Hentai  UNKNOWN       6581        37      3128   \n4486                 R+ - Mild Nudity  10714.0       9350         5      1210   \n15330                    G - All Ages  UNKNOWN      12997         2       502   \n8776                     G - All Ages  10004.0      15203         0       112   \n\n       Members                                          Image URL  \\\n24288        0  https://cdn.myanimelist.net/images/anime/1540/...   \n24886        0  https://cdn.myanimelist.net/images/anime/1527/...   \n24872        0  https://cdn.myanimelist.net/img/sp/icon/apple-...   \n24826        0  https://cdn.myanimelist.net/img/sp/icon/apple-...   \n8306    895523  https://cdn.myanimelist.net/images/anime/1292/...   \n8298     10943  https://cdn.myanimelist.net/images/anime/12/57...   \n10780     8110  https://cdn.myanimelist.net/images/anime/1112/...   \n4486      3133  https://cdn.myanimelist.net/images/anime/11/69...   \n15330      895  https://cdn.myanimelist.net/images/anime/1647/...   \n8776       468  https://cdn.myanimelist.net/images/anime/10/59...   \n\n                                                Mod_name  \n24288               demon queen just wants to make peace  \n24886                   the demon queen has a death wish  \n24872                                       demon slayer  \n24826                           my wife is a demon queen  \n8306                                        black bullet  \n8298                              kyousou giga tv recaps  \n10780  demon busters ecchi na ecchi na demon taiji th...  \n4486                             makaryuudo demon hunter  \n15330                                  demon dance tokyo  \n8776                            kaibutsukun demon no ken  \n\n[10 rows x 23 columns]",
      "text/html": "<div>\n<style scoped>\n    .dataframe tbody tr th:only-of-type {\n        vertical-align: middle;\n    }\n\n    .dataframe tbody tr th {\n        vertical-align: top;\n    }\n\n    .dataframe thead th {\n        text-align: right;\n    }\n</style>\n<table border=\"1\" class=\"dataframe\">\n  <thead>\n    <tr style=\"text-align: right;\">\n      <th></th>\n      <th>anime_id</th>\n      <th>Name</th>\n      <th>English name</th>\n      <th>Other name</th>\n      <th>Score</th>\n      <th>Genres</th>\n      <th>Synopsis</th>\n      <th>Type</th>\n      <th>Episodes</th>\n      <th>Aired</th>\n      <th>...</th>\n      <th>Source</th>\n      <th>Duration</th>\n      <th>Rating</th>\n      <th>Rank</th>\n      <th>Popularity</th>\n      <th>Favorites</th>\n      <th>Scored By</th>\n      <th>Members</th>\n      <th>Image URL</th>\n      <th>Mod_name</th>\n    </tr>\n  </thead>\n  <tbody>\n    <tr>\n      <th>24288</th>\n      <td>54880</td>\n      <td>Demon Queen Just Wants to Make Peace</td>\n      <td>UNKNOWN</td>\n      <td>눈을 떠보니 마왕이 되어있었습니다</td>\n      <td>0.00</td>\n      <td>Fantasy, Romance, Supernatural</td>\n      <td>Jinjoo has suddenly been transported into her ...</td>\n      <td>ONA</td>\n      <td>UNKNOWN</td>\n      <td>Mar 27, 2023 to ?</td>\n      <td>...</td>\n      <td>Web manga</td>\n      <td>7 min</td>\n      <td>UNKNOWN</td>\n      <td>0.0</td>\n      <td>0</td>\n      <td>0</td>\n      <td>0</td>\n      <td>0</td>\n      <td>https://cdn.myanimelist.net/images/anime/1540/...</td>\n      <td>demon queen just wants to make peace</td>\n    </tr>\n    <tr>\n      <th>24886</th>\n      <td>55719</td>\n      <td>The Demon Queen Has a Death Wish</td>\n      <td>UNKNOWN</td>\n      <td>마왕님은 죽고 싶어</td>\n      <td>0.00</td>\n      <td>Fantasy, Romance</td>\n      <td>I wanted to die.. until I met him.\\nAfter brea...</td>\n      <td>ONA</td>\n      <td>10.0</td>\n      <td>2023 to ?</td>\n      <td>...</td>\n      <td>Web manga</td>\n      <td>6 min per ep</td>\n      <td>PG-13 - Teens 13 or older</td>\n      <td>0.0</td>\n      <td>0</td>\n      <td>0</td>\n      <td>0</td>\n      <td>0</td>\n      <td>https://cdn.myanimelist.net/images/anime/1527/...</td>\n      <td>the demon queen has a death wish</td>\n    </tr>\n    <tr>\n      <th>24872</th>\n      <td>55697</td>\n      <td>demon slayer</td>\n      <td>Junior High and High School!! Kimetsu Academy ...</td>\n      <td>UNKNOWN</td>\n      <td>0.00</td>\n      <td>Comedy</td>\n      <td>No description available for this anime.</td>\n      <td>Special</td>\n      <td>4.0</td>\n      <td>Not available</td>\n      <td>...</td>\n      <td>Unknown</td>\n      <td>20 min per ep</td>\n      <td>UNKNOWN</td>\n      <td>0.0</td>\n      <td>0</td>\n      <td>0</td>\n      <td>0</td>\n      <td>0</td>\n      <td>https://cdn.myanimelist.net/img/sp/icon/apple-...</td>\n      <td>demon slayer</td>\n    </tr>\n    <tr>\n      <th>24826</th>\n      <td>55643</td>\n      <td>MY WIFE IS A DEMON QUEEN</td>\n      <td>MY WIFE IS A DEMON QUEEN</td>\n      <td>我老婆是魔王大人</td>\n      <td>0.00</td>\n      <td>Action, Adventure, Fantasy, Romance</td>\n      <td>Xiang Ye was a fairly ordinary young man; afte...</td>\n      <td>ONA</td>\n      <td>UNKNOWN</td>\n      <td>Not available</td>\n      <td>...</td>\n      <td>Web manga</td>\n      <td>5 min</td>\n      <td>PG-13 - Teens 13 or older</td>\n      <td>0.0</td>\n      <td>0</td>\n      <td>0</td>\n      <td>0</td>\n      <td>0</td>\n      <td>https://cdn.myanimelist.net/img/sp/icon/apple-...</td>\n      <td>my wife is a demon queen</td>\n    </tr>\n    <tr>\n      <th>8306</th>\n      <td>20787</td>\n      <td>Black Bullet</td>\n      <td>Black Bullet</td>\n      <td>ブラック・ブレット　BLACK BULLET　［黒の銃弾］</td>\n      <td>7.09</td>\n      <td>Action, Mystery, Sci-Fi</td>\n      <td>In the year 2021, a parasitic virus known as \"...</td>\n      <td>TV</td>\n      <td>13.0</td>\n      <td>Apr 8, 2014 to Jul 1, 2014</td>\n      <td>...</td>\n      <td>Light novel</td>\n      <td>24 min per ep</td>\n      <td>R - 17+ (violence &amp; profanity)</td>\n      <td>3599.0</td>\n      <td>169</td>\n      <td>3713</td>\n      <td>477177</td>\n      <td>895523</td>\n      <td>https://cdn.myanimelist.net/images/anime/1292/...</td>\n      <td>black bullet</td>\n    </tr>\n    <tr>\n      <th>8298</th>\n      <td>20723</td>\n      <td>Kyousou Giga (TV) Recaps</td>\n      <td>UNKNOWN</td>\n      <td>京騒戯画</td>\n      <td>6.51</td>\n      <td>Action, Fantasy</td>\n      <td>Recaps of ONA (Episode 0) and 2013 TV Anime Se...</td>\n      <td>Special</td>\n      <td>2.0</td>\n      <td>Oct 3, 2013 to Dec 26, 2013</td>\n      <td>...</td>\n      <td>Original</td>\n      <td>26 min per ep</td>\n      <td>PG-13 - Teens 13 or older</td>\n      <td>6327.0</td>\n      <td>5819</td>\n      <td>3</td>\n      <td>4978</td>\n      <td>10943</td>\n      <td>https://cdn.myanimelist.net/images/anime/12/57...</td>\n      <td>kyousou giga tv recaps</td>\n    </tr>\n    <tr>\n      <th>10780</th>\n      <td>31118</td>\n      <td>Demon Busters: Ecchi na Ecchi na Demon Taiji T...</td>\n      <td>UNKNOWN</td>\n      <td>デーモンバスターズ ~えっちなえっちなデーモン退治~ THE ANIMATION</td>\n      <td>6.73</td>\n      <td>Supernatural, Hentai</td>\n      <td>Kou is a member of the public morals committee...</td>\n      <td>OVA</td>\n      <td>1.0</td>\n      <td>Sep 25, 2015</td>\n      <td>...</td>\n      <td>Visual novel</td>\n      <td>26 min</td>\n      <td>Rx - Hentai</td>\n      <td>UNKNOWN</td>\n      <td>6581</td>\n      <td>37</td>\n      <td>3128</td>\n      <td>8110</td>\n      <td>https://cdn.myanimelist.net/images/anime/1112/...</td>\n      <td>demon busters ecchi na ecchi na demon taiji th...</td>\n    </tr>\n    <tr>\n      <th>4486</th>\n      <td>6184</td>\n      <td>Makaryuudo Demon Hunter</td>\n      <td>UNKNOWN</td>\n      <td>魔狩人</td>\n      <td>5.52</td>\n      <td>Supernatural</td>\n      <td>Yama Rikudo is not your average teenage girl. ...</td>\n      <td>OVA</td>\n      <td>1.0</td>\n      <td>Nov 8, 1989</td>\n      <td>...</td>\n      <td>Manga</td>\n      <td>30 min</td>\n      <td>R+ - Mild Nudity</td>\n      <td>10714.0</td>\n      <td>9350</td>\n      <td>5</td>\n      <td>1210</td>\n      <td>3133</td>\n      <td>https://cdn.myanimelist.net/images/anime/11/69...</td>\n      <td>makaryuudo demon hunter</td>\n    </tr>\n    <tr>\n      <th>15330</th>\n      <td>39204</td>\n      <td>Demon Dance Tokyo</td>\n      <td>Demon Dance Tokyo</td>\n      <td>デーモンダンストーキョー</td>\n      <td>6.60</td>\n      <td>UNKNOWN</td>\n      <td>An original song by Eve, animated by Mah. The ...</td>\n      <td>Music</td>\n      <td>1.0</td>\n      <td>Oct 19, 2016</td>\n      <td>...</td>\n      <td>Original</td>\n      <td>4 min</td>\n      <td>G - All Ages</td>\n      <td>UNKNOWN</td>\n      <td>12997</td>\n      <td>2</td>\n      <td>502</td>\n      <td>895</td>\n      <td>https://cdn.myanimelist.net/images/anime/1647/...</td>\n      <td>demon dance tokyo</td>\n    </tr>\n    <tr>\n      <th>8776</th>\n      <td>22975</td>\n      <td>Kaibutsu-kun: Demon no Ken</td>\n      <td>UNKNOWN</td>\n      <td>怪物くん デーモンの剣</td>\n      <td>5.72</td>\n      <td>Comedy, Horror</td>\n      <td>Based on the shounen manga by Fujiko Fujio.\\n\\...</td>\n      <td>Movie</td>\n      <td>1.0</td>\n      <td>Mar 13, 1982</td>\n      <td>...</td>\n      <td>Unknown</td>\n      <td>55 min</td>\n      <td>G - All Ages</td>\n      <td>10004.0</td>\n      <td>15203</td>\n      <td>0</td>\n      <td>112</td>\n      <td>468</td>\n      <td>https://cdn.myanimelist.net/images/anime/10/59...</td>\n      <td>kaibutsukun demon no ken</td>\n    </tr>\n  </tbody>\n</table>\n<p>10 rows × 23 columns</p>\n</div>"
     },
     "execution_count": 9,
     "metadata": {},
     "output_type": "execute_result"
    }
   ],
   "source": [
    "search(\"\", vectorizer)"
   ],
   "metadata": {
    "collapsed": false,
    "ExecuteTime": {
     "end_time": "2024-04-30T07:30:12.025261900Z",
     "start_time": "2024-04-30T07:30:11.994077500Z"
    }
   },
   "id": "f842516dd4503630"
  },
  {
   "cell_type": "code",
   "execution_count": null,
   "outputs": [],
   "source": [],
   "metadata": {
    "collapsed": false
   },
   "id": "ee40bc3e7678de85"
  }
 ],
 "metadata": {
  "kernelspec": {
   "display_name": "Python 3",
   "language": "python",
   "name": "python3"
  },
  "language_info": {
   "codemirror_mode": {
    "name": "ipython",
    "version": 2
   },
   "file_extension": ".py",
   "mimetype": "text/x-python",
   "name": "python",
   "nbconvert_exporter": "python",
   "pygments_lexer": "ipython2",
   "version": "2.7.6"
  }
 },
 "nbformat": 4,
 "nbformat_minor": 5
}
