{
 "cells": [
  {
   "cell_type": "code",
   "execution_count": 1,
   "id": "initial_id",
   "metadata": {
    "collapsed": true,
    "ExecuteTime": {
     "end_time": "2024-03-28T08:51:24.356886300Z",
     "start_time": "2024-03-28T08:51:19.646608100Z"
    }
   },
   "outputs": [],
   "source": [
    "import numpy as np\n",
    "import pandas as pd"
   ]
  },
  {
   "cell_type": "code",
   "execution_count": 2,
   "outputs": [],
   "source": [
    "anime = pd.read_parquet('anime/anime.parquet')"
   ],
   "metadata": {
    "collapsed": false,
    "ExecuteTime": {
     "end_time": "2024-03-28T08:51:25.311545500Z",
     "start_time": "2024-03-28T08:51:24.355887700Z"
    }
   },
   "id": "5474536794b700ef"
  },
  {
   "cell_type": "code",
   "execution_count": 3,
   "outputs": [],
   "source": [
    "from sklearn.feature_extraction.text import TfidfVectorizer\n",
    "vectorizer = TfidfVectorizer()\n",
    "\n",
    "tfidf = vectorizer.fit_transform(anime['mod_name'])"
   ],
   "metadata": {
    "collapsed": false,
    "ExecuteTime": {
     "end_time": "2024-03-28T08:51:31.936987800Z",
     "start_time": "2024-03-28T08:51:25.318141900Z"
    }
   },
   "id": "3aebbbeca742b0eb"
  },
  {
   "cell_type": "code",
   "execution_count": 4,
   "outputs": [],
   "source": [
    "from sklearn.metrics.pairwise import cosine_similarity\n",
    "import re\n",
    "\n",
    "def search(query, vectorizer):\n",
    "    processed_query = re.sub(\"[^a-zA-Z0-9 ]\", \"\", query.lower())\n",
    "    query_vec = vectorizer.transform([processed_query])\n",
    "    cosine_sim = cosine_similarity(query_vec, tfidf).flatten()\n",
    "    indices = np.argpartition(cosine_sim, -10)[-10:]\n",
    "    result = anime.iloc[indices].sort_values(\"Popularity\", ascending=True)\n",
    "    \n",
    "    return result\n",
    "    "
   ],
   "metadata": {
    "collapsed": false,
    "ExecuteTime": {
     "end_time": "2024-03-28T08:51:32.495763Z",
     "start_time": "2024-03-28T08:51:31.946528400Z"
    }
   },
   "id": "b5148ad4cf12b5c1"
  },
  {
   "cell_type": "code",
   "execution_count": 6,
   "outputs": [
    {
     "data": {
      "text/plain": "       anime_id                                               Name  \\\n11           21                                          One Piece   \n6823      12859                                  One Piece Film: Z   \n10917     31490                               One Piece Film: Gold   \n21804     50410                                One Piece Film: Red   \n430         459                                 One Piece Movie 01   \n5245       8171                                    One Piece Recap   \n7364      16143  One Piece: Kinkyuu Kikaku One Piece Kanzen Kou...   \n23898     54196                                       One Piece 4D   \n5311       8312                                              Piece   \n23662     53880                          One Piece The Planetarium   \n\n                                                mod_name  Score  \\\n11                                             one piece   8.69   \n6823                                    one piece film z   8.14   \n10917                                one piece film gold   7.90   \n21804                                 one piece film red   7.86   \n430                                   one piece movie 01   7.09   \n5245                                     one piece recap   7.13   \n7364   one piece kinkyuu kikaku one piece kanzen kour...   7.07   \n23898                                       one piece 4d   6.23   \n5311                                               piece   5.99   \n23662                          one piece the planetarium   6.19   \n\n                                                  Genres     Type Episodes  \\\n11                            Action, Adventure, Fantasy       TV  UNKNOWN   \n6823                          Action, Adventure, Fantasy    Movie      1.0   \n10917                         Action, Adventure, Fantasy    Movie      1.0   \n21804  Action, Adventure, Award Winning, Comedy, Dram...    Movie      1.0   \n430                           Action, Adventure, Fantasy    Movie      1.0   \n5245                          Action, Adventure, Fantasy      OVA      1.0   \n7364                          Action, Adventure, Fantasy  Special      1.0   \n23898                                  Action, Adventure  Special      1.0   \n5311                                             UNKNOWN    Music      1.0   \n23662                         Adventure, Comedy, Fantasy    Movie      1.0   \n\n                   Aired  Premiered            Status         Studios Source  \\\n11     Oct 20, 1999 to ?  fall 1999  Currently Airing  Toei Animation  Manga   \n6823        Dec 15, 2012    UNKNOWN   Finished Airing  Toei Animation  Manga   \n10917       Jul 23, 2016    UNKNOWN   Finished Airing  Toei Animation  Manga   \n21804        Aug 6, 2022    UNKNOWN   Finished Airing  Toei Animation  Manga   \n430          Mar 4, 2000    UNKNOWN   Finished Airing  Toei Animation  Manga   \n5245        Mar 17, 2010    UNKNOWN   Finished Airing  Toei Animation  Manga   \n7364        Dec 22, 1999    UNKNOWN   Finished Airing  Toei Animation  Manga   \n23898       Mar 13, 2015    UNKNOWN   Finished Airing         UNKNOWN  Manga   \n5311        Feb 25, 2009    UNKNOWN   Finished Airing   Studio Ghibli  Music   \n23662       Jul 13, 2013    UNKNOWN   Finished Airing  Toei Animation  Manga   \n\n          Duration                     Rating    Rank  Popularity  Favorites  \\\n11          24 min  PG-13 - Teens 13 or older    55.0          20     198986   \n6823   1 hr 47 min  PG-13 - Teens 13 or older   416.0         844        601   \n10917         2 hr  PG-13 - Teens 13 or older   722.0        1118        380   \n21804  1 hr 55 min  PG-13 - Teens 13 or older   801.0        1573       1529   \n430         50 min  PG-13 - Teens 13 or older  3578.0        1669        317   \n5245        29 min  PG-13 - Teens 13 or older  3418.0        4464         15   \n7364        24 min  PG-13 - Teens 13 or older  3683.0        4870         11   \n23898        5 min              PG - Children  7729.0        9447         10   \n5311         5 min               G - All Ages     NaN        9790          0   \n23662       30 min  PG-13 - Teens 13 or older  7916.0       13091          1   \n\n       Scored By  Members                                          Image URL  \n11     1226493.0  2168904  https://cdn.myanimelist.net/images/anime/6/732...  \n6823    168575.0   264996  https://cdn.myanimelist.net/images/anime/6/442...  \n10917   119863.0   200138  https://cdn.myanimelist.net/images/anime/12/81...  \n21804    68003.0   132341  https://cdn.myanimelist.net/images/anime/1668/...  \n430      71332.0   123297  https://cdn.myanimelist.net/images/anime/1770/...  \n5245      8664.0    21057  https://cdn.myanimelist.net/images/anime/9/207...  \n7364      6734.0    17268  https://cdn.myanimelist.net/images/anime/13/45...  \n23898      722.0     3046  https://cdn.myanimelist.net/images/anime/1455/...  \n5311      1199.0     2661  https://cdn.myanimelist.net/images/anime/8/812...  \n23662      153.0      871  https://cdn.myanimelist.net/images/anime/1348/...  ",
      "text/html": "<div>\n<style scoped>\n    .dataframe tbody tr th:only-of-type {\n        vertical-align: middle;\n    }\n\n    .dataframe tbody tr th {\n        vertical-align: top;\n    }\n\n    .dataframe thead th {\n        text-align: right;\n    }\n</style>\n<table border=\"1\" class=\"dataframe\">\n  <thead>\n    <tr style=\"text-align: right;\">\n      <th></th>\n      <th>anime_id</th>\n      <th>Name</th>\n      <th>mod_name</th>\n      <th>Score</th>\n      <th>Genres</th>\n      <th>Type</th>\n      <th>Episodes</th>\n      <th>Aired</th>\n      <th>Premiered</th>\n      <th>Status</th>\n      <th>Studios</th>\n      <th>Source</th>\n      <th>Duration</th>\n      <th>Rating</th>\n      <th>Rank</th>\n      <th>Popularity</th>\n      <th>Favorites</th>\n      <th>Scored By</th>\n      <th>Members</th>\n      <th>Image URL</th>\n    </tr>\n  </thead>\n  <tbody>\n    <tr>\n      <th>11</th>\n      <td>21</td>\n      <td>One Piece</td>\n      <td>one piece</td>\n      <td>8.69</td>\n      <td>Action, Adventure, Fantasy</td>\n      <td>TV</td>\n      <td>UNKNOWN</td>\n      <td>Oct 20, 1999 to ?</td>\n      <td>fall 1999</td>\n      <td>Currently Airing</td>\n      <td>Toei Animation</td>\n      <td>Manga</td>\n      <td>24 min</td>\n      <td>PG-13 - Teens 13 or older</td>\n      <td>55.0</td>\n      <td>20</td>\n      <td>198986</td>\n      <td>1226493.0</td>\n      <td>2168904</td>\n      <td>https://cdn.myanimelist.net/images/anime/6/732...</td>\n    </tr>\n    <tr>\n      <th>6823</th>\n      <td>12859</td>\n      <td>One Piece Film: Z</td>\n      <td>one piece film z</td>\n      <td>8.14</td>\n      <td>Action, Adventure, Fantasy</td>\n      <td>Movie</td>\n      <td>1.0</td>\n      <td>Dec 15, 2012</td>\n      <td>UNKNOWN</td>\n      <td>Finished Airing</td>\n      <td>Toei Animation</td>\n      <td>Manga</td>\n      <td>1 hr 47 min</td>\n      <td>PG-13 - Teens 13 or older</td>\n      <td>416.0</td>\n      <td>844</td>\n      <td>601</td>\n      <td>168575.0</td>\n      <td>264996</td>\n      <td>https://cdn.myanimelist.net/images/anime/6/442...</td>\n    </tr>\n    <tr>\n      <th>10917</th>\n      <td>31490</td>\n      <td>One Piece Film: Gold</td>\n      <td>one piece film gold</td>\n      <td>7.90</td>\n      <td>Action, Adventure, Fantasy</td>\n      <td>Movie</td>\n      <td>1.0</td>\n      <td>Jul 23, 2016</td>\n      <td>UNKNOWN</td>\n      <td>Finished Airing</td>\n      <td>Toei Animation</td>\n      <td>Manga</td>\n      <td>2 hr</td>\n      <td>PG-13 - Teens 13 or older</td>\n      <td>722.0</td>\n      <td>1118</td>\n      <td>380</td>\n      <td>119863.0</td>\n      <td>200138</td>\n      <td>https://cdn.myanimelist.net/images/anime/12/81...</td>\n    </tr>\n    <tr>\n      <th>21804</th>\n      <td>50410</td>\n      <td>One Piece Film: Red</td>\n      <td>one piece film red</td>\n      <td>7.86</td>\n      <td>Action, Adventure, Award Winning, Comedy, Dram...</td>\n      <td>Movie</td>\n      <td>1.0</td>\n      <td>Aug 6, 2022</td>\n      <td>UNKNOWN</td>\n      <td>Finished Airing</td>\n      <td>Toei Animation</td>\n      <td>Manga</td>\n      <td>1 hr 55 min</td>\n      <td>PG-13 - Teens 13 or older</td>\n      <td>801.0</td>\n      <td>1573</td>\n      <td>1529</td>\n      <td>68003.0</td>\n      <td>132341</td>\n      <td>https://cdn.myanimelist.net/images/anime/1668/...</td>\n    </tr>\n    <tr>\n      <th>430</th>\n      <td>459</td>\n      <td>One Piece Movie 01</td>\n      <td>one piece movie 01</td>\n      <td>7.09</td>\n      <td>Action, Adventure, Fantasy</td>\n      <td>Movie</td>\n      <td>1.0</td>\n      <td>Mar 4, 2000</td>\n      <td>UNKNOWN</td>\n      <td>Finished Airing</td>\n      <td>Toei Animation</td>\n      <td>Manga</td>\n      <td>50 min</td>\n      <td>PG-13 - Teens 13 or older</td>\n      <td>3578.0</td>\n      <td>1669</td>\n      <td>317</td>\n      <td>71332.0</td>\n      <td>123297</td>\n      <td>https://cdn.myanimelist.net/images/anime/1770/...</td>\n    </tr>\n    <tr>\n      <th>5245</th>\n      <td>8171</td>\n      <td>One Piece Recap</td>\n      <td>one piece recap</td>\n      <td>7.13</td>\n      <td>Action, Adventure, Fantasy</td>\n      <td>OVA</td>\n      <td>1.0</td>\n      <td>Mar 17, 2010</td>\n      <td>UNKNOWN</td>\n      <td>Finished Airing</td>\n      <td>Toei Animation</td>\n      <td>Manga</td>\n      <td>29 min</td>\n      <td>PG-13 - Teens 13 or older</td>\n      <td>3418.0</td>\n      <td>4464</td>\n      <td>15</td>\n      <td>8664.0</td>\n      <td>21057</td>\n      <td>https://cdn.myanimelist.net/images/anime/9/207...</td>\n    </tr>\n    <tr>\n      <th>7364</th>\n      <td>16143</td>\n      <td>One Piece: Kinkyuu Kikaku One Piece Kanzen Kou...</td>\n      <td>one piece kinkyuu kikaku one piece kanzen kour...</td>\n      <td>7.07</td>\n      <td>Action, Adventure, Fantasy</td>\n      <td>Special</td>\n      <td>1.0</td>\n      <td>Dec 22, 1999</td>\n      <td>UNKNOWN</td>\n      <td>Finished Airing</td>\n      <td>Toei Animation</td>\n      <td>Manga</td>\n      <td>24 min</td>\n      <td>PG-13 - Teens 13 or older</td>\n      <td>3683.0</td>\n      <td>4870</td>\n      <td>11</td>\n      <td>6734.0</td>\n      <td>17268</td>\n      <td>https://cdn.myanimelist.net/images/anime/13/45...</td>\n    </tr>\n    <tr>\n      <th>23898</th>\n      <td>54196</td>\n      <td>One Piece 4D</td>\n      <td>one piece 4d</td>\n      <td>6.23</td>\n      <td>Action, Adventure</td>\n      <td>Special</td>\n      <td>1.0</td>\n      <td>Mar 13, 2015</td>\n      <td>UNKNOWN</td>\n      <td>Finished Airing</td>\n      <td>UNKNOWN</td>\n      <td>Manga</td>\n      <td>5 min</td>\n      <td>PG - Children</td>\n      <td>7729.0</td>\n      <td>9447</td>\n      <td>10</td>\n      <td>722.0</td>\n      <td>3046</td>\n      <td>https://cdn.myanimelist.net/images/anime/1455/...</td>\n    </tr>\n    <tr>\n      <th>5311</th>\n      <td>8312</td>\n      <td>Piece</td>\n      <td>piece</td>\n      <td>5.99</td>\n      <td>UNKNOWN</td>\n      <td>Music</td>\n      <td>1.0</td>\n      <td>Feb 25, 2009</td>\n      <td>UNKNOWN</td>\n      <td>Finished Airing</td>\n      <td>Studio Ghibli</td>\n      <td>Music</td>\n      <td>5 min</td>\n      <td>G - All Ages</td>\n      <td>NaN</td>\n      <td>9790</td>\n      <td>0</td>\n      <td>1199.0</td>\n      <td>2661</td>\n      <td>https://cdn.myanimelist.net/images/anime/8/812...</td>\n    </tr>\n    <tr>\n      <th>23662</th>\n      <td>53880</td>\n      <td>One Piece The Planetarium</td>\n      <td>one piece the planetarium</td>\n      <td>6.19</td>\n      <td>Adventure, Comedy, Fantasy</td>\n      <td>Movie</td>\n      <td>1.0</td>\n      <td>Jul 13, 2013</td>\n      <td>UNKNOWN</td>\n      <td>Finished Airing</td>\n      <td>Toei Animation</td>\n      <td>Manga</td>\n      <td>30 min</td>\n      <td>PG-13 - Teens 13 or older</td>\n      <td>7916.0</td>\n      <td>13091</td>\n      <td>1</td>\n      <td>153.0</td>\n      <td>871</td>\n      <td>https://cdn.myanimelist.net/images/anime/1348/...</td>\n    </tr>\n  </tbody>\n</table>\n</div>"
     },
     "execution_count": 6,
     "metadata": {},
     "output_type": "execute_result"
    }
   ],
   "source": [
    "search(\"One Piece\", vectorizer)"
   ],
   "metadata": {
    "collapsed": false,
    "ExecuteTime": {
     "end_time": "2024-03-28T08:52:22.903521700Z",
     "start_time": "2024-03-28T08:52:22.830499100Z"
    }
   },
   "id": "f842516dd4503630"
  },
  {
   "cell_type": "code",
   "execution_count": null,
   "outputs": [],
   "source": [],
   "metadata": {
    "collapsed": false
   },
   "id": "ee40bc3e7678de85"
  }
 ],
 "metadata": {
  "kernelspec": {
   "display_name": "Python 3",
   "language": "python",
   "name": "python3"
  },
  "language_info": {
   "codemirror_mode": {
    "name": "ipython",
    "version": 2
   },
   "file_extension": ".py",
   "mimetype": "text/x-python",
   "name": "python",
   "nbconvert_exporter": "python",
   "pygments_lexer": "ipython2",
   "version": "2.7.6"
  }
 },
 "nbformat": 4,
 "nbformat_minor": 5
}
