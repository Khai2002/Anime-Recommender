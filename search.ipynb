{
 "cells": [
  {
   "cell_type": "code",
   "execution_count": 1,
   "id": "initial_id",
   "metadata": {
    "collapsed": true,
    "ExecuteTime": {
     "end_time": "2024-04-12T07:27:27.840042800Z",
     "start_time": "2024-04-12T07:27:27.051619Z"
    }
   },
   "outputs": [],
   "source": [
    "import numpy as np\n",
    "import pandas as pd"
   ]
  },
  {
   "cell_type": "code",
   "execution_count": 2,
   "outputs": [],
   "source": [
    "anime = pd.read_parquet('anime/anime.parquet')"
   ],
   "metadata": {
    "collapsed": false,
    "ExecuteTime": {
     "end_time": "2024-04-12T07:27:28.009858900Z",
     "start_time": "2024-04-12T07:27:27.842334300Z"
    }
   },
   "id": "5474536794b700ef"
  },
  {
   "cell_type": "code",
   "execution_count": 3,
   "outputs": [
    {
     "data": {
      "text/plain": "       anime_id                             Name  \\\n0             1                     Cowboy Bebop   \n1             5  Cowboy Bebop: Tengoku no Tobira   \n2             6                           Trigun   \n3             7               Witch Hunter Robin   \n4             8                   Bouken Ou Beet   \n...         ...                              ...   \n24898     55731                      Wu Nao Monu   \n24899     55732              Bu Xing Si: Yuan Qi   \n24900     55733                      Di Yi Xulie   \n24901     55734         Bokura no Saishuu Sensou   \n24902     55735                   Shijuuku Nichi   \n\n                             mod_name             English name  \\\n0                        cowboy bebop             Cowboy Bebop   \n1      cowboy bebop tengoku no tobira  Cowboy Bebop: The Movie   \n2                              trigun                   Trigun   \n3                  witch hunter robin       Witch Hunter Robin   \n4                      bouken ou beet   Beet the Vandel Buster   \n...                               ...                      ...   \n24898                     wu nao monu                  UNKNOWN   \n24899              bu xing si yuan qi              Blader Soul   \n24900                     di yi xulie          The First Order   \n24901        bokura no saishuu sensou                  UNKNOWN   \n24902                  shijuuku nichi                  UNKNOWN   \n\n                             Other name  Score  \\\n0                             カウボーイビバップ   8.75   \n1                        カウボーイビバップ 天国の扉   8.38   \n2                                 トライガン   8.22   \n3      Witch Hunter ROBIN (ウイッチハンターロビン)   7.25   \n4                                冒険王ビィト   6.94   \n...                                 ...    ...   \n24898                              无脑魔女   0.00   \n24899                            捕星司·源起   0.00   \n24900                              第一序列   0.00   \n24901                           僕らの最終戦争   0.00   \n24902                              四十九日   0.00   \n\n                                     Genres  \\\n0             Action, Award Winning, Sci-Fi   \n1                            Action, Sci-Fi   \n2                 Action, Adventure, Sci-Fi   \n3      Action, Drama, Mystery, Supernatural   \n4          Adventure, Fantasy, Supernatural   \n...                                     ...   \n24898        Comedy, Fantasy, Slice of Life   \n24899            Action, Adventure, Fantasy   \n24900    Action, Adventure, Fantasy, Sci-Fi   \n24901                               UNKNOWN   \n24902                               UNKNOWN   \n\n                                                Synopsis   Type Episodes  ...  \\\n0      Crime is timeless. By the year 2071, humanity ...     TV     26.0  ...   \n1      Another day, another bounty—such is the life o...  Movie      1.0  ...   \n2      Vash the Stampede is the man with a $$60,000,0...     TV     26.0  ...   \n3      Robin Sena is a powerful craft user drafted in...     TV     26.0  ...   \n4      It is the dark century and the people are suff...     TV     52.0  ...   \n...                                                  ...    ...      ...  ...   \n24898           No description available for this anime.    ONA     15.0  ...   \n24899           No description available for this anime.    ONA     18.0  ...   \n24900           No description available for this anime.    ONA     16.0  ...   \n24901  A music video for the song Bokura no Saishuu S...  Music      1.0  ...   \n24902  A music video for the song Shijuuku Nichi by S...  Music      1.0  ...   \n\n          Source       Duration                          Rating     Rank  \\\n0       Original  24 min per ep  R - 17+ (violence & profanity)     41.0   \n1       Original    1 hr 55 min  R - 17+ (violence & profanity)    189.0   \n2          Manga  24 min per ep       PG-13 - Teens 13 or older    328.0   \n3       Original  25 min per ep       PG-13 - Teens 13 or older   2764.0   \n4          Manga  23 min per ep                   PG - Children   4240.0   \n...          ...            ...                             ...      ...   \n24898  Web manga        Unknown       PG-13 - Teens 13 or older  UNKNOWN   \n24899  Web novel        Unknown       PG-13 - Teens 13 or older      0.0   \n24900  Web novel        Unknown       PG-13 - Teens 13 or older      0.0   \n24901   Original          3 min       PG-13 - Teens 13 or older      0.0   \n24902   Original          3 min       PG-13 - Teens 13 or older      0.0   \n\n      Popularity Favorites Scored By  Members  \\\n0             43     78525    914193  1771505   \n1            602      1448    206248   360978   \n2            246     15035    356739   727252   \n3           1795       613     42829   111931   \n4           5126        14      6413    15001   \n...          ...       ...       ...      ...   \n24898      24723         0         0        0   \n24899          0         0         0        0   \n24900          0         0         0        0   \n24901          0         0         0        0   \n24902          0         0         0        0   \n\n                                               Image URL  \\\n0      https://cdn.myanimelist.net/images/anime/4/196...   \n1      https://cdn.myanimelist.net/images/anime/1439/...   \n2      https://cdn.myanimelist.net/images/anime/7/203...   \n3      https://cdn.myanimelist.net/images/anime/10/19...   \n4      https://cdn.myanimelist.net/images/anime/7/215...   \n...                                                  ...   \n24898  https://cdn.myanimelist.net/images/anime/1386/...   \n24899  https://cdn.myanimelist.net/images/anime/1383/...   \n24900  https://cdn.myanimelist.net/images/anime/1130/...   \n24901  https://cdn.myanimelist.net/images/anime/1931/...   \n24902  https://cdn.myanimelist.net/images/anime/1902/...   \n\n                             Mod_name  \n0                        cowboy bebop  \n1      cowboy bebop tengoku no tobira  \n2                              trigun  \n3                  witch hunter robin  \n4                      bouken ou beet  \n...                               ...  \n24898                     wu nao monu  \n24899              bu xing si yuan qi  \n24900                     di yi xulie  \n24901        bokura no saishuu sensou  \n24902                  shijuuku nichi  \n\n[24903 rows x 24 columns]",
      "text/html": "<div>\n<style scoped>\n    .dataframe tbody tr th:only-of-type {\n        vertical-align: middle;\n    }\n\n    .dataframe tbody tr th {\n        vertical-align: top;\n    }\n\n    .dataframe thead th {\n        text-align: right;\n    }\n</style>\n<table border=\"1\" class=\"dataframe\">\n  <thead>\n    <tr style=\"text-align: right;\">\n      <th></th>\n      <th>anime_id</th>\n      <th>Name</th>\n      <th>mod_name</th>\n      <th>English name</th>\n      <th>Other name</th>\n      <th>Score</th>\n      <th>Genres</th>\n      <th>Synopsis</th>\n      <th>Type</th>\n      <th>Episodes</th>\n      <th>...</th>\n      <th>Source</th>\n      <th>Duration</th>\n      <th>Rating</th>\n      <th>Rank</th>\n      <th>Popularity</th>\n      <th>Favorites</th>\n      <th>Scored By</th>\n      <th>Members</th>\n      <th>Image URL</th>\n      <th>Mod_name</th>\n    </tr>\n  </thead>\n  <tbody>\n    <tr>\n      <th>0</th>\n      <td>1</td>\n      <td>Cowboy Bebop</td>\n      <td>cowboy bebop</td>\n      <td>Cowboy Bebop</td>\n      <td>カウボーイビバップ</td>\n      <td>8.75</td>\n      <td>Action, Award Winning, Sci-Fi</td>\n      <td>Crime is timeless. By the year 2071, humanity ...</td>\n      <td>TV</td>\n      <td>26.0</td>\n      <td>...</td>\n      <td>Original</td>\n      <td>24 min per ep</td>\n      <td>R - 17+ (violence &amp; profanity)</td>\n      <td>41.0</td>\n      <td>43</td>\n      <td>78525</td>\n      <td>914193</td>\n      <td>1771505</td>\n      <td>https://cdn.myanimelist.net/images/anime/4/196...</td>\n      <td>cowboy bebop</td>\n    </tr>\n    <tr>\n      <th>1</th>\n      <td>5</td>\n      <td>Cowboy Bebop: Tengoku no Tobira</td>\n      <td>cowboy bebop tengoku no tobira</td>\n      <td>Cowboy Bebop: The Movie</td>\n      <td>カウボーイビバップ 天国の扉</td>\n      <td>8.38</td>\n      <td>Action, Sci-Fi</td>\n      <td>Another day, another bounty—such is the life o...</td>\n      <td>Movie</td>\n      <td>1.0</td>\n      <td>...</td>\n      <td>Original</td>\n      <td>1 hr 55 min</td>\n      <td>R - 17+ (violence &amp; profanity)</td>\n      <td>189.0</td>\n      <td>602</td>\n      <td>1448</td>\n      <td>206248</td>\n      <td>360978</td>\n      <td>https://cdn.myanimelist.net/images/anime/1439/...</td>\n      <td>cowboy bebop tengoku no tobira</td>\n    </tr>\n    <tr>\n      <th>2</th>\n      <td>6</td>\n      <td>Trigun</td>\n      <td>trigun</td>\n      <td>Trigun</td>\n      <td>トライガン</td>\n      <td>8.22</td>\n      <td>Action, Adventure, Sci-Fi</td>\n      <td>Vash the Stampede is the man with a $$60,000,0...</td>\n      <td>TV</td>\n      <td>26.0</td>\n      <td>...</td>\n      <td>Manga</td>\n      <td>24 min per ep</td>\n      <td>PG-13 - Teens 13 or older</td>\n      <td>328.0</td>\n      <td>246</td>\n      <td>15035</td>\n      <td>356739</td>\n      <td>727252</td>\n      <td>https://cdn.myanimelist.net/images/anime/7/203...</td>\n      <td>trigun</td>\n    </tr>\n    <tr>\n      <th>3</th>\n      <td>7</td>\n      <td>Witch Hunter Robin</td>\n      <td>witch hunter robin</td>\n      <td>Witch Hunter Robin</td>\n      <td>Witch Hunter ROBIN (ウイッチハンターロビン)</td>\n      <td>7.25</td>\n      <td>Action, Drama, Mystery, Supernatural</td>\n      <td>Robin Sena is a powerful craft user drafted in...</td>\n      <td>TV</td>\n      <td>26.0</td>\n      <td>...</td>\n      <td>Original</td>\n      <td>25 min per ep</td>\n      <td>PG-13 - Teens 13 or older</td>\n      <td>2764.0</td>\n      <td>1795</td>\n      <td>613</td>\n      <td>42829</td>\n      <td>111931</td>\n      <td>https://cdn.myanimelist.net/images/anime/10/19...</td>\n      <td>witch hunter robin</td>\n    </tr>\n    <tr>\n      <th>4</th>\n      <td>8</td>\n      <td>Bouken Ou Beet</td>\n      <td>bouken ou beet</td>\n      <td>Beet the Vandel Buster</td>\n      <td>冒険王ビィト</td>\n      <td>6.94</td>\n      <td>Adventure, Fantasy, Supernatural</td>\n      <td>It is the dark century and the people are suff...</td>\n      <td>TV</td>\n      <td>52.0</td>\n      <td>...</td>\n      <td>Manga</td>\n      <td>23 min per ep</td>\n      <td>PG - Children</td>\n      <td>4240.0</td>\n      <td>5126</td>\n      <td>14</td>\n      <td>6413</td>\n      <td>15001</td>\n      <td>https://cdn.myanimelist.net/images/anime/7/215...</td>\n      <td>bouken ou beet</td>\n    </tr>\n    <tr>\n      <th>...</th>\n      <td>...</td>\n      <td>...</td>\n      <td>...</td>\n      <td>...</td>\n      <td>...</td>\n      <td>...</td>\n      <td>...</td>\n      <td>...</td>\n      <td>...</td>\n      <td>...</td>\n      <td>...</td>\n      <td>...</td>\n      <td>...</td>\n      <td>...</td>\n      <td>...</td>\n      <td>...</td>\n      <td>...</td>\n      <td>...</td>\n      <td>...</td>\n      <td>...</td>\n      <td>...</td>\n    </tr>\n    <tr>\n      <th>24898</th>\n      <td>55731</td>\n      <td>Wu Nao Monu</td>\n      <td>wu nao monu</td>\n      <td>UNKNOWN</td>\n      <td>无脑魔女</td>\n      <td>0.00</td>\n      <td>Comedy, Fantasy, Slice of Life</td>\n      <td>No description available for this anime.</td>\n      <td>ONA</td>\n      <td>15.0</td>\n      <td>...</td>\n      <td>Web manga</td>\n      <td>Unknown</td>\n      <td>PG-13 - Teens 13 or older</td>\n      <td>UNKNOWN</td>\n      <td>24723</td>\n      <td>0</td>\n      <td>0</td>\n      <td>0</td>\n      <td>https://cdn.myanimelist.net/images/anime/1386/...</td>\n      <td>wu nao monu</td>\n    </tr>\n    <tr>\n      <th>24899</th>\n      <td>55732</td>\n      <td>Bu Xing Si: Yuan Qi</td>\n      <td>bu xing si yuan qi</td>\n      <td>Blader Soul</td>\n      <td>捕星司·源起</td>\n      <td>0.00</td>\n      <td>Action, Adventure, Fantasy</td>\n      <td>No description available for this anime.</td>\n      <td>ONA</td>\n      <td>18.0</td>\n      <td>...</td>\n      <td>Web novel</td>\n      <td>Unknown</td>\n      <td>PG-13 - Teens 13 or older</td>\n      <td>0.0</td>\n      <td>0</td>\n      <td>0</td>\n      <td>0</td>\n      <td>0</td>\n      <td>https://cdn.myanimelist.net/images/anime/1383/...</td>\n      <td>bu xing si yuan qi</td>\n    </tr>\n    <tr>\n      <th>24900</th>\n      <td>55733</td>\n      <td>Di Yi Xulie</td>\n      <td>di yi xulie</td>\n      <td>The First Order</td>\n      <td>第一序列</td>\n      <td>0.00</td>\n      <td>Action, Adventure, Fantasy, Sci-Fi</td>\n      <td>No description available for this anime.</td>\n      <td>ONA</td>\n      <td>16.0</td>\n      <td>...</td>\n      <td>Web novel</td>\n      <td>Unknown</td>\n      <td>PG-13 - Teens 13 or older</td>\n      <td>0.0</td>\n      <td>0</td>\n      <td>0</td>\n      <td>0</td>\n      <td>0</td>\n      <td>https://cdn.myanimelist.net/images/anime/1130/...</td>\n      <td>di yi xulie</td>\n    </tr>\n    <tr>\n      <th>24901</th>\n      <td>55734</td>\n      <td>Bokura no Saishuu Sensou</td>\n      <td>bokura no saishuu sensou</td>\n      <td>UNKNOWN</td>\n      <td>僕らの最終戦争</td>\n      <td>0.00</td>\n      <td>UNKNOWN</td>\n      <td>A music video for the song Bokura no Saishuu S...</td>\n      <td>Music</td>\n      <td>1.0</td>\n      <td>...</td>\n      <td>Original</td>\n      <td>3 min</td>\n      <td>PG-13 - Teens 13 or older</td>\n      <td>0.0</td>\n      <td>0</td>\n      <td>0</td>\n      <td>0</td>\n      <td>0</td>\n      <td>https://cdn.myanimelist.net/images/anime/1931/...</td>\n      <td>bokura no saishuu sensou</td>\n    </tr>\n    <tr>\n      <th>24902</th>\n      <td>55735</td>\n      <td>Shijuuku Nichi</td>\n      <td>shijuuku nichi</td>\n      <td>UNKNOWN</td>\n      <td>四十九日</td>\n      <td>0.00</td>\n      <td>UNKNOWN</td>\n      <td>A music video for the song Shijuuku Nichi by S...</td>\n      <td>Music</td>\n      <td>1.0</td>\n      <td>...</td>\n      <td>Original</td>\n      <td>3 min</td>\n      <td>PG-13 - Teens 13 or older</td>\n      <td>0.0</td>\n      <td>0</td>\n      <td>0</td>\n      <td>0</td>\n      <td>0</td>\n      <td>https://cdn.myanimelist.net/images/anime/1902/...</td>\n      <td>shijuuku nichi</td>\n    </tr>\n  </tbody>\n</table>\n<p>24903 rows × 24 columns</p>\n</div>"
     },
     "execution_count": 3,
     "metadata": {},
     "output_type": "execute_result"
    }
   ],
   "source": [
    "anime"
   ],
   "metadata": {
    "collapsed": false,
    "ExecuteTime": {
     "end_time": "2024-04-12T07:27:28.058080600Z",
     "start_time": "2024-04-12T07:27:28.015894100Z"
    }
   },
   "id": "27d727149db85668"
  },
  {
   "cell_type": "code",
   "execution_count": 4,
   "outputs": [],
   "source": [
    "from sklearn.feature_extraction.text import TfidfVectorizer\n",
    "vectorizer = TfidfVectorizer()\n",
    "\n",
    "tfidf = vectorizer.fit_transform(anime['Mod_name'])"
   ],
   "metadata": {
    "collapsed": false,
    "ExecuteTime": {
     "end_time": "2024-04-12T07:27:30.343322Z",
     "start_time": "2024-04-12T07:27:28.063320700Z"
    }
   },
   "id": "3aebbbeca742b0eb"
  },
  {
   "cell_type": "code",
   "execution_count": 5,
   "outputs": [],
   "source": [
    "from sklearn.metrics.pairwise import cosine_similarity\n",
    "import re\n",
    "\n",
    "def search(query, vectorizer):\n",
    "    processed_query = re.sub(\"[^a-zA-Z0-9 ]\", \"\", query.lower())\n",
    "    query_vec = vectorizer.transform([processed_query])\n",
    "    cosine_sim = cosine_similarity(query_vec, tfidf).flatten()\n",
    "    indices = np.argpartition(cosine_sim, -10)[-10:]\n",
    "    result = anime.iloc[indices].sort_values(\"Popularity\", ascending=True)\n",
    "    \n",
    "    return result\n",
    "    "
   ],
   "metadata": {
    "collapsed": false,
    "ExecuteTime": {
     "end_time": "2024-04-12T07:27:30.412370400Z",
     "start_time": "2024-04-12T07:27:30.343322Z"
    }
   },
   "id": "b5148ad4cf12b5c1"
  },
  {
   "cell_type": "code",
   "execution_count": 6,
   "outputs": [
    {
     "data": {
      "text/plain": "       anime_id                                               Name  \\\n11           21                                          One Piece   \n6823      12859                                  One Piece Film: Z   \n10917     31490                               One Piece Film: Gold   \n21803     50410                                One Piece Film: Red   \n430         459                                 One Piece Movie 01   \n5245       8171                                    One Piece Recap   \n7364      16143  One Piece: Kinkyuu Kikaku One Piece Kanzen Kou...   \n23897     54196                                       One Piece 4D   \n5311       8312                                              Piece   \n23661     53880                          One Piece The Planetarium   \n\n                                                mod_name  \\\n11                                             one piece   \n6823                                    one piece film z   \n10917                                one piece film gold   \n21803                                 one piece film red   \n430                                   one piece movie 01   \n5245                                     one piece recap   \n7364   one piece kinkyuu kikaku one piece kanzen kour...   \n23897                                       one piece 4d   \n5311                                               piece   \n23661                          one piece the planetarium   \n\n                                            English name  \\\n11                                             One Piece   \n6823                                    One Piece Film Z   \n10917                                            UNKNOWN   \n21803                                            UNKNOWN   \n430                                 One Piece: The Movie   \n5245   One Piece: Romance Dawn Story - Recapping the ...   \n7364   One Piece: Emergency Planning, A Perfect Strat...   \n23897                                            UNKNOWN   \n5311                                             UNKNOWN   \n23661                         One Piece: The Planetarium   \n\n                      Other name  Score  \\\n11                     ONE PIECE   8.69   \n6823               ワンピース　フィルム　﻿Ｚ   8.14   \n10917        ONE PIECE FILM GOLD   7.90   \n21803         ONE PIECE FILM RED   7.86   \n430                    ONE PIECE   7.09   \n5245                       ワンピース   7.13   \n7364              緊急企画ワンピース完全攻略法   7.07   \n23897                    UNKNOWN   6.23   \n5311                         ピース   5.99   \n23661  ONE PIECE THE PLANETARIUM   6.19   \n\n                                                  Genres  \\\n11                            Action, Adventure, Fantasy   \n6823                          Action, Adventure, Fantasy   \n10917                         Action, Adventure, Fantasy   \n21803  Action, Adventure, Award Winning, Comedy, Dram...   \n430                           Action, Adventure, Fantasy   \n5245                          Action, Adventure, Fantasy   \n7364                          Action, Adventure, Fantasy   \n23897                                  Action, Adventure   \n5311                                             UNKNOWN   \n23661                         Adventure, Comedy, Fantasy   \n\n                                                Synopsis     Type Episodes  \\\n11     Gol D. Roger was known as the \"Pirate King,\" t...       TV  UNKNOWN   \n6823   The Straw Hat Pirates enter the rough seas of ...    Movie      1.0   \n10917  Monkey D. Luffy and his Straw Hat Crew have fi...    Movie      1.0   \n21803  As a child, Uta—the Red Hair Pirates' ex-music...    Movie      1.0   \n430    Many years ago, Woonan, a legendary pirate, pl...    Movie      1.0   \n5245   A recap OVA summarizing the ten-year TV series...      OVA      1.0   \n7364   This is the first recapitulation episode, cove...  Special      1.0   \n23897  Original animation created as part of the Toky...  Special      1.0   \n5311   After breaking a shoe heel, a young lady seeks...    Music      1.0   \n23661           No description available for this anime.    Movie      1.0   \n\n       ... Source     Duration                     Rating     Rank Popularity  \\\n11     ...  Manga       24 min  PG-13 - Teens 13 or older     55.0         20   \n6823   ...  Manga  1 hr 47 min  PG-13 - Teens 13 or older    416.0        844   \n10917  ...  Manga         2 hr  PG-13 - Teens 13 or older    722.0       1118   \n21803  ...  Manga  1 hr 55 min  PG-13 - Teens 13 or older    801.0       1573   \n430    ...  Manga       50 min  PG-13 - Teens 13 or older   3578.0       1669   \n5245   ...  Manga       29 min  PG-13 - Teens 13 or older   3418.0       4464   \n7364   ...  Manga       24 min  PG-13 - Teens 13 or older   3683.0       4870   \n23897  ...  Manga        5 min              PG - Children   7729.0       9447   \n5311   ...  Music        5 min               G - All Ages  UNKNOWN       9790   \n23661  ...  Manga       30 min  PG-13 - Teens 13 or older   7916.0      13091   \n\n      Favorites Scored By  Members  \\\n11       198986   1226493  2168904   \n6823        601    168575   264996   \n10917       380    119863   200138   \n21803      1529     68003   132341   \n430         317     71332   123297   \n5245         15      8664    21057   \n7364         11      6734    17268   \n23897        10       722     3046   \n5311          0      1199     2661   \n23661         1       153      871   \n\n                                               Image URL  \\\n11     https://cdn.myanimelist.net/images/anime/6/732...   \n6823   https://cdn.myanimelist.net/images/anime/6/442...   \n10917  https://cdn.myanimelist.net/images/anime/12/81...   \n21803  https://cdn.myanimelist.net/images/anime/1668/...   \n430    https://cdn.myanimelist.net/images/anime/1770/...   \n5245   https://cdn.myanimelist.net/images/anime/9/207...   \n7364   https://cdn.myanimelist.net/images/anime/13/45...   \n23897  https://cdn.myanimelist.net/images/anime/1455/...   \n5311   https://cdn.myanimelist.net/images/anime/8/812...   \n23661  https://cdn.myanimelist.net/images/anime/1348/...   \n\n                                                Mod_name  \n11                                             one piece  \n6823                                    one piece film z  \n10917                                one piece film gold  \n21803                                 one piece film red  \n430                                   one piece movie 01  \n5245                                     one piece recap  \n7364   one piece kinkyuu kikaku one piece kanzen kour...  \n23897                                       one piece 4d  \n5311                                               piece  \n23661                          one piece the planetarium  \n\n[10 rows x 24 columns]",
      "text/html": "<div>\n<style scoped>\n    .dataframe tbody tr th:only-of-type {\n        vertical-align: middle;\n    }\n\n    .dataframe tbody tr th {\n        vertical-align: top;\n    }\n\n    .dataframe thead th {\n        text-align: right;\n    }\n</style>\n<table border=\"1\" class=\"dataframe\">\n  <thead>\n    <tr style=\"text-align: right;\">\n      <th></th>\n      <th>anime_id</th>\n      <th>Name</th>\n      <th>mod_name</th>\n      <th>English name</th>\n      <th>Other name</th>\n      <th>Score</th>\n      <th>Genres</th>\n      <th>Synopsis</th>\n      <th>Type</th>\n      <th>Episodes</th>\n      <th>...</th>\n      <th>Source</th>\n      <th>Duration</th>\n      <th>Rating</th>\n      <th>Rank</th>\n      <th>Popularity</th>\n      <th>Favorites</th>\n      <th>Scored By</th>\n      <th>Members</th>\n      <th>Image URL</th>\n      <th>Mod_name</th>\n    </tr>\n  </thead>\n  <tbody>\n    <tr>\n      <th>11</th>\n      <td>21</td>\n      <td>One Piece</td>\n      <td>one piece</td>\n      <td>One Piece</td>\n      <td>ONE PIECE</td>\n      <td>8.69</td>\n      <td>Action, Adventure, Fantasy</td>\n      <td>Gol D. Roger was known as the \"Pirate King,\" t...</td>\n      <td>TV</td>\n      <td>UNKNOWN</td>\n      <td>...</td>\n      <td>Manga</td>\n      <td>24 min</td>\n      <td>PG-13 - Teens 13 or older</td>\n      <td>55.0</td>\n      <td>20</td>\n      <td>198986</td>\n      <td>1226493</td>\n      <td>2168904</td>\n      <td>https://cdn.myanimelist.net/images/anime/6/732...</td>\n      <td>one piece</td>\n    </tr>\n    <tr>\n      <th>6823</th>\n      <td>12859</td>\n      <td>One Piece Film: Z</td>\n      <td>one piece film z</td>\n      <td>One Piece Film Z</td>\n      <td>ワンピース　フィルム　﻿Ｚ</td>\n      <td>8.14</td>\n      <td>Action, Adventure, Fantasy</td>\n      <td>The Straw Hat Pirates enter the rough seas of ...</td>\n      <td>Movie</td>\n      <td>1.0</td>\n      <td>...</td>\n      <td>Manga</td>\n      <td>1 hr 47 min</td>\n      <td>PG-13 - Teens 13 or older</td>\n      <td>416.0</td>\n      <td>844</td>\n      <td>601</td>\n      <td>168575</td>\n      <td>264996</td>\n      <td>https://cdn.myanimelist.net/images/anime/6/442...</td>\n      <td>one piece film z</td>\n    </tr>\n    <tr>\n      <th>10917</th>\n      <td>31490</td>\n      <td>One Piece Film: Gold</td>\n      <td>one piece film gold</td>\n      <td>UNKNOWN</td>\n      <td>ONE PIECE FILM GOLD</td>\n      <td>7.90</td>\n      <td>Action, Adventure, Fantasy</td>\n      <td>Monkey D. Luffy and his Straw Hat Crew have fi...</td>\n      <td>Movie</td>\n      <td>1.0</td>\n      <td>...</td>\n      <td>Manga</td>\n      <td>2 hr</td>\n      <td>PG-13 - Teens 13 or older</td>\n      <td>722.0</td>\n      <td>1118</td>\n      <td>380</td>\n      <td>119863</td>\n      <td>200138</td>\n      <td>https://cdn.myanimelist.net/images/anime/12/81...</td>\n      <td>one piece film gold</td>\n    </tr>\n    <tr>\n      <th>21803</th>\n      <td>50410</td>\n      <td>One Piece Film: Red</td>\n      <td>one piece film red</td>\n      <td>UNKNOWN</td>\n      <td>ONE PIECE FILM RED</td>\n      <td>7.86</td>\n      <td>Action, Adventure, Award Winning, Comedy, Dram...</td>\n      <td>As a child, Uta—the Red Hair Pirates' ex-music...</td>\n      <td>Movie</td>\n      <td>1.0</td>\n      <td>...</td>\n      <td>Manga</td>\n      <td>1 hr 55 min</td>\n      <td>PG-13 - Teens 13 or older</td>\n      <td>801.0</td>\n      <td>1573</td>\n      <td>1529</td>\n      <td>68003</td>\n      <td>132341</td>\n      <td>https://cdn.myanimelist.net/images/anime/1668/...</td>\n      <td>one piece film red</td>\n    </tr>\n    <tr>\n      <th>430</th>\n      <td>459</td>\n      <td>One Piece Movie 01</td>\n      <td>one piece movie 01</td>\n      <td>One Piece: The Movie</td>\n      <td>ONE PIECE</td>\n      <td>7.09</td>\n      <td>Action, Adventure, Fantasy</td>\n      <td>Many years ago, Woonan, a legendary pirate, pl...</td>\n      <td>Movie</td>\n      <td>1.0</td>\n      <td>...</td>\n      <td>Manga</td>\n      <td>50 min</td>\n      <td>PG-13 - Teens 13 or older</td>\n      <td>3578.0</td>\n      <td>1669</td>\n      <td>317</td>\n      <td>71332</td>\n      <td>123297</td>\n      <td>https://cdn.myanimelist.net/images/anime/1770/...</td>\n      <td>one piece movie 01</td>\n    </tr>\n    <tr>\n      <th>5245</th>\n      <td>8171</td>\n      <td>One Piece Recap</td>\n      <td>one piece recap</td>\n      <td>One Piece: Romance Dawn Story - Recapping the ...</td>\n      <td>ワンピース</td>\n      <td>7.13</td>\n      <td>Action, Adventure, Fantasy</td>\n      <td>A recap OVA summarizing the ten-year TV series...</td>\n      <td>OVA</td>\n      <td>1.0</td>\n      <td>...</td>\n      <td>Manga</td>\n      <td>29 min</td>\n      <td>PG-13 - Teens 13 or older</td>\n      <td>3418.0</td>\n      <td>4464</td>\n      <td>15</td>\n      <td>8664</td>\n      <td>21057</td>\n      <td>https://cdn.myanimelist.net/images/anime/9/207...</td>\n      <td>one piece recap</td>\n    </tr>\n    <tr>\n      <th>7364</th>\n      <td>16143</td>\n      <td>One Piece: Kinkyuu Kikaku One Piece Kanzen Kou...</td>\n      <td>one piece kinkyuu kikaku one piece kanzen kour...</td>\n      <td>One Piece: Emergency Planning, A Perfect Strat...</td>\n      <td>緊急企画ワンピース完全攻略法</td>\n      <td>7.07</td>\n      <td>Action, Adventure, Fantasy</td>\n      <td>This is the first recapitulation episode, cove...</td>\n      <td>Special</td>\n      <td>1.0</td>\n      <td>...</td>\n      <td>Manga</td>\n      <td>24 min</td>\n      <td>PG-13 - Teens 13 or older</td>\n      <td>3683.0</td>\n      <td>4870</td>\n      <td>11</td>\n      <td>6734</td>\n      <td>17268</td>\n      <td>https://cdn.myanimelist.net/images/anime/13/45...</td>\n      <td>one piece kinkyuu kikaku one piece kanzen kour...</td>\n    </tr>\n    <tr>\n      <th>23897</th>\n      <td>54196</td>\n      <td>One Piece 4D</td>\n      <td>one piece 4d</td>\n      <td>UNKNOWN</td>\n      <td>UNKNOWN</td>\n      <td>6.23</td>\n      <td>Action, Adventure</td>\n      <td>Original animation created as part of the Toky...</td>\n      <td>Special</td>\n      <td>1.0</td>\n      <td>...</td>\n      <td>Manga</td>\n      <td>5 min</td>\n      <td>PG - Children</td>\n      <td>7729.0</td>\n      <td>9447</td>\n      <td>10</td>\n      <td>722</td>\n      <td>3046</td>\n      <td>https://cdn.myanimelist.net/images/anime/1455/...</td>\n      <td>one piece 4d</td>\n    </tr>\n    <tr>\n      <th>5311</th>\n      <td>8312</td>\n      <td>Piece</td>\n      <td>piece</td>\n      <td>UNKNOWN</td>\n      <td>ピース</td>\n      <td>5.99</td>\n      <td>UNKNOWN</td>\n      <td>After breaking a shoe heel, a young lady seeks...</td>\n      <td>Music</td>\n      <td>1.0</td>\n      <td>...</td>\n      <td>Music</td>\n      <td>5 min</td>\n      <td>G - All Ages</td>\n      <td>UNKNOWN</td>\n      <td>9790</td>\n      <td>0</td>\n      <td>1199</td>\n      <td>2661</td>\n      <td>https://cdn.myanimelist.net/images/anime/8/812...</td>\n      <td>piece</td>\n    </tr>\n    <tr>\n      <th>23661</th>\n      <td>53880</td>\n      <td>One Piece The Planetarium</td>\n      <td>one piece the planetarium</td>\n      <td>One Piece: The Planetarium</td>\n      <td>ONE PIECE THE PLANETARIUM</td>\n      <td>6.19</td>\n      <td>Adventure, Comedy, Fantasy</td>\n      <td>No description available for this anime.</td>\n      <td>Movie</td>\n      <td>1.0</td>\n      <td>...</td>\n      <td>Manga</td>\n      <td>30 min</td>\n      <td>PG-13 - Teens 13 or older</td>\n      <td>7916.0</td>\n      <td>13091</td>\n      <td>1</td>\n      <td>153</td>\n      <td>871</td>\n      <td>https://cdn.myanimelist.net/images/anime/1348/...</td>\n      <td>one piece the planetarium</td>\n    </tr>\n  </tbody>\n</table>\n<p>10 rows × 24 columns</p>\n</div>"
     },
     "execution_count": 6,
     "metadata": {},
     "output_type": "execute_result"
    }
   ],
   "source": [
    "search(\"One Piece\", vectorizer)"
   ],
   "metadata": {
    "collapsed": false,
    "ExecuteTime": {
     "end_time": "2024-04-12T07:27:30.444895300Z",
     "start_time": "2024-04-12T07:27:30.412370400Z"
    }
   },
   "id": "f842516dd4503630"
  },
  {
   "cell_type": "code",
   "execution_count": 6,
   "outputs": [],
   "source": [],
   "metadata": {
    "collapsed": false,
    "ExecuteTime": {
     "end_time": "2024-04-12T07:27:30.444895300Z",
     "start_time": "2024-04-12T07:27:30.444387Z"
    }
   },
   "id": "ee40bc3e7678de85"
  }
 ],
 "metadata": {
  "kernelspec": {
   "display_name": "Python 3",
   "language": "python",
   "name": "python3"
  },
  "language_info": {
   "codemirror_mode": {
    "name": "ipython",
    "version": 2
   },
   "file_extension": ".py",
   "mimetype": "text/x-python",
   "name": "python",
   "nbconvert_exporter": "python",
   "pygments_lexer": "ipython2",
   "version": "2.7.6"
  }
 },
 "nbformat": 4,
 "nbformat_minor": 5
}
