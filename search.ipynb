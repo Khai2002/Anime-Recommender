{
 "cells": [
  {
   "cell_type": "code",
   "execution_count": 38,
   "id": "initial_id",
   "metadata": {
    "collapsed": true,
    "ExecuteTime": {
     "end_time": "2024-02-26T21:23:00.367328100Z",
     "start_time": "2024-02-26T21:23:00.361318Z"
    }
   },
   "outputs": [],
   "source": [
    "import numpy as np\n",
    "import pandas as pd"
   ]
  },
  {
   "cell_type": "code",
   "execution_count": 62,
   "outputs": [],
   "source": [],
   "metadata": {
    "collapsed": false,
    "ExecuteTime": {
     "end_time": "2024-02-26T21:50:26.632912Z",
     "start_time": "2024-02-26T21:50:26.582913600Z"
    }
   },
   "id": "bb0ee4a4ff071449"
  },
  {
   "cell_type": "code",
   "execution_count": 43,
   "outputs": [],
   "source": [
    "anime = pd.read_parquet('anime/anime.parquet')"
   ],
   "metadata": {
    "collapsed": false,
    "ExecuteTime": {
     "end_time": "2024-02-26T21:23:32.822824700Z",
     "start_time": "2024-02-26T21:23:32.751445200Z"
    }
   },
   "id": "5474536794b700ef"
  },
  {
   "cell_type": "code",
   "execution_count": 45,
   "outputs": [],
   "source": [
    "from sklearn.feature_extraction.text import TfidfVectorizer\n",
    "vectorizer = TfidfVectorizer()\n",
    "\n",
    "tfidf = vectorizer.fit_transform(anime['mod_name'])"
   ],
   "metadata": {
    "collapsed": false,
    "ExecuteTime": {
     "end_time": "2024-02-26T21:24:12.831282400Z",
     "start_time": "2024-02-26T21:24:07.948182600Z"
    }
   },
   "id": "3aebbbeca742b0eb"
  },
  {
   "cell_type": "code",
   "execution_count": 55,
   "outputs": [],
   "source": [
    "from sklearn.metrics.pairwise import cosine_similarity\n",
    "import re\n",
    "\n",
    "def search(query, vectorizer):\n",
    "    processed_query = re.sub(\"[^a-zA-Z0-9 ]\", \"\", query.lower())\n",
    "    query_vec = vectorizer.transform([processed_query])\n",
    "    cosine_sim = cosine_similarity(query_vec, tfidf).flatten()\n",
    "    indices = np.argpartition(cosine_sim, -10)[-10:]\n",
    "    result = anime.iloc[indices].sort_values(\"Popularity\", ascending=True)\n",
    "    \n",
    "    return result\n",
    "    "
   ],
   "metadata": {
    "collapsed": false,
    "ExecuteTime": {
     "end_time": "2024-02-26T21:31:25.295948200Z",
     "start_time": "2024-02-26T21:31:24.775066400Z"
    }
   },
   "id": "b5148ad4cf12b5c1"
  },
  {
   "cell_type": "code",
   "execution_count": 59,
   "outputs": [
    {
     "data": {
      "text/plain": "       anime_id                                               Name  \\\n10629     30831             Kono Subarashii Sekai ni Shukufuku wo!   \n11572     32937           Kono Subarashii Sekai ni Shukufuku wo! 2   \n14578     38040  Kono Subarashii Sekai ni Shukufuku wo! Movie: ...   \n11295     32380  Kono Subarashii Sekai ni Shukufuku wo! Kono Su...   \n12451     34626  Kono Subarashii Sekai ni Shukufuku wo! 2: Kono...   \n22581     51958                Kono Subarashii Sekai ni Bakuen wo!   \n21335     49458           Kono Subarashii Sekai ni Shukufuku wo! 3   \n11279     32343                                   Subarashii Sekai   \n21427     49683                              Subarashii Shin Sekai   \n15924     40209                                 Subarashii Shigoto   \n\n                                                mod_name  Score  \\\n10629              kono subarashii sekai ni shukufuku wo   8.11   \n11572            kono subarashii sekai ni shukufuku wo 2   8.27   \n14578  kono subarashii sekai ni shukufuku wo movie ku...   8.45   \n11295  kono subarashii sekai ni shukufuku wo kono sub...   7.84   \n12451  kono subarashii sekai ni shukufuku wo 2 kono s...   8.03   \n22581                 kono subarashii sekai ni bakuen wo   7.60   \n21335            kono subarashii sekai ni shukufuku wo 3   0.00   \n11279                                   subarashii sekai   5.78   \n21427                              subarashii shin sekai   6.21   \n15924                                 subarashii shigoto   5.66   \n\n                           Genres   Type Episodes  \\\n10629  Adventure, Comedy, Fantasy     TV     10.0   \n11572  Adventure, Comedy, Fantasy     TV     10.0   \n14578  Adventure, Comedy, Fantasy  Movie      1.0   \n11295             Comedy, Fantasy    OVA      1.0   \n12451  Adventure, Comedy, Fantasy    OVA      1.0   \n22581             Comedy, Fantasy     TV     12.0   \n21335  Adventure, Comedy, Fantasy     TV  UNKNOWN   \n11279                     Fantasy  Music      1.0   \n21427                     Romance  Music      1.0   \n15924                 Avant Garde    ONA      1.0   \n\n                              Aired    Premiered            Status  \\\n10629  Jan 14, 2016 to Mar 17, 2016  winter 2016   Finished Airing   \n11572  Jan 12, 2017 to Mar 16, 2017  winter 2017   Finished Airing   \n14578                  Aug 30, 2019      UNKNOWN   Finished Airing   \n11295                  Jun 24, 2016      UNKNOWN   Finished Airing   \n12451                  Jul 24, 2017      UNKNOWN   Finished Airing   \n22581   Apr 6, 2023 to Jun 22, 2023  spring 2023  Currently Airing   \n21335                 Not available      UNKNOWN     Not yet aired   \n11279                  Jun 10, 2013      UNKNOWN   Finished Airing   \n21427                  Aug 18, 2021      UNKNOWN   Finished Airing   \n15924                  Sep 28, 2015      UNKNOWN   Finished Airing   \n\n           Studios       Source       Duration                     Rating  \\\n10629  Studio Deen  Light novel  23 min per ep  PG-13 - Teens 13 or older   \n11572  Studio Deen  Light novel  23 min per ep  PG-13 - Teens 13 or older   \n14578    J.C.Staff  Light novel    1 hr 30 min  PG-13 - Teens 13 or older   \n11295  Studio Deen  Light novel         23 min  PG-13 - Teens 13 or older   \n12451  Studio Deen  Light novel         28 min  PG-13 - Teens 13 or older   \n22581        Drive  Light novel  23 min per ep  PG-13 - Teens 13 or older   \n21335        Drive  Light novel        Unknown  PG-13 - Teens 13 or older   \n11279      UNKNOWN        Music          4 min               G - All Ages   \n21427      UNKNOWN     Original          5 min  PG-13 - Teens 13 or older   \n15924      UNKNOWN     Original          7 min  PG-13 - Teens 13 or older   \n\n          Rank  Popularity  Favorites  Scored By  Members  \\\n10629    442.0          38      43506  1212458.0  1862270   \n11572    275.0          74      11709   957748.0  1437771   \n14578    144.0         247       4690   457103.0   725216   \n11295    833.0         549        633   249049.0   385635   \n12451    544.0         621        721   213689.0   351228   \n22581   1378.0         941       1351    34595.0   237447   \n21335      NaN        1204       1618        NaN   183954   \n11279      NaN       14159          0      282.0      618   \n21427      NaN       16818          0      139.0      331   \n15924  10248.0       16900          0      161.0      325   \n\n                                               Image URL  \n10629  https://cdn.myanimelist.net/images/anime/8/778...  \n11572  https://cdn.myanimelist.net/images/anime/2/831...  \n14578  https://cdn.myanimelist.net/images/anime/1638/...  \n11295  https://cdn.myanimelist.net/images/anime/1649/...  \n12451  https://cdn.myanimelist.net/images/anime/1115/...  \n22581  https://cdn.myanimelist.net/images/anime/1626/...  \n21335  https://cdn.myanimelist.net/images/anime/1800/...  \n11279  https://cdn.myanimelist.net/images/anime/13/77...  \n21427  https://cdn.myanimelist.net/images/anime/1786/...  \n15924  https://cdn.myanimelist.net/images/anime/1603/...  ",
      "text/html": "<div>\n<style scoped>\n    .dataframe tbody tr th:only-of-type {\n        vertical-align: middle;\n    }\n\n    .dataframe tbody tr th {\n        vertical-align: top;\n    }\n\n    .dataframe thead th {\n        text-align: right;\n    }\n</style>\n<table border=\"1\" class=\"dataframe\">\n  <thead>\n    <tr style=\"text-align: right;\">\n      <th></th>\n      <th>anime_id</th>\n      <th>Name</th>\n      <th>mod_name</th>\n      <th>Score</th>\n      <th>Genres</th>\n      <th>Type</th>\n      <th>Episodes</th>\n      <th>Aired</th>\n      <th>Premiered</th>\n      <th>Status</th>\n      <th>Studios</th>\n      <th>Source</th>\n      <th>Duration</th>\n      <th>Rating</th>\n      <th>Rank</th>\n      <th>Popularity</th>\n      <th>Favorites</th>\n      <th>Scored By</th>\n      <th>Members</th>\n      <th>Image URL</th>\n    </tr>\n  </thead>\n  <tbody>\n    <tr>\n      <th>10629</th>\n      <td>30831</td>\n      <td>Kono Subarashii Sekai ni Shukufuku wo!</td>\n      <td>kono subarashii sekai ni shukufuku wo</td>\n      <td>8.11</td>\n      <td>Adventure, Comedy, Fantasy</td>\n      <td>TV</td>\n      <td>10.0</td>\n      <td>Jan 14, 2016 to Mar 17, 2016</td>\n      <td>winter 2016</td>\n      <td>Finished Airing</td>\n      <td>Studio Deen</td>\n      <td>Light novel</td>\n      <td>23 min per ep</td>\n      <td>PG-13 - Teens 13 or older</td>\n      <td>442.0</td>\n      <td>38</td>\n      <td>43506</td>\n      <td>1212458.0</td>\n      <td>1862270</td>\n      <td>https://cdn.myanimelist.net/images/anime/8/778...</td>\n    </tr>\n    <tr>\n      <th>11572</th>\n      <td>32937</td>\n      <td>Kono Subarashii Sekai ni Shukufuku wo! 2</td>\n      <td>kono subarashii sekai ni shukufuku wo 2</td>\n      <td>8.27</td>\n      <td>Adventure, Comedy, Fantasy</td>\n      <td>TV</td>\n      <td>10.0</td>\n      <td>Jan 12, 2017 to Mar 16, 2017</td>\n      <td>winter 2017</td>\n      <td>Finished Airing</td>\n      <td>Studio Deen</td>\n      <td>Light novel</td>\n      <td>23 min per ep</td>\n      <td>PG-13 - Teens 13 or older</td>\n      <td>275.0</td>\n      <td>74</td>\n      <td>11709</td>\n      <td>957748.0</td>\n      <td>1437771</td>\n      <td>https://cdn.myanimelist.net/images/anime/2/831...</td>\n    </tr>\n    <tr>\n      <th>14578</th>\n      <td>38040</td>\n      <td>Kono Subarashii Sekai ni Shukufuku wo! Movie: ...</td>\n      <td>kono subarashii sekai ni shukufuku wo movie ku...</td>\n      <td>8.45</td>\n      <td>Adventure, Comedy, Fantasy</td>\n      <td>Movie</td>\n      <td>1.0</td>\n      <td>Aug 30, 2019</td>\n      <td>UNKNOWN</td>\n      <td>Finished Airing</td>\n      <td>J.C.Staff</td>\n      <td>Light novel</td>\n      <td>1 hr 30 min</td>\n      <td>PG-13 - Teens 13 or older</td>\n      <td>144.0</td>\n      <td>247</td>\n      <td>4690</td>\n      <td>457103.0</td>\n      <td>725216</td>\n      <td>https://cdn.myanimelist.net/images/anime/1638/...</td>\n    </tr>\n    <tr>\n      <th>11295</th>\n      <td>32380</td>\n      <td>Kono Subarashii Sekai ni Shukufuku wo! Kono Su...</td>\n      <td>kono subarashii sekai ni shukufuku wo kono sub...</td>\n      <td>7.84</td>\n      <td>Comedy, Fantasy</td>\n      <td>OVA</td>\n      <td>1.0</td>\n      <td>Jun 24, 2016</td>\n      <td>UNKNOWN</td>\n      <td>Finished Airing</td>\n      <td>Studio Deen</td>\n      <td>Light novel</td>\n      <td>23 min</td>\n      <td>PG-13 - Teens 13 or older</td>\n      <td>833.0</td>\n      <td>549</td>\n      <td>633</td>\n      <td>249049.0</td>\n      <td>385635</td>\n      <td>https://cdn.myanimelist.net/images/anime/1649/...</td>\n    </tr>\n    <tr>\n      <th>12451</th>\n      <td>34626</td>\n      <td>Kono Subarashii Sekai ni Shukufuku wo! 2: Kono...</td>\n      <td>kono subarashii sekai ni shukufuku wo 2 kono s...</td>\n      <td>8.03</td>\n      <td>Adventure, Comedy, Fantasy</td>\n      <td>OVA</td>\n      <td>1.0</td>\n      <td>Jul 24, 2017</td>\n      <td>UNKNOWN</td>\n      <td>Finished Airing</td>\n      <td>Studio Deen</td>\n      <td>Light novel</td>\n      <td>28 min</td>\n      <td>PG-13 - Teens 13 or older</td>\n      <td>544.0</td>\n      <td>621</td>\n      <td>721</td>\n      <td>213689.0</td>\n      <td>351228</td>\n      <td>https://cdn.myanimelist.net/images/anime/1115/...</td>\n    </tr>\n    <tr>\n      <th>22581</th>\n      <td>51958</td>\n      <td>Kono Subarashii Sekai ni Bakuen wo!</td>\n      <td>kono subarashii sekai ni bakuen wo</td>\n      <td>7.60</td>\n      <td>Comedy, Fantasy</td>\n      <td>TV</td>\n      <td>12.0</td>\n      <td>Apr 6, 2023 to Jun 22, 2023</td>\n      <td>spring 2023</td>\n      <td>Currently Airing</td>\n      <td>Drive</td>\n      <td>Light novel</td>\n      <td>23 min per ep</td>\n      <td>PG-13 - Teens 13 or older</td>\n      <td>1378.0</td>\n      <td>941</td>\n      <td>1351</td>\n      <td>34595.0</td>\n      <td>237447</td>\n      <td>https://cdn.myanimelist.net/images/anime/1626/...</td>\n    </tr>\n    <tr>\n      <th>21335</th>\n      <td>49458</td>\n      <td>Kono Subarashii Sekai ni Shukufuku wo! 3</td>\n      <td>kono subarashii sekai ni shukufuku wo 3</td>\n      <td>0.00</td>\n      <td>Adventure, Comedy, Fantasy</td>\n      <td>TV</td>\n      <td>UNKNOWN</td>\n      <td>Not available</td>\n      <td>UNKNOWN</td>\n      <td>Not yet aired</td>\n      <td>Drive</td>\n      <td>Light novel</td>\n      <td>Unknown</td>\n      <td>PG-13 - Teens 13 or older</td>\n      <td>NaN</td>\n      <td>1204</td>\n      <td>1618</td>\n      <td>NaN</td>\n      <td>183954</td>\n      <td>https://cdn.myanimelist.net/images/anime/1800/...</td>\n    </tr>\n    <tr>\n      <th>11279</th>\n      <td>32343</td>\n      <td>Subarashii Sekai</td>\n      <td>subarashii sekai</td>\n      <td>5.78</td>\n      <td>Fantasy</td>\n      <td>Music</td>\n      <td>1.0</td>\n      <td>Jun 10, 2013</td>\n      <td>UNKNOWN</td>\n      <td>Finished Airing</td>\n      <td>UNKNOWN</td>\n      <td>Music</td>\n      <td>4 min</td>\n      <td>G - All Ages</td>\n      <td>NaN</td>\n      <td>14159</td>\n      <td>0</td>\n      <td>282.0</td>\n      <td>618</td>\n      <td>https://cdn.myanimelist.net/images/anime/13/77...</td>\n    </tr>\n    <tr>\n      <th>21427</th>\n      <td>49683</td>\n      <td>Subarashii Shin Sekai</td>\n      <td>subarashii shin sekai</td>\n      <td>6.21</td>\n      <td>Romance</td>\n      <td>Music</td>\n      <td>1.0</td>\n      <td>Aug 18, 2021</td>\n      <td>UNKNOWN</td>\n      <td>Finished Airing</td>\n      <td>UNKNOWN</td>\n      <td>Original</td>\n      <td>5 min</td>\n      <td>PG-13 - Teens 13 or older</td>\n      <td>NaN</td>\n      <td>16818</td>\n      <td>0</td>\n      <td>139.0</td>\n      <td>331</td>\n      <td>https://cdn.myanimelist.net/images/anime/1786/...</td>\n    </tr>\n    <tr>\n      <th>15924</th>\n      <td>40209</td>\n      <td>Subarashii Shigoto</td>\n      <td>subarashii shigoto</td>\n      <td>5.66</td>\n      <td>Avant Garde</td>\n      <td>ONA</td>\n      <td>1.0</td>\n      <td>Sep 28, 2015</td>\n      <td>UNKNOWN</td>\n      <td>Finished Airing</td>\n      <td>UNKNOWN</td>\n      <td>Original</td>\n      <td>7 min</td>\n      <td>PG-13 - Teens 13 or older</td>\n      <td>10248.0</td>\n      <td>16900</td>\n      <td>0</td>\n      <td>161.0</td>\n      <td>325</td>\n      <td>https://cdn.myanimelist.net/images/anime/1603/...</td>\n    </tr>\n  </tbody>\n</table>\n</div>"
     },
     "execution_count": 59,
     "metadata": {},
     "output_type": "execute_result"
    }
   ],
   "source": [
    "search(\"Kono subarashii\", vectorizer)"
   ],
   "metadata": {
    "collapsed": false,
    "ExecuteTime": {
     "end_time": "2024-02-26T21:32:38.459094700Z",
     "start_time": "2024-02-26T21:32:38.427442800Z"
    }
   },
   "id": "f842516dd4503630"
  },
  {
   "cell_type": "code",
   "execution_count": 54,
   "outputs": [
    {
     "data": {
      "text/plain": "<1x21083 sparse matrix of type '<class 'numpy.float64'>'\n\twith 5 stored elements in Compressed Sparse Row format>"
     },
     "execution_count": 54,
     "metadata": {},
     "output_type": "execute_result"
    }
   ],
   "source": [
    "tfidf[1]"
   ],
   "metadata": {
    "collapsed": false,
    "ExecuteTime": {
     "end_time": "2024-02-26T21:25:28.707661200Z",
     "start_time": "2024-02-26T21:25:28.687647300Z"
    }
   },
   "id": "3758198d69d41ecc"
  },
  {
   "cell_type": "code",
   "execution_count": 62,
   "outputs": [
    {
     "name": "stderr",
     "output_type": "stream",
     "text": [
      "WARNING: Package(s) not found: fuzzywuzzy\n"
     ]
    }
   ],
   "source": [
    "!pip show fuzzywuzzy"
   ],
   "metadata": {
    "collapsed": false,
    "ExecuteTime": {
     "end_time": "2024-02-26T21:46:54.659562500Z",
     "start_time": "2024-02-26T21:46:53.362123700Z"
    }
   },
   "id": "ca3bdb8a189b3d59"
  },
  {
   "cell_type": "code",
   "execution_count": null,
   "outputs": [],
   "source": [],
   "metadata": {
    "collapsed": false
   },
   "id": "ee40bc3e7678de85"
  }
 ],
 "metadata": {
  "kernelspec": {
   "display_name": "Python 3",
   "language": "python",
   "name": "python3"
  },
  "language_info": {
   "codemirror_mode": {
    "name": "ipython",
    "version": 2
   },
   "file_extension": ".py",
   "mimetype": "text/x-python",
   "name": "python",
   "nbconvert_exporter": "python",
   "pygments_lexer": "ipython2",
   "version": "2.7.6"
  }
 },
 "nbformat": 4,
 "nbformat_minor": 5
}
