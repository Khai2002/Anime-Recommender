{
 "cells": [
  {
   "cell_type": "code",
   "execution_count": 106,
   "id": "initial_id",
   "metadata": {
    "collapsed": true,
    "ExecuteTime": {
     "end_time": "2024-04-26T09:42:09.002784300Z",
     "start_time": "2024-04-26T09:42:08.979373400Z"
    }
   },
   "outputs": [],
   "source": [
    "import pandas as pd\n",
    "import numpy as np \n",
    "import re\n",
    "from sklearn.metrics.pairwise import cosine_similarity\n",
    "from sklearn.preprocessing import MinMaxScaler\n",
    "from sklearn.feature_extraction.text import TfidfVectorizer\n",
    "from sklearn.metrics.pairwise import linear_kernel\n"
   ]
  },
  {
   "cell_type": "code",
   "execution_count": null,
   "outputs": [],
   "source": [
    "my_data = pd.read_csv('anime/anime-dataset-2023.csv')"
   ],
   "metadata": {
    "collapsed": false
   },
   "id": "6c6093df0dfd3f92"
  },
  {
   "cell_type": "code",
   "execution_count": 181,
   "outputs": [
    {
     "data": {
      "text/plain": "count    24901.000000\nmean         0.841329\nstd          0.133795\nmin          0.000000\n25%          0.796296\n50%          0.879630\n75%          0.925926\nmax          1.000000\nName: Aired, dtype: float64"
     },
     "execution_count": 181,
     "metadata": {},
     "output_type": "execute_result"
    }
   ],
   "source": [
    "my_data.Aired.describe()"
   ],
   "metadata": {
    "collapsed": false,
    "ExecuteTime": {
     "end_time": "2024-04-29T07:07:14.254045300Z",
     "start_time": "2024-04-29T07:07:14.237961700Z"
    }
   },
   "id": "cc53e373a3ee037f"
  },
  {
   "cell_type": "code",
   "execution_count": 10,
   "outputs": [
    {
     "name": "stdout",
     "output_type": "stream",
     "text": [
      "['UNKNOWN', 'Action', 'Sci-Fi', 'Drama', 'Fantasy', 'Slice of Life', 'Girls Love', 'Gourmet', 'Suspense', 'Horror', 'Adventure', 'Comedy', 'Romance', 'Award Winning', 'Supernatural', 'Mystery', 'Avant Garde', 'Erotica', 'Sports', 'Hentai', 'Boys Love', 'Ecchi']\n"
     ]
    },
    {
     "data": {
      "text/plain": "       anime_id                             Name             English name  \\\n0             1                     Cowboy Bebop             Cowboy Bebop   \n1             5  Cowboy Bebop: Tengoku no Tobira  Cowboy Bebop: The Movie   \n2             6                           Trigun                   Trigun   \n3             7               Witch Hunter Robin       Witch Hunter Robin   \n4             8                   Bouken Ou Beet   Beet the Vandel Buster   \n...         ...                              ...                      ...   \n24900     55731                      Wu Nao Monu                  UNKNOWN   \n24901     55732              Bu Xing Si: Yuan Qi              Blader Soul   \n24902     55733                      Di Yi Xulie          The First Order   \n24903     55734         Bokura no Saishuu Sensou                  UNKNOWN   \n24904     55735                   Shijuuku Nichi                  UNKNOWN   \n\n                             Other name    Score  \\\n0                             カウボーイビバップ     8.75   \n1                        カウボーイビバップ 天国の扉     8.38   \n2                                 トライガン     8.22   \n3      Witch Hunter ROBIN (ウイッチハンターロビン)     7.25   \n4                                冒険王ビィト     6.94   \n...                                 ...      ...   \n24900                              无脑魔女  UNKNOWN   \n24901                            捕星司·源起  UNKNOWN   \n24902                              第一序列  UNKNOWN   \n24903                           僕らの最終戦争  UNKNOWN   \n24904                              四十九日  UNKNOWN   \n\n                                     Genres  \\\n0             Action, Award Winning, Sci-Fi   \n1                            Action, Sci-Fi   \n2                 Action, Adventure, Sci-Fi   \n3      Action, Drama, Mystery, Supernatural   \n4          Adventure, Fantasy, Supernatural   \n...                                     ...   \n24900        Comedy, Fantasy, Slice of Life   \n24901            Action, Adventure, Fantasy   \n24902    Action, Adventure, Fantasy, Sci-Fi   \n24903                               UNKNOWN   \n24904                               UNKNOWN   \n\n                                                Synopsis   Type Episodes  \\\n0      Crime is timeless. By the year 2071, humanity ...     TV     26.0   \n1      Another day, another bounty—such is the life o...  Movie      1.0   \n2      Vash the Stampede is the man with a $$60,000,0...     TV     26.0   \n3      Robin Sena is a powerful craft user drafted in...     TV     26.0   \n4      It is the dark century and the people are suff...     TV     52.0   \n...                                                  ...    ...      ...   \n24900           No description available for this anime.    ONA     15.0   \n24901           No description available for this anime.    ONA     18.0   \n24902           No description available for this anime.    ONA     16.0   \n24903  A music video for the song Bokura no Saishuu S...  Music      1.0   \n24904  A music video for the song Shijuuku Nichi by S...  Music      1.0   \n\n                              Aired  ... genre Erotica genre Mystery  \\\n0       Apr 3, 1998 to Apr 24, 1999  ...             0             0   \n1                       Sep 1, 2001  ...             0             0   \n2       Apr 1, 1998 to Sep 30, 1998  ...             0             0   \n3       Jul 3, 2002 to Dec 25, 2002  ...             0             1   \n4      Sep 30, 2004 to Sep 29, 2005  ...             0             0   \n...                             ...  ...           ...           ...   \n24900              Jul 4, 2023 to ?  ...             0             0   \n24901             Jul 27, 2023 to ?  ...             0             0   \n24902             Jul 19, 2023 to ?  ...             0             0   \n24903                  Apr 23, 2022  ...             0             0   \n24904                   Sep 5, 2022  ...             0             0   \n\n      genre Ecchi genre Sci-Fi genre Girls Love genre UNKNOWN  \\\n0               0            1                0             0   \n1               0            1                0             0   \n2               0            1                0             0   \n3               0            0                0             0   \n4               0            0                0             0   \n...           ...          ...              ...           ...   \n24900           0            0                0             0   \n24901           0            0                0             0   \n24902           0            1                0             0   \n24903           0            0                0             1   \n24904           0            0                0             1   \n\n      genre Award Winning genre Slice of Life genre Boys Love  genre Comedy  \n0                       1                   0               0             0  \n1                       0                   0               0             0  \n2                       0                   0               0             0  \n3                       0                   0               0             0  \n4                       0                   0               0             0  \n...                   ...                 ...             ...           ...  \n24900                   0                   1               0             1  \n24901                   0                   0               0             0  \n24902                   0                   0               0             0  \n24903                   0                   0               0             0  \n24904                   0                   0               0             0  \n\n[24905 rows x 46 columns]",
      "text/html": "<div>\n<style scoped>\n    .dataframe tbody tr th:only-of-type {\n        vertical-align: middle;\n    }\n\n    .dataframe tbody tr th {\n        vertical-align: top;\n    }\n\n    .dataframe thead th {\n        text-align: right;\n    }\n</style>\n<table border=\"1\" class=\"dataframe\">\n  <thead>\n    <tr style=\"text-align: right;\">\n      <th></th>\n      <th>anime_id</th>\n      <th>Name</th>\n      <th>English name</th>\n      <th>Other name</th>\n      <th>Score</th>\n      <th>Genres</th>\n      <th>Synopsis</th>\n      <th>Type</th>\n      <th>Episodes</th>\n      <th>Aired</th>\n      <th>...</th>\n      <th>genre Erotica</th>\n      <th>genre Mystery</th>\n      <th>genre Ecchi</th>\n      <th>genre Sci-Fi</th>\n      <th>genre Girls Love</th>\n      <th>genre UNKNOWN</th>\n      <th>genre Award Winning</th>\n      <th>genre Slice of Life</th>\n      <th>genre Boys Love</th>\n      <th>genre Comedy</th>\n    </tr>\n  </thead>\n  <tbody>\n    <tr>\n      <th>0</th>\n      <td>1</td>\n      <td>Cowboy Bebop</td>\n      <td>Cowboy Bebop</td>\n      <td>カウボーイビバップ</td>\n      <td>8.75</td>\n      <td>Action, Award Winning, Sci-Fi</td>\n      <td>Crime is timeless. By the year 2071, humanity ...</td>\n      <td>TV</td>\n      <td>26.0</td>\n      <td>Apr 3, 1998 to Apr 24, 1999</td>\n      <td>...</td>\n      <td>0</td>\n      <td>0</td>\n      <td>0</td>\n      <td>1</td>\n      <td>0</td>\n      <td>0</td>\n      <td>1</td>\n      <td>0</td>\n      <td>0</td>\n      <td>0</td>\n    </tr>\n    <tr>\n      <th>1</th>\n      <td>5</td>\n      <td>Cowboy Bebop: Tengoku no Tobira</td>\n      <td>Cowboy Bebop: The Movie</td>\n      <td>カウボーイビバップ 天国の扉</td>\n      <td>8.38</td>\n      <td>Action, Sci-Fi</td>\n      <td>Another day, another bounty—such is the life o...</td>\n      <td>Movie</td>\n      <td>1.0</td>\n      <td>Sep 1, 2001</td>\n      <td>...</td>\n      <td>0</td>\n      <td>0</td>\n      <td>0</td>\n      <td>1</td>\n      <td>0</td>\n      <td>0</td>\n      <td>0</td>\n      <td>0</td>\n      <td>0</td>\n      <td>0</td>\n    </tr>\n    <tr>\n      <th>2</th>\n      <td>6</td>\n      <td>Trigun</td>\n      <td>Trigun</td>\n      <td>トライガン</td>\n      <td>8.22</td>\n      <td>Action, Adventure, Sci-Fi</td>\n      <td>Vash the Stampede is the man with a $$60,000,0...</td>\n      <td>TV</td>\n      <td>26.0</td>\n      <td>Apr 1, 1998 to Sep 30, 1998</td>\n      <td>...</td>\n      <td>0</td>\n      <td>0</td>\n      <td>0</td>\n      <td>1</td>\n      <td>0</td>\n      <td>0</td>\n      <td>0</td>\n      <td>0</td>\n      <td>0</td>\n      <td>0</td>\n    </tr>\n    <tr>\n      <th>3</th>\n      <td>7</td>\n      <td>Witch Hunter Robin</td>\n      <td>Witch Hunter Robin</td>\n      <td>Witch Hunter ROBIN (ウイッチハンターロビン)</td>\n      <td>7.25</td>\n      <td>Action, Drama, Mystery, Supernatural</td>\n      <td>Robin Sena is a powerful craft user drafted in...</td>\n      <td>TV</td>\n      <td>26.0</td>\n      <td>Jul 3, 2002 to Dec 25, 2002</td>\n      <td>...</td>\n      <td>0</td>\n      <td>1</td>\n      <td>0</td>\n      <td>0</td>\n      <td>0</td>\n      <td>0</td>\n      <td>0</td>\n      <td>0</td>\n      <td>0</td>\n      <td>0</td>\n    </tr>\n    <tr>\n      <th>4</th>\n      <td>8</td>\n      <td>Bouken Ou Beet</td>\n      <td>Beet the Vandel Buster</td>\n      <td>冒険王ビィト</td>\n      <td>6.94</td>\n      <td>Adventure, Fantasy, Supernatural</td>\n      <td>It is the dark century and the people are suff...</td>\n      <td>TV</td>\n      <td>52.0</td>\n      <td>Sep 30, 2004 to Sep 29, 2005</td>\n      <td>...</td>\n      <td>0</td>\n      <td>0</td>\n      <td>0</td>\n      <td>0</td>\n      <td>0</td>\n      <td>0</td>\n      <td>0</td>\n      <td>0</td>\n      <td>0</td>\n      <td>0</td>\n    </tr>\n    <tr>\n      <th>...</th>\n      <td>...</td>\n      <td>...</td>\n      <td>...</td>\n      <td>...</td>\n      <td>...</td>\n      <td>...</td>\n      <td>...</td>\n      <td>...</td>\n      <td>...</td>\n      <td>...</td>\n      <td>...</td>\n      <td>...</td>\n      <td>...</td>\n      <td>...</td>\n      <td>...</td>\n      <td>...</td>\n      <td>...</td>\n      <td>...</td>\n      <td>...</td>\n      <td>...</td>\n      <td>...</td>\n    </tr>\n    <tr>\n      <th>24900</th>\n      <td>55731</td>\n      <td>Wu Nao Monu</td>\n      <td>UNKNOWN</td>\n      <td>无脑魔女</td>\n      <td>UNKNOWN</td>\n      <td>Comedy, Fantasy, Slice of Life</td>\n      <td>No description available for this anime.</td>\n      <td>ONA</td>\n      <td>15.0</td>\n      <td>Jul 4, 2023 to ?</td>\n      <td>...</td>\n      <td>0</td>\n      <td>0</td>\n      <td>0</td>\n      <td>0</td>\n      <td>0</td>\n      <td>0</td>\n      <td>0</td>\n      <td>1</td>\n      <td>0</td>\n      <td>1</td>\n    </tr>\n    <tr>\n      <th>24901</th>\n      <td>55732</td>\n      <td>Bu Xing Si: Yuan Qi</td>\n      <td>Blader Soul</td>\n      <td>捕星司·源起</td>\n      <td>UNKNOWN</td>\n      <td>Action, Adventure, Fantasy</td>\n      <td>No description available for this anime.</td>\n      <td>ONA</td>\n      <td>18.0</td>\n      <td>Jul 27, 2023 to ?</td>\n      <td>...</td>\n      <td>0</td>\n      <td>0</td>\n      <td>0</td>\n      <td>0</td>\n      <td>0</td>\n      <td>0</td>\n      <td>0</td>\n      <td>0</td>\n      <td>0</td>\n      <td>0</td>\n    </tr>\n    <tr>\n      <th>24902</th>\n      <td>55733</td>\n      <td>Di Yi Xulie</td>\n      <td>The First Order</td>\n      <td>第一序列</td>\n      <td>UNKNOWN</td>\n      <td>Action, Adventure, Fantasy, Sci-Fi</td>\n      <td>No description available for this anime.</td>\n      <td>ONA</td>\n      <td>16.0</td>\n      <td>Jul 19, 2023 to ?</td>\n      <td>...</td>\n      <td>0</td>\n      <td>0</td>\n      <td>0</td>\n      <td>1</td>\n      <td>0</td>\n      <td>0</td>\n      <td>0</td>\n      <td>0</td>\n      <td>0</td>\n      <td>0</td>\n    </tr>\n    <tr>\n      <th>24903</th>\n      <td>55734</td>\n      <td>Bokura no Saishuu Sensou</td>\n      <td>UNKNOWN</td>\n      <td>僕らの最終戦争</td>\n      <td>UNKNOWN</td>\n      <td>UNKNOWN</td>\n      <td>A music video for the song Bokura no Saishuu S...</td>\n      <td>Music</td>\n      <td>1.0</td>\n      <td>Apr 23, 2022</td>\n      <td>...</td>\n      <td>0</td>\n      <td>0</td>\n      <td>0</td>\n      <td>0</td>\n      <td>0</td>\n      <td>1</td>\n      <td>0</td>\n      <td>0</td>\n      <td>0</td>\n      <td>0</td>\n    </tr>\n    <tr>\n      <th>24904</th>\n      <td>55735</td>\n      <td>Shijuuku Nichi</td>\n      <td>UNKNOWN</td>\n      <td>四十九日</td>\n      <td>UNKNOWN</td>\n      <td>UNKNOWN</td>\n      <td>A music video for the song Shijuuku Nichi by S...</td>\n      <td>Music</td>\n      <td>1.0</td>\n      <td>Sep 5, 2022</td>\n      <td>...</td>\n      <td>0</td>\n      <td>0</td>\n      <td>0</td>\n      <td>0</td>\n      <td>0</td>\n      <td>1</td>\n      <td>0</td>\n      <td>0</td>\n      <td>0</td>\n      <td>0</td>\n    </tr>\n  </tbody>\n</table>\n<p>24905 rows × 46 columns</p>\n</div>"
     },
     "execution_count": 10,
     "metadata": {},
     "output_type": "execute_result"
    }
   ],
   "source": [
    "\n",
    "#one-hot encode the genres\n",
    "total_genres = list(set(\", \".join(my_data[\"Genres\"].unique()).split(\", \")))\n",
    "print(total_genres)\n",
    "total_genres = ['Adventure', 'Drama', 'Gourmet', 'Romance', 'Sports', 'Action', 'Suspense', 'Fantasy', 'Horror', 'Hentai', 'Supernatural', 'Avant Garde', 'Erotica', 'Mystery', 'Ecchi', 'Sci-Fi', 'Girls Love', 'UNKNOWN', 'Award Winning', 'Slice of Life', 'Boys Love', 'Comedy']\n",
    "my_data[[\"genre \"+gg for gg in total_genres]] = 0\n",
    "#print(my_data.columns)\n",
    "\n",
    "def split_genre(row):\n",
    "    gs = row[\"Genres\"].split(\", \")\n",
    "    for gg in gs:\n",
    "        row[\"genre \"+gg] = 1\n",
    "    return row\n",
    "\n",
    "my_data = my_data.apply(split_genre, axis=1)\n",
    "my_data"
   ],
   "metadata": {
    "collapsed": false,
    "ExecuteTime": {
     "end_time": "2024-04-24T19:33:59.010307Z",
     "start_time": "2024-04-24T19:33:57.695101800Z"
    }
   },
   "id": "6a63fcfc448d4a5d"
  },
  {
   "cell_type": "code",
   "execution_count": 28,
   "outputs": [],
   "source": [
    "my_data = my_data[~my_data['Name'].duplicated()]\n"
   ],
   "metadata": {
    "collapsed": false,
    "ExecuteTime": {
     "end_time": "2024-04-24T20:28:35.638301800Z",
     "start_time": "2024-04-24T20:28:35.604319700Z"
    }
   },
   "id": "4cff6c0c7bac5f2f"
  },
  {
   "cell_type": "code",
   "execution_count": 33,
   "outputs": [],
   "source": [
    "from numpy import nan\n",
    "\n",
    "\n",
    "def extract_year(date_str):\n",
    "    date_str = str(date_str)\n",
    "    if 'Unknown' in date_str:\n",
    "        return nan  \n",
    "    years = re.findall(r'\\b(19\\d{2}|20\\d{2})\\b', date_str)\n",
    "    if len(years) == 2:  \n",
    "        return (int(years[0]) + int(years[1])) // 2  \n",
    "    elif years:\n",
    "        return int(years[0])  \n",
    "    else:\n",
    "        return nan  # In case of a parsing error\n",
    "\n",
    "\n",
    "my_data['Aired'] = my_data['Aired'].apply(extract_year)"
   ],
   "metadata": {
    "collapsed": false,
    "ExecuteTime": {
     "end_time": "2024-04-24T20:32:50.644551200Z",
     "start_time": "2024-04-24T20:32:50.613380800Z"
    }
   },
   "id": "9a170399e68cbe05"
  },
  {
   "cell_type": "code",
   "execution_count": 40,
   "outputs": [
    {
     "data": {
      "text/plain": "       anime_id                                               Name  \\\n8263      20471                                           Aoki Uru   \n9445      26157                             Shin-chan no Sanrinsha   \n9466      26237                                     Cherry Blossom   \n9785      28581     Nintama Rantarou no Jishin Youjin Hi no Youjin   \n9786      28583                     Nintama Rantarou no Shouboutai   \n...         ...                                                ...   \n24875     55701                Kimetsu no Yaiba: Hashira Geiko-hen   \n24876     55702             Kimetsu no Yaiba: Purātorēninguāku-hen   \n24883     55710          Hana-Doll*: Reinterpretation of Flowering   \n24885     55716                                        Mechronicle   \n24886     55717  Dekisokonai to Yobareta Motoeiyuu wa Jikka kar...   \n\n                                            English name  \\\n8263                                         Uru in Blue   \n9445                                     Shin's Tricycle   \n9466                                             UNKNOWN   \n9785                                             UNKNOWN   \n9786                                             UNKNOWN   \n...                                                  ...   \n24875  Demon Slayer: Kimetsu no Yaiba Hashira Trainin...   \n24876  Demon slayer: Kimetsu no yaiba pillar training...   \n24883                                            UNKNOWN   \n24885                                        Mechronicle   \n24886                                            UNKNOWN   \n\n                                    Other name    Score  \\\n8263                                      蒼きウル  UNKNOWN   \n9445                              しんちゃんのさんりんしゃ  UNKNOWN   \n9466                                 チェリーブラッサム  UNKNOWN   \n9785                         忍たま乱太郎の 地震用心 火の用心  UNKNOWN   \n9786                                忍たま乱太郎の消防隊  UNKNOWN   \n...                                        ...      ...   \n24875                                鬼滅の刃 柱稽古編  UNKNOWN   \n24876   Kimetsu no Yaiba: Purātorēninguāku-hen  UNKNOWN   \n24883   華Doll* -Reinterpretation of Flowering-  UNKNOWN   \n24885                              Mechronicle  UNKNOWN   \n24886  出来損ないと呼ばれた元英雄は、実家から追放されたので好き勝手に生きることにした  UNKNOWN   \n\n                           Genres  \\\n8263                       Sci-Fi   \n9445                      UNKNOWN   \n9466                        Drama   \n9785                        Drama   \n9786                        Drama   \n...                           ...   \n24875             Action, Fantasy   \n24876     Action, Comedy, Fantasy   \n24883                     UNKNOWN   \n24885                     UNKNOWN   \n24886  Action, Adventure, Fantasy   \n\n                                                Synopsis     Type Episodes  \\\n8263   In March 1992, Gainax began the planning and p...    Movie      1.0   \n9445   The story about a real life 3 year old boy nam...      OVA      1.0   \n9466   An educational anime about what people should ...      OVA      1.0   \n9785   An educational film about fire safety during e...      OVA      1.0   \n9786   An educational film about fire brigades starri...      OVA      1.0   \n...                                                  ...      ...      ...   \n24875           Hashira Training Arc of Kimetsu no Yaiba       TV  UNKNOWN   \n24876                  Fourth season of Kimetsu no Yaiba       TV  UNKNOWN   \n24883  The \"Hana Ningyou Project\" (Flower Doll Projec...  UNKNOWN  UNKNOWN   \n24885  Set in a mechanical world, Mechronicle tells t...  UNKNOWN  UNKNOWN   \n24886  A boy named Allen was unable to receive the gi...       TV  UNKNOWN   \n\n       Aired  ... genre Erotica genre Mystery genre Ecchi genre Sci-Fi  \\\n8263     NaN  ...             0             0           0            1   \n9445     NaN  ...             0             0           0            0   \n9466     NaN  ...             0             0           0            0   \n9785     NaN  ...             0             0           0            0   \n9786     NaN  ...             0             0           0            0   \n...      ...  ...           ...           ...         ...          ...   \n24875    NaN  ...             0             0           0            0   \n24876    NaN  ...             0             0           0            0   \n24883    NaN  ...             0             0           0            0   \n24885    NaN  ...             0             0           0            0   \n24886    NaN  ...             0             0           0            0   \n\n      genre Girls Love genre UNKNOWN genre Award Winning genre Slice of Life  \\\n8263                 0             0                   0                   0   \n9445                 0             1                   0                   0   \n9466                 0             0                   0                   0   \n9785                 0             0                   0                   0   \n9786                 0             0                   0                   0   \n...                ...           ...                 ...                 ...   \n24875                0             0                   0                   0   \n24876                0             0                   0                   0   \n24883                0             1                   0                   0   \n24885                0             1                   0                   0   \n24886                0             0                   0                   0   \n\n      genre Boys Love  genre Comedy  \n8263                0             0  \n9445                0             0  \n9466                0             0  \n9785                0             0  \n9786                0             0  \n...               ...           ...  \n24875               0             0  \n24876               0             1  \n24883               0             0  \n24885               0             0  \n24886               0             0  \n\n[914 rows x 46 columns]",
      "text/html": "<div>\n<style scoped>\n    .dataframe tbody tr th:only-of-type {\n        vertical-align: middle;\n    }\n\n    .dataframe tbody tr th {\n        vertical-align: top;\n    }\n\n    .dataframe thead th {\n        text-align: right;\n    }\n</style>\n<table border=\"1\" class=\"dataframe\">\n  <thead>\n    <tr style=\"text-align: right;\">\n      <th></th>\n      <th>anime_id</th>\n      <th>Name</th>\n      <th>English name</th>\n      <th>Other name</th>\n      <th>Score</th>\n      <th>Genres</th>\n      <th>Synopsis</th>\n      <th>Type</th>\n      <th>Episodes</th>\n      <th>Aired</th>\n      <th>...</th>\n      <th>genre Erotica</th>\n      <th>genre Mystery</th>\n      <th>genre Ecchi</th>\n      <th>genre Sci-Fi</th>\n      <th>genre Girls Love</th>\n      <th>genre UNKNOWN</th>\n      <th>genre Award Winning</th>\n      <th>genre Slice of Life</th>\n      <th>genre Boys Love</th>\n      <th>genre Comedy</th>\n    </tr>\n  </thead>\n  <tbody>\n    <tr>\n      <th>8263</th>\n      <td>20471</td>\n      <td>Aoki Uru</td>\n      <td>Uru in Blue</td>\n      <td>蒼きウル</td>\n      <td>UNKNOWN</td>\n      <td>Sci-Fi</td>\n      <td>In March 1992, Gainax began the planning and p...</td>\n      <td>Movie</td>\n      <td>1.0</td>\n      <td>NaN</td>\n      <td>...</td>\n      <td>0</td>\n      <td>0</td>\n      <td>0</td>\n      <td>1</td>\n      <td>0</td>\n      <td>0</td>\n      <td>0</td>\n      <td>0</td>\n      <td>0</td>\n      <td>0</td>\n    </tr>\n    <tr>\n      <th>9445</th>\n      <td>26157</td>\n      <td>Shin-chan no Sanrinsha</td>\n      <td>Shin's Tricycle</td>\n      <td>しんちゃんのさんりんしゃ</td>\n      <td>UNKNOWN</td>\n      <td>UNKNOWN</td>\n      <td>The story about a real life 3 year old boy nam...</td>\n      <td>OVA</td>\n      <td>1.0</td>\n      <td>NaN</td>\n      <td>...</td>\n      <td>0</td>\n      <td>0</td>\n      <td>0</td>\n      <td>0</td>\n      <td>0</td>\n      <td>1</td>\n      <td>0</td>\n      <td>0</td>\n      <td>0</td>\n      <td>0</td>\n    </tr>\n    <tr>\n      <th>9466</th>\n      <td>26237</td>\n      <td>Cherry Blossom</td>\n      <td>UNKNOWN</td>\n      <td>チェリーブラッサム</td>\n      <td>UNKNOWN</td>\n      <td>Drama</td>\n      <td>An educational anime about what people should ...</td>\n      <td>OVA</td>\n      <td>1.0</td>\n      <td>NaN</td>\n      <td>...</td>\n      <td>0</td>\n      <td>0</td>\n      <td>0</td>\n      <td>0</td>\n      <td>0</td>\n      <td>0</td>\n      <td>0</td>\n      <td>0</td>\n      <td>0</td>\n      <td>0</td>\n    </tr>\n    <tr>\n      <th>9785</th>\n      <td>28581</td>\n      <td>Nintama Rantarou no Jishin Youjin Hi no Youjin</td>\n      <td>UNKNOWN</td>\n      <td>忍たま乱太郎の 地震用心 火の用心</td>\n      <td>UNKNOWN</td>\n      <td>Drama</td>\n      <td>An educational film about fire safety during e...</td>\n      <td>OVA</td>\n      <td>1.0</td>\n      <td>NaN</td>\n      <td>...</td>\n      <td>0</td>\n      <td>0</td>\n      <td>0</td>\n      <td>0</td>\n      <td>0</td>\n      <td>0</td>\n      <td>0</td>\n      <td>0</td>\n      <td>0</td>\n      <td>0</td>\n    </tr>\n    <tr>\n      <th>9786</th>\n      <td>28583</td>\n      <td>Nintama Rantarou no Shouboutai</td>\n      <td>UNKNOWN</td>\n      <td>忍たま乱太郎の消防隊</td>\n      <td>UNKNOWN</td>\n      <td>Drama</td>\n      <td>An educational film about fire brigades starri...</td>\n      <td>OVA</td>\n      <td>1.0</td>\n      <td>NaN</td>\n      <td>...</td>\n      <td>0</td>\n      <td>0</td>\n      <td>0</td>\n      <td>0</td>\n      <td>0</td>\n      <td>0</td>\n      <td>0</td>\n      <td>0</td>\n      <td>0</td>\n      <td>0</td>\n    </tr>\n    <tr>\n      <th>...</th>\n      <td>...</td>\n      <td>...</td>\n      <td>...</td>\n      <td>...</td>\n      <td>...</td>\n      <td>...</td>\n      <td>...</td>\n      <td>...</td>\n      <td>...</td>\n      <td>...</td>\n      <td>...</td>\n      <td>...</td>\n      <td>...</td>\n      <td>...</td>\n      <td>...</td>\n      <td>...</td>\n      <td>...</td>\n      <td>...</td>\n      <td>...</td>\n      <td>...</td>\n      <td>...</td>\n    </tr>\n    <tr>\n      <th>24875</th>\n      <td>55701</td>\n      <td>Kimetsu no Yaiba: Hashira Geiko-hen</td>\n      <td>Demon Slayer: Kimetsu no Yaiba Hashira Trainin...</td>\n      <td>鬼滅の刃 柱稽古編</td>\n      <td>UNKNOWN</td>\n      <td>Action, Fantasy</td>\n      <td>Hashira Training Arc of Kimetsu no Yaiba</td>\n      <td>TV</td>\n      <td>UNKNOWN</td>\n      <td>NaN</td>\n      <td>...</td>\n      <td>0</td>\n      <td>0</td>\n      <td>0</td>\n      <td>0</td>\n      <td>0</td>\n      <td>0</td>\n      <td>0</td>\n      <td>0</td>\n      <td>0</td>\n      <td>0</td>\n    </tr>\n    <tr>\n      <th>24876</th>\n      <td>55702</td>\n      <td>Kimetsu no Yaiba: Purātorēninguāku-hen</td>\n      <td>Demon slayer: Kimetsu no yaiba pillar training...</td>\n      <td>Kimetsu no Yaiba: Purātorēninguāku-hen</td>\n      <td>UNKNOWN</td>\n      <td>Action, Comedy, Fantasy</td>\n      <td>Fourth season of Kimetsu no Yaiba</td>\n      <td>TV</td>\n      <td>UNKNOWN</td>\n      <td>NaN</td>\n      <td>...</td>\n      <td>0</td>\n      <td>0</td>\n      <td>0</td>\n      <td>0</td>\n      <td>0</td>\n      <td>0</td>\n      <td>0</td>\n      <td>0</td>\n      <td>0</td>\n      <td>1</td>\n    </tr>\n    <tr>\n      <th>24883</th>\n      <td>55710</td>\n      <td>Hana-Doll*: Reinterpretation of Flowering</td>\n      <td>UNKNOWN</td>\n      <td>華Doll* -Reinterpretation of Flowering-</td>\n      <td>UNKNOWN</td>\n      <td>UNKNOWN</td>\n      <td>The \"Hana Ningyou Project\" (Flower Doll Projec...</td>\n      <td>UNKNOWN</td>\n      <td>UNKNOWN</td>\n      <td>NaN</td>\n      <td>...</td>\n      <td>0</td>\n      <td>0</td>\n      <td>0</td>\n      <td>0</td>\n      <td>0</td>\n      <td>1</td>\n      <td>0</td>\n      <td>0</td>\n      <td>0</td>\n      <td>0</td>\n    </tr>\n    <tr>\n      <th>24885</th>\n      <td>55716</td>\n      <td>Mechronicle</td>\n      <td>Mechronicle</td>\n      <td>Mechronicle</td>\n      <td>UNKNOWN</td>\n      <td>UNKNOWN</td>\n      <td>Set in a mechanical world, Mechronicle tells t...</td>\n      <td>UNKNOWN</td>\n      <td>UNKNOWN</td>\n      <td>NaN</td>\n      <td>...</td>\n      <td>0</td>\n      <td>0</td>\n      <td>0</td>\n      <td>0</td>\n      <td>0</td>\n      <td>1</td>\n      <td>0</td>\n      <td>0</td>\n      <td>0</td>\n      <td>0</td>\n    </tr>\n    <tr>\n      <th>24886</th>\n      <td>55717</td>\n      <td>Dekisokonai to Yobareta Motoeiyuu wa Jikka kar...</td>\n      <td>UNKNOWN</td>\n      <td>出来損ないと呼ばれた元英雄は、実家から追放されたので好き勝手に生きることにした</td>\n      <td>UNKNOWN</td>\n      <td>Action, Adventure, Fantasy</td>\n      <td>A boy named Allen was unable to receive the gi...</td>\n      <td>TV</td>\n      <td>UNKNOWN</td>\n      <td>NaN</td>\n      <td>...</td>\n      <td>0</td>\n      <td>0</td>\n      <td>0</td>\n      <td>0</td>\n      <td>0</td>\n      <td>0</td>\n      <td>0</td>\n      <td>0</td>\n      <td>0</td>\n      <td>0</td>\n    </tr>\n  </tbody>\n</table>\n<p>914 rows × 46 columns</p>\n</div>"
     },
     "execution_count": 40,
     "metadata": {},
     "output_type": "execute_result"
    }
   ],
   "source": [
    "my_data[my_data['Aired'].isna()]\n"
   ],
   "metadata": {
    "collapsed": false,
    "ExecuteTime": {
     "end_time": "2024-04-24T20:37:55.200083800Z",
     "start_time": "2024-04-24T20:37:55.183850200Z"
    }
   },
   "id": "2a0b1d10a5e515a5"
  },
  {
   "cell_type": "code",
   "execution_count": 41,
   "outputs": [],
   "source": [
    "# add average year for unknown data\n",
    "middle_year = my_data['Aired'].median()\n",
    "my_data['Aired'].fillna(middle_year, inplace=True)\n",
    "my_data['Aired'] = my_data['Aired'].astype(int)"
   ],
   "metadata": {
    "collapsed": false,
    "ExecuteTime": {
     "end_time": "2024-04-24T20:41:11.725711200Z",
     "start_time": "2024-04-24T20:41:11.695822Z"
    }
   },
   "id": "60af7f145ea02c64"
  },
  {
   "cell_type": "markdown",
   "source": [
    "# One Hot encode the Licensors"
   ],
   "metadata": {
    "collapsed": false
   },
   "id": "150f254bed374ae4"
  },
  {
   "cell_type": "code",
   "execution_count": 44,
   "outputs": [
    {
     "name": "stdout",
     "output_type": "stream",
     "text": [
      "['Dentsu Entertainment USA', 'ADV Films', 'Tokyopop', 'NYAV Post', 'Eleven Arts', 'Travel Compass', 'B.CMAY PICTURES', 'NBCUniversal Entertainment Japan', 'Cookie Jar Entertainment', 'Crunchyroll', 'Anime Midstream', 'Saban Entertainment', 'Synch-Point', '4Kids Entertainment', 'SoftCel Pictures', 'Directions', 'Kadokawa Pictures USA', 'Geneon Universal Entertainment', 'NuTech Digital', 'Marvel Entertainment', 'DreamWorks', 'Mill Creek Entertainment', 'DiC Entertainment', 'Hasbro', 'Enoki Films', 'Voyager Entertainment', 'Kadokawa', 'Pioneer LDC', 'Central Park Media', 'Geneon Entertainment USA', 'Hirameki International', 'Nelvana', 'Aniplex of America', 'AnimEigo', 'Sentai Filmworks', 'Adult Source Media', 'NIS America', 'Illumitoon Entertainment', 'Capcom', 'Harmony Gold', 'Bandai Visual USA', 'Ponycan USA', 'Miramax Films', 'Muse Communication', 'iQIYI', 'Shout! Factory', 'Ketchup Entertainment', 'JapanAnime', 'Ascendent Animation', 'Frontier Works', 'Arts Magic', 'Konami Cross Media NY', 'Maiden Japan', 'Bandai Namco Online', 'Manga Entertainment', 'Cinelicious Pics', 'Sony Pictures Entertainment', 'Bandai Namco Games', 'VIZ Media', 'Sony Pictures Worldwide Acquisitions', 'Anchor Bay Films', 'Crimson Star Media', 'Haoliners Animation League', 'Discotek Media', 'UNKNOWN', 'Super Techno Arts', 'Media Blasters', 'Saban Brands', 'Bandai', 'AN Entertainment', 'Disney Platform Distribution', 'Bandai Entertainment', 'GKIDS', 'Nozomi Entertainment', 'Kuma Holdings', 'Funimation', 'Kitty Media', 'bilibili', 'Warner Bros. Pictures', 'Inc.', 'Pied Piper', 'Urban Vision', 'Nintendo of America', 'The Pokemon Company International', 'Critical Mass Video', 'Streamline Pictures', 'ADK Emotions NY', 'Flatiron Film Company']\n"
     ]
    },
    {
     "data": {
      "text/plain": "'\\ndef split_genre(row):\\n    gs = row[\"Genres\"].split(\", \")\\n    for gg in gs:\\n        row[\"genre \"+gg] = 1\\n    return row\\n\\nmy_data = my_data.apply(split_genre, axis=1)\\nmy_data\\n'"
     },
     "execution_count": 44,
     "metadata": {},
     "output_type": "execute_result"
    }
   ],
   "source": [
    "total_licenses = list(set(\", \".join(my_data[\"Licensors\"].unique()).split(\", \")))\n",
    "print(total_licenses)\n",
    "\n",
    "#my_data[[\"licensor \"+gg for gg in total_licenses]] = 0\n",
    "#print(my_data.columns)\n",
    "'''\n",
    "def split_genre(row):\n",
    "    gs = row[\"Genres\"].split(\", \")\n",
    "    for gg in gs:\n",
    "        row[\"genre \"+gg] = 1\n",
    "    return row\n",
    "\n",
    "my_data = my_data.apply(split_genre, axis=1)\n",
    "my_data\n",
    "'''"
   ],
   "metadata": {
    "collapsed": false,
    "ExecuteTime": {
     "end_time": "2024-04-24T21:01:18.661094400Z",
     "start_time": "2024-04-24T21:01:18.650759700Z"
    }
   },
   "id": "4d8bf1b23da13acf"
  },
  {
   "cell_type": "markdown",
   "source": [
    "# One Hot encode the type"
   ],
   "metadata": {
    "collapsed": false
   },
   "id": "8b3e64bcdfbb2108"
  },
  {
   "cell_type": "code",
   "execution_count": 49,
   "outputs": [
    {
     "name": "stdout",
     "output_type": "stream",
     "text": [
      "['UNKNOWN', 'OVA', 'Special', 'ONA', 'Movie', 'Music', 'TV']\n"
     ]
    },
    {
     "data": {
      "text/plain": "       anime_id                             Name             English name  \\\n0             1                     Cowboy Bebop             Cowboy Bebop   \n1             5  Cowboy Bebop: Tengoku no Tobira  Cowboy Bebop: The Movie   \n2             6                           Trigun                   Trigun   \n3             7               Witch Hunter Robin       Witch Hunter Robin   \n4             8                   Bouken Ou Beet   Beet the Vandel Buster   \n...         ...                              ...                      ...   \n24900     55731                      Wu Nao Monu                  UNKNOWN   \n24901     55732              Bu Xing Si: Yuan Qi              Blader Soul   \n24902     55733                      Di Yi Xulie          The First Order   \n24903     55734         Bokura no Saishuu Sensou                  UNKNOWN   \n24904     55735                   Shijuuku Nichi                  UNKNOWN   \n\n                             Other name    Score  \\\n0                             カウボーイビバップ     8.75   \n1                        カウボーイビバップ 天国の扉     8.38   \n2                                 トライガン     8.22   \n3      Witch Hunter ROBIN (ウイッチハンターロビン)     7.25   \n4                                冒険王ビィト     6.94   \n...                                 ...      ...   \n24900                              无脑魔女  UNKNOWN   \n24901                            捕星司·源起  UNKNOWN   \n24902                              第一序列  UNKNOWN   \n24903                           僕らの最終戦争  UNKNOWN   \n24904                              四十九日  UNKNOWN   \n\n                                     Genres  \\\n0             Action, Award Winning, Sci-Fi   \n1                            Action, Sci-Fi   \n2                 Action, Adventure, Sci-Fi   \n3      Action, Drama, Mystery, Supernatural   \n4          Adventure, Fantasy, Supernatural   \n...                                     ...   \n24900        Comedy, Fantasy, Slice of Life   \n24901            Action, Adventure, Fantasy   \n24902    Action, Adventure, Fantasy, Sci-Fi   \n24903                               UNKNOWN   \n24904                               UNKNOWN   \n\n                                                Synopsis   Type Episodes  \\\n0      Crime is timeless. By the year 2071, humanity ...     TV     26.0   \n1      Another day, another bounty—such is the life o...  Movie      1.0   \n2      Vash the Stampede is the man with a $$60,000,0...     TV     26.0   \n3      Robin Sena is a powerful craft user drafted in...     TV     26.0   \n4      It is the dark century and the people are suff...     TV     52.0   \n...                                                  ...    ...      ...   \n24900           No description available for this anime.    ONA     15.0   \n24901           No description available for this anime.    ONA     18.0   \n24902           No description available for this anime.    ONA     16.0   \n24903  A music video for the song Bokura no Saishuu S...  Music      1.0   \n24904  A music video for the song Shijuuku Nichi by S...  Music      1.0   \n\n       Aired  ... genre Slice of Life genre Boys Love genre Comedy  \\\n0       1998  ...                   0               0            0   \n1       2001  ...                   0               0            0   \n2       1998  ...                   0               0            0   \n3       2002  ...                   0               0            0   \n4       2004  ...                   0               0            0   \n...      ...  ...                 ...             ...          ...   \n24900   2023  ...                   1               0            1   \n24901   2023  ...                   0               0            0   \n24902   2023  ...                   0               0            0   \n24903   2022  ...                   0               0            0   \n24904   2022  ...                   0               0            0   \n\n      Type UNKNOWN Type OVA Type Special Type ONA Type Movie Type Music  \\\n0                0        0            0        0          0          0   \n1                0        0            0        0          1          0   \n2                0        0            0        0          0          0   \n3                0        0            0        0          0          0   \n4                0        0            0        0          0          0   \n...            ...      ...          ...      ...        ...        ...   \n24900            0        0            0        1          0          0   \n24901            0        0            0        1          0          0   \n24902            0        0            0        1          0          0   \n24903            0        0            0        0          0          1   \n24904            0        0            0        0          0          1   \n\n       Type TV  \n0            1  \n1            0  \n2            1  \n3            1  \n4            1  \n...        ...  \n24900        0  \n24901        0  \n24902        0  \n24903        0  \n24904        0  \n\n[24901 rows x 53 columns]",
      "text/html": "<div>\n<style scoped>\n    .dataframe tbody tr th:only-of-type {\n        vertical-align: middle;\n    }\n\n    .dataframe tbody tr th {\n        vertical-align: top;\n    }\n\n    .dataframe thead th {\n        text-align: right;\n    }\n</style>\n<table border=\"1\" class=\"dataframe\">\n  <thead>\n    <tr style=\"text-align: right;\">\n      <th></th>\n      <th>anime_id</th>\n      <th>Name</th>\n      <th>English name</th>\n      <th>Other name</th>\n      <th>Score</th>\n      <th>Genres</th>\n      <th>Synopsis</th>\n      <th>Type</th>\n      <th>Episodes</th>\n      <th>Aired</th>\n      <th>...</th>\n      <th>genre Slice of Life</th>\n      <th>genre Boys Love</th>\n      <th>genre Comedy</th>\n      <th>Type UNKNOWN</th>\n      <th>Type OVA</th>\n      <th>Type Special</th>\n      <th>Type ONA</th>\n      <th>Type Movie</th>\n      <th>Type Music</th>\n      <th>Type TV</th>\n    </tr>\n  </thead>\n  <tbody>\n    <tr>\n      <th>0</th>\n      <td>1</td>\n      <td>Cowboy Bebop</td>\n      <td>Cowboy Bebop</td>\n      <td>カウボーイビバップ</td>\n      <td>8.75</td>\n      <td>Action, Award Winning, Sci-Fi</td>\n      <td>Crime is timeless. By the year 2071, humanity ...</td>\n      <td>TV</td>\n      <td>26.0</td>\n      <td>1998</td>\n      <td>...</td>\n      <td>0</td>\n      <td>0</td>\n      <td>0</td>\n      <td>0</td>\n      <td>0</td>\n      <td>0</td>\n      <td>0</td>\n      <td>0</td>\n      <td>0</td>\n      <td>1</td>\n    </tr>\n    <tr>\n      <th>1</th>\n      <td>5</td>\n      <td>Cowboy Bebop: Tengoku no Tobira</td>\n      <td>Cowboy Bebop: The Movie</td>\n      <td>カウボーイビバップ 天国の扉</td>\n      <td>8.38</td>\n      <td>Action, Sci-Fi</td>\n      <td>Another day, another bounty—such is the life o...</td>\n      <td>Movie</td>\n      <td>1.0</td>\n      <td>2001</td>\n      <td>...</td>\n      <td>0</td>\n      <td>0</td>\n      <td>0</td>\n      <td>0</td>\n      <td>0</td>\n      <td>0</td>\n      <td>0</td>\n      <td>1</td>\n      <td>0</td>\n      <td>0</td>\n    </tr>\n    <tr>\n      <th>2</th>\n      <td>6</td>\n      <td>Trigun</td>\n      <td>Trigun</td>\n      <td>トライガン</td>\n      <td>8.22</td>\n      <td>Action, Adventure, Sci-Fi</td>\n      <td>Vash the Stampede is the man with a $$60,000,0...</td>\n      <td>TV</td>\n      <td>26.0</td>\n      <td>1998</td>\n      <td>...</td>\n      <td>0</td>\n      <td>0</td>\n      <td>0</td>\n      <td>0</td>\n      <td>0</td>\n      <td>0</td>\n      <td>0</td>\n      <td>0</td>\n      <td>0</td>\n      <td>1</td>\n    </tr>\n    <tr>\n      <th>3</th>\n      <td>7</td>\n      <td>Witch Hunter Robin</td>\n      <td>Witch Hunter Robin</td>\n      <td>Witch Hunter ROBIN (ウイッチハンターロビン)</td>\n      <td>7.25</td>\n      <td>Action, Drama, Mystery, Supernatural</td>\n      <td>Robin Sena is a powerful craft user drafted in...</td>\n      <td>TV</td>\n      <td>26.0</td>\n      <td>2002</td>\n      <td>...</td>\n      <td>0</td>\n      <td>0</td>\n      <td>0</td>\n      <td>0</td>\n      <td>0</td>\n      <td>0</td>\n      <td>0</td>\n      <td>0</td>\n      <td>0</td>\n      <td>1</td>\n    </tr>\n    <tr>\n      <th>4</th>\n      <td>8</td>\n      <td>Bouken Ou Beet</td>\n      <td>Beet the Vandel Buster</td>\n      <td>冒険王ビィト</td>\n      <td>6.94</td>\n      <td>Adventure, Fantasy, Supernatural</td>\n      <td>It is the dark century and the people are suff...</td>\n      <td>TV</td>\n      <td>52.0</td>\n      <td>2004</td>\n      <td>...</td>\n      <td>0</td>\n      <td>0</td>\n      <td>0</td>\n      <td>0</td>\n      <td>0</td>\n      <td>0</td>\n      <td>0</td>\n      <td>0</td>\n      <td>0</td>\n      <td>1</td>\n    </tr>\n    <tr>\n      <th>...</th>\n      <td>...</td>\n      <td>...</td>\n      <td>...</td>\n      <td>...</td>\n      <td>...</td>\n      <td>...</td>\n      <td>...</td>\n      <td>...</td>\n      <td>...</td>\n      <td>...</td>\n      <td>...</td>\n      <td>...</td>\n      <td>...</td>\n      <td>...</td>\n      <td>...</td>\n      <td>...</td>\n      <td>...</td>\n      <td>...</td>\n      <td>...</td>\n      <td>...</td>\n      <td>...</td>\n    </tr>\n    <tr>\n      <th>24900</th>\n      <td>55731</td>\n      <td>Wu Nao Monu</td>\n      <td>UNKNOWN</td>\n      <td>无脑魔女</td>\n      <td>UNKNOWN</td>\n      <td>Comedy, Fantasy, Slice of Life</td>\n      <td>No description available for this anime.</td>\n      <td>ONA</td>\n      <td>15.0</td>\n      <td>2023</td>\n      <td>...</td>\n      <td>1</td>\n      <td>0</td>\n      <td>1</td>\n      <td>0</td>\n      <td>0</td>\n      <td>0</td>\n      <td>1</td>\n      <td>0</td>\n      <td>0</td>\n      <td>0</td>\n    </tr>\n    <tr>\n      <th>24901</th>\n      <td>55732</td>\n      <td>Bu Xing Si: Yuan Qi</td>\n      <td>Blader Soul</td>\n      <td>捕星司·源起</td>\n      <td>UNKNOWN</td>\n      <td>Action, Adventure, Fantasy</td>\n      <td>No description available for this anime.</td>\n      <td>ONA</td>\n      <td>18.0</td>\n      <td>2023</td>\n      <td>...</td>\n      <td>0</td>\n      <td>0</td>\n      <td>0</td>\n      <td>0</td>\n      <td>0</td>\n      <td>0</td>\n      <td>1</td>\n      <td>0</td>\n      <td>0</td>\n      <td>0</td>\n    </tr>\n    <tr>\n      <th>24902</th>\n      <td>55733</td>\n      <td>Di Yi Xulie</td>\n      <td>The First Order</td>\n      <td>第一序列</td>\n      <td>UNKNOWN</td>\n      <td>Action, Adventure, Fantasy, Sci-Fi</td>\n      <td>No description available for this anime.</td>\n      <td>ONA</td>\n      <td>16.0</td>\n      <td>2023</td>\n      <td>...</td>\n      <td>0</td>\n      <td>0</td>\n      <td>0</td>\n      <td>0</td>\n      <td>0</td>\n      <td>0</td>\n      <td>1</td>\n      <td>0</td>\n      <td>0</td>\n      <td>0</td>\n    </tr>\n    <tr>\n      <th>24903</th>\n      <td>55734</td>\n      <td>Bokura no Saishuu Sensou</td>\n      <td>UNKNOWN</td>\n      <td>僕らの最終戦争</td>\n      <td>UNKNOWN</td>\n      <td>UNKNOWN</td>\n      <td>A music video for the song Bokura no Saishuu S...</td>\n      <td>Music</td>\n      <td>1.0</td>\n      <td>2022</td>\n      <td>...</td>\n      <td>0</td>\n      <td>0</td>\n      <td>0</td>\n      <td>0</td>\n      <td>0</td>\n      <td>0</td>\n      <td>0</td>\n      <td>0</td>\n      <td>1</td>\n      <td>0</td>\n    </tr>\n    <tr>\n      <th>24904</th>\n      <td>55735</td>\n      <td>Shijuuku Nichi</td>\n      <td>UNKNOWN</td>\n      <td>四十九日</td>\n      <td>UNKNOWN</td>\n      <td>UNKNOWN</td>\n      <td>A music video for the song Shijuuku Nichi by S...</td>\n      <td>Music</td>\n      <td>1.0</td>\n      <td>2022</td>\n      <td>...</td>\n      <td>0</td>\n      <td>0</td>\n      <td>0</td>\n      <td>0</td>\n      <td>0</td>\n      <td>0</td>\n      <td>0</td>\n      <td>0</td>\n      <td>1</td>\n      <td>0</td>\n    </tr>\n  </tbody>\n</table>\n<p>24901 rows × 53 columns</p>\n</div>"
     },
     "execution_count": 49,
     "metadata": {},
     "output_type": "execute_result"
    }
   ],
   "source": [
    "total_Types = list(set(\", \".join(my_data[\"Type\"].unique()).split(\", \")))\n",
    "print(total_Types)\n",
    "\n",
    "my_data[[\"Type \"+t for t in total_Types]] = 0\n",
    "#print(my_data.columns)\n",
    "\n",
    "def split_Type(row):\n",
    "    gs = row[\"Type\"].split(\", \")\n",
    "    for t in gs:\n",
    "        row[\"Type \"+t] = 1\n",
    "    return row\n",
    "\n",
    "my_data = my_data.apply(split_Type, axis=1)\n",
    "my_da"
   ],
   "metadata": {
    "collapsed": false,
    "ExecuteTime": {
     "end_time": "2024-04-24T21:32:14.765428100Z",
     "start_time": "2024-04-24T21:32:13.597316200Z"
    }
   },
   "id": "c946a26652509ffe"
  },
  {
   "cell_type": "code",
   "execution_count": 90,
   "outputs": [
    {
     "data": {
      "text/plain": "'OVA'"
     },
     "execution_count": 90,
     "metadata": {},
     "output_type": "execute_result"
    }
   ],
   "source": [],
   "metadata": {
    "collapsed": false,
    "ExecuteTime": {
     "end_time": "2024-04-25T18:49:41.926664100Z",
     "start_time": "2024-04-25T18:49:41.916632200Z"
    }
   },
   "id": "b99649326d8d4a4"
  },
  {
   "cell_type": "code",
   "execution_count": 58,
   "outputs": [],
   "source": [
    "my_data['Episodes'].replace('UNKNOWN', np.nan, inplace=True)\n",
    "my_data['Episodes'].fillna(my_data['Episodes'].median(), inplace=True)\n",
    "my_data['Episodes'] = my_data['Episodes'].astype(float)\n",
    "scaler = MinMaxScaler()\n",
    "my_data['Aired'] = scaler.fit_transform(my_data[['Aired']])\n",
    "my_data['Episodes'] = scaler.fit_transform(my_data[['Episodes']])\n"
   ],
   "metadata": {
    "collapsed": false,
    "ExecuteTime": {
     "end_time": "2024-04-24T21:44:06.426599100Z",
     "start_time": "2024-04-24T21:44:06.395586900Z"
    }
   },
   "id": "e1abd53763f7eb61"
  },
  {
   "cell_type": "code",
   "execution_count": 60,
   "outputs": [
    {
     "data": {
      "text/plain": "       anime_id                             Name             English name  \\\n0             1                     Cowboy Bebop             Cowboy Bebop   \n1             5  Cowboy Bebop: Tengoku no Tobira  Cowboy Bebop: The Movie   \n2             6                           Trigun                   Trigun   \n3             7               Witch Hunter Robin       Witch Hunter Robin   \n4             8                   Bouken Ou Beet   Beet the Vandel Buster   \n...         ...                              ...                      ...   \n24900     55731                      Wu Nao Monu                  UNKNOWN   \n24901     55732              Bu Xing Si: Yuan Qi              Blader Soul   \n24902     55733                      Di Yi Xulie          The First Order   \n24903     55734         Bokura no Saishuu Sensou                  UNKNOWN   \n24904     55735                   Shijuuku Nichi                  UNKNOWN   \n\n                             Other name    Score  \\\n0                             カウボーイビバップ     8.75   \n1                        カウボーイビバップ 天国の扉     8.38   \n2                                 トライガン     8.22   \n3      Witch Hunter ROBIN (ウイッチハンターロビン)     7.25   \n4                                冒険王ビィト     6.94   \n...                                 ...      ...   \n24900                              无脑魔女  UNKNOWN   \n24901                            捕星司·源起  UNKNOWN   \n24902                              第一序列  UNKNOWN   \n24903                           僕らの最終戦争  UNKNOWN   \n24904                              四十九日  UNKNOWN   \n\n                                     Genres  \\\n0             Action, Award Winning, Sci-Fi   \n1                            Action, Sci-Fi   \n2                 Action, Adventure, Sci-Fi   \n3      Action, Drama, Mystery, Supernatural   \n4          Adventure, Fantasy, Supernatural   \n...                                     ...   \n24900        Comedy, Fantasy, Slice of Life   \n24901            Action, Adventure, Fantasy   \n24902    Action, Adventure, Fantasy, Sci-Fi   \n24903                               UNKNOWN   \n24904                               UNKNOWN   \n\n                                                Synopsis   Type  Episodes  \\\n0      Crime is timeless. By the year 2071, humanity ...     TV  0.008181   \n1      Another day, another bounty—such is the life o...  Movie  0.000000   \n2      Vash the Stampede is the man with a $$60,000,0...     TV  0.008181   \n3      Robin Sena is a powerful craft user drafted in...     TV  0.008181   \n4      It is the dark century and the people are suff...     TV  0.016688   \n...                                                  ...    ...       ...   \n24900           No description available for this anime.    ONA  0.004581   \n24901           No description available for this anime.    ONA  0.005563   \n24902           No description available for this anime.    ONA  0.004908   \n24903  A music video for the song Bokura no Saishuu S...  Music  0.000000   \n24904  A music video for the song Shijuuku Nichi by S...  Music  0.000000   \n\n          Aired  ... genre Slice of Life genre Boys Love genre Comedy  \\\n0      0.750000  ...                   0               0            0   \n1      0.777778  ...                   0               0            0   \n2      0.750000  ...                   0               0            0   \n3      0.787037  ...                   0               0            0   \n4      0.805556  ...                   0               0            0   \n...         ...  ...                 ...             ...          ...   \n24900  0.981481  ...                   1               0            1   \n24901  0.981481  ...                   0               0            0   \n24902  0.981481  ...                   0               0            0   \n24903  0.972222  ...                   0               0            0   \n24904  0.972222  ...                   0               0            0   \n\n      Type UNKNOWN Type OVA Type Special Type ONA Type Movie Type Music  \\\n0                0        0            0        0          0          0   \n1                0        0            0        0          1          0   \n2                0        0            0        0          0          0   \n3                0        0            0        0          0          0   \n4                0        0            0        0          0          0   \n...            ...      ...          ...      ...        ...        ...   \n24900            0        0            0        1          0          0   \n24901            0        0            0        1          0          0   \n24902            0        0            0        1          0          0   \n24903            0        0            0        0          0          1   \n24904            0        0            0        0          0          1   \n\n       Type TV  \n0            1  \n1            0  \n2            1  \n3            1  \n4            1  \n...        ...  \n24900        0  \n24901        0  \n24902        0  \n24903        0  \n24904        0  \n\n[24901 rows x 53 columns]",
      "text/html": "<div>\n<style scoped>\n    .dataframe tbody tr th:only-of-type {\n        vertical-align: middle;\n    }\n\n    .dataframe tbody tr th {\n        vertical-align: top;\n    }\n\n    .dataframe thead th {\n        text-align: right;\n    }\n</style>\n<table border=\"1\" class=\"dataframe\">\n  <thead>\n    <tr style=\"text-align: right;\">\n      <th></th>\n      <th>anime_id</th>\n      <th>Name</th>\n      <th>English name</th>\n      <th>Other name</th>\n      <th>Score</th>\n      <th>Genres</th>\n      <th>Synopsis</th>\n      <th>Type</th>\n      <th>Episodes</th>\n      <th>Aired</th>\n      <th>...</th>\n      <th>genre Slice of Life</th>\n      <th>genre Boys Love</th>\n      <th>genre Comedy</th>\n      <th>Type UNKNOWN</th>\n      <th>Type OVA</th>\n      <th>Type Special</th>\n      <th>Type ONA</th>\n      <th>Type Movie</th>\n      <th>Type Music</th>\n      <th>Type TV</th>\n    </tr>\n  </thead>\n  <tbody>\n    <tr>\n      <th>0</th>\n      <td>1</td>\n      <td>Cowboy Bebop</td>\n      <td>Cowboy Bebop</td>\n      <td>カウボーイビバップ</td>\n      <td>8.75</td>\n      <td>Action, Award Winning, Sci-Fi</td>\n      <td>Crime is timeless. By the year 2071, humanity ...</td>\n      <td>TV</td>\n      <td>0.008181</td>\n      <td>0.750000</td>\n      <td>...</td>\n      <td>0</td>\n      <td>0</td>\n      <td>0</td>\n      <td>0</td>\n      <td>0</td>\n      <td>0</td>\n      <td>0</td>\n      <td>0</td>\n      <td>0</td>\n      <td>1</td>\n    </tr>\n    <tr>\n      <th>1</th>\n      <td>5</td>\n      <td>Cowboy Bebop: Tengoku no Tobira</td>\n      <td>Cowboy Bebop: The Movie</td>\n      <td>カウボーイビバップ 天国の扉</td>\n      <td>8.38</td>\n      <td>Action, Sci-Fi</td>\n      <td>Another day, another bounty—such is the life o...</td>\n      <td>Movie</td>\n      <td>0.000000</td>\n      <td>0.777778</td>\n      <td>...</td>\n      <td>0</td>\n      <td>0</td>\n      <td>0</td>\n      <td>0</td>\n      <td>0</td>\n      <td>0</td>\n      <td>0</td>\n      <td>1</td>\n      <td>0</td>\n      <td>0</td>\n    </tr>\n    <tr>\n      <th>2</th>\n      <td>6</td>\n      <td>Trigun</td>\n      <td>Trigun</td>\n      <td>トライガン</td>\n      <td>8.22</td>\n      <td>Action, Adventure, Sci-Fi</td>\n      <td>Vash the Stampede is the man with a $$60,000,0...</td>\n      <td>TV</td>\n      <td>0.008181</td>\n      <td>0.750000</td>\n      <td>...</td>\n      <td>0</td>\n      <td>0</td>\n      <td>0</td>\n      <td>0</td>\n      <td>0</td>\n      <td>0</td>\n      <td>0</td>\n      <td>0</td>\n      <td>0</td>\n      <td>1</td>\n    </tr>\n    <tr>\n      <th>3</th>\n      <td>7</td>\n      <td>Witch Hunter Robin</td>\n      <td>Witch Hunter Robin</td>\n      <td>Witch Hunter ROBIN (ウイッチハンターロビン)</td>\n      <td>7.25</td>\n      <td>Action, Drama, Mystery, Supernatural</td>\n      <td>Robin Sena is a powerful craft user drafted in...</td>\n      <td>TV</td>\n      <td>0.008181</td>\n      <td>0.787037</td>\n      <td>...</td>\n      <td>0</td>\n      <td>0</td>\n      <td>0</td>\n      <td>0</td>\n      <td>0</td>\n      <td>0</td>\n      <td>0</td>\n      <td>0</td>\n      <td>0</td>\n      <td>1</td>\n    </tr>\n    <tr>\n      <th>4</th>\n      <td>8</td>\n      <td>Bouken Ou Beet</td>\n      <td>Beet the Vandel Buster</td>\n      <td>冒険王ビィト</td>\n      <td>6.94</td>\n      <td>Adventure, Fantasy, Supernatural</td>\n      <td>It is the dark century and the people are suff...</td>\n      <td>TV</td>\n      <td>0.016688</td>\n      <td>0.805556</td>\n      <td>...</td>\n      <td>0</td>\n      <td>0</td>\n      <td>0</td>\n      <td>0</td>\n      <td>0</td>\n      <td>0</td>\n      <td>0</td>\n      <td>0</td>\n      <td>0</td>\n      <td>1</td>\n    </tr>\n    <tr>\n      <th>...</th>\n      <td>...</td>\n      <td>...</td>\n      <td>...</td>\n      <td>...</td>\n      <td>...</td>\n      <td>...</td>\n      <td>...</td>\n      <td>...</td>\n      <td>...</td>\n      <td>...</td>\n      <td>...</td>\n      <td>...</td>\n      <td>...</td>\n      <td>...</td>\n      <td>...</td>\n      <td>...</td>\n      <td>...</td>\n      <td>...</td>\n      <td>...</td>\n      <td>...</td>\n      <td>...</td>\n    </tr>\n    <tr>\n      <th>24900</th>\n      <td>55731</td>\n      <td>Wu Nao Monu</td>\n      <td>UNKNOWN</td>\n      <td>无脑魔女</td>\n      <td>UNKNOWN</td>\n      <td>Comedy, Fantasy, Slice of Life</td>\n      <td>No description available for this anime.</td>\n      <td>ONA</td>\n      <td>0.004581</td>\n      <td>0.981481</td>\n      <td>...</td>\n      <td>1</td>\n      <td>0</td>\n      <td>1</td>\n      <td>0</td>\n      <td>0</td>\n      <td>0</td>\n      <td>1</td>\n      <td>0</td>\n      <td>0</td>\n      <td>0</td>\n    </tr>\n    <tr>\n      <th>24901</th>\n      <td>55732</td>\n      <td>Bu Xing Si: Yuan Qi</td>\n      <td>Blader Soul</td>\n      <td>捕星司·源起</td>\n      <td>UNKNOWN</td>\n      <td>Action, Adventure, Fantasy</td>\n      <td>No description available for this anime.</td>\n      <td>ONA</td>\n      <td>0.005563</td>\n      <td>0.981481</td>\n      <td>...</td>\n      <td>0</td>\n      <td>0</td>\n      <td>0</td>\n      <td>0</td>\n      <td>0</td>\n      <td>0</td>\n      <td>1</td>\n      <td>0</td>\n      <td>0</td>\n      <td>0</td>\n    </tr>\n    <tr>\n      <th>24902</th>\n      <td>55733</td>\n      <td>Di Yi Xulie</td>\n      <td>The First Order</td>\n      <td>第一序列</td>\n      <td>UNKNOWN</td>\n      <td>Action, Adventure, Fantasy, Sci-Fi</td>\n      <td>No description available for this anime.</td>\n      <td>ONA</td>\n      <td>0.004908</td>\n      <td>0.981481</td>\n      <td>...</td>\n      <td>0</td>\n      <td>0</td>\n      <td>0</td>\n      <td>0</td>\n      <td>0</td>\n      <td>0</td>\n      <td>1</td>\n      <td>0</td>\n      <td>0</td>\n      <td>0</td>\n    </tr>\n    <tr>\n      <th>24903</th>\n      <td>55734</td>\n      <td>Bokura no Saishuu Sensou</td>\n      <td>UNKNOWN</td>\n      <td>僕らの最終戦争</td>\n      <td>UNKNOWN</td>\n      <td>UNKNOWN</td>\n      <td>A music video for the song Bokura no Saishuu S...</td>\n      <td>Music</td>\n      <td>0.000000</td>\n      <td>0.972222</td>\n      <td>...</td>\n      <td>0</td>\n      <td>0</td>\n      <td>0</td>\n      <td>0</td>\n      <td>0</td>\n      <td>0</td>\n      <td>0</td>\n      <td>0</td>\n      <td>1</td>\n      <td>0</td>\n    </tr>\n    <tr>\n      <th>24904</th>\n      <td>55735</td>\n      <td>Shijuuku Nichi</td>\n      <td>UNKNOWN</td>\n      <td>四十九日</td>\n      <td>UNKNOWN</td>\n      <td>UNKNOWN</td>\n      <td>A music video for the song Shijuuku Nichi by S...</td>\n      <td>Music</td>\n      <td>0.000000</td>\n      <td>0.972222</td>\n      <td>...</td>\n      <td>0</td>\n      <td>0</td>\n      <td>0</td>\n      <td>0</td>\n      <td>0</td>\n      <td>0</td>\n      <td>0</td>\n      <td>0</td>\n      <td>1</td>\n      <td>0</td>\n    </tr>\n  </tbody>\n</table>\n<p>24901 rows × 53 columns</p>\n</div>"
     },
     "execution_count": 60,
     "metadata": {},
     "output_type": "execute_result"
    }
   ],
   "source": [
    "my_data"
   ],
   "metadata": {
    "collapsed": false,
    "ExecuteTime": {
     "end_time": "2024-04-24T21:44:39.113000200Z",
     "start_time": "2024-04-24T21:44:39.057911300Z"
    }
   },
   "id": "77401ff317c82a25"
  },
  {
   "cell_type": "code",
   "execution_count": 63,
   "outputs": [],
   "source": [
    "features = my_data.drop(columns=[\n",
    "    'Name', 'English name', 'Other name', 'Score', 'Genres', 'Synopsis', 'Type', \n",
    "    'Premiered', 'Status', 'Producers', 'Licensors', 'Studios', 'Source', \n",
    "    'Duration', 'Rating', 'Rank', 'Popularity', 'Favorites', 'Scored By', \n",
    "    'Members', 'Image URL'\n",
    "])\n",
    "\n",
    "# Compute the cosine similarity matrix\n",
    "cosine_sim = cosine_similarity(features)\n",
    "\n",
    "# Create a DataFrame for the similarity matrix, setting the index and columns to help identify the rows and columns easily\n",
    "cosine_sim_df = pd.DataFrame(cosine_sim, index=my_data['Name'], columns=my_data['Name'])\n",
    "\n"
   ],
   "metadata": {
    "collapsed": false,
    "ExecuteTime": {
     "end_time": "2024-04-24T22:17:56.777384700Z",
     "start_time": "2024-04-24T22:17:37.506824400Z"
    }
   },
   "id": "70960ab51208ede9"
  },
  {
   "cell_type": "code",
   "execution_count": 65,
   "outputs": [],
   "source": [
    "def get_recommendations(anime_name, cosine_sim=cosine_sim, df=my_data, top_n=5):\n",
    "    # Get the index of the anime that matches the name\n",
    "    idx = df.index[df['Name'] == anime_name].tolist()[0]\n",
    "\n",
    "    # Get the pairwsie similarity scores of all animes with that anime\n",
    "    sim_scores = list(enumerate(cosine_sim[idx]))\n",
    "\n",
    "    # Sort the animes based on the similarity scores\n",
    "    sim_scores = sorted(sim_scores, key=lambda x: x[1], reverse=True)\n",
    "\n",
    "    # Get the scores of the most similar animes\n",
    "    sim_scores = sim_scores[1:top_n+1]  # Skip the first one because it is the query anime itself\n",
    "\n",
    "    # Get the anime indices\n",
    "    anime_indices = [i[0] for i in sim_scores]\n",
    "\n",
    "    # Return the top most similar animes\n",
    "    return df['Name'].iloc[anime_indices]\n"
   ],
   "metadata": {
    "collapsed": false,
    "ExecuteTime": {
     "end_time": "2024-04-24T22:19:07.771306500Z",
     "start_time": "2024-04-24T22:19:07.765798Z"
    }
   },
   "id": "6df9cce494f1c1a8"
  },
  {
   "cell_type": "markdown",
   "source": [],
   "metadata": {
    "collapsed": false
   },
   "id": "5d545238f2e73303"
  },
  {
   "cell_type": "code",
   "execution_count": 86,
   "outputs": [
    {
     "data": {
      "text/plain": "       anime_id  Episodes     Aired  genre Adventure  genre Drama  \\\n0             1  0.008181  0.750000                0            0   \n1             5  0.000000  0.777778                0            0   \n2             6  0.008181  0.750000                1            0   \n3             7  0.008181  0.787037                0            1   \n4             8  0.016688  0.805556                1            0   \n...         ...       ...       ...              ...          ...   \n24900     55731  0.004581  0.981481                0            0   \n24901     55732  0.005563  0.981481                1            0   \n24902     55733  0.004908  0.981481                1            0   \n24903     55734  0.000000  0.972222                0            0   \n24904     55735  0.000000  0.972222                0            0   \n\n       genre Gourmet  genre Romance  genre Sports  genre Action  \\\n0                  0              0             0             1   \n1                  0              0             0             1   \n2                  0              0             0             1   \n3                  0              0             0             1   \n4                  0              0             0             0   \n...              ...            ...           ...           ...   \n24900              0              0             0             0   \n24901              0              0             0             1   \n24902              0              0             0             1   \n24903              0              0             0             0   \n24904              0              0             0             0   \n\n       genre Suspense  ...  genre Slice of Life  genre Boys Love  \\\n0                   0  ...                    0                0   \n1                   0  ...                    0                0   \n2                   0  ...                    0                0   \n3                   0  ...                    0                0   \n4                   0  ...                    0                0   \n...               ...  ...                  ...              ...   \n24900               0  ...                    1                0   \n24901               0  ...                    0                0   \n24902               0  ...                    0                0   \n24903               0  ...                    0                0   \n24904               0  ...                    0                0   \n\n       genre Comedy  Type UNKNOWN  Type OVA  Type Special  Type ONA  \\\n0                 0             0         0             0         0   \n1                 0             0         0             0         0   \n2                 0             0         0             0         0   \n3                 0             0         0             0         0   \n4                 0             0         0             0         0   \n...             ...           ...       ...           ...       ...   \n24900             1             0         0             0         1   \n24901             0             0         0             0         1   \n24902             0             0         0             0         1   \n24903             0             0         0             0         0   \n24904             0             0         0             0         0   \n\n       Type Movie  Type Music  Type TV  \n0               0           0        1  \n1               1           0        0  \n2               0           0        1  \n3               0           0        1  \n4               0           0        1  \n...           ...         ...      ...  \n24900           0           0        0  \n24901           0           0        0  \n24902           0           0        0  \n24903           0           1        0  \n24904           0           1        0  \n\n[24901 rows x 32 columns]",
      "text/html": "<div>\n<style scoped>\n    .dataframe tbody tr th:only-of-type {\n        vertical-align: middle;\n    }\n\n    .dataframe tbody tr th {\n        vertical-align: top;\n    }\n\n    .dataframe thead th {\n        text-align: right;\n    }\n</style>\n<table border=\"1\" class=\"dataframe\">\n  <thead>\n    <tr style=\"text-align: right;\">\n      <th></th>\n      <th>anime_id</th>\n      <th>Episodes</th>\n      <th>Aired</th>\n      <th>genre Adventure</th>\n      <th>genre Drama</th>\n      <th>genre Gourmet</th>\n      <th>genre Romance</th>\n      <th>genre Sports</th>\n      <th>genre Action</th>\n      <th>genre Suspense</th>\n      <th>...</th>\n      <th>genre Slice of Life</th>\n      <th>genre Boys Love</th>\n      <th>genre Comedy</th>\n      <th>Type UNKNOWN</th>\n      <th>Type OVA</th>\n      <th>Type Special</th>\n      <th>Type ONA</th>\n      <th>Type Movie</th>\n      <th>Type Music</th>\n      <th>Type TV</th>\n    </tr>\n  </thead>\n  <tbody>\n    <tr>\n      <th>0</th>\n      <td>1</td>\n      <td>0.008181</td>\n      <td>0.750000</td>\n      <td>0</td>\n      <td>0</td>\n      <td>0</td>\n      <td>0</td>\n      <td>0</td>\n      <td>1</td>\n      <td>0</td>\n      <td>...</td>\n      <td>0</td>\n      <td>0</td>\n      <td>0</td>\n      <td>0</td>\n      <td>0</td>\n      <td>0</td>\n      <td>0</td>\n      <td>0</td>\n      <td>0</td>\n      <td>1</td>\n    </tr>\n    <tr>\n      <th>1</th>\n      <td>5</td>\n      <td>0.000000</td>\n      <td>0.777778</td>\n      <td>0</td>\n      <td>0</td>\n      <td>0</td>\n      <td>0</td>\n      <td>0</td>\n      <td>1</td>\n      <td>0</td>\n      <td>...</td>\n      <td>0</td>\n      <td>0</td>\n      <td>0</td>\n      <td>0</td>\n      <td>0</td>\n      <td>0</td>\n      <td>0</td>\n      <td>1</td>\n      <td>0</td>\n      <td>0</td>\n    </tr>\n    <tr>\n      <th>2</th>\n      <td>6</td>\n      <td>0.008181</td>\n      <td>0.750000</td>\n      <td>1</td>\n      <td>0</td>\n      <td>0</td>\n      <td>0</td>\n      <td>0</td>\n      <td>1</td>\n      <td>0</td>\n      <td>...</td>\n      <td>0</td>\n      <td>0</td>\n      <td>0</td>\n      <td>0</td>\n      <td>0</td>\n      <td>0</td>\n      <td>0</td>\n      <td>0</td>\n      <td>0</td>\n      <td>1</td>\n    </tr>\n    <tr>\n      <th>3</th>\n      <td>7</td>\n      <td>0.008181</td>\n      <td>0.787037</td>\n      <td>0</td>\n      <td>1</td>\n      <td>0</td>\n      <td>0</td>\n      <td>0</td>\n      <td>1</td>\n      <td>0</td>\n      <td>...</td>\n      <td>0</td>\n      <td>0</td>\n      <td>0</td>\n      <td>0</td>\n      <td>0</td>\n      <td>0</td>\n      <td>0</td>\n      <td>0</td>\n      <td>0</td>\n      <td>1</td>\n    </tr>\n    <tr>\n      <th>4</th>\n      <td>8</td>\n      <td>0.016688</td>\n      <td>0.805556</td>\n      <td>1</td>\n      <td>0</td>\n      <td>0</td>\n      <td>0</td>\n      <td>0</td>\n      <td>0</td>\n      <td>0</td>\n      <td>...</td>\n      <td>0</td>\n      <td>0</td>\n      <td>0</td>\n      <td>0</td>\n      <td>0</td>\n      <td>0</td>\n      <td>0</td>\n      <td>0</td>\n      <td>0</td>\n      <td>1</td>\n    </tr>\n    <tr>\n      <th>...</th>\n      <td>...</td>\n      <td>...</td>\n      <td>...</td>\n      <td>...</td>\n      <td>...</td>\n      <td>...</td>\n      <td>...</td>\n      <td>...</td>\n      <td>...</td>\n      <td>...</td>\n      <td>...</td>\n      <td>...</td>\n      <td>...</td>\n      <td>...</td>\n      <td>...</td>\n      <td>...</td>\n      <td>...</td>\n      <td>...</td>\n      <td>...</td>\n      <td>...</td>\n      <td>...</td>\n    </tr>\n    <tr>\n      <th>24900</th>\n      <td>55731</td>\n      <td>0.004581</td>\n      <td>0.981481</td>\n      <td>0</td>\n      <td>0</td>\n      <td>0</td>\n      <td>0</td>\n      <td>0</td>\n      <td>0</td>\n      <td>0</td>\n      <td>...</td>\n      <td>1</td>\n      <td>0</td>\n      <td>1</td>\n      <td>0</td>\n      <td>0</td>\n      <td>0</td>\n      <td>1</td>\n      <td>0</td>\n      <td>0</td>\n      <td>0</td>\n    </tr>\n    <tr>\n      <th>24901</th>\n      <td>55732</td>\n      <td>0.005563</td>\n      <td>0.981481</td>\n      <td>1</td>\n      <td>0</td>\n      <td>0</td>\n      <td>0</td>\n      <td>0</td>\n      <td>1</td>\n      <td>0</td>\n      <td>...</td>\n      <td>0</td>\n      <td>0</td>\n      <td>0</td>\n      <td>0</td>\n      <td>0</td>\n      <td>0</td>\n      <td>1</td>\n      <td>0</td>\n      <td>0</td>\n      <td>0</td>\n    </tr>\n    <tr>\n      <th>24902</th>\n      <td>55733</td>\n      <td>0.004908</td>\n      <td>0.981481</td>\n      <td>1</td>\n      <td>0</td>\n      <td>0</td>\n      <td>0</td>\n      <td>0</td>\n      <td>1</td>\n      <td>0</td>\n      <td>...</td>\n      <td>0</td>\n      <td>0</td>\n      <td>0</td>\n      <td>0</td>\n      <td>0</td>\n      <td>0</td>\n      <td>1</td>\n      <td>0</td>\n      <td>0</td>\n      <td>0</td>\n    </tr>\n    <tr>\n      <th>24903</th>\n      <td>55734</td>\n      <td>0.000000</td>\n      <td>0.972222</td>\n      <td>0</td>\n      <td>0</td>\n      <td>0</td>\n      <td>0</td>\n      <td>0</td>\n      <td>0</td>\n      <td>0</td>\n      <td>...</td>\n      <td>0</td>\n      <td>0</td>\n      <td>0</td>\n      <td>0</td>\n      <td>0</td>\n      <td>0</td>\n      <td>0</td>\n      <td>0</td>\n      <td>1</td>\n      <td>0</td>\n    </tr>\n    <tr>\n      <th>24904</th>\n      <td>55735</td>\n      <td>0.000000</td>\n      <td>0.972222</td>\n      <td>0</td>\n      <td>0</td>\n      <td>0</td>\n      <td>0</td>\n      <td>0</td>\n      <td>0</td>\n      <td>0</td>\n      <td>...</td>\n      <td>0</td>\n      <td>0</td>\n      <td>0</td>\n      <td>0</td>\n      <td>0</td>\n      <td>0</td>\n      <td>0</td>\n      <td>0</td>\n      <td>1</td>\n      <td>0</td>\n    </tr>\n  </tbody>\n</table>\n<p>24901 rows × 32 columns</p>\n</div>"
     },
     "execution_count": 86,
     "metadata": {},
     "output_type": "execute_result"
    }
   ],
   "source": [
    "features"
   ],
   "metadata": {
    "collapsed": false,
    "ExecuteTime": {
     "end_time": "2024-04-25T18:33:15.965478400Z",
     "start_time": "2024-04-25T18:33:15.827899600Z"
    }
   },
   "id": "c4e79fa9447b695"
  },
  {
   "cell_type": "code",
   "execution_count": 99,
   "outputs": [
    {
     "name": "stdout",
     "output_type": "stream",
     "text": [
      "[[0.70710678 0.         0.         0.70710678]\n",
      " [0.         0.70710678 0.         0.70710678]\n",
      " [0.51785612 0.51785612 0.68091856 0.        ]]\n",
      "['cat' 'dog' 'friends' 'table']\n"
     ]
    }
   ],
   "source": [
    "vectorizer = TfidfVectorizer(stop_words='english')\n",
    "\n",
    "# Documents\n",
    "documents = [\n",
    "    \"Cat is on the table.\",\n",
    "    \"Dog is under the table.\",\n",
    "    \"Cat and dog are friends.\"\n",
    "]\n",
    "\n",
    "# Application de fit_transform\n",
    "tfidf_matrix = vectorizer.fit_transform(documents)\n",
    "\n",
    "# Affichage du résultat sous forme d'array\n",
    "print(tfidf_matrix.toarray())\n",
    "\n",
    "# Affichage du vocabulaire appris\n",
    "print(vectorizer.get_feature_names_out())"
   ],
   "metadata": {
    "collapsed": false,
    "ExecuteTime": {
     "end_time": "2024-04-25T19:20:43.992231500Z",
     "start_time": "2024-04-25T19:20:43.981815300Z"
    }
   },
   "id": "2e8a17b573de3648"
  },
  {
   "cell_type": "markdown",
   "source": [
    "# Recommandations using the synopsis"
   ],
   "metadata": {
    "collapsed": false
   },
   "id": "34726c0fac299282"
  },
  {
   "cell_type": "code",
   "execution_count": 103,
   "outputs": [
    {
     "data": {
      "text/plain": "       anime_id                             Name  \\\n0             1                     Cowboy Bebop   \n1             5  Cowboy Bebop: Tengoku no Tobira   \n2             6                           Trigun   \n3             7               Witch Hunter Robin   \n4             8                   Bouken Ou Beet   \n...         ...                              ...   \n24900     55731                      Wu Nao Monu   \n24901     55732              Bu Xing Si: Yuan Qi   \n24902     55733                      Di Yi Xulie   \n24903     55734         Bokura no Saishuu Sensou   \n24904     55735                   Shijuuku Nichi   \n\n                                                Synopsis  \n0      Crime is timeless. By the year 2071, humanity ...  \n1      Another day, another bounty—such is the life o...  \n2      Vash the Stampede is the man with a $$60,000,0...  \n3      Robin Sena is a powerful craft user drafted in...  \n4      It is the dark century and the people are suff...  \n...                                                  ...  \n24900           No description available for this anime.  \n24901           No description available for this anime.  \n24902           No description available for this anime.  \n24903  A music video for the song Bokura no Saishuu S...  \n24904  A music video for the song Shijuuku Nichi by S...  \n\n[24901 rows x 3 columns]",
      "text/html": "<div>\n<style scoped>\n    .dataframe tbody tr th:only-of-type {\n        vertical-align: middle;\n    }\n\n    .dataframe tbody tr th {\n        vertical-align: top;\n    }\n\n    .dataframe thead th {\n        text-align: right;\n    }\n</style>\n<table border=\"1\" class=\"dataframe\">\n  <thead>\n    <tr style=\"text-align: right;\">\n      <th></th>\n      <th>anime_id</th>\n      <th>Name</th>\n      <th>Synopsis</th>\n    </tr>\n  </thead>\n  <tbody>\n    <tr>\n      <th>0</th>\n      <td>1</td>\n      <td>Cowboy Bebop</td>\n      <td>Crime is timeless. By the year 2071, humanity ...</td>\n    </tr>\n    <tr>\n      <th>1</th>\n      <td>5</td>\n      <td>Cowboy Bebop: Tengoku no Tobira</td>\n      <td>Another day, another bounty—such is the life o...</td>\n    </tr>\n    <tr>\n      <th>2</th>\n      <td>6</td>\n      <td>Trigun</td>\n      <td>Vash the Stampede is the man with a $$60,000,0...</td>\n    </tr>\n    <tr>\n      <th>3</th>\n      <td>7</td>\n      <td>Witch Hunter Robin</td>\n      <td>Robin Sena is a powerful craft user drafted in...</td>\n    </tr>\n    <tr>\n      <th>4</th>\n      <td>8</td>\n      <td>Bouken Ou Beet</td>\n      <td>It is the dark century and the people are suff...</td>\n    </tr>\n    <tr>\n      <th>...</th>\n      <td>...</td>\n      <td>...</td>\n      <td>...</td>\n    </tr>\n    <tr>\n      <th>24900</th>\n      <td>55731</td>\n      <td>Wu Nao Monu</td>\n      <td>No description available for this anime.</td>\n    </tr>\n    <tr>\n      <th>24901</th>\n      <td>55732</td>\n      <td>Bu Xing Si: Yuan Qi</td>\n      <td>No description available for this anime.</td>\n    </tr>\n    <tr>\n      <th>24902</th>\n      <td>55733</td>\n      <td>Di Yi Xulie</td>\n      <td>No description available for this anime.</td>\n    </tr>\n    <tr>\n      <th>24903</th>\n      <td>55734</td>\n      <td>Bokura no Saishuu Sensou</td>\n      <td>A music video for the song Bokura no Saishuu S...</td>\n    </tr>\n    <tr>\n      <th>24904</th>\n      <td>55735</td>\n      <td>Shijuuku Nichi</td>\n      <td>A music video for the song Shijuuku Nichi by S...</td>\n    </tr>\n  </tbody>\n</table>\n<p>24901 rows × 3 columns</p>\n</div>"
     },
     "execution_count": 103,
     "metadata": {},
     "output_type": "execute_result"
    }
   ],
   "source": [
    "my_data_syn = my_data.loc[:  , ['anime_id' , 'Name' , 'Synopsis']]\n",
    "my_data_syn"
   ],
   "metadata": {
    "collapsed": false,
    "ExecuteTime": {
     "end_time": "2024-04-26T09:40:20.085439900Z",
     "start_time": "2024-04-26T09:40:20.041023200Z"
    }
   },
   "id": "decab396606d1e1c"
  },
  {
   "cell_type": "code",
   "execution_count": 104,
   "outputs": [
    {
     "data": {
      "text/plain": "(24901, 51088)"
     },
     "execution_count": 104,
     "metadata": {},
     "output_type": "execute_result"
    }
   ],
   "source": [
    "tfidf = TfidfVectorizer(stop_words='english')\n",
    "\n",
    "#Replace NaN with an empty string\n",
    "my_data_syn['Synopsis'] = my_data_syn['Synopsis'].fillna('')\n",
    "my_data_syn['Synopsis'] = my_data_syn['Synopsis'].str.lower()\n",
    "my_data_syn['Synopsis'] = my_data_syn['Synopsis'].str.replace(r'[^\\w\\s]+', '')\n",
    "\n",
    "#Construct the required TF-IDF matrix by fitting and transforming the data\n",
    "tfidf_matrix = tfidf.fit_transform(my_data_syn['Synopsis'])\n",
    "\n",
    "#Output the shape of tfidf_matrix\n",
    "tfidf_matrix.shap"
   ],
   "metadata": {
    "collapsed": false,
    "ExecuteTime": {
     "end_time": "2024-04-26T09:41:26.578593700Z",
     "start_time": "2024-04-26T09:41:24.959772200Z"
    }
   },
   "id": "55cd6e25ac1232c0"
  },
  {
   "cell_type": "code",
   "execution_count": 177,
   "outputs": [
    {
     "data": {
      "text/plain": "<24901x51088 sparse matrix of type '<class 'numpy.float64'>'\n\twith 639217 stored elements in Compressed Sparse Row format>"
     },
     "execution_count": 177,
     "metadata": {},
     "output_type": "execute_result"
    }
   ],
   "source": [
    "tfidf_matrix"
   ],
   "metadata": {
    "collapsed": false,
    "ExecuteTime": {
     "end_time": "2024-04-29T06:51:34.874557500Z",
     "start_time": "2024-04-29T06:51:34.823575600Z"
    }
   },
   "id": "7cc0e65451c420f9"
  },
  {
   "cell_type": "code",
   "execution_count": 107,
   "outputs": [],
   "source": [
    "# Compute the cosine similarity matrix\n",
    "cosine_synopsis = linear_kernel(tfidf_matrix, tfidf_matrix)"
   ],
   "metadata": {
    "collapsed": false,
    "ExecuteTime": {
     "end_time": "2024-04-26T09:43:03.703381600Z",
     "start_time": "2024-04-26T09:42:21.380554900Z"
    }
   },
   "id": "1f678ed1c4523573"
  },
  {
   "cell_type": "code",
   "execution_count": 158,
   "outputs": [],
   "source": [
    "indices = pd.Series(my_data_syn.index, index=my_data_syn['Name']).drop_duplicates()"
   ],
   "metadata": {
    "collapsed": false,
    "ExecuteTime": {
     "end_time": "2024-04-26T10:53:02.619684Z",
     "start_time": "2024-04-26T10:53:02.589738200Z"
    }
   },
   "id": "a2fcd5ddcb9b3450"
  },
  {
   "cell_type": "code",
   "execution_count": 159,
   "outputs": [
    {
     "data": {
      "text/plain": "Name\nCowboy Bebop                           0\nCowboy Bebop: Tengoku no Tobira        1\nTrigun                                 2\nWitch Hunter Robin                     3\nBouken Ou Beet                         4\n                                   ...  \nWu Nao Monu                        24900\nBu Xing Si: Yuan Qi                24901\nDi Yi Xulie                        24902\nBokura no Saishuu Sensou           24903\nShijuuku Nichi                     24904\nLength: 24901, dtype: int64"
     },
     "execution_count": 159,
     "metadata": {},
     "output_type": "execute_result"
    }
   ],
   "source": [
    "indices"
   ],
   "metadata": {
    "collapsed": false,
    "ExecuteTime": {
     "end_time": "2024-04-26T10:53:03.747589800Z",
     "start_time": "2024-04-26T10:53:03.727150200Z"
    }
   },
   "id": "223b70790e5185ed"
  },
  {
   "cell_type": "code",
   "execution_count": 175,
   "outputs": [],
   "source": [
    "def get_recommendations(title, cosine_sim=cosine_synopsis, suggest_amount=15):\n",
    "    try:\n",
    "        idx = indices[title]\n",
    "        print(idx)\n",
    "    except KeyError:\n",
    "        raise ValueError(\"Anime  not found in matrix.\")\n",
    "\n",
    "\n",
    "    return get_recommendations_by_id(idx,cosine_sim, suggest_amount)\n",
    "\n",
    "\n",
    "def get_recommendations_by_id(idx, cosine_sim=cosine_synopsis, suggest_amount=15) : \n",
    "    sim_scores = list(enumerate(cosine_sim[idx])) \n",
    "    sim_scores = sorted(sim_scores, key=lambda x: x[1], reverse=True)\n",
    "    \n",
    "    max_amount = len(sim_scores)\n",
    "    if suggest_amount > max_amount:\n",
    "        suggest_amount = max_amount\n",
    "    \n",
    "    sim_scores = sim_scores[1:suggest_amount]\n",
    "    \n",
    "    # Get the anime indices\n",
    "    anime_indices = [i[0] for i in sim_scores]\n",
    "    \n",
    "    # Map indices to anime_id\n",
    "    anime_ids = my_data_syn.iloc[anime_indices]['anime_id'].values\n",
    "    \n",
    "    # Calculate the normalized scores (L2 normalization)\n",
    "    scores = np.array([i[1] for i in sim_scores])\n",
    "    norm_scores = scores / np.linalg.norm(scores)\n",
    "    \n",
    "    ret_df = pd.DataFrame({\n",
    "        'Anime' : my_data_syn.iloc[anime_indices]['Name'] , \n",
    "        'Score' : norm_scores , \n",
    "        'anime_id': anime_ids , \n",
    "        'Position' : range(1 ,  suggest_amount)\n",
    "    }\n",
    "    )\n",
    "    return ret_df\n"
   ],
   "metadata": {
    "collapsed": false,
    "ExecuteTime": {
     "end_time": "2024-04-26T11:05:30.409577400Z",
     "start_time": "2024-04-26T11:05:30.394410800Z"
    }
   },
   "id": "ef6443b821c78513"
  },
  {
   "cell_type": "code",
   "execution_count": 180,
   "outputs": [
    {
     "name": "stdout",
     "output_type": "stream",
     "text": [
      "11\n"
     ]
    },
    {
     "data": {
      "text/plain": "                                                   Anime     Score  anime_id  \\\n13409  One Piece: Episode of East Blue - Luffy to 4-n...  0.419231     36215   \n4038                       One Piece: Romance Dawn Story  0.328381      5252   \n5494              One Piece Film: Strong World Episode 0  0.324337      8740   \n14699                       One Piece Movie 14: Stampede  0.304782     38234   \n6823                                   One Piece Film: Z  0.266921     12859   \n1128   One Piece: Oounabara ni Hirake! Dekkai Dekkai ...  0.263736      1237   \n3514                        One Piece Film: Strong World  0.261924      4155   \n9266   One Piece 3D2Y: Ace no shi wo Koete! Luffy Nak...  0.244479     25161   \n8065                                        Kaizoku Ouji  0.235319     19505   \n21804                                One Piece Film: Red  0.216839     50410   \n7836                    Nareuneun Dwaeji - Haejeok Mateo  0.193946     18315   \n2474                     Uchuu Kaizoku Mito no Daibouken  0.193156      2699   \n437                    One Piece: Taose! Kaizoku Ganzack  0.189567       466   \n430                                   One Piece Movie 01  0.189455       459   \n\n       Position  \n13409         1  \n4038          2  \n5494          3  \n14699         4  \n6823          5  \n1128          6  \n3514          7  \n9266          8  \n8065          9  \n21804        10  \n7836         11  \n2474         12  \n437          13  \n430          14  ",
      "text/html": "<div>\n<style scoped>\n    .dataframe tbody tr th:only-of-type {\n        vertical-align: middle;\n    }\n\n    .dataframe tbody tr th {\n        vertical-align: top;\n    }\n\n    .dataframe thead th {\n        text-align: right;\n    }\n</style>\n<table border=\"1\" class=\"dataframe\">\n  <thead>\n    <tr style=\"text-align: right;\">\n      <th></th>\n      <th>Anime</th>\n      <th>Score</th>\n      <th>anime_id</th>\n      <th>Position</th>\n    </tr>\n  </thead>\n  <tbody>\n    <tr>\n      <th>13409</th>\n      <td>One Piece: Episode of East Blue - Luffy to 4-n...</td>\n      <td>0.419231</td>\n      <td>36215</td>\n      <td>1</td>\n    </tr>\n    <tr>\n      <th>4038</th>\n      <td>One Piece: Romance Dawn Story</td>\n      <td>0.328381</td>\n      <td>5252</td>\n      <td>2</td>\n    </tr>\n    <tr>\n      <th>5494</th>\n      <td>One Piece Film: Strong World Episode 0</td>\n      <td>0.324337</td>\n      <td>8740</td>\n      <td>3</td>\n    </tr>\n    <tr>\n      <th>14699</th>\n      <td>One Piece Movie 14: Stampede</td>\n      <td>0.304782</td>\n      <td>38234</td>\n      <td>4</td>\n    </tr>\n    <tr>\n      <th>6823</th>\n      <td>One Piece Film: Z</td>\n      <td>0.266921</td>\n      <td>12859</td>\n      <td>5</td>\n    </tr>\n    <tr>\n      <th>1128</th>\n      <td>One Piece: Oounabara ni Hirake! Dekkai Dekkai ...</td>\n      <td>0.263736</td>\n      <td>1237</td>\n      <td>6</td>\n    </tr>\n    <tr>\n      <th>3514</th>\n      <td>One Piece Film: Strong World</td>\n      <td>0.261924</td>\n      <td>4155</td>\n      <td>7</td>\n    </tr>\n    <tr>\n      <th>9266</th>\n      <td>One Piece 3D2Y: Ace no shi wo Koete! Luffy Nak...</td>\n      <td>0.244479</td>\n      <td>25161</td>\n      <td>8</td>\n    </tr>\n    <tr>\n      <th>8065</th>\n      <td>Kaizoku Ouji</td>\n      <td>0.235319</td>\n      <td>19505</td>\n      <td>9</td>\n    </tr>\n    <tr>\n      <th>21804</th>\n      <td>One Piece Film: Red</td>\n      <td>0.216839</td>\n      <td>50410</td>\n      <td>10</td>\n    </tr>\n    <tr>\n      <th>7836</th>\n      <td>Nareuneun Dwaeji - Haejeok Mateo</td>\n      <td>0.193946</td>\n      <td>18315</td>\n      <td>11</td>\n    </tr>\n    <tr>\n      <th>2474</th>\n      <td>Uchuu Kaizoku Mito no Daibouken</td>\n      <td>0.193156</td>\n      <td>2699</td>\n      <td>12</td>\n    </tr>\n    <tr>\n      <th>437</th>\n      <td>One Piece: Taose! Kaizoku Ganzack</td>\n      <td>0.189567</td>\n      <td>466</td>\n      <td>13</td>\n    </tr>\n    <tr>\n      <th>430</th>\n      <td>One Piece Movie 01</td>\n      <td>0.189455</td>\n      <td>459</td>\n      <td>14</td>\n    </tr>\n  </tbody>\n</table>\n</div>"
     },
     "execution_count": 180,
     "metadata": {},
     "output_type": "execute_result"
    }
   ],
   "source": [
    "get_recommendations('One Piece')"
   ],
   "metadata": {
    "collapsed": false,
    "ExecuteTime": {
     "end_time": "2024-04-29T06:52:56.708747500Z",
     "start_time": "2024-04-29T06:52:56.689240900Z"
    }
   },
   "id": "e5225032de37ced6"
  },
  {
   "cell_type": "code",
   "execution_count": null,
   "outputs": [],
   "source": [],
   "metadata": {
    "collapsed": false
   },
   "id": "898768dfcc94ba4c"
  }
 ],
 "metadata": {
  "kernelspec": {
   "display_name": "Python 3",
   "language": "python",
   "name": "python3"
  },
  "language_info": {
   "codemirror_mode": {
    "name": "ipython",
    "version": 2
   },
   "file_extension": ".py",
   "mimetype": "text/x-python",
   "name": "python",
   "nbconvert_exporter": "python",
   "pygments_lexer": "ipython2",
   "version": "2.7.6"
  }
 },
 "nbformat": 4,
 "nbformat_minor": 5
}
