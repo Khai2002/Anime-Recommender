{
 "cells": [
  {
   "cell_type": "code",
   "execution_count": 3,
   "id": "initial_id",
   "metadata": {
    "ExecuteTime": {
     "end_time": "2024-04-11T17:32:51.352532500Z",
     "start_time": "2024-04-11T17:32:46.413699600Z"
    },
    "collapsed": true
   },
   "outputs": [],
   "source": [
    "import pandas as pd"
   ]
  },
  {
   "cell_type": "code",
   "execution_count": 4,
   "id": "ac2773aa8610824e",
   "metadata": {
    "ExecuteTime": {
     "end_time": "2024-04-11T17:33:37.123501300Z",
     "start_time": "2024-04-11T17:33:35.671437800Z"
    },
    "collapsed": false
   },
   "outputs": [
    {
     "ename": "FileNotFoundError",
     "evalue": "[Errno 2] No such file or directory: './raw/anime-dataset-2023.csv'",
     "output_type": "error",
     "traceback": [
      "\u001b[1;31m---------------------------------------------------------------------------\u001b[0m",
      "\u001b[1;31mFileNotFoundError\u001b[0m                         Traceback (most recent call last)",
      "Cell \u001b[1;32mIn[4], line 1\u001b[0m\n\u001b[1;32m----> 1\u001b[0m anime \u001b[38;5;241m=\u001b[39m \u001b[43mpd\u001b[49m\u001b[38;5;241;43m.\u001b[39;49m\u001b[43mread_csv\u001b[49m\u001b[43m(\u001b[49m\u001b[38;5;124;43m'\u001b[39;49m\u001b[38;5;124;43m./raw/anime-dataset-2023.csv\u001b[39;49m\u001b[38;5;124;43m'\u001b[39;49m\u001b[43m)\u001b[49m\n",
      "File \u001b[1;32mc:\\Python312\\Lib\\site-packages\\pandas\\io\\parsers\\readers.py:1026\u001b[0m, in \u001b[0;36mread_csv\u001b[1;34m(filepath_or_buffer, sep, delimiter, header, names, index_col, usecols, dtype, engine, converters, true_values, false_values, skipinitialspace, skiprows, skipfooter, nrows, na_values, keep_default_na, na_filter, verbose, skip_blank_lines, parse_dates, infer_datetime_format, keep_date_col, date_parser, date_format, dayfirst, cache_dates, iterator, chunksize, compression, thousands, decimal, lineterminator, quotechar, quoting, doublequote, escapechar, comment, encoding, encoding_errors, dialect, on_bad_lines, delim_whitespace, low_memory, memory_map, float_precision, storage_options, dtype_backend)\u001b[0m\n\u001b[0;32m   1013\u001b[0m kwds_defaults \u001b[38;5;241m=\u001b[39m _refine_defaults_read(\n\u001b[0;32m   1014\u001b[0m     dialect,\n\u001b[0;32m   1015\u001b[0m     delimiter,\n\u001b[1;32m   (...)\u001b[0m\n\u001b[0;32m   1022\u001b[0m     dtype_backend\u001b[38;5;241m=\u001b[39mdtype_backend,\n\u001b[0;32m   1023\u001b[0m )\n\u001b[0;32m   1024\u001b[0m kwds\u001b[38;5;241m.\u001b[39mupdate(kwds_defaults)\n\u001b[1;32m-> 1026\u001b[0m \u001b[38;5;28;01mreturn\u001b[39;00m \u001b[43m_read\u001b[49m\u001b[43m(\u001b[49m\u001b[43mfilepath_or_buffer\u001b[49m\u001b[43m,\u001b[49m\u001b[43m \u001b[49m\u001b[43mkwds\u001b[49m\u001b[43m)\u001b[49m\n",
      "File \u001b[1;32mc:\\Python312\\Lib\\site-packages\\pandas\\io\\parsers\\readers.py:620\u001b[0m, in \u001b[0;36m_read\u001b[1;34m(filepath_or_buffer, kwds)\u001b[0m\n\u001b[0;32m    617\u001b[0m _validate_names(kwds\u001b[38;5;241m.\u001b[39mget(\u001b[38;5;124m\"\u001b[39m\u001b[38;5;124mnames\u001b[39m\u001b[38;5;124m\"\u001b[39m, \u001b[38;5;28;01mNone\u001b[39;00m))\n\u001b[0;32m    619\u001b[0m \u001b[38;5;66;03m# Create the parser.\u001b[39;00m\n\u001b[1;32m--> 620\u001b[0m parser \u001b[38;5;241m=\u001b[39m \u001b[43mTextFileReader\u001b[49m\u001b[43m(\u001b[49m\u001b[43mfilepath_or_buffer\u001b[49m\u001b[43m,\u001b[49m\u001b[43m \u001b[49m\u001b[38;5;241;43m*\u001b[39;49m\u001b[38;5;241;43m*\u001b[39;49m\u001b[43mkwds\u001b[49m\u001b[43m)\u001b[49m\n\u001b[0;32m    622\u001b[0m \u001b[38;5;28;01mif\u001b[39;00m chunksize \u001b[38;5;129;01mor\u001b[39;00m iterator:\n\u001b[0;32m    623\u001b[0m     \u001b[38;5;28;01mreturn\u001b[39;00m parser\n",
      "File \u001b[1;32mc:\\Python312\\Lib\\site-packages\\pandas\\io\\parsers\\readers.py:1620\u001b[0m, in \u001b[0;36mTextFileReader.__init__\u001b[1;34m(self, f, engine, **kwds)\u001b[0m\n\u001b[0;32m   1617\u001b[0m     \u001b[38;5;28mself\u001b[39m\u001b[38;5;241m.\u001b[39moptions[\u001b[38;5;124m\"\u001b[39m\u001b[38;5;124mhas_index_names\u001b[39m\u001b[38;5;124m\"\u001b[39m] \u001b[38;5;241m=\u001b[39m kwds[\u001b[38;5;124m\"\u001b[39m\u001b[38;5;124mhas_index_names\u001b[39m\u001b[38;5;124m\"\u001b[39m]\n\u001b[0;32m   1619\u001b[0m \u001b[38;5;28mself\u001b[39m\u001b[38;5;241m.\u001b[39mhandles: IOHandles \u001b[38;5;241m|\u001b[39m \u001b[38;5;28;01mNone\u001b[39;00m \u001b[38;5;241m=\u001b[39m \u001b[38;5;28;01mNone\u001b[39;00m\n\u001b[1;32m-> 1620\u001b[0m \u001b[38;5;28mself\u001b[39m\u001b[38;5;241m.\u001b[39m_engine \u001b[38;5;241m=\u001b[39m \u001b[38;5;28;43mself\u001b[39;49m\u001b[38;5;241;43m.\u001b[39;49m\u001b[43m_make_engine\u001b[49m\u001b[43m(\u001b[49m\u001b[43mf\u001b[49m\u001b[43m,\u001b[49m\u001b[43m \u001b[49m\u001b[38;5;28;43mself\u001b[39;49m\u001b[38;5;241;43m.\u001b[39;49m\u001b[43mengine\u001b[49m\u001b[43m)\u001b[49m\n",
      "File \u001b[1;32mc:\\Python312\\Lib\\site-packages\\pandas\\io\\parsers\\readers.py:1880\u001b[0m, in \u001b[0;36mTextFileReader._make_engine\u001b[1;34m(self, f, engine)\u001b[0m\n\u001b[0;32m   1878\u001b[0m     \u001b[38;5;28;01mif\u001b[39;00m \u001b[38;5;124m\"\u001b[39m\u001b[38;5;124mb\u001b[39m\u001b[38;5;124m\"\u001b[39m \u001b[38;5;129;01mnot\u001b[39;00m \u001b[38;5;129;01min\u001b[39;00m mode:\n\u001b[0;32m   1879\u001b[0m         mode \u001b[38;5;241m+\u001b[39m\u001b[38;5;241m=\u001b[39m \u001b[38;5;124m\"\u001b[39m\u001b[38;5;124mb\u001b[39m\u001b[38;5;124m\"\u001b[39m\n\u001b[1;32m-> 1880\u001b[0m \u001b[38;5;28mself\u001b[39m\u001b[38;5;241m.\u001b[39mhandles \u001b[38;5;241m=\u001b[39m \u001b[43mget_handle\u001b[49m\u001b[43m(\u001b[49m\n\u001b[0;32m   1881\u001b[0m \u001b[43m    \u001b[49m\u001b[43mf\u001b[49m\u001b[43m,\u001b[49m\n\u001b[0;32m   1882\u001b[0m \u001b[43m    \u001b[49m\u001b[43mmode\u001b[49m\u001b[43m,\u001b[49m\n\u001b[0;32m   1883\u001b[0m \u001b[43m    \u001b[49m\u001b[43mencoding\u001b[49m\u001b[38;5;241;43m=\u001b[39;49m\u001b[38;5;28;43mself\u001b[39;49m\u001b[38;5;241;43m.\u001b[39;49m\u001b[43moptions\u001b[49m\u001b[38;5;241;43m.\u001b[39;49m\u001b[43mget\u001b[49m\u001b[43m(\u001b[49m\u001b[38;5;124;43m\"\u001b[39;49m\u001b[38;5;124;43mencoding\u001b[39;49m\u001b[38;5;124;43m\"\u001b[39;49m\u001b[43m,\u001b[49m\u001b[43m \u001b[49m\u001b[38;5;28;43;01mNone\u001b[39;49;00m\u001b[43m)\u001b[49m\u001b[43m,\u001b[49m\n\u001b[0;32m   1884\u001b[0m \u001b[43m    \u001b[49m\u001b[43mcompression\u001b[49m\u001b[38;5;241;43m=\u001b[39;49m\u001b[38;5;28;43mself\u001b[39;49m\u001b[38;5;241;43m.\u001b[39;49m\u001b[43moptions\u001b[49m\u001b[38;5;241;43m.\u001b[39;49m\u001b[43mget\u001b[49m\u001b[43m(\u001b[49m\u001b[38;5;124;43m\"\u001b[39;49m\u001b[38;5;124;43mcompression\u001b[39;49m\u001b[38;5;124;43m\"\u001b[39;49m\u001b[43m,\u001b[49m\u001b[43m \u001b[49m\u001b[38;5;28;43;01mNone\u001b[39;49;00m\u001b[43m)\u001b[49m\u001b[43m,\u001b[49m\n\u001b[0;32m   1885\u001b[0m \u001b[43m    \u001b[49m\u001b[43mmemory_map\u001b[49m\u001b[38;5;241;43m=\u001b[39;49m\u001b[38;5;28;43mself\u001b[39;49m\u001b[38;5;241;43m.\u001b[39;49m\u001b[43moptions\u001b[49m\u001b[38;5;241;43m.\u001b[39;49m\u001b[43mget\u001b[49m\u001b[43m(\u001b[49m\u001b[38;5;124;43m\"\u001b[39;49m\u001b[38;5;124;43mmemory_map\u001b[39;49m\u001b[38;5;124;43m\"\u001b[39;49m\u001b[43m,\u001b[49m\u001b[43m \u001b[49m\u001b[38;5;28;43;01mFalse\u001b[39;49;00m\u001b[43m)\u001b[49m\u001b[43m,\u001b[49m\n\u001b[0;32m   1886\u001b[0m \u001b[43m    \u001b[49m\u001b[43mis_text\u001b[49m\u001b[38;5;241;43m=\u001b[39;49m\u001b[43mis_text\u001b[49m\u001b[43m,\u001b[49m\n\u001b[0;32m   1887\u001b[0m \u001b[43m    \u001b[49m\u001b[43merrors\u001b[49m\u001b[38;5;241;43m=\u001b[39;49m\u001b[38;5;28;43mself\u001b[39;49m\u001b[38;5;241;43m.\u001b[39;49m\u001b[43moptions\u001b[49m\u001b[38;5;241;43m.\u001b[39;49m\u001b[43mget\u001b[49m\u001b[43m(\u001b[49m\u001b[38;5;124;43m\"\u001b[39;49m\u001b[38;5;124;43mencoding_errors\u001b[39;49m\u001b[38;5;124;43m\"\u001b[39;49m\u001b[43m,\u001b[49m\u001b[43m \u001b[49m\u001b[38;5;124;43m\"\u001b[39;49m\u001b[38;5;124;43mstrict\u001b[39;49m\u001b[38;5;124;43m\"\u001b[39;49m\u001b[43m)\u001b[49m\u001b[43m,\u001b[49m\n\u001b[0;32m   1888\u001b[0m \u001b[43m    \u001b[49m\u001b[43mstorage_options\u001b[49m\u001b[38;5;241;43m=\u001b[39;49m\u001b[38;5;28;43mself\u001b[39;49m\u001b[38;5;241;43m.\u001b[39;49m\u001b[43moptions\u001b[49m\u001b[38;5;241;43m.\u001b[39;49m\u001b[43mget\u001b[49m\u001b[43m(\u001b[49m\u001b[38;5;124;43m\"\u001b[39;49m\u001b[38;5;124;43mstorage_options\u001b[39;49m\u001b[38;5;124;43m\"\u001b[39;49m\u001b[43m,\u001b[49m\u001b[43m \u001b[49m\u001b[38;5;28;43;01mNone\u001b[39;49;00m\u001b[43m)\u001b[49m\u001b[43m,\u001b[49m\n\u001b[0;32m   1889\u001b[0m \u001b[43m\u001b[49m\u001b[43m)\u001b[49m\n\u001b[0;32m   1890\u001b[0m \u001b[38;5;28;01massert\u001b[39;00m \u001b[38;5;28mself\u001b[39m\u001b[38;5;241m.\u001b[39mhandles \u001b[38;5;129;01mis\u001b[39;00m \u001b[38;5;129;01mnot\u001b[39;00m \u001b[38;5;28;01mNone\u001b[39;00m\n\u001b[0;32m   1891\u001b[0m f \u001b[38;5;241m=\u001b[39m \u001b[38;5;28mself\u001b[39m\u001b[38;5;241m.\u001b[39mhandles\u001b[38;5;241m.\u001b[39mhandle\n",
      "File \u001b[1;32mc:\\Python312\\Lib\\site-packages\\pandas\\io\\common.py:873\u001b[0m, in \u001b[0;36mget_handle\u001b[1;34m(path_or_buf, mode, encoding, compression, memory_map, is_text, errors, storage_options)\u001b[0m\n\u001b[0;32m    868\u001b[0m \u001b[38;5;28;01melif\u001b[39;00m \u001b[38;5;28misinstance\u001b[39m(handle, \u001b[38;5;28mstr\u001b[39m):\n\u001b[0;32m    869\u001b[0m     \u001b[38;5;66;03m# Check whether the filename is to be opened in binary mode.\u001b[39;00m\n\u001b[0;32m    870\u001b[0m     \u001b[38;5;66;03m# Binary mode does not support 'encoding' and 'newline'.\u001b[39;00m\n\u001b[0;32m    871\u001b[0m     \u001b[38;5;28;01mif\u001b[39;00m ioargs\u001b[38;5;241m.\u001b[39mencoding \u001b[38;5;129;01mand\u001b[39;00m \u001b[38;5;124m\"\u001b[39m\u001b[38;5;124mb\u001b[39m\u001b[38;5;124m\"\u001b[39m \u001b[38;5;129;01mnot\u001b[39;00m \u001b[38;5;129;01min\u001b[39;00m ioargs\u001b[38;5;241m.\u001b[39mmode:\n\u001b[0;32m    872\u001b[0m         \u001b[38;5;66;03m# Encoding\u001b[39;00m\n\u001b[1;32m--> 873\u001b[0m         handle \u001b[38;5;241m=\u001b[39m \u001b[38;5;28;43mopen\u001b[39;49m\u001b[43m(\u001b[49m\n\u001b[0;32m    874\u001b[0m \u001b[43m            \u001b[49m\u001b[43mhandle\u001b[49m\u001b[43m,\u001b[49m\n\u001b[0;32m    875\u001b[0m \u001b[43m            \u001b[49m\u001b[43mioargs\u001b[49m\u001b[38;5;241;43m.\u001b[39;49m\u001b[43mmode\u001b[49m\u001b[43m,\u001b[49m\n\u001b[0;32m    876\u001b[0m \u001b[43m            \u001b[49m\u001b[43mencoding\u001b[49m\u001b[38;5;241;43m=\u001b[39;49m\u001b[43mioargs\u001b[49m\u001b[38;5;241;43m.\u001b[39;49m\u001b[43mencoding\u001b[49m\u001b[43m,\u001b[49m\n\u001b[0;32m    877\u001b[0m \u001b[43m            \u001b[49m\u001b[43merrors\u001b[49m\u001b[38;5;241;43m=\u001b[39;49m\u001b[43merrors\u001b[49m\u001b[43m,\u001b[49m\n\u001b[0;32m    878\u001b[0m \u001b[43m            \u001b[49m\u001b[43mnewline\u001b[49m\u001b[38;5;241;43m=\u001b[39;49m\u001b[38;5;124;43m\"\u001b[39;49m\u001b[38;5;124;43m\"\u001b[39;49m\u001b[43m,\u001b[49m\n\u001b[0;32m    879\u001b[0m \u001b[43m        \u001b[49m\u001b[43m)\u001b[49m\n\u001b[0;32m    880\u001b[0m     \u001b[38;5;28;01melse\u001b[39;00m:\n\u001b[0;32m    881\u001b[0m         \u001b[38;5;66;03m# Binary mode\u001b[39;00m\n\u001b[0;32m    882\u001b[0m         handle \u001b[38;5;241m=\u001b[39m \u001b[38;5;28mopen\u001b[39m(handle, ioargs\u001b[38;5;241m.\u001b[39mmode)\n",
      "\u001b[1;31mFileNotFoundError\u001b[0m: [Errno 2] No such file or directory: './raw/anime-dataset-2023.csv'"
     ]
    }
   ],
   "source": [
    "anime = pd.read_csv('./raw/anime-dataset-2023.csv')"
   ]
  },
  {
   "cell_type": "code",
   "execution_count": null,
   "id": "7535f8e403a684d4",
   "metadata": {
    "ExecuteTime": {
     "end_time": "2024-04-11T17:33:42.350725600Z",
     "start_time": "2024-04-11T17:33:42.225088Z"
    },
    "collapsed": false
   },
   "outputs": [],
   "source": [
    "anime"
   ]
  },
  {
   "cell_type": "code",
   "execution_count": null,
   "id": "6adb0f6d0aa2b7b9",
   "metadata": {
    "ExecuteTime": {
     "end_time": "2024-02-11T18:38:12.890598300Z",
     "start_time": "2024-02-11T18:38:10.586926600Z"
    },
    "collapsed": false
   },
   "outputs": [],
   "source": [
    "df = pd.read_csv('users-details-2023.csv')"
   ]
  },
  {
   "cell_type": "code",
   "execution_count": null,
   "id": "3b7e9dfb98a2005b",
   "metadata": {
    "ExecuteTime": {
     "end_time": "2024-02-11T18:38:13.007090400Z",
     "start_time": "2024-02-11T18:38:12.891664200Z"
    },
    "collapsed": false
   },
   "outputs": [],
   "source": [
    "df.head()"
   ]
  },
  {
   "cell_type": "code",
   "execution_count": null,
   "id": "57890ce89b782678",
   "metadata": {
    "ExecuteTime": {
     "end_time": "2024-02-11T11:12:26.982425100Z",
     "start_time": "2024-02-11T11:12:26.908153800Z"
    },
    "collapsed": false
   },
   "outputs": [],
   "source": [
    "users = df[['Mal ID', 'Username', 'Mean Score', 'Total Entries']].copy()"
   ]
  },
  {
   "cell_type": "code",
   "execution_count": null,
   "id": "51c64e0472b24092",
   "metadata": {
    "ExecuteTime": {
     "end_time": "2024-02-11T09:56:08.106574500Z",
     "start_time": "2024-02-11T09:55:43.403210600Z"
    },
    "collapsed": false
   },
   "outputs": [],
   "source": [
    "from tqdm import tqdm\n",
    "chunk_size = 5 * 10 ** 6\n",
    "chunks = []\n",
    "\n",
    "for i, chunk in enumerate(tqdm(pd.read_csv('users-score-2023.csv', chunksize=chunk_size))):\n",
    "    processed = chunk[['user_id', 'anime_id', 'rating']]\n",
    "    processed.to_parquet(f'score/users_scores_{i}.parquet', index=False)\n"
   ]
  },
  {
   "cell_type": "code",
   "execution_count": null,
   "id": "f3350a2020a22da1",
   "metadata": {
    "ExecuteTime": {
     "end_time": "2024-02-11T09:56:10.968695100Z",
     "start_time": "2024-02-11T09:56:10.726943400Z"
    },
    "collapsed": false
   },
   "outputs": [],
   "source": [
    "score = pd.read_parquet('score/users_scores_4.parquet')"
   ]
  },
  {
   "cell_type": "code",
   "execution_count": null,
   "id": "3c1fc923ae44c8ed",
   "metadata": {
    "ExecuteTime": {
     "end_time": "2024-02-11T09:56:14.037086200Z",
     "start_time": "2024-02-11T09:56:13.984794500Z"
    },
    "collapsed": false
   },
   "outputs": [],
   "source": [
    "score.head()"
   ]
  },
  {
   "cell_type": "code",
   "execution_count": null,
   "id": "939efca9ed9061c1",
   "metadata": {
    "ExecuteTime": {
     "end_time": "2024-02-11T09:57:17.375182600Z",
     "start_time": "2024-02-11T09:57:16.676468400Z"
    },
    "collapsed": false
   },
   "outputs": [],
   "source": [
    "anime = pd.read_csv('anime-dataset-2023.csv')\n",
    "anime.shape"
   ]
  },
  {
   "cell_type": "code",
   "execution_count": null,
   "id": "38221b4663f21dd7",
   "metadata": {
    "ExecuteTime": {
     "end_time": "2024-02-11T09:57:20.771538400Z",
     "start_time": "2024-02-11T09:57:20.642153300Z"
    },
    "collapsed": false
   },
   "outputs": [],
   "source": [
    "anime"
   ]
  },
  {
   "cell_type": "code",
   "execution_count": null,
   "id": "ee8d00b26b8d926e",
   "metadata": {
    "ExecuteTime": {
     "end_time": "2024-02-11T11:15:16.374487600Z",
     "start_time": "2024-02-11T11:15:16.357193100Z"
    },
    "collapsed": false
   },
   "outputs": [],
   "source": [
    "users"
   ]
  },
  {
   "cell_type": "code",
   "execution_count": null,
   "id": "44bcd79d204eb774",
   "metadata": {
    "ExecuteTime": {
     "end_time": "2024-02-11T11:12:37.883512100Z",
     "start_time": "2024-02-11T11:12:37.860794900Z"
    },
    "collapsed": false
   },
   "outputs": [],
   "source": [
    "users['Ratings'] = 0"
   ]
  },
  {
   "cell_type": "code",
   "execution_count": null,
   "id": "92f932fb16e82ddd",
   "metadata": {
    "ExecuteTime": {
     "end_time": "2024-02-11T11:12:38.710607400Z",
     "start_time": "2024-02-11T11:12:38.691954500Z"
    },
    "collapsed": false
   },
   "outputs": [],
   "source": [
    "users"
   ]
  },
  {
   "cell_type": "code",
   "execution_count": null,
   "id": "29beb233e10ef9cf",
   "metadata": {
    "ExecuteTime": {
     "end_time": "2024-02-11T10:59:28.529407900Z",
     "start_time": "2024-02-11T10:59:28.340205900Z"
    },
    "collapsed": false
   },
   "outputs": [],
   "source": [
    "rating = pd.read_parquet(f'score/users_scores_0.parquet')"
   ]
  },
  {
   "cell_type": "code",
   "execution_count": null,
   "id": "3cab9b458aa49d75",
   "metadata": {
    "ExecuteTime": {
     "end_time": "2024-02-11T11:13:12.231580400Z",
     "start_time": "2024-02-11T11:13:12.083229700Z"
    },
    "collapsed": false
   },
   "outputs": [],
   "source": [
    "counter = rating.groupby(\"user_id\").agg(count=('user_id', 'count')).reset_index()\n",
    "counter.info()"
   ]
  },
  {
   "cell_type": "code",
   "execution_count": null,
   "id": "323bea2698d6566c",
   "metadata": {
    "ExecuteTime": {
     "end_time": "2024-02-11T11:15:10.314311900Z",
     "start_time": "2024-02-11T11:15:10.288445300Z"
    },
    "collapsed": false
   },
   "outputs": [],
   "source": [
    "users['Ratings']"
   ]
  },
  {
   "cell_type": "code",
   "execution_count": null,
   "id": "1861a031b23fada6",
   "metadata": {
    "ExecuteTime": {
     "end_time": "2024-02-11T11:19:15.383775200Z",
     "start_time": "2024-02-11T11:19:14.786324500Z"
    },
    "collapsed": false
   },
   "outputs": [],
   "source": [
    "users = df[['Mal ID', 'Username', 'Mean Score', 'Total Entries']].copy()\n",
    "rating = pd.read_parquet(f'score/users_scores_4.parquet')\n",
    "counter = rating.groupby(\"user_id\").agg(count=('user_id', 'count')).reset_index()"
   ]
  },
  {
   "cell_type": "code",
   "execution_count": null,
   "id": "5455721fa924909f",
   "metadata": {
    "ExecuteTime": {
     "end_time": "2024-02-11T11:21:22.397229300Z",
     "start_time": "2024-02-11T11:21:21.588692100Z"
    },
    "collapsed": false
   },
   "outputs": [],
   "source": [
    "merged = users.merge(counter, how='left', left_on='Mal ID', right_on='user_id')"
   ]
  },
  {
   "cell_type": "code",
   "execution_count": null,
   "id": "1ac678d7b390cc5c",
   "metadata": {
    "ExecuteTime": {
     "end_time": "2024-02-11T11:21:24.937341200Z",
     "start_time": "2024-02-11T11:21:24.904734900Z"
    },
    "collapsed": false
   },
   "outputs": [],
   "source": [
    "merged"
   ]
  },
  {
   "cell_type": "code",
   "execution_count": null,
   "id": "579649dd0a14907c",
   "metadata": {
    "ExecuteTime": {
     "end_time": "2024-02-11T18:48:49.880227500Z",
     "start_time": "2024-02-11T18:48:46.464758Z"
    },
    "collapsed": false
   },
   "outputs": [],
   "source": [
    "users = df[['Mal ID', 'Username', 'Mean Score', 'Total Entries']].copy() \n",
    "\n",
    "for i in range(5):\n",
    "    rating = pd.read_parquet(f'score/users_scores_{i}.parquet')\n",
    "    grouped_rating = rating.groupby(\"user_id\").agg(count=('user_id', 'count')).rename({'count': f'count_{i}'}, axis=1).reset_index()\n",
    "    users = users.merge(grouped_rating, how='left', left_on='Mal ID', right_on='user_id').drop('user_id', axis=1)"
   ]
  },
  {
   "cell_type": "code",
   "execution_count": null,
   "id": "d3a9c584d93d537e",
   "metadata": {
    "ExecuteTime": {
     "end_time": "2024-02-11T18:51:12.450479700Z",
     "start_time": "2024-02-11T18:51:12.268968200Z"
    },
    "collapsed": false
   },
   "outputs": [],
   "source": [
    "users[\"Ratings\"] = users[['count_0', 'count_1', 'count_2', 'count_3', 'count_4']].sum(axis=1)"
   ]
  },
  {
   "cell_type": "code",
   "execution_count": null,
   "id": "1411353898ff73cd",
   "metadata": {
    "ExecuteTime": {
     "end_time": "2024-02-11T18:57:48.865201200Z",
     "start_time": "2024-02-11T18:57:48.795523900Z"
    },
    "collapsed": false
   },
   "outputs": [],
   "source": [
    "users.drop(['count_0', 'count_1', 'count_2', 'count_3', 'count_4'], axis=1, inplace=True)"
   ]
  },
  {
   "cell_type": "code",
   "execution_count": null,
   "id": "835c4515758b22f5",
   "metadata": {
    "ExecuteTime": {
     "end_time": "2024-02-11T18:54:54.631488800Z",
     "start_time": "2024-02-11T18:54:54.596648700Z"
    },
    "collapsed": false
   },
   "outputs": [],
   "source": [
    "users['Ratings'] = users['Ratings'].astype('int16')"
   ]
  },
  {
   "cell_type": "code",
   "execution_count": null,
   "id": "4a7e71f938d8d93d",
   "metadata": {
    "ExecuteTime": {
     "end_time": "2024-02-11T18:54:58.571281700Z",
     "start_time": "2024-02-11T18:54:58.534828900Z"
    },
    "collapsed": false
   },
   "outputs": [],
   "source": [
    "users"
   ]
  },
  {
   "cell_type": "code",
   "execution_count": null,
   "id": "bc20d8e1bf974dbb",
   "metadata": {
    "ExecuteTime": {
     "end_time": "2024-02-11T18:57:21.976107300Z",
     "start_time": "2024-02-11T18:57:21.940786400Z"
    },
    "collapsed": false
   },
   "outputs": [],
   "source": [
    "users['Total Entries'].isna().sum()\n",
    "users['Total Entries'].fillna(0, inplace=True)"
   ]
  },
  {
   "cell_type": "code",
   "execution_count": null,
   "id": "ac9fad9a077604b9",
   "metadata": {
    "ExecuteTime": {
     "end_time": "2024-02-11T18:57:25.972623400Z",
     "start_time": "2024-02-11T18:57:25.921209400Z"
    },
    "collapsed": false
   },
   "outputs": [],
   "source": [
    "users['Total Entries'].isna().sum()"
   ]
  },
  {
   "cell_type": "code",
   "execution_count": null,
   "id": "8aeda163671c6bdb",
   "metadata": {
    "ExecuteTime": {
     "end_time": "2024-02-11T18:58:33.244245600Z",
     "start_time": "2024-02-11T18:58:33.210693Z"
    },
    "collapsed": false
   },
   "outputs": [],
   "source": [
    "users['Total Entries'] = users['Total Entries'].astype('int16')"
   ]
  },
  {
   "cell_type": "code",
   "execution_count": null,
   "id": "61b9a241da476a69",
   "metadata": {
    "ExecuteTime": {
     "end_time": "2024-02-11T18:59:09.998248100Z",
     "start_time": "2024-02-11T18:59:09.980459100Z"
    },
    "collapsed": false
   },
   "outputs": [],
   "source": [
    "users['Mean Score'].fillna(0, inplace=True)"
   ]
  },
  {
   "cell_type": "code",
   "execution_count": null,
   "id": "3f167223b9dd10f5",
   "metadata": {
    "ExecuteTime": {
     "end_time": "2024-02-11T18:59:57.930376300Z",
     "start_time": "2024-02-11T18:59:57.860514100Z"
    },
    "collapsed": false
   },
   "outputs": [],
   "source": [
    "users['Username'].fillna('Unknown', inplace=True)"
   ]
  },
  {
   "cell_type": "code",
   "execution_count": null,
   "id": "e34538a6f81d74bb",
   "metadata": {
    "ExecuteTime": {
     "end_time": "2024-02-11T19:01:42.300791200Z",
     "start_time": "2024-02-11T19:01:41.839607Z"
    },
    "collapsed": false
   },
   "outputs": [],
   "source": [
    "users.to_parquet('users/users.parquet', index=False)"
   ]
  },
  {
   "cell_type": "code",
   "execution_count": null,
   "id": "cbcf634da11b2bb6",
   "metadata": {
    "ExecuteTime": {
     "end_time": "2024-02-11T19:01:59.106406100Z",
     "start_time": "2024-02-11T19:01:58.421674200Z"
    },
    "collapsed": false
   },
   "outputs": [],
   "source": [
    "test = pd.read_parquet('users/users.parquet')"
   ]
  },
  {
   "cell_type": "code",
   "execution_count": null,
   "id": "980675cde78169f2",
   "metadata": {
    "ExecuteTime": {
     "end_time": "2024-04-11T17:44:57.560027300Z",
     "start_time": "2024-04-11T17:44:57.043235900Z"
    },
    "collapsed": false
   },
   "outputs": [],
   "source": [
    "anime = pd.read_csv('raw/anime-dataset-2023.csv')\n",
    "anime.shape"
   ]
  },
  {
   "cell_type": "code",
   "execution_count": null,
   "id": "d4ee2b40de1cb2ed",
   "metadata": {
    "ExecuteTime": {
     "end_time": "2024-04-11T17:44:57.663684200Z",
     "start_time": "2024-04-11T17:44:57.568729Z"
    },
    "collapsed": false
   },
   "outputs": [
    {
     "ename": "NameError",
     "evalue": "name 'anime' is not defined",
     "output_type": "error",
     "traceback": [
      "\u001b[1;31m---------------------------------------------------------------------------\u001b[0m",
      "\u001b[1;31mNameError\u001b[0m                                 Traceback (most recent call last)",
      "Cell \u001b[1;32mIn[2], line 1\u001b[0m\n\u001b[1;32m----> 1\u001b[0m \u001b[43manime\u001b[49m\n",
      "\u001b[1;31mNameError\u001b[0m: name 'anime' is not defined"
     ]
    }
   ],
   "source": [
    "anime"
   ]
  },
  {
   "cell_type": "code",
   "execution_count": null,
   "id": "524f98085ad12e6c",
   "metadata": {
    "ExecuteTime": {
     "end_time": "2024-04-11T17:44:57.736624Z",
     "start_time": "2024-04-11T17:44:57.626480400Z"
    },
    "collapsed": false
   },
   "outputs": [
    {
     "ename": "NameError",
     "evalue": "name 'anime' is not defined",
     "output_type": "error",
     "traceback": [
      "\u001b[1;31m---------------------------------------------------------------------------\u001b[0m",
      "\u001b[1;31mNameError\u001b[0m                                 Traceback (most recent call last)",
      "Cell \u001b[1;32mIn[1], line 2\u001b[0m\n\u001b[0;32m      1\u001b[0m essential_cols \u001b[38;5;241m=\u001b[39m [\u001b[38;5;124m'\u001b[39m\u001b[38;5;124manime_id\u001b[39m\u001b[38;5;124m'\u001b[39m, \u001b[38;5;124m'\u001b[39m\u001b[38;5;124mName\u001b[39m\u001b[38;5;124m'\u001b[39m, \u001b[38;5;124m'\u001b[39m\u001b[38;5;124mEnglish name\u001b[39m\u001b[38;5;124m'\u001b[39m, \u001b[38;5;124m'\u001b[39m\u001b[38;5;124mOther name\u001b[39m\u001b[38;5;124m'\u001b[39m, \u001b[38;5;124m'\u001b[39m\u001b[38;5;124mScore\u001b[39m\u001b[38;5;124m'\u001b[39m, \u001b[38;5;124m'\u001b[39m\u001b[38;5;124mGenres\u001b[39m\u001b[38;5;124m'\u001b[39m, \u001b[38;5;124m'\u001b[39m\u001b[38;5;124mSynopsis\u001b[39m\u001b[38;5;124m'\u001b[39m, \u001b[38;5;124m'\u001b[39m\u001b[38;5;124mType\u001b[39m\u001b[38;5;124m'\u001b[39m, \u001b[38;5;124m'\u001b[39m\u001b[38;5;124mEpisodes\u001b[39m\u001b[38;5;124m'\u001b[39m, \u001b[38;5;124m'\u001b[39m\u001b[38;5;124mAired\u001b[39m\u001b[38;5;124m'\u001b[39m, \u001b[38;5;124m'\u001b[39m\u001b[38;5;124mPremiered\u001b[39m\u001b[38;5;124m'\u001b[39m, \u001b[38;5;124m'\u001b[39m\u001b[38;5;124mStatus\u001b[39m\u001b[38;5;124m'\u001b[39m, \u001b[38;5;124m'\u001b[39m\u001b[38;5;124mStudios\u001b[39m\u001b[38;5;124m'\u001b[39m, \u001b[38;5;124m'\u001b[39m\u001b[38;5;124mSource\u001b[39m\u001b[38;5;124m'\u001b[39m, \u001b[38;5;124m'\u001b[39m\u001b[38;5;124mDuration\u001b[39m\u001b[38;5;124m'\u001b[39m, \u001b[38;5;124m'\u001b[39m\u001b[38;5;124mRating\u001b[39m\u001b[38;5;124m'\u001b[39m, \u001b[38;5;124m'\u001b[39m\u001b[38;5;124mRank\u001b[39m\u001b[38;5;124m'\u001b[39m, \u001b[38;5;124m'\u001b[39m\u001b[38;5;124mPopularity\u001b[39m\u001b[38;5;124m'\u001b[39m, \u001b[38;5;124m'\u001b[39m\u001b[38;5;124mFavorites\u001b[39m\u001b[38;5;124m'\u001b[39m, \u001b[38;5;124m'\u001b[39m\u001b[38;5;124mScored By\u001b[39m\u001b[38;5;124m'\u001b[39m, \u001b[38;5;124m'\u001b[39m\u001b[38;5;124mMembers\u001b[39m\u001b[38;5;124m'\u001b[39m, \u001b[38;5;124m'\u001b[39m\u001b[38;5;124mImage URL\u001b[39m\u001b[38;5;124m'\u001b[39m]\n\u001b[1;32m----> 2\u001b[0m filtered \u001b[38;5;241m=\u001b[39m \u001b[43manime\u001b[49m[essential_cols]\u001b[38;5;241m.\u001b[39mcopy()\n\u001b[0;32m      3\u001b[0m filtered\n",
      "\u001b[1;31mNameError\u001b[0m: name 'anime' is not defined"
     ]
    }
   ],
   "source": [
    "essential_cols = ['anime_id', 'Name', 'English name', 'Other name', 'Score', 'Genres', 'Synopsis', 'Type', 'Episodes', 'Aired', 'Premiered', 'Status', 'Studios', 'Source', 'Duration', 'Rating', 'Rank', 'Popularity', 'Favorites', 'Scored By', 'Members', 'Image URL']\n",
    "filtered = anime[essential_cols].copy()\n",
    "filtered"
   ]
  },
  {
   "cell_type": "code",
   "execution_count": null,
   "id": "3a66e1fc3734bc02",
   "metadata": {
    "ExecuteTime": {
     "end_time": "2024-04-11T17:44:58.102332900Z",
     "start_time": "2024-04-11T17:44:57.976362500Z"
    },
    "collapsed": false
   },
   "outputs": [],
   "source": []
  },
  {
   "cell_type": "code",
   "execution_count": null,
   "id": "405c73b18d8fb390",
   "metadata": {
    "ExecuteTime": {
     "end_time": "2024-04-11T17:44:58.798279800Z",
     "start_time": "2024-04-11T17:44:58.727369800Z"
    },
    "collapsed": false
   },
   "outputs": [],
   "source": [
    "import numpy as np\n",
    "\n",
    "filtered['Score'] = pd.to_numeric(filtered['Score'].replace('UNKNOWN', np.nan), errors='coerce')\n",
    "filtered['Score'].fillna(0.0, inplace=True)\n",
    "filtered['Score'].astype(float)"
   ]
  },
  {
   "cell_type": "code",
   "execution_count": null,
   "id": "3b0e01f56824695",
   "metadata": {
    "ExecuteTime": {
     "end_time": "2024-04-11T17:44:59.764631400Z",
     "start_time": "2024-04-11T17:44:59.561846600Z"
    },
    "collapsed": false
   },
   "outputs": [],
   "source": [
    "filtered['Scored By'] = pd.to_numeric(filtered['Scored By'].replace('UNKNOWN', np.nan), errors='coerce')\n",
    "filtered['Scored By'].fillna(0.0)"
   ]
  },
  {
   "cell_type": "code",
   "execution_count": null,
   "id": "bbe09e64bc256ab7",
   "metadata": {
    "ExecuteTime": {
     "end_time": "2024-04-11T17:45:02.281398800Z",
     "start_time": "2024-04-11T17:45:02.264811400Z"
    },
    "collapsed": false
   },
   "outputs": [],
   "source": [
    "filtered['Scored By'] = filtered['Scored By'].fillna(0.0)"
   ]
  },
  {
   "cell_type": "code",
   "execution_count": null,
   "id": "11a8521f9ed9217d",
   "metadata": {
    "ExecuteTime": {
     "end_time": "2024-04-11T17:45:03.441292800Z",
     "start_time": "2024-04-11T17:45:03.399268Z"
    },
    "collapsed": false
   },
   "outputs": [],
   "source": [
    "filtered['Scored By'].isna().sum()"
   ]
  },
  {
   "cell_type": "code",
   "execution_count": null,
   "id": "9bf5825190eaa2b6",
   "metadata": {
    "ExecuteTime": {
     "end_time": "2024-04-11T17:45:44.088395300Z",
     "start_time": "2024-04-11T17:45:44.060280900Z"
    },
    "collapsed": false
   },
   "outputs": [],
   "source": [
    "filtered['Scored By'] = filtered['Scored By'].astype('int64')"
   ]
  },
  {
   "cell_type": "code",
   "execution_count": null,
   "id": "32da2ac1190f50ba",
   "metadata": {
    "ExecuteTime": {
     "end_time": "2024-04-11T17:45:45.070657100Z",
     "start_time": "2024-04-11T17:45:45.016338100Z"
    },
    "collapsed": false
   },
   "outputs": [],
   "source": [
    "filtered.info()"
   ]
  },
  {
   "cell_type": "code",
   "execution_count": null,
   "id": "e246c5ed79483678",
   "metadata": {
    "ExecuteTime": {
     "end_time": "2024-04-11T17:46:01.599307500Z",
     "start_time": "2024-04-11T17:46:01.506433Z"
    },
    "collapsed": false
   },
   "outputs": [],
   "source": [
    "filtered"
   ]
  },
  {
   "cell_type": "code",
   "execution_count": null,
   "id": "58708b7cf0a14bbe",
   "metadata": {
    "ExecuteTime": {
     "end_time": "2024-04-11T17:54:30.443040200Z",
     "start_time": "2024-04-11T17:54:30.333275500Z"
    },
    "collapsed": false
   },
   "outputs": [],
   "source": [
    "filtered['Mod_name'] = filtered['Name'].str.replace(\"[^a-zA-Z0-9 ]\", \"\", regex=True)\n",
    "filtered['Mod_name'] = filtered['Mod_name'].str.lower()\n",
    "filtered['Mod_name'] = filtered['Mod_name'].str.replace(\"\\s+\", ' ', regex=True)\n",
    "filtered = filtered[filtered[\"Mod_name\"].str.len() > 0]"
   ]
  },
  {
   "cell_type": "code",
   "execution_count": null,
   "id": "2b3b8aab90ed3cff",
   "metadata": {
    "ExecuteTime": {
     "end_time": "2024-04-11T17:54:36.013155100Z",
     "start_time": "2024-04-11T17:54:35.909337200Z"
    },
    "collapsed": false
   },
   "outputs": [],
   "source": [
    "filtered"
   ]
  },
  {
   "cell_type": "code",
   "execution_count": null,
   "id": "189f5e4c97a64327",
   "metadata": {
    "ExecuteTime": {
     "end_time": "2024-04-11T17:54:54.728533100Z",
     "start_time": "2024-04-11T17:54:54.422574300Z"
    },
    "collapsed": false
   },
   "outputs": [],
   "source": [
    "filtered.to_parquet('anime/anime.parquet', index=False)"
   ]
  },
  {
   "cell_type": "code",
   "execution_count": null,
   "id": "b4ed8968d2f93d10",
   "metadata": {
    "ExecuteTime": {
     "end_time": "2024-04-11T17:49:06.760149200Z",
     "start_time": "2024-04-11T17:49:06.544690400Z"
    },
    "collapsed": false
   },
   "outputs": [],
   "source": [
    "%timeit\n",
    "old = pd.read_parquet('anime/anime.parquet')"
   ]
  },
  {
   "cell_type": "code",
   "execution_count": null,
   "id": "9675c5b0be3a4a41",
   "metadata": {
    "ExecuteTime": {
     "end_time": "2024-04-11T17:59:14.451258Z",
     "start_time": "2024-04-11T17:59:14.391506400Z"
    },
    "collapsed": false
   },
   "outputs": [],
   "source": [
    "filtered.loc[55]"
   ]
  },
  {
   "cell_type": "code",
   "execution_count": null,
   "id": "88c5c4cc2f67717c",
   "metadata": {
    "collapsed": false
   },
   "outputs": [],
   "source": []
  }
 ],
 "metadata": {
  "kernelspec": {
   "display_name": "Python 3",
   "language": "python",
   "name": "python3"
  },
  "language_info": {
   "codemirror_mode": {
    "name": "ipython",
    "version": 3
   },
   "file_extension": ".py",
   "mimetype": "text/x-python",
   "name": "python",
   "nbconvert_exporter": "python",
   "pygments_lexer": "ipython3",
   "version": "3.12.2"
  }
 },
 "nbformat": 4,
 "nbformat_minor": 5
}
