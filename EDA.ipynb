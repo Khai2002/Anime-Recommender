{
 "cells": [
  {
   "cell_type": "code",
   "execution_count": 1,
   "id": "initial_id",
   "metadata": {
    "collapsed": true,
    "ExecuteTime": {
     "end_time": "2024-04-11T17:32:51.352532500Z",
     "start_time": "2024-04-11T17:32:46.413699600Z"
    }
   },
   "outputs": [],
   "source": [
    "import pandas as pd"
   ]
  },
  {
   "cell_type": "code",
   "execution_count": 4,
   "outputs": [],
   "source": [
    "anime = pd.read_csv('./raw/anime-dataset-2023.csv')"
   ],
   "metadata": {
    "collapsed": false,
    "ExecuteTime": {
     "end_time": "2024-04-11T17:33:37.123501300Z",
     "start_time": "2024-04-11T17:33:35.671437800Z"
    }
   },
   "id": "ac2773aa8610824e"
  },
  {
   "cell_type": "code",
   "execution_count": 5,
   "outputs": [
    {
     "data": {
      "text/plain": "       anime_id                             Name             English name  \\\n0             1                     Cowboy Bebop             Cowboy Bebop   \n1             5  Cowboy Bebop: Tengoku no Tobira  Cowboy Bebop: The Movie   \n2             6                           Trigun                   Trigun   \n3             7               Witch Hunter Robin       Witch Hunter Robin   \n4             8                   Bouken Ou Beet   Beet the Vandel Buster   \n...         ...                              ...                      ...   \n24900     55731                      Wu Nao Monu                  UNKNOWN   \n24901     55732              Bu Xing Si: Yuan Qi              Blader Soul   \n24902     55733                      Di Yi Xulie          The First Order   \n24903     55734         Bokura no Saishuu Sensou                  UNKNOWN   \n24904     55735                   Shijuuku Nichi                  UNKNOWN   \n\n                             Other name    Score  \\\n0                             カウボーイビバップ     8.75   \n1                        カウボーイビバップ 天国の扉     8.38   \n2                                 トライガン     8.22   \n3      Witch Hunter ROBIN (ウイッチハンターロビン)     7.25   \n4                                冒険王ビィト     6.94   \n...                                 ...      ...   \n24900                              无脑魔女  UNKNOWN   \n24901                            捕星司·源起  UNKNOWN   \n24902                              第一序列  UNKNOWN   \n24903                           僕らの最終戦争  UNKNOWN   \n24904                              四十九日  UNKNOWN   \n\n                                     Genres  \\\n0             Action, Award Winning, Sci-Fi   \n1                            Action, Sci-Fi   \n2                 Action, Adventure, Sci-Fi   \n3      Action, Drama, Mystery, Supernatural   \n4          Adventure, Fantasy, Supernatural   \n...                                     ...   \n24900        Comedy, Fantasy, Slice of Life   \n24901            Action, Adventure, Fantasy   \n24902    Action, Adventure, Fantasy, Sci-Fi   \n24903                               UNKNOWN   \n24904                               UNKNOWN   \n\n                                                Synopsis   Type Episodes  \\\n0      Crime is timeless. By the year 2071, humanity ...     TV     26.0   \n1      Another day, another bounty—such is the life o...  Movie      1.0   \n2      Vash the Stampede is the man with a $$60,000,0...     TV     26.0   \n3      Robin Sena is a powerful craft user drafted in...     TV     26.0   \n4      It is the dark century and the people are suff...     TV     52.0   \n...                                                  ...    ...      ...   \n24900           No description available for this anime.    ONA     15.0   \n24901           No description available for this anime.    ONA     18.0   \n24902           No description available for this anime.    ONA     16.0   \n24903  A music video for the song Bokura no Saishuu S...  Music      1.0   \n24904  A music video for the song Shijuuku Nichi by S...  Music      1.0   \n\n                              Aired  ...         Studios     Source  \\\n0       Apr 3, 1998 to Apr 24, 1999  ...         Sunrise   Original   \n1                       Sep 1, 2001  ...           Bones   Original   \n2       Apr 1, 1998 to Sep 30, 1998  ...        Madhouse      Manga   \n3       Jul 3, 2002 to Dec 25, 2002  ...         Sunrise   Original   \n4      Sep 30, 2004 to Sep 29, 2005  ...  Toei Animation      Manga   \n...                             ...  ...             ...        ...   \n24900              Jul 4, 2023 to ?  ...         UNKNOWN  Web manga   \n24901             Jul 27, 2023 to ?  ...         UNKNOWN  Web novel   \n24902             Jul 19, 2023 to ?  ...         UNKNOWN  Web novel   \n24903                  Apr 23, 2022  ...         UNKNOWN   Original   \n24904                   Sep 5, 2022  ...         UNKNOWN   Original   \n\n            Duration                          Rating     Rank Popularity  \\\n0      24 min per ep  R - 17+ (violence & profanity)     41.0         43   \n1        1 hr 55 min  R - 17+ (violence & profanity)    189.0        602   \n2      24 min per ep       PG-13 - Teens 13 or older    328.0        246   \n3      25 min per ep       PG-13 - Teens 13 or older   2764.0       1795   \n4      23 min per ep                   PG - Children   4240.0       5126   \n...              ...                             ...      ...        ...   \n24900        Unknown       PG-13 - Teens 13 or older  UNKNOWN      24723   \n24901        Unknown       PG-13 - Teens 13 or older      0.0          0   \n24902        Unknown       PG-13 - Teens 13 or older      0.0          0   \n24903          3 min       PG-13 - Teens 13 or older      0.0          0   \n24904          3 min       PG-13 - Teens 13 or older      0.0          0   \n\n      Favorites Scored By  Members  \\\n0         78525  914193.0  1771505   \n1          1448  206248.0   360978   \n2         15035  356739.0   727252   \n3           613   42829.0   111931   \n4            14    6413.0    15001   \n...         ...       ...      ...   \n24900         0   UNKNOWN        0   \n24901         0   UNKNOWN        0   \n24902         0   UNKNOWN        0   \n24903         0   UNKNOWN        0   \n24904         0   UNKNOWN        0   \n\n                                               Image URL  \n0      https://cdn.myanimelist.net/images/anime/4/196...  \n1      https://cdn.myanimelist.net/images/anime/1439/...  \n2      https://cdn.myanimelist.net/images/anime/7/203...  \n3      https://cdn.myanimelist.net/images/anime/10/19...  \n4      https://cdn.myanimelist.net/images/anime/7/215...  \n...                                                  ...  \n24900  https://cdn.myanimelist.net/images/anime/1386/...  \n24901  https://cdn.myanimelist.net/images/anime/1383/...  \n24902  https://cdn.myanimelist.net/images/anime/1130/...  \n24903  https://cdn.myanimelist.net/images/anime/1931/...  \n24904  https://cdn.myanimelist.net/images/anime/1902/...  \n\n[24905 rows x 24 columns]",
      "text/html": "<div>\n<style scoped>\n    .dataframe tbody tr th:only-of-type {\n        vertical-align: middle;\n    }\n\n    .dataframe tbody tr th {\n        vertical-align: top;\n    }\n\n    .dataframe thead th {\n        text-align: right;\n    }\n</style>\n<table border=\"1\" class=\"dataframe\">\n  <thead>\n    <tr style=\"text-align: right;\">\n      <th></th>\n      <th>anime_id</th>\n      <th>Name</th>\n      <th>English name</th>\n      <th>Other name</th>\n      <th>Score</th>\n      <th>Genres</th>\n      <th>Synopsis</th>\n      <th>Type</th>\n      <th>Episodes</th>\n      <th>Aired</th>\n      <th>...</th>\n      <th>Studios</th>\n      <th>Source</th>\n      <th>Duration</th>\n      <th>Rating</th>\n      <th>Rank</th>\n      <th>Popularity</th>\n      <th>Favorites</th>\n      <th>Scored By</th>\n      <th>Members</th>\n      <th>Image URL</th>\n    </tr>\n  </thead>\n  <tbody>\n    <tr>\n      <th>0</th>\n      <td>1</td>\n      <td>Cowboy Bebop</td>\n      <td>Cowboy Bebop</td>\n      <td>カウボーイビバップ</td>\n      <td>8.75</td>\n      <td>Action, Award Winning, Sci-Fi</td>\n      <td>Crime is timeless. By the year 2071, humanity ...</td>\n      <td>TV</td>\n      <td>26.0</td>\n      <td>Apr 3, 1998 to Apr 24, 1999</td>\n      <td>...</td>\n      <td>Sunrise</td>\n      <td>Original</td>\n      <td>24 min per ep</td>\n      <td>R - 17+ (violence &amp; profanity)</td>\n      <td>41.0</td>\n      <td>43</td>\n      <td>78525</td>\n      <td>914193.0</td>\n      <td>1771505</td>\n      <td>https://cdn.myanimelist.net/images/anime/4/196...</td>\n    </tr>\n    <tr>\n      <th>1</th>\n      <td>5</td>\n      <td>Cowboy Bebop: Tengoku no Tobira</td>\n      <td>Cowboy Bebop: The Movie</td>\n      <td>カウボーイビバップ 天国の扉</td>\n      <td>8.38</td>\n      <td>Action, Sci-Fi</td>\n      <td>Another day, another bounty—such is the life o...</td>\n      <td>Movie</td>\n      <td>1.0</td>\n      <td>Sep 1, 2001</td>\n      <td>...</td>\n      <td>Bones</td>\n      <td>Original</td>\n      <td>1 hr 55 min</td>\n      <td>R - 17+ (violence &amp; profanity)</td>\n      <td>189.0</td>\n      <td>602</td>\n      <td>1448</td>\n      <td>206248.0</td>\n      <td>360978</td>\n      <td>https://cdn.myanimelist.net/images/anime/1439/...</td>\n    </tr>\n    <tr>\n      <th>2</th>\n      <td>6</td>\n      <td>Trigun</td>\n      <td>Trigun</td>\n      <td>トライガン</td>\n      <td>8.22</td>\n      <td>Action, Adventure, Sci-Fi</td>\n      <td>Vash the Stampede is the man with a $$60,000,0...</td>\n      <td>TV</td>\n      <td>26.0</td>\n      <td>Apr 1, 1998 to Sep 30, 1998</td>\n      <td>...</td>\n      <td>Madhouse</td>\n      <td>Manga</td>\n      <td>24 min per ep</td>\n      <td>PG-13 - Teens 13 or older</td>\n      <td>328.0</td>\n      <td>246</td>\n      <td>15035</td>\n      <td>356739.0</td>\n      <td>727252</td>\n      <td>https://cdn.myanimelist.net/images/anime/7/203...</td>\n    </tr>\n    <tr>\n      <th>3</th>\n      <td>7</td>\n      <td>Witch Hunter Robin</td>\n      <td>Witch Hunter Robin</td>\n      <td>Witch Hunter ROBIN (ウイッチハンターロビン)</td>\n      <td>7.25</td>\n      <td>Action, Drama, Mystery, Supernatural</td>\n      <td>Robin Sena is a powerful craft user drafted in...</td>\n      <td>TV</td>\n      <td>26.0</td>\n      <td>Jul 3, 2002 to Dec 25, 2002</td>\n      <td>...</td>\n      <td>Sunrise</td>\n      <td>Original</td>\n      <td>25 min per ep</td>\n      <td>PG-13 - Teens 13 or older</td>\n      <td>2764.0</td>\n      <td>1795</td>\n      <td>613</td>\n      <td>42829.0</td>\n      <td>111931</td>\n      <td>https://cdn.myanimelist.net/images/anime/10/19...</td>\n    </tr>\n    <tr>\n      <th>4</th>\n      <td>8</td>\n      <td>Bouken Ou Beet</td>\n      <td>Beet the Vandel Buster</td>\n      <td>冒険王ビィト</td>\n      <td>6.94</td>\n      <td>Adventure, Fantasy, Supernatural</td>\n      <td>It is the dark century and the people are suff...</td>\n      <td>TV</td>\n      <td>52.0</td>\n      <td>Sep 30, 2004 to Sep 29, 2005</td>\n      <td>...</td>\n      <td>Toei Animation</td>\n      <td>Manga</td>\n      <td>23 min per ep</td>\n      <td>PG - Children</td>\n      <td>4240.0</td>\n      <td>5126</td>\n      <td>14</td>\n      <td>6413.0</td>\n      <td>15001</td>\n      <td>https://cdn.myanimelist.net/images/anime/7/215...</td>\n    </tr>\n    <tr>\n      <th>...</th>\n      <td>...</td>\n      <td>...</td>\n      <td>...</td>\n      <td>...</td>\n      <td>...</td>\n      <td>...</td>\n      <td>...</td>\n      <td>...</td>\n      <td>...</td>\n      <td>...</td>\n      <td>...</td>\n      <td>...</td>\n      <td>...</td>\n      <td>...</td>\n      <td>...</td>\n      <td>...</td>\n      <td>...</td>\n      <td>...</td>\n      <td>...</td>\n      <td>...</td>\n      <td>...</td>\n    </tr>\n    <tr>\n      <th>24900</th>\n      <td>55731</td>\n      <td>Wu Nao Monu</td>\n      <td>UNKNOWN</td>\n      <td>无脑魔女</td>\n      <td>UNKNOWN</td>\n      <td>Comedy, Fantasy, Slice of Life</td>\n      <td>No description available for this anime.</td>\n      <td>ONA</td>\n      <td>15.0</td>\n      <td>Jul 4, 2023 to ?</td>\n      <td>...</td>\n      <td>UNKNOWN</td>\n      <td>Web manga</td>\n      <td>Unknown</td>\n      <td>PG-13 - Teens 13 or older</td>\n      <td>UNKNOWN</td>\n      <td>24723</td>\n      <td>0</td>\n      <td>UNKNOWN</td>\n      <td>0</td>\n      <td>https://cdn.myanimelist.net/images/anime/1386/...</td>\n    </tr>\n    <tr>\n      <th>24901</th>\n      <td>55732</td>\n      <td>Bu Xing Si: Yuan Qi</td>\n      <td>Blader Soul</td>\n      <td>捕星司·源起</td>\n      <td>UNKNOWN</td>\n      <td>Action, Adventure, Fantasy</td>\n      <td>No description available for this anime.</td>\n      <td>ONA</td>\n      <td>18.0</td>\n      <td>Jul 27, 2023 to ?</td>\n      <td>...</td>\n      <td>UNKNOWN</td>\n      <td>Web novel</td>\n      <td>Unknown</td>\n      <td>PG-13 - Teens 13 or older</td>\n      <td>0.0</td>\n      <td>0</td>\n      <td>0</td>\n      <td>UNKNOWN</td>\n      <td>0</td>\n      <td>https://cdn.myanimelist.net/images/anime/1383/...</td>\n    </tr>\n    <tr>\n      <th>24902</th>\n      <td>55733</td>\n      <td>Di Yi Xulie</td>\n      <td>The First Order</td>\n      <td>第一序列</td>\n      <td>UNKNOWN</td>\n      <td>Action, Adventure, Fantasy, Sci-Fi</td>\n      <td>No description available for this anime.</td>\n      <td>ONA</td>\n      <td>16.0</td>\n      <td>Jul 19, 2023 to ?</td>\n      <td>...</td>\n      <td>UNKNOWN</td>\n      <td>Web novel</td>\n      <td>Unknown</td>\n      <td>PG-13 - Teens 13 or older</td>\n      <td>0.0</td>\n      <td>0</td>\n      <td>0</td>\n      <td>UNKNOWN</td>\n      <td>0</td>\n      <td>https://cdn.myanimelist.net/images/anime/1130/...</td>\n    </tr>\n    <tr>\n      <th>24903</th>\n      <td>55734</td>\n      <td>Bokura no Saishuu Sensou</td>\n      <td>UNKNOWN</td>\n      <td>僕らの最終戦争</td>\n      <td>UNKNOWN</td>\n      <td>UNKNOWN</td>\n      <td>A music video for the song Bokura no Saishuu S...</td>\n      <td>Music</td>\n      <td>1.0</td>\n      <td>Apr 23, 2022</td>\n      <td>...</td>\n      <td>UNKNOWN</td>\n      <td>Original</td>\n      <td>3 min</td>\n      <td>PG-13 - Teens 13 or older</td>\n      <td>0.0</td>\n      <td>0</td>\n      <td>0</td>\n      <td>UNKNOWN</td>\n      <td>0</td>\n      <td>https://cdn.myanimelist.net/images/anime/1931/...</td>\n    </tr>\n    <tr>\n      <th>24904</th>\n      <td>55735</td>\n      <td>Shijuuku Nichi</td>\n      <td>UNKNOWN</td>\n      <td>四十九日</td>\n      <td>UNKNOWN</td>\n      <td>UNKNOWN</td>\n      <td>A music video for the song Shijuuku Nichi by S...</td>\n      <td>Music</td>\n      <td>1.0</td>\n      <td>Sep 5, 2022</td>\n      <td>...</td>\n      <td>UNKNOWN</td>\n      <td>Original</td>\n      <td>3 min</td>\n      <td>PG-13 - Teens 13 or older</td>\n      <td>0.0</td>\n      <td>0</td>\n      <td>0</td>\n      <td>UNKNOWN</td>\n      <td>0</td>\n      <td>https://cdn.myanimelist.net/images/anime/1902/...</td>\n    </tr>\n  </tbody>\n</table>\n<p>24905 rows × 24 columns</p>\n</div>"
     },
     "execution_count": 5,
     "metadata": {},
     "output_type": "execute_result"
    }
   ],
   "source": [
    "anime"
   ],
   "metadata": {
    "collapsed": false,
    "ExecuteTime": {
     "end_time": "2024-04-11T17:33:42.350725600Z",
     "start_time": "2024-04-11T17:33:42.225088Z"
    }
   },
   "id": "7535f8e403a684d4"
  },
  {
   "cell_type": "code",
   "execution_count": 2,
   "outputs": [],
   "source": [
    "df = pd.read_csv('users-details-2023.csv')"
   ],
   "metadata": {
    "collapsed": false,
    "ExecuteTime": {
     "end_time": "2024-02-11T18:38:12.890598300Z",
     "start_time": "2024-02-11T18:38:10.586926600Z"
    }
   },
   "id": "6adb0f6d0aa2b7b9"
  },
  {
   "cell_type": "code",
   "execution_count": 3,
   "outputs": [
    {
     "data": {
      "text/plain": "   Mal ID Username  Gender                   Birthday              Location  \\\n0       1    Xinil    Male  1985-03-04T00:00:00+00:00            California   \n1       3  Aokaado    Male                        NaN          Oslo, Norway   \n2       4  Crystal  Female                        NaN  Melbourne, Australia   \n3       9   Arcane     NaN                        NaN                   NaN   \n4      18      Mad     NaN                        NaN                   NaN   \n\n                      Joined  Days Watched  Mean Score  Watching  Completed  \\\n0  2004-11-05T00:00:00+00:00         142.3        7.37       1.0      233.0   \n1  2004-11-11T00:00:00+00:00          68.6        7.34      23.0      137.0   \n2  2004-11-13T00:00:00+00:00         212.8        6.68      16.0      636.0   \n3  2004-12-05T00:00:00+00:00          30.0        7.71       5.0       54.0   \n4  2005-01-03T00:00:00+00:00          52.0        6.27       1.0      114.0   \n\n   On Hold  Dropped  Plan to Watch  Total Entries  Rewatched  Episodes Watched  \n0      8.0     93.0           64.0          399.0       60.0            8458.0  \n1     99.0     44.0           40.0          343.0       15.0            4072.0  \n2    303.0      0.0           45.0         1000.0       10.0           12781.0  \n3      4.0      3.0            0.0           66.0        0.0            1817.0  \n4     10.0      5.0           23.0          153.0       42.0            3038.0  ",
      "text/html": "<div>\n<style scoped>\n    .dataframe tbody tr th:only-of-type {\n        vertical-align: middle;\n    }\n\n    .dataframe tbody tr th {\n        vertical-align: top;\n    }\n\n    .dataframe thead th {\n        text-align: right;\n    }\n</style>\n<table border=\"1\" class=\"dataframe\">\n  <thead>\n    <tr style=\"text-align: right;\">\n      <th></th>\n      <th>Mal ID</th>\n      <th>Username</th>\n      <th>Gender</th>\n      <th>Birthday</th>\n      <th>Location</th>\n      <th>Joined</th>\n      <th>Days Watched</th>\n      <th>Mean Score</th>\n      <th>Watching</th>\n      <th>Completed</th>\n      <th>On Hold</th>\n      <th>Dropped</th>\n      <th>Plan to Watch</th>\n      <th>Total Entries</th>\n      <th>Rewatched</th>\n      <th>Episodes Watched</th>\n    </tr>\n  </thead>\n  <tbody>\n    <tr>\n      <th>0</th>\n      <td>1</td>\n      <td>Xinil</td>\n      <td>Male</td>\n      <td>1985-03-04T00:00:00+00:00</td>\n      <td>California</td>\n      <td>2004-11-05T00:00:00+00:00</td>\n      <td>142.3</td>\n      <td>7.37</td>\n      <td>1.0</td>\n      <td>233.0</td>\n      <td>8.0</td>\n      <td>93.0</td>\n      <td>64.0</td>\n      <td>399.0</td>\n      <td>60.0</td>\n      <td>8458.0</td>\n    </tr>\n    <tr>\n      <th>1</th>\n      <td>3</td>\n      <td>Aokaado</td>\n      <td>Male</td>\n      <td>NaN</td>\n      <td>Oslo, Norway</td>\n      <td>2004-11-11T00:00:00+00:00</td>\n      <td>68.6</td>\n      <td>7.34</td>\n      <td>23.0</td>\n      <td>137.0</td>\n      <td>99.0</td>\n      <td>44.0</td>\n      <td>40.0</td>\n      <td>343.0</td>\n      <td>15.0</td>\n      <td>4072.0</td>\n    </tr>\n    <tr>\n      <th>2</th>\n      <td>4</td>\n      <td>Crystal</td>\n      <td>Female</td>\n      <td>NaN</td>\n      <td>Melbourne, Australia</td>\n      <td>2004-11-13T00:00:00+00:00</td>\n      <td>212.8</td>\n      <td>6.68</td>\n      <td>16.0</td>\n      <td>636.0</td>\n      <td>303.0</td>\n      <td>0.0</td>\n      <td>45.0</td>\n      <td>1000.0</td>\n      <td>10.0</td>\n      <td>12781.0</td>\n    </tr>\n    <tr>\n      <th>3</th>\n      <td>9</td>\n      <td>Arcane</td>\n      <td>NaN</td>\n      <td>NaN</td>\n      <td>NaN</td>\n      <td>2004-12-05T00:00:00+00:00</td>\n      <td>30.0</td>\n      <td>7.71</td>\n      <td>5.0</td>\n      <td>54.0</td>\n      <td>4.0</td>\n      <td>3.0</td>\n      <td>0.0</td>\n      <td>66.0</td>\n      <td>0.0</td>\n      <td>1817.0</td>\n    </tr>\n    <tr>\n      <th>4</th>\n      <td>18</td>\n      <td>Mad</td>\n      <td>NaN</td>\n      <td>NaN</td>\n      <td>NaN</td>\n      <td>2005-01-03T00:00:00+00:00</td>\n      <td>52.0</td>\n      <td>6.27</td>\n      <td>1.0</td>\n      <td>114.0</td>\n      <td>10.0</td>\n      <td>5.0</td>\n      <td>23.0</td>\n      <td>153.0</td>\n      <td>42.0</td>\n      <td>3038.0</td>\n    </tr>\n  </tbody>\n</table>\n</div>"
     },
     "execution_count": 3,
     "metadata": {},
     "output_type": "execute_result"
    }
   ],
   "source": [
    "df.head()"
   ],
   "metadata": {
    "collapsed": false,
    "ExecuteTime": {
     "end_time": "2024-02-11T18:38:13.007090400Z",
     "start_time": "2024-02-11T18:38:12.891664200Z"
    }
   },
   "id": "3b7e9dfb98a2005b"
  },
  {
   "cell_type": "code",
   "execution_count": 98,
   "outputs": [],
   "source": [
    "users = df[['Mal ID', 'Username', 'Mean Score', 'Total Entries']].copy()"
   ],
   "metadata": {
    "collapsed": false,
    "ExecuteTime": {
     "end_time": "2024-02-11T11:12:26.982425100Z",
     "start_time": "2024-02-11T11:12:26.908153800Z"
    }
   },
   "id": "57890ce89b782678"
  },
  {
   "cell_type": "code",
   "execution_count": 7,
   "outputs": [
    {
     "name": "stderr",
     "output_type": "stream",
     "text": [
      "5it [00:24,  4.92s/it]\n"
     ]
    }
   ],
   "source": [
    "from tqdm import tqdm\n",
    "chunk_size = 5 * 10 ** 6\n",
    "chunks = []\n",
    "\n",
    "for i, chunk in enumerate(tqdm(pd.read_csv('users-score-2023.csv', chunksize=chunk_size))):\n",
    "    processed = chunk[['user_id', 'anime_id', 'rating']]\n",
    "    processed.to_parquet(f'score/users_scores_{i}.parquet', index=False)\n"
   ],
   "metadata": {
    "collapsed": false,
    "ExecuteTime": {
     "end_time": "2024-02-11T09:56:08.106574500Z",
     "start_time": "2024-02-11T09:55:43.403210600Z"
    }
   },
   "id": "51c64e0472b24092"
  },
  {
   "cell_type": "code",
   "execution_count": 8,
   "outputs": [],
   "source": [
    "score = pd.read_parquet('score/users_scores_4.parquet')"
   ],
   "metadata": {
    "collapsed": false,
    "ExecuteTime": {
     "end_time": "2024-02-11T09:56:10.968695100Z",
     "start_time": "2024-02-11T09:56:10.726943400Z"
    }
   },
   "id": "f3350a2020a22da1"
  },
  {
   "cell_type": "code",
   "execution_count": 9,
   "outputs": [
    {
     "data": {
      "text/plain": "   user_id  anime_id  rating\n0   750621       199      10\n1   750621     34240       9\n2   750621     16498       8\n3   750621     25777       9\n4   750621     35760       9",
      "text/html": "<div>\n<style scoped>\n    .dataframe tbody tr th:only-of-type {\n        vertical-align: middle;\n    }\n\n    .dataframe tbody tr th {\n        vertical-align: top;\n    }\n\n    .dataframe thead th {\n        text-align: right;\n    }\n</style>\n<table border=\"1\" class=\"dataframe\">\n  <thead>\n    <tr style=\"text-align: right;\">\n      <th></th>\n      <th>user_id</th>\n      <th>anime_id</th>\n      <th>rating</th>\n    </tr>\n  </thead>\n  <tbody>\n    <tr>\n      <th>0</th>\n      <td>750621</td>\n      <td>199</td>\n      <td>10</td>\n    </tr>\n    <tr>\n      <th>1</th>\n      <td>750621</td>\n      <td>34240</td>\n      <td>9</td>\n    </tr>\n    <tr>\n      <th>2</th>\n      <td>750621</td>\n      <td>16498</td>\n      <td>8</td>\n    </tr>\n    <tr>\n      <th>3</th>\n      <td>750621</td>\n      <td>25777</td>\n      <td>9</td>\n    </tr>\n    <tr>\n      <th>4</th>\n      <td>750621</td>\n      <td>35760</td>\n      <td>9</td>\n    </tr>\n  </tbody>\n</table>\n</div>"
     },
     "execution_count": 9,
     "metadata": {},
     "output_type": "execute_result"
    }
   ],
   "source": [
    "score.head()"
   ],
   "metadata": {
    "collapsed": false,
    "ExecuteTime": {
     "end_time": "2024-02-11T09:56:14.037086200Z",
     "start_time": "2024-02-11T09:56:13.984794500Z"
    }
   },
   "id": "3c1fc923ae44c8ed"
  },
  {
   "cell_type": "code",
   "execution_count": 11,
   "outputs": [
    {
     "data": {
      "text/plain": "(24905, 24)"
     },
     "execution_count": 11,
     "metadata": {},
     "output_type": "execute_result"
    }
   ],
   "source": [
    "anime = pd.read_csv('anime-dataset-2023.csv')\n",
    "anime.shape"
   ],
   "metadata": {
    "collapsed": false,
    "ExecuteTime": {
     "end_time": "2024-02-11T09:57:17.375182600Z",
     "start_time": "2024-02-11T09:57:16.676468400Z"
    }
   },
   "id": "939efca9ed9061c1"
  },
  {
   "cell_type": "code",
   "execution_count": 12,
   "outputs": [
    {
     "data": {
      "text/plain": "       anime_id                             Name             English name  \\\n0             1                     Cowboy Bebop             Cowboy Bebop   \n1             5  Cowboy Bebop: Tengoku no Tobira  Cowboy Bebop: The Movie   \n2             6                           Trigun                   Trigun   \n3             7               Witch Hunter Robin       Witch Hunter Robin   \n4             8                   Bouken Ou Beet   Beet the Vandel Buster   \n...         ...                              ...                      ...   \n24900     55731                      Wu Nao Monu                  UNKNOWN   \n24901     55732              Bu Xing Si: Yuan Qi              Blader Soul   \n24902     55733                      Di Yi Xulie          The First Order   \n24903     55734         Bokura no Saishuu Sensou                  UNKNOWN   \n24904     55735                   Shijuuku Nichi                  UNKNOWN   \n\n                             Other name    Score  \\\n0                             カウボーイビバップ     8.75   \n1                        カウボーイビバップ 天国の扉     8.38   \n2                                 トライガン     8.22   \n3      Witch Hunter ROBIN (ウイッチハンターロビン)     7.25   \n4                                冒険王ビィト     6.94   \n...                                 ...      ...   \n24900                              无脑魔女  UNKNOWN   \n24901                            捕星司·源起  UNKNOWN   \n24902                              第一序列  UNKNOWN   \n24903                           僕らの最終戦争  UNKNOWN   \n24904                              四十九日  UNKNOWN   \n\n                                     Genres  \\\n0             Action, Award Winning, Sci-Fi   \n1                            Action, Sci-Fi   \n2                 Action, Adventure, Sci-Fi   \n3      Action, Drama, Mystery, Supernatural   \n4          Adventure, Fantasy, Supernatural   \n...                                     ...   \n24900        Comedy, Fantasy, Slice of Life   \n24901            Action, Adventure, Fantasy   \n24902    Action, Adventure, Fantasy, Sci-Fi   \n24903                               UNKNOWN   \n24904                               UNKNOWN   \n\n                                                Synopsis   Type Episodes  \\\n0      Crime is timeless. By the year 2071, humanity ...     TV     26.0   \n1      Another day, another bounty—such is the life o...  Movie      1.0   \n2      Vash the Stampede is the man with a $$60,000,0...     TV     26.0   \n3      Robin Sena is a powerful craft user drafted in...     TV     26.0   \n4      It is the dark century and the people are suff...     TV     52.0   \n...                                                  ...    ...      ...   \n24900           No description available for this anime.    ONA     15.0   \n24901           No description available for this anime.    ONA     18.0   \n24902           No description available for this anime.    ONA     16.0   \n24903  A music video for the song Bokura no Saishuu S...  Music      1.0   \n24904  A music video for the song Shijuuku Nichi by S...  Music      1.0   \n\n                              Aired  ...         Studios     Source  \\\n0       Apr 3, 1998 to Apr 24, 1999  ...         Sunrise   Original   \n1                       Sep 1, 2001  ...           Bones   Original   \n2       Apr 1, 1998 to Sep 30, 1998  ...        Madhouse      Manga   \n3       Jul 3, 2002 to Dec 25, 2002  ...         Sunrise   Original   \n4      Sep 30, 2004 to Sep 29, 2005  ...  Toei Animation      Manga   \n...                             ...  ...             ...        ...   \n24900              Jul 4, 2023 to ?  ...         UNKNOWN  Web manga   \n24901             Jul 27, 2023 to ?  ...         UNKNOWN  Web novel   \n24902             Jul 19, 2023 to ?  ...         UNKNOWN  Web novel   \n24903                  Apr 23, 2022  ...         UNKNOWN   Original   \n24904                   Sep 5, 2022  ...         UNKNOWN   Original   \n\n            Duration                          Rating     Rank Popularity  \\\n0      24 min per ep  R - 17+ (violence & profanity)     41.0         43   \n1        1 hr 55 min  R - 17+ (violence & profanity)    189.0        602   \n2      24 min per ep       PG-13 - Teens 13 or older    328.0        246   \n3      25 min per ep       PG-13 - Teens 13 or older   2764.0       1795   \n4      23 min per ep                   PG - Children   4240.0       5126   \n...              ...                             ...      ...        ...   \n24900        Unknown       PG-13 - Teens 13 or older  UNKNOWN      24723   \n24901        Unknown       PG-13 - Teens 13 or older      0.0          0   \n24902        Unknown       PG-13 - Teens 13 or older      0.0          0   \n24903          3 min       PG-13 - Teens 13 or older      0.0          0   \n24904          3 min       PG-13 - Teens 13 or older      0.0          0   \n\n      Favorites Scored By  Members  \\\n0         78525  914193.0  1771505   \n1          1448  206248.0   360978   \n2         15035  356739.0   727252   \n3           613   42829.0   111931   \n4            14    6413.0    15001   \n...         ...       ...      ...   \n24900         0   UNKNOWN        0   \n24901         0   UNKNOWN        0   \n24902         0   UNKNOWN        0   \n24903         0   UNKNOWN        0   \n24904         0   UNKNOWN        0   \n\n                                               Image URL  \n0      https://cdn.myanimelist.net/images/anime/4/196...  \n1      https://cdn.myanimelist.net/images/anime/1439/...  \n2      https://cdn.myanimelist.net/images/anime/7/203...  \n3      https://cdn.myanimelist.net/images/anime/10/19...  \n4      https://cdn.myanimelist.net/images/anime/7/215...  \n...                                                  ...  \n24900  https://cdn.myanimelist.net/images/anime/1386/...  \n24901  https://cdn.myanimelist.net/images/anime/1383/...  \n24902  https://cdn.myanimelist.net/images/anime/1130/...  \n24903  https://cdn.myanimelist.net/images/anime/1931/...  \n24904  https://cdn.myanimelist.net/images/anime/1902/...  \n\n[24905 rows x 24 columns]",
      "text/html": "<div>\n<style scoped>\n    .dataframe tbody tr th:only-of-type {\n        vertical-align: middle;\n    }\n\n    .dataframe tbody tr th {\n        vertical-align: top;\n    }\n\n    .dataframe thead th {\n        text-align: right;\n    }\n</style>\n<table border=\"1\" class=\"dataframe\">\n  <thead>\n    <tr style=\"text-align: right;\">\n      <th></th>\n      <th>anime_id</th>\n      <th>Name</th>\n      <th>English name</th>\n      <th>Other name</th>\n      <th>Score</th>\n      <th>Genres</th>\n      <th>Synopsis</th>\n      <th>Type</th>\n      <th>Episodes</th>\n      <th>Aired</th>\n      <th>...</th>\n      <th>Studios</th>\n      <th>Source</th>\n      <th>Duration</th>\n      <th>Rating</th>\n      <th>Rank</th>\n      <th>Popularity</th>\n      <th>Favorites</th>\n      <th>Scored By</th>\n      <th>Members</th>\n      <th>Image URL</th>\n    </tr>\n  </thead>\n  <tbody>\n    <tr>\n      <th>0</th>\n      <td>1</td>\n      <td>Cowboy Bebop</td>\n      <td>Cowboy Bebop</td>\n      <td>カウボーイビバップ</td>\n      <td>8.75</td>\n      <td>Action, Award Winning, Sci-Fi</td>\n      <td>Crime is timeless. By the year 2071, humanity ...</td>\n      <td>TV</td>\n      <td>26.0</td>\n      <td>Apr 3, 1998 to Apr 24, 1999</td>\n      <td>...</td>\n      <td>Sunrise</td>\n      <td>Original</td>\n      <td>24 min per ep</td>\n      <td>R - 17+ (violence &amp; profanity)</td>\n      <td>41.0</td>\n      <td>43</td>\n      <td>78525</td>\n      <td>914193.0</td>\n      <td>1771505</td>\n      <td>https://cdn.myanimelist.net/images/anime/4/196...</td>\n    </tr>\n    <tr>\n      <th>1</th>\n      <td>5</td>\n      <td>Cowboy Bebop: Tengoku no Tobira</td>\n      <td>Cowboy Bebop: The Movie</td>\n      <td>カウボーイビバップ 天国の扉</td>\n      <td>8.38</td>\n      <td>Action, Sci-Fi</td>\n      <td>Another day, another bounty—such is the life o...</td>\n      <td>Movie</td>\n      <td>1.0</td>\n      <td>Sep 1, 2001</td>\n      <td>...</td>\n      <td>Bones</td>\n      <td>Original</td>\n      <td>1 hr 55 min</td>\n      <td>R - 17+ (violence &amp; profanity)</td>\n      <td>189.0</td>\n      <td>602</td>\n      <td>1448</td>\n      <td>206248.0</td>\n      <td>360978</td>\n      <td>https://cdn.myanimelist.net/images/anime/1439/...</td>\n    </tr>\n    <tr>\n      <th>2</th>\n      <td>6</td>\n      <td>Trigun</td>\n      <td>Trigun</td>\n      <td>トライガン</td>\n      <td>8.22</td>\n      <td>Action, Adventure, Sci-Fi</td>\n      <td>Vash the Stampede is the man with a $$60,000,0...</td>\n      <td>TV</td>\n      <td>26.0</td>\n      <td>Apr 1, 1998 to Sep 30, 1998</td>\n      <td>...</td>\n      <td>Madhouse</td>\n      <td>Manga</td>\n      <td>24 min per ep</td>\n      <td>PG-13 - Teens 13 or older</td>\n      <td>328.0</td>\n      <td>246</td>\n      <td>15035</td>\n      <td>356739.0</td>\n      <td>727252</td>\n      <td>https://cdn.myanimelist.net/images/anime/7/203...</td>\n    </tr>\n    <tr>\n      <th>3</th>\n      <td>7</td>\n      <td>Witch Hunter Robin</td>\n      <td>Witch Hunter Robin</td>\n      <td>Witch Hunter ROBIN (ウイッチハンターロビン)</td>\n      <td>7.25</td>\n      <td>Action, Drama, Mystery, Supernatural</td>\n      <td>Robin Sena is a powerful craft user drafted in...</td>\n      <td>TV</td>\n      <td>26.0</td>\n      <td>Jul 3, 2002 to Dec 25, 2002</td>\n      <td>...</td>\n      <td>Sunrise</td>\n      <td>Original</td>\n      <td>25 min per ep</td>\n      <td>PG-13 - Teens 13 or older</td>\n      <td>2764.0</td>\n      <td>1795</td>\n      <td>613</td>\n      <td>42829.0</td>\n      <td>111931</td>\n      <td>https://cdn.myanimelist.net/images/anime/10/19...</td>\n    </tr>\n    <tr>\n      <th>4</th>\n      <td>8</td>\n      <td>Bouken Ou Beet</td>\n      <td>Beet the Vandel Buster</td>\n      <td>冒険王ビィト</td>\n      <td>6.94</td>\n      <td>Adventure, Fantasy, Supernatural</td>\n      <td>It is the dark century and the people are suff...</td>\n      <td>TV</td>\n      <td>52.0</td>\n      <td>Sep 30, 2004 to Sep 29, 2005</td>\n      <td>...</td>\n      <td>Toei Animation</td>\n      <td>Manga</td>\n      <td>23 min per ep</td>\n      <td>PG - Children</td>\n      <td>4240.0</td>\n      <td>5126</td>\n      <td>14</td>\n      <td>6413.0</td>\n      <td>15001</td>\n      <td>https://cdn.myanimelist.net/images/anime/7/215...</td>\n    </tr>\n    <tr>\n      <th>...</th>\n      <td>...</td>\n      <td>...</td>\n      <td>...</td>\n      <td>...</td>\n      <td>...</td>\n      <td>...</td>\n      <td>...</td>\n      <td>...</td>\n      <td>...</td>\n      <td>...</td>\n      <td>...</td>\n      <td>...</td>\n      <td>...</td>\n      <td>...</td>\n      <td>...</td>\n      <td>...</td>\n      <td>...</td>\n      <td>...</td>\n      <td>...</td>\n      <td>...</td>\n      <td>...</td>\n    </tr>\n    <tr>\n      <th>24900</th>\n      <td>55731</td>\n      <td>Wu Nao Monu</td>\n      <td>UNKNOWN</td>\n      <td>无脑魔女</td>\n      <td>UNKNOWN</td>\n      <td>Comedy, Fantasy, Slice of Life</td>\n      <td>No description available for this anime.</td>\n      <td>ONA</td>\n      <td>15.0</td>\n      <td>Jul 4, 2023 to ?</td>\n      <td>...</td>\n      <td>UNKNOWN</td>\n      <td>Web manga</td>\n      <td>Unknown</td>\n      <td>PG-13 - Teens 13 or older</td>\n      <td>UNKNOWN</td>\n      <td>24723</td>\n      <td>0</td>\n      <td>UNKNOWN</td>\n      <td>0</td>\n      <td>https://cdn.myanimelist.net/images/anime/1386/...</td>\n    </tr>\n    <tr>\n      <th>24901</th>\n      <td>55732</td>\n      <td>Bu Xing Si: Yuan Qi</td>\n      <td>Blader Soul</td>\n      <td>捕星司·源起</td>\n      <td>UNKNOWN</td>\n      <td>Action, Adventure, Fantasy</td>\n      <td>No description available for this anime.</td>\n      <td>ONA</td>\n      <td>18.0</td>\n      <td>Jul 27, 2023 to ?</td>\n      <td>...</td>\n      <td>UNKNOWN</td>\n      <td>Web novel</td>\n      <td>Unknown</td>\n      <td>PG-13 - Teens 13 or older</td>\n      <td>0.0</td>\n      <td>0</td>\n      <td>0</td>\n      <td>UNKNOWN</td>\n      <td>0</td>\n      <td>https://cdn.myanimelist.net/images/anime/1383/...</td>\n    </tr>\n    <tr>\n      <th>24902</th>\n      <td>55733</td>\n      <td>Di Yi Xulie</td>\n      <td>The First Order</td>\n      <td>第一序列</td>\n      <td>UNKNOWN</td>\n      <td>Action, Adventure, Fantasy, Sci-Fi</td>\n      <td>No description available for this anime.</td>\n      <td>ONA</td>\n      <td>16.0</td>\n      <td>Jul 19, 2023 to ?</td>\n      <td>...</td>\n      <td>UNKNOWN</td>\n      <td>Web novel</td>\n      <td>Unknown</td>\n      <td>PG-13 - Teens 13 or older</td>\n      <td>0.0</td>\n      <td>0</td>\n      <td>0</td>\n      <td>UNKNOWN</td>\n      <td>0</td>\n      <td>https://cdn.myanimelist.net/images/anime/1130/...</td>\n    </tr>\n    <tr>\n      <th>24903</th>\n      <td>55734</td>\n      <td>Bokura no Saishuu Sensou</td>\n      <td>UNKNOWN</td>\n      <td>僕らの最終戦争</td>\n      <td>UNKNOWN</td>\n      <td>UNKNOWN</td>\n      <td>A music video for the song Bokura no Saishuu S...</td>\n      <td>Music</td>\n      <td>1.0</td>\n      <td>Apr 23, 2022</td>\n      <td>...</td>\n      <td>UNKNOWN</td>\n      <td>Original</td>\n      <td>3 min</td>\n      <td>PG-13 - Teens 13 or older</td>\n      <td>0.0</td>\n      <td>0</td>\n      <td>0</td>\n      <td>UNKNOWN</td>\n      <td>0</td>\n      <td>https://cdn.myanimelist.net/images/anime/1931/...</td>\n    </tr>\n    <tr>\n      <th>24904</th>\n      <td>55735</td>\n      <td>Shijuuku Nichi</td>\n      <td>UNKNOWN</td>\n      <td>四十九日</td>\n      <td>UNKNOWN</td>\n      <td>UNKNOWN</td>\n      <td>A music video for the song Shijuuku Nichi by S...</td>\n      <td>Music</td>\n      <td>1.0</td>\n      <td>Sep 5, 2022</td>\n      <td>...</td>\n      <td>UNKNOWN</td>\n      <td>Original</td>\n      <td>3 min</td>\n      <td>PG-13 - Teens 13 or older</td>\n      <td>0.0</td>\n      <td>0</td>\n      <td>0</td>\n      <td>UNKNOWN</td>\n      <td>0</td>\n      <td>https://cdn.myanimelist.net/images/anime/1902/...</td>\n    </tr>\n  </tbody>\n</table>\n<p>24905 rows × 24 columns</p>\n</div>"
     },
     "execution_count": 12,
     "metadata": {},
     "output_type": "execute_result"
    }
   ],
   "source": [
    "anime"
   ],
   "metadata": {
    "collapsed": false,
    "ExecuteTime": {
     "end_time": "2024-02-11T09:57:20.771538400Z",
     "start_time": "2024-02-11T09:57:20.642153300Z"
    }
   },
   "id": "38221b4663f21dd7"
  },
  {
   "cell_type": "code",
   "execution_count": 106,
   "outputs": [
    {
     "data": {
      "text/plain": "         Mal ID    Username  Mean Score  Total Entries  Ratings\n0             1       Xinil        7.37          399.0        0\n1             3     Aokaado        7.34          343.0        0\n2             4     Crystal        6.68         1000.0        0\n3             9      Arcane        7.71           66.0        0\n4            18         Mad        6.27          153.0        0\n...         ...         ...         ...            ...      ...\n731285  1291083      Dolopa        0.00            0.0        0\n731286  1291085  alenrobnik        8.22          126.0        0\n731287  1291087   Oblongata        7.53          433.0        0\n731288  1291091      Etnota        0.00            0.0        0\n731289  1291097  JuunanaSai        9.67           14.0        0\n\n[731290 rows x 5 columns]",
      "text/html": "<div>\n<style scoped>\n    .dataframe tbody tr th:only-of-type {\n        vertical-align: middle;\n    }\n\n    .dataframe tbody tr th {\n        vertical-align: top;\n    }\n\n    .dataframe thead th {\n        text-align: right;\n    }\n</style>\n<table border=\"1\" class=\"dataframe\">\n  <thead>\n    <tr style=\"text-align: right;\">\n      <th></th>\n      <th>Mal ID</th>\n      <th>Username</th>\n      <th>Mean Score</th>\n      <th>Total Entries</th>\n      <th>Ratings</th>\n    </tr>\n  </thead>\n  <tbody>\n    <tr>\n      <th>0</th>\n      <td>1</td>\n      <td>Xinil</td>\n      <td>7.37</td>\n      <td>399.0</td>\n      <td>0</td>\n    </tr>\n    <tr>\n      <th>1</th>\n      <td>3</td>\n      <td>Aokaado</td>\n      <td>7.34</td>\n      <td>343.0</td>\n      <td>0</td>\n    </tr>\n    <tr>\n      <th>2</th>\n      <td>4</td>\n      <td>Crystal</td>\n      <td>6.68</td>\n      <td>1000.0</td>\n      <td>0</td>\n    </tr>\n    <tr>\n      <th>3</th>\n      <td>9</td>\n      <td>Arcane</td>\n      <td>7.71</td>\n      <td>66.0</td>\n      <td>0</td>\n    </tr>\n    <tr>\n      <th>4</th>\n      <td>18</td>\n      <td>Mad</td>\n      <td>6.27</td>\n      <td>153.0</td>\n      <td>0</td>\n    </tr>\n    <tr>\n      <th>...</th>\n      <td>...</td>\n      <td>...</td>\n      <td>...</td>\n      <td>...</td>\n      <td>...</td>\n    </tr>\n    <tr>\n      <th>731285</th>\n      <td>1291083</td>\n      <td>Dolopa</td>\n      <td>0.00</td>\n      <td>0.0</td>\n      <td>0</td>\n    </tr>\n    <tr>\n      <th>731286</th>\n      <td>1291085</td>\n      <td>alenrobnik</td>\n      <td>8.22</td>\n      <td>126.0</td>\n      <td>0</td>\n    </tr>\n    <tr>\n      <th>731287</th>\n      <td>1291087</td>\n      <td>Oblongata</td>\n      <td>7.53</td>\n      <td>433.0</td>\n      <td>0</td>\n    </tr>\n    <tr>\n      <th>731288</th>\n      <td>1291091</td>\n      <td>Etnota</td>\n      <td>0.00</td>\n      <td>0.0</td>\n      <td>0</td>\n    </tr>\n    <tr>\n      <th>731289</th>\n      <td>1291097</td>\n      <td>JuunanaSai</td>\n      <td>9.67</td>\n      <td>14.0</td>\n      <td>0</td>\n    </tr>\n  </tbody>\n</table>\n<p>731290 rows × 5 columns</p>\n</div>"
     },
     "execution_count": 106,
     "metadata": {},
     "output_type": "execute_result"
    }
   ],
   "source": [
    "users"
   ],
   "metadata": {
    "collapsed": false,
    "ExecuteTime": {
     "end_time": "2024-02-11T11:15:16.374487600Z",
     "start_time": "2024-02-11T11:15:16.357193100Z"
    }
   },
   "id": "ee8d00b26b8d926e"
  },
  {
   "cell_type": "code",
   "execution_count": 100,
   "outputs": [],
   "source": [
    "users['Ratings'] = 0"
   ],
   "metadata": {
    "collapsed": false,
    "ExecuteTime": {
     "end_time": "2024-02-11T11:12:37.883512100Z",
     "start_time": "2024-02-11T11:12:37.860794900Z"
    }
   },
   "id": "44bcd79d204eb774"
  },
  {
   "cell_type": "code",
   "execution_count": 101,
   "outputs": [
    {
     "data": {
      "text/plain": "         Mal ID    Username  Mean Score  Total Entries  Ratings\n0             1       Xinil        7.37          399.0        0\n1             3     Aokaado        7.34          343.0        0\n2             4     Crystal        6.68         1000.0        0\n3             9      Arcane        7.71           66.0        0\n4            18         Mad        6.27          153.0        0\n...         ...         ...         ...            ...      ...\n731285  1291083      Dolopa        0.00            0.0        0\n731286  1291085  alenrobnik        8.22          126.0        0\n731287  1291087   Oblongata        7.53          433.0        0\n731288  1291091      Etnota        0.00            0.0        0\n731289  1291097  JuunanaSai        9.67           14.0        0\n\n[731290 rows x 5 columns]",
      "text/html": "<div>\n<style scoped>\n    .dataframe tbody tr th:only-of-type {\n        vertical-align: middle;\n    }\n\n    .dataframe tbody tr th {\n        vertical-align: top;\n    }\n\n    .dataframe thead th {\n        text-align: right;\n    }\n</style>\n<table border=\"1\" class=\"dataframe\">\n  <thead>\n    <tr style=\"text-align: right;\">\n      <th></th>\n      <th>Mal ID</th>\n      <th>Username</th>\n      <th>Mean Score</th>\n      <th>Total Entries</th>\n      <th>Ratings</th>\n    </tr>\n  </thead>\n  <tbody>\n    <tr>\n      <th>0</th>\n      <td>1</td>\n      <td>Xinil</td>\n      <td>7.37</td>\n      <td>399.0</td>\n      <td>0</td>\n    </tr>\n    <tr>\n      <th>1</th>\n      <td>3</td>\n      <td>Aokaado</td>\n      <td>7.34</td>\n      <td>343.0</td>\n      <td>0</td>\n    </tr>\n    <tr>\n      <th>2</th>\n      <td>4</td>\n      <td>Crystal</td>\n      <td>6.68</td>\n      <td>1000.0</td>\n      <td>0</td>\n    </tr>\n    <tr>\n      <th>3</th>\n      <td>9</td>\n      <td>Arcane</td>\n      <td>7.71</td>\n      <td>66.0</td>\n      <td>0</td>\n    </tr>\n    <tr>\n      <th>4</th>\n      <td>18</td>\n      <td>Mad</td>\n      <td>6.27</td>\n      <td>153.0</td>\n      <td>0</td>\n    </tr>\n    <tr>\n      <th>...</th>\n      <td>...</td>\n      <td>...</td>\n      <td>...</td>\n      <td>...</td>\n      <td>...</td>\n    </tr>\n    <tr>\n      <th>731285</th>\n      <td>1291083</td>\n      <td>Dolopa</td>\n      <td>0.00</td>\n      <td>0.0</td>\n      <td>0</td>\n    </tr>\n    <tr>\n      <th>731286</th>\n      <td>1291085</td>\n      <td>alenrobnik</td>\n      <td>8.22</td>\n      <td>126.0</td>\n      <td>0</td>\n    </tr>\n    <tr>\n      <th>731287</th>\n      <td>1291087</td>\n      <td>Oblongata</td>\n      <td>7.53</td>\n      <td>433.0</td>\n      <td>0</td>\n    </tr>\n    <tr>\n      <th>731288</th>\n      <td>1291091</td>\n      <td>Etnota</td>\n      <td>0.00</td>\n      <td>0.0</td>\n      <td>0</td>\n    </tr>\n    <tr>\n      <th>731289</th>\n      <td>1291097</td>\n      <td>JuunanaSai</td>\n      <td>9.67</td>\n      <td>14.0</td>\n      <td>0</td>\n    </tr>\n  </tbody>\n</table>\n<p>731290 rows × 5 columns</p>\n</div>"
     },
     "execution_count": 101,
     "metadata": {},
     "output_type": "execute_result"
    }
   ],
   "source": [
    "users"
   ],
   "metadata": {
    "collapsed": false,
    "ExecuteTime": {
     "end_time": "2024-02-11T11:12:38.710607400Z",
     "start_time": "2024-02-11T11:12:38.691954500Z"
    }
   },
   "id": "92f932fb16e82ddd"
  },
  {
   "cell_type": "code",
   "execution_count": 79,
   "outputs": [],
   "source": [
    "rating = pd.read_parquet(f'score/users_scores_0.parquet')"
   ],
   "metadata": {
    "collapsed": false,
    "ExecuteTime": {
     "end_time": "2024-02-11T10:59:28.529407900Z",
     "start_time": "2024-02-11T10:59:28.340205900Z"
    }
   },
   "id": "29beb233e10ef9cf"
  },
  {
   "cell_type": "code",
   "execution_count": 103,
   "outputs": [
    {
     "name": "stdout",
     "output_type": "stream",
     "text": [
      "<class 'pandas.core.frame.DataFrame'>\n",
      "RangeIndex: 48039 entries, 0 to 48038\n",
      "Data columns (total 2 columns):\n",
      " #   Column   Non-Null Count  Dtype\n",
      "---  ------   --------------  -----\n",
      " 0   user_id  48039 non-null  int64\n",
      " 1   count    48039 non-null  int64\n",
      "dtypes: int64(2)\n",
      "memory usage: 750.7 KB\n"
     ]
    }
   ],
   "source": [
    "counter = rating.groupby(\"user_id\").agg(count=('user_id', 'count')).reset_index()\n",
    "counter.info()"
   ],
   "metadata": {
    "collapsed": false,
    "ExecuteTime": {
     "end_time": "2024-02-11T11:13:12.231580400Z",
     "start_time": "2024-02-11T11:13:12.083229700Z"
    }
   },
   "id": "3cab9b458aa49d75"
  },
  {
   "cell_type": "code",
   "execution_count": 105,
   "outputs": [
    {
     "data": {
      "text/plain": "0         0\n1         0\n2         0\n3         0\n4         0\n         ..\n731285    0\n731286    0\n731287    0\n731288    0\n731289    0\nName: Ratings, Length: 731290, dtype: int64"
     },
     "execution_count": 105,
     "metadata": {},
     "output_type": "execute_result"
    }
   ],
   "source": [
    "users['Ratings']"
   ],
   "metadata": {
    "collapsed": false,
    "ExecuteTime": {
     "end_time": "2024-02-11T11:15:10.314311900Z",
     "start_time": "2024-02-11T11:15:10.288445300Z"
    }
   },
   "id": "323bea2698d6566c"
  },
  {
   "cell_type": "code",
   "execution_count": 109,
   "outputs": [],
   "source": [
    "users = df[['Mal ID', 'Username', 'Mean Score', 'Total Entries']].copy()\n",
    "rating = pd.read_parquet(f'score/users_scores_4.parquet')\n",
    "counter = rating.groupby(\"user_id\").agg(count=('user_id', 'count')).reset_index()"
   ],
   "metadata": {
    "collapsed": false,
    "ExecuteTime": {
     "end_time": "2024-02-11T11:19:15.383775200Z",
     "start_time": "2024-02-11T11:19:14.786324500Z"
    }
   },
   "id": "1861a031b23fada6"
  },
  {
   "cell_type": "code",
   "execution_count": 113,
   "outputs": [],
   "source": [
    "merged = users.merge(counter, how='left', left_on='Mal ID', right_on='user_id')"
   ],
   "metadata": {
    "collapsed": false,
    "ExecuteTime": {
     "end_time": "2024-02-11T11:21:22.397229300Z",
     "start_time": "2024-02-11T11:21:21.588692100Z"
    }
   },
   "id": "5455721fa924909f"
  },
  {
   "cell_type": "code",
   "execution_count": 114,
   "outputs": [
    {
     "data": {
      "text/plain": "         Mal ID    Username  Mean Score  Total Entries    user_id  count\n0             1       Xinil        7.37          399.0        NaN    NaN\n1             3     Aokaado        7.34          343.0        NaN    NaN\n2             4     Crystal        6.68         1000.0        NaN    NaN\n3             9      Arcane        7.71           66.0        NaN    NaN\n4            18         Mad        6.27          153.0        NaN    NaN\n...         ...         ...         ...            ...        ...    ...\n731285  1291083      Dolopa        0.00            0.0        NaN    NaN\n731286  1291085  alenrobnik        8.22          126.0  1291085.0   59.0\n731287  1291087   Oblongata        7.53          433.0  1291087.0  210.0\n731288  1291091      Etnota        0.00            0.0        NaN    NaN\n731289  1291097  JuunanaSai        9.67           14.0  1291097.0    3.0\n\n[731290 rows x 6 columns]",
      "text/html": "<div>\n<style scoped>\n    .dataframe tbody tr th:only-of-type {\n        vertical-align: middle;\n    }\n\n    .dataframe tbody tr th {\n        vertical-align: top;\n    }\n\n    .dataframe thead th {\n        text-align: right;\n    }\n</style>\n<table border=\"1\" class=\"dataframe\">\n  <thead>\n    <tr style=\"text-align: right;\">\n      <th></th>\n      <th>Mal ID</th>\n      <th>Username</th>\n      <th>Mean Score</th>\n      <th>Total Entries</th>\n      <th>user_id</th>\n      <th>count</th>\n    </tr>\n  </thead>\n  <tbody>\n    <tr>\n      <th>0</th>\n      <td>1</td>\n      <td>Xinil</td>\n      <td>7.37</td>\n      <td>399.0</td>\n      <td>NaN</td>\n      <td>NaN</td>\n    </tr>\n    <tr>\n      <th>1</th>\n      <td>3</td>\n      <td>Aokaado</td>\n      <td>7.34</td>\n      <td>343.0</td>\n      <td>NaN</td>\n      <td>NaN</td>\n    </tr>\n    <tr>\n      <th>2</th>\n      <td>4</td>\n      <td>Crystal</td>\n      <td>6.68</td>\n      <td>1000.0</td>\n      <td>NaN</td>\n      <td>NaN</td>\n    </tr>\n    <tr>\n      <th>3</th>\n      <td>9</td>\n      <td>Arcane</td>\n      <td>7.71</td>\n      <td>66.0</td>\n      <td>NaN</td>\n      <td>NaN</td>\n    </tr>\n    <tr>\n      <th>4</th>\n      <td>18</td>\n      <td>Mad</td>\n      <td>6.27</td>\n      <td>153.0</td>\n      <td>NaN</td>\n      <td>NaN</td>\n    </tr>\n    <tr>\n      <th>...</th>\n      <td>...</td>\n      <td>...</td>\n      <td>...</td>\n      <td>...</td>\n      <td>...</td>\n      <td>...</td>\n    </tr>\n    <tr>\n      <th>731285</th>\n      <td>1291083</td>\n      <td>Dolopa</td>\n      <td>0.00</td>\n      <td>0.0</td>\n      <td>NaN</td>\n      <td>NaN</td>\n    </tr>\n    <tr>\n      <th>731286</th>\n      <td>1291085</td>\n      <td>alenrobnik</td>\n      <td>8.22</td>\n      <td>126.0</td>\n      <td>1291085.0</td>\n      <td>59.0</td>\n    </tr>\n    <tr>\n      <th>731287</th>\n      <td>1291087</td>\n      <td>Oblongata</td>\n      <td>7.53</td>\n      <td>433.0</td>\n      <td>1291087.0</td>\n      <td>210.0</td>\n    </tr>\n    <tr>\n      <th>731288</th>\n      <td>1291091</td>\n      <td>Etnota</td>\n      <td>0.00</td>\n      <td>0.0</td>\n      <td>NaN</td>\n      <td>NaN</td>\n    </tr>\n    <tr>\n      <th>731289</th>\n      <td>1291097</td>\n      <td>JuunanaSai</td>\n      <td>9.67</td>\n      <td>14.0</td>\n      <td>1291097.0</td>\n      <td>3.0</td>\n    </tr>\n  </tbody>\n</table>\n<p>731290 rows × 6 columns</p>\n</div>"
     },
     "execution_count": 114,
     "metadata": {},
     "output_type": "execute_result"
    }
   ],
   "source": [
    "merged"
   ],
   "metadata": {
    "collapsed": false,
    "ExecuteTime": {
     "end_time": "2024-02-11T11:21:24.937341200Z",
     "start_time": "2024-02-11T11:21:24.904734900Z"
    }
   },
   "id": "1ac678d7b390cc5c"
  },
  {
   "cell_type": "code",
   "execution_count": 19,
   "outputs": [],
   "source": [
    "users = df[['Mal ID', 'Username', 'Mean Score', 'Total Entries']].copy() \n",
    "\n",
    "for i in range(5):\n",
    "    rating = pd.read_parquet(f'score/users_scores_{i}.parquet')\n",
    "    grouped_rating = rating.groupby(\"user_id\").agg(count=('user_id', 'count')).rename({'count': f'count_{i}'}, axis=1).reset_index()\n",
    "    users = users.merge(grouped_rating, how='left', left_on='Mal ID', right_on='user_id').drop('user_id', axis=1)"
   ],
   "metadata": {
    "collapsed": false,
    "ExecuteTime": {
     "end_time": "2024-02-11T18:48:49.880227500Z",
     "start_time": "2024-02-11T18:48:46.464758Z"
    }
   },
   "id": "579649dd0a14907c"
  },
  {
   "cell_type": "code",
   "execution_count": 23,
   "outputs": [],
   "source": [
    "users[\"Ratings\"] = users[['count_0', 'count_1', 'count_2', 'count_3', 'count_4']].sum(axis=1)"
   ],
   "metadata": {
    "collapsed": false,
    "ExecuteTime": {
     "end_time": "2024-02-11T18:51:12.450479700Z",
     "start_time": "2024-02-11T18:51:12.268968200Z"
    }
   },
   "id": "d3a9c584d93d537e"
  },
  {
   "cell_type": "code",
   "execution_count": 39,
   "outputs": [],
   "source": [
    "users.drop(['count_0', 'count_1', 'count_2', 'count_3', 'count_4'], axis=1, inplace=True)"
   ],
   "metadata": {
    "collapsed": false,
    "ExecuteTime": {
     "end_time": "2024-02-11T18:57:48.865201200Z",
     "start_time": "2024-02-11T18:57:48.795523900Z"
    }
   },
   "id": "1411353898ff73cd"
  },
  {
   "cell_type": "code",
   "execution_count": 29,
   "outputs": [],
   "source": [
    "users['Ratings'] = users['Ratings'].astype('int16')"
   ],
   "metadata": {
    "collapsed": false,
    "ExecuteTime": {
     "end_time": "2024-02-11T18:54:54.631488800Z",
     "start_time": "2024-02-11T18:54:54.596648700Z"
    }
   },
   "id": "835c4515758b22f5"
  },
  {
   "cell_type": "code",
   "execution_count": 30,
   "outputs": [
    {
     "data": {
      "text/plain": "         Mal ID    Username  Mean Score  Total Entries  count_0  count_1  \\\n0             1       Xinil        7.37          399.0    262.0      NaN   \n1             3     Aokaado        7.34          343.0      NaN      NaN   \n2             4     Crystal        6.68         1000.0    284.0      NaN   \n3             9      Arcane        7.71           66.0     65.0      NaN   \n4            18         Mad        6.27          153.0      NaN      NaN   \n...         ...         ...         ...            ...      ...      ...   \n731285  1291083      Dolopa        0.00            0.0      NaN      NaN   \n731286  1291085  alenrobnik        8.22          126.0      NaN      NaN   \n731287  1291087   Oblongata        7.53          433.0      NaN      NaN   \n731288  1291091      Etnota        0.00            0.0      NaN      NaN   \n731289  1291097  JuunanaSai        9.67           14.0      NaN      NaN   \n\n        count_2  count_3  count_4  Ratings  \n0           NaN      NaN      NaN      262  \n1           NaN      NaN      NaN        0  \n2           NaN      NaN      NaN      284  \n3           NaN      NaN      NaN       65  \n4           NaN      NaN      NaN        0  \n...         ...      ...      ...      ...  \n731285      NaN      NaN      NaN        0  \n731286      NaN      NaN     59.0       59  \n731287      NaN      NaN    210.0      210  \n731288      NaN      NaN      NaN        0  \n731289      NaN      NaN      3.0        3  \n\n[731290 rows x 10 columns]",
      "text/html": "<div>\n<style scoped>\n    .dataframe tbody tr th:only-of-type {\n        vertical-align: middle;\n    }\n\n    .dataframe tbody tr th {\n        vertical-align: top;\n    }\n\n    .dataframe thead th {\n        text-align: right;\n    }\n</style>\n<table border=\"1\" class=\"dataframe\">\n  <thead>\n    <tr style=\"text-align: right;\">\n      <th></th>\n      <th>Mal ID</th>\n      <th>Username</th>\n      <th>Mean Score</th>\n      <th>Total Entries</th>\n      <th>count_0</th>\n      <th>count_1</th>\n      <th>count_2</th>\n      <th>count_3</th>\n      <th>count_4</th>\n      <th>Ratings</th>\n    </tr>\n  </thead>\n  <tbody>\n    <tr>\n      <th>0</th>\n      <td>1</td>\n      <td>Xinil</td>\n      <td>7.37</td>\n      <td>399.0</td>\n      <td>262.0</td>\n      <td>NaN</td>\n      <td>NaN</td>\n      <td>NaN</td>\n      <td>NaN</td>\n      <td>262</td>\n    </tr>\n    <tr>\n      <th>1</th>\n      <td>3</td>\n      <td>Aokaado</td>\n      <td>7.34</td>\n      <td>343.0</td>\n      <td>NaN</td>\n      <td>NaN</td>\n      <td>NaN</td>\n      <td>NaN</td>\n      <td>NaN</td>\n      <td>0</td>\n    </tr>\n    <tr>\n      <th>2</th>\n      <td>4</td>\n      <td>Crystal</td>\n      <td>6.68</td>\n      <td>1000.0</td>\n      <td>284.0</td>\n      <td>NaN</td>\n      <td>NaN</td>\n      <td>NaN</td>\n      <td>NaN</td>\n      <td>284</td>\n    </tr>\n    <tr>\n      <th>3</th>\n      <td>9</td>\n      <td>Arcane</td>\n      <td>7.71</td>\n      <td>66.0</td>\n      <td>65.0</td>\n      <td>NaN</td>\n      <td>NaN</td>\n      <td>NaN</td>\n      <td>NaN</td>\n      <td>65</td>\n    </tr>\n    <tr>\n      <th>4</th>\n      <td>18</td>\n      <td>Mad</td>\n      <td>6.27</td>\n      <td>153.0</td>\n      <td>NaN</td>\n      <td>NaN</td>\n      <td>NaN</td>\n      <td>NaN</td>\n      <td>NaN</td>\n      <td>0</td>\n    </tr>\n    <tr>\n      <th>...</th>\n      <td>...</td>\n      <td>...</td>\n      <td>...</td>\n      <td>...</td>\n      <td>...</td>\n      <td>...</td>\n      <td>...</td>\n      <td>...</td>\n      <td>...</td>\n      <td>...</td>\n    </tr>\n    <tr>\n      <th>731285</th>\n      <td>1291083</td>\n      <td>Dolopa</td>\n      <td>0.00</td>\n      <td>0.0</td>\n      <td>NaN</td>\n      <td>NaN</td>\n      <td>NaN</td>\n      <td>NaN</td>\n      <td>NaN</td>\n      <td>0</td>\n    </tr>\n    <tr>\n      <th>731286</th>\n      <td>1291085</td>\n      <td>alenrobnik</td>\n      <td>8.22</td>\n      <td>126.0</td>\n      <td>NaN</td>\n      <td>NaN</td>\n      <td>NaN</td>\n      <td>NaN</td>\n      <td>59.0</td>\n      <td>59</td>\n    </tr>\n    <tr>\n      <th>731287</th>\n      <td>1291087</td>\n      <td>Oblongata</td>\n      <td>7.53</td>\n      <td>433.0</td>\n      <td>NaN</td>\n      <td>NaN</td>\n      <td>NaN</td>\n      <td>NaN</td>\n      <td>210.0</td>\n      <td>210</td>\n    </tr>\n    <tr>\n      <th>731288</th>\n      <td>1291091</td>\n      <td>Etnota</td>\n      <td>0.00</td>\n      <td>0.0</td>\n      <td>NaN</td>\n      <td>NaN</td>\n      <td>NaN</td>\n      <td>NaN</td>\n      <td>NaN</td>\n      <td>0</td>\n    </tr>\n    <tr>\n      <th>731289</th>\n      <td>1291097</td>\n      <td>JuunanaSai</td>\n      <td>9.67</td>\n      <td>14.0</td>\n      <td>NaN</td>\n      <td>NaN</td>\n      <td>NaN</td>\n      <td>NaN</td>\n      <td>3.0</td>\n      <td>3</td>\n    </tr>\n  </tbody>\n</table>\n<p>731290 rows × 10 columns</p>\n</div>"
     },
     "execution_count": 30,
     "metadata": {},
     "output_type": "execute_result"
    }
   ],
   "source": [
    "users"
   ],
   "metadata": {
    "collapsed": false,
    "ExecuteTime": {
     "end_time": "2024-02-11T18:54:58.571281700Z",
     "start_time": "2024-02-11T18:54:58.534828900Z"
    }
   },
   "id": "4a7e71f938d8d93d"
  },
  {
   "cell_type": "code",
   "execution_count": 36,
   "outputs": [],
   "source": [
    "users['Total Entries'].isna().sum()\n",
    "users['Total Entries'].fillna(0, inplace=True)"
   ],
   "metadata": {
    "collapsed": false,
    "ExecuteTime": {
     "end_time": "2024-02-11T18:57:21.976107300Z",
     "start_time": "2024-02-11T18:57:21.940786400Z"
    }
   },
   "id": "bc20d8e1bf974dbb"
  },
  {
   "cell_type": "code",
   "execution_count": 37,
   "outputs": [
    {
     "data": {
      "text/plain": "0"
     },
     "execution_count": 37,
     "metadata": {},
     "output_type": "execute_result"
    }
   ],
   "source": [
    "users['Total Entries'].isna().sum()"
   ],
   "metadata": {
    "collapsed": false,
    "ExecuteTime": {
     "end_time": "2024-02-11T18:57:25.972623400Z",
     "start_time": "2024-02-11T18:57:25.921209400Z"
    }
   },
   "id": "ac9fad9a077604b9"
  },
  {
   "cell_type": "code",
   "execution_count": 41,
   "outputs": [],
   "source": [
    "users['Total Entries'] = users['Total Entries'].astype('int16')"
   ],
   "metadata": {
    "collapsed": false,
    "ExecuteTime": {
     "end_time": "2024-02-11T18:58:33.244245600Z",
     "start_time": "2024-02-11T18:58:33.210693Z"
    }
   },
   "id": "8aeda163671c6bdb"
  },
  {
   "cell_type": "code",
   "execution_count": 43,
   "outputs": [],
   "source": [
    "users['Mean Score'].fillna(0, inplace=True)"
   ],
   "metadata": {
    "collapsed": false,
    "ExecuteTime": {
     "end_time": "2024-02-11T18:59:09.998248100Z",
     "start_time": "2024-02-11T18:59:09.980459100Z"
    }
   },
   "id": "61b9a241da476a69"
  },
  {
   "cell_type": "code",
   "execution_count": 45,
   "outputs": [],
   "source": [
    "users['Username'].fillna('Unknown', inplace=True)"
   ],
   "metadata": {
    "collapsed": false,
    "ExecuteTime": {
     "end_time": "2024-02-11T18:59:57.930376300Z",
     "start_time": "2024-02-11T18:59:57.860514100Z"
    }
   },
   "id": "3f167223b9dd10f5"
  },
  {
   "cell_type": "code",
   "execution_count": 47,
   "outputs": [],
   "source": [
    "users.to_parquet('users/users.parquet', index=False)"
   ],
   "metadata": {
    "collapsed": false,
    "ExecuteTime": {
     "end_time": "2024-02-11T19:01:42.300791200Z",
     "start_time": "2024-02-11T19:01:41.839607Z"
    }
   },
   "id": "e34538a6f81d74bb"
  },
  {
   "cell_type": "code",
   "execution_count": 48,
   "outputs": [],
   "source": [
    "test = pd.read_parquet('users/users.parquet')"
   ],
   "metadata": {
    "collapsed": false,
    "ExecuteTime": {
     "end_time": "2024-02-11T19:01:59.106406100Z",
     "start_time": "2024-02-11T19:01:58.421674200Z"
    }
   },
   "id": "cbcf634da11b2bb6"
  },
  {
   "cell_type": "code",
   "execution_count": 26,
   "outputs": [
    {
     "data": {
      "text/plain": "(24905, 24)"
     },
     "execution_count": 26,
     "metadata": {},
     "output_type": "execute_result"
    }
   ],
   "source": [
    "anime = pd.read_csv('raw/anime-dataset-2023.csv')\n",
    "anime.shape"
   ],
   "metadata": {
    "collapsed": false,
    "ExecuteTime": {
     "end_time": "2024-04-11T17:44:57.560027300Z",
     "start_time": "2024-04-11T17:44:57.043235900Z"
    }
   },
   "id": "980675cde78169f2"
  },
  {
   "cell_type": "code",
   "execution_count": 27,
   "outputs": [
    {
     "data": {
      "text/plain": "       anime_id                             Name             English name  \\\n0             1                     Cowboy Bebop             Cowboy Bebop   \n1             5  Cowboy Bebop: Tengoku no Tobira  Cowboy Bebop: The Movie   \n2             6                           Trigun                   Trigun   \n3             7               Witch Hunter Robin       Witch Hunter Robin   \n4             8                   Bouken Ou Beet   Beet the Vandel Buster   \n...         ...                              ...                      ...   \n24900     55731                      Wu Nao Monu                  UNKNOWN   \n24901     55732              Bu Xing Si: Yuan Qi              Blader Soul   \n24902     55733                      Di Yi Xulie          The First Order   \n24903     55734         Bokura no Saishuu Sensou                  UNKNOWN   \n24904     55735                   Shijuuku Nichi                  UNKNOWN   \n\n                             Other name    Score  \\\n0                             カウボーイビバップ     8.75   \n1                        カウボーイビバップ 天国の扉     8.38   \n2                                 トライガン     8.22   \n3      Witch Hunter ROBIN (ウイッチハンターロビン)     7.25   \n4                                冒険王ビィト     6.94   \n...                                 ...      ...   \n24900                              无脑魔女  UNKNOWN   \n24901                            捕星司·源起  UNKNOWN   \n24902                              第一序列  UNKNOWN   \n24903                           僕らの最終戦争  UNKNOWN   \n24904                              四十九日  UNKNOWN   \n\n                                     Genres  \\\n0             Action, Award Winning, Sci-Fi   \n1                            Action, Sci-Fi   \n2                 Action, Adventure, Sci-Fi   \n3      Action, Drama, Mystery, Supernatural   \n4          Adventure, Fantasy, Supernatural   \n...                                     ...   \n24900        Comedy, Fantasy, Slice of Life   \n24901            Action, Adventure, Fantasy   \n24902    Action, Adventure, Fantasy, Sci-Fi   \n24903                               UNKNOWN   \n24904                               UNKNOWN   \n\n                                                Synopsis   Type Episodes  \\\n0      Crime is timeless. By the year 2071, humanity ...     TV     26.0   \n1      Another day, another bounty—such is the life o...  Movie      1.0   \n2      Vash the Stampede is the man with a $$60,000,0...     TV     26.0   \n3      Robin Sena is a powerful craft user drafted in...     TV     26.0   \n4      It is the dark century and the people are suff...     TV     52.0   \n...                                                  ...    ...      ...   \n24900           No description available for this anime.    ONA     15.0   \n24901           No description available for this anime.    ONA     18.0   \n24902           No description available for this anime.    ONA     16.0   \n24903  A music video for the song Bokura no Saishuu S...  Music      1.0   \n24904  A music video for the song Shijuuku Nichi by S...  Music      1.0   \n\n                              Aired  ...         Studios     Source  \\\n0       Apr 3, 1998 to Apr 24, 1999  ...         Sunrise   Original   \n1                       Sep 1, 2001  ...           Bones   Original   \n2       Apr 1, 1998 to Sep 30, 1998  ...        Madhouse      Manga   \n3       Jul 3, 2002 to Dec 25, 2002  ...         Sunrise   Original   \n4      Sep 30, 2004 to Sep 29, 2005  ...  Toei Animation      Manga   \n...                             ...  ...             ...        ...   \n24900              Jul 4, 2023 to ?  ...         UNKNOWN  Web manga   \n24901             Jul 27, 2023 to ?  ...         UNKNOWN  Web novel   \n24902             Jul 19, 2023 to ?  ...         UNKNOWN  Web novel   \n24903                  Apr 23, 2022  ...         UNKNOWN   Original   \n24904                   Sep 5, 2022  ...         UNKNOWN   Original   \n\n            Duration                          Rating     Rank Popularity  \\\n0      24 min per ep  R - 17+ (violence & profanity)     41.0         43   \n1        1 hr 55 min  R - 17+ (violence & profanity)    189.0        602   \n2      24 min per ep       PG-13 - Teens 13 or older    328.0        246   \n3      25 min per ep       PG-13 - Teens 13 or older   2764.0       1795   \n4      23 min per ep                   PG - Children   4240.0       5126   \n...              ...                             ...      ...        ...   \n24900        Unknown       PG-13 - Teens 13 or older  UNKNOWN      24723   \n24901        Unknown       PG-13 - Teens 13 or older      0.0          0   \n24902        Unknown       PG-13 - Teens 13 or older      0.0          0   \n24903          3 min       PG-13 - Teens 13 or older      0.0          0   \n24904          3 min       PG-13 - Teens 13 or older      0.0          0   \n\n      Favorites Scored By  Members  \\\n0         78525  914193.0  1771505   \n1          1448  206248.0   360978   \n2         15035  356739.0   727252   \n3           613   42829.0   111931   \n4            14    6413.0    15001   \n...         ...       ...      ...   \n24900         0   UNKNOWN        0   \n24901         0   UNKNOWN        0   \n24902         0   UNKNOWN        0   \n24903         0   UNKNOWN        0   \n24904         0   UNKNOWN        0   \n\n                                               Image URL  \n0      https://cdn.myanimelist.net/images/anime/4/196...  \n1      https://cdn.myanimelist.net/images/anime/1439/...  \n2      https://cdn.myanimelist.net/images/anime/7/203...  \n3      https://cdn.myanimelist.net/images/anime/10/19...  \n4      https://cdn.myanimelist.net/images/anime/7/215...  \n...                                                  ...  \n24900  https://cdn.myanimelist.net/images/anime/1386/...  \n24901  https://cdn.myanimelist.net/images/anime/1383/...  \n24902  https://cdn.myanimelist.net/images/anime/1130/...  \n24903  https://cdn.myanimelist.net/images/anime/1931/...  \n24904  https://cdn.myanimelist.net/images/anime/1902/...  \n\n[24905 rows x 24 columns]",
      "text/html": "<div>\n<style scoped>\n    .dataframe tbody tr th:only-of-type {\n        vertical-align: middle;\n    }\n\n    .dataframe tbody tr th {\n        vertical-align: top;\n    }\n\n    .dataframe thead th {\n        text-align: right;\n    }\n</style>\n<table border=\"1\" class=\"dataframe\">\n  <thead>\n    <tr style=\"text-align: right;\">\n      <th></th>\n      <th>anime_id</th>\n      <th>Name</th>\n      <th>English name</th>\n      <th>Other name</th>\n      <th>Score</th>\n      <th>Genres</th>\n      <th>Synopsis</th>\n      <th>Type</th>\n      <th>Episodes</th>\n      <th>Aired</th>\n      <th>...</th>\n      <th>Studios</th>\n      <th>Source</th>\n      <th>Duration</th>\n      <th>Rating</th>\n      <th>Rank</th>\n      <th>Popularity</th>\n      <th>Favorites</th>\n      <th>Scored By</th>\n      <th>Members</th>\n      <th>Image URL</th>\n    </tr>\n  </thead>\n  <tbody>\n    <tr>\n      <th>0</th>\n      <td>1</td>\n      <td>Cowboy Bebop</td>\n      <td>Cowboy Bebop</td>\n      <td>カウボーイビバップ</td>\n      <td>8.75</td>\n      <td>Action, Award Winning, Sci-Fi</td>\n      <td>Crime is timeless. By the year 2071, humanity ...</td>\n      <td>TV</td>\n      <td>26.0</td>\n      <td>Apr 3, 1998 to Apr 24, 1999</td>\n      <td>...</td>\n      <td>Sunrise</td>\n      <td>Original</td>\n      <td>24 min per ep</td>\n      <td>R - 17+ (violence &amp; profanity)</td>\n      <td>41.0</td>\n      <td>43</td>\n      <td>78525</td>\n      <td>914193.0</td>\n      <td>1771505</td>\n      <td>https://cdn.myanimelist.net/images/anime/4/196...</td>\n    </tr>\n    <tr>\n      <th>1</th>\n      <td>5</td>\n      <td>Cowboy Bebop: Tengoku no Tobira</td>\n      <td>Cowboy Bebop: The Movie</td>\n      <td>カウボーイビバップ 天国の扉</td>\n      <td>8.38</td>\n      <td>Action, Sci-Fi</td>\n      <td>Another day, another bounty—such is the life o...</td>\n      <td>Movie</td>\n      <td>1.0</td>\n      <td>Sep 1, 2001</td>\n      <td>...</td>\n      <td>Bones</td>\n      <td>Original</td>\n      <td>1 hr 55 min</td>\n      <td>R - 17+ (violence &amp; profanity)</td>\n      <td>189.0</td>\n      <td>602</td>\n      <td>1448</td>\n      <td>206248.0</td>\n      <td>360978</td>\n      <td>https://cdn.myanimelist.net/images/anime/1439/...</td>\n    </tr>\n    <tr>\n      <th>2</th>\n      <td>6</td>\n      <td>Trigun</td>\n      <td>Trigun</td>\n      <td>トライガン</td>\n      <td>8.22</td>\n      <td>Action, Adventure, Sci-Fi</td>\n      <td>Vash the Stampede is the man with a $$60,000,0...</td>\n      <td>TV</td>\n      <td>26.0</td>\n      <td>Apr 1, 1998 to Sep 30, 1998</td>\n      <td>...</td>\n      <td>Madhouse</td>\n      <td>Manga</td>\n      <td>24 min per ep</td>\n      <td>PG-13 - Teens 13 or older</td>\n      <td>328.0</td>\n      <td>246</td>\n      <td>15035</td>\n      <td>356739.0</td>\n      <td>727252</td>\n      <td>https://cdn.myanimelist.net/images/anime/7/203...</td>\n    </tr>\n    <tr>\n      <th>3</th>\n      <td>7</td>\n      <td>Witch Hunter Robin</td>\n      <td>Witch Hunter Robin</td>\n      <td>Witch Hunter ROBIN (ウイッチハンターロビン)</td>\n      <td>7.25</td>\n      <td>Action, Drama, Mystery, Supernatural</td>\n      <td>Robin Sena is a powerful craft user drafted in...</td>\n      <td>TV</td>\n      <td>26.0</td>\n      <td>Jul 3, 2002 to Dec 25, 2002</td>\n      <td>...</td>\n      <td>Sunrise</td>\n      <td>Original</td>\n      <td>25 min per ep</td>\n      <td>PG-13 - Teens 13 or older</td>\n      <td>2764.0</td>\n      <td>1795</td>\n      <td>613</td>\n      <td>42829.0</td>\n      <td>111931</td>\n      <td>https://cdn.myanimelist.net/images/anime/10/19...</td>\n    </tr>\n    <tr>\n      <th>4</th>\n      <td>8</td>\n      <td>Bouken Ou Beet</td>\n      <td>Beet the Vandel Buster</td>\n      <td>冒険王ビィト</td>\n      <td>6.94</td>\n      <td>Adventure, Fantasy, Supernatural</td>\n      <td>It is the dark century and the people are suff...</td>\n      <td>TV</td>\n      <td>52.0</td>\n      <td>Sep 30, 2004 to Sep 29, 2005</td>\n      <td>...</td>\n      <td>Toei Animation</td>\n      <td>Manga</td>\n      <td>23 min per ep</td>\n      <td>PG - Children</td>\n      <td>4240.0</td>\n      <td>5126</td>\n      <td>14</td>\n      <td>6413.0</td>\n      <td>15001</td>\n      <td>https://cdn.myanimelist.net/images/anime/7/215...</td>\n    </tr>\n    <tr>\n      <th>...</th>\n      <td>...</td>\n      <td>...</td>\n      <td>...</td>\n      <td>...</td>\n      <td>...</td>\n      <td>...</td>\n      <td>...</td>\n      <td>...</td>\n      <td>...</td>\n      <td>...</td>\n      <td>...</td>\n      <td>...</td>\n      <td>...</td>\n      <td>...</td>\n      <td>...</td>\n      <td>...</td>\n      <td>...</td>\n      <td>...</td>\n      <td>...</td>\n      <td>...</td>\n      <td>...</td>\n    </tr>\n    <tr>\n      <th>24900</th>\n      <td>55731</td>\n      <td>Wu Nao Monu</td>\n      <td>UNKNOWN</td>\n      <td>无脑魔女</td>\n      <td>UNKNOWN</td>\n      <td>Comedy, Fantasy, Slice of Life</td>\n      <td>No description available for this anime.</td>\n      <td>ONA</td>\n      <td>15.0</td>\n      <td>Jul 4, 2023 to ?</td>\n      <td>...</td>\n      <td>UNKNOWN</td>\n      <td>Web manga</td>\n      <td>Unknown</td>\n      <td>PG-13 - Teens 13 or older</td>\n      <td>UNKNOWN</td>\n      <td>24723</td>\n      <td>0</td>\n      <td>UNKNOWN</td>\n      <td>0</td>\n      <td>https://cdn.myanimelist.net/images/anime/1386/...</td>\n    </tr>\n    <tr>\n      <th>24901</th>\n      <td>55732</td>\n      <td>Bu Xing Si: Yuan Qi</td>\n      <td>Blader Soul</td>\n      <td>捕星司·源起</td>\n      <td>UNKNOWN</td>\n      <td>Action, Adventure, Fantasy</td>\n      <td>No description available for this anime.</td>\n      <td>ONA</td>\n      <td>18.0</td>\n      <td>Jul 27, 2023 to ?</td>\n      <td>...</td>\n      <td>UNKNOWN</td>\n      <td>Web novel</td>\n      <td>Unknown</td>\n      <td>PG-13 - Teens 13 or older</td>\n      <td>0.0</td>\n      <td>0</td>\n      <td>0</td>\n      <td>UNKNOWN</td>\n      <td>0</td>\n      <td>https://cdn.myanimelist.net/images/anime/1383/...</td>\n    </tr>\n    <tr>\n      <th>24902</th>\n      <td>55733</td>\n      <td>Di Yi Xulie</td>\n      <td>The First Order</td>\n      <td>第一序列</td>\n      <td>UNKNOWN</td>\n      <td>Action, Adventure, Fantasy, Sci-Fi</td>\n      <td>No description available for this anime.</td>\n      <td>ONA</td>\n      <td>16.0</td>\n      <td>Jul 19, 2023 to ?</td>\n      <td>...</td>\n      <td>UNKNOWN</td>\n      <td>Web novel</td>\n      <td>Unknown</td>\n      <td>PG-13 - Teens 13 or older</td>\n      <td>0.0</td>\n      <td>0</td>\n      <td>0</td>\n      <td>UNKNOWN</td>\n      <td>0</td>\n      <td>https://cdn.myanimelist.net/images/anime/1130/...</td>\n    </tr>\n    <tr>\n      <th>24903</th>\n      <td>55734</td>\n      <td>Bokura no Saishuu Sensou</td>\n      <td>UNKNOWN</td>\n      <td>僕らの最終戦争</td>\n      <td>UNKNOWN</td>\n      <td>UNKNOWN</td>\n      <td>A music video for the song Bokura no Saishuu S...</td>\n      <td>Music</td>\n      <td>1.0</td>\n      <td>Apr 23, 2022</td>\n      <td>...</td>\n      <td>UNKNOWN</td>\n      <td>Original</td>\n      <td>3 min</td>\n      <td>PG-13 - Teens 13 or older</td>\n      <td>0.0</td>\n      <td>0</td>\n      <td>0</td>\n      <td>UNKNOWN</td>\n      <td>0</td>\n      <td>https://cdn.myanimelist.net/images/anime/1931/...</td>\n    </tr>\n    <tr>\n      <th>24904</th>\n      <td>55735</td>\n      <td>Shijuuku Nichi</td>\n      <td>UNKNOWN</td>\n      <td>四十九日</td>\n      <td>UNKNOWN</td>\n      <td>UNKNOWN</td>\n      <td>A music video for the song Shijuuku Nichi by S...</td>\n      <td>Music</td>\n      <td>1.0</td>\n      <td>Sep 5, 2022</td>\n      <td>...</td>\n      <td>UNKNOWN</td>\n      <td>Original</td>\n      <td>3 min</td>\n      <td>PG-13 - Teens 13 or older</td>\n      <td>0.0</td>\n      <td>0</td>\n      <td>0</td>\n      <td>UNKNOWN</td>\n      <td>0</td>\n      <td>https://cdn.myanimelist.net/images/anime/1902/...</td>\n    </tr>\n  </tbody>\n</table>\n<p>24905 rows × 24 columns</p>\n</div>"
     },
     "execution_count": 27,
     "metadata": {},
     "output_type": "execute_result"
    }
   ],
   "source": [
    "anime"
   ],
   "metadata": {
    "collapsed": false,
    "ExecuteTime": {
     "end_time": "2024-04-11T17:44:57.663684200Z",
     "start_time": "2024-04-11T17:44:57.568729Z"
    }
   },
   "id": "d4ee2b40de1cb2ed"
  },
  {
   "cell_type": "code",
   "execution_count": 28,
   "outputs": [
    {
     "data": {
      "text/plain": "       anime_id                             Name             English name  \\\n0             1                     Cowboy Bebop             Cowboy Bebop   \n1             5  Cowboy Bebop: Tengoku no Tobira  Cowboy Bebop: The Movie   \n2             6                           Trigun                   Trigun   \n3             7               Witch Hunter Robin       Witch Hunter Robin   \n4             8                   Bouken Ou Beet   Beet the Vandel Buster   \n...         ...                              ...                      ...   \n24900     55731                      Wu Nao Monu                  UNKNOWN   \n24901     55732              Bu Xing Si: Yuan Qi              Blader Soul   \n24902     55733                      Di Yi Xulie          The First Order   \n24903     55734         Bokura no Saishuu Sensou                  UNKNOWN   \n24904     55735                   Shijuuku Nichi                  UNKNOWN   \n\n                             Other name    Score  \\\n0                             カウボーイビバップ     8.75   \n1                        カウボーイビバップ 天国の扉     8.38   \n2                                 トライガン     8.22   \n3      Witch Hunter ROBIN (ウイッチハンターロビン)     7.25   \n4                                冒険王ビィト     6.94   \n...                                 ...      ...   \n24900                              无脑魔女  UNKNOWN   \n24901                            捕星司·源起  UNKNOWN   \n24902                              第一序列  UNKNOWN   \n24903                           僕らの最終戦争  UNKNOWN   \n24904                              四十九日  UNKNOWN   \n\n                                     Genres  \\\n0             Action, Award Winning, Sci-Fi   \n1                            Action, Sci-Fi   \n2                 Action, Adventure, Sci-Fi   \n3      Action, Drama, Mystery, Supernatural   \n4          Adventure, Fantasy, Supernatural   \n...                                     ...   \n24900        Comedy, Fantasy, Slice of Life   \n24901            Action, Adventure, Fantasy   \n24902    Action, Adventure, Fantasy, Sci-Fi   \n24903                               UNKNOWN   \n24904                               UNKNOWN   \n\n                                                Synopsis   Type Episodes  \\\n0      Crime is timeless. By the year 2071, humanity ...     TV     26.0   \n1      Another day, another bounty—such is the life o...  Movie      1.0   \n2      Vash the Stampede is the man with a $$60,000,0...     TV     26.0   \n3      Robin Sena is a powerful craft user drafted in...     TV     26.0   \n4      It is the dark century and the people are suff...     TV     52.0   \n...                                                  ...    ...      ...   \n24900           No description available for this anime.    ONA     15.0   \n24901           No description available for this anime.    ONA     18.0   \n24902           No description available for this anime.    ONA     16.0   \n24903  A music video for the song Bokura no Saishuu S...  Music      1.0   \n24904  A music video for the song Shijuuku Nichi by S...  Music      1.0   \n\n                              Aired  ...         Studios     Source  \\\n0       Apr 3, 1998 to Apr 24, 1999  ...         Sunrise   Original   \n1                       Sep 1, 2001  ...           Bones   Original   \n2       Apr 1, 1998 to Sep 30, 1998  ...        Madhouse      Manga   \n3       Jul 3, 2002 to Dec 25, 2002  ...         Sunrise   Original   \n4      Sep 30, 2004 to Sep 29, 2005  ...  Toei Animation      Manga   \n...                             ...  ...             ...        ...   \n24900              Jul 4, 2023 to ?  ...         UNKNOWN  Web manga   \n24901             Jul 27, 2023 to ?  ...         UNKNOWN  Web novel   \n24902             Jul 19, 2023 to ?  ...         UNKNOWN  Web novel   \n24903                  Apr 23, 2022  ...         UNKNOWN   Original   \n24904                   Sep 5, 2022  ...         UNKNOWN   Original   \n\n            Duration                          Rating     Rank Popularity  \\\n0      24 min per ep  R - 17+ (violence & profanity)     41.0         43   \n1        1 hr 55 min  R - 17+ (violence & profanity)    189.0        602   \n2      24 min per ep       PG-13 - Teens 13 or older    328.0        246   \n3      25 min per ep       PG-13 - Teens 13 or older   2764.0       1795   \n4      23 min per ep                   PG - Children   4240.0       5126   \n...              ...                             ...      ...        ...   \n24900        Unknown       PG-13 - Teens 13 or older  UNKNOWN      24723   \n24901        Unknown       PG-13 - Teens 13 or older      0.0          0   \n24902        Unknown       PG-13 - Teens 13 or older      0.0          0   \n24903          3 min       PG-13 - Teens 13 or older      0.0          0   \n24904          3 min       PG-13 - Teens 13 or older      0.0          0   \n\n      Favorites  Scored By  Members  \\\n0         78525   914193.0  1771505   \n1          1448   206248.0   360978   \n2         15035   356739.0   727252   \n3           613    42829.0   111931   \n4            14     6413.0    15001   \n...         ...        ...      ...   \n24900         0    UNKNOWN        0   \n24901         0    UNKNOWN        0   \n24902         0    UNKNOWN        0   \n24903         0    UNKNOWN        0   \n24904         0    UNKNOWN        0   \n\n                                               Image URL  \n0      https://cdn.myanimelist.net/images/anime/4/196...  \n1      https://cdn.myanimelist.net/images/anime/1439/...  \n2      https://cdn.myanimelist.net/images/anime/7/203...  \n3      https://cdn.myanimelist.net/images/anime/10/19...  \n4      https://cdn.myanimelist.net/images/anime/7/215...  \n...                                                  ...  \n24900  https://cdn.myanimelist.net/images/anime/1386/...  \n24901  https://cdn.myanimelist.net/images/anime/1383/...  \n24902  https://cdn.myanimelist.net/images/anime/1130/...  \n24903  https://cdn.myanimelist.net/images/anime/1931/...  \n24904  https://cdn.myanimelist.net/images/anime/1902/...  \n\n[24905 rows x 22 columns]",
      "text/html": "<div>\n<style scoped>\n    .dataframe tbody tr th:only-of-type {\n        vertical-align: middle;\n    }\n\n    .dataframe tbody tr th {\n        vertical-align: top;\n    }\n\n    .dataframe thead th {\n        text-align: right;\n    }\n</style>\n<table border=\"1\" class=\"dataframe\">\n  <thead>\n    <tr style=\"text-align: right;\">\n      <th></th>\n      <th>anime_id</th>\n      <th>Name</th>\n      <th>English name</th>\n      <th>Other name</th>\n      <th>Score</th>\n      <th>Genres</th>\n      <th>Synopsis</th>\n      <th>Type</th>\n      <th>Episodes</th>\n      <th>Aired</th>\n      <th>...</th>\n      <th>Studios</th>\n      <th>Source</th>\n      <th>Duration</th>\n      <th>Rating</th>\n      <th>Rank</th>\n      <th>Popularity</th>\n      <th>Favorites</th>\n      <th>Scored By</th>\n      <th>Members</th>\n      <th>Image URL</th>\n    </tr>\n  </thead>\n  <tbody>\n    <tr>\n      <th>0</th>\n      <td>1</td>\n      <td>Cowboy Bebop</td>\n      <td>Cowboy Bebop</td>\n      <td>カウボーイビバップ</td>\n      <td>8.75</td>\n      <td>Action, Award Winning, Sci-Fi</td>\n      <td>Crime is timeless. By the year 2071, humanity ...</td>\n      <td>TV</td>\n      <td>26.0</td>\n      <td>Apr 3, 1998 to Apr 24, 1999</td>\n      <td>...</td>\n      <td>Sunrise</td>\n      <td>Original</td>\n      <td>24 min per ep</td>\n      <td>R - 17+ (violence &amp; profanity)</td>\n      <td>41.0</td>\n      <td>43</td>\n      <td>78525</td>\n      <td>914193.0</td>\n      <td>1771505</td>\n      <td>https://cdn.myanimelist.net/images/anime/4/196...</td>\n    </tr>\n    <tr>\n      <th>1</th>\n      <td>5</td>\n      <td>Cowboy Bebop: Tengoku no Tobira</td>\n      <td>Cowboy Bebop: The Movie</td>\n      <td>カウボーイビバップ 天国の扉</td>\n      <td>8.38</td>\n      <td>Action, Sci-Fi</td>\n      <td>Another day, another bounty—such is the life o...</td>\n      <td>Movie</td>\n      <td>1.0</td>\n      <td>Sep 1, 2001</td>\n      <td>...</td>\n      <td>Bones</td>\n      <td>Original</td>\n      <td>1 hr 55 min</td>\n      <td>R - 17+ (violence &amp; profanity)</td>\n      <td>189.0</td>\n      <td>602</td>\n      <td>1448</td>\n      <td>206248.0</td>\n      <td>360978</td>\n      <td>https://cdn.myanimelist.net/images/anime/1439/...</td>\n    </tr>\n    <tr>\n      <th>2</th>\n      <td>6</td>\n      <td>Trigun</td>\n      <td>Trigun</td>\n      <td>トライガン</td>\n      <td>8.22</td>\n      <td>Action, Adventure, Sci-Fi</td>\n      <td>Vash the Stampede is the man with a $$60,000,0...</td>\n      <td>TV</td>\n      <td>26.0</td>\n      <td>Apr 1, 1998 to Sep 30, 1998</td>\n      <td>...</td>\n      <td>Madhouse</td>\n      <td>Manga</td>\n      <td>24 min per ep</td>\n      <td>PG-13 - Teens 13 or older</td>\n      <td>328.0</td>\n      <td>246</td>\n      <td>15035</td>\n      <td>356739.0</td>\n      <td>727252</td>\n      <td>https://cdn.myanimelist.net/images/anime/7/203...</td>\n    </tr>\n    <tr>\n      <th>3</th>\n      <td>7</td>\n      <td>Witch Hunter Robin</td>\n      <td>Witch Hunter Robin</td>\n      <td>Witch Hunter ROBIN (ウイッチハンターロビン)</td>\n      <td>7.25</td>\n      <td>Action, Drama, Mystery, Supernatural</td>\n      <td>Robin Sena is a powerful craft user drafted in...</td>\n      <td>TV</td>\n      <td>26.0</td>\n      <td>Jul 3, 2002 to Dec 25, 2002</td>\n      <td>...</td>\n      <td>Sunrise</td>\n      <td>Original</td>\n      <td>25 min per ep</td>\n      <td>PG-13 - Teens 13 or older</td>\n      <td>2764.0</td>\n      <td>1795</td>\n      <td>613</td>\n      <td>42829.0</td>\n      <td>111931</td>\n      <td>https://cdn.myanimelist.net/images/anime/10/19...</td>\n    </tr>\n    <tr>\n      <th>4</th>\n      <td>8</td>\n      <td>Bouken Ou Beet</td>\n      <td>Beet the Vandel Buster</td>\n      <td>冒険王ビィト</td>\n      <td>6.94</td>\n      <td>Adventure, Fantasy, Supernatural</td>\n      <td>It is the dark century and the people are suff...</td>\n      <td>TV</td>\n      <td>52.0</td>\n      <td>Sep 30, 2004 to Sep 29, 2005</td>\n      <td>...</td>\n      <td>Toei Animation</td>\n      <td>Manga</td>\n      <td>23 min per ep</td>\n      <td>PG - Children</td>\n      <td>4240.0</td>\n      <td>5126</td>\n      <td>14</td>\n      <td>6413.0</td>\n      <td>15001</td>\n      <td>https://cdn.myanimelist.net/images/anime/7/215...</td>\n    </tr>\n    <tr>\n      <th>...</th>\n      <td>...</td>\n      <td>...</td>\n      <td>...</td>\n      <td>...</td>\n      <td>...</td>\n      <td>...</td>\n      <td>...</td>\n      <td>...</td>\n      <td>...</td>\n      <td>...</td>\n      <td>...</td>\n      <td>...</td>\n      <td>...</td>\n      <td>...</td>\n      <td>...</td>\n      <td>...</td>\n      <td>...</td>\n      <td>...</td>\n      <td>...</td>\n      <td>...</td>\n      <td>...</td>\n    </tr>\n    <tr>\n      <th>24900</th>\n      <td>55731</td>\n      <td>Wu Nao Monu</td>\n      <td>UNKNOWN</td>\n      <td>无脑魔女</td>\n      <td>UNKNOWN</td>\n      <td>Comedy, Fantasy, Slice of Life</td>\n      <td>No description available for this anime.</td>\n      <td>ONA</td>\n      <td>15.0</td>\n      <td>Jul 4, 2023 to ?</td>\n      <td>...</td>\n      <td>UNKNOWN</td>\n      <td>Web manga</td>\n      <td>Unknown</td>\n      <td>PG-13 - Teens 13 or older</td>\n      <td>UNKNOWN</td>\n      <td>24723</td>\n      <td>0</td>\n      <td>UNKNOWN</td>\n      <td>0</td>\n      <td>https://cdn.myanimelist.net/images/anime/1386/...</td>\n    </tr>\n    <tr>\n      <th>24901</th>\n      <td>55732</td>\n      <td>Bu Xing Si: Yuan Qi</td>\n      <td>Blader Soul</td>\n      <td>捕星司·源起</td>\n      <td>UNKNOWN</td>\n      <td>Action, Adventure, Fantasy</td>\n      <td>No description available for this anime.</td>\n      <td>ONA</td>\n      <td>18.0</td>\n      <td>Jul 27, 2023 to ?</td>\n      <td>...</td>\n      <td>UNKNOWN</td>\n      <td>Web novel</td>\n      <td>Unknown</td>\n      <td>PG-13 - Teens 13 or older</td>\n      <td>0.0</td>\n      <td>0</td>\n      <td>0</td>\n      <td>UNKNOWN</td>\n      <td>0</td>\n      <td>https://cdn.myanimelist.net/images/anime/1383/...</td>\n    </tr>\n    <tr>\n      <th>24902</th>\n      <td>55733</td>\n      <td>Di Yi Xulie</td>\n      <td>The First Order</td>\n      <td>第一序列</td>\n      <td>UNKNOWN</td>\n      <td>Action, Adventure, Fantasy, Sci-Fi</td>\n      <td>No description available for this anime.</td>\n      <td>ONA</td>\n      <td>16.0</td>\n      <td>Jul 19, 2023 to ?</td>\n      <td>...</td>\n      <td>UNKNOWN</td>\n      <td>Web novel</td>\n      <td>Unknown</td>\n      <td>PG-13 - Teens 13 or older</td>\n      <td>0.0</td>\n      <td>0</td>\n      <td>0</td>\n      <td>UNKNOWN</td>\n      <td>0</td>\n      <td>https://cdn.myanimelist.net/images/anime/1130/...</td>\n    </tr>\n    <tr>\n      <th>24903</th>\n      <td>55734</td>\n      <td>Bokura no Saishuu Sensou</td>\n      <td>UNKNOWN</td>\n      <td>僕らの最終戦争</td>\n      <td>UNKNOWN</td>\n      <td>UNKNOWN</td>\n      <td>A music video for the song Bokura no Saishuu S...</td>\n      <td>Music</td>\n      <td>1.0</td>\n      <td>Apr 23, 2022</td>\n      <td>...</td>\n      <td>UNKNOWN</td>\n      <td>Original</td>\n      <td>3 min</td>\n      <td>PG-13 - Teens 13 or older</td>\n      <td>0.0</td>\n      <td>0</td>\n      <td>0</td>\n      <td>UNKNOWN</td>\n      <td>0</td>\n      <td>https://cdn.myanimelist.net/images/anime/1931/...</td>\n    </tr>\n    <tr>\n      <th>24904</th>\n      <td>55735</td>\n      <td>Shijuuku Nichi</td>\n      <td>UNKNOWN</td>\n      <td>四十九日</td>\n      <td>UNKNOWN</td>\n      <td>UNKNOWN</td>\n      <td>A music video for the song Shijuuku Nichi by S...</td>\n      <td>Music</td>\n      <td>1.0</td>\n      <td>Sep 5, 2022</td>\n      <td>...</td>\n      <td>UNKNOWN</td>\n      <td>Original</td>\n      <td>3 min</td>\n      <td>PG-13 - Teens 13 or older</td>\n      <td>0.0</td>\n      <td>0</td>\n      <td>0</td>\n      <td>UNKNOWN</td>\n      <td>0</td>\n      <td>https://cdn.myanimelist.net/images/anime/1902/...</td>\n    </tr>\n  </tbody>\n</table>\n<p>24905 rows × 22 columns</p>\n</div>"
     },
     "execution_count": 28,
     "metadata": {},
     "output_type": "execute_result"
    }
   ],
   "source": [
    "essential_cols = ['anime_id', 'Name', 'English name', 'Other name', 'Score', 'Genres', 'Synopsis', 'Type', 'Episodes', 'Aired', 'Premiered', 'Status', 'Studios', 'Source', 'Duration', 'Rating', 'Rank', 'Popularity', 'Favorites', 'Scored By', 'Members', 'Image URL']\n",
    "filtered = anime[essential_cols].copy()\n",
    "filtered"
   ],
   "metadata": {
    "collapsed": false,
    "ExecuteTime": {
     "end_time": "2024-04-11T17:44:57.736624Z",
     "start_time": "2024-04-11T17:44:57.626480400Z"
    }
   },
   "id": "524f98085ad12e6c"
  },
  {
   "cell_type": "code",
   "execution_count": 28,
   "outputs": [],
   "source": [],
   "metadata": {
    "collapsed": false,
    "ExecuteTime": {
     "end_time": "2024-04-11T17:44:58.102332900Z",
     "start_time": "2024-04-11T17:44:57.976362500Z"
    }
   },
   "id": "3a66e1fc3734bc02"
  },
  {
   "cell_type": "code",
   "execution_count": 29,
   "outputs": [
    {
     "data": {
      "text/plain": "0        8.75\n1        8.38\n2        8.22\n3        7.25\n4        6.94\n         ... \n24900    0.00\n24901    0.00\n24902    0.00\n24903    0.00\n24904    0.00\nName: Score, Length: 24905, dtype: float64"
     },
     "execution_count": 29,
     "metadata": {},
     "output_type": "execute_result"
    }
   ],
   "source": [
    "import numpy as np\n",
    "\n",
    "filtered['Score'] = pd.to_numeric(filtered['Score'].replace('UNKNOWN', np.nan), errors='coerce')\n",
    "filtered['Score'].fillna(0.0, inplace=True)\n",
    "filtered['Score'].astype(float)"
   ],
   "metadata": {
    "collapsed": false,
    "ExecuteTime": {
     "end_time": "2024-04-11T17:44:58.798279800Z",
     "start_time": "2024-04-11T17:44:58.727369800Z"
    }
   },
   "id": "405c73b18d8fb390"
  },
  {
   "cell_type": "code",
   "execution_count": 30,
   "outputs": [
    {
     "data": {
      "text/plain": "0        914193.0\n1        206248.0\n2        356739.0\n3         42829.0\n4          6413.0\n           ...   \n24900         0.0\n24901         0.0\n24902         0.0\n24903         0.0\n24904         0.0\nName: Scored By, Length: 24905, dtype: float64"
     },
     "execution_count": 30,
     "metadata": {},
     "output_type": "execute_result"
    }
   ],
   "source": [
    "filtered['Scored By'] = pd.to_numeric(filtered['Scored By'].replace('UNKNOWN', np.nan), errors='coerce')\n",
    "filtered['Scored By'].fillna(0.0)"
   ],
   "metadata": {
    "collapsed": false,
    "ExecuteTime": {
     "end_time": "2024-04-11T17:44:59.764631400Z",
     "start_time": "2024-04-11T17:44:59.561846600Z"
    }
   },
   "id": "3b0e01f56824695"
  },
  {
   "cell_type": "code",
   "execution_count": 31,
   "outputs": [],
   "source": [
    "filtered['Scored By'] = filtered['Scored By'].fillna(0.0)"
   ],
   "metadata": {
    "collapsed": false,
    "ExecuteTime": {
     "end_time": "2024-04-11T17:45:02.281398800Z",
     "start_time": "2024-04-11T17:45:02.264811400Z"
    }
   },
   "id": "bbe09e64bc256ab7"
  },
  {
   "cell_type": "code",
   "execution_count": 32,
   "outputs": [
    {
     "data": {
      "text/plain": "0"
     },
     "execution_count": 32,
     "metadata": {},
     "output_type": "execute_result"
    }
   ],
   "source": [
    "filtered['Scored By'].isna().sum()"
   ],
   "metadata": {
    "collapsed": false,
    "ExecuteTime": {
     "end_time": "2024-04-11T17:45:03.441292800Z",
     "start_time": "2024-04-11T17:45:03.399268Z"
    }
   },
   "id": "11a8521f9ed9217d"
  },
  {
   "cell_type": "code",
   "execution_count": 34,
   "outputs": [],
   "source": [
    "filtered['Scored By'] = filtered['Scored By'].astype('int64')"
   ],
   "metadata": {
    "collapsed": false,
    "ExecuteTime": {
     "end_time": "2024-04-11T17:45:44.088395300Z",
     "start_time": "2024-04-11T17:45:44.060280900Z"
    }
   },
   "id": "9bf5825190eaa2b6"
  },
  {
   "cell_type": "code",
   "execution_count": 35,
   "outputs": [
    {
     "name": "stdout",
     "output_type": "stream",
     "text": [
      "<class 'pandas.core.frame.DataFrame'>\n",
      "RangeIndex: 24905 entries, 0 to 24904\n",
      "Data columns (total 22 columns):\n",
      " #   Column        Non-Null Count  Dtype  \n",
      "---  ------        --------------  -----  \n",
      " 0   anime_id      24905 non-null  int64  \n",
      " 1   Name          24905 non-null  object \n",
      " 2   English name  24905 non-null  object \n",
      " 3   Other name    24905 non-null  object \n",
      " 4   Score         24905 non-null  float64\n",
      " 5   Genres        24905 non-null  object \n",
      " 6   Synopsis      24905 non-null  object \n",
      " 7   Type          24905 non-null  object \n",
      " 8   Episodes      24905 non-null  object \n",
      " 9   Aired         24905 non-null  object \n",
      " 10  Premiered     24905 non-null  object \n",
      " 11  Status        24905 non-null  object \n",
      " 12  Studios       24905 non-null  object \n",
      " 13  Source        24905 non-null  object \n",
      " 14  Duration      24905 non-null  object \n",
      " 15  Rating        24905 non-null  object \n",
      " 16  Rank          24905 non-null  object \n",
      " 17  Popularity    24905 non-null  int64  \n",
      " 18  Favorites     24905 non-null  int64  \n",
      " 19  Scored By     24905 non-null  int64  \n",
      " 20  Members       24905 non-null  int64  \n",
      " 21  Image URL     24905 non-null  object \n",
      "dtypes: float64(1), int64(5), object(16)\n",
      "memory usage: 4.2+ MB\n"
     ]
    }
   ],
   "source": [
    "filtered.info()"
   ],
   "metadata": {
    "collapsed": false,
    "ExecuteTime": {
     "end_time": "2024-04-11T17:45:45.070657100Z",
     "start_time": "2024-04-11T17:45:45.016338100Z"
    }
   },
   "id": "32da2ac1190f50ba"
  },
  {
   "cell_type": "code",
   "execution_count": 36,
   "outputs": [
    {
     "data": {
      "text/plain": "       anime_id                             Name             English name  \\\n0             1                     Cowboy Bebop             Cowboy Bebop   \n1             5  Cowboy Bebop: Tengoku no Tobira  Cowboy Bebop: The Movie   \n2             6                           Trigun                   Trigun   \n3             7               Witch Hunter Robin       Witch Hunter Robin   \n4             8                   Bouken Ou Beet   Beet the Vandel Buster   \n...         ...                              ...                      ...   \n24900     55731                      Wu Nao Monu                  UNKNOWN   \n24901     55732              Bu Xing Si: Yuan Qi              Blader Soul   \n24902     55733                      Di Yi Xulie          The First Order   \n24903     55734         Bokura no Saishuu Sensou                  UNKNOWN   \n24904     55735                   Shijuuku Nichi                  UNKNOWN   \n\n                             Other name  Score  \\\n0                             カウボーイビバップ   8.75   \n1                        カウボーイビバップ 天国の扉   8.38   \n2                                 トライガン   8.22   \n3      Witch Hunter ROBIN (ウイッチハンターロビン)   7.25   \n4                                冒険王ビィト   6.94   \n...                                 ...    ...   \n24900                              无脑魔女   0.00   \n24901                            捕星司·源起   0.00   \n24902                              第一序列   0.00   \n24903                           僕らの最終戦争   0.00   \n24904                              四十九日   0.00   \n\n                                     Genres  \\\n0             Action, Award Winning, Sci-Fi   \n1                            Action, Sci-Fi   \n2                 Action, Adventure, Sci-Fi   \n3      Action, Drama, Mystery, Supernatural   \n4          Adventure, Fantasy, Supernatural   \n...                                     ...   \n24900        Comedy, Fantasy, Slice of Life   \n24901            Action, Adventure, Fantasy   \n24902    Action, Adventure, Fantasy, Sci-Fi   \n24903                               UNKNOWN   \n24904                               UNKNOWN   \n\n                                                Synopsis   Type Episodes  \\\n0      Crime is timeless. By the year 2071, humanity ...     TV     26.0   \n1      Another day, another bounty—such is the life o...  Movie      1.0   \n2      Vash the Stampede is the man with a $$60,000,0...     TV     26.0   \n3      Robin Sena is a powerful craft user drafted in...     TV     26.0   \n4      It is the dark century and the people are suff...     TV     52.0   \n...                                                  ...    ...      ...   \n24900           No description available for this anime.    ONA     15.0   \n24901           No description available for this anime.    ONA     18.0   \n24902           No description available for this anime.    ONA     16.0   \n24903  A music video for the song Bokura no Saishuu S...  Music      1.0   \n24904  A music video for the song Shijuuku Nichi by S...  Music      1.0   \n\n                              Aired  ...         Studios     Source  \\\n0       Apr 3, 1998 to Apr 24, 1999  ...         Sunrise   Original   \n1                       Sep 1, 2001  ...           Bones   Original   \n2       Apr 1, 1998 to Sep 30, 1998  ...        Madhouse      Manga   \n3       Jul 3, 2002 to Dec 25, 2002  ...         Sunrise   Original   \n4      Sep 30, 2004 to Sep 29, 2005  ...  Toei Animation      Manga   \n...                             ...  ...             ...        ...   \n24900              Jul 4, 2023 to ?  ...         UNKNOWN  Web manga   \n24901             Jul 27, 2023 to ?  ...         UNKNOWN  Web novel   \n24902             Jul 19, 2023 to ?  ...         UNKNOWN  Web novel   \n24903                  Apr 23, 2022  ...         UNKNOWN   Original   \n24904                   Sep 5, 2022  ...         UNKNOWN   Original   \n\n            Duration                          Rating     Rank Popularity  \\\n0      24 min per ep  R - 17+ (violence & profanity)     41.0         43   \n1        1 hr 55 min  R - 17+ (violence & profanity)    189.0        602   \n2      24 min per ep       PG-13 - Teens 13 or older    328.0        246   \n3      25 min per ep       PG-13 - Teens 13 or older   2764.0       1795   \n4      23 min per ep                   PG - Children   4240.0       5126   \n...              ...                             ...      ...        ...   \n24900        Unknown       PG-13 - Teens 13 or older  UNKNOWN      24723   \n24901        Unknown       PG-13 - Teens 13 or older      0.0          0   \n24902        Unknown       PG-13 - Teens 13 or older      0.0          0   \n24903          3 min       PG-13 - Teens 13 or older      0.0          0   \n24904          3 min       PG-13 - Teens 13 or older      0.0          0   \n\n      Favorites  Scored By  Members  \\\n0         78525     914193  1771505   \n1          1448     206248   360978   \n2         15035     356739   727252   \n3           613      42829   111931   \n4            14       6413    15001   \n...         ...        ...      ...   \n24900         0          0        0   \n24901         0          0        0   \n24902         0          0        0   \n24903         0          0        0   \n24904         0          0        0   \n\n                                               Image URL  \n0      https://cdn.myanimelist.net/images/anime/4/196...  \n1      https://cdn.myanimelist.net/images/anime/1439/...  \n2      https://cdn.myanimelist.net/images/anime/7/203...  \n3      https://cdn.myanimelist.net/images/anime/10/19...  \n4      https://cdn.myanimelist.net/images/anime/7/215...  \n...                                                  ...  \n24900  https://cdn.myanimelist.net/images/anime/1386/...  \n24901  https://cdn.myanimelist.net/images/anime/1383/...  \n24902  https://cdn.myanimelist.net/images/anime/1130/...  \n24903  https://cdn.myanimelist.net/images/anime/1931/...  \n24904  https://cdn.myanimelist.net/images/anime/1902/...  \n\n[24905 rows x 22 columns]",
      "text/html": "<div>\n<style scoped>\n    .dataframe tbody tr th:only-of-type {\n        vertical-align: middle;\n    }\n\n    .dataframe tbody tr th {\n        vertical-align: top;\n    }\n\n    .dataframe thead th {\n        text-align: right;\n    }\n</style>\n<table border=\"1\" class=\"dataframe\">\n  <thead>\n    <tr style=\"text-align: right;\">\n      <th></th>\n      <th>anime_id</th>\n      <th>Name</th>\n      <th>English name</th>\n      <th>Other name</th>\n      <th>Score</th>\n      <th>Genres</th>\n      <th>Synopsis</th>\n      <th>Type</th>\n      <th>Episodes</th>\n      <th>Aired</th>\n      <th>...</th>\n      <th>Studios</th>\n      <th>Source</th>\n      <th>Duration</th>\n      <th>Rating</th>\n      <th>Rank</th>\n      <th>Popularity</th>\n      <th>Favorites</th>\n      <th>Scored By</th>\n      <th>Members</th>\n      <th>Image URL</th>\n    </tr>\n  </thead>\n  <tbody>\n    <tr>\n      <th>0</th>\n      <td>1</td>\n      <td>Cowboy Bebop</td>\n      <td>Cowboy Bebop</td>\n      <td>カウボーイビバップ</td>\n      <td>8.75</td>\n      <td>Action, Award Winning, Sci-Fi</td>\n      <td>Crime is timeless. By the year 2071, humanity ...</td>\n      <td>TV</td>\n      <td>26.0</td>\n      <td>Apr 3, 1998 to Apr 24, 1999</td>\n      <td>...</td>\n      <td>Sunrise</td>\n      <td>Original</td>\n      <td>24 min per ep</td>\n      <td>R - 17+ (violence &amp; profanity)</td>\n      <td>41.0</td>\n      <td>43</td>\n      <td>78525</td>\n      <td>914193</td>\n      <td>1771505</td>\n      <td>https://cdn.myanimelist.net/images/anime/4/196...</td>\n    </tr>\n    <tr>\n      <th>1</th>\n      <td>5</td>\n      <td>Cowboy Bebop: Tengoku no Tobira</td>\n      <td>Cowboy Bebop: The Movie</td>\n      <td>カウボーイビバップ 天国の扉</td>\n      <td>8.38</td>\n      <td>Action, Sci-Fi</td>\n      <td>Another day, another bounty—such is the life o...</td>\n      <td>Movie</td>\n      <td>1.0</td>\n      <td>Sep 1, 2001</td>\n      <td>...</td>\n      <td>Bones</td>\n      <td>Original</td>\n      <td>1 hr 55 min</td>\n      <td>R - 17+ (violence &amp; profanity)</td>\n      <td>189.0</td>\n      <td>602</td>\n      <td>1448</td>\n      <td>206248</td>\n      <td>360978</td>\n      <td>https://cdn.myanimelist.net/images/anime/1439/...</td>\n    </tr>\n    <tr>\n      <th>2</th>\n      <td>6</td>\n      <td>Trigun</td>\n      <td>Trigun</td>\n      <td>トライガン</td>\n      <td>8.22</td>\n      <td>Action, Adventure, Sci-Fi</td>\n      <td>Vash the Stampede is the man with a $$60,000,0...</td>\n      <td>TV</td>\n      <td>26.0</td>\n      <td>Apr 1, 1998 to Sep 30, 1998</td>\n      <td>...</td>\n      <td>Madhouse</td>\n      <td>Manga</td>\n      <td>24 min per ep</td>\n      <td>PG-13 - Teens 13 or older</td>\n      <td>328.0</td>\n      <td>246</td>\n      <td>15035</td>\n      <td>356739</td>\n      <td>727252</td>\n      <td>https://cdn.myanimelist.net/images/anime/7/203...</td>\n    </tr>\n    <tr>\n      <th>3</th>\n      <td>7</td>\n      <td>Witch Hunter Robin</td>\n      <td>Witch Hunter Robin</td>\n      <td>Witch Hunter ROBIN (ウイッチハンターロビン)</td>\n      <td>7.25</td>\n      <td>Action, Drama, Mystery, Supernatural</td>\n      <td>Robin Sena is a powerful craft user drafted in...</td>\n      <td>TV</td>\n      <td>26.0</td>\n      <td>Jul 3, 2002 to Dec 25, 2002</td>\n      <td>...</td>\n      <td>Sunrise</td>\n      <td>Original</td>\n      <td>25 min per ep</td>\n      <td>PG-13 - Teens 13 or older</td>\n      <td>2764.0</td>\n      <td>1795</td>\n      <td>613</td>\n      <td>42829</td>\n      <td>111931</td>\n      <td>https://cdn.myanimelist.net/images/anime/10/19...</td>\n    </tr>\n    <tr>\n      <th>4</th>\n      <td>8</td>\n      <td>Bouken Ou Beet</td>\n      <td>Beet the Vandel Buster</td>\n      <td>冒険王ビィト</td>\n      <td>6.94</td>\n      <td>Adventure, Fantasy, Supernatural</td>\n      <td>It is the dark century and the people are suff...</td>\n      <td>TV</td>\n      <td>52.0</td>\n      <td>Sep 30, 2004 to Sep 29, 2005</td>\n      <td>...</td>\n      <td>Toei Animation</td>\n      <td>Manga</td>\n      <td>23 min per ep</td>\n      <td>PG - Children</td>\n      <td>4240.0</td>\n      <td>5126</td>\n      <td>14</td>\n      <td>6413</td>\n      <td>15001</td>\n      <td>https://cdn.myanimelist.net/images/anime/7/215...</td>\n    </tr>\n    <tr>\n      <th>...</th>\n      <td>...</td>\n      <td>...</td>\n      <td>...</td>\n      <td>...</td>\n      <td>...</td>\n      <td>...</td>\n      <td>...</td>\n      <td>...</td>\n      <td>...</td>\n      <td>...</td>\n      <td>...</td>\n      <td>...</td>\n      <td>...</td>\n      <td>...</td>\n      <td>...</td>\n      <td>...</td>\n      <td>...</td>\n      <td>...</td>\n      <td>...</td>\n      <td>...</td>\n      <td>...</td>\n    </tr>\n    <tr>\n      <th>24900</th>\n      <td>55731</td>\n      <td>Wu Nao Monu</td>\n      <td>UNKNOWN</td>\n      <td>无脑魔女</td>\n      <td>0.00</td>\n      <td>Comedy, Fantasy, Slice of Life</td>\n      <td>No description available for this anime.</td>\n      <td>ONA</td>\n      <td>15.0</td>\n      <td>Jul 4, 2023 to ?</td>\n      <td>...</td>\n      <td>UNKNOWN</td>\n      <td>Web manga</td>\n      <td>Unknown</td>\n      <td>PG-13 - Teens 13 or older</td>\n      <td>UNKNOWN</td>\n      <td>24723</td>\n      <td>0</td>\n      <td>0</td>\n      <td>0</td>\n      <td>https://cdn.myanimelist.net/images/anime/1386/...</td>\n    </tr>\n    <tr>\n      <th>24901</th>\n      <td>55732</td>\n      <td>Bu Xing Si: Yuan Qi</td>\n      <td>Blader Soul</td>\n      <td>捕星司·源起</td>\n      <td>0.00</td>\n      <td>Action, Adventure, Fantasy</td>\n      <td>No description available for this anime.</td>\n      <td>ONA</td>\n      <td>18.0</td>\n      <td>Jul 27, 2023 to ?</td>\n      <td>...</td>\n      <td>UNKNOWN</td>\n      <td>Web novel</td>\n      <td>Unknown</td>\n      <td>PG-13 - Teens 13 or older</td>\n      <td>0.0</td>\n      <td>0</td>\n      <td>0</td>\n      <td>0</td>\n      <td>0</td>\n      <td>https://cdn.myanimelist.net/images/anime/1383/...</td>\n    </tr>\n    <tr>\n      <th>24902</th>\n      <td>55733</td>\n      <td>Di Yi Xulie</td>\n      <td>The First Order</td>\n      <td>第一序列</td>\n      <td>0.00</td>\n      <td>Action, Adventure, Fantasy, Sci-Fi</td>\n      <td>No description available for this anime.</td>\n      <td>ONA</td>\n      <td>16.0</td>\n      <td>Jul 19, 2023 to ?</td>\n      <td>...</td>\n      <td>UNKNOWN</td>\n      <td>Web novel</td>\n      <td>Unknown</td>\n      <td>PG-13 - Teens 13 or older</td>\n      <td>0.0</td>\n      <td>0</td>\n      <td>0</td>\n      <td>0</td>\n      <td>0</td>\n      <td>https://cdn.myanimelist.net/images/anime/1130/...</td>\n    </tr>\n    <tr>\n      <th>24903</th>\n      <td>55734</td>\n      <td>Bokura no Saishuu Sensou</td>\n      <td>UNKNOWN</td>\n      <td>僕らの最終戦争</td>\n      <td>0.00</td>\n      <td>UNKNOWN</td>\n      <td>A music video for the song Bokura no Saishuu S...</td>\n      <td>Music</td>\n      <td>1.0</td>\n      <td>Apr 23, 2022</td>\n      <td>...</td>\n      <td>UNKNOWN</td>\n      <td>Original</td>\n      <td>3 min</td>\n      <td>PG-13 - Teens 13 or older</td>\n      <td>0.0</td>\n      <td>0</td>\n      <td>0</td>\n      <td>0</td>\n      <td>0</td>\n      <td>https://cdn.myanimelist.net/images/anime/1931/...</td>\n    </tr>\n    <tr>\n      <th>24904</th>\n      <td>55735</td>\n      <td>Shijuuku Nichi</td>\n      <td>UNKNOWN</td>\n      <td>四十九日</td>\n      <td>0.00</td>\n      <td>UNKNOWN</td>\n      <td>A music video for the song Shijuuku Nichi by S...</td>\n      <td>Music</td>\n      <td>1.0</td>\n      <td>Sep 5, 2022</td>\n      <td>...</td>\n      <td>UNKNOWN</td>\n      <td>Original</td>\n      <td>3 min</td>\n      <td>PG-13 - Teens 13 or older</td>\n      <td>0.0</td>\n      <td>0</td>\n      <td>0</td>\n      <td>0</td>\n      <td>0</td>\n      <td>https://cdn.myanimelist.net/images/anime/1902/...</td>\n    </tr>\n  </tbody>\n</table>\n<p>24905 rows × 22 columns</p>\n</div>"
     },
     "execution_count": 36,
     "metadata": {},
     "output_type": "execute_result"
    }
   ],
   "source": [
    "filtered"
   ],
   "metadata": {
    "collapsed": false,
    "ExecuteTime": {
     "end_time": "2024-04-11T17:46:01.599307500Z",
     "start_time": "2024-04-11T17:46:01.506433Z"
    }
   },
   "id": "e246c5ed79483678"
  },
  {
   "cell_type": "code",
   "execution_count": 40,
   "outputs": [],
   "source": [
    "filtered['Mod_name'] = filtered['Name'].str.replace(\"[^a-zA-Z0-9 ]\", \"\", regex=True)\n",
    "filtered['Mod_name'] = filtered['Mod_name'].str.lower()\n",
    "filtered['Mod_name'] = filtered['Mod_name'].str.replace(\"\\s+\", ' ', regex=True)\n",
    "filtered = filtered[filtered[\"Mod_name\"].str.len() > 0]"
   ],
   "metadata": {
    "collapsed": false,
    "ExecuteTime": {
     "end_time": "2024-04-11T17:54:30.443040200Z",
     "start_time": "2024-04-11T17:54:30.333275500Z"
    }
   },
   "id": "58708b7cf0a14bbe"
  },
  {
   "cell_type": "code",
   "execution_count": 41,
   "outputs": [
    {
     "data": {
      "text/plain": "       anime_id                             Name             English name  \\\n0             1                     Cowboy Bebop             Cowboy Bebop   \n1             5  Cowboy Bebop: Tengoku no Tobira  Cowboy Bebop: The Movie   \n2             6                           Trigun                   Trigun   \n3             7               Witch Hunter Robin       Witch Hunter Robin   \n4             8                   Bouken Ou Beet   Beet the Vandel Buster   \n...         ...                              ...                      ...   \n24900     55731                      Wu Nao Monu                  UNKNOWN   \n24901     55732              Bu Xing Si: Yuan Qi              Blader Soul   \n24902     55733                      Di Yi Xulie          The First Order   \n24903     55734         Bokura no Saishuu Sensou                  UNKNOWN   \n24904     55735                   Shijuuku Nichi                  UNKNOWN   \n\n                             Other name  Score  \\\n0                             カウボーイビバップ   8.75   \n1                        カウボーイビバップ 天国の扉   8.38   \n2                                 トライガン   8.22   \n3      Witch Hunter ROBIN (ウイッチハンターロビン)   7.25   \n4                                冒険王ビィト   6.94   \n...                                 ...    ...   \n24900                              无脑魔女   0.00   \n24901                            捕星司·源起   0.00   \n24902                              第一序列   0.00   \n24903                           僕らの最終戦争   0.00   \n24904                              四十九日   0.00   \n\n                                     Genres  \\\n0             Action, Award Winning, Sci-Fi   \n1                            Action, Sci-Fi   \n2                 Action, Adventure, Sci-Fi   \n3      Action, Drama, Mystery, Supernatural   \n4          Adventure, Fantasy, Supernatural   \n...                                     ...   \n24900        Comedy, Fantasy, Slice of Life   \n24901            Action, Adventure, Fantasy   \n24902    Action, Adventure, Fantasy, Sci-Fi   \n24903                               UNKNOWN   \n24904                               UNKNOWN   \n\n                                                Synopsis   Type Episodes  \\\n0      Crime is timeless. By the year 2071, humanity ...     TV     26.0   \n1      Another day, another bounty—such is the life o...  Movie      1.0   \n2      Vash the Stampede is the man with a $$60,000,0...     TV     26.0   \n3      Robin Sena is a powerful craft user drafted in...     TV     26.0   \n4      It is the dark century and the people are suff...     TV     52.0   \n...                                                  ...    ...      ...   \n24900           No description available for this anime.    ONA     15.0   \n24901           No description available for this anime.    ONA     18.0   \n24902           No description available for this anime.    ONA     16.0   \n24903  A music video for the song Bokura no Saishuu S...  Music      1.0   \n24904  A music video for the song Shijuuku Nichi by S...  Music      1.0   \n\n                              Aired  ...     Source       Duration  \\\n0       Apr 3, 1998 to Apr 24, 1999  ...   Original  24 min per ep   \n1                       Sep 1, 2001  ...   Original    1 hr 55 min   \n2       Apr 1, 1998 to Sep 30, 1998  ...      Manga  24 min per ep   \n3       Jul 3, 2002 to Dec 25, 2002  ...   Original  25 min per ep   \n4      Sep 30, 2004 to Sep 29, 2005  ...      Manga  23 min per ep   \n...                             ...  ...        ...            ...   \n24900              Jul 4, 2023 to ?  ...  Web manga        Unknown   \n24901             Jul 27, 2023 to ?  ...  Web novel        Unknown   \n24902             Jul 19, 2023 to ?  ...  Web novel        Unknown   \n24903                  Apr 23, 2022  ...   Original          3 min   \n24904                   Sep 5, 2022  ...   Original          3 min   \n\n                               Rating     Rank Popularity Favorites Scored By  \\\n0      R - 17+ (violence & profanity)     41.0         43     78525    914193   \n1      R - 17+ (violence & profanity)    189.0        602      1448    206248   \n2           PG-13 - Teens 13 or older    328.0        246     15035    356739   \n3           PG-13 - Teens 13 or older   2764.0       1795       613     42829   \n4                       PG - Children   4240.0       5126        14      6413   \n...                               ...      ...        ...       ...       ...   \n24900       PG-13 - Teens 13 or older  UNKNOWN      24723         0         0   \n24901       PG-13 - Teens 13 or older      0.0          0         0         0   \n24902       PG-13 - Teens 13 or older      0.0          0         0         0   \n24903       PG-13 - Teens 13 or older      0.0          0         0         0   \n24904       PG-13 - Teens 13 or older      0.0          0         0         0   \n\n       Members                                          Image URL  \\\n0      1771505  https://cdn.myanimelist.net/images/anime/4/196...   \n1       360978  https://cdn.myanimelist.net/images/anime/1439/...   \n2       727252  https://cdn.myanimelist.net/images/anime/7/203...   \n3       111931  https://cdn.myanimelist.net/images/anime/10/19...   \n4        15001  https://cdn.myanimelist.net/images/anime/7/215...   \n...        ...                                                ...   \n24900        0  https://cdn.myanimelist.net/images/anime/1386/...   \n24901        0  https://cdn.myanimelist.net/images/anime/1383/...   \n24902        0  https://cdn.myanimelist.net/images/anime/1130/...   \n24903        0  https://cdn.myanimelist.net/images/anime/1931/...   \n24904        0  https://cdn.myanimelist.net/images/anime/1902/...   \n\n                             Mod_name  \n0                        cowboy bebop  \n1      cowboy bebop tengoku no tobira  \n2                              trigun  \n3                  witch hunter robin  \n4                      bouken ou beet  \n...                               ...  \n24900                     wu nao monu  \n24901              bu xing si yuan qi  \n24902                     di yi xulie  \n24903        bokura no saishuu sensou  \n24904                  shijuuku nichi  \n\n[24903 rows x 23 columns]",
      "text/html": "<div>\n<style scoped>\n    .dataframe tbody tr th:only-of-type {\n        vertical-align: middle;\n    }\n\n    .dataframe tbody tr th {\n        vertical-align: top;\n    }\n\n    .dataframe thead th {\n        text-align: right;\n    }\n</style>\n<table border=\"1\" class=\"dataframe\">\n  <thead>\n    <tr style=\"text-align: right;\">\n      <th></th>\n      <th>anime_id</th>\n      <th>Name</th>\n      <th>English name</th>\n      <th>Other name</th>\n      <th>Score</th>\n      <th>Genres</th>\n      <th>Synopsis</th>\n      <th>Type</th>\n      <th>Episodes</th>\n      <th>Aired</th>\n      <th>...</th>\n      <th>Source</th>\n      <th>Duration</th>\n      <th>Rating</th>\n      <th>Rank</th>\n      <th>Popularity</th>\n      <th>Favorites</th>\n      <th>Scored By</th>\n      <th>Members</th>\n      <th>Image URL</th>\n      <th>Mod_name</th>\n    </tr>\n  </thead>\n  <tbody>\n    <tr>\n      <th>0</th>\n      <td>1</td>\n      <td>Cowboy Bebop</td>\n      <td>Cowboy Bebop</td>\n      <td>カウボーイビバップ</td>\n      <td>8.75</td>\n      <td>Action, Award Winning, Sci-Fi</td>\n      <td>Crime is timeless. By the year 2071, humanity ...</td>\n      <td>TV</td>\n      <td>26.0</td>\n      <td>Apr 3, 1998 to Apr 24, 1999</td>\n      <td>...</td>\n      <td>Original</td>\n      <td>24 min per ep</td>\n      <td>R - 17+ (violence &amp; profanity)</td>\n      <td>41.0</td>\n      <td>43</td>\n      <td>78525</td>\n      <td>914193</td>\n      <td>1771505</td>\n      <td>https://cdn.myanimelist.net/images/anime/4/196...</td>\n      <td>cowboy bebop</td>\n    </tr>\n    <tr>\n      <th>1</th>\n      <td>5</td>\n      <td>Cowboy Bebop: Tengoku no Tobira</td>\n      <td>Cowboy Bebop: The Movie</td>\n      <td>カウボーイビバップ 天国の扉</td>\n      <td>8.38</td>\n      <td>Action, Sci-Fi</td>\n      <td>Another day, another bounty—such is the life o...</td>\n      <td>Movie</td>\n      <td>1.0</td>\n      <td>Sep 1, 2001</td>\n      <td>...</td>\n      <td>Original</td>\n      <td>1 hr 55 min</td>\n      <td>R - 17+ (violence &amp; profanity)</td>\n      <td>189.0</td>\n      <td>602</td>\n      <td>1448</td>\n      <td>206248</td>\n      <td>360978</td>\n      <td>https://cdn.myanimelist.net/images/anime/1439/...</td>\n      <td>cowboy bebop tengoku no tobira</td>\n    </tr>\n    <tr>\n      <th>2</th>\n      <td>6</td>\n      <td>Trigun</td>\n      <td>Trigun</td>\n      <td>トライガン</td>\n      <td>8.22</td>\n      <td>Action, Adventure, Sci-Fi</td>\n      <td>Vash the Stampede is the man with a $$60,000,0...</td>\n      <td>TV</td>\n      <td>26.0</td>\n      <td>Apr 1, 1998 to Sep 30, 1998</td>\n      <td>...</td>\n      <td>Manga</td>\n      <td>24 min per ep</td>\n      <td>PG-13 - Teens 13 or older</td>\n      <td>328.0</td>\n      <td>246</td>\n      <td>15035</td>\n      <td>356739</td>\n      <td>727252</td>\n      <td>https://cdn.myanimelist.net/images/anime/7/203...</td>\n      <td>trigun</td>\n    </tr>\n    <tr>\n      <th>3</th>\n      <td>7</td>\n      <td>Witch Hunter Robin</td>\n      <td>Witch Hunter Robin</td>\n      <td>Witch Hunter ROBIN (ウイッチハンターロビン)</td>\n      <td>7.25</td>\n      <td>Action, Drama, Mystery, Supernatural</td>\n      <td>Robin Sena is a powerful craft user drafted in...</td>\n      <td>TV</td>\n      <td>26.0</td>\n      <td>Jul 3, 2002 to Dec 25, 2002</td>\n      <td>...</td>\n      <td>Original</td>\n      <td>25 min per ep</td>\n      <td>PG-13 - Teens 13 or older</td>\n      <td>2764.0</td>\n      <td>1795</td>\n      <td>613</td>\n      <td>42829</td>\n      <td>111931</td>\n      <td>https://cdn.myanimelist.net/images/anime/10/19...</td>\n      <td>witch hunter robin</td>\n    </tr>\n    <tr>\n      <th>4</th>\n      <td>8</td>\n      <td>Bouken Ou Beet</td>\n      <td>Beet the Vandel Buster</td>\n      <td>冒険王ビィト</td>\n      <td>6.94</td>\n      <td>Adventure, Fantasy, Supernatural</td>\n      <td>It is the dark century and the people are suff...</td>\n      <td>TV</td>\n      <td>52.0</td>\n      <td>Sep 30, 2004 to Sep 29, 2005</td>\n      <td>...</td>\n      <td>Manga</td>\n      <td>23 min per ep</td>\n      <td>PG - Children</td>\n      <td>4240.0</td>\n      <td>5126</td>\n      <td>14</td>\n      <td>6413</td>\n      <td>15001</td>\n      <td>https://cdn.myanimelist.net/images/anime/7/215...</td>\n      <td>bouken ou beet</td>\n    </tr>\n    <tr>\n      <th>...</th>\n      <td>...</td>\n      <td>...</td>\n      <td>...</td>\n      <td>...</td>\n      <td>...</td>\n      <td>...</td>\n      <td>...</td>\n      <td>...</td>\n      <td>...</td>\n      <td>...</td>\n      <td>...</td>\n      <td>...</td>\n      <td>...</td>\n      <td>...</td>\n      <td>...</td>\n      <td>...</td>\n      <td>...</td>\n      <td>...</td>\n      <td>...</td>\n      <td>...</td>\n      <td>...</td>\n    </tr>\n    <tr>\n      <th>24900</th>\n      <td>55731</td>\n      <td>Wu Nao Monu</td>\n      <td>UNKNOWN</td>\n      <td>无脑魔女</td>\n      <td>0.00</td>\n      <td>Comedy, Fantasy, Slice of Life</td>\n      <td>No description available for this anime.</td>\n      <td>ONA</td>\n      <td>15.0</td>\n      <td>Jul 4, 2023 to ?</td>\n      <td>...</td>\n      <td>Web manga</td>\n      <td>Unknown</td>\n      <td>PG-13 - Teens 13 or older</td>\n      <td>UNKNOWN</td>\n      <td>24723</td>\n      <td>0</td>\n      <td>0</td>\n      <td>0</td>\n      <td>https://cdn.myanimelist.net/images/anime/1386/...</td>\n      <td>wu nao monu</td>\n    </tr>\n    <tr>\n      <th>24901</th>\n      <td>55732</td>\n      <td>Bu Xing Si: Yuan Qi</td>\n      <td>Blader Soul</td>\n      <td>捕星司·源起</td>\n      <td>0.00</td>\n      <td>Action, Adventure, Fantasy</td>\n      <td>No description available for this anime.</td>\n      <td>ONA</td>\n      <td>18.0</td>\n      <td>Jul 27, 2023 to ?</td>\n      <td>...</td>\n      <td>Web novel</td>\n      <td>Unknown</td>\n      <td>PG-13 - Teens 13 or older</td>\n      <td>0.0</td>\n      <td>0</td>\n      <td>0</td>\n      <td>0</td>\n      <td>0</td>\n      <td>https://cdn.myanimelist.net/images/anime/1383/...</td>\n      <td>bu xing si yuan qi</td>\n    </tr>\n    <tr>\n      <th>24902</th>\n      <td>55733</td>\n      <td>Di Yi Xulie</td>\n      <td>The First Order</td>\n      <td>第一序列</td>\n      <td>0.00</td>\n      <td>Action, Adventure, Fantasy, Sci-Fi</td>\n      <td>No description available for this anime.</td>\n      <td>ONA</td>\n      <td>16.0</td>\n      <td>Jul 19, 2023 to ?</td>\n      <td>...</td>\n      <td>Web novel</td>\n      <td>Unknown</td>\n      <td>PG-13 - Teens 13 or older</td>\n      <td>0.0</td>\n      <td>0</td>\n      <td>0</td>\n      <td>0</td>\n      <td>0</td>\n      <td>https://cdn.myanimelist.net/images/anime/1130/...</td>\n      <td>di yi xulie</td>\n    </tr>\n    <tr>\n      <th>24903</th>\n      <td>55734</td>\n      <td>Bokura no Saishuu Sensou</td>\n      <td>UNKNOWN</td>\n      <td>僕らの最終戦争</td>\n      <td>0.00</td>\n      <td>UNKNOWN</td>\n      <td>A music video for the song Bokura no Saishuu S...</td>\n      <td>Music</td>\n      <td>1.0</td>\n      <td>Apr 23, 2022</td>\n      <td>...</td>\n      <td>Original</td>\n      <td>3 min</td>\n      <td>PG-13 - Teens 13 or older</td>\n      <td>0.0</td>\n      <td>0</td>\n      <td>0</td>\n      <td>0</td>\n      <td>0</td>\n      <td>https://cdn.myanimelist.net/images/anime/1931/...</td>\n      <td>bokura no saishuu sensou</td>\n    </tr>\n    <tr>\n      <th>24904</th>\n      <td>55735</td>\n      <td>Shijuuku Nichi</td>\n      <td>UNKNOWN</td>\n      <td>四十九日</td>\n      <td>0.00</td>\n      <td>UNKNOWN</td>\n      <td>A music video for the song Shijuuku Nichi by S...</td>\n      <td>Music</td>\n      <td>1.0</td>\n      <td>Sep 5, 2022</td>\n      <td>...</td>\n      <td>Original</td>\n      <td>3 min</td>\n      <td>PG-13 - Teens 13 or older</td>\n      <td>0.0</td>\n      <td>0</td>\n      <td>0</td>\n      <td>0</td>\n      <td>0</td>\n      <td>https://cdn.myanimelist.net/images/anime/1902/...</td>\n      <td>shijuuku nichi</td>\n    </tr>\n  </tbody>\n</table>\n<p>24903 rows × 23 columns</p>\n</div>"
     },
     "execution_count": 41,
     "metadata": {},
     "output_type": "execute_result"
    }
   ],
   "source": [
    "filtered"
   ],
   "metadata": {
    "collapsed": false,
    "ExecuteTime": {
     "end_time": "2024-04-11T17:54:36.013155100Z",
     "start_time": "2024-04-11T17:54:35.909337200Z"
    }
   },
   "id": "2b3b8aab90ed3cff"
  },
  {
   "cell_type": "code",
   "execution_count": 42,
   "outputs": [],
   "source": [
    "filtered.to_parquet('anime/anime.parquet', index=False)"
   ],
   "metadata": {
    "collapsed": false,
    "ExecuteTime": {
     "end_time": "2024-04-11T17:54:54.728533100Z",
     "start_time": "2024-04-11T17:54:54.422574300Z"
    }
   },
   "id": "189f5e4c97a64327"
  },
  {
   "cell_type": "code",
   "execution_count": 37,
   "outputs": [],
   "source": [
    "%timeit\n",
    "old = pd.read_parquet('anime/anime.parquet')"
   ],
   "metadata": {
    "collapsed": false,
    "ExecuteTime": {
     "end_time": "2024-04-11T17:49:06.760149200Z",
     "start_time": "2024-04-11T17:49:06.544690400Z"
    }
   },
   "id": "b4ed8968d2f93d10"
  },
  {
   "cell_type": "code",
   "execution_count": 50,
   "outputs": [
    {
     "data": {
      "text/plain": "anime_id                                                       75\nName                            Soukyuu no Fafner: Dead Aggressor\nEnglish name                                               Fafner\nOther name                                 蒼穹のファフナーDead Aggressor\nScore                                                        7.26\nGenres                                      Action, Drama, Sci-Fi\nSynopsis        Tatsumiyajima is the central island in the mid...\nType                                                           TV\nEpisodes                                                     25.0\nAired                                 Jul 5, 2004 to Dec 27, 2004\nPremiered                                             summer 2004\nStatus                                            Finished Airing\nStudios                                                     Xebec\nSource                                                   Original\nDuration                                            24 min per ep\nRating                                  PG-13 - Teens 13 or older\nRank                                                       2751.0\nPopularity                                                   3000\nFavorites                                                     260\nScored By                                                   14750\nMembers                                                     47077\nImage URL       https://cdn.myanimelist.net/images/anime/3/503...\nMod_name                         soukyuu no fafner dead aggressor\nName: 55, dtype: object"
     },
     "execution_count": 50,
     "metadata": {},
     "output_type": "execute_result"
    }
   ],
   "source": [
    "filtered.loc[55]"
   ],
   "metadata": {
    "collapsed": false,
    "ExecuteTime": {
     "end_time": "2024-04-11T17:59:14.451258Z",
     "start_time": "2024-04-11T17:59:14.391506400Z"
    }
   },
   "id": "9675c5b0be3a4a41"
  },
  {
   "cell_type": "code",
   "execution_count": null,
   "outputs": [],
   "source": [],
   "metadata": {
    "collapsed": false
   },
   "id": "88c5c4cc2f67717c"
  }
 ],
 "metadata": {
  "kernelspec": {
   "display_name": "Python 3",
   "language": "python",
   "name": "python3"
  },
  "language_info": {
   "codemirror_mode": {
    "name": "ipython",
    "version": 2
   },
   "file_extension": ".py",
   "mimetype": "text/x-python",
   "name": "python",
   "nbconvert_exporter": "python",
   "pygments_lexer": "ipython2",
   "version": "2.7.6"
  }
 },
 "nbformat": 4,
 "nbformat_minor": 5
}
