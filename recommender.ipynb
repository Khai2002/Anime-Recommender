{
 "cells": [
  {
   "cell_type": "code",
   "execution_count": 1,
   "id": "initial_id",
   "metadata": {
    "collapsed": true,
    "ExecuteTime": {
     "end_time": "2024-04-11T17:59:29.989722700Z",
     "start_time": "2024-04-11T17:59:28.374807100Z"
    }
   },
   "outputs": [],
   "source": [
    "import numpy as np\n",
    "import pandas as pd\n",
    "import math\n",
    "from tqdm import tqdm"
   ]
  },
  {
   "cell_type": "code",
   "execution_count": 2,
   "outputs": [
    {
     "data": {
      "text/plain": "       anime_id                             Name             English name  \\\n0             1                     Cowboy Bebop             Cowboy Bebop   \n1             5  Cowboy Bebop: Tengoku no Tobira  Cowboy Bebop: The Movie   \n2             6                           Trigun                   Trigun   \n3             7               Witch Hunter Robin       Witch Hunter Robin   \n4             8                   Bouken Ou Beet   Beet the Vandel Buster   \n...         ...                              ...                      ...   \n24898     55731                      Wu Nao Monu                  UNKNOWN   \n24899     55732              Bu Xing Si: Yuan Qi              Blader Soul   \n24900     55733                      Di Yi Xulie          The First Order   \n24901     55734         Bokura no Saishuu Sensou                  UNKNOWN   \n24902     55735                   Shijuuku Nichi                  UNKNOWN   \n\n                             Other name  Score  \\\n0                             カウボーイビバップ   8.75   \n1                        カウボーイビバップ 天国の扉   8.38   \n2                                 トライガン   8.22   \n3      Witch Hunter ROBIN (ウイッチハンターロビン)   7.25   \n4                                冒険王ビィト   6.94   \n...                                 ...    ...   \n24898                              无脑魔女   0.00   \n24899                            捕星司·源起   0.00   \n24900                              第一序列   0.00   \n24901                           僕らの最終戦争   0.00   \n24902                              四十九日   0.00   \n\n                                     Genres  \\\n0             Action, Award Winning, Sci-Fi   \n1                            Action, Sci-Fi   \n2                 Action, Adventure, Sci-Fi   \n3      Action, Drama, Mystery, Supernatural   \n4          Adventure, Fantasy, Supernatural   \n...                                     ...   \n24898        Comedy, Fantasy, Slice of Life   \n24899            Action, Adventure, Fantasy   \n24900    Action, Adventure, Fantasy, Sci-Fi   \n24901                               UNKNOWN   \n24902                               UNKNOWN   \n\n                                                Synopsis   Type Episodes  \\\n0      Crime is timeless. By the year 2071, humanity ...     TV     26.0   \n1      Another day, another bounty—such is the life o...  Movie      1.0   \n2      Vash the Stampede is the man with a $$60,000,0...     TV     26.0   \n3      Robin Sena is a powerful craft user drafted in...     TV     26.0   \n4      It is the dark century and the people are suff...     TV     52.0   \n...                                                  ...    ...      ...   \n24898           No description available for this anime.    ONA     15.0   \n24899           No description available for this anime.    ONA     18.0   \n24900           No description available for this anime.    ONA     16.0   \n24901  A music video for the song Bokura no Saishuu S...  Music      1.0   \n24902  A music video for the song Shijuuku Nichi by S...  Music      1.0   \n\n                              Aired  ...     Source       Duration  \\\n0       Apr 3, 1998 to Apr 24, 1999  ...   Original  24 min per ep   \n1                       Sep 1, 2001  ...   Original    1 hr 55 min   \n2       Apr 1, 1998 to Sep 30, 1998  ...      Manga  24 min per ep   \n3       Jul 3, 2002 to Dec 25, 2002  ...   Original  25 min per ep   \n4      Sep 30, 2004 to Sep 29, 2005  ...      Manga  23 min per ep   \n...                             ...  ...        ...            ...   \n24898              Jul 4, 2023 to ?  ...  Web manga        Unknown   \n24899             Jul 27, 2023 to ?  ...  Web novel        Unknown   \n24900             Jul 19, 2023 to ?  ...  Web novel        Unknown   \n24901                  Apr 23, 2022  ...   Original          3 min   \n24902                   Sep 5, 2022  ...   Original          3 min   \n\n                               Rating     Rank Popularity Favorites Scored By  \\\n0      R - 17+ (violence & profanity)     41.0         43     78525    914193   \n1      R - 17+ (violence & profanity)    189.0        602      1448    206248   \n2           PG-13 - Teens 13 or older    328.0        246     15035    356739   \n3           PG-13 - Teens 13 or older   2764.0       1795       613     42829   \n4                       PG - Children   4240.0       5126        14      6413   \n...                               ...      ...        ...       ...       ...   \n24898       PG-13 - Teens 13 or older  UNKNOWN      24723         0         0   \n24899       PG-13 - Teens 13 or older      0.0          0         0         0   \n24900       PG-13 - Teens 13 or older      0.0          0         0         0   \n24901       PG-13 - Teens 13 or older      0.0          0         0         0   \n24902       PG-13 - Teens 13 or older      0.0          0         0         0   \n\n       Members                                          Image URL  \\\n0      1771505  https://cdn.myanimelist.net/images/anime/4/196...   \n1       360978  https://cdn.myanimelist.net/images/anime/1439/...   \n2       727252  https://cdn.myanimelist.net/images/anime/7/203...   \n3       111931  https://cdn.myanimelist.net/images/anime/10/19...   \n4        15001  https://cdn.myanimelist.net/images/anime/7/215...   \n...        ...                                                ...   \n24898        0  https://cdn.myanimelist.net/images/anime/1386/...   \n24899        0  https://cdn.myanimelist.net/images/anime/1383/...   \n24900        0  https://cdn.myanimelist.net/images/anime/1130/...   \n24901        0  https://cdn.myanimelist.net/images/anime/1931/...   \n24902        0  https://cdn.myanimelist.net/images/anime/1902/...   \n\n                             Mod_name  \n0                        cowboy bebop  \n1      cowboy bebop tengoku no tobira  \n2                              trigun  \n3                  witch hunter robin  \n4                      bouken ou beet  \n...                               ...  \n24898                     wu nao monu  \n24899              bu xing si yuan qi  \n24900                     di yi xulie  \n24901        bokura no saishuu sensou  \n24902                  shijuuku nichi  \n\n[24903 rows x 23 columns]",
      "text/html": "<div>\n<style scoped>\n    .dataframe tbody tr th:only-of-type {\n        vertical-align: middle;\n    }\n\n    .dataframe tbody tr th {\n        vertical-align: top;\n    }\n\n    .dataframe thead th {\n        text-align: right;\n    }\n</style>\n<table border=\"1\" class=\"dataframe\">\n  <thead>\n    <tr style=\"text-align: right;\">\n      <th></th>\n      <th>anime_id</th>\n      <th>Name</th>\n      <th>English name</th>\n      <th>Other name</th>\n      <th>Score</th>\n      <th>Genres</th>\n      <th>Synopsis</th>\n      <th>Type</th>\n      <th>Episodes</th>\n      <th>Aired</th>\n      <th>...</th>\n      <th>Source</th>\n      <th>Duration</th>\n      <th>Rating</th>\n      <th>Rank</th>\n      <th>Popularity</th>\n      <th>Favorites</th>\n      <th>Scored By</th>\n      <th>Members</th>\n      <th>Image URL</th>\n      <th>Mod_name</th>\n    </tr>\n  </thead>\n  <tbody>\n    <tr>\n      <th>0</th>\n      <td>1</td>\n      <td>Cowboy Bebop</td>\n      <td>Cowboy Bebop</td>\n      <td>カウボーイビバップ</td>\n      <td>8.75</td>\n      <td>Action, Award Winning, Sci-Fi</td>\n      <td>Crime is timeless. By the year 2071, humanity ...</td>\n      <td>TV</td>\n      <td>26.0</td>\n      <td>Apr 3, 1998 to Apr 24, 1999</td>\n      <td>...</td>\n      <td>Original</td>\n      <td>24 min per ep</td>\n      <td>R - 17+ (violence &amp; profanity)</td>\n      <td>41.0</td>\n      <td>43</td>\n      <td>78525</td>\n      <td>914193</td>\n      <td>1771505</td>\n      <td>https://cdn.myanimelist.net/images/anime/4/196...</td>\n      <td>cowboy bebop</td>\n    </tr>\n    <tr>\n      <th>1</th>\n      <td>5</td>\n      <td>Cowboy Bebop: Tengoku no Tobira</td>\n      <td>Cowboy Bebop: The Movie</td>\n      <td>カウボーイビバップ 天国の扉</td>\n      <td>8.38</td>\n      <td>Action, Sci-Fi</td>\n      <td>Another day, another bounty—such is the life o...</td>\n      <td>Movie</td>\n      <td>1.0</td>\n      <td>Sep 1, 2001</td>\n      <td>...</td>\n      <td>Original</td>\n      <td>1 hr 55 min</td>\n      <td>R - 17+ (violence &amp; profanity)</td>\n      <td>189.0</td>\n      <td>602</td>\n      <td>1448</td>\n      <td>206248</td>\n      <td>360978</td>\n      <td>https://cdn.myanimelist.net/images/anime/1439/...</td>\n      <td>cowboy bebop tengoku no tobira</td>\n    </tr>\n    <tr>\n      <th>2</th>\n      <td>6</td>\n      <td>Trigun</td>\n      <td>Trigun</td>\n      <td>トライガン</td>\n      <td>8.22</td>\n      <td>Action, Adventure, Sci-Fi</td>\n      <td>Vash the Stampede is the man with a $$60,000,0...</td>\n      <td>TV</td>\n      <td>26.0</td>\n      <td>Apr 1, 1998 to Sep 30, 1998</td>\n      <td>...</td>\n      <td>Manga</td>\n      <td>24 min per ep</td>\n      <td>PG-13 - Teens 13 or older</td>\n      <td>328.0</td>\n      <td>246</td>\n      <td>15035</td>\n      <td>356739</td>\n      <td>727252</td>\n      <td>https://cdn.myanimelist.net/images/anime/7/203...</td>\n      <td>trigun</td>\n    </tr>\n    <tr>\n      <th>3</th>\n      <td>7</td>\n      <td>Witch Hunter Robin</td>\n      <td>Witch Hunter Robin</td>\n      <td>Witch Hunter ROBIN (ウイッチハンターロビン)</td>\n      <td>7.25</td>\n      <td>Action, Drama, Mystery, Supernatural</td>\n      <td>Robin Sena is a powerful craft user drafted in...</td>\n      <td>TV</td>\n      <td>26.0</td>\n      <td>Jul 3, 2002 to Dec 25, 2002</td>\n      <td>...</td>\n      <td>Original</td>\n      <td>25 min per ep</td>\n      <td>PG-13 - Teens 13 or older</td>\n      <td>2764.0</td>\n      <td>1795</td>\n      <td>613</td>\n      <td>42829</td>\n      <td>111931</td>\n      <td>https://cdn.myanimelist.net/images/anime/10/19...</td>\n      <td>witch hunter robin</td>\n    </tr>\n    <tr>\n      <th>4</th>\n      <td>8</td>\n      <td>Bouken Ou Beet</td>\n      <td>Beet the Vandel Buster</td>\n      <td>冒険王ビィト</td>\n      <td>6.94</td>\n      <td>Adventure, Fantasy, Supernatural</td>\n      <td>It is the dark century and the people are suff...</td>\n      <td>TV</td>\n      <td>52.0</td>\n      <td>Sep 30, 2004 to Sep 29, 2005</td>\n      <td>...</td>\n      <td>Manga</td>\n      <td>23 min per ep</td>\n      <td>PG - Children</td>\n      <td>4240.0</td>\n      <td>5126</td>\n      <td>14</td>\n      <td>6413</td>\n      <td>15001</td>\n      <td>https://cdn.myanimelist.net/images/anime/7/215...</td>\n      <td>bouken ou beet</td>\n    </tr>\n    <tr>\n      <th>...</th>\n      <td>...</td>\n      <td>...</td>\n      <td>...</td>\n      <td>...</td>\n      <td>...</td>\n      <td>...</td>\n      <td>...</td>\n      <td>...</td>\n      <td>...</td>\n      <td>...</td>\n      <td>...</td>\n      <td>...</td>\n      <td>...</td>\n      <td>...</td>\n      <td>...</td>\n      <td>...</td>\n      <td>...</td>\n      <td>...</td>\n      <td>...</td>\n      <td>...</td>\n      <td>...</td>\n    </tr>\n    <tr>\n      <th>24898</th>\n      <td>55731</td>\n      <td>Wu Nao Monu</td>\n      <td>UNKNOWN</td>\n      <td>无脑魔女</td>\n      <td>0.00</td>\n      <td>Comedy, Fantasy, Slice of Life</td>\n      <td>No description available for this anime.</td>\n      <td>ONA</td>\n      <td>15.0</td>\n      <td>Jul 4, 2023 to ?</td>\n      <td>...</td>\n      <td>Web manga</td>\n      <td>Unknown</td>\n      <td>PG-13 - Teens 13 or older</td>\n      <td>UNKNOWN</td>\n      <td>24723</td>\n      <td>0</td>\n      <td>0</td>\n      <td>0</td>\n      <td>https://cdn.myanimelist.net/images/anime/1386/...</td>\n      <td>wu nao monu</td>\n    </tr>\n    <tr>\n      <th>24899</th>\n      <td>55732</td>\n      <td>Bu Xing Si: Yuan Qi</td>\n      <td>Blader Soul</td>\n      <td>捕星司·源起</td>\n      <td>0.00</td>\n      <td>Action, Adventure, Fantasy</td>\n      <td>No description available for this anime.</td>\n      <td>ONA</td>\n      <td>18.0</td>\n      <td>Jul 27, 2023 to ?</td>\n      <td>...</td>\n      <td>Web novel</td>\n      <td>Unknown</td>\n      <td>PG-13 - Teens 13 or older</td>\n      <td>0.0</td>\n      <td>0</td>\n      <td>0</td>\n      <td>0</td>\n      <td>0</td>\n      <td>https://cdn.myanimelist.net/images/anime/1383/...</td>\n      <td>bu xing si yuan qi</td>\n    </tr>\n    <tr>\n      <th>24900</th>\n      <td>55733</td>\n      <td>Di Yi Xulie</td>\n      <td>The First Order</td>\n      <td>第一序列</td>\n      <td>0.00</td>\n      <td>Action, Adventure, Fantasy, Sci-Fi</td>\n      <td>No description available for this anime.</td>\n      <td>ONA</td>\n      <td>16.0</td>\n      <td>Jul 19, 2023 to ?</td>\n      <td>...</td>\n      <td>Web novel</td>\n      <td>Unknown</td>\n      <td>PG-13 - Teens 13 or older</td>\n      <td>0.0</td>\n      <td>0</td>\n      <td>0</td>\n      <td>0</td>\n      <td>0</td>\n      <td>https://cdn.myanimelist.net/images/anime/1130/...</td>\n      <td>di yi xulie</td>\n    </tr>\n    <tr>\n      <th>24901</th>\n      <td>55734</td>\n      <td>Bokura no Saishuu Sensou</td>\n      <td>UNKNOWN</td>\n      <td>僕らの最終戦争</td>\n      <td>0.00</td>\n      <td>UNKNOWN</td>\n      <td>A music video for the song Bokura no Saishuu S...</td>\n      <td>Music</td>\n      <td>1.0</td>\n      <td>Apr 23, 2022</td>\n      <td>...</td>\n      <td>Original</td>\n      <td>3 min</td>\n      <td>PG-13 - Teens 13 or older</td>\n      <td>0.0</td>\n      <td>0</td>\n      <td>0</td>\n      <td>0</td>\n      <td>0</td>\n      <td>https://cdn.myanimelist.net/images/anime/1931/...</td>\n      <td>bokura no saishuu sensou</td>\n    </tr>\n    <tr>\n      <th>24902</th>\n      <td>55735</td>\n      <td>Shijuuku Nichi</td>\n      <td>UNKNOWN</td>\n      <td>四十九日</td>\n      <td>0.00</td>\n      <td>UNKNOWN</td>\n      <td>A music video for the song Shijuuku Nichi by S...</td>\n      <td>Music</td>\n      <td>1.0</td>\n      <td>Sep 5, 2022</td>\n      <td>...</td>\n      <td>Original</td>\n      <td>3 min</td>\n      <td>PG-13 - Teens 13 or older</td>\n      <td>0.0</td>\n      <td>0</td>\n      <td>0</td>\n      <td>0</td>\n      <td>0</td>\n      <td>https://cdn.myanimelist.net/images/anime/1902/...</td>\n      <td>shijuuku nichi</td>\n    </tr>\n  </tbody>\n</table>\n<p>24903 rows × 23 columns</p>\n</div>"
     },
     "execution_count": 2,
     "metadata": {},
     "output_type": "execute_result"
    }
   ],
   "source": [
    "anime = pd.read_parquet('anime/anime.parquet')\n",
    "anime"
   ],
   "metadata": {
    "collapsed": false,
    "ExecuteTime": {
     "end_time": "2024-04-11T17:59:31.095055100Z",
     "start_time": "2024-04-11T17:59:29.996718600Z"
    }
   },
   "id": "f28b5069e42459f9"
  },
  {
   "cell_type": "code",
   "execution_count": 3,
   "outputs": [
    {
     "data": {
      "text/plain": "       anime_id                                               Name  \\\n5336       8365  Crayon Shin-chan Movie 13: Densetsu wo Yobu Bu...   \n7428      16498                                 Shingeki no Kyojin   \n7857      18397                             Shingeki no Kyojin OVA   \n8030      19285                    Shingeki no Kyojin: Ano Hi Kara   \n8046      19391                   Shingeki no Kyojin Picture Drama   \n8512      21843                       Shingeki no Bahamut: Genesis   \n8988      23775        Shingeki no Kyojin Movie 1: Guren no Yumiya   \n8989      23777       Shingeki no Kyojin Movie 2: Jiyuu no Tsubasa   \n9352      25777                        Shingeki no Kyojin Season 2   \n9353      25781                Shingeki no Kyojin: Kuinaki Sentaku   \n9752      28447             Shingeki no Bahamut: Genesis - Roundup   \n10588     30736                   Shingeki no Bahamut: Virgin Soul   \n10874     31374                        Shingeki! Kyojin Chuugakkou   \n12461     34642         Shingeki no Bahamut: Genesis - Short Story   \n12775     35122                                 Shingeki no Kyotou   \n13175     35760                        Shingeki no Kyojin Season 3   \n13348     36106                     Shingeki no Kyojin: Lost Girls   \n13720     36702  Shingeki no Kyojin Season 2 Movie: Kakusei no ...   \n14864     38524                 Shingeki no Kyojin Season 3 Part 2   \n15519     39477               Shingeki no Kyojin Season 3 Specials   \n15520     39478  Shingeki no Kyojin in the Dome: Heishi-tachi n...   \n15821     40028               Shingeki no Kyojin: The Final Season   \n16826     42091                      Shingeki no Kyojin: Chronicle   \n20971     48583        Shingeki no Kyojin: The Final Season Part 2   \n21409     49627      Shingeki no Kyojin: The Final Season Specials   \n21449     49739                      Snickers x Shingeki no Kyojin   \n22156     51239            10-pun de Oitsukeru: Shingeki no Kyojin   \n22157     51240            15-pun de Oitsukeru: Shingeki no Kyojin   \n22158     51241            20-pun de Oitsukeru: Shingeki no Kyojin   \n22347     51535  Shingeki no Kyojin: The Final Season - Kankets...   \n24111     54560            25-pun de Oitsukeru: Shingeki no Kyojin   \n\n                                            English name  \\\n5336                                             UNKNOWN   \n7428                                     Attack on Titan   \n7857                                 Attack on Titan OAD   \n8030                     Attack on Titan: Since That Day   \n8046   Attack on Titan: Chibi Theater - Fly, Cadets, ...   \n8512                            Rage of Bahamut: Genesis   \n8988              Attack on Titan: Crimson Bow and Arrow   \n8989                   Attack on Titan: Wings of Freedom   \n9352                            Attack on Titan Season 2   \n9353                         Attack on Titan: No Regrets   \n9752                                             UNKNOWN   \n10588                       Rage of Bahamut: Virgin Soul   \n10874                       Attack on Titan: Junior High   \n12461                                            UNKNOWN   \n12775                                  Attack on Skytree   \n13175                           Attack on Titan Season 3   \n13348                        Attack on Titan: Lost Girls   \n13720             Attack on Titan: The Roar of Awakening   \n14864                    Attack on Titan Season 3 Part 2   \n15519  Attack on Titan: Chibi Theater - Survey Corps,...   \n15520  Attack on Titan in the Dome: Soldiers' Starry Sky   \n15821                      Attack on Titan: Final Season   \n16826                         Attack on Titan: Chronicle   \n20971               Attack on Titan: Final Season Part 2   \n21409  Attack on Titan: Chibi Theater - Survey Corps,...   \n21449                         Snickers x Attack on Titan   \n22156                      Attack on Titan in 10 Minutes   \n22157                      Attack on Titan in 15 Minutes   \n22158                      Attack on Titan in 20 Minutes   \n22347  Attack on Titan: The Final Season - Final Chap...   \n24111                      Attack on Titan in 25 Minutes   \n\n                              Other name  Score  \\\n5336   映画 クレヨンしんちゃん　伝説を呼ぶ　ブリブリ　３分ポッキリ大進撃   6.62   \n7428                               進撃の巨人   8.54   \n7857                            進撃の巨人ＯＡＤ   7.87   \n8030                    進撃の巨人 総集編「あの日から」   7.34   \n8046          「進撃の巨人」ちみキャラ劇場\"とんでけ! 訓練兵団\"   6.60   \n8512                    神撃のバハムート GENESIS   7.62   \n8988                 劇場版「進撃の巨人」前編～紅蓮の弓矢～   7.74   \n8989                  劇場版「進撃の巨人」後編～自由の翼～   7.85   \n9352                       進撃の巨人 Season2   8.50   \n9353                        進撃の巨人 悔いなき選択   8.41   \n9752            神撃のバハムート GENESIS Roundup   6.34   \n10588               神撃のバハムート VIRGIN SOUL   7.43   \n10874                           進撃！巨人中学校   7.20   \n12461     【神撃のバハムート GENESIS】 Short story   7.12   \n12775                              進撃の巨塔   6.37   \n13175                      進撃の巨人 Season3   8.62   \n13348                   進撃の巨人 LOST GIRLS   7.81   \n13720           劇場版 進撃の巨人 Season2〜覚醒の咆哮〜   7.83   \n14864               進撃の巨人 Season3 Part.2   9.05   \n15519       ｢進撃の巨人｣ちみキャラ劇場”とんでけ！新生リヴァイ班”   7.55   \n15520        進撃の巨人 IN THE DOME -兵士たちの星空-   7.11   \n15821             進撃の巨人 The Final Season   8.80   \n16826                      進撃の巨人 〜クロニクル〜   7.73   \n20971      進撃の巨人 The Final Season Part 2   8.77   \n21409    進撃の巨人 The Final Season Specials   6.98   \n21449                       スニッカーズ×進撃の巨人   6.00   \n22156               10分で追いつける！アニメ「進撃の巨人」   6.15   \n22157               15分で追いつける！アニメ『進撃の巨人』   6.17   \n22158               20分で追いつける！アニメ『進撃の巨人』   6.13   \n22347          進撃の巨人 The Final Season完結編   9.05   \n24111               25分で追いつける！アニメ『進撃の巨人』   0.00   \n\n                                       Genres  \\\n5336             Comedy, Slice of Life, Ecchi   \n7428   Action, Award Winning, Drama, Suspense   \n7857                            Action, Drama   \n8030                            Action, Drama   \n8046                                   Comedy   \n8512               Action, Adventure, Fantasy   \n8988                            Action, Drama   \n8989                            Action, Drama   \n9352                  Action, Drama, Suspense   \n9353                                   Action   \n9752               Action, Adventure, Fantasy   \n10588              Action, Adventure, Fantasy   \n10874                                  Comedy   \n12461              Action, Adventure, Fantasy   \n12775                         Action, Fantasy   \n13175                           Action, Drama   \n13348                           Action, Drama   \n13720                           Action, Drama   \n14864                           Action, Drama   \n15519                                  Comedy   \n15520                                 UNKNOWN   \n15821                           Action, Drama   \n16826                           Action, Drama   \n20971                           Action, Drama   \n21409                                  Comedy   \n21449                                  Comedy   \n22156         Action, Drama, Fantasy, Mystery   \n22157         Action, Drama, Fantasy, Mystery   \n22158         Action, Drama, Fantasy, Mystery   \n22347                 Action, Drama, Suspense   \n24111         Action, Drama, Fantasy, Mystery   \n\n                                                Synopsis     Type Episodes  \\\n5336   An action comedy including parodies of tokusat...    Movie      1.0   \n7428   Centuries ago, mankind was slaughtered to near...       TV     25.0   \n7857   Ilse no Techou: Aru Chousa Heidanin no Shuki\\n...      OVA      3.0   \n8030   Recap of the events in Shingeki no Kyojin that...  Special      1.0   \n8046   Shingeki no Kyojin Picture Drama  is a series ...  Special      9.0   \n8512   Thousands of years ago, the ancient dragon Bah...       TV     12.0   \n8988                             Recap of episodes 1-13.    Movie      1.0   \n8989                            Recap of episodes 14-25.    Movie      1.0   \n9352   For centuries, humanity has been hunted by gia...       TV     12.0   \n9353   Many years before becoming the famed captain o...      OVA      2.0   \n9752   Recap of the first six episodes of Shingeki no...  Special      1.0   \n10588  A decade ago, humans, gods, and demons joined ...       TV     24.0   \n10874  On his first day of junior high, Eren Yeager c...       TV     12.0   \n12461  The first short story focuses on Favaro and Ka...      ONA      2.0   \n12775  A special anime featuring a battle against the...    Movie      1.0   \n13175  Still threatened by the \"Titans\" that rob them...       TV     12.0   \n13348  Wall Sina, Goodbye\\nAnnie Leonhart has a job t...      OVA      3.0   \n13720  Eren Yeager and others of the 104th Training C...    Movie      1.0   \n14864  Seeking to restore humanity's diminishing hope...       TV     10.0   \n15519  Shingeki no Kyojin Season 3 DVD/BD specials. T...  Special      7.0   \n15520  A planetarium film screened originally at the ...    Movie      1.0   \n15821  Gabi Braun and Falco Grice have been training ...       TV     16.0   \n16826  The compilation film will recap the anime's 59...    Movie      1.0   \n20971  Turning against his former allies and enemies ...       TV     12.0   \n21409  Shingeki no Kyojin Season 4 DVD/BD specials. T...  Special      2.0   \n21449  The campaign's concept is \"Attack Celebrity\" (...  Special      2.0   \n22156  A special video that can catch up with the con...      ONA      1.0   \n22157  A special video that catches up with the conte...      ONA      1.0   \n22158  20 minutes to catch up with the contents of Se...      ONA      1.0   \n22347  In the wake of Eren Yeager's cataclysmic actio...  Special      2.0   \n24111  25 minutes to catch up with the contents of Se...      ONA      1.0   \n\n                              Aired  ...        Source           Duration  \\\n5336                   Apr 16, 2005  ...         Manga        1 hr 28 min   \n7428    Apr 7, 2013 to Sep 29, 2013  ...         Manga      24 min per ep   \n7857     Dec 9, 2013 to Aug 8, 2014  ...         Manga      23 min per ep   \n8030                    Jul 7, 2013  ...         Manga             24 min   \n8046   Jul 17, 2013 to Mar 19, 2014  ...         Manga      10 min per ep   \n8512    Oct 6, 2014 to Dec 29, 2014  ...     Card game      24 min per ep   \n8988                   Nov 22, 2014  ...         Manga        1 hr 58 min   \n8989                   Jun 27, 2015  ...         Manga               2 hr   \n9352    Apr 1, 2017 to Jun 17, 2017  ...         Manga      24 min per ep   \n9353     Dec 9, 2014 to Apr 9, 2015  ...  Visual novel      27 min per ep   \n9752                   Nov 18, 2014  ...          Game             24 min   \n10588   Apr 8, 2017 to Sep 30, 2017  ...     Card game      24 min per ep   \n10874   Oct 4, 2015 to Dec 20, 2015  ...         Manga      17 min per ep   \n12461  Dec 28, 2016 to Feb 20, 2017  ...          Game       9 min per ep   \n12775                  Apr 10, 2017  ...         Manga              7 min   \n13175  Jul 23, 2018 to Oct 15, 2018  ...         Manga      23 min per ep   \n13348    Dec 8, 2017 to Aug 9, 2018  ...         Novel      25 min per ep   \n13720                  Jan 13, 2018  ...         Manga               2 hr   \n14864   Apr 29, 2019 to Jul 1, 2019  ...         Manga      23 min per ep   \n15519  Oct 17, 2018 to Sep 18, 2019  ...         Manga       2 min per ep   \n15520                  May 20, 2017  ...         Manga             20 min   \n15821   Dec 7, 2020 to Mar 29, 2021  ...         Manga      23 min per ep   \n16826                  Jul 17, 2020  ...         Manga               2 hr   \n20971   Jan 10, 2022 to Apr 4, 2022  ...         Manga      23 min per ep   \n21409    Jul 7, 2021 to Aug 4, 2021  ...         Manga       5 min per ep   \n21449    Oct 1, 2019 to Nov 1, 2019  ...       Unknown      30 sec per ep   \n22156                   Jul 2, 2018  ...         Manga             11 min   \n22157                   Dec 2, 2020  ...         Manga             15 min   \n22158                  Dec 27, 2021  ...         Manga             20 min   \n22347           Mar 4, 2023 to 2023  ...         Manga  1 hr 1 min per ep   \n24111                  Feb 18, 2023  ...         Manga             25 min   \n\n                               Rating    Rank Popularity Favorites Scored By  \\\n5336                     G - All Ages  5728.0       8956         3      1708   \n7428   R - 17+ (violence & profanity)   107.0          1    163844   2660903   \n7857   R - 17+ (violence & profanity)   781.0        470       897    258640   \n8030   R - 17+ (violence & profanity)  2350.0       1551       344     66364   \n8046        PG-13 - Teens 13 or older  5842.0       2773        75     26703   \n8512   R - 17+ (violence & profanity)  1342.0        533      1664    176666   \n8988   R - 17+ (violence & profanity)  1052.0       1740       197     48540   \n8989   R - 17+ (violence & profanity)   832.0       1688       222     46923   \n9352   R - 17+ (violence & profanity)   128.0         12     20899   1761316   \n9353   R - 17+ (violence & profanity)   169.0        418      1865    292266   \n9752   R - 17+ (violence & profanity)  7165.0       5010         7      6398   \n10588  R - 17+ (violence & profanity)  1975.0        952       997     87448   \n10874       PG-13 - Teens 13 or older  3051.0        892       775    139358   \n12461       PG-13 - Teens 13 or older  3443.0       4007        11     10411   \n12775       PG-13 - Teens 13 or older  7023.0       4170        81      6775   \n13175  R - 17+ (violence & profanity)    78.0         18     19825   1505962   \n13348  R - 17+ (violence & profanity)   893.0        764       540    148653   \n13720  R - 17+ (violence & profanity)   867.0       2528        82     19690   \n14864  R - 17+ (violence & profanity)     6.0         24     55245   1471825   \n15519                    G - All Ages  1569.0       3638        56      9721   \n15520  R - 17+ (violence & profanity)  3505.0       4646        18      3115   \n15821  R - 17+ (violence & profanity)    34.0         41     51403   1219934   \n16826  R - 17+ (violence & profanity)  1078.0       2208       224     25414   \n20971  R - 17+ (violence & profanity)    39.0        119     29161    628827   \n21409                    G - All Ages  4082.0       6180        28      2235   \n21449       PG-13 - Teens 13 or older  8847.0       8961        14      1643   \n22156  R - 17+ (violence & profanity)  8088.0      10966        11       708   \n22157  R - 17+ (violence & profanity)  8014.0      10924         1       655   \n22158  R - 17+ (violence & profanity)  8223.0      10840         3       677   \n22347  R - 17+ (violence & profanity)     7.0        479      9078    155773   \n24111  R - 17+ (violence & profanity)     0.0          0         0         0   \n\n       Members                                          Image URL  \\\n5336      3573  https://cdn.myanimelist.net/images/anime/6/220...   \n7428   3744541  https://cdn.myanimelist.net/images/anime/10/47...   \n7857    442327  https://cdn.myanimelist.net/images/anime/9/592...   \n8030    134163  https://cdn.myanimelist.net/images/anime/3/517...   \n8046     54585  https://cdn.myanimelist.net/images/anime/8/534...   \n8512    400576  https://cdn.myanimelist.net/images/anime/2/675...   \n8988    116318  https://cdn.myanimelist.net/images/anime/7/632...   \n8989    121251  https://cdn.myanimelist.net/images/anime/2/725...   \n9352   2566796  https://cdn.myanimelist.net/images/anime/4/841...   \n9353    488704  https://cdn.myanimelist.net/images/anime/8/694...   \n9752     16037  https://cdn.myanimelist.net/images/anime/3/687...   \n10588   234925  https://cdn.myanimelist.net/images/anime/13/85...   \n10874   251268  https://cdn.myanimelist.net/images/anime/3/754...   \n12461    26758  https://cdn.myanimelist.net/images/anime/1581/...   \n12775    24604  https://cdn.myanimelist.net/images/anime/3/847...   \n13175  2212297  https://cdn.myanimelist.net/images/anime/1173/...   \n13348   291631  https://cdn.myanimelist.net/images/anime/3/894...   \n13720    65088  https://cdn.myanimelist.net/images/anime/1710/...   \n14864  2104016  https://cdn.myanimelist.net/images/anime/1517/...   \n15519    32717  https://cdn.myanimelist.net/images/anime/1909/...   \n15520    19337  https://cdn.myanimelist.net/images/anime/1893/...   \n15821  1846397  https://cdn.myanimelist.net/images/anime/1000/...   \n16826    81015  https://cdn.myanimelist.net/images/anime/1786/...   \n20971  1133470  https://cdn.myanimelist.net/images/anime/1948/...   \n21409     9491  https://cdn.myanimelist.net/images/anime/1470/...   \n21449     3569  https://cdn.myanimelist.net/images/anime/1305/...   \n22156     1811  https://cdn.myanimelist.net/images/anime/1261/...   \n22157     1842  https://cdn.myanimelist.net/images/anime/1226/...   \n22158     1900  https://cdn.myanimelist.net/images/anime/1582/...   \n22347   435672  https://cdn.myanimelist.net/images/anime/1279/...   \n24111        0  https://cdn.myanimelist.net/images/anime/1773/...   \n\n                                                Mod_name  \n5336   crayon shinchan movie 13 densetsu wo yobu buri...  \n7428                                  shingeki no kyojin  \n7857                              shingeki no kyojin ova  \n8030                      shingeki no kyojin ano hi kara  \n8046                    shingeki no kyojin picture drama  \n8512                         shingeki no bahamut genesis  \n8988          shingeki no kyojin movie 1 guren no yumiya  \n8989         shingeki no kyojin movie 2 jiyuu no tsubasa  \n9352                         shingeki no kyojin season 2  \n9353                  shingeki no kyojin kuinaki sentaku  \n9752                 shingeki no bahamut genesis roundup  \n10588                    shingeki no bahamut virgin soul  \n10874                         shingeki kyojin chuugakkou  \n12461            shingeki no bahamut genesis short story  \n12775                                 shingeki no kyotou  \n13175                        shingeki no kyojin season 3  \n13348                      shingeki no kyojin lost girls  \n13720  shingeki no kyojin season 2 movie kakusei no h...  \n14864                 shingeki no kyojin season 3 part 2  \n15519               shingeki no kyojin season 3 specials  \n15520  shingeki no kyojin in the dome heishitachi no ...  \n15821                shingeki no kyojin the final season  \n16826                       shingeki no kyojin chronicle  \n20971         shingeki no kyojin the final season part 2  \n21409       shingeki no kyojin the final season specials  \n21449                      snickers x shingeki no kyojin  \n22156              10pun de oitsukeru shingeki no kyojin  \n22157              15pun de oitsukeru shingeki no kyojin  \n22158              20pun de oitsukeru shingeki no kyojin  \n22347    shingeki no kyojin the final season kanketsuhen  \n24111              25pun de oitsukeru shingeki no kyojin  \n\n[31 rows x 23 columns]",
      "text/html": "<div>\n<style scoped>\n    .dataframe tbody tr th:only-of-type {\n        vertical-align: middle;\n    }\n\n    .dataframe tbody tr th {\n        vertical-align: top;\n    }\n\n    .dataframe thead th {\n        text-align: right;\n    }\n</style>\n<table border=\"1\" class=\"dataframe\">\n  <thead>\n    <tr style=\"text-align: right;\">\n      <th></th>\n      <th>anime_id</th>\n      <th>Name</th>\n      <th>English name</th>\n      <th>Other name</th>\n      <th>Score</th>\n      <th>Genres</th>\n      <th>Synopsis</th>\n      <th>Type</th>\n      <th>Episodes</th>\n      <th>Aired</th>\n      <th>...</th>\n      <th>Source</th>\n      <th>Duration</th>\n      <th>Rating</th>\n      <th>Rank</th>\n      <th>Popularity</th>\n      <th>Favorites</th>\n      <th>Scored By</th>\n      <th>Members</th>\n      <th>Image URL</th>\n      <th>Mod_name</th>\n    </tr>\n  </thead>\n  <tbody>\n    <tr>\n      <th>5336</th>\n      <td>8365</td>\n      <td>Crayon Shin-chan Movie 13: Densetsu wo Yobu Bu...</td>\n      <td>UNKNOWN</td>\n      <td>映画 クレヨンしんちゃん　伝説を呼ぶ　ブリブリ　３分ポッキリ大進撃</td>\n      <td>6.62</td>\n      <td>Comedy, Slice of Life, Ecchi</td>\n      <td>An action comedy including parodies of tokusat...</td>\n      <td>Movie</td>\n      <td>1.0</td>\n      <td>Apr 16, 2005</td>\n      <td>...</td>\n      <td>Manga</td>\n      <td>1 hr 28 min</td>\n      <td>G - All Ages</td>\n      <td>5728.0</td>\n      <td>8956</td>\n      <td>3</td>\n      <td>1708</td>\n      <td>3573</td>\n      <td>https://cdn.myanimelist.net/images/anime/6/220...</td>\n      <td>crayon shinchan movie 13 densetsu wo yobu buri...</td>\n    </tr>\n    <tr>\n      <th>7428</th>\n      <td>16498</td>\n      <td>Shingeki no Kyojin</td>\n      <td>Attack on Titan</td>\n      <td>進撃の巨人</td>\n      <td>8.54</td>\n      <td>Action, Award Winning, Drama, Suspense</td>\n      <td>Centuries ago, mankind was slaughtered to near...</td>\n      <td>TV</td>\n      <td>25.0</td>\n      <td>Apr 7, 2013 to Sep 29, 2013</td>\n      <td>...</td>\n      <td>Manga</td>\n      <td>24 min per ep</td>\n      <td>R - 17+ (violence &amp; profanity)</td>\n      <td>107.0</td>\n      <td>1</td>\n      <td>163844</td>\n      <td>2660903</td>\n      <td>3744541</td>\n      <td>https://cdn.myanimelist.net/images/anime/10/47...</td>\n      <td>shingeki no kyojin</td>\n    </tr>\n    <tr>\n      <th>7857</th>\n      <td>18397</td>\n      <td>Shingeki no Kyojin OVA</td>\n      <td>Attack on Titan OAD</td>\n      <td>進撃の巨人ＯＡＤ</td>\n      <td>7.87</td>\n      <td>Action, Drama</td>\n      <td>Ilse no Techou: Aru Chousa Heidanin no Shuki\\n...</td>\n      <td>OVA</td>\n      <td>3.0</td>\n      <td>Dec 9, 2013 to Aug 8, 2014</td>\n      <td>...</td>\n      <td>Manga</td>\n      <td>23 min per ep</td>\n      <td>R - 17+ (violence &amp; profanity)</td>\n      <td>781.0</td>\n      <td>470</td>\n      <td>897</td>\n      <td>258640</td>\n      <td>442327</td>\n      <td>https://cdn.myanimelist.net/images/anime/9/592...</td>\n      <td>shingeki no kyojin ova</td>\n    </tr>\n    <tr>\n      <th>8030</th>\n      <td>19285</td>\n      <td>Shingeki no Kyojin: Ano Hi Kara</td>\n      <td>Attack on Titan: Since That Day</td>\n      <td>進撃の巨人 総集編「あの日から」</td>\n      <td>7.34</td>\n      <td>Action, Drama</td>\n      <td>Recap of the events in Shingeki no Kyojin that...</td>\n      <td>Special</td>\n      <td>1.0</td>\n      <td>Jul 7, 2013</td>\n      <td>...</td>\n      <td>Manga</td>\n      <td>24 min</td>\n      <td>R - 17+ (violence &amp; profanity)</td>\n      <td>2350.0</td>\n      <td>1551</td>\n      <td>344</td>\n      <td>66364</td>\n      <td>134163</td>\n      <td>https://cdn.myanimelist.net/images/anime/3/517...</td>\n      <td>shingeki no kyojin ano hi kara</td>\n    </tr>\n    <tr>\n      <th>8046</th>\n      <td>19391</td>\n      <td>Shingeki no Kyojin Picture Drama</td>\n      <td>Attack on Titan: Chibi Theater - Fly, Cadets, ...</td>\n      <td>「進撃の巨人」ちみキャラ劇場\"とんでけ! 訓練兵団\"</td>\n      <td>6.60</td>\n      <td>Comedy</td>\n      <td>Shingeki no Kyojin Picture Drama  is a series ...</td>\n      <td>Special</td>\n      <td>9.0</td>\n      <td>Jul 17, 2013 to Mar 19, 2014</td>\n      <td>...</td>\n      <td>Manga</td>\n      <td>10 min per ep</td>\n      <td>PG-13 - Teens 13 or older</td>\n      <td>5842.0</td>\n      <td>2773</td>\n      <td>75</td>\n      <td>26703</td>\n      <td>54585</td>\n      <td>https://cdn.myanimelist.net/images/anime/8/534...</td>\n      <td>shingeki no kyojin picture drama</td>\n    </tr>\n    <tr>\n      <th>8512</th>\n      <td>21843</td>\n      <td>Shingeki no Bahamut: Genesis</td>\n      <td>Rage of Bahamut: Genesis</td>\n      <td>神撃のバハムート GENESIS</td>\n      <td>7.62</td>\n      <td>Action, Adventure, Fantasy</td>\n      <td>Thousands of years ago, the ancient dragon Bah...</td>\n      <td>TV</td>\n      <td>12.0</td>\n      <td>Oct 6, 2014 to Dec 29, 2014</td>\n      <td>...</td>\n      <td>Card game</td>\n      <td>24 min per ep</td>\n      <td>R - 17+ (violence &amp; profanity)</td>\n      <td>1342.0</td>\n      <td>533</td>\n      <td>1664</td>\n      <td>176666</td>\n      <td>400576</td>\n      <td>https://cdn.myanimelist.net/images/anime/2/675...</td>\n      <td>shingeki no bahamut genesis</td>\n    </tr>\n    <tr>\n      <th>8988</th>\n      <td>23775</td>\n      <td>Shingeki no Kyojin Movie 1: Guren no Yumiya</td>\n      <td>Attack on Titan: Crimson Bow and Arrow</td>\n      <td>劇場版「進撃の巨人」前編～紅蓮の弓矢～</td>\n      <td>7.74</td>\n      <td>Action, Drama</td>\n      <td>Recap of episodes 1-13.</td>\n      <td>Movie</td>\n      <td>1.0</td>\n      <td>Nov 22, 2014</td>\n      <td>...</td>\n      <td>Manga</td>\n      <td>1 hr 58 min</td>\n      <td>R - 17+ (violence &amp; profanity)</td>\n      <td>1052.0</td>\n      <td>1740</td>\n      <td>197</td>\n      <td>48540</td>\n      <td>116318</td>\n      <td>https://cdn.myanimelist.net/images/anime/7/632...</td>\n      <td>shingeki no kyojin movie 1 guren no yumiya</td>\n    </tr>\n    <tr>\n      <th>8989</th>\n      <td>23777</td>\n      <td>Shingeki no Kyojin Movie 2: Jiyuu no Tsubasa</td>\n      <td>Attack on Titan: Wings of Freedom</td>\n      <td>劇場版「進撃の巨人」後編～自由の翼～</td>\n      <td>7.85</td>\n      <td>Action, Drama</td>\n      <td>Recap of episodes 14-25.</td>\n      <td>Movie</td>\n      <td>1.0</td>\n      <td>Jun 27, 2015</td>\n      <td>...</td>\n      <td>Manga</td>\n      <td>2 hr</td>\n      <td>R - 17+ (violence &amp; profanity)</td>\n      <td>832.0</td>\n      <td>1688</td>\n      <td>222</td>\n      <td>46923</td>\n      <td>121251</td>\n      <td>https://cdn.myanimelist.net/images/anime/2/725...</td>\n      <td>shingeki no kyojin movie 2 jiyuu no tsubasa</td>\n    </tr>\n    <tr>\n      <th>9352</th>\n      <td>25777</td>\n      <td>Shingeki no Kyojin Season 2</td>\n      <td>Attack on Titan Season 2</td>\n      <td>進撃の巨人 Season2</td>\n      <td>8.50</td>\n      <td>Action, Drama, Suspense</td>\n      <td>For centuries, humanity has been hunted by gia...</td>\n      <td>TV</td>\n      <td>12.0</td>\n      <td>Apr 1, 2017 to Jun 17, 2017</td>\n      <td>...</td>\n      <td>Manga</td>\n      <td>24 min per ep</td>\n      <td>R - 17+ (violence &amp; profanity)</td>\n      <td>128.0</td>\n      <td>12</td>\n      <td>20899</td>\n      <td>1761316</td>\n      <td>2566796</td>\n      <td>https://cdn.myanimelist.net/images/anime/4/841...</td>\n      <td>shingeki no kyojin season 2</td>\n    </tr>\n    <tr>\n      <th>9353</th>\n      <td>25781</td>\n      <td>Shingeki no Kyojin: Kuinaki Sentaku</td>\n      <td>Attack on Titan: No Regrets</td>\n      <td>進撃の巨人 悔いなき選択</td>\n      <td>8.41</td>\n      <td>Action</td>\n      <td>Many years before becoming the famed captain o...</td>\n      <td>OVA</td>\n      <td>2.0</td>\n      <td>Dec 9, 2014 to Apr 9, 2015</td>\n      <td>...</td>\n      <td>Visual novel</td>\n      <td>27 min per ep</td>\n      <td>R - 17+ (violence &amp; profanity)</td>\n      <td>169.0</td>\n      <td>418</td>\n      <td>1865</td>\n      <td>292266</td>\n      <td>488704</td>\n      <td>https://cdn.myanimelist.net/images/anime/8/694...</td>\n      <td>shingeki no kyojin kuinaki sentaku</td>\n    </tr>\n    <tr>\n      <th>9752</th>\n      <td>28447</td>\n      <td>Shingeki no Bahamut: Genesis - Roundup</td>\n      <td>UNKNOWN</td>\n      <td>神撃のバハムート GENESIS Roundup</td>\n      <td>6.34</td>\n      <td>Action, Adventure, Fantasy</td>\n      <td>Recap of the first six episodes of Shingeki no...</td>\n      <td>Special</td>\n      <td>1.0</td>\n      <td>Nov 18, 2014</td>\n      <td>...</td>\n      <td>Game</td>\n      <td>24 min</td>\n      <td>R - 17+ (violence &amp; profanity)</td>\n      <td>7165.0</td>\n      <td>5010</td>\n      <td>7</td>\n      <td>6398</td>\n      <td>16037</td>\n      <td>https://cdn.myanimelist.net/images/anime/3/687...</td>\n      <td>shingeki no bahamut genesis roundup</td>\n    </tr>\n    <tr>\n      <th>10588</th>\n      <td>30736</td>\n      <td>Shingeki no Bahamut: Virgin Soul</td>\n      <td>Rage of Bahamut: Virgin Soul</td>\n      <td>神撃のバハムート VIRGIN SOUL</td>\n      <td>7.43</td>\n      <td>Action, Adventure, Fantasy</td>\n      <td>A decade ago, humans, gods, and demons joined ...</td>\n      <td>TV</td>\n      <td>24.0</td>\n      <td>Apr 8, 2017 to Sep 30, 2017</td>\n      <td>...</td>\n      <td>Card game</td>\n      <td>24 min per ep</td>\n      <td>R - 17+ (violence &amp; profanity)</td>\n      <td>1975.0</td>\n      <td>952</td>\n      <td>997</td>\n      <td>87448</td>\n      <td>234925</td>\n      <td>https://cdn.myanimelist.net/images/anime/13/85...</td>\n      <td>shingeki no bahamut virgin soul</td>\n    </tr>\n    <tr>\n      <th>10874</th>\n      <td>31374</td>\n      <td>Shingeki! Kyojin Chuugakkou</td>\n      <td>Attack on Titan: Junior High</td>\n      <td>進撃！巨人中学校</td>\n      <td>7.20</td>\n      <td>Comedy</td>\n      <td>On his first day of junior high, Eren Yeager c...</td>\n      <td>TV</td>\n      <td>12.0</td>\n      <td>Oct 4, 2015 to Dec 20, 2015</td>\n      <td>...</td>\n      <td>Manga</td>\n      <td>17 min per ep</td>\n      <td>PG-13 - Teens 13 or older</td>\n      <td>3051.0</td>\n      <td>892</td>\n      <td>775</td>\n      <td>139358</td>\n      <td>251268</td>\n      <td>https://cdn.myanimelist.net/images/anime/3/754...</td>\n      <td>shingeki kyojin chuugakkou</td>\n    </tr>\n    <tr>\n      <th>12461</th>\n      <td>34642</td>\n      <td>Shingeki no Bahamut: Genesis - Short Story</td>\n      <td>UNKNOWN</td>\n      <td>【神撃のバハムート GENESIS】 Short story</td>\n      <td>7.12</td>\n      <td>Action, Adventure, Fantasy</td>\n      <td>The first short story focuses on Favaro and Ka...</td>\n      <td>ONA</td>\n      <td>2.0</td>\n      <td>Dec 28, 2016 to Feb 20, 2017</td>\n      <td>...</td>\n      <td>Game</td>\n      <td>9 min per ep</td>\n      <td>PG-13 - Teens 13 or older</td>\n      <td>3443.0</td>\n      <td>4007</td>\n      <td>11</td>\n      <td>10411</td>\n      <td>26758</td>\n      <td>https://cdn.myanimelist.net/images/anime/1581/...</td>\n      <td>shingeki no bahamut genesis short story</td>\n    </tr>\n    <tr>\n      <th>12775</th>\n      <td>35122</td>\n      <td>Shingeki no Kyotou</td>\n      <td>Attack on Skytree</td>\n      <td>進撃の巨塔</td>\n      <td>6.37</td>\n      <td>Action, Fantasy</td>\n      <td>A special anime featuring a battle against the...</td>\n      <td>Movie</td>\n      <td>1.0</td>\n      <td>Apr 10, 2017</td>\n      <td>...</td>\n      <td>Manga</td>\n      <td>7 min</td>\n      <td>PG-13 - Teens 13 or older</td>\n      <td>7023.0</td>\n      <td>4170</td>\n      <td>81</td>\n      <td>6775</td>\n      <td>24604</td>\n      <td>https://cdn.myanimelist.net/images/anime/3/847...</td>\n      <td>shingeki no kyotou</td>\n    </tr>\n    <tr>\n      <th>13175</th>\n      <td>35760</td>\n      <td>Shingeki no Kyojin Season 3</td>\n      <td>Attack on Titan Season 3</td>\n      <td>進撃の巨人 Season3</td>\n      <td>8.62</td>\n      <td>Action, Drama</td>\n      <td>Still threatened by the \"Titans\" that rob them...</td>\n      <td>TV</td>\n      <td>12.0</td>\n      <td>Jul 23, 2018 to Oct 15, 2018</td>\n      <td>...</td>\n      <td>Manga</td>\n      <td>23 min per ep</td>\n      <td>R - 17+ (violence &amp; profanity)</td>\n      <td>78.0</td>\n      <td>18</td>\n      <td>19825</td>\n      <td>1505962</td>\n      <td>2212297</td>\n      <td>https://cdn.myanimelist.net/images/anime/1173/...</td>\n      <td>shingeki no kyojin season 3</td>\n    </tr>\n    <tr>\n      <th>13348</th>\n      <td>36106</td>\n      <td>Shingeki no Kyojin: Lost Girls</td>\n      <td>Attack on Titan: Lost Girls</td>\n      <td>進撃の巨人 LOST GIRLS</td>\n      <td>7.81</td>\n      <td>Action, Drama</td>\n      <td>Wall Sina, Goodbye\\nAnnie Leonhart has a job t...</td>\n      <td>OVA</td>\n      <td>3.0</td>\n      <td>Dec 8, 2017 to Aug 9, 2018</td>\n      <td>...</td>\n      <td>Novel</td>\n      <td>25 min per ep</td>\n      <td>R - 17+ (violence &amp; profanity)</td>\n      <td>893.0</td>\n      <td>764</td>\n      <td>540</td>\n      <td>148653</td>\n      <td>291631</td>\n      <td>https://cdn.myanimelist.net/images/anime/3/894...</td>\n      <td>shingeki no kyojin lost girls</td>\n    </tr>\n    <tr>\n      <th>13720</th>\n      <td>36702</td>\n      <td>Shingeki no Kyojin Season 2 Movie: Kakusei no ...</td>\n      <td>Attack on Titan: The Roar of Awakening</td>\n      <td>劇場版 進撃の巨人 Season2〜覚醒の咆哮〜</td>\n      <td>7.83</td>\n      <td>Action, Drama</td>\n      <td>Eren Yeager and others of the 104th Training C...</td>\n      <td>Movie</td>\n      <td>1.0</td>\n      <td>Jan 13, 2018</td>\n      <td>...</td>\n      <td>Manga</td>\n      <td>2 hr</td>\n      <td>R - 17+ (violence &amp; profanity)</td>\n      <td>867.0</td>\n      <td>2528</td>\n      <td>82</td>\n      <td>19690</td>\n      <td>65088</td>\n      <td>https://cdn.myanimelist.net/images/anime/1710/...</td>\n      <td>shingeki no kyojin season 2 movie kakusei no h...</td>\n    </tr>\n    <tr>\n      <th>14864</th>\n      <td>38524</td>\n      <td>Shingeki no Kyojin Season 3 Part 2</td>\n      <td>Attack on Titan Season 3 Part 2</td>\n      <td>進撃の巨人 Season3 Part.2</td>\n      <td>9.05</td>\n      <td>Action, Drama</td>\n      <td>Seeking to restore humanity's diminishing hope...</td>\n      <td>TV</td>\n      <td>10.0</td>\n      <td>Apr 29, 2019 to Jul 1, 2019</td>\n      <td>...</td>\n      <td>Manga</td>\n      <td>23 min per ep</td>\n      <td>R - 17+ (violence &amp; profanity)</td>\n      <td>6.0</td>\n      <td>24</td>\n      <td>55245</td>\n      <td>1471825</td>\n      <td>2104016</td>\n      <td>https://cdn.myanimelist.net/images/anime/1517/...</td>\n      <td>shingeki no kyojin season 3 part 2</td>\n    </tr>\n    <tr>\n      <th>15519</th>\n      <td>39477</td>\n      <td>Shingeki no Kyojin Season 3 Specials</td>\n      <td>Attack on Titan: Chibi Theater - Survey Corps,...</td>\n      <td>｢進撃の巨人｣ちみキャラ劇場”とんでけ！新生リヴァイ班”</td>\n      <td>7.55</td>\n      <td>Comedy</td>\n      <td>Shingeki no Kyojin Season 3 DVD/BD specials. T...</td>\n      <td>Special</td>\n      <td>7.0</td>\n      <td>Oct 17, 2018 to Sep 18, 2019</td>\n      <td>...</td>\n      <td>Manga</td>\n      <td>2 min per ep</td>\n      <td>G - All Ages</td>\n      <td>1569.0</td>\n      <td>3638</td>\n      <td>56</td>\n      <td>9721</td>\n      <td>32717</td>\n      <td>https://cdn.myanimelist.net/images/anime/1909/...</td>\n      <td>shingeki no kyojin season 3 specials</td>\n    </tr>\n    <tr>\n      <th>15520</th>\n      <td>39478</td>\n      <td>Shingeki no Kyojin in the Dome: Heishi-tachi n...</td>\n      <td>Attack on Titan in the Dome: Soldiers' Starry Sky</td>\n      <td>進撃の巨人 IN THE DOME -兵士たちの星空-</td>\n      <td>7.11</td>\n      <td>UNKNOWN</td>\n      <td>A planetarium film screened originally at the ...</td>\n      <td>Movie</td>\n      <td>1.0</td>\n      <td>May 20, 2017</td>\n      <td>...</td>\n      <td>Manga</td>\n      <td>20 min</td>\n      <td>R - 17+ (violence &amp; profanity)</td>\n      <td>3505.0</td>\n      <td>4646</td>\n      <td>18</td>\n      <td>3115</td>\n      <td>19337</td>\n      <td>https://cdn.myanimelist.net/images/anime/1893/...</td>\n      <td>shingeki no kyojin in the dome heishitachi no ...</td>\n    </tr>\n    <tr>\n      <th>15821</th>\n      <td>40028</td>\n      <td>Shingeki no Kyojin: The Final Season</td>\n      <td>Attack on Titan: Final Season</td>\n      <td>進撃の巨人 The Final Season</td>\n      <td>8.80</td>\n      <td>Action, Drama</td>\n      <td>Gabi Braun and Falco Grice have been training ...</td>\n      <td>TV</td>\n      <td>16.0</td>\n      <td>Dec 7, 2020 to Mar 29, 2021</td>\n      <td>...</td>\n      <td>Manga</td>\n      <td>23 min per ep</td>\n      <td>R - 17+ (violence &amp; profanity)</td>\n      <td>34.0</td>\n      <td>41</td>\n      <td>51403</td>\n      <td>1219934</td>\n      <td>1846397</td>\n      <td>https://cdn.myanimelist.net/images/anime/1000/...</td>\n      <td>shingeki no kyojin the final season</td>\n    </tr>\n    <tr>\n      <th>16826</th>\n      <td>42091</td>\n      <td>Shingeki no Kyojin: Chronicle</td>\n      <td>Attack on Titan: Chronicle</td>\n      <td>進撃の巨人 〜クロニクル〜</td>\n      <td>7.73</td>\n      <td>Action, Drama</td>\n      <td>The compilation film will recap the anime's 59...</td>\n      <td>Movie</td>\n      <td>1.0</td>\n      <td>Jul 17, 2020</td>\n      <td>...</td>\n      <td>Manga</td>\n      <td>2 hr</td>\n      <td>R - 17+ (violence &amp; profanity)</td>\n      <td>1078.0</td>\n      <td>2208</td>\n      <td>224</td>\n      <td>25414</td>\n      <td>81015</td>\n      <td>https://cdn.myanimelist.net/images/anime/1786/...</td>\n      <td>shingeki no kyojin chronicle</td>\n    </tr>\n    <tr>\n      <th>20971</th>\n      <td>48583</td>\n      <td>Shingeki no Kyojin: The Final Season Part 2</td>\n      <td>Attack on Titan: Final Season Part 2</td>\n      <td>進撃の巨人 The Final Season Part 2</td>\n      <td>8.77</td>\n      <td>Action, Drama</td>\n      <td>Turning against his former allies and enemies ...</td>\n      <td>TV</td>\n      <td>12.0</td>\n      <td>Jan 10, 2022 to Apr 4, 2022</td>\n      <td>...</td>\n      <td>Manga</td>\n      <td>23 min per ep</td>\n      <td>R - 17+ (violence &amp; profanity)</td>\n      <td>39.0</td>\n      <td>119</td>\n      <td>29161</td>\n      <td>628827</td>\n      <td>1133470</td>\n      <td>https://cdn.myanimelist.net/images/anime/1948/...</td>\n      <td>shingeki no kyojin the final season part 2</td>\n    </tr>\n    <tr>\n      <th>21409</th>\n      <td>49627</td>\n      <td>Shingeki no Kyojin: The Final Season Specials</td>\n      <td>Attack on Titan: Chibi Theater - Survey Corps,...</td>\n      <td>進撃の巨人 The Final Season Specials</td>\n      <td>6.98</td>\n      <td>Comedy</td>\n      <td>Shingeki no Kyojin Season 4 DVD/BD specials. T...</td>\n      <td>Special</td>\n      <td>2.0</td>\n      <td>Jul 7, 2021 to Aug 4, 2021</td>\n      <td>...</td>\n      <td>Manga</td>\n      <td>5 min per ep</td>\n      <td>G - All Ages</td>\n      <td>4082.0</td>\n      <td>6180</td>\n      <td>28</td>\n      <td>2235</td>\n      <td>9491</td>\n      <td>https://cdn.myanimelist.net/images/anime/1470/...</td>\n      <td>shingeki no kyojin the final season specials</td>\n    </tr>\n    <tr>\n      <th>21449</th>\n      <td>49739</td>\n      <td>Snickers x Shingeki no Kyojin</td>\n      <td>Snickers x Attack on Titan</td>\n      <td>スニッカーズ×進撃の巨人</td>\n      <td>6.00</td>\n      <td>Comedy</td>\n      <td>The campaign's concept is \"Attack Celebrity\" (...</td>\n      <td>Special</td>\n      <td>2.0</td>\n      <td>Oct 1, 2019 to Nov 1, 2019</td>\n      <td>...</td>\n      <td>Unknown</td>\n      <td>30 sec per ep</td>\n      <td>PG-13 - Teens 13 or older</td>\n      <td>8847.0</td>\n      <td>8961</td>\n      <td>14</td>\n      <td>1643</td>\n      <td>3569</td>\n      <td>https://cdn.myanimelist.net/images/anime/1305/...</td>\n      <td>snickers x shingeki no kyojin</td>\n    </tr>\n    <tr>\n      <th>22156</th>\n      <td>51239</td>\n      <td>10-pun de Oitsukeru: Shingeki no Kyojin</td>\n      <td>Attack on Titan in 10 Minutes</td>\n      <td>10分で追いつける！アニメ「進撃の巨人」</td>\n      <td>6.15</td>\n      <td>Action, Drama, Fantasy, Mystery</td>\n      <td>A special video that can catch up with the con...</td>\n      <td>ONA</td>\n      <td>1.0</td>\n      <td>Jul 2, 2018</td>\n      <td>...</td>\n      <td>Manga</td>\n      <td>11 min</td>\n      <td>R - 17+ (violence &amp; profanity)</td>\n      <td>8088.0</td>\n      <td>10966</td>\n      <td>11</td>\n      <td>708</td>\n      <td>1811</td>\n      <td>https://cdn.myanimelist.net/images/anime/1261/...</td>\n      <td>10pun de oitsukeru shingeki no kyojin</td>\n    </tr>\n    <tr>\n      <th>22157</th>\n      <td>51240</td>\n      <td>15-pun de Oitsukeru: Shingeki no Kyojin</td>\n      <td>Attack on Titan in 15 Minutes</td>\n      <td>15分で追いつける！アニメ『進撃の巨人』</td>\n      <td>6.17</td>\n      <td>Action, Drama, Fantasy, Mystery</td>\n      <td>A special video that catches up with the conte...</td>\n      <td>ONA</td>\n      <td>1.0</td>\n      <td>Dec 2, 2020</td>\n      <td>...</td>\n      <td>Manga</td>\n      <td>15 min</td>\n      <td>R - 17+ (violence &amp; profanity)</td>\n      <td>8014.0</td>\n      <td>10924</td>\n      <td>1</td>\n      <td>655</td>\n      <td>1842</td>\n      <td>https://cdn.myanimelist.net/images/anime/1226/...</td>\n      <td>15pun de oitsukeru shingeki no kyojin</td>\n    </tr>\n    <tr>\n      <th>22158</th>\n      <td>51241</td>\n      <td>20-pun de Oitsukeru: Shingeki no Kyojin</td>\n      <td>Attack on Titan in 20 Minutes</td>\n      <td>20分で追いつける！アニメ『進撃の巨人』</td>\n      <td>6.13</td>\n      <td>Action, Drama, Fantasy, Mystery</td>\n      <td>20 minutes to catch up with the contents of Se...</td>\n      <td>ONA</td>\n      <td>1.0</td>\n      <td>Dec 27, 2021</td>\n      <td>...</td>\n      <td>Manga</td>\n      <td>20 min</td>\n      <td>R - 17+ (violence &amp; profanity)</td>\n      <td>8223.0</td>\n      <td>10840</td>\n      <td>3</td>\n      <td>677</td>\n      <td>1900</td>\n      <td>https://cdn.myanimelist.net/images/anime/1582/...</td>\n      <td>20pun de oitsukeru shingeki no kyojin</td>\n    </tr>\n    <tr>\n      <th>22347</th>\n      <td>51535</td>\n      <td>Shingeki no Kyojin: The Final Season - Kankets...</td>\n      <td>Attack on Titan: The Final Season - Final Chap...</td>\n      <td>進撃の巨人 The Final Season完結編</td>\n      <td>9.05</td>\n      <td>Action, Drama, Suspense</td>\n      <td>In the wake of Eren Yeager's cataclysmic actio...</td>\n      <td>Special</td>\n      <td>2.0</td>\n      <td>Mar 4, 2023 to 2023</td>\n      <td>...</td>\n      <td>Manga</td>\n      <td>1 hr 1 min per ep</td>\n      <td>R - 17+ (violence &amp; profanity)</td>\n      <td>7.0</td>\n      <td>479</td>\n      <td>9078</td>\n      <td>155773</td>\n      <td>435672</td>\n      <td>https://cdn.myanimelist.net/images/anime/1279/...</td>\n      <td>shingeki no kyojin the final season kanketsuhen</td>\n    </tr>\n    <tr>\n      <th>24111</th>\n      <td>54560</td>\n      <td>25-pun de Oitsukeru: Shingeki no Kyojin</td>\n      <td>Attack on Titan in 25 Minutes</td>\n      <td>25分で追いつける！アニメ『進撃の巨人』</td>\n      <td>0.00</td>\n      <td>Action, Drama, Fantasy, Mystery</td>\n      <td>25 minutes to catch up with the contents of Se...</td>\n      <td>ONA</td>\n      <td>1.0</td>\n      <td>Feb 18, 2023</td>\n      <td>...</td>\n      <td>Manga</td>\n      <td>25 min</td>\n      <td>R - 17+ (violence &amp; profanity)</td>\n      <td>0.0</td>\n      <td>0</td>\n      <td>0</td>\n      <td>0</td>\n      <td>0</td>\n      <td>https://cdn.myanimelist.net/images/anime/1773/...</td>\n      <td>25pun de oitsukeru shingeki no kyojin</td>\n    </tr>\n  </tbody>\n</table>\n<p>31 rows × 23 columns</p>\n</div>"
     },
     "execution_count": 3,
     "metadata": {},
     "output_type": "execute_result"
    }
   ],
   "source": [
    "anime.loc[anime['Name'].str.contains('Shingeki')]"
   ],
   "metadata": {
    "collapsed": false,
    "ExecuteTime": {
     "end_time": "2024-04-11T17:59:31.370534900Z",
     "start_time": "2024-04-11T17:59:31.097057400Z"
    }
   },
   "id": "9b3aedc7a0fb1356"
  },
  {
   "cell_type": "code",
   "execution_count": 4,
   "outputs": [],
   "source": [
    "df = pd.read_parquet('score/users_scores_0.parquet')"
   ],
   "metadata": {
    "collapsed": false,
    "ExecuteTime": {
     "end_time": "2024-04-11T18:00:01.821796500Z",
     "start_time": "2024-04-11T18:00:01.683776200Z"
    }
   },
   "id": "21a13d816fa52a34"
  },
  {
   "cell_type": "markdown",
   "source": [
    "# Define Useful Functions"
   ],
   "metadata": {
    "collapsed": false
   },
   "id": "80974ca7e1c0976a"
  },
  {
   "cell_type": "markdown",
   "source": [],
   "metadata": {
    "collapsed": false
   },
   "id": "d2d32c6b6e8aeeea"
  },
  {
   "cell_type": "code",
   "execution_count": 5,
   "outputs": [],
   "source": [
    "def find_similar_user_interactions(data, anime_list, min_anime_similar=3, max_members=50, max_anime_reviewed=500):\n",
    "    data['same'] = data['anime_id'].isin(anime_list)\n",
    "    grouped_data = data.groupby('user_id').agg(num_same=('same', 'sum'), count_review=('same', 'count')).reset_index()\n",
    "    grouped_data = grouped_data[\n",
    "                       (grouped_data['num_same'] >= min_anime_similar) & \n",
    "                       (grouped_data['count_review'] < max_anime_reviewed)\n",
    "                   ].sort_values(by='num_same', ascending=False).iloc[:max_members]\n",
    "    selected_users = grouped_data['user_id'].tolist()\n",
    "    return data.loc[data['user_id'].isin(selected_users)].drop('same', axis=1)"
   ],
   "metadata": {
    "collapsed": false,
    "ExecuteTime": {
     "end_time": "2024-04-11T18:00:03.709645700Z",
     "start_time": "2024-04-11T18:00:03.700575900Z"
    }
   },
   "id": "153e076f4293a905"
  },
  {
   "cell_type": "code",
   "execution_count": 6,
   "outputs": [],
   "source": [
    "def find_total_similar_user_interactions(anime_list, coverage=1, min_anime_similar=2, max_members=50, max_anime_reviewed=500):\n",
    "    users = []\n",
    "    counter = 0\n",
    "    files = np.arange(5)\n",
    "    np.random.shuffle(files)\n",
    "    coverage_count = 0\n",
    "    \n",
    "    for i in files:\n",
    "        print(f\"Visiting file {i}\")\n",
    "        data = pd.read_parquet(f'score/users_scores_{i}.parquet')\n",
    "        temp = find_similar_user_interactions(data, anime_list, min_anime_similar, max_members - counter, max_anime_reviewed)\n",
    "        users.append(temp)\n",
    "        counter += len(temp)\n",
    "        coverage_count += 1\n",
    "        \n",
    "        # if coverage_count >= coverage:\n",
    "        #     break\n",
    "        \n",
    "        # if counter >= max_members:\n",
    "        #     break\n",
    "            \n",
    "    return pd.concat(users, axis=0)"
   ],
   "metadata": {
    "collapsed": false,
    "ExecuteTime": {
     "end_time": "2024-04-11T18:00:04.561147900Z",
     "start_time": "2024-04-11T18:00:04.549005500Z"
    }
   },
   "id": "a5d07709370f91c7"
  },
  {
   "cell_type": "code",
   "execution_count": 7,
   "outputs": [],
   "source": [
    "def generate_rating(liked_book_list, rating=10):\n",
    "    interaction_list = []\n",
    "    for book in liked_book_list:\n",
    "        interaction_list.append([0, book, rating])\n",
    "    return pd.DataFrame(interaction_list, columns=['user_id', 'anime_id', 'rating'])"
   ],
   "metadata": {
    "collapsed": false,
    "ExecuteTime": {
     "end_time": "2024-04-11T18:00:05.246630800Z",
     "start_time": "2024-04-11T18:00:05.230691600Z"
    }
   },
   "id": "581ef21232d8b02e"
  },
  {
   "cell_type": "markdown",
   "source": [],
   "metadata": {
    "collapsed": false
   },
   "id": "e3e8f226ce3c4be"
  },
  {
   "cell_type": "markdown",
   "source": [
    "# Actually using this"
   ],
   "metadata": {
    "collapsed": false
   },
   "id": "47def9e576669676"
  },
  {
   "cell_type": "code",
   "execution_count": 8,
   "outputs": [
    {
     "name": "stdout",
     "output_type": "stream",
     "text": [
      "Visiting file 2\n",
      "Visiting file 1\n",
      "Visiting file 0\n",
      "Visiting file 4\n",
      "Visiting file 3\n"
     ]
    }
   ],
   "source": [
    "liked_anime_list = [1, 21, 40748, 10629, 16498, 18397]\n",
    "similar_interactions = find_total_similar_user_interactions(liked_anime_list, coverage=5, min_anime_similar=2, max_anime_reviewed=200)\n",
    "my_ratings = generate_rating(liked_anime_list, rating=10)\n",
    "interactions = pd.concat([my_ratings, similar_interactions], axis=0)"
   ],
   "metadata": {
    "collapsed": false,
    "ExecuteTime": {
     "end_time": "2024-04-11T18:00:08.817393500Z",
     "start_time": "2024-04-11T18:00:06.514836Z"
    }
   },
   "id": "429c79fed457db4a"
  },
  {
   "cell_type": "code",
   "execution_count": 9,
   "outputs": [
    {
     "data": {
      "text/plain": "         user_id  anime_id  rating\n117698    345541      1292       7\n117699    345541       857       7\n117700    345541     31580       7\n117701    345541     33253       7\n117702    345541     22199       7\n...          ...       ...     ...\n4925375   451773      1067       8\n4925376   451773        19       8\n4925377   451773      9863       7\n4925378   451773     10798       8\n4925379   451773      3972       8\n\n[6775 rows x 3 columns]",
      "text/html": "<div>\n<style scoped>\n    .dataframe tbody tr th:only-of-type {\n        vertical-align: middle;\n    }\n\n    .dataframe tbody tr th {\n        vertical-align: top;\n    }\n\n    .dataframe thead th {\n        text-align: right;\n    }\n</style>\n<table border=\"1\" class=\"dataframe\">\n  <thead>\n    <tr style=\"text-align: right;\">\n      <th></th>\n      <th>user_id</th>\n      <th>anime_id</th>\n      <th>rating</th>\n    </tr>\n  </thead>\n  <tbody>\n    <tr>\n      <th>117698</th>\n      <td>345541</td>\n      <td>1292</td>\n      <td>7</td>\n    </tr>\n    <tr>\n      <th>117699</th>\n      <td>345541</td>\n      <td>857</td>\n      <td>7</td>\n    </tr>\n    <tr>\n      <th>117700</th>\n      <td>345541</td>\n      <td>31580</td>\n      <td>7</td>\n    </tr>\n    <tr>\n      <th>117701</th>\n      <td>345541</td>\n      <td>33253</td>\n      <td>7</td>\n    </tr>\n    <tr>\n      <th>117702</th>\n      <td>345541</td>\n      <td>22199</td>\n      <td>7</td>\n    </tr>\n    <tr>\n      <th>...</th>\n      <td>...</td>\n      <td>...</td>\n      <td>...</td>\n    </tr>\n    <tr>\n      <th>4925375</th>\n      <td>451773</td>\n      <td>1067</td>\n      <td>8</td>\n    </tr>\n    <tr>\n      <th>4925376</th>\n      <td>451773</td>\n      <td>19</td>\n      <td>8</td>\n    </tr>\n    <tr>\n      <th>4925377</th>\n      <td>451773</td>\n      <td>9863</td>\n      <td>7</td>\n    </tr>\n    <tr>\n      <th>4925378</th>\n      <td>451773</td>\n      <td>10798</td>\n      <td>8</td>\n    </tr>\n    <tr>\n      <th>4925379</th>\n      <td>451773</td>\n      <td>3972</td>\n      <td>8</td>\n    </tr>\n  </tbody>\n</table>\n<p>6775 rows × 3 columns</p>\n</div>"
     },
     "execution_count": 9,
     "metadata": {},
     "output_type": "execute_result"
    }
   ],
   "source": [
    "similar_interactions"
   ],
   "metadata": {
    "collapsed": false,
    "ExecuteTime": {
     "end_time": "2024-04-11T18:00:11.291280400Z",
     "start_time": "2024-04-11T18:00:11.279769900Z"
    }
   },
   "id": "4156836806d6f1a3"
  },
  {
   "cell_type": "code",
   "execution_count": 10,
   "outputs": [],
   "source": [
    "interactions[\"user_index\"] = interactions[\"user_id\"].astype(\"category\").cat.codes\n",
    "interactions[\"anime_index\"] = interactions[\"anime_id\"].astype(\"category\").cat.codes"
   ],
   "metadata": {
    "collapsed": false,
    "ExecuteTime": {
     "end_time": "2024-04-11T18:00:12.843557900Z",
     "start_time": "2024-04-11T18:00:12.817471600Z"
    }
   },
   "id": "1904fa18b588147e"
  },
  {
   "cell_type": "code",
   "execution_count": 11,
   "outputs": [],
   "source": [
    "from scipy.sparse import coo_matrix\n",
    "rating_matrix_coo = coo_matrix((interactions['rating'], (interactions['user_index'], interactions['anime_index'])))"
   ],
   "metadata": {
    "collapsed": false,
    "ExecuteTime": {
     "end_time": "2024-04-11T18:00:13.641885600Z",
     "start_time": "2024-04-11T18:00:13.306083900Z"
    }
   },
   "id": "2d147aebef9ee4f5"
  },
  {
   "cell_type": "code",
   "execution_count": 12,
   "outputs": [],
   "source": [
    "rating_matrix = rating_matrix_coo.tocsr()"
   ],
   "metadata": {
    "collapsed": false,
    "ExecuteTime": {
     "end_time": "2024-04-11T18:00:14.266938500Z",
     "start_time": "2024-04-11T18:00:14.252315300Z"
    }
   },
   "id": "b803c090ada2e238"
  },
  {
   "cell_type": "code",
   "execution_count": 13,
   "outputs": [],
   "source": [
    "def create_recommendation_matrix(liked_anime_list, anime_percentage = 0.6):\n",
    "    number_animes = len(liked_anime_list)\n",
    "    min_anime_similar = math.ceil(anime_percentage * number_animes)\n",
    "    similar_interactions = find_total_similar_user_interactions(liked_anime_list, coverage=5, min_anime_similar=min_anime_similar, max_anime_reviewed=700)\n",
    "    my_ratings = generate_rating(liked_anime_list, rating=10)\n",
    "    interactions = pd.concat([my_ratings, similar_interactions], axis=0)\n",
    "    \n",
    "    interactions[\"user_index\"] = interactions[\"user_id\"].astype(\"category\").cat.codes\n",
    "    interactions[\"anime_index\"] = interactions[\"anime_id\"].astype(\"category\").cat.codes\n",
    "    \n",
    "    from scipy.sparse import coo_matrix\n",
    "    rating_matrix_coo = coo_matrix((interactions['rating'], (interactions['user_index'], interactions['anime_index'])))\n",
    "    \n",
    "    \n",
    "    return rating_matrix_coo.tocsr(), interactions"
   ],
   "metadata": {
    "collapsed": false,
    "ExecuteTime": {
     "end_time": "2024-04-11T18:00:14.919672Z",
     "start_time": "2024-04-11T18:00:14.913490300Z"
    }
   },
   "id": "9770eed2b69ec0f"
  },
  {
   "cell_type": "markdown",
   "source": [
    "# Let's recommend stuff"
   ],
   "metadata": {
    "collapsed": false
   },
   "id": "d04280f701c968c9"
  },
  {
   "cell_type": "code",
   "execution_count": 14,
   "outputs": [],
   "source": [
    "def create_anime_recommendation_df(rating_matrix, interactions):\n",
    "    \n",
    "    my_index = interactions.loc[interactions.user_id==0]['user_index'][0]\n",
    "    \n",
    "    from sklearn.metrics.pairwise import cosine_similarity\n",
    "    similarity = cosine_similarity(rating_matrix[my_index, :], rating_matrix).flatten()\n",
    "    print(similarity.shape)\n",
    "    similar_user_indices = np.argpartition(similarity, -15)[-15:]\n",
    "    \n",
    "    similar_users = interactions.loc[interactions['user_index'].isin(similar_user_indices)].copy()\n",
    "    similar_users = similar_users.loc[similar_users['user_id'] != 0].reset_index().drop('index', axis=1)\n",
    "    \n",
    "    anime_recs = similar_users.groupby('anime_id').rating.agg(['count', 'mean'])\n",
    "    return anime_recs"
   ],
   "metadata": {
    "collapsed": false,
    "ExecuteTime": {
     "end_time": "2024-04-11T18:00:16.018847300Z",
     "start_time": "2024-04-11T18:00:16.006678500Z"
    }
   },
   "id": "1218db32d19e5d7b"
  },
  {
   "cell_type": "code",
   "execution_count": 15,
   "outputs": [],
   "source": [
    "my_index = interactions.loc[interactions.user_id==0]['user_index'][0]"
   ],
   "metadata": {
    "collapsed": false,
    "ExecuteTime": {
     "end_time": "2024-03-28T09:02:49.493055900Z",
     "start_time": "2024-03-28T09:02:49.444101100Z"
    }
   },
   "id": "88049b18337367bb"
  },
  {
   "cell_type": "code",
   "execution_count": 16,
   "outputs": [],
   "source": [
    "from sklearn.metrics.pairwise import cosine_similarity\n",
    "similarity = cosine_similarity(rating_matrix[my_index, :], rating_matrix).flatten()"
   ],
   "metadata": {
    "collapsed": false,
    "ExecuteTime": {
     "end_time": "2024-03-28T09:02:51.033967300Z",
     "start_time": "2024-03-28T09:02:49.453954200Z"
    }
   },
   "id": "d5a185d338d673e7"
  },
  {
   "cell_type": "code",
   "execution_count": 17,
   "outputs": [],
   "source": [
    "similar_user_indices = np.argpartition(similarity, -15)[-15:]"
   ],
   "metadata": {
    "collapsed": false,
    "ExecuteTime": {
     "end_time": "2024-03-28T09:02:51.035632600Z",
     "start_time": "2024-03-28T09:02:51.032720700Z"
    }
   },
   "id": "df47973dbbdaed2e"
  },
  {
   "cell_type": "code",
   "execution_count": 18,
   "outputs": [],
   "source": [
    "similar_users = interactions.loc[interactions['user_index'].isin(similar_user_indices)].copy()\n",
    "similar_users = similar_users.loc[similar_users['user_id'] != 0].reset_index().drop('index', axis=1)"
   ],
   "metadata": {
    "collapsed": false,
    "ExecuteTime": {
     "end_time": "2024-03-28T09:02:51.037934400Z",
     "start_time": "2024-03-28T09:02:51.033732700Z"
    }
   },
   "id": "29d1ff93f012afd1"
  },
  {
   "cell_type": "code",
   "execution_count": 19,
   "outputs": [],
   "source": [
    "anime_recs = similar_users.groupby('anime_id').rating.agg(['count', 'mean'])"
   ],
   "metadata": {
    "collapsed": false,
    "ExecuteTime": {
     "end_time": "2024-03-28T09:02:51.061119800Z",
     "start_time": "2024-03-28T09:02:51.033967300Z"
    }
   },
   "id": "35c86f8aad456dd"
  },
  {
   "cell_type": "code",
   "execution_count": 16,
   "outputs": [],
   "source": [
    "def recommend_anime(anime_recs, min_count=2, min_mean=7):\n",
    "    anime_list = pd.read_parquet('anime/anime.parquet')\n",
    "    merged = pd.merge(anime_recs, anime_list, how='inner', on='anime_id')\n",
    "    \n",
    "    # Filter out already watched anime\n",
    "    merged = merged.loc[~merged['anime_id'].isin(liked_anime_list)]\n",
    "    merged = merged.loc[(merged['count'] > min_count) & (merged['mean'] > min_mean)]\n",
    "    \n",
    "    # Rank the recommendation\n",
    "    merged['adjusted_count'] = merged['count'] * merged['count'] / np.exp2(np.log(merged['Scored By']))\n",
    "    merged['recommend_score'] = merged['mean'] * merged['adjusted_count']\n",
    "    merged.sort_values(\"recommend_score\", ascending=False, inplace=True)\n",
    "    \n",
    "    return merged"
   ],
   "metadata": {
    "collapsed": false,
    "ExecuteTime": {
     "end_time": "2024-04-11T18:00:34.283010900Z",
     "start_time": "2024-04-11T18:00:34.258647200Z"
    }
   },
   "id": "2fd1767014d23cbf"
  },
  {
   "cell_type": "code",
   "execution_count": 39,
   "outputs": [
    {
     "data": {
      "text/plain": "      anime_id  count      mean                                    Name  \\\n368       1535     14  8.714286                              Death Note   \n619       5114     12  9.416667        Fullmetal Alchemist: Brotherhood   \n58         121     11  8.545455                     Fullmetal Alchemist   \n1153     30276     12  8.916667                           One Punch Man   \n420       2001     10  9.100000              Tengen Toppa Gurren Lagann   \n...        ...    ...       ...                                     ...   \n1122     27899      3  8.666667                          Tokyo Ghoul √A   \n1128     28223      3  8.000000                            Death Parade   \n1160     30503      3  7.333333                        Noragami Aragoto   \n1325     34933      3  7.333333                               Kakegurui   \n1168     30831      3  7.333333  Kono Subarashii Sekai ni Shukufuku wo!   \n\n                                   mod_name  Score  \\\n368                              death note   8.62   \n619         fullmetal alchemist brotherhood   9.10   \n58                      fullmetal alchemist   8.11   \n1153                          one punch man   8.50   \n420              tengen toppa gurren lagann   8.63   \n...                                     ...    ...   \n1122                          tokyo ghoul a   7.02   \n1128                           death parade   8.15   \n1160                       noragami aragoto   8.16   \n1325                              kakegurui   7.24   \n1168  kono subarashii sekai ni shukufuku wo   8.11   \n\n                                                Genres Type Episodes  \\\n368                             Supernatural, Suspense   TV     37.0   \n619                  Action, Adventure, Drama, Fantasy   TV     64.0   \n58    Action, Adventure, Award Winning, Drama, Fantasy   TV     51.0   \n1153                                    Action, Comedy   TV     12.0   \n420           Action, Adventure, Award Winning, Sci-Fi   TV     27.0   \n...                                                ...  ...      ...   \n1122                           Action, Fantasy, Horror   TV     12.0   \n1128                     Drama, Supernatural, Suspense   TV     12.0   \n1160                                   Action, Fantasy   TV     13.0   \n1325                                    Drama, Mystery   TV     12.0   \n1168                        Adventure, Comedy, Fantasy   TV     10.0   \n\n                             Aired  ...       Duration  \\\n368    Oct 4, 2006 to Jun 27, 2007  ...  23 min per ep   \n619     Apr 5, 2009 to Jul 4, 2010  ...  24 min per ep   \n58      Oct 4, 2003 to Oct 2, 2004  ...  24 min per ep   \n1153   Oct 5, 2015 to Dec 21, 2015  ...  24 min per ep   \n420    Apr 1, 2007 to Sep 30, 2007  ...  24 min per ep   \n...                            ...  ...            ...   \n1122   Jan 9, 2015 to Mar 27, 2015  ...  24 min per ep   \n1128  Jan 10, 2015 to Mar 28, 2015  ...  23 min per ep   \n1160   Oct 3, 2015 to Dec 26, 2015  ...  24 min per ep   \n1325   Jul 1, 2017 to Sep 23, 2017  ...  24 min per ep   \n1168  Jan 14, 2016 to Mar 17, 2016  ...  23 min per ep   \n\n                              Rating    Rank Popularity Favorites  Scored By  \\\n368   R - 17+ (violence & profanity)    74.0          2    167586  2619479.0   \n619   R - 17+ (violence & profanity)     1.0          3    217606  2020030.0   \n58    R - 17+ (violence & profanity)   454.0         76     25502   868434.0   \n1153  R - 17+ (violence & profanity)   127.0          4     62408  2131099.0   \n420        PG-13 - Teens 13 or older    71.0         65     75870   867956.0   \n...                              ...     ...        ...       ...        ...   \n1122  R - 17+ (violence & profanity)  3920.0         46     10324  1157527.0   \n1128  R - 17+ (violence & profanity)   402.0         48     27492   964617.0   \n1160       PG-13 - Teens 13 or older   396.0         78     11428   865558.0   \n1325  R - 17+ (violence & profanity)  2852.0         77     10596   870773.0   \n1168       PG-13 - Teens 13 or older   442.0         38     43506  1212458.0   \n\n      Members                                          Image URL  \\\n368   3713315  https://cdn.myanimelist.net/images/anime/9/945...   \n619   3176556  https://cdn.myanimelist.net/images/anime/1208/...   \n58    1426703  https://cdn.myanimelist.net/images/anime/10/75...   \n1153  3058666  https://cdn.myanimelist.net/images/anime/12/76...   \n420   1547735  https://cdn.myanimelist.net/images/anime/4/512...   \n...       ...                                                ...   \n1122  1707428  https://cdn.myanimelist.net/images/anime/1889/...   \n1128  1688655  https://cdn.myanimelist.net/images/anime/5/715...   \n1160  1402622  https://cdn.myanimelist.net/images/anime/1689/...   \n1325  1410008  https://cdn.myanimelist.net/images/anime/3/865...   \n1168  1862270  https://cdn.myanimelist.net/images/anime/8/778...   \n\n      adjusted_count  recommend_score  \n368         2.291822        19.971591  \n619         1.820793        17.145804  \n58          1.972638        16.857091  \n1153        1.791690        15.975906  \n420         1.630550        14.838003  \n...              ...              ...  \n1122        0.134567         1.166245  \n1128        0.142158         1.137266  \n1160        0.146872         1.077059  \n1325        0.146606         1.075114  \n1168        0.132702         0.973145  \n\n[294 rows x 24 columns]",
      "text/html": "<div>\n<style scoped>\n    .dataframe tbody tr th:only-of-type {\n        vertical-align: middle;\n    }\n\n    .dataframe tbody tr th {\n        vertical-align: top;\n    }\n\n    .dataframe thead th {\n        text-align: right;\n    }\n</style>\n<table border=\"1\" class=\"dataframe\">\n  <thead>\n    <tr style=\"text-align: right;\">\n      <th></th>\n      <th>anime_id</th>\n      <th>count</th>\n      <th>mean</th>\n      <th>Name</th>\n      <th>mod_name</th>\n      <th>Score</th>\n      <th>Genres</th>\n      <th>Type</th>\n      <th>Episodes</th>\n      <th>Aired</th>\n      <th>...</th>\n      <th>Duration</th>\n      <th>Rating</th>\n      <th>Rank</th>\n      <th>Popularity</th>\n      <th>Favorites</th>\n      <th>Scored By</th>\n      <th>Members</th>\n      <th>Image URL</th>\n      <th>adjusted_count</th>\n      <th>recommend_score</th>\n    </tr>\n  </thead>\n  <tbody>\n    <tr>\n      <th>368</th>\n      <td>1535</td>\n      <td>14</td>\n      <td>8.714286</td>\n      <td>Death Note</td>\n      <td>death note</td>\n      <td>8.62</td>\n      <td>Supernatural, Suspense</td>\n      <td>TV</td>\n      <td>37.0</td>\n      <td>Oct 4, 2006 to Jun 27, 2007</td>\n      <td>...</td>\n      <td>23 min per ep</td>\n      <td>R - 17+ (violence &amp; profanity)</td>\n      <td>74.0</td>\n      <td>2</td>\n      <td>167586</td>\n      <td>2619479.0</td>\n      <td>3713315</td>\n      <td>https://cdn.myanimelist.net/images/anime/9/945...</td>\n      <td>2.291822</td>\n      <td>19.971591</td>\n    </tr>\n    <tr>\n      <th>619</th>\n      <td>5114</td>\n      <td>12</td>\n      <td>9.416667</td>\n      <td>Fullmetal Alchemist: Brotherhood</td>\n      <td>fullmetal alchemist brotherhood</td>\n      <td>9.10</td>\n      <td>Action, Adventure, Drama, Fantasy</td>\n      <td>TV</td>\n      <td>64.0</td>\n      <td>Apr 5, 2009 to Jul 4, 2010</td>\n      <td>...</td>\n      <td>24 min per ep</td>\n      <td>R - 17+ (violence &amp; profanity)</td>\n      <td>1.0</td>\n      <td>3</td>\n      <td>217606</td>\n      <td>2020030.0</td>\n      <td>3176556</td>\n      <td>https://cdn.myanimelist.net/images/anime/1208/...</td>\n      <td>1.820793</td>\n      <td>17.145804</td>\n    </tr>\n    <tr>\n      <th>58</th>\n      <td>121</td>\n      <td>11</td>\n      <td>8.545455</td>\n      <td>Fullmetal Alchemist</td>\n      <td>fullmetal alchemist</td>\n      <td>8.11</td>\n      <td>Action, Adventure, Award Winning, Drama, Fantasy</td>\n      <td>TV</td>\n      <td>51.0</td>\n      <td>Oct 4, 2003 to Oct 2, 2004</td>\n      <td>...</td>\n      <td>24 min per ep</td>\n      <td>R - 17+ (violence &amp; profanity)</td>\n      <td>454.0</td>\n      <td>76</td>\n      <td>25502</td>\n      <td>868434.0</td>\n      <td>1426703</td>\n      <td>https://cdn.myanimelist.net/images/anime/10/75...</td>\n      <td>1.972638</td>\n      <td>16.857091</td>\n    </tr>\n    <tr>\n      <th>1153</th>\n      <td>30276</td>\n      <td>12</td>\n      <td>8.916667</td>\n      <td>One Punch Man</td>\n      <td>one punch man</td>\n      <td>8.50</td>\n      <td>Action, Comedy</td>\n      <td>TV</td>\n      <td>12.0</td>\n      <td>Oct 5, 2015 to Dec 21, 2015</td>\n      <td>...</td>\n      <td>24 min per ep</td>\n      <td>R - 17+ (violence &amp; profanity)</td>\n      <td>127.0</td>\n      <td>4</td>\n      <td>62408</td>\n      <td>2131099.0</td>\n      <td>3058666</td>\n      <td>https://cdn.myanimelist.net/images/anime/12/76...</td>\n      <td>1.791690</td>\n      <td>15.975906</td>\n    </tr>\n    <tr>\n      <th>420</th>\n      <td>2001</td>\n      <td>10</td>\n      <td>9.100000</td>\n      <td>Tengen Toppa Gurren Lagann</td>\n      <td>tengen toppa gurren lagann</td>\n      <td>8.63</td>\n      <td>Action, Adventure, Award Winning, Sci-Fi</td>\n      <td>TV</td>\n      <td>27.0</td>\n      <td>Apr 1, 2007 to Sep 30, 2007</td>\n      <td>...</td>\n      <td>24 min per ep</td>\n      <td>PG-13 - Teens 13 or older</td>\n      <td>71.0</td>\n      <td>65</td>\n      <td>75870</td>\n      <td>867956.0</td>\n      <td>1547735</td>\n      <td>https://cdn.myanimelist.net/images/anime/4/512...</td>\n      <td>1.630550</td>\n      <td>14.838003</td>\n    </tr>\n    <tr>\n      <th>...</th>\n      <td>...</td>\n      <td>...</td>\n      <td>...</td>\n      <td>...</td>\n      <td>...</td>\n      <td>...</td>\n      <td>...</td>\n      <td>...</td>\n      <td>...</td>\n      <td>...</td>\n      <td>...</td>\n      <td>...</td>\n      <td>...</td>\n      <td>...</td>\n      <td>...</td>\n      <td>...</td>\n      <td>...</td>\n      <td>...</td>\n      <td>...</td>\n      <td>...</td>\n      <td>...</td>\n    </tr>\n    <tr>\n      <th>1122</th>\n      <td>27899</td>\n      <td>3</td>\n      <td>8.666667</td>\n      <td>Tokyo Ghoul √A</td>\n      <td>tokyo ghoul a</td>\n      <td>7.02</td>\n      <td>Action, Fantasy, Horror</td>\n      <td>TV</td>\n      <td>12.0</td>\n      <td>Jan 9, 2015 to Mar 27, 2015</td>\n      <td>...</td>\n      <td>24 min per ep</td>\n      <td>R - 17+ (violence &amp; profanity)</td>\n      <td>3920.0</td>\n      <td>46</td>\n      <td>10324</td>\n      <td>1157527.0</td>\n      <td>1707428</td>\n      <td>https://cdn.myanimelist.net/images/anime/1889/...</td>\n      <td>0.134567</td>\n      <td>1.166245</td>\n    </tr>\n    <tr>\n      <th>1128</th>\n      <td>28223</td>\n      <td>3</td>\n      <td>8.000000</td>\n      <td>Death Parade</td>\n      <td>death parade</td>\n      <td>8.15</td>\n      <td>Drama, Supernatural, Suspense</td>\n      <td>TV</td>\n      <td>12.0</td>\n      <td>Jan 10, 2015 to Mar 28, 2015</td>\n      <td>...</td>\n      <td>23 min per ep</td>\n      <td>R - 17+ (violence &amp; profanity)</td>\n      <td>402.0</td>\n      <td>48</td>\n      <td>27492</td>\n      <td>964617.0</td>\n      <td>1688655</td>\n      <td>https://cdn.myanimelist.net/images/anime/5/715...</td>\n      <td>0.142158</td>\n      <td>1.137266</td>\n    </tr>\n    <tr>\n      <th>1160</th>\n      <td>30503</td>\n      <td>3</td>\n      <td>7.333333</td>\n      <td>Noragami Aragoto</td>\n      <td>noragami aragoto</td>\n      <td>8.16</td>\n      <td>Action, Fantasy</td>\n      <td>TV</td>\n      <td>13.0</td>\n      <td>Oct 3, 2015 to Dec 26, 2015</td>\n      <td>...</td>\n      <td>24 min per ep</td>\n      <td>PG-13 - Teens 13 or older</td>\n      <td>396.0</td>\n      <td>78</td>\n      <td>11428</td>\n      <td>865558.0</td>\n      <td>1402622</td>\n      <td>https://cdn.myanimelist.net/images/anime/1689/...</td>\n      <td>0.146872</td>\n      <td>1.077059</td>\n    </tr>\n    <tr>\n      <th>1325</th>\n      <td>34933</td>\n      <td>3</td>\n      <td>7.333333</td>\n      <td>Kakegurui</td>\n      <td>kakegurui</td>\n      <td>7.24</td>\n      <td>Drama, Mystery</td>\n      <td>TV</td>\n      <td>12.0</td>\n      <td>Jul 1, 2017 to Sep 23, 2017</td>\n      <td>...</td>\n      <td>24 min per ep</td>\n      <td>R - 17+ (violence &amp; profanity)</td>\n      <td>2852.0</td>\n      <td>77</td>\n      <td>10596</td>\n      <td>870773.0</td>\n      <td>1410008</td>\n      <td>https://cdn.myanimelist.net/images/anime/3/865...</td>\n      <td>0.146606</td>\n      <td>1.075114</td>\n    </tr>\n    <tr>\n      <th>1168</th>\n      <td>30831</td>\n      <td>3</td>\n      <td>7.333333</td>\n      <td>Kono Subarashii Sekai ni Shukufuku wo!</td>\n      <td>kono subarashii sekai ni shukufuku wo</td>\n      <td>8.11</td>\n      <td>Adventure, Comedy, Fantasy</td>\n      <td>TV</td>\n      <td>10.0</td>\n      <td>Jan 14, 2016 to Mar 17, 2016</td>\n      <td>...</td>\n      <td>23 min per ep</td>\n      <td>PG-13 - Teens 13 or older</td>\n      <td>442.0</td>\n      <td>38</td>\n      <td>43506</td>\n      <td>1212458.0</td>\n      <td>1862270</td>\n      <td>https://cdn.myanimelist.net/images/anime/8/778...</td>\n      <td>0.132702</td>\n      <td>0.973145</td>\n    </tr>\n  </tbody>\n</table>\n<p>294 rows × 24 columns</p>\n</div>"
     },
     "execution_count": 39,
     "metadata": {},
     "output_type": "execute_result"
    }
   ],
   "source": [
    "recommend_anime(anime_recs)"
   ],
   "metadata": {
    "collapsed": false,
    "ExecuteTime": {
     "end_time": "2024-03-28T09:17:01.400082200Z",
     "start_time": "2024-03-28T09:17:01.288493Z"
    }
   },
   "id": "328b07b37a46d44c"
  },
  {
   "cell_type": "markdown",
   "source": [
    "# Recap"
   ],
   "metadata": {
    "collapsed": false
   },
   "id": "9da5d4a5fac139e4"
  },
  {
   "cell_type": "code",
   "execution_count": 17,
   "outputs": [
    {
     "name": "stdout",
     "output_type": "stream",
     "text": [
      "Visiting file 0\n",
      "Visiting file 4\n",
      "Visiting file 2\n",
      "Visiting file 1\n",
      "Visiting file 3\n",
      "(28,)\n"
     ]
    }
   ],
   "source": [
    "liked_anime_list = [1, 21, 40748, 10629, 16498, 18397]\n",
    "rating_matrix, interactions = create_recommendation_matrix(liked_anime_list, anime_percentage=0.8)\n",
    "anime_recs = create_anime_recommendation_df(rating_matrix, interactions)\n",
    "anime_list = recommend_anime(anime_recs)"
   ],
   "metadata": {
    "collapsed": false,
    "ExecuteTime": {
     "end_time": "2024-04-11T18:00:41.594112700Z",
     "start_time": "2024-04-11T18:00:39.258615600Z"
    }
   },
   "id": "d34112f9562c808e"
  },
  {
   "cell_type": "code",
   "execution_count": 18,
   "outputs": [
    {
     "name": "stdout",
     "output_type": "stream",
     "text": [
      "Visiting file 4\n",
      "Visiting file 0\n",
      "Visiting file 2\n",
      "Visiting file 3\n",
      "Visiting file 1\n"
     ]
    }
   ],
   "source": [
    "liked_anime_list = [16498, 18397]\n",
    "rating_matrix, interactions = create_recommendation_matrix(liked_anime_list)"
   ],
   "metadata": {
    "collapsed": false,
    "ExecuteTime": {
     "end_time": "2024-04-11T18:00:45.522544100Z",
     "start_time": "2024-04-11T18:00:43.289670900Z"
    }
   },
   "id": "213b946c3af0d780"
  },
  {
   "cell_type": "code",
   "execution_count": 19,
   "outputs": [
    {
     "data": {
      "text/plain": "<51x3242 sparse matrix of type '<class 'numpy.int64'>'\n\twith 12568 stored elements in Compressed Sparse Row format>"
     },
     "execution_count": 19,
     "metadata": {},
     "output_type": "execute_result"
    }
   ],
   "source": [
    "rating_matrix"
   ],
   "metadata": {
    "collapsed": false,
    "ExecuteTime": {
     "end_time": "2024-04-11T18:00:48.638690400Z",
     "start_time": "2024-04-11T18:00:48.628447800Z"
    }
   },
   "id": "f0e79563b2db6d90"
  },
  {
   "cell_type": "code",
   "execution_count": 21,
   "outputs": [
    {
     "data": {
      "text/plain": "      anime_id  count      mean  \\\n289        762      8  7.125000   \n344        908      6  7.166667   \n165        376      8  7.875000   \n529       1818     10  9.000000   \n57         121     14  9.071429   \n...        ...    ...       ...   \n1156     14741      3  7.666667   \n1543     33352      3  8.666667   \n1396     28171      3  9.000000   \n1712     37999      3  9.000000   \n1682     37450      3  8.666667   \n\n                                                   Name  \\\n289                        Bleach: Memories in the Rain   \n344             Fullmetal Alchemist: Premium Collection   \n165   Elfen Lied: Tooriame nite Arui wa, Shoujo wa I...   \n529                                            Claymore   \n57                                  Fullmetal Alchemist   \n...                                                 ...   \n1156                     Chuunibyou demo Koi ga Shitai!   \n1543                                  Violet Evergarden   \n1396                                 Shokugeki no Souma   \n1712  Kaguya-sama wa Kokurasetai: Tensai-tachi no Re...   \n1682  Seishun Buta Yarou wa Bunny Girl Senpai no Yum...   \n\n                                           English name  \\\n289                        Bleach: Memories in the Rain   \n344         Fullmetal Alchemist: Premium OVA Collection   \n165   Elfen Lied: In the Passing Rain, or, How Can a...   \n529                                            Claymore   \n57                                  Fullmetal Alchemist   \n...                                                 ...   \n1156                  Love, Chunibyo & Other Delusions!   \n1543                                  Violet Evergarden   \n1396                       Food Wars! Shokugeki no Soma   \n1712                           Kaguya-sama: Love is War   \n1682         Rascal Does Not Dream of Bunny Girl Senpai   \n\n                                             Other name  Score  \\\n289                         BLEACH Memories in the Rain   7.17   \n344                           鋼の錬金術師 PREMIUM COLLECTION   7.30   \n165   エルフェンリート 通り雨にて 或いは、少女はいかにしてその心情に至ったか?（REGENSCH...   7.14   \n529                                               クレイモア   7.74   \n57                                               鋼の錬金術師   8.11   \n...                                                 ...    ...   \n1156                                        中二病でも恋がしたい!   7.71   \n1543                                   ヴァイオレット・エヴァーガーデン   8.67   \n1396                                             食戟のソーマ   8.16   \n1712                             かぐや様は告らせたい～天才たちの恋愛頭脳戦～   8.41   \n1682                              青春ブタ野郎はバニーガール先輩の夢を見ない   8.24   \n\n                                                Genres  \\\n289                  Action, Adventure, Drama, Fantasy   \n344                                    Comedy, Fantasy   \n165                 Drama, Horror, Supernatural, Ecchi   \n529                         Action, Adventure, Fantasy   \n57    Action, Adventure, Award Winning, Drama, Fantasy   \n...                                                ...   \n1156                                   Comedy, Romance   \n1543                                    Drama, Fantasy   \n1396                                    Gourmet, Ecchi   \n1712                                            Comedy   \n1682                      Drama, Romance, Supernatural   \n\n                                               Synopsis     Type  ...  \\\n289   Kurosaki Ichigo, the temporary Shinigami(Death...  Special  ...   \n344   1. State Alchemists vs Seven Homunculi\\nA 10 m...      OVA  ...   \n165   Having been accepted into the Kaede Inn, Nana ...  Special  ...   \n529   When a shapeshifting demon with a thirst for h...       TV  ...   \n57    Edward Elric, a young, brilliant alchemist, ha...       TV  ...   \n...                                                 ...      ...  ...   \n1156  Everybody has had that stage in their life whe...       TV  ...   \n1543  The Great War finally came to an end after fou...       TV  ...   \n1396  Souma Yukihira has been cooking alongside his ...       TV  ...   \n1712  At the renowned Shuchiin Academy, Miyuki Shiro...       TV  ...   \n1682  The rare and inexplicable Puberty Syndrome is ...       TV  ...   \n\n                              Rating    Rank Popularity Favorites Scored By  \\\n289        PG-13 - Teens 13 or older  3177.0       1657       234     68649   \n344        PG-13 - Teens 13 or older  2530.0       2429        87     34036   \n165                 R+ - Mild Nudity  3326.0       1173       249    111997   \n529                 R+ - Mild Nudity  1036.0        292      8252    317263   \n57    R - 17+ (violence & profanity)   454.0         76     25502    868434   \n...                              ...     ...        ...       ...       ...   \n1156       PG-13 - Teens 13 or older  1106.0         91     17477    751777   \n1543       PG-13 - Teens 13 or older    58.0         50     57755    914820   \n1396       PG-13 - Teens 13 or older   398.0         58     23435    967773   \n1712       PG-13 - Teens 13 or older   172.0         53     37697   1030416   \n1682       PG-13 - Teens 13 or older   308.0         52     44977   1041646   \n\n      Members                                          Image URL  \\\n289    123962  https://cdn.myanimelist.net/images/anime/1022/...   \n344     69353  https://cdn.myanimelist.net/images/anime/10/18...   \n165    189007  https://cdn.myanimelist.net/images/anime/1936/...   \n529    650639  https://cdn.myanimelist.net/images/anime/3/218...   \n57    1426703  https://cdn.myanimelist.net/images/anime/10/75...   \n...       ...                                                ...   \n1156  1305194  https://cdn.myanimelist.net/images/anime/12/46...   \n1543  1676851  https://cdn.myanimelist.net/images/anime/1795/...   \n1396  1585095  https://cdn.myanimelist.net/images/anime/3/729...   \n1712  1632893  https://cdn.myanimelist.net/images/anime/1295/...   \n1682  1637954  https://cdn.myanimelist.net/images/anime/1301/...   \n\n                                               Mod_name adjusted_count  \\\n289                         bleach memories in the rain       0.028424   \n344              fullmetal alchemist premium collection       0.026002   \n165   elfen lied tooriame nite arui wa shoujo wa ika...       0.020246   \n529                                            claymore       0.015371   \n57                                  fullmetal alchemist       0.014991   \n...                                                 ...            ...   \n1156                      chuunibyou demo koi ga shitai       0.000761   \n1543                                  violet evergarden       0.000664   \n1396                                 shokugeki no souma       0.000639   \n1712  kaguyasama wa kokurasetai tensaitachi no renai...       0.000611   \n1682  seishun buta yarou wa bunny girl senpai no yum...       0.000607   \n\n      recommend_score  \n289          0.202519  \n344          0.186346  \n165          0.159436  \n529          0.138340  \n57           0.135992  \n...               ...  \n1156         0.005832  \n1543         0.005755  \n1396         0.005747  \n1712         0.005503  \n1682         0.005259  \n\n[428 rows x 27 columns]",
      "text/html": "<div>\n<style scoped>\n    .dataframe tbody tr th:only-of-type {\n        vertical-align: middle;\n    }\n\n    .dataframe tbody tr th {\n        vertical-align: top;\n    }\n\n    .dataframe thead th {\n        text-align: right;\n    }\n</style>\n<table border=\"1\" class=\"dataframe\">\n  <thead>\n    <tr style=\"text-align: right;\">\n      <th></th>\n      <th>anime_id</th>\n      <th>count</th>\n      <th>mean</th>\n      <th>Name</th>\n      <th>English name</th>\n      <th>Other name</th>\n      <th>Score</th>\n      <th>Genres</th>\n      <th>Synopsis</th>\n      <th>Type</th>\n      <th>...</th>\n      <th>Rating</th>\n      <th>Rank</th>\n      <th>Popularity</th>\n      <th>Favorites</th>\n      <th>Scored By</th>\n      <th>Members</th>\n      <th>Image URL</th>\n      <th>Mod_name</th>\n      <th>adjusted_count</th>\n      <th>recommend_score</th>\n    </tr>\n  </thead>\n  <tbody>\n    <tr>\n      <th>289</th>\n      <td>762</td>\n      <td>8</td>\n      <td>7.125000</td>\n      <td>Bleach: Memories in the Rain</td>\n      <td>Bleach: Memories in the Rain</td>\n      <td>BLEACH Memories in the Rain</td>\n      <td>7.17</td>\n      <td>Action, Adventure, Drama, Fantasy</td>\n      <td>Kurosaki Ichigo, the temporary Shinigami(Death...</td>\n      <td>Special</td>\n      <td>...</td>\n      <td>PG-13 - Teens 13 or older</td>\n      <td>3177.0</td>\n      <td>1657</td>\n      <td>234</td>\n      <td>68649</td>\n      <td>123962</td>\n      <td>https://cdn.myanimelist.net/images/anime/1022/...</td>\n      <td>bleach memories in the rain</td>\n      <td>0.028424</td>\n      <td>0.202519</td>\n    </tr>\n    <tr>\n      <th>344</th>\n      <td>908</td>\n      <td>6</td>\n      <td>7.166667</td>\n      <td>Fullmetal Alchemist: Premium Collection</td>\n      <td>Fullmetal Alchemist: Premium OVA Collection</td>\n      <td>鋼の錬金術師 PREMIUM COLLECTION</td>\n      <td>7.30</td>\n      <td>Comedy, Fantasy</td>\n      <td>1. State Alchemists vs Seven Homunculi\\nA 10 m...</td>\n      <td>OVA</td>\n      <td>...</td>\n      <td>PG-13 - Teens 13 or older</td>\n      <td>2530.0</td>\n      <td>2429</td>\n      <td>87</td>\n      <td>34036</td>\n      <td>69353</td>\n      <td>https://cdn.myanimelist.net/images/anime/10/18...</td>\n      <td>fullmetal alchemist premium collection</td>\n      <td>0.026002</td>\n      <td>0.186346</td>\n    </tr>\n    <tr>\n      <th>165</th>\n      <td>376</td>\n      <td>8</td>\n      <td>7.875000</td>\n      <td>Elfen Lied: Tooriame nite Arui wa, Shoujo wa I...</td>\n      <td>Elfen Lied: In the Passing Rain, or, How Can a...</td>\n      <td>エルフェンリート 通り雨にて 或いは、少女はいかにしてその心情に至ったか?（REGENSCH...</td>\n      <td>7.14</td>\n      <td>Drama, Horror, Supernatural, Ecchi</td>\n      <td>Having been accepted into the Kaede Inn, Nana ...</td>\n      <td>Special</td>\n      <td>...</td>\n      <td>R+ - Mild Nudity</td>\n      <td>3326.0</td>\n      <td>1173</td>\n      <td>249</td>\n      <td>111997</td>\n      <td>189007</td>\n      <td>https://cdn.myanimelist.net/images/anime/1936/...</td>\n      <td>elfen lied tooriame nite arui wa shoujo wa ika...</td>\n      <td>0.020246</td>\n      <td>0.159436</td>\n    </tr>\n    <tr>\n      <th>529</th>\n      <td>1818</td>\n      <td>10</td>\n      <td>9.000000</td>\n      <td>Claymore</td>\n      <td>Claymore</td>\n      <td>クレイモア</td>\n      <td>7.74</td>\n      <td>Action, Adventure, Fantasy</td>\n      <td>When a shapeshifting demon with a thirst for h...</td>\n      <td>TV</td>\n      <td>...</td>\n      <td>R+ - Mild Nudity</td>\n      <td>1036.0</td>\n      <td>292</td>\n      <td>8252</td>\n      <td>317263</td>\n      <td>650639</td>\n      <td>https://cdn.myanimelist.net/images/anime/3/218...</td>\n      <td>claymore</td>\n      <td>0.015371</td>\n      <td>0.138340</td>\n    </tr>\n    <tr>\n      <th>57</th>\n      <td>121</td>\n      <td>14</td>\n      <td>9.071429</td>\n      <td>Fullmetal Alchemist</td>\n      <td>Fullmetal Alchemist</td>\n      <td>鋼の錬金術師</td>\n      <td>8.11</td>\n      <td>Action, Adventure, Award Winning, Drama, Fantasy</td>\n      <td>Edward Elric, a young, brilliant alchemist, ha...</td>\n      <td>TV</td>\n      <td>...</td>\n      <td>R - 17+ (violence &amp; profanity)</td>\n      <td>454.0</td>\n      <td>76</td>\n      <td>25502</td>\n      <td>868434</td>\n      <td>1426703</td>\n      <td>https://cdn.myanimelist.net/images/anime/10/75...</td>\n      <td>fullmetal alchemist</td>\n      <td>0.014991</td>\n      <td>0.135992</td>\n    </tr>\n    <tr>\n      <th>...</th>\n      <td>...</td>\n      <td>...</td>\n      <td>...</td>\n      <td>...</td>\n      <td>...</td>\n      <td>...</td>\n      <td>...</td>\n      <td>...</td>\n      <td>...</td>\n      <td>...</td>\n      <td>...</td>\n      <td>...</td>\n      <td>...</td>\n      <td>...</td>\n      <td>...</td>\n      <td>...</td>\n      <td>...</td>\n      <td>...</td>\n      <td>...</td>\n      <td>...</td>\n      <td>...</td>\n    </tr>\n    <tr>\n      <th>1156</th>\n      <td>14741</td>\n      <td>3</td>\n      <td>7.666667</td>\n      <td>Chuunibyou demo Koi ga Shitai!</td>\n      <td>Love, Chunibyo &amp; Other Delusions!</td>\n      <td>中二病でも恋がしたい!</td>\n      <td>7.71</td>\n      <td>Comedy, Romance</td>\n      <td>Everybody has had that stage in their life whe...</td>\n      <td>TV</td>\n      <td>...</td>\n      <td>PG-13 - Teens 13 or older</td>\n      <td>1106.0</td>\n      <td>91</td>\n      <td>17477</td>\n      <td>751777</td>\n      <td>1305194</td>\n      <td>https://cdn.myanimelist.net/images/anime/12/46...</td>\n      <td>chuunibyou demo koi ga shitai</td>\n      <td>0.000761</td>\n      <td>0.005832</td>\n    </tr>\n    <tr>\n      <th>1543</th>\n      <td>33352</td>\n      <td>3</td>\n      <td>8.666667</td>\n      <td>Violet Evergarden</td>\n      <td>Violet Evergarden</td>\n      <td>ヴァイオレット・エヴァーガーデン</td>\n      <td>8.67</td>\n      <td>Drama, Fantasy</td>\n      <td>The Great War finally came to an end after fou...</td>\n      <td>TV</td>\n      <td>...</td>\n      <td>PG-13 - Teens 13 or older</td>\n      <td>58.0</td>\n      <td>50</td>\n      <td>57755</td>\n      <td>914820</td>\n      <td>1676851</td>\n      <td>https://cdn.myanimelist.net/images/anime/1795/...</td>\n      <td>violet evergarden</td>\n      <td>0.000664</td>\n      <td>0.005755</td>\n    </tr>\n    <tr>\n      <th>1396</th>\n      <td>28171</td>\n      <td>3</td>\n      <td>9.000000</td>\n      <td>Shokugeki no Souma</td>\n      <td>Food Wars! Shokugeki no Soma</td>\n      <td>食戟のソーマ</td>\n      <td>8.16</td>\n      <td>Gourmet, Ecchi</td>\n      <td>Souma Yukihira has been cooking alongside his ...</td>\n      <td>TV</td>\n      <td>...</td>\n      <td>PG-13 - Teens 13 or older</td>\n      <td>398.0</td>\n      <td>58</td>\n      <td>23435</td>\n      <td>967773</td>\n      <td>1585095</td>\n      <td>https://cdn.myanimelist.net/images/anime/3/729...</td>\n      <td>shokugeki no souma</td>\n      <td>0.000639</td>\n      <td>0.005747</td>\n    </tr>\n    <tr>\n      <th>1712</th>\n      <td>37999</td>\n      <td>3</td>\n      <td>9.000000</td>\n      <td>Kaguya-sama wa Kokurasetai: Tensai-tachi no Re...</td>\n      <td>Kaguya-sama: Love is War</td>\n      <td>かぐや様は告らせたい～天才たちの恋愛頭脳戦～</td>\n      <td>8.41</td>\n      <td>Comedy</td>\n      <td>At the renowned Shuchiin Academy, Miyuki Shiro...</td>\n      <td>TV</td>\n      <td>...</td>\n      <td>PG-13 - Teens 13 or older</td>\n      <td>172.0</td>\n      <td>53</td>\n      <td>37697</td>\n      <td>1030416</td>\n      <td>1632893</td>\n      <td>https://cdn.myanimelist.net/images/anime/1295/...</td>\n      <td>kaguyasama wa kokurasetai tensaitachi no renai...</td>\n      <td>0.000611</td>\n      <td>0.005503</td>\n    </tr>\n    <tr>\n      <th>1682</th>\n      <td>37450</td>\n      <td>3</td>\n      <td>8.666667</td>\n      <td>Seishun Buta Yarou wa Bunny Girl Senpai no Yum...</td>\n      <td>Rascal Does Not Dream of Bunny Girl Senpai</td>\n      <td>青春ブタ野郎はバニーガール先輩の夢を見ない</td>\n      <td>8.24</td>\n      <td>Drama, Romance, Supernatural</td>\n      <td>The rare and inexplicable Puberty Syndrome is ...</td>\n      <td>TV</td>\n      <td>...</td>\n      <td>PG-13 - Teens 13 or older</td>\n      <td>308.0</td>\n      <td>52</td>\n      <td>44977</td>\n      <td>1041646</td>\n      <td>1637954</td>\n      <td>https://cdn.myanimelist.net/images/anime/1301/...</td>\n      <td>seishun buta yarou wa bunny girl senpai no yum...</td>\n      <td>0.000607</td>\n      <td>0.005259</td>\n    </tr>\n  </tbody>\n</table>\n<p>428 rows × 27 columns</p>\n</div>"
     },
     "execution_count": 21,
     "metadata": {},
     "output_type": "execute_result"
    }
   ],
   "source": [
    "anime_list"
   ],
   "metadata": {
    "collapsed": false,
    "ExecuteTime": {
     "end_time": "2024-04-11T18:01:14.352611100Z",
     "start_time": "2024-04-11T18:01:14.306721400Z"
    }
   },
   "id": "c7b095bd289e3fc4"
  },
  {
   "cell_type": "code",
   "execution_count": 20,
   "outputs": [
    {
     "data": {
      "text/plain": "                                                   Name  Score  Scored By  \\\n289                        Bleach: Memories in the Rain   7.17      68649   \n344             Fullmetal Alchemist: Premium Collection   7.30      34036   \n165   Elfen Lied: Tooriame nite Arui wa, Shoujo wa I...   7.14     111997   \n529                                            Claymore   7.74     317263   \n57                                  Fullmetal Alchemist   8.11     868434   \n...                                                 ...    ...        ...   \n1156                     Chuunibyou demo Koi ga Shitai!   7.71     751777   \n1543                                  Violet Evergarden   8.67     914820   \n1396                                 Shokugeki no Souma   8.16     967773   \n1712  Kaguya-sama wa Kokurasetai: Tensai-tachi no Re...   8.41    1030416   \n1682  Seishun Buta Yarou wa Bunny Girl Senpai no Yum...   8.24    1041646   \n\n      recommend_score  \n289          0.202519  \n344          0.186346  \n165          0.159436  \n529          0.138340  \n57           0.135992  \n...               ...  \n1156         0.005832  \n1543         0.005755  \n1396         0.005747  \n1712         0.005503  \n1682         0.005259  \n\n[428 rows x 4 columns]",
      "text/html": "<div>\n<style scoped>\n    .dataframe tbody tr th:only-of-type {\n        vertical-align: middle;\n    }\n\n    .dataframe tbody tr th {\n        vertical-align: top;\n    }\n\n    .dataframe thead th {\n        text-align: right;\n    }\n</style>\n<table border=\"1\" class=\"dataframe\">\n  <thead>\n    <tr style=\"text-align: right;\">\n      <th></th>\n      <th>Name</th>\n      <th>Score</th>\n      <th>Scored By</th>\n      <th>recommend_score</th>\n    </tr>\n  </thead>\n  <tbody>\n    <tr>\n      <th>289</th>\n      <td>Bleach: Memories in the Rain</td>\n      <td>7.17</td>\n      <td>68649</td>\n      <td>0.202519</td>\n    </tr>\n    <tr>\n      <th>344</th>\n      <td>Fullmetal Alchemist: Premium Collection</td>\n      <td>7.30</td>\n      <td>34036</td>\n      <td>0.186346</td>\n    </tr>\n    <tr>\n      <th>165</th>\n      <td>Elfen Lied: Tooriame nite Arui wa, Shoujo wa I...</td>\n      <td>7.14</td>\n      <td>111997</td>\n      <td>0.159436</td>\n    </tr>\n    <tr>\n      <th>529</th>\n      <td>Claymore</td>\n      <td>7.74</td>\n      <td>317263</td>\n      <td>0.138340</td>\n    </tr>\n    <tr>\n      <th>57</th>\n      <td>Fullmetal Alchemist</td>\n      <td>8.11</td>\n      <td>868434</td>\n      <td>0.135992</td>\n    </tr>\n    <tr>\n      <th>...</th>\n      <td>...</td>\n      <td>...</td>\n      <td>...</td>\n      <td>...</td>\n    </tr>\n    <tr>\n      <th>1156</th>\n      <td>Chuunibyou demo Koi ga Shitai!</td>\n      <td>7.71</td>\n      <td>751777</td>\n      <td>0.005832</td>\n    </tr>\n    <tr>\n      <th>1543</th>\n      <td>Violet Evergarden</td>\n      <td>8.67</td>\n      <td>914820</td>\n      <td>0.005755</td>\n    </tr>\n    <tr>\n      <th>1396</th>\n      <td>Shokugeki no Souma</td>\n      <td>8.16</td>\n      <td>967773</td>\n      <td>0.005747</td>\n    </tr>\n    <tr>\n      <th>1712</th>\n      <td>Kaguya-sama wa Kokurasetai: Tensai-tachi no Re...</td>\n      <td>8.41</td>\n      <td>1030416</td>\n      <td>0.005503</td>\n    </tr>\n    <tr>\n      <th>1682</th>\n      <td>Seishun Buta Yarou wa Bunny Girl Senpai no Yum...</td>\n      <td>8.24</td>\n      <td>1041646</td>\n      <td>0.005259</td>\n    </tr>\n  </tbody>\n</table>\n<p>428 rows × 4 columns</p>\n</div>"
     },
     "execution_count": 20,
     "metadata": {},
     "output_type": "execute_result"
    }
   ],
   "source": [
    "anime_list[['Name', 'Score', 'Scored By', 'recommend_score']]"
   ],
   "metadata": {
    "collapsed": false,
    "ExecuteTime": {
     "end_time": "2024-04-11T18:00:49.406706400Z",
     "start_time": "2024-04-11T18:00:49.365717Z"
    }
   },
   "id": "4793d2cf26df6467"
  },
  {
   "cell_type": "code",
   "execution_count": null,
   "outputs": [],
   "source": [],
   "metadata": {
    "collapsed": false
   },
   "id": "6fecf71a59b20577"
  }
 ],
 "metadata": {
  "kernelspec": {
   "display_name": "Python 3",
   "language": "python",
   "name": "python3"
  },
  "language_info": {
   "codemirror_mode": {
    "name": "ipython",
    "version": 2
   },
   "file_extension": ".py",
   "mimetype": "text/x-python",
   "name": "python",
   "nbconvert_exporter": "python",
   "pygments_lexer": "ipython2",
   "version": "2.7.6"
  }
 },
 "nbformat": 4,
 "nbformat_minor": 5
}
