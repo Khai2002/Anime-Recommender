{
 "cells": [
  {
   "cell_type": "code",
   "execution_count": 1,
   "id": "initial_id",
   "metadata": {
    "collapsed": true,
    "ExecuteTime": {
     "end_time": "2024-04-12T07:27:10.177140500Z",
     "start_time": "2024-04-12T07:27:09.302767600Z"
    }
   },
   "outputs": [],
   "source": [
    "import numpy as np\n",
    "import pandas as pd\n",
    "import math\n",
    "from tqdm import tqdm"
   ]
  },
  {
   "cell_type": "code",
   "execution_count": 2,
   "outputs": [
    {
     "data": {
      "text/plain": "       anime_id                             Name  \\\n0             1                     Cowboy Bebop   \n1             5  Cowboy Bebop: Tengoku no Tobira   \n2             6                           Trigun   \n3             7               Witch Hunter Robin   \n4             8                   Bouken Ou Beet   \n...         ...                              ...   \n24898     55731                      Wu Nao Monu   \n24899     55732              Bu Xing Si: Yuan Qi   \n24900     55733                      Di Yi Xulie   \n24901     55734         Bokura no Saishuu Sensou   \n24902     55735                   Shijuuku Nichi   \n\n                             mod_name             English name  \\\n0                        cowboy bebop             Cowboy Bebop   \n1      cowboy bebop tengoku no tobira  Cowboy Bebop: The Movie   \n2                              trigun                   Trigun   \n3                  witch hunter robin       Witch Hunter Robin   \n4                      bouken ou beet   Beet the Vandel Buster   \n...                               ...                      ...   \n24898                     wu nao monu                  UNKNOWN   \n24899              bu xing si yuan qi              Blader Soul   \n24900                     di yi xulie          The First Order   \n24901        bokura no saishuu sensou                  UNKNOWN   \n24902                  shijuuku nichi                  UNKNOWN   \n\n                             Other name  Score  \\\n0                             カウボーイビバップ   8.75   \n1                        カウボーイビバップ 天国の扉   8.38   \n2                                 トライガン   8.22   \n3      Witch Hunter ROBIN (ウイッチハンターロビン)   7.25   \n4                                冒険王ビィト   6.94   \n...                                 ...    ...   \n24898                              无脑魔女   0.00   \n24899                            捕星司·源起   0.00   \n24900                              第一序列   0.00   \n24901                           僕らの最終戦争   0.00   \n24902                              四十九日   0.00   \n\n                                     Genres  \\\n0             Action, Award Winning, Sci-Fi   \n1                            Action, Sci-Fi   \n2                 Action, Adventure, Sci-Fi   \n3      Action, Drama, Mystery, Supernatural   \n4          Adventure, Fantasy, Supernatural   \n...                                     ...   \n24898        Comedy, Fantasy, Slice of Life   \n24899            Action, Adventure, Fantasy   \n24900    Action, Adventure, Fantasy, Sci-Fi   \n24901                               UNKNOWN   \n24902                               UNKNOWN   \n\n                                                Synopsis   Type Episodes  ...  \\\n0      Crime is timeless. By the year 2071, humanity ...     TV     26.0  ...   \n1      Another day, another bounty—such is the life o...  Movie      1.0  ...   \n2      Vash the Stampede is the man with a $$60,000,0...     TV     26.0  ...   \n3      Robin Sena is a powerful craft user drafted in...     TV     26.0  ...   \n4      It is the dark century and the people are suff...     TV     52.0  ...   \n...                                                  ...    ...      ...  ...   \n24898           No description available for this anime.    ONA     15.0  ...   \n24899           No description available for this anime.    ONA     18.0  ...   \n24900           No description available for this anime.    ONA     16.0  ...   \n24901  A music video for the song Bokura no Saishuu S...  Music      1.0  ...   \n24902  A music video for the song Shijuuku Nichi by S...  Music      1.0  ...   \n\n          Source       Duration                          Rating     Rank  \\\n0       Original  24 min per ep  R - 17+ (violence & profanity)     41.0   \n1       Original    1 hr 55 min  R - 17+ (violence & profanity)    189.0   \n2          Manga  24 min per ep       PG-13 - Teens 13 or older    328.0   \n3       Original  25 min per ep       PG-13 - Teens 13 or older   2764.0   \n4          Manga  23 min per ep                   PG - Children   4240.0   \n...          ...            ...                             ...      ...   \n24898  Web manga        Unknown       PG-13 - Teens 13 or older  UNKNOWN   \n24899  Web novel        Unknown       PG-13 - Teens 13 or older      0.0   \n24900  Web novel        Unknown       PG-13 - Teens 13 or older      0.0   \n24901   Original          3 min       PG-13 - Teens 13 or older      0.0   \n24902   Original          3 min       PG-13 - Teens 13 or older      0.0   \n\n      Popularity Favorites Scored By  Members  \\\n0             43     78525    914193  1771505   \n1            602      1448    206248   360978   \n2            246     15035    356739   727252   \n3           1795       613     42829   111931   \n4           5126        14      6413    15001   \n...          ...       ...       ...      ...   \n24898      24723         0         0        0   \n24899          0         0         0        0   \n24900          0         0         0        0   \n24901          0         0         0        0   \n24902          0         0         0        0   \n\n                                               Image URL  \\\n0      https://cdn.myanimelist.net/images/anime/4/196...   \n1      https://cdn.myanimelist.net/images/anime/1439/...   \n2      https://cdn.myanimelist.net/images/anime/7/203...   \n3      https://cdn.myanimelist.net/images/anime/10/19...   \n4      https://cdn.myanimelist.net/images/anime/7/215...   \n...                                                  ...   \n24898  https://cdn.myanimelist.net/images/anime/1386/...   \n24899  https://cdn.myanimelist.net/images/anime/1383/...   \n24900  https://cdn.myanimelist.net/images/anime/1130/...   \n24901  https://cdn.myanimelist.net/images/anime/1931/...   \n24902  https://cdn.myanimelist.net/images/anime/1902/...   \n\n                             Mod_name  \n0                        cowboy bebop  \n1      cowboy bebop tengoku no tobira  \n2                              trigun  \n3                  witch hunter robin  \n4                      bouken ou beet  \n...                               ...  \n24898                     wu nao monu  \n24899              bu xing si yuan qi  \n24900                     di yi xulie  \n24901        bokura no saishuu sensou  \n24902                  shijuuku nichi  \n\n[24903 rows x 24 columns]",
      "text/html": "<div>\n<style scoped>\n    .dataframe tbody tr th:only-of-type {\n        vertical-align: middle;\n    }\n\n    .dataframe tbody tr th {\n        vertical-align: top;\n    }\n\n    .dataframe thead th {\n        text-align: right;\n    }\n</style>\n<table border=\"1\" class=\"dataframe\">\n  <thead>\n    <tr style=\"text-align: right;\">\n      <th></th>\n      <th>anime_id</th>\n      <th>Name</th>\n      <th>mod_name</th>\n      <th>English name</th>\n      <th>Other name</th>\n      <th>Score</th>\n      <th>Genres</th>\n      <th>Synopsis</th>\n      <th>Type</th>\n      <th>Episodes</th>\n      <th>...</th>\n      <th>Source</th>\n      <th>Duration</th>\n      <th>Rating</th>\n      <th>Rank</th>\n      <th>Popularity</th>\n      <th>Favorites</th>\n      <th>Scored By</th>\n      <th>Members</th>\n      <th>Image URL</th>\n      <th>Mod_name</th>\n    </tr>\n  </thead>\n  <tbody>\n    <tr>\n      <th>0</th>\n      <td>1</td>\n      <td>Cowboy Bebop</td>\n      <td>cowboy bebop</td>\n      <td>Cowboy Bebop</td>\n      <td>カウボーイビバップ</td>\n      <td>8.75</td>\n      <td>Action, Award Winning, Sci-Fi</td>\n      <td>Crime is timeless. By the year 2071, humanity ...</td>\n      <td>TV</td>\n      <td>26.0</td>\n      <td>...</td>\n      <td>Original</td>\n      <td>24 min per ep</td>\n      <td>R - 17+ (violence &amp; profanity)</td>\n      <td>41.0</td>\n      <td>43</td>\n      <td>78525</td>\n      <td>914193</td>\n      <td>1771505</td>\n      <td>https://cdn.myanimelist.net/images/anime/4/196...</td>\n      <td>cowboy bebop</td>\n    </tr>\n    <tr>\n      <th>1</th>\n      <td>5</td>\n      <td>Cowboy Bebop: Tengoku no Tobira</td>\n      <td>cowboy bebop tengoku no tobira</td>\n      <td>Cowboy Bebop: The Movie</td>\n      <td>カウボーイビバップ 天国の扉</td>\n      <td>8.38</td>\n      <td>Action, Sci-Fi</td>\n      <td>Another day, another bounty—such is the life o...</td>\n      <td>Movie</td>\n      <td>1.0</td>\n      <td>...</td>\n      <td>Original</td>\n      <td>1 hr 55 min</td>\n      <td>R - 17+ (violence &amp; profanity)</td>\n      <td>189.0</td>\n      <td>602</td>\n      <td>1448</td>\n      <td>206248</td>\n      <td>360978</td>\n      <td>https://cdn.myanimelist.net/images/anime/1439/...</td>\n      <td>cowboy bebop tengoku no tobira</td>\n    </tr>\n    <tr>\n      <th>2</th>\n      <td>6</td>\n      <td>Trigun</td>\n      <td>trigun</td>\n      <td>Trigun</td>\n      <td>トライガン</td>\n      <td>8.22</td>\n      <td>Action, Adventure, Sci-Fi</td>\n      <td>Vash the Stampede is the man with a $$60,000,0...</td>\n      <td>TV</td>\n      <td>26.0</td>\n      <td>...</td>\n      <td>Manga</td>\n      <td>24 min per ep</td>\n      <td>PG-13 - Teens 13 or older</td>\n      <td>328.0</td>\n      <td>246</td>\n      <td>15035</td>\n      <td>356739</td>\n      <td>727252</td>\n      <td>https://cdn.myanimelist.net/images/anime/7/203...</td>\n      <td>trigun</td>\n    </tr>\n    <tr>\n      <th>3</th>\n      <td>7</td>\n      <td>Witch Hunter Robin</td>\n      <td>witch hunter robin</td>\n      <td>Witch Hunter Robin</td>\n      <td>Witch Hunter ROBIN (ウイッチハンターロビン)</td>\n      <td>7.25</td>\n      <td>Action, Drama, Mystery, Supernatural</td>\n      <td>Robin Sena is a powerful craft user drafted in...</td>\n      <td>TV</td>\n      <td>26.0</td>\n      <td>...</td>\n      <td>Original</td>\n      <td>25 min per ep</td>\n      <td>PG-13 - Teens 13 or older</td>\n      <td>2764.0</td>\n      <td>1795</td>\n      <td>613</td>\n      <td>42829</td>\n      <td>111931</td>\n      <td>https://cdn.myanimelist.net/images/anime/10/19...</td>\n      <td>witch hunter robin</td>\n    </tr>\n    <tr>\n      <th>4</th>\n      <td>8</td>\n      <td>Bouken Ou Beet</td>\n      <td>bouken ou beet</td>\n      <td>Beet the Vandel Buster</td>\n      <td>冒険王ビィト</td>\n      <td>6.94</td>\n      <td>Adventure, Fantasy, Supernatural</td>\n      <td>It is the dark century and the people are suff...</td>\n      <td>TV</td>\n      <td>52.0</td>\n      <td>...</td>\n      <td>Manga</td>\n      <td>23 min per ep</td>\n      <td>PG - Children</td>\n      <td>4240.0</td>\n      <td>5126</td>\n      <td>14</td>\n      <td>6413</td>\n      <td>15001</td>\n      <td>https://cdn.myanimelist.net/images/anime/7/215...</td>\n      <td>bouken ou beet</td>\n    </tr>\n    <tr>\n      <th>...</th>\n      <td>...</td>\n      <td>...</td>\n      <td>...</td>\n      <td>...</td>\n      <td>...</td>\n      <td>...</td>\n      <td>...</td>\n      <td>...</td>\n      <td>...</td>\n      <td>...</td>\n      <td>...</td>\n      <td>...</td>\n      <td>...</td>\n      <td>...</td>\n      <td>...</td>\n      <td>...</td>\n      <td>...</td>\n      <td>...</td>\n      <td>...</td>\n      <td>...</td>\n      <td>...</td>\n    </tr>\n    <tr>\n      <th>24898</th>\n      <td>55731</td>\n      <td>Wu Nao Monu</td>\n      <td>wu nao monu</td>\n      <td>UNKNOWN</td>\n      <td>无脑魔女</td>\n      <td>0.00</td>\n      <td>Comedy, Fantasy, Slice of Life</td>\n      <td>No description available for this anime.</td>\n      <td>ONA</td>\n      <td>15.0</td>\n      <td>...</td>\n      <td>Web manga</td>\n      <td>Unknown</td>\n      <td>PG-13 - Teens 13 or older</td>\n      <td>UNKNOWN</td>\n      <td>24723</td>\n      <td>0</td>\n      <td>0</td>\n      <td>0</td>\n      <td>https://cdn.myanimelist.net/images/anime/1386/...</td>\n      <td>wu nao monu</td>\n    </tr>\n    <tr>\n      <th>24899</th>\n      <td>55732</td>\n      <td>Bu Xing Si: Yuan Qi</td>\n      <td>bu xing si yuan qi</td>\n      <td>Blader Soul</td>\n      <td>捕星司·源起</td>\n      <td>0.00</td>\n      <td>Action, Adventure, Fantasy</td>\n      <td>No description available for this anime.</td>\n      <td>ONA</td>\n      <td>18.0</td>\n      <td>...</td>\n      <td>Web novel</td>\n      <td>Unknown</td>\n      <td>PG-13 - Teens 13 or older</td>\n      <td>0.0</td>\n      <td>0</td>\n      <td>0</td>\n      <td>0</td>\n      <td>0</td>\n      <td>https://cdn.myanimelist.net/images/anime/1383/...</td>\n      <td>bu xing si yuan qi</td>\n    </tr>\n    <tr>\n      <th>24900</th>\n      <td>55733</td>\n      <td>Di Yi Xulie</td>\n      <td>di yi xulie</td>\n      <td>The First Order</td>\n      <td>第一序列</td>\n      <td>0.00</td>\n      <td>Action, Adventure, Fantasy, Sci-Fi</td>\n      <td>No description available for this anime.</td>\n      <td>ONA</td>\n      <td>16.0</td>\n      <td>...</td>\n      <td>Web novel</td>\n      <td>Unknown</td>\n      <td>PG-13 - Teens 13 or older</td>\n      <td>0.0</td>\n      <td>0</td>\n      <td>0</td>\n      <td>0</td>\n      <td>0</td>\n      <td>https://cdn.myanimelist.net/images/anime/1130/...</td>\n      <td>di yi xulie</td>\n    </tr>\n    <tr>\n      <th>24901</th>\n      <td>55734</td>\n      <td>Bokura no Saishuu Sensou</td>\n      <td>bokura no saishuu sensou</td>\n      <td>UNKNOWN</td>\n      <td>僕らの最終戦争</td>\n      <td>0.00</td>\n      <td>UNKNOWN</td>\n      <td>A music video for the song Bokura no Saishuu S...</td>\n      <td>Music</td>\n      <td>1.0</td>\n      <td>...</td>\n      <td>Original</td>\n      <td>3 min</td>\n      <td>PG-13 - Teens 13 or older</td>\n      <td>0.0</td>\n      <td>0</td>\n      <td>0</td>\n      <td>0</td>\n      <td>0</td>\n      <td>https://cdn.myanimelist.net/images/anime/1931/...</td>\n      <td>bokura no saishuu sensou</td>\n    </tr>\n    <tr>\n      <th>24902</th>\n      <td>55735</td>\n      <td>Shijuuku Nichi</td>\n      <td>shijuuku nichi</td>\n      <td>UNKNOWN</td>\n      <td>四十九日</td>\n      <td>0.00</td>\n      <td>UNKNOWN</td>\n      <td>A music video for the song Shijuuku Nichi by S...</td>\n      <td>Music</td>\n      <td>1.0</td>\n      <td>...</td>\n      <td>Original</td>\n      <td>3 min</td>\n      <td>PG-13 - Teens 13 or older</td>\n      <td>0.0</td>\n      <td>0</td>\n      <td>0</td>\n      <td>0</td>\n      <td>0</td>\n      <td>https://cdn.myanimelist.net/images/anime/1902/...</td>\n      <td>shijuuku nichi</td>\n    </tr>\n  </tbody>\n</table>\n<p>24903 rows × 24 columns</p>\n</div>"
     },
     "execution_count": 2,
     "metadata": {},
     "output_type": "execute_result"
    }
   ],
   "source": [
    "anime = pd.read_parquet('anime/anime.parquet')\n",
    "anime"
   ],
   "metadata": {
    "collapsed": false,
    "ExecuteTime": {
     "end_time": "2024-04-12T07:27:10.402505300Z",
     "start_time": "2024-04-12T07:27:10.179211400Z"
    }
   },
   "id": "f28b5069e42459f9"
  },
  {
   "cell_type": "code",
   "execution_count": 3,
   "outputs": [
    {
     "data": {
      "text/plain": "       anime_id                                               Name  \\\n5336       8365  Crayon Shin-chan Movie 13: Densetsu wo Yobu Bu...   \n7428      16498                                 Shingeki no Kyojin   \n7857      18397                             Shingeki no Kyojin OVA   \n8030      19285                    Shingeki no Kyojin: Ano Hi Kara   \n8046      19391                   Shingeki no Kyojin Picture Drama   \n8512      21843                       Shingeki no Bahamut: Genesis   \n8988      23775        Shingeki no Kyojin Movie 1: Guren no Yumiya   \n8989      23777       Shingeki no Kyojin Movie 2: Jiyuu no Tsubasa   \n9352      25777                        Shingeki no Kyojin Season 2   \n9353      25781                Shingeki no Kyojin: Kuinaki Sentaku   \n9752      28447             Shingeki no Bahamut: Genesis - Roundup   \n10588     30736                   Shingeki no Bahamut: Virgin Soul   \n10874     31374                        Shingeki! Kyojin Chuugakkou   \n12461     34642         Shingeki no Bahamut: Genesis - Short Story   \n12775     35122                                 Shingeki no Kyotou   \n13175     35760                        Shingeki no Kyojin Season 3   \n13348     36106                     Shingeki no Kyojin: Lost Girls   \n13720     36702  Shingeki no Kyojin Season 2 Movie: Kakusei no ...   \n14864     38524                 Shingeki no Kyojin Season 3 Part 2   \n15519     39477               Shingeki no Kyojin Season 3 Specials   \n15520     39478  Shingeki no Kyojin in the Dome: Heishi-tachi n...   \n15821     40028               Shingeki no Kyojin: The Final Season   \n16826     42091                      Shingeki no Kyojin: Chronicle   \n20971     48583        Shingeki no Kyojin: The Final Season Part 2   \n21409     49627      Shingeki no Kyojin: The Final Season Specials   \n21449     49739                      Snickers x Shingeki no Kyojin   \n22156     51239            10-pun de Oitsukeru: Shingeki no Kyojin   \n22157     51240            15-pun de Oitsukeru: Shingeki no Kyojin   \n22158     51241            20-pun de Oitsukeru: Shingeki no Kyojin   \n22347     51535  Shingeki no Kyojin: The Final Season - Kankets...   \n24111     54560            25-pun de Oitsukeru: Shingeki no Kyojin   \n\n                                                mod_name  \\\n5336   crayon shinchan movie 13 densetsu wo yobu buri...   \n7428                                  shingeki no kyojin   \n7857                              shingeki no kyojin ova   \n8030                      shingeki no kyojin ano hi kara   \n8046                    shingeki no kyojin picture drama   \n8512                         shingeki no bahamut genesis   \n8988          shingeki no kyojin movie 1 guren no yumiya   \n8989         shingeki no kyojin movie 2 jiyuu no tsubasa   \n9352                         shingeki no kyojin season 2   \n9353                  shingeki no kyojin kuinaki sentaku   \n9752                 shingeki no bahamut genesis roundup   \n10588                    shingeki no bahamut virgin soul   \n10874                         shingeki kyojin chuugakkou   \n12461            shingeki no bahamut genesis short story   \n12775                                 shingeki no kyotou   \n13175                        shingeki no kyojin season 3   \n13348                      shingeki no kyojin lost girls   \n13720  shingeki no kyojin season 2 movie kakusei no h...   \n14864                 shingeki no kyojin season 3 part 2   \n15519               shingeki no kyojin season 3 specials   \n15520  shingeki no kyojin in the dome heishitachi no ...   \n15821                shingeki no kyojin the final season   \n16826                       shingeki no kyojin chronicle   \n20971         shingeki no kyojin the final season part 2   \n21409       shingeki no kyojin the final season specials   \n21449                      snickers x shingeki no kyojin   \n22156              10pun de oitsukeru shingeki no kyojin   \n22157              15pun de oitsukeru shingeki no kyojin   \n22158              20pun de oitsukeru shingeki no kyojin   \n22347    shingeki no kyojin the final season kanketsuhen   \n24111              25pun de oitsukeru shingeki no kyojin   \n\n                                            English name  \\\n5336                                             UNKNOWN   \n7428                                     Attack on Titan   \n7857                                 Attack on Titan OAD   \n8030                     Attack on Titan: Since That Day   \n8046   Attack on Titan: Chibi Theater - Fly, Cadets, ...   \n8512                            Rage of Bahamut: Genesis   \n8988              Attack on Titan: Crimson Bow and Arrow   \n8989                   Attack on Titan: Wings of Freedom   \n9352                            Attack on Titan Season 2   \n9353                         Attack on Titan: No Regrets   \n9752                                             UNKNOWN   \n10588                       Rage of Bahamut: Virgin Soul   \n10874                       Attack on Titan: Junior High   \n12461                                            UNKNOWN   \n12775                                  Attack on Skytree   \n13175                           Attack on Titan Season 3   \n13348                        Attack on Titan: Lost Girls   \n13720             Attack on Titan: The Roar of Awakening   \n14864                    Attack on Titan Season 3 Part 2   \n15519  Attack on Titan: Chibi Theater - Survey Corps,...   \n15520  Attack on Titan in the Dome: Soldiers' Starry Sky   \n15821                      Attack on Titan: Final Season   \n16826                         Attack on Titan: Chronicle   \n20971               Attack on Titan: Final Season Part 2   \n21409  Attack on Titan: Chibi Theater - Survey Corps,...   \n21449                         Snickers x Attack on Titan   \n22156                      Attack on Titan in 10 Minutes   \n22157                      Attack on Titan in 15 Minutes   \n22158                      Attack on Titan in 20 Minutes   \n22347  Attack on Titan: The Final Season - Final Chap...   \n24111                      Attack on Titan in 25 Minutes   \n\n                              Other name  Score  \\\n5336   映画 クレヨンしんちゃん　伝説を呼ぶ　ブリブリ　３分ポッキリ大進撃   6.62   \n7428                               進撃の巨人   8.54   \n7857                            進撃の巨人ＯＡＤ   7.87   \n8030                    進撃の巨人 総集編「あの日から」   7.34   \n8046          「進撃の巨人」ちみキャラ劇場\"とんでけ! 訓練兵団\"   6.60   \n8512                    神撃のバハムート GENESIS   7.62   \n8988                 劇場版「進撃の巨人」前編～紅蓮の弓矢～   7.74   \n8989                  劇場版「進撃の巨人」後編～自由の翼～   7.85   \n9352                       進撃の巨人 Season2   8.50   \n9353                        進撃の巨人 悔いなき選択   8.41   \n9752            神撃のバハムート GENESIS Roundup   6.34   \n10588               神撃のバハムート VIRGIN SOUL   7.43   \n10874                           進撃！巨人中学校   7.20   \n12461     【神撃のバハムート GENESIS】 Short story   7.12   \n12775                              進撃の巨塔   6.37   \n13175                      進撃の巨人 Season3   8.62   \n13348                   進撃の巨人 LOST GIRLS   7.81   \n13720           劇場版 進撃の巨人 Season2〜覚醒の咆哮〜   7.83   \n14864               進撃の巨人 Season3 Part.2   9.05   \n15519       ｢進撃の巨人｣ちみキャラ劇場”とんでけ！新生リヴァイ班”   7.55   \n15520        進撃の巨人 IN THE DOME -兵士たちの星空-   7.11   \n15821             進撃の巨人 The Final Season   8.80   \n16826                      進撃の巨人 〜クロニクル〜   7.73   \n20971      進撃の巨人 The Final Season Part 2   8.77   \n21409    進撃の巨人 The Final Season Specials   6.98   \n21449                       スニッカーズ×進撃の巨人   6.00   \n22156               10分で追いつける！アニメ「進撃の巨人」   6.15   \n22157               15分で追いつける！アニメ『進撃の巨人』   6.17   \n22158               20分で追いつける！アニメ『進撃の巨人』   6.13   \n22347          進撃の巨人 The Final Season完結編   9.05   \n24111               25分で追いつける！アニメ『進撃の巨人』   0.00   \n\n                                       Genres  \\\n5336             Comedy, Slice of Life, Ecchi   \n7428   Action, Award Winning, Drama, Suspense   \n7857                            Action, Drama   \n8030                            Action, Drama   \n8046                                   Comedy   \n8512               Action, Adventure, Fantasy   \n8988                            Action, Drama   \n8989                            Action, Drama   \n9352                  Action, Drama, Suspense   \n9353                                   Action   \n9752               Action, Adventure, Fantasy   \n10588              Action, Adventure, Fantasy   \n10874                                  Comedy   \n12461              Action, Adventure, Fantasy   \n12775                         Action, Fantasy   \n13175                           Action, Drama   \n13348                           Action, Drama   \n13720                           Action, Drama   \n14864                           Action, Drama   \n15519                                  Comedy   \n15520                                 UNKNOWN   \n15821                           Action, Drama   \n16826                           Action, Drama   \n20971                           Action, Drama   \n21409                                  Comedy   \n21449                                  Comedy   \n22156         Action, Drama, Fantasy, Mystery   \n22157         Action, Drama, Fantasy, Mystery   \n22158         Action, Drama, Fantasy, Mystery   \n22347                 Action, Drama, Suspense   \n24111         Action, Drama, Fantasy, Mystery   \n\n                                                Synopsis     Type Episodes  \\\n5336   An action comedy including parodies of tokusat...    Movie      1.0   \n7428   Centuries ago, mankind was slaughtered to near...       TV     25.0   \n7857   Ilse no Techou: Aru Chousa Heidanin no Shuki\\n...      OVA      3.0   \n8030   Recap of the events in Shingeki no Kyojin that...  Special      1.0   \n8046   Shingeki no Kyojin Picture Drama  is a series ...  Special      9.0   \n8512   Thousands of years ago, the ancient dragon Bah...       TV     12.0   \n8988                             Recap of episodes 1-13.    Movie      1.0   \n8989                            Recap of episodes 14-25.    Movie      1.0   \n9352   For centuries, humanity has been hunted by gia...       TV     12.0   \n9353   Many years before becoming the famed captain o...      OVA      2.0   \n9752   Recap of the first six episodes of Shingeki no...  Special      1.0   \n10588  A decade ago, humans, gods, and demons joined ...       TV     24.0   \n10874  On his first day of junior high, Eren Yeager c...       TV     12.0   \n12461  The first short story focuses on Favaro and Ka...      ONA      2.0   \n12775  A special anime featuring a battle against the...    Movie      1.0   \n13175  Still threatened by the \"Titans\" that rob them...       TV     12.0   \n13348  Wall Sina, Goodbye\\nAnnie Leonhart has a job t...      OVA      3.0   \n13720  Eren Yeager and others of the 104th Training C...    Movie      1.0   \n14864  Seeking to restore humanity's diminishing hope...       TV     10.0   \n15519  Shingeki no Kyojin Season 3 DVD/BD specials. T...  Special      7.0   \n15520  A planetarium film screened originally at the ...    Movie      1.0   \n15821  Gabi Braun and Falco Grice have been training ...       TV     16.0   \n16826  The compilation film will recap the anime's 59...    Movie      1.0   \n20971  Turning against his former allies and enemies ...       TV     12.0   \n21409  Shingeki no Kyojin Season 4 DVD/BD specials. T...  Special      2.0   \n21449  The campaign's concept is \"Attack Celebrity\" (...  Special      2.0   \n22156  A special video that can catch up with the con...      ONA      1.0   \n22157  A special video that catches up with the conte...      ONA      1.0   \n22158  20 minutes to catch up with the contents of Se...      ONA      1.0   \n22347  In the wake of Eren Yeager's cataclysmic actio...  Special      2.0   \n24111  25 minutes to catch up with the contents of Se...      ONA      1.0   \n\n       ...        Source           Duration                          Rating  \\\n5336   ...         Manga        1 hr 28 min                    G - All Ages   \n7428   ...         Manga      24 min per ep  R - 17+ (violence & profanity)   \n7857   ...         Manga      23 min per ep  R - 17+ (violence & profanity)   \n8030   ...         Manga             24 min  R - 17+ (violence & profanity)   \n8046   ...         Manga      10 min per ep       PG-13 - Teens 13 or older   \n8512   ...     Card game      24 min per ep  R - 17+ (violence & profanity)   \n8988   ...         Manga        1 hr 58 min  R - 17+ (violence & profanity)   \n8989   ...         Manga               2 hr  R - 17+ (violence & profanity)   \n9352   ...         Manga      24 min per ep  R - 17+ (violence & profanity)   \n9353   ...  Visual novel      27 min per ep  R - 17+ (violence & profanity)   \n9752   ...          Game             24 min  R - 17+ (violence & profanity)   \n10588  ...     Card game      24 min per ep  R - 17+ (violence & profanity)   \n10874  ...         Manga      17 min per ep       PG-13 - Teens 13 or older   \n12461  ...          Game       9 min per ep       PG-13 - Teens 13 or older   \n12775  ...         Manga              7 min       PG-13 - Teens 13 or older   \n13175  ...         Manga      23 min per ep  R - 17+ (violence & profanity)   \n13348  ...         Novel      25 min per ep  R - 17+ (violence & profanity)   \n13720  ...         Manga               2 hr  R - 17+ (violence & profanity)   \n14864  ...         Manga      23 min per ep  R - 17+ (violence & profanity)   \n15519  ...         Manga       2 min per ep                    G - All Ages   \n15520  ...         Manga             20 min  R - 17+ (violence & profanity)   \n15821  ...         Manga      23 min per ep  R - 17+ (violence & profanity)   \n16826  ...         Manga               2 hr  R - 17+ (violence & profanity)   \n20971  ...         Manga      23 min per ep  R - 17+ (violence & profanity)   \n21409  ...         Manga       5 min per ep                    G - All Ages   \n21449  ...       Unknown      30 sec per ep       PG-13 - Teens 13 or older   \n22156  ...         Manga             11 min  R - 17+ (violence & profanity)   \n22157  ...         Manga             15 min  R - 17+ (violence & profanity)   \n22158  ...         Manga             20 min  R - 17+ (violence & profanity)   \n22347  ...         Manga  1 hr 1 min per ep  R - 17+ (violence & profanity)   \n24111  ...         Manga             25 min  R - 17+ (violence & profanity)   \n\n         Rank Popularity Favorites Scored By  Members  \\\n5336   5728.0       8956         3      1708     3573   \n7428    107.0          1    163844   2660903  3744541   \n7857    781.0        470       897    258640   442327   \n8030   2350.0       1551       344     66364   134163   \n8046   5842.0       2773        75     26703    54585   \n8512   1342.0        533      1664    176666   400576   \n8988   1052.0       1740       197     48540   116318   \n8989    832.0       1688       222     46923   121251   \n9352    128.0         12     20899   1761316  2566796   \n9353    169.0        418      1865    292266   488704   \n9752   7165.0       5010         7      6398    16037   \n10588  1975.0        952       997     87448   234925   \n10874  3051.0        892       775    139358   251268   \n12461  3443.0       4007        11     10411    26758   \n12775  7023.0       4170        81      6775    24604   \n13175    78.0         18     19825   1505962  2212297   \n13348   893.0        764       540    148653   291631   \n13720   867.0       2528        82     19690    65088   \n14864     6.0         24     55245   1471825  2104016   \n15519  1569.0       3638        56      9721    32717   \n15520  3505.0       4646        18      3115    19337   \n15821    34.0         41     51403   1219934  1846397   \n16826  1078.0       2208       224     25414    81015   \n20971    39.0        119     29161    628827  1133470   \n21409  4082.0       6180        28      2235     9491   \n21449  8847.0       8961        14      1643     3569   \n22156  8088.0      10966        11       708     1811   \n22157  8014.0      10924         1       655     1842   \n22158  8223.0      10840         3       677     1900   \n22347     7.0        479      9078    155773   435672   \n24111     0.0          0         0         0        0   \n\n                                               Image URL  \\\n5336   https://cdn.myanimelist.net/images/anime/6/220...   \n7428   https://cdn.myanimelist.net/images/anime/10/47...   \n7857   https://cdn.myanimelist.net/images/anime/9/592...   \n8030   https://cdn.myanimelist.net/images/anime/3/517...   \n8046   https://cdn.myanimelist.net/images/anime/8/534...   \n8512   https://cdn.myanimelist.net/images/anime/2/675...   \n8988   https://cdn.myanimelist.net/images/anime/7/632...   \n8989   https://cdn.myanimelist.net/images/anime/2/725...   \n9352   https://cdn.myanimelist.net/images/anime/4/841...   \n9353   https://cdn.myanimelist.net/images/anime/8/694...   \n9752   https://cdn.myanimelist.net/images/anime/3/687...   \n10588  https://cdn.myanimelist.net/images/anime/13/85...   \n10874  https://cdn.myanimelist.net/images/anime/3/754...   \n12461  https://cdn.myanimelist.net/images/anime/1581/...   \n12775  https://cdn.myanimelist.net/images/anime/3/847...   \n13175  https://cdn.myanimelist.net/images/anime/1173/...   \n13348  https://cdn.myanimelist.net/images/anime/3/894...   \n13720  https://cdn.myanimelist.net/images/anime/1710/...   \n14864  https://cdn.myanimelist.net/images/anime/1517/...   \n15519  https://cdn.myanimelist.net/images/anime/1909/...   \n15520  https://cdn.myanimelist.net/images/anime/1893/...   \n15821  https://cdn.myanimelist.net/images/anime/1000/...   \n16826  https://cdn.myanimelist.net/images/anime/1786/...   \n20971  https://cdn.myanimelist.net/images/anime/1948/...   \n21409  https://cdn.myanimelist.net/images/anime/1470/...   \n21449  https://cdn.myanimelist.net/images/anime/1305/...   \n22156  https://cdn.myanimelist.net/images/anime/1261/...   \n22157  https://cdn.myanimelist.net/images/anime/1226/...   \n22158  https://cdn.myanimelist.net/images/anime/1582/...   \n22347  https://cdn.myanimelist.net/images/anime/1279/...   \n24111  https://cdn.myanimelist.net/images/anime/1773/...   \n\n                                                Mod_name  \n5336   crayon shinchan movie 13 densetsu wo yobu buri...  \n7428                                  shingeki no kyojin  \n7857                              shingeki no kyojin ova  \n8030                      shingeki no kyojin ano hi kara  \n8046                    shingeki no kyojin picture drama  \n8512                         shingeki no bahamut genesis  \n8988          shingeki no kyojin movie 1 guren no yumiya  \n8989         shingeki no kyojin movie 2 jiyuu no tsubasa  \n9352                         shingeki no kyojin season 2  \n9353                  shingeki no kyojin kuinaki sentaku  \n9752                 shingeki no bahamut genesis roundup  \n10588                    shingeki no bahamut virgin soul  \n10874                         shingeki kyojin chuugakkou  \n12461            shingeki no bahamut genesis short story  \n12775                                 shingeki no kyotou  \n13175                        shingeki no kyojin season 3  \n13348                      shingeki no kyojin lost girls  \n13720  shingeki no kyojin season 2 movie kakusei no h...  \n14864                 shingeki no kyojin season 3 part 2  \n15519               shingeki no kyojin season 3 specials  \n15520  shingeki no kyojin in the dome heishitachi no ...  \n15821                shingeki no kyojin the final season  \n16826                       shingeki no kyojin chronicle  \n20971         shingeki no kyojin the final season part 2  \n21409       shingeki no kyojin the final season specials  \n21449                      snickers x shingeki no kyojin  \n22156              10pun de oitsukeru shingeki no kyojin  \n22157              15pun de oitsukeru shingeki no kyojin  \n22158              20pun de oitsukeru shingeki no kyojin  \n22347    shingeki no kyojin the final season kanketsuhen  \n24111              25pun de oitsukeru shingeki no kyojin  \n\n[31 rows x 24 columns]",
      "text/html": "<div>\n<style scoped>\n    .dataframe tbody tr th:only-of-type {\n        vertical-align: middle;\n    }\n\n    .dataframe tbody tr th {\n        vertical-align: top;\n    }\n\n    .dataframe thead th {\n        text-align: right;\n    }\n</style>\n<table border=\"1\" class=\"dataframe\">\n  <thead>\n    <tr style=\"text-align: right;\">\n      <th></th>\n      <th>anime_id</th>\n      <th>Name</th>\n      <th>mod_name</th>\n      <th>English name</th>\n      <th>Other name</th>\n      <th>Score</th>\n      <th>Genres</th>\n      <th>Synopsis</th>\n      <th>Type</th>\n      <th>Episodes</th>\n      <th>...</th>\n      <th>Source</th>\n      <th>Duration</th>\n      <th>Rating</th>\n      <th>Rank</th>\n      <th>Popularity</th>\n      <th>Favorites</th>\n      <th>Scored By</th>\n      <th>Members</th>\n      <th>Image URL</th>\n      <th>Mod_name</th>\n    </tr>\n  </thead>\n  <tbody>\n    <tr>\n      <th>5336</th>\n      <td>8365</td>\n      <td>Crayon Shin-chan Movie 13: Densetsu wo Yobu Bu...</td>\n      <td>crayon shinchan movie 13 densetsu wo yobu buri...</td>\n      <td>UNKNOWN</td>\n      <td>映画 クレヨンしんちゃん　伝説を呼ぶ　ブリブリ　３分ポッキリ大進撃</td>\n      <td>6.62</td>\n      <td>Comedy, Slice of Life, Ecchi</td>\n      <td>An action comedy including parodies of tokusat...</td>\n      <td>Movie</td>\n      <td>1.0</td>\n      <td>...</td>\n      <td>Manga</td>\n      <td>1 hr 28 min</td>\n      <td>G - All Ages</td>\n      <td>5728.0</td>\n      <td>8956</td>\n      <td>3</td>\n      <td>1708</td>\n      <td>3573</td>\n      <td>https://cdn.myanimelist.net/images/anime/6/220...</td>\n      <td>crayon shinchan movie 13 densetsu wo yobu buri...</td>\n    </tr>\n    <tr>\n      <th>7428</th>\n      <td>16498</td>\n      <td>Shingeki no Kyojin</td>\n      <td>shingeki no kyojin</td>\n      <td>Attack on Titan</td>\n      <td>進撃の巨人</td>\n      <td>8.54</td>\n      <td>Action, Award Winning, Drama, Suspense</td>\n      <td>Centuries ago, mankind was slaughtered to near...</td>\n      <td>TV</td>\n      <td>25.0</td>\n      <td>...</td>\n      <td>Manga</td>\n      <td>24 min per ep</td>\n      <td>R - 17+ (violence &amp; profanity)</td>\n      <td>107.0</td>\n      <td>1</td>\n      <td>163844</td>\n      <td>2660903</td>\n      <td>3744541</td>\n      <td>https://cdn.myanimelist.net/images/anime/10/47...</td>\n      <td>shingeki no kyojin</td>\n    </tr>\n    <tr>\n      <th>7857</th>\n      <td>18397</td>\n      <td>Shingeki no Kyojin OVA</td>\n      <td>shingeki no kyojin ova</td>\n      <td>Attack on Titan OAD</td>\n      <td>進撃の巨人ＯＡＤ</td>\n      <td>7.87</td>\n      <td>Action, Drama</td>\n      <td>Ilse no Techou: Aru Chousa Heidanin no Shuki\\n...</td>\n      <td>OVA</td>\n      <td>3.0</td>\n      <td>...</td>\n      <td>Manga</td>\n      <td>23 min per ep</td>\n      <td>R - 17+ (violence &amp; profanity)</td>\n      <td>781.0</td>\n      <td>470</td>\n      <td>897</td>\n      <td>258640</td>\n      <td>442327</td>\n      <td>https://cdn.myanimelist.net/images/anime/9/592...</td>\n      <td>shingeki no kyojin ova</td>\n    </tr>\n    <tr>\n      <th>8030</th>\n      <td>19285</td>\n      <td>Shingeki no Kyojin: Ano Hi Kara</td>\n      <td>shingeki no kyojin ano hi kara</td>\n      <td>Attack on Titan: Since That Day</td>\n      <td>進撃の巨人 総集編「あの日から」</td>\n      <td>7.34</td>\n      <td>Action, Drama</td>\n      <td>Recap of the events in Shingeki no Kyojin that...</td>\n      <td>Special</td>\n      <td>1.0</td>\n      <td>...</td>\n      <td>Manga</td>\n      <td>24 min</td>\n      <td>R - 17+ (violence &amp; profanity)</td>\n      <td>2350.0</td>\n      <td>1551</td>\n      <td>344</td>\n      <td>66364</td>\n      <td>134163</td>\n      <td>https://cdn.myanimelist.net/images/anime/3/517...</td>\n      <td>shingeki no kyojin ano hi kara</td>\n    </tr>\n    <tr>\n      <th>8046</th>\n      <td>19391</td>\n      <td>Shingeki no Kyojin Picture Drama</td>\n      <td>shingeki no kyojin picture drama</td>\n      <td>Attack on Titan: Chibi Theater - Fly, Cadets, ...</td>\n      <td>「進撃の巨人」ちみキャラ劇場\"とんでけ! 訓練兵団\"</td>\n      <td>6.60</td>\n      <td>Comedy</td>\n      <td>Shingeki no Kyojin Picture Drama  is a series ...</td>\n      <td>Special</td>\n      <td>9.0</td>\n      <td>...</td>\n      <td>Manga</td>\n      <td>10 min per ep</td>\n      <td>PG-13 - Teens 13 or older</td>\n      <td>5842.0</td>\n      <td>2773</td>\n      <td>75</td>\n      <td>26703</td>\n      <td>54585</td>\n      <td>https://cdn.myanimelist.net/images/anime/8/534...</td>\n      <td>shingeki no kyojin picture drama</td>\n    </tr>\n    <tr>\n      <th>8512</th>\n      <td>21843</td>\n      <td>Shingeki no Bahamut: Genesis</td>\n      <td>shingeki no bahamut genesis</td>\n      <td>Rage of Bahamut: Genesis</td>\n      <td>神撃のバハムート GENESIS</td>\n      <td>7.62</td>\n      <td>Action, Adventure, Fantasy</td>\n      <td>Thousands of years ago, the ancient dragon Bah...</td>\n      <td>TV</td>\n      <td>12.0</td>\n      <td>...</td>\n      <td>Card game</td>\n      <td>24 min per ep</td>\n      <td>R - 17+ (violence &amp; profanity)</td>\n      <td>1342.0</td>\n      <td>533</td>\n      <td>1664</td>\n      <td>176666</td>\n      <td>400576</td>\n      <td>https://cdn.myanimelist.net/images/anime/2/675...</td>\n      <td>shingeki no bahamut genesis</td>\n    </tr>\n    <tr>\n      <th>8988</th>\n      <td>23775</td>\n      <td>Shingeki no Kyojin Movie 1: Guren no Yumiya</td>\n      <td>shingeki no kyojin movie 1 guren no yumiya</td>\n      <td>Attack on Titan: Crimson Bow and Arrow</td>\n      <td>劇場版「進撃の巨人」前編～紅蓮の弓矢～</td>\n      <td>7.74</td>\n      <td>Action, Drama</td>\n      <td>Recap of episodes 1-13.</td>\n      <td>Movie</td>\n      <td>1.0</td>\n      <td>...</td>\n      <td>Manga</td>\n      <td>1 hr 58 min</td>\n      <td>R - 17+ (violence &amp; profanity)</td>\n      <td>1052.0</td>\n      <td>1740</td>\n      <td>197</td>\n      <td>48540</td>\n      <td>116318</td>\n      <td>https://cdn.myanimelist.net/images/anime/7/632...</td>\n      <td>shingeki no kyojin movie 1 guren no yumiya</td>\n    </tr>\n    <tr>\n      <th>8989</th>\n      <td>23777</td>\n      <td>Shingeki no Kyojin Movie 2: Jiyuu no Tsubasa</td>\n      <td>shingeki no kyojin movie 2 jiyuu no tsubasa</td>\n      <td>Attack on Titan: Wings of Freedom</td>\n      <td>劇場版「進撃の巨人」後編～自由の翼～</td>\n      <td>7.85</td>\n      <td>Action, Drama</td>\n      <td>Recap of episodes 14-25.</td>\n      <td>Movie</td>\n      <td>1.0</td>\n      <td>...</td>\n      <td>Manga</td>\n      <td>2 hr</td>\n      <td>R - 17+ (violence &amp; profanity)</td>\n      <td>832.0</td>\n      <td>1688</td>\n      <td>222</td>\n      <td>46923</td>\n      <td>121251</td>\n      <td>https://cdn.myanimelist.net/images/anime/2/725...</td>\n      <td>shingeki no kyojin movie 2 jiyuu no tsubasa</td>\n    </tr>\n    <tr>\n      <th>9352</th>\n      <td>25777</td>\n      <td>Shingeki no Kyojin Season 2</td>\n      <td>shingeki no kyojin season 2</td>\n      <td>Attack on Titan Season 2</td>\n      <td>進撃の巨人 Season2</td>\n      <td>8.50</td>\n      <td>Action, Drama, Suspense</td>\n      <td>For centuries, humanity has been hunted by gia...</td>\n      <td>TV</td>\n      <td>12.0</td>\n      <td>...</td>\n      <td>Manga</td>\n      <td>24 min per ep</td>\n      <td>R - 17+ (violence &amp; profanity)</td>\n      <td>128.0</td>\n      <td>12</td>\n      <td>20899</td>\n      <td>1761316</td>\n      <td>2566796</td>\n      <td>https://cdn.myanimelist.net/images/anime/4/841...</td>\n      <td>shingeki no kyojin season 2</td>\n    </tr>\n    <tr>\n      <th>9353</th>\n      <td>25781</td>\n      <td>Shingeki no Kyojin: Kuinaki Sentaku</td>\n      <td>shingeki no kyojin kuinaki sentaku</td>\n      <td>Attack on Titan: No Regrets</td>\n      <td>進撃の巨人 悔いなき選択</td>\n      <td>8.41</td>\n      <td>Action</td>\n      <td>Many years before becoming the famed captain o...</td>\n      <td>OVA</td>\n      <td>2.0</td>\n      <td>...</td>\n      <td>Visual novel</td>\n      <td>27 min per ep</td>\n      <td>R - 17+ (violence &amp; profanity)</td>\n      <td>169.0</td>\n      <td>418</td>\n      <td>1865</td>\n      <td>292266</td>\n      <td>488704</td>\n      <td>https://cdn.myanimelist.net/images/anime/8/694...</td>\n      <td>shingeki no kyojin kuinaki sentaku</td>\n    </tr>\n    <tr>\n      <th>9752</th>\n      <td>28447</td>\n      <td>Shingeki no Bahamut: Genesis - Roundup</td>\n      <td>shingeki no bahamut genesis roundup</td>\n      <td>UNKNOWN</td>\n      <td>神撃のバハムート GENESIS Roundup</td>\n      <td>6.34</td>\n      <td>Action, Adventure, Fantasy</td>\n      <td>Recap of the first six episodes of Shingeki no...</td>\n      <td>Special</td>\n      <td>1.0</td>\n      <td>...</td>\n      <td>Game</td>\n      <td>24 min</td>\n      <td>R - 17+ (violence &amp; profanity)</td>\n      <td>7165.0</td>\n      <td>5010</td>\n      <td>7</td>\n      <td>6398</td>\n      <td>16037</td>\n      <td>https://cdn.myanimelist.net/images/anime/3/687...</td>\n      <td>shingeki no bahamut genesis roundup</td>\n    </tr>\n    <tr>\n      <th>10588</th>\n      <td>30736</td>\n      <td>Shingeki no Bahamut: Virgin Soul</td>\n      <td>shingeki no bahamut virgin soul</td>\n      <td>Rage of Bahamut: Virgin Soul</td>\n      <td>神撃のバハムート VIRGIN SOUL</td>\n      <td>7.43</td>\n      <td>Action, Adventure, Fantasy</td>\n      <td>A decade ago, humans, gods, and demons joined ...</td>\n      <td>TV</td>\n      <td>24.0</td>\n      <td>...</td>\n      <td>Card game</td>\n      <td>24 min per ep</td>\n      <td>R - 17+ (violence &amp; profanity)</td>\n      <td>1975.0</td>\n      <td>952</td>\n      <td>997</td>\n      <td>87448</td>\n      <td>234925</td>\n      <td>https://cdn.myanimelist.net/images/anime/13/85...</td>\n      <td>shingeki no bahamut virgin soul</td>\n    </tr>\n    <tr>\n      <th>10874</th>\n      <td>31374</td>\n      <td>Shingeki! Kyojin Chuugakkou</td>\n      <td>shingeki kyojin chuugakkou</td>\n      <td>Attack on Titan: Junior High</td>\n      <td>進撃！巨人中学校</td>\n      <td>7.20</td>\n      <td>Comedy</td>\n      <td>On his first day of junior high, Eren Yeager c...</td>\n      <td>TV</td>\n      <td>12.0</td>\n      <td>...</td>\n      <td>Manga</td>\n      <td>17 min per ep</td>\n      <td>PG-13 - Teens 13 or older</td>\n      <td>3051.0</td>\n      <td>892</td>\n      <td>775</td>\n      <td>139358</td>\n      <td>251268</td>\n      <td>https://cdn.myanimelist.net/images/anime/3/754...</td>\n      <td>shingeki kyojin chuugakkou</td>\n    </tr>\n    <tr>\n      <th>12461</th>\n      <td>34642</td>\n      <td>Shingeki no Bahamut: Genesis - Short Story</td>\n      <td>shingeki no bahamut genesis short story</td>\n      <td>UNKNOWN</td>\n      <td>【神撃のバハムート GENESIS】 Short story</td>\n      <td>7.12</td>\n      <td>Action, Adventure, Fantasy</td>\n      <td>The first short story focuses on Favaro and Ka...</td>\n      <td>ONA</td>\n      <td>2.0</td>\n      <td>...</td>\n      <td>Game</td>\n      <td>9 min per ep</td>\n      <td>PG-13 - Teens 13 or older</td>\n      <td>3443.0</td>\n      <td>4007</td>\n      <td>11</td>\n      <td>10411</td>\n      <td>26758</td>\n      <td>https://cdn.myanimelist.net/images/anime/1581/...</td>\n      <td>shingeki no bahamut genesis short story</td>\n    </tr>\n    <tr>\n      <th>12775</th>\n      <td>35122</td>\n      <td>Shingeki no Kyotou</td>\n      <td>shingeki no kyotou</td>\n      <td>Attack on Skytree</td>\n      <td>進撃の巨塔</td>\n      <td>6.37</td>\n      <td>Action, Fantasy</td>\n      <td>A special anime featuring a battle against the...</td>\n      <td>Movie</td>\n      <td>1.0</td>\n      <td>...</td>\n      <td>Manga</td>\n      <td>7 min</td>\n      <td>PG-13 - Teens 13 or older</td>\n      <td>7023.0</td>\n      <td>4170</td>\n      <td>81</td>\n      <td>6775</td>\n      <td>24604</td>\n      <td>https://cdn.myanimelist.net/images/anime/3/847...</td>\n      <td>shingeki no kyotou</td>\n    </tr>\n    <tr>\n      <th>13175</th>\n      <td>35760</td>\n      <td>Shingeki no Kyojin Season 3</td>\n      <td>shingeki no kyojin season 3</td>\n      <td>Attack on Titan Season 3</td>\n      <td>進撃の巨人 Season3</td>\n      <td>8.62</td>\n      <td>Action, Drama</td>\n      <td>Still threatened by the \"Titans\" that rob them...</td>\n      <td>TV</td>\n      <td>12.0</td>\n      <td>...</td>\n      <td>Manga</td>\n      <td>23 min per ep</td>\n      <td>R - 17+ (violence &amp; profanity)</td>\n      <td>78.0</td>\n      <td>18</td>\n      <td>19825</td>\n      <td>1505962</td>\n      <td>2212297</td>\n      <td>https://cdn.myanimelist.net/images/anime/1173/...</td>\n      <td>shingeki no kyojin season 3</td>\n    </tr>\n    <tr>\n      <th>13348</th>\n      <td>36106</td>\n      <td>Shingeki no Kyojin: Lost Girls</td>\n      <td>shingeki no kyojin lost girls</td>\n      <td>Attack on Titan: Lost Girls</td>\n      <td>進撃の巨人 LOST GIRLS</td>\n      <td>7.81</td>\n      <td>Action, Drama</td>\n      <td>Wall Sina, Goodbye\\nAnnie Leonhart has a job t...</td>\n      <td>OVA</td>\n      <td>3.0</td>\n      <td>...</td>\n      <td>Novel</td>\n      <td>25 min per ep</td>\n      <td>R - 17+ (violence &amp; profanity)</td>\n      <td>893.0</td>\n      <td>764</td>\n      <td>540</td>\n      <td>148653</td>\n      <td>291631</td>\n      <td>https://cdn.myanimelist.net/images/anime/3/894...</td>\n      <td>shingeki no kyojin lost girls</td>\n    </tr>\n    <tr>\n      <th>13720</th>\n      <td>36702</td>\n      <td>Shingeki no Kyojin Season 2 Movie: Kakusei no ...</td>\n      <td>shingeki no kyojin season 2 movie kakusei no h...</td>\n      <td>Attack on Titan: The Roar of Awakening</td>\n      <td>劇場版 進撃の巨人 Season2〜覚醒の咆哮〜</td>\n      <td>7.83</td>\n      <td>Action, Drama</td>\n      <td>Eren Yeager and others of the 104th Training C...</td>\n      <td>Movie</td>\n      <td>1.0</td>\n      <td>...</td>\n      <td>Manga</td>\n      <td>2 hr</td>\n      <td>R - 17+ (violence &amp; profanity)</td>\n      <td>867.0</td>\n      <td>2528</td>\n      <td>82</td>\n      <td>19690</td>\n      <td>65088</td>\n      <td>https://cdn.myanimelist.net/images/anime/1710/...</td>\n      <td>shingeki no kyojin season 2 movie kakusei no h...</td>\n    </tr>\n    <tr>\n      <th>14864</th>\n      <td>38524</td>\n      <td>Shingeki no Kyojin Season 3 Part 2</td>\n      <td>shingeki no kyojin season 3 part 2</td>\n      <td>Attack on Titan Season 3 Part 2</td>\n      <td>進撃の巨人 Season3 Part.2</td>\n      <td>9.05</td>\n      <td>Action, Drama</td>\n      <td>Seeking to restore humanity's diminishing hope...</td>\n      <td>TV</td>\n      <td>10.0</td>\n      <td>...</td>\n      <td>Manga</td>\n      <td>23 min per ep</td>\n      <td>R - 17+ (violence &amp; profanity)</td>\n      <td>6.0</td>\n      <td>24</td>\n      <td>55245</td>\n      <td>1471825</td>\n      <td>2104016</td>\n      <td>https://cdn.myanimelist.net/images/anime/1517/...</td>\n      <td>shingeki no kyojin season 3 part 2</td>\n    </tr>\n    <tr>\n      <th>15519</th>\n      <td>39477</td>\n      <td>Shingeki no Kyojin Season 3 Specials</td>\n      <td>shingeki no kyojin season 3 specials</td>\n      <td>Attack on Titan: Chibi Theater - Survey Corps,...</td>\n      <td>｢進撃の巨人｣ちみキャラ劇場”とんでけ！新生リヴァイ班”</td>\n      <td>7.55</td>\n      <td>Comedy</td>\n      <td>Shingeki no Kyojin Season 3 DVD/BD specials. T...</td>\n      <td>Special</td>\n      <td>7.0</td>\n      <td>...</td>\n      <td>Manga</td>\n      <td>2 min per ep</td>\n      <td>G - All Ages</td>\n      <td>1569.0</td>\n      <td>3638</td>\n      <td>56</td>\n      <td>9721</td>\n      <td>32717</td>\n      <td>https://cdn.myanimelist.net/images/anime/1909/...</td>\n      <td>shingeki no kyojin season 3 specials</td>\n    </tr>\n    <tr>\n      <th>15520</th>\n      <td>39478</td>\n      <td>Shingeki no Kyojin in the Dome: Heishi-tachi n...</td>\n      <td>shingeki no kyojin in the dome heishitachi no ...</td>\n      <td>Attack on Titan in the Dome: Soldiers' Starry Sky</td>\n      <td>進撃の巨人 IN THE DOME -兵士たちの星空-</td>\n      <td>7.11</td>\n      <td>UNKNOWN</td>\n      <td>A planetarium film screened originally at the ...</td>\n      <td>Movie</td>\n      <td>1.0</td>\n      <td>...</td>\n      <td>Manga</td>\n      <td>20 min</td>\n      <td>R - 17+ (violence &amp; profanity)</td>\n      <td>3505.0</td>\n      <td>4646</td>\n      <td>18</td>\n      <td>3115</td>\n      <td>19337</td>\n      <td>https://cdn.myanimelist.net/images/anime/1893/...</td>\n      <td>shingeki no kyojin in the dome heishitachi no ...</td>\n    </tr>\n    <tr>\n      <th>15821</th>\n      <td>40028</td>\n      <td>Shingeki no Kyojin: The Final Season</td>\n      <td>shingeki no kyojin the final season</td>\n      <td>Attack on Titan: Final Season</td>\n      <td>進撃の巨人 The Final Season</td>\n      <td>8.80</td>\n      <td>Action, Drama</td>\n      <td>Gabi Braun and Falco Grice have been training ...</td>\n      <td>TV</td>\n      <td>16.0</td>\n      <td>...</td>\n      <td>Manga</td>\n      <td>23 min per ep</td>\n      <td>R - 17+ (violence &amp; profanity)</td>\n      <td>34.0</td>\n      <td>41</td>\n      <td>51403</td>\n      <td>1219934</td>\n      <td>1846397</td>\n      <td>https://cdn.myanimelist.net/images/anime/1000/...</td>\n      <td>shingeki no kyojin the final season</td>\n    </tr>\n    <tr>\n      <th>16826</th>\n      <td>42091</td>\n      <td>Shingeki no Kyojin: Chronicle</td>\n      <td>shingeki no kyojin chronicle</td>\n      <td>Attack on Titan: Chronicle</td>\n      <td>進撃の巨人 〜クロニクル〜</td>\n      <td>7.73</td>\n      <td>Action, Drama</td>\n      <td>The compilation film will recap the anime's 59...</td>\n      <td>Movie</td>\n      <td>1.0</td>\n      <td>...</td>\n      <td>Manga</td>\n      <td>2 hr</td>\n      <td>R - 17+ (violence &amp; profanity)</td>\n      <td>1078.0</td>\n      <td>2208</td>\n      <td>224</td>\n      <td>25414</td>\n      <td>81015</td>\n      <td>https://cdn.myanimelist.net/images/anime/1786/...</td>\n      <td>shingeki no kyojin chronicle</td>\n    </tr>\n    <tr>\n      <th>20971</th>\n      <td>48583</td>\n      <td>Shingeki no Kyojin: The Final Season Part 2</td>\n      <td>shingeki no kyojin the final season part 2</td>\n      <td>Attack on Titan: Final Season Part 2</td>\n      <td>進撃の巨人 The Final Season Part 2</td>\n      <td>8.77</td>\n      <td>Action, Drama</td>\n      <td>Turning against his former allies and enemies ...</td>\n      <td>TV</td>\n      <td>12.0</td>\n      <td>...</td>\n      <td>Manga</td>\n      <td>23 min per ep</td>\n      <td>R - 17+ (violence &amp; profanity)</td>\n      <td>39.0</td>\n      <td>119</td>\n      <td>29161</td>\n      <td>628827</td>\n      <td>1133470</td>\n      <td>https://cdn.myanimelist.net/images/anime/1948/...</td>\n      <td>shingeki no kyojin the final season part 2</td>\n    </tr>\n    <tr>\n      <th>21409</th>\n      <td>49627</td>\n      <td>Shingeki no Kyojin: The Final Season Specials</td>\n      <td>shingeki no kyojin the final season specials</td>\n      <td>Attack on Titan: Chibi Theater - Survey Corps,...</td>\n      <td>進撃の巨人 The Final Season Specials</td>\n      <td>6.98</td>\n      <td>Comedy</td>\n      <td>Shingeki no Kyojin Season 4 DVD/BD specials. T...</td>\n      <td>Special</td>\n      <td>2.0</td>\n      <td>...</td>\n      <td>Manga</td>\n      <td>5 min per ep</td>\n      <td>G - All Ages</td>\n      <td>4082.0</td>\n      <td>6180</td>\n      <td>28</td>\n      <td>2235</td>\n      <td>9491</td>\n      <td>https://cdn.myanimelist.net/images/anime/1470/...</td>\n      <td>shingeki no kyojin the final season specials</td>\n    </tr>\n    <tr>\n      <th>21449</th>\n      <td>49739</td>\n      <td>Snickers x Shingeki no Kyojin</td>\n      <td>snickers x shingeki no kyojin</td>\n      <td>Snickers x Attack on Titan</td>\n      <td>スニッカーズ×進撃の巨人</td>\n      <td>6.00</td>\n      <td>Comedy</td>\n      <td>The campaign's concept is \"Attack Celebrity\" (...</td>\n      <td>Special</td>\n      <td>2.0</td>\n      <td>...</td>\n      <td>Unknown</td>\n      <td>30 sec per ep</td>\n      <td>PG-13 - Teens 13 or older</td>\n      <td>8847.0</td>\n      <td>8961</td>\n      <td>14</td>\n      <td>1643</td>\n      <td>3569</td>\n      <td>https://cdn.myanimelist.net/images/anime/1305/...</td>\n      <td>snickers x shingeki no kyojin</td>\n    </tr>\n    <tr>\n      <th>22156</th>\n      <td>51239</td>\n      <td>10-pun de Oitsukeru: Shingeki no Kyojin</td>\n      <td>10pun de oitsukeru shingeki no kyojin</td>\n      <td>Attack on Titan in 10 Minutes</td>\n      <td>10分で追いつける！アニメ「進撃の巨人」</td>\n      <td>6.15</td>\n      <td>Action, Drama, Fantasy, Mystery</td>\n      <td>A special video that can catch up with the con...</td>\n      <td>ONA</td>\n      <td>1.0</td>\n      <td>...</td>\n      <td>Manga</td>\n      <td>11 min</td>\n      <td>R - 17+ (violence &amp; profanity)</td>\n      <td>8088.0</td>\n      <td>10966</td>\n      <td>11</td>\n      <td>708</td>\n      <td>1811</td>\n      <td>https://cdn.myanimelist.net/images/anime/1261/...</td>\n      <td>10pun de oitsukeru shingeki no kyojin</td>\n    </tr>\n    <tr>\n      <th>22157</th>\n      <td>51240</td>\n      <td>15-pun de Oitsukeru: Shingeki no Kyojin</td>\n      <td>15pun de oitsukeru shingeki no kyojin</td>\n      <td>Attack on Titan in 15 Minutes</td>\n      <td>15分で追いつける！アニメ『進撃の巨人』</td>\n      <td>6.17</td>\n      <td>Action, Drama, Fantasy, Mystery</td>\n      <td>A special video that catches up with the conte...</td>\n      <td>ONA</td>\n      <td>1.0</td>\n      <td>...</td>\n      <td>Manga</td>\n      <td>15 min</td>\n      <td>R - 17+ (violence &amp; profanity)</td>\n      <td>8014.0</td>\n      <td>10924</td>\n      <td>1</td>\n      <td>655</td>\n      <td>1842</td>\n      <td>https://cdn.myanimelist.net/images/anime/1226/...</td>\n      <td>15pun de oitsukeru shingeki no kyojin</td>\n    </tr>\n    <tr>\n      <th>22158</th>\n      <td>51241</td>\n      <td>20-pun de Oitsukeru: Shingeki no Kyojin</td>\n      <td>20pun de oitsukeru shingeki no kyojin</td>\n      <td>Attack on Titan in 20 Minutes</td>\n      <td>20分で追いつける！アニメ『進撃の巨人』</td>\n      <td>6.13</td>\n      <td>Action, Drama, Fantasy, Mystery</td>\n      <td>20 minutes to catch up with the contents of Se...</td>\n      <td>ONA</td>\n      <td>1.0</td>\n      <td>...</td>\n      <td>Manga</td>\n      <td>20 min</td>\n      <td>R - 17+ (violence &amp; profanity)</td>\n      <td>8223.0</td>\n      <td>10840</td>\n      <td>3</td>\n      <td>677</td>\n      <td>1900</td>\n      <td>https://cdn.myanimelist.net/images/anime/1582/...</td>\n      <td>20pun de oitsukeru shingeki no kyojin</td>\n    </tr>\n    <tr>\n      <th>22347</th>\n      <td>51535</td>\n      <td>Shingeki no Kyojin: The Final Season - Kankets...</td>\n      <td>shingeki no kyojin the final season kanketsuhen</td>\n      <td>Attack on Titan: The Final Season - Final Chap...</td>\n      <td>進撃の巨人 The Final Season完結編</td>\n      <td>9.05</td>\n      <td>Action, Drama, Suspense</td>\n      <td>In the wake of Eren Yeager's cataclysmic actio...</td>\n      <td>Special</td>\n      <td>2.0</td>\n      <td>...</td>\n      <td>Manga</td>\n      <td>1 hr 1 min per ep</td>\n      <td>R - 17+ (violence &amp; profanity)</td>\n      <td>7.0</td>\n      <td>479</td>\n      <td>9078</td>\n      <td>155773</td>\n      <td>435672</td>\n      <td>https://cdn.myanimelist.net/images/anime/1279/...</td>\n      <td>shingeki no kyojin the final season kanketsuhen</td>\n    </tr>\n    <tr>\n      <th>24111</th>\n      <td>54560</td>\n      <td>25-pun de Oitsukeru: Shingeki no Kyojin</td>\n      <td>25pun de oitsukeru shingeki no kyojin</td>\n      <td>Attack on Titan in 25 Minutes</td>\n      <td>25分で追いつける！アニメ『進撃の巨人』</td>\n      <td>0.00</td>\n      <td>Action, Drama, Fantasy, Mystery</td>\n      <td>25 minutes to catch up with the contents of Se...</td>\n      <td>ONA</td>\n      <td>1.0</td>\n      <td>...</td>\n      <td>Manga</td>\n      <td>25 min</td>\n      <td>R - 17+ (violence &amp; profanity)</td>\n      <td>0.0</td>\n      <td>0</td>\n      <td>0</td>\n      <td>0</td>\n      <td>0</td>\n      <td>https://cdn.myanimelist.net/images/anime/1773/...</td>\n      <td>25pun de oitsukeru shingeki no kyojin</td>\n    </tr>\n  </tbody>\n</table>\n<p>31 rows × 24 columns</p>\n</div>"
     },
     "execution_count": 3,
     "metadata": {},
     "output_type": "execute_result"
    }
   ],
   "source": [
    "anime.loc[anime['Name'].str.contains('Shingeki')]"
   ],
   "metadata": {
    "collapsed": false,
    "ExecuteTime": {
     "end_time": "2024-04-12T07:27:10.536794400Z",
     "start_time": "2024-04-12T07:27:10.402505300Z"
    }
   },
   "id": "9b3aedc7a0fb1356"
  },
  {
   "cell_type": "code",
   "execution_count": 4,
   "outputs": [],
   "source": [
    "df = pd.read_parquet('score/users_scores_0.parquet')"
   ],
   "metadata": {
    "collapsed": false,
    "ExecuteTime": {
     "end_time": "2024-04-12T07:27:10.578746900Z",
     "start_time": "2024-04-12T07:27:10.456222900Z"
    }
   },
   "id": "21a13d816fa52a34"
  },
  {
   "cell_type": "markdown",
   "source": [
    "# Define Useful Functions"
   ],
   "metadata": {
    "collapsed": false
   },
   "id": "80974ca7e1c0976a"
  },
  {
   "cell_type": "markdown",
   "source": [],
   "metadata": {
    "collapsed": false
   },
   "id": "d2d32c6b6e8aeeea"
  },
  {
   "cell_type": "code",
   "execution_count": 5,
   "outputs": [],
   "source": [
    "def find_similar_user_interactions(data, anime_list, min_anime_similar=3, max_members=50, max_anime_reviewed=500):\n",
    "    data['same'] = data['anime_id'].isin(anime_list)\n",
    "    grouped_data = data.groupby('user_id').agg(num_same=('same', 'sum'), count_review=('same', 'count')).reset_index()\n",
    "    grouped_data = grouped_data[\n",
    "                       (grouped_data['num_same'] >= min_anime_similar) & \n",
    "                       (grouped_data['count_review'] < max_anime_reviewed)\n",
    "                   ].sort_values(by='num_same', ascending=False).iloc[:max_members]\n",
    "    selected_users = grouped_data['user_id'].tolist()\n",
    "    return data.loc[data['user_id'].isin(selected_users)].drop('same', axis=1)"
   ],
   "metadata": {
    "collapsed": false,
    "ExecuteTime": {
     "end_time": "2024-04-12T07:27:10.598740700Z",
     "start_time": "2024-04-12T07:27:10.549148100Z"
    }
   },
   "id": "153e076f4293a905"
  },
  {
   "cell_type": "code",
   "execution_count": 6,
   "outputs": [],
   "source": [
    "def find_total_similar_user_interactions(anime_list, coverage=1, min_anime_similar=2, max_members=50, max_anime_reviewed=500):\n",
    "    users = []\n",
    "    counter = 0\n",
    "    files = np.arange(5)\n",
    "    np.random.shuffle(files)\n",
    "    coverage_count = 0\n",
    "    \n",
    "    for i in files:\n",
    "        print(f\"Visiting file {i}\")\n",
    "        data = pd.read_parquet(f'score/users_scores_{i}.parquet')\n",
    "        temp = find_similar_user_interactions(data, anime_list, min_anime_similar, max_members - counter, max_anime_reviewed)\n",
    "        users.append(temp)\n",
    "        counter += len(temp)\n",
    "        coverage_count += 1\n",
    "        \n",
    "        # if coverage_count >= coverage:\n",
    "        #     break\n",
    "        \n",
    "        # if counter >= max_members:\n",
    "        #     break\n",
    "            \n",
    "    return pd.concat(users, axis=0)"
   ],
   "metadata": {
    "collapsed": false,
    "ExecuteTime": {
     "end_time": "2024-04-12T07:27:10.598740700Z",
     "start_time": "2024-04-12T07:27:10.559245500Z"
    }
   },
   "id": "a5d07709370f91c7"
  },
  {
   "cell_type": "code",
   "execution_count": 7,
   "outputs": [],
   "source": [
    "def generate_rating(liked_book_list, rating=10):\n",
    "    interaction_list = []\n",
    "    for book in liked_book_list:\n",
    "        interaction_list.append([0, book, rating])\n",
    "    return pd.DataFrame(interaction_list, columns=['user_id', 'anime_id', 'rating'])"
   ],
   "metadata": {
    "collapsed": false,
    "ExecuteTime": {
     "end_time": "2024-04-12T07:27:10.598740700Z",
     "start_time": "2024-04-12T07:27:10.568666100Z"
    }
   },
   "id": "581ef21232d8b02e"
  },
  {
   "cell_type": "markdown",
   "source": [],
   "metadata": {
    "collapsed": false
   },
   "id": "e3e8f226ce3c4be"
  },
  {
   "cell_type": "markdown",
   "source": [
    "# Actually using this"
   ],
   "metadata": {
    "collapsed": false
   },
   "id": "47def9e576669676"
  },
  {
   "cell_type": "code",
   "execution_count": 8,
   "outputs": [
    {
     "name": "stdout",
     "output_type": "stream",
     "text": [
      "Visiting file 1\n",
      "Visiting file 2\n",
      "Visiting file 3\n",
      "Visiting file 4\n",
      "Visiting file 0\n"
     ]
    }
   ],
   "source": [
    "liked_anime_list = [1, 21, 40748, 10629, 16498, 18397]\n",
    "similar_interactions = find_total_similar_user_interactions(liked_anime_list, coverage=5, min_anime_similar=2, max_anime_reviewed=200)\n",
    "my_ratings = generate_rating(liked_anime_list, rating=10)\n",
    "interactions = pd.concat([my_ratings, similar_interactions], axis=0)"
   ],
   "metadata": {
    "collapsed": false,
    "ExecuteTime": {
     "end_time": "2024-04-12T07:27:12.181101400Z",
     "start_time": "2024-04-12T07:27:10.578746900Z"
    }
   },
   "id": "429c79fed457db4a"
  },
  {
   "cell_type": "code",
   "execution_count": 9,
   "outputs": [
    {
     "data": {
      "text/plain": "         user_id  anime_id  rating\n93231      78999      4975       7\n93232      78999      2030       6\n93233      78999     40748       6\n93234      78999        21       7\n93235      78999       339       7\n...          ...       ...     ...\n4949500   342027     10863      10\n4949501   342027     38826       9\n4949502   342027     32995      10\n4949503   342027     40935       8\n4949504   342027       225       7\n\n[7391 rows x 3 columns]",
      "text/html": "<div>\n<style scoped>\n    .dataframe tbody tr th:only-of-type {\n        vertical-align: middle;\n    }\n\n    .dataframe tbody tr th {\n        vertical-align: top;\n    }\n\n    .dataframe thead th {\n        text-align: right;\n    }\n</style>\n<table border=\"1\" class=\"dataframe\">\n  <thead>\n    <tr style=\"text-align: right;\">\n      <th></th>\n      <th>user_id</th>\n      <th>anime_id</th>\n      <th>rating</th>\n    </tr>\n  </thead>\n  <tbody>\n    <tr>\n      <th>93231</th>\n      <td>78999</td>\n      <td>4975</td>\n      <td>7</td>\n    </tr>\n    <tr>\n      <th>93232</th>\n      <td>78999</td>\n      <td>2030</td>\n      <td>6</td>\n    </tr>\n    <tr>\n      <th>93233</th>\n      <td>78999</td>\n      <td>40748</td>\n      <td>6</td>\n    </tr>\n    <tr>\n      <th>93234</th>\n      <td>78999</td>\n      <td>21</td>\n      <td>7</td>\n    </tr>\n    <tr>\n      <th>93235</th>\n      <td>78999</td>\n      <td>339</td>\n      <td>7</td>\n    </tr>\n    <tr>\n      <th>...</th>\n      <td>...</td>\n      <td>...</td>\n      <td>...</td>\n    </tr>\n    <tr>\n      <th>4949500</th>\n      <td>342027</td>\n      <td>10863</td>\n      <td>10</td>\n    </tr>\n    <tr>\n      <th>4949501</th>\n      <td>342027</td>\n      <td>38826</td>\n      <td>9</td>\n    </tr>\n    <tr>\n      <th>4949502</th>\n      <td>342027</td>\n      <td>32995</td>\n      <td>10</td>\n    </tr>\n    <tr>\n      <th>4949503</th>\n      <td>342027</td>\n      <td>40935</td>\n      <td>8</td>\n    </tr>\n    <tr>\n      <th>4949504</th>\n      <td>342027</td>\n      <td>225</td>\n      <td>7</td>\n    </tr>\n  </tbody>\n</table>\n<p>7391 rows × 3 columns</p>\n</div>"
     },
     "execution_count": 9,
     "metadata": {},
     "output_type": "execute_result"
    }
   ],
   "source": [
    "similar_interactions"
   ],
   "metadata": {
    "collapsed": false,
    "ExecuteTime": {
     "end_time": "2024-04-12T07:27:12.202527600Z",
     "start_time": "2024-04-12T07:27:12.184877300Z"
    }
   },
   "id": "4156836806d6f1a3"
  },
  {
   "cell_type": "code",
   "execution_count": 10,
   "outputs": [],
   "source": [
    "interactions[\"user_index\"] = interactions[\"user_id\"].astype(\"category\").cat.codes\n",
    "interactions[\"anime_index\"] = interactions[\"anime_id\"].astype(\"category\").cat.codes"
   ],
   "metadata": {
    "collapsed": false,
    "ExecuteTime": {
     "end_time": "2024-04-12T07:27:12.204903Z",
     "start_time": "2024-04-12T07:27:12.196958400Z"
    }
   },
   "id": "1904fa18b588147e"
  },
  {
   "cell_type": "code",
   "execution_count": 11,
   "outputs": [],
   "source": [
    "from scipy.sparse import coo_matrix\n",
    "rating_matrix_coo = coo_matrix((interactions['rating'], (interactions['user_index'], interactions['anime_index'])))"
   ],
   "metadata": {
    "collapsed": false,
    "ExecuteTime": {
     "end_time": "2024-04-12T07:27:12.512963400Z",
     "start_time": "2024-04-12T07:27:12.204903Z"
    }
   },
   "id": "2d147aebef9ee4f5"
  },
  {
   "cell_type": "code",
   "execution_count": 12,
   "outputs": [],
   "source": [
    "rating_matrix = rating_matrix_coo.tocsr()"
   ],
   "metadata": {
    "collapsed": false,
    "ExecuteTime": {
     "end_time": "2024-04-12T07:27:12.532745800Z",
     "start_time": "2024-04-12T07:27:12.512963400Z"
    }
   },
   "id": "b803c090ada2e238"
  },
  {
   "cell_type": "code",
   "execution_count": 13,
   "outputs": [],
   "source": [
    "def create_recommendation_matrix(liked_anime_list, anime_percentage = 0.6):\n",
    "    number_animes = len(liked_anime_list)\n",
    "    min_anime_similar = math.ceil(anime_percentage * number_animes)\n",
    "    similar_interactions = find_total_similar_user_interactions(liked_anime_list, coverage=5, min_anime_similar=min_anime_similar, max_anime_reviewed=700)\n",
    "    my_ratings = generate_rating(liked_anime_list, rating=10)\n",
    "    interactions = pd.concat([my_ratings, similar_interactions], axis=0)\n",
    "    \n",
    "    interactions[\"user_index\"] = interactions[\"user_id\"].astype(\"category\").cat.codes\n",
    "    interactions[\"anime_index\"] = interactions[\"anime_id\"].astype(\"category\").cat.codes\n",
    "    \n",
    "    from scipy.sparse import coo_matrix\n",
    "    rating_matrix_coo = coo_matrix((interactions['rating'], (interactions['user_index'], interactions['anime_index'])))\n",
    "    \n",
    "    \n",
    "    return rating_matrix_coo.tocsr(), interactions"
   ],
   "metadata": {
    "collapsed": false,
    "ExecuteTime": {
     "end_time": "2024-04-12T07:27:12.532745800Z",
     "start_time": "2024-04-12T07:27:12.528121100Z"
    }
   },
   "id": "9770eed2b69ec0f"
  },
  {
   "cell_type": "markdown",
   "source": [
    "# Let's recommend stuff"
   ],
   "metadata": {
    "collapsed": false
   },
   "id": "d04280f701c968c9"
  },
  {
   "cell_type": "code",
   "execution_count": 14,
   "outputs": [],
   "source": [
    "def create_anime_recommendation_df(rating_matrix, interactions):\n",
    "    \n",
    "    my_index = interactions.loc[interactions.user_id==0]['user_index'][0]\n",
    "    \n",
    "    from sklearn.metrics.pairwise import cosine_similarity\n",
    "    similarity = cosine_similarity(rating_matrix[my_index, :], rating_matrix).flatten()\n",
    "    print(similarity.shape)\n",
    "    similar_user_indices = np.argpartition(similarity, -15)[-15:]\n",
    "    \n",
    "    similar_users = interactions.loc[interactions['user_index'].isin(similar_user_indices)].copy()\n",
    "    similar_users = similar_users.loc[similar_users['user_id'] != 0].reset_index().drop('index', axis=1)\n",
    "    \n",
    "    anime_recs = similar_users.groupby('anime_id').rating.agg(['count', 'mean'])\n",
    "    return anime_recs"
   ],
   "metadata": {
    "collapsed": false,
    "ExecuteTime": {
     "end_time": "2024-04-12T07:27:12.560733300Z",
     "start_time": "2024-04-12T07:27:12.532745800Z"
    }
   },
   "id": "1218db32d19e5d7b"
  },
  {
   "cell_type": "code",
   "execution_count": 15,
   "outputs": [],
   "source": [
    "my_index = interactions.loc[interactions.user_id==0]['user_index'][0]"
   ],
   "metadata": {
    "collapsed": false,
    "ExecuteTime": {
     "end_time": "2024-04-12T07:27:12.583827400Z",
     "start_time": "2024-04-12T07:27:12.546531100Z"
    }
   },
   "id": "88049b18337367bb"
  },
  {
   "cell_type": "code",
   "execution_count": 16,
   "outputs": [],
   "source": [
    "from sklearn.metrics.pairwise import cosine_similarity\n",
    "similarity = cosine_similarity(rating_matrix[my_index, :], rating_matrix).flatten()"
   ],
   "metadata": {
    "collapsed": false,
    "ExecuteTime": {
     "end_time": "2024-04-12T07:27:14.205618100Z",
     "start_time": "2024-04-12T07:27:12.548462200Z"
    }
   },
   "id": "d5a185d338d673e7"
  },
  {
   "cell_type": "code",
   "execution_count": 17,
   "outputs": [],
   "source": [
    "similar_user_indices = np.argpartition(similarity, -15)[-15:]"
   ],
   "metadata": {
    "collapsed": false,
    "ExecuteTime": {
     "end_time": "2024-04-12T07:27:14.205618100Z",
     "start_time": "2024-04-12T07:27:14.188548800Z"
    }
   },
   "id": "df47973dbbdaed2e"
  },
  {
   "cell_type": "code",
   "execution_count": 18,
   "outputs": [],
   "source": [
    "similar_users = interactions.loc[interactions['user_index'].isin(similar_user_indices)].copy()\n",
    "similar_users = similar_users.loc[similar_users['user_id'] != 0].reset_index().drop('index', axis=1)"
   ],
   "metadata": {
    "collapsed": false,
    "ExecuteTime": {
     "end_time": "2024-04-12T07:27:14.205618100Z",
     "start_time": "2024-04-12T07:27:14.195439500Z"
    }
   },
   "id": "29d1ff93f012afd1"
  },
  {
   "cell_type": "code",
   "execution_count": 19,
   "outputs": [],
   "source": [
    "anime_recs = similar_users.groupby('anime_id').rating.agg(['count', 'mean'])"
   ],
   "metadata": {
    "collapsed": false,
    "ExecuteTime": {
     "end_time": "2024-04-12T07:27:14.221585600Z",
     "start_time": "2024-04-12T07:27:14.205618100Z"
    }
   },
   "id": "35c86f8aad456dd"
  },
  {
   "cell_type": "code",
   "execution_count": 20,
   "outputs": [],
   "source": [
    "def recommend_anime(anime_recs, min_count=2, min_mean=7):\n",
    "    anime_list = pd.read_parquet('anime/anime.parquet')\n",
    "    merged = pd.merge(anime_recs, anime_list, how='inner', on='anime_id')\n",
    "    \n",
    "    # Filter out already watched anime\n",
    "    merged = merged.loc[~merged['anime_id'].isin(liked_anime_list)]\n",
    "    merged = merged.loc[(merged['count'] > min_count) & (merged['mean'] > min_mean)]\n",
    "    \n",
    "    # Rank the recommendation\n",
    "    merged['adjusted_count'] = merged['count'] * merged['count'] / np.exp2(np.log(merged['Scored By']))\n",
    "    merged['recommend_score'] = merged['mean'] * merged['adjusted_count']\n",
    "    merged.sort_values(\"recommend_score\", ascending=False, inplace=True)\n",
    "    \n",
    "    return merged"
   ],
   "metadata": {
    "collapsed": false,
    "ExecuteTime": {
     "end_time": "2024-04-12T07:27:14.221585600Z",
     "start_time": "2024-04-12T07:27:14.215888300Z"
    }
   },
   "id": "2fd1767014d23cbf"
  },
  {
   "cell_type": "code",
   "execution_count": 21,
   "outputs": [
    {
     "data": {
      "text/plain": "     anime_id  count      mean                                      Name  \\\n42        121     10  8.000000                       Fullmetal Alchemist   \n227      1735     12  8.333333                        Naruto: Shippuuden   \n515     25777     12  9.000000               Shingeki no Kyojin Season 2   \n667     40028     10  9.600000      Shingeki no Kyojin: The Final Season   \n606     35760     11  9.000000               Shingeki no Kyojin Season 3   \n..        ...    ...       ...                                       ...   \n673     40456      3  9.333333  Kimetsu no Yaiba Movie: Mugen Ressha-hen   \n245      2167      3  7.666667                                   Clannad   \n487     20583      3  9.000000                                 Haikyuu!!   \n653     38691      3  7.333333                                 Dr. Stone   \n510     23755      3  7.333333                         Nanatsu no Taizai   \n\n                                   mod_name  \\\n42                      fullmetal alchemist   \n227                       naruto shippuuden   \n515             shingeki no kyojin season 2   \n667     shingeki no kyojin the final season   \n606             shingeki no kyojin season 3   \n..                                      ...   \n673  kimetsu no yaiba movie mugen resshahen   \n245                                 clannad   \n487                                 haikyuu   \n653                                dr stone   \n510                       nanatsu no taizai   \n\n                                          English name  \\\n42                                 Fullmetal Alchemist   \n227                                   Naruto Shippuden   \n515                           Attack on Titan Season 2   \n667                      Attack on Titan: Final Season   \n606                           Attack on Titan Season 3   \n..                                                 ...   \n673  Demon Slayer: Kimetsu no Yaiba - The Movie: Mu...   \n245                                            Clannad   \n487                                           Haikyu!!   \n653                                          Dr. Stone   \n510                              The Seven Deadly Sins   \n\n                 Other name  Score  \\\n42                   鋼の錬金術師   8.11   \n227               -ナルト- 疾風伝   8.26   \n515           進撃の巨人 Season2   8.50   \n667  進撃の巨人 The Final Season   8.80   \n606           進撃の巨人 Season3   8.62   \n..                      ...    ...   \n673          劇場版 鬼滅の刃 無限列車編   8.62   \n245                 CLANNAD   8.00   \n487                 ハイキュー!!   8.44   \n653                ドクターストーン   8.29   \n510                   七つの大罪   7.67   \n\n                                               Genres  \\\n42   Action, Adventure, Award Winning, Drama, Fantasy   \n227                        Action, Adventure, Fantasy   \n515                           Action, Drama, Suspense   \n667                                     Action, Drama   \n606                                     Action, Drama   \n..                                                ...   \n673                                   Action, Fantasy   \n245                      Drama, Romance, Supernatural   \n487                                            Sports   \n653                         Adventure, Comedy, Sci-Fi   \n510                        Action, Adventure, Fantasy   \n\n                                              Synopsis  ...  \\\n42   Edward Elric, a young, brilliant alchemist, ha...  ...   \n227  It has been two and a half years since Naruto ...  ...   \n515  For centuries, humanity has been hunted by gia...  ...   \n667  Gabi Braun and Falco Grice have been training ...  ...   \n606  Still threatened by the \"Titans\" that rob them...  ...   \n..                                                 ...  ...   \n673  After a string of mysterious disappearances be...  ...   \n245  Tomoya Okazaki is a delinquent who finds life ...  ...   \n487  Ever since having witnessed the \"Little Giant\"...  ...   \n653  After five years of harboring unspoken feeling...  ...   \n510  In a world similar to the European Middle Ages...  ...   \n\n                             Rating    Rank Popularity Favorites Scored By  \\\n42   R - 17+ (violence & profanity)   454.0         76     25502    868434   \n227       PG-13 - Teens 13 or older   278.0         15    107735   1569553   \n515  R - 17+ (violence & profanity)   128.0         12     20899   1761316   \n667  R - 17+ (violence & profanity)    34.0         41     51403   1219934   \n606  R - 17+ (violence & profanity)    78.0         18     19825   1505962   \n..                              ...     ...        ...       ...       ...   \n673  R - 17+ (violence & profanity)    75.0         79     12766    923480   \n245       PG-13 - Teens 13 or older   584.0         81     27253    736679   \n487       PG-13 - Teens 13 or older   151.0         36     70904   1164775   \n653       PG-13 - Teens 13 or older   255.0         55     27001    986159   \n510       PG-13 - Teens 13 or older  1216.0         31     19160   1291643   \n\n     Members                                          Image URL  \\\n42   1426703  https://cdn.myanimelist.net/images/anime/10/75...   \n227  2349413  https://cdn.myanimelist.net/images/anime/1565/...   \n515  2566796  https://cdn.myanimelist.net/images/anime/4/841...   \n667  1846397  https://cdn.myanimelist.net/images/anime/1000/...   \n606  2212297  https://cdn.myanimelist.net/images/anime/1173/...   \n..       ...                                                ...   \n673  1399607  https://cdn.myanimelist.net/images/anime/1704/...   \n245  1371535  https://cdn.myanimelist.net/images/anime/1804/...   \n487  1870150  https://cdn.myanimelist.net/images/anime/7/760...   \n653  1630125  https://cdn.myanimelist.net/images/anime/1613/...   \n510  1974171  https://cdn.myanimelist.net/images/anime/8/654...   \n\n                                   Mod_name adjusted_count recommend_score  \n42                      fullmetal alchemist       0.007649        0.061189  \n227                       naruto shippuuden       0.007308        0.060897  \n515             shingeki no kyojin season 2       0.006746        0.060718  \n667     shingeki no kyojin the final season       0.006043        0.058016  \n606             shingeki no kyojin season 3       0.006319        0.056871  \n..                                      ...            ...             ...  \n673  kimetsu no yaiba movie mugen resshahen       0.000660        0.006157  \n245                                 clannad       0.000772        0.005915  \n487                                 haikyuu       0.000562        0.005055  \n653                                dr stone       0.000630        0.004622  \n510                       nanatsu no taizai       0.000523        0.003834  \n\n[104 rows x 28 columns]",
      "text/html": "<div>\n<style scoped>\n    .dataframe tbody tr th:only-of-type {\n        vertical-align: middle;\n    }\n\n    .dataframe tbody tr th {\n        vertical-align: top;\n    }\n\n    .dataframe thead th {\n        text-align: right;\n    }\n</style>\n<table border=\"1\" class=\"dataframe\">\n  <thead>\n    <tr style=\"text-align: right;\">\n      <th></th>\n      <th>anime_id</th>\n      <th>count</th>\n      <th>mean</th>\n      <th>Name</th>\n      <th>mod_name</th>\n      <th>English name</th>\n      <th>Other name</th>\n      <th>Score</th>\n      <th>Genres</th>\n      <th>Synopsis</th>\n      <th>...</th>\n      <th>Rating</th>\n      <th>Rank</th>\n      <th>Popularity</th>\n      <th>Favorites</th>\n      <th>Scored By</th>\n      <th>Members</th>\n      <th>Image URL</th>\n      <th>Mod_name</th>\n      <th>adjusted_count</th>\n      <th>recommend_score</th>\n    </tr>\n  </thead>\n  <tbody>\n    <tr>\n      <th>42</th>\n      <td>121</td>\n      <td>10</td>\n      <td>8.000000</td>\n      <td>Fullmetal Alchemist</td>\n      <td>fullmetal alchemist</td>\n      <td>Fullmetal Alchemist</td>\n      <td>鋼の錬金術師</td>\n      <td>8.11</td>\n      <td>Action, Adventure, Award Winning, Drama, Fantasy</td>\n      <td>Edward Elric, a young, brilliant alchemist, ha...</td>\n      <td>...</td>\n      <td>R - 17+ (violence &amp; profanity)</td>\n      <td>454.0</td>\n      <td>76</td>\n      <td>25502</td>\n      <td>868434</td>\n      <td>1426703</td>\n      <td>https://cdn.myanimelist.net/images/anime/10/75...</td>\n      <td>fullmetal alchemist</td>\n      <td>0.007649</td>\n      <td>0.061189</td>\n    </tr>\n    <tr>\n      <th>227</th>\n      <td>1735</td>\n      <td>12</td>\n      <td>8.333333</td>\n      <td>Naruto: Shippuuden</td>\n      <td>naruto shippuuden</td>\n      <td>Naruto Shippuden</td>\n      <td>-ナルト- 疾風伝</td>\n      <td>8.26</td>\n      <td>Action, Adventure, Fantasy</td>\n      <td>It has been two and a half years since Naruto ...</td>\n      <td>...</td>\n      <td>PG-13 - Teens 13 or older</td>\n      <td>278.0</td>\n      <td>15</td>\n      <td>107735</td>\n      <td>1569553</td>\n      <td>2349413</td>\n      <td>https://cdn.myanimelist.net/images/anime/1565/...</td>\n      <td>naruto shippuuden</td>\n      <td>0.007308</td>\n      <td>0.060897</td>\n    </tr>\n    <tr>\n      <th>515</th>\n      <td>25777</td>\n      <td>12</td>\n      <td>9.000000</td>\n      <td>Shingeki no Kyojin Season 2</td>\n      <td>shingeki no kyojin season 2</td>\n      <td>Attack on Titan Season 2</td>\n      <td>進撃の巨人 Season2</td>\n      <td>8.50</td>\n      <td>Action, Drama, Suspense</td>\n      <td>For centuries, humanity has been hunted by gia...</td>\n      <td>...</td>\n      <td>R - 17+ (violence &amp; profanity)</td>\n      <td>128.0</td>\n      <td>12</td>\n      <td>20899</td>\n      <td>1761316</td>\n      <td>2566796</td>\n      <td>https://cdn.myanimelist.net/images/anime/4/841...</td>\n      <td>shingeki no kyojin season 2</td>\n      <td>0.006746</td>\n      <td>0.060718</td>\n    </tr>\n    <tr>\n      <th>667</th>\n      <td>40028</td>\n      <td>10</td>\n      <td>9.600000</td>\n      <td>Shingeki no Kyojin: The Final Season</td>\n      <td>shingeki no kyojin the final season</td>\n      <td>Attack on Titan: Final Season</td>\n      <td>進撃の巨人 The Final Season</td>\n      <td>8.80</td>\n      <td>Action, Drama</td>\n      <td>Gabi Braun and Falco Grice have been training ...</td>\n      <td>...</td>\n      <td>R - 17+ (violence &amp; profanity)</td>\n      <td>34.0</td>\n      <td>41</td>\n      <td>51403</td>\n      <td>1219934</td>\n      <td>1846397</td>\n      <td>https://cdn.myanimelist.net/images/anime/1000/...</td>\n      <td>shingeki no kyojin the final season</td>\n      <td>0.006043</td>\n      <td>0.058016</td>\n    </tr>\n    <tr>\n      <th>606</th>\n      <td>35760</td>\n      <td>11</td>\n      <td>9.000000</td>\n      <td>Shingeki no Kyojin Season 3</td>\n      <td>shingeki no kyojin season 3</td>\n      <td>Attack on Titan Season 3</td>\n      <td>進撃の巨人 Season3</td>\n      <td>8.62</td>\n      <td>Action, Drama</td>\n      <td>Still threatened by the \"Titans\" that rob them...</td>\n      <td>...</td>\n      <td>R - 17+ (violence &amp; profanity)</td>\n      <td>78.0</td>\n      <td>18</td>\n      <td>19825</td>\n      <td>1505962</td>\n      <td>2212297</td>\n      <td>https://cdn.myanimelist.net/images/anime/1173/...</td>\n      <td>shingeki no kyojin season 3</td>\n      <td>0.006319</td>\n      <td>0.056871</td>\n    </tr>\n    <tr>\n      <th>...</th>\n      <td>...</td>\n      <td>...</td>\n      <td>...</td>\n      <td>...</td>\n      <td>...</td>\n      <td>...</td>\n      <td>...</td>\n      <td>...</td>\n      <td>...</td>\n      <td>...</td>\n      <td>...</td>\n      <td>...</td>\n      <td>...</td>\n      <td>...</td>\n      <td>...</td>\n      <td>...</td>\n      <td>...</td>\n      <td>...</td>\n      <td>...</td>\n      <td>...</td>\n      <td>...</td>\n    </tr>\n    <tr>\n      <th>673</th>\n      <td>40456</td>\n      <td>3</td>\n      <td>9.333333</td>\n      <td>Kimetsu no Yaiba Movie: Mugen Ressha-hen</td>\n      <td>kimetsu no yaiba movie mugen resshahen</td>\n      <td>Demon Slayer: Kimetsu no Yaiba - The Movie: Mu...</td>\n      <td>劇場版 鬼滅の刃 無限列車編</td>\n      <td>8.62</td>\n      <td>Action, Fantasy</td>\n      <td>After a string of mysterious disappearances be...</td>\n      <td>...</td>\n      <td>R - 17+ (violence &amp; profanity)</td>\n      <td>75.0</td>\n      <td>79</td>\n      <td>12766</td>\n      <td>923480</td>\n      <td>1399607</td>\n      <td>https://cdn.myanimelist.net/images/anime/1704/...</td>\n      <td>kimetsu no yaiba movie mugen resshahen</td>\n      <td>0.000660</td>\n      <td>0.006157</td>\n    </tr>\n    <tr>\n      <th>245</th>\n      <td>2167</td>\n      <td>3</td>\n      <td>7.666667</td>\n      <td>Clannad</td>\n      <td>clannad</td>\n      <td>Clannad</td>\n      <td>CLANNAD</td>\n      <td>8.00</td>\n      <td>Drama, Romance, Supernatural</td>\n      <td>Tomoya Okazaki is a delinquent who finds life ...</td>\n      <td>...</td>\n      <td>PG-13 - Teens 13 or older</td>\n      <td>584.0</td>\n      <td>81</td>\n      <td>27253</td>\n      <td>736679</td>\n      <td>1371535</td>\n      <td>https://cdn.myanimelist.net/images/anime/1804/...</td>\n      <td>clannad</td>\n      <td>0.000772</td>\n      <td>0.005915</td>\n    </tr>\n    <tr>\n      <th>487</th>\n      <td>20583</td>\n      <td>3</td>\n      <td>9.000000</td>\n      <td>Haikyuu!!</td>\n      <td>haikyuu</td>\n      <td>Haikyu!!</td>\n      <td>ハイキュー!!</td>\n      <td>8.44</td>\n      <td>Sports</td>\n      <td>Ever since having witnessed the \"Little Giant\"...</td>\n      <td>...</td>\n      <td>PG-13 - Teens 13 or older</td>\n      <td>151.0</td>\n      <td>36</td>\n      <td>70904</td>\n      <td>1164775</td>\n      <td>1870150</td>\n      <td>https://cdn.myanimelist.net/images/anime/7/760...</td>\n      <td>haikyuu</td>\n      <td>0.000562</td>\n      <td>0.005055</td>\n    </tr>\n    <tr>\n      <th>653</th>\n      <td>38691</td>\n      <td>3</td>\n      <td>7.333333</td>\n      <td>Dr. Stone</td>\n      <td>dr stone</td>\n      <td>Dr. Stone</td>\n      <td>ドクターストーン</td>\n      <td>8.29</td>\n      <td>Adventure, Comedy, Sci-Fi</td>\n      <td>After five years of harboring unspoken feeling...</td>\n      <td>...</td>\n      <td>PG-13 - Teens 13 or older</td>\n      <td>255.0</td>\n      <td>55</td>\n      <td>27001</td>\n      <td>986159</td>\n      <td>1630125</td>\n      <td>https://cdn.myanimelist.net/images/anime/1613/...</td>\n      <td>dr stone</td>\n      <td>0.000630</td>\n      <td>0.004622</td>\n    </tr>\n    <tr>\n      <th>510</th>\n      <td>23755</td>\n      <td>3</td>\n      <td>7.333333</td>\n      <td>Nanatsu no Taizai</td>\n      <td>nanatsu no taizai</td>\n      <td>The Seven Deadly Sins</td>\n      <td>七つの大罪</td>\n      <td>7.67</td>\n      <td>Action, Adventure, Fantasy</td>\n      <td>In a world similar to the European Middle Ages...</td>\n      <td>...</td>\n      <td>PG-13 - Teens 13 or older</td>\n      <td>1216.0</td>\n      <td>31</td>\n      <td>19160</td>\n      <td>1291643</td>\n      <td>1974171</td>\n      <td>https://cdn.myanimelist.net/images/anime/8/654...</td>\n      <td>nanatsu no taizai</td>\n      <td>0.000523</td>\n      <td>0.003834</td>\n    </tr>\n  </tbody>\n</table>\n<p>104 rows × 28 columns</p>\n</div>"
     },
     "execution_count": 21,
     "metadata": {},
     "output_type": "execute_result"
    }
   ],
   "source": [
    "recommend_anime(anime_recs)"
   ],
   "metadata": {
    "collapsed": false,
    "ExecuteTime": {
     "end_time": "2024-04-12T07:27:14.379299700Z",
     "start_time": "2024-04-12T07:27:14.220020500Z"
    }
   },
   "id": "328b07b37a46d44c"
  },
  {
   "cell_type": "markdown",
   "source": [
    "# Recap"
   ],
   "metadata": {
    "collapsed": false
   },
   "id": "9da5d4a5fac139e4"
  },
  {
   "cell_type": "code",
   "execution_count": 22,
   "outputs": [
    {
     "name": "stdout",
     "output_type": "stream",
     "text": [
      "Visiting file 2\n",
      "Visiting file 1\n",
      "Visiting file 4\n",
      "Visiting file 0\n",
      "Visiting file 3\n",
      "(39,)\n"
     ]
    }
   ],
   "source": [
    "liked_anime_list = [1, 21, 40748, 10629, 16498, 18397]\n",
    "rating_matrix, interactions = create_recommendation_matrix(liked_anime_list, anime_percentage=0.8)\n",
    "anime_recs = create_anime_recommendation_df(rating_matrix, interactions)\n",
    "anime_list = recommend_anime(anime_recs)"
   ],
   "metadata": {
    "collapsed": false,
    "ExecuteTime": {
     "end_time": "2024-04-12T07:27:16.141677200Z",
     "start_time": "2024-04-12T07:27:14.379299700Z"
    }
   },
   "id": "d34112f9562c808e"
  },
  {
   "cell_type": "code",
   "execution_count": 23,
   "outputs": [
    {
     "name": "stdout",
     "output_type": "stream",
     "text": [
      "Visiting file 4\n",
      "Visiting file 3\n",
      "Visiting file 0\n",
      "Visiting file 1\n",
      "Visiting file 2\n"
     ]
    }
   ],
   "source": [
    "liked_anime_list = [16498, 18397]\n",
    "rating_matrix, interactions = create_recommendation_matrix(liked_anime_list)"
   ],
   "metadata": {
    "collapsed": false,
    "ExecuteTime": {
     "end_time": "2024-04-12T07:27:17.416213900Z",
     "start_time": "2024-04-12T07:27:16.135442500Z"
    }
   },
   "id": "213b946c3af0d780"
  },
  {
   "cell_type": "code",
   "execution_count": 24,
   "outputs": [
    {
     "data": {
      "text/plain": "<51x3242 sparse matrix of type '<class 'numpy.int64'>'\n\twith 12568 stored elements in Compressed Sparse Row format>"
     },
     "execution_count": 24,
     "metadata": {},
     "output_type": "execute_result"
    }
   ],
   "source": [
    "rating_matrix"
   ],
   "metadata": {
    "collapsed": false,
    "ExecuteTime": {
     "end_time": "2024-04-12T07:27:17.426389600Z",
     "start_time": "2024-04-12T07:27:17.416213900Z"
    }
   },
   "id": "f0e79563b2db6d90"
  },
  {
   "cell_type": "code",
   "execution_count": 25,
   "outputs": [
    {
     "data": {
      "text/plain": "      anime_id  count      mean                                     Name  \\\n1            5      7  8.428571          Cowboy Bebop: Tengoku no Tobira   \n819      25781      8  7.625000      Shingeki no Kyojin: Kuinaki Sentaku   \n428       4155      6  8.500000             One Piece Film: Strong World   \n270       1094      3  7.666667  One Piece: Umi no Heso no Daibouken-hen   \n1072     38408     12  7.750000         Boku no Hero Academia 4th Season   \n...        ...    ...       ...                                      ...   \n1001     36474      3  7.333333            Sword Art Online: Alicization   \n863      30654      3  8.666667            Ansatsu Kyoushitsu 2nd Season   \n962      34577      3  7.333333  Nanatsu no Taizai: Imashime no Fukkatsu   \n1081     38691      3  8.333333                                Dr. Stone   \n754      20507      3  7.333333                                 Noragami   \n\n                                    mod_name  \\\n1             cowboy bebop tengoku no tobira   \n819       shingeki no kyojin kuinaki sentaku   \n428              one piece film strong world   \n270    one piece umi no heso no daiboukenhen   \n1072        boku no hero academia 4th season   \n...                                      ...   \n1001            sword art online alicization   \n863            ansatsu kyoushitsu 2nd season   \n962   nanatsu no taizai imashime no fukkatsu   \n1081                                dr stone   \n754                                 noragami   \n\n                                           English name  \\\n1                               Cowboy Bebop: The Movie   \n819                         Attack on Titan: No Regrets   \n428                        One Piece Film: Strong World   \n270   One Piece TV Special: Adventure in the Ocean's...   \n1072                          My Hero Academia Season 4   \n...                                                 ...   \n1001                      Sword Art Online: Alicization   \n863               Assassination Classroom Second Season   \n962   The Seven Deadly Sins: Revival of the Commandm...   \n1081                                          Dr. Stone   \n754                                            Noragami   \n\n                   Other name  Score                      Genres  \\\n1              カウボーイビバップ 天国の扉   8.38              Action, Sci-Fi   \n819              進撃の巨人 悔いなき選択   8.41                      Action   \n428      ワンピース　フィルム　ストロングワールド   8.08  Action, Adventure, Fantasy   \n270   ワンピース ルフィ落下!秘境・海のヘソの大冒険   7.20  Action, Adventure, Fantasy   \n1072              僕のヒーローアカデミア   7.91                      Action   \n...                       ...    ...                         ...   \n1001    ソードアート・オンライン アリシゼーション   7.56  Action, Adventure, Fantasy   \n863                  暗殺教室　第２期   8.49              Action, Comedy   \n962               七つの大罪 戒めの復活   7.59  Action, Adventure, Fantasy   \n1081                 ドクターストーン   8.29   Adventure, Comedy, Sci-Fi   \n754                      ノラガミ   7.95             Action, Fantasy   \n\n                                               Synopsis  ...  \\\n1     Another day, another bounty—such is the life o...  ...   \n819   Many years before becoming the famed captain o...  ...   \n428   Upon hearing news that islands in East Blue ar...  ...   \n270   The Straw Hats encounter a city in the middle ...  ...   \n1072  After successfully passing his Provisional Her...  ...   \n...                                                 ...  ...   \n1001  The Soul Translator is a state-of-the-art full...  ...   \n863   Returning from their summer vacation, the stud...  ...   \n962   The fierce battle between Meliodas, the captai...  ...   \n1081  After five years of harboring unspoken feeling...  ...   \n754   In times of need, if you look in the right pla...  ...   \n\n                              Rating    Rank Popularity Favorites Scored By  \\\n1     R - 17+ (violence & profanity)   189.0        602      1448    206248   \n819   R - 17+ (violence & profanity)   169.0        418      1865    292266   \n428        PG-13 - Teens 13 or older   482.0        933       450    150154   \n270        PG-13 - Teens 13 or older  3041.0       3482        25     18155   \n1072       PG-13 - Teens 13 or older   707.0         54      8217   1020099   \n...                              ...     ...        ...       ...       ...   \n1001  R - 17+ (violence & profanity)  1523.0        145      7036    587461   \n863        PG-13 - Teens 13 or older   132.0         84     17268    847046   \n962        PG-13 - Teens 13 or older  1406.0        129      3743    674789   \n1081       PG-13 - Teens 13 or older   255.0         55     27001    986159   \n754        PG-13 - Teens 13 or older   650.0         27     32675   1226988   \n\n      Members                                          Image URL  \\\n1      360978  https://cdn.myanimelist.net/images/anime/1439/...   \n819    488704  https://cdn.myanimelist.net/images/anime/8/694...   \n428    239638  https://cdn.myanimelist.net/images/anime/1192/...   \n270     36033  https://cdn.myanimelist.net/images/anime/6/209...   \n1072  1632615  https://cdn.myanimelist.net/images/anime/1412/...   \n...       ...                                                ...   \n1001   991983  https://cdn.myanimelist.net/images/anime/1993/...   \n863   1360488  https://cdn.myanimelist.net/images/anime/8/779...   \n962   1079654  https://cdn.myanimelist.net/images/anime/11/90...   \n1081  1630125  https://cdn.myanimelist.net/images/anime/1613/...   \n754   2079087  https://cdn.myanimelist.net/images/anime/1886/...   \n\n                                    Mod_name adjusted_count recommend_score  \n1             cowboy bebop tengoku no tobira       0.010152        0.085565  \n819       shingeki no kyojin kuinaki sentaku       0.010413        0.079402  \n428              one piece film strong world       0.009294        0.078999  \n270    one piece umi no heso no daiboukenhen       0.010049        0.077044  \n1072        boku no hero academia 4th season       0.009851        0.076347  \n...                                      ...            ...             ...  \n1001            sword art online alicization       0.000903        0.006619  \n863            ansatsu kyoushitsu 2nd season       0.000700        0.006070  \n962   nanatsu no taizai imashime no fukkatsu       0.000820        0.006013  \n1081                                dr stone       0.000630        0.005253  \n754                                 noragami       0.000542        0.003973  \n\n[206 rows x 28 columns]",
      "text/html": "<div>\n<style scoped>\n    .dataframe tbody tr th:only-of-type {\n        vertical-align: middle;\n    }\n\n    .dataframe tbody tr th {\n        vertical-align: top;\n    }\n\n    .dataframe thead th {\n        text-align: right;\n    }\n</style>\n<table border=\"1\" class=\"dataframe\">\n  <thead>\n    <tr style=\"text-align: right;\">\n      <th></th>\n      <th>anime_id</th>\n      <th>count</th>\n      <th>mean</th>\n      <th>Name</th>\n      <th>mod_name</th>\n      <th>English name</th>\n      <th>Other name</th>\n      <th>Score</th>\n      <th>Genres</th>\n      <th>Synopsis</th>\n      <th>...</th>\n      <th>Rating</th>\n      <th>Rank</th>\n      <th>Popularity</th>\n      <th>Favorites</th>\n      <th>Scored By</th>\n      <th>Members</th>\n      <th>Image URL</th>\n      <th>Mod_name</th>\n      <th>adjusted_count</th>\n      <th>recommend_score</th>\n    </tr>\n  </thead>\n  <tbody>\n    <tr>\n      <th>1</th>\n      <td>5</td>\n      <td>7</td>\n      <td>8.428571</td>\n      <td>Cowboy Bebop: Tengoku no Tobira</td>\n      <td>cowboy bebop tengoku no tobira</td>\n      <td>Cowboy Bebop: The Movie</td>\n      <td>カウボーイビバップ 天国の扉</td>\n      <td>8.38</td>\n      <td>Action, Sci-Fi</td>\n      <td>Another day, another bounty—such is the life o...</td>\n      <td>...</td>\n      <td>R - 17+ (violence &amp; profanity)</td>\n      <td>189.0</td>\n      <td>602</td>\n      <td>1448</td>\n      <td>206248</td>\n      <td>360978</td>\n      <td>https://cdn.myanimelist.net/images/anime/1439/...</td>\n      <td>cowboy bebop tengoku no tobira</td>\n      <td>0.010152</td>\n      <td>0.085565</td>\n    </tr>\n    <tr>\n      <th>819</th>\n      <td>25781</td>\n      <td>8</td>\n      <td>7.625000</td>\n      <td>Shingeki no Kyojin: Kuinaki Sentaku</td>\n      <td>shingeki no kyojin kuinaki sentaku</td>\n      <td>Attack on Titan: No Regrets</td>\n      <td>進撃の巨人 悔いなき選択</td>\n      <td>8.41</td>\n      <td>Action</td>\n      <td>Many years before becoming the famed captain o...</td>\n      <td>...</td>\n      <td>R - 17+ (violence &amp; profanity)</td>\n      <td>169.0</td>\n      <td>418</td>\n      <td>1865</td>\n      <td>292266</td>\n      <td>488704</td>\n      <td>https://cdn.myanimelist.net/images/anime/8/694...</td>\n      <td>shingeki no kyojin kuinaki sentaku</td>\n      <td>0.010413</td>\n      <td>0.079402</td>\n    </tr>\n    <tr>\n      <th>428</th>\n      <td>4155</td>\n      <td>6</td>\n      <td>8.500000</td>\n      <td>One Piece Film: Strong World</td>\n      <td>one piece film strong world</td>\n      <td>One Piece Film: Strong World</td>\n      <td>ワンピース　フィルム　ストロングワールド</td>\n      <td>8.08</td>\n      <td>Action, Adventure, Fantasy</td>\n      <td>Upon hearing news that islands in East Blue ar...</td>\n      <td>...</td>\n      <td>PG-13 - Teens 13 or older</td>\n      <td>482.0</td>\n      <td>933</td>\n      <td>450</td>\n      <td>150154</td>\n      <td>239638</td>\n      <td>https://cdn.myanimelist.net/images/anime/1192/...</td>\n      <td>one piece film strong world</td>\n      <td>0.009294</td>\n      <td>0.078999</td>\n    </tr>\n    <tr>\n      <th>270</th>\n      <td>1094</td>\n      <td>3</td>\n      <td>7.666667</td>\n      <td>One Piece: Umi no Heso no Daibouken-hen</td>\n      <td>one piece umi no heso no daiboukenhen</td>\n      <td>One Piece TV Special: Adventure in the Ocean's...</td>\n      <td>ワンピース ルフィ落下!秘境・海のヘソの大冒険</td>\n      <td>7.20</td>\n      <td>Action, Adventure, Fantasy</td>\n      <td>The Straw Hats encounter a city in the middle ...</td>\n      <td>...</td>\n      <td>PG-13 - Teens 13 or older</td>\n      <td>3041.0</td>\n      <td>3482</td>\n      <td>25</td>\n      <td>18155</td>\n      <td>36033</td>\n      <td>https://cdn.myanimelist.net/images/anime/6/209...</td>\n      <td>one piece umi no heso no daiboukenhen</td>\n      <td>0.010049</td>\n      <td>0.077044</td>\n    </tr>\n    <tr>\n      <th>1072</th>\n      <td>38408</td>\n      <td>12</td>\n      <td>7.750000</td>\n      <td>Boku no Hero Academia 4th Season</td>\n      <td>boku no hero academia 4th season</td>\n      <td>My Hero Academia Season 4</td>\n      <td>僕のヒーローアカデミア</td>\n      <td>7.91</td>\n      <td>Action</td>\n      <td>After successfully passing his Provisional Her...</td>\n      <td>...</td>\n      <td>PG-13 - Teens 13 or older</td>\n      <td>707.0</td>\n      <td>54</td>\n      <td>8217</td>\n      <td>1020099</td>\n      <td>1632615</td>\n      <td>https://cdn.myanimelist.net/images/anime/1412/...</td>\n      <td>boku no hero academia 4th season</td>\n      <td>0.009851</td>\n      <td>0.076347</td>\n    </tr>\n    <tr>\n      <th>...</th>\n      <td>...</td>\n      <td>...</td>\n      <td>...</td>\n      <td>...</td>\n      <td>...</td>\n      <td>...</td>\n      <td>...</td>\n      <td>...</td>\n      <td>...</td>\n      <td>...</td>\n      <td>...</td>\n      <td>...</td>\n      <td>...</td>\n      <td>...</td>\n      <td>...</td>\n      <td>...</td>\n      <td>...</td>\n      <td>...</td>\n      <td>...</td>\n      <td>...</td>\n      <td>...</td>\n    </tr>\n    <tr>\n      <th>1001</th>\n      <td>36474</td>\n      <td>3</td>\n      <td>7.333333</td>\n      <td>Sword Art Online: Alicization</td>\n      <td>sword art online alicization</td>\n      <td>Sword Art Online: Alicization</td>\n      <td>ソードアート・オンライン アリシゼーション</td>\n      <td>7.56</td>\n      <td>Action, Adventure, Fantasy</td>\n      <td>The Soul Translator is a state-of-the-art full...</td>\n      <td>...</td>\n      <td>R - 17+ (violence &amp; profanity)</td>\n      <td>1523.0</td>\n      <td>145</td>\n      <td>7036</td>\n      <td>587461</td>\n      <td>991983</td>\n      <td>https://cdn.myanimelist.net/images/anime/1993/...</td>\n      <td>sword art online alicization</td>\n      <td>0.000903</td>\n      <td>0.006619</td>\n    </tr>\n    <tr>\n      <th>863</th>\n      <td>30654</td>\n      <td>3</td>\n      <td>8.666667</td>\n      <td>Ansatsu Kyoushitsu 2nd Season</td>\n      <td>ansatsu kyoushitsu 2nd season</td>\n      <td>Assassination Classroom Second Season</td>\n      <td>暗殺教室　第２期</td>\n      <td>8.49</td>\n      <td>Action, Comedy</td>\n      <td>Returning from their summer vacation, the stud...</td>\n      <td>...</td>\n      <td>PG-13 - Teens 13 or older</td>\n      <td>132.0</td>\n      <td>84</td>\n      <td>17268</td>\n      <td>847046</td>\n      <td>1360488</td>\n      <td>https://cdn.myanimelist.net/images/anime/8/779...</td>\n      <td>ansatsu kyoushitsu 2nd season</td>\n      <td>0.000700</td>\n      <td>0.006070</td>\n    </tr>\n    <tr>\n      <th>962</th>\n      <td>34577</td>\n      <td>3</td>\n      <td>7.333333</td>\n      <td>Nanatsu no Taizai: Imashime no Fukkatsu</td>\n      <td>nanatsu no taizai imashime no fukkatsu</td>\n      <td>The Seven Deadly Sins: Revival of the Commandm...</td>\n      <td>七つの大罪 戒めの復活</td>\n      <td>7.59</td>\n      <td>Action, Adventure, Fantasy</td>\n      <td>The fierce battle between Meliodas, the captai...</td>\n      <td>...</td>\n      <td>PG-13 - Teens 13 or older</td>\n      <td>1406.0</td>\n      <td>129</td>\n      <td>3743</td>\n      <td>674789</td>\n      <td>1079654</td>\n      <td>https://cdn.myanimelist.net/images/anime/11/90...</td>\n      <td>nanatsu no taizai imashime no fukkatsu</td>\n      <td>0.000820</td>\n      <td>0.006013</td>\n    </tr>\n    <tr>\n      <th>1081</th>\n      <td>38691</td>\n      <td>3</td>\n      <td>8.333333</td>\n      <td>Dr. Stone</td>\n      <td>dr stone</td>\n      <td>Dr. Stone</td>\n      <td>ドクターストーン</td>\n      <td>8.29</td>\n      <td>Adventure, Comedy, Sci-Fi</td>\n      <td>After five years of harboring unspoken feeling...</td>\n      <td>...</td>\n      <td>PG-13 - Teens 13 or older</td>\n      <td>255.0</td>\n      <td>55</td>\n      <td>27001</td>\n      <td>986159</td>\n      <td>1630125</td>\n      <td>https://cdn.myanimelist.net/images/anime/1613/...</td>\n      <td>dr stone</td>\n      <td>0.000630</td>\n      <td>0.005253</td>\n    </tr>\n    <tr>\n      <th>754</th>\n      <td>20507</td>\n      <td>3</td>\n      <td>7.333333</td>\n      <td>Noragami</td>\n      <td>noragami</td>\n      <td>Noragami</td>\n      <td>ノラガミ</td>\n      <td>7.95</td>\n      <td>Action, Fantasy</td>\n      <td>In times of need, if you look in the right pla...</td>\n      <td>...</td>\n      <td>PG-13 - Teens 13 or older</td>\n      <td>650.0</td>\n      <td>27</td>\n      <td>32675</td>\n      <td>1226988</td>\n      <td>2079087</td>\n      <td>https://cdn.myanimelist.net/images/anime/1886/...</td>\n      <td>noragami</td>\n      <td>0.000542</td>\n      <td>0.003973</td>\n    </tr>\n  </tbody>\n</table>\n<p>206 rows × 28 columns</p>\n</div>"
     },
     "execution_count": 25,
     "metadata": {},
     "output_type": "execute_result"
    }
   ],
   "source": [
    "anime_list"
   ],
   "metadata": {
    "collapsed": false,
    "ExecuteTime": {
     "end_time": "2024-04-12T07:27:17.451528700Z",
     "start_time": "2024-04-12T07:27:17.426389600Z"
    }
   },
   "id": "c7b095bd289e3fc4"
  },
  {
   "cell_type": "code",
   "execution_count": 26,
   "outputs": [
    {
     "data": {
      "text/plain": "                                         Name  Score  Scored By  \\\n1             Cowboy Bebop: Tengoku no Tobira   8.38     206248   \n819       Shingeki no Kyojin: Kuinaki Sentaku   8.41     292266   \n428              One Piece Film: Strong World   8.08     150154   \n270   One Piece: Umi no Heso no Daibouken-hen   7.20      18155   \n1072         Boku no Hero Academia 4th Season   7.91    1020099   \n...                                       ...    ...        ...   \n1001            Sword Art Online: Alicization   7.56     587461   \n863             Ansatsu Kyoushitsu 2nd Season   8.49     847046   \n962   Nanatsu no Taizai: Imashime no Fukkatsu   7.59     674789   \n1081                                Dr. Stone   8.29     986159   \n754                                  Noragami   7.95    1226988   \n\n      recommend_score  \n1            0.085565  \n819          0.079402  \n428          0.078999  \n270          0.077044  \n1072         0.076347  \n...               ...  \n1001         0.006619  \n863          0.006070  \n962          0.006013  \n1081         0.005253  \n754          0.003973  \n\n[206 rows x 4 columns]",
      "text/html": "<div>\n<style scoped>\n    .dataframe tbody tr th:only-of-type {\n        vertical-align: middle;\n    }\n\n    .dataframe tbody tr th {\n        vertical-align: top;\n    }\n\n    .dataframe thead th {\n        text-align: right;\n    }\n</style>\n<table border=\"1\" class=\"dataframe\">\n  <thead>\n    <tr style=\"text-align: right;\">\n      <th></th>\n      <th>Name</th>\n      <th>Score</th>\n      <th>Scored By</th>\n      <th>recommend_score</th>\n    </tr>\n  </thead>\n  <tbody>\n    <tr>\n      <th>1</th>\n      <td>Cowboy Bebop: Tengoku no Tobira</td>\n      <td>8.38</td>\n      <td>206248</td>\n      <td>0.085565</td>\n    </tr>\n    <tr>\n      <th>819</th>\n      <td>Shingeki no Kyojin: Kuinaki Sentaku</td>\n      <td>8.41</td>\n      <td>292266</td>\n      <td>0.079402</td>\n    </tr>\n    <tr>\n      <th>428</th>\n      <td>One Piece Film: Strong World</td>\n      <td>8.08</td>\n      <td>150154</td>\n      <td>0.078999</td>\n    </tr>\n    <tr>\n      <th>270</th>\n      <td>One Piece: Umi no Heso no Daibouken-hen</td>\n      <td>7.20</td>\n      <td>18155</td>\n      <td>0.077044</td>\n    </tr>\n    <tr>\n      <th>1072</th>\n      <td>Boku no Hero Academia 4th Season</td>\n      <td>7.91</td>\n      <td>1020099</td>\n      <td>0.076347</td>\n    </tr>\n    <tr>\n      <th>...</th>\n      <td>...</td>\n      <td>...</td>\n      <td>...</td>\n      <td>...</td>\n    </tr>\n    <tr>\n      <th>1001</th>\n      <td>Sword Art Online: Alicization</td>\n      <td>7.56</td>\n      <td>587461</td>\n      <td>0.006619</td>\n    </tr>\n    <tr>\n      <th>863</th>\n      <td>Ansatsu Kyoushitsu 2nd Season</td>\n      <td>8.49</td>\n      <td>847046</td>\n      <td>0.006070</td>\n    </tr>\n    <tr>\n      <th>962</th>\n      <td>Nanatsu no Taizai: Imashime no Fukkatsu</td>\n      <td>7.59</td>\n      <td>674789</td>\n      <td>0.006013</td>\n    </tr>\n    <tr>\n      <th>1081</th>\n      <td>Dr. Stone</td>\n      <td>8.29</td>\n      <td>986159</td>\n      <td>0.005253</td>\n    </tr>\n    <tr>\n      <th>754</th>\n      <td>Noragami</td>\n      <td>7.95</td>\n      <td>1226988</td>\n      <td>0.003973</td>\n    </tr>\n  </tbody>\n</table>\n<p>206 rows × 4 columns</p>\n</div>"
     },
     "execution_count": 26,
     "metadata": {},
     "output_type": "execute_result"
    }
   ],
   "source": [
    "anime_list[['Name', 'Score', 'Scored By', 'recommend_score']]"
   ],
   "metadata": {
    "collapsed": false,
    "ExecuteTime": {
     "end_time": "2024-04-12T07:27:17.496933100Z",
     "start_time": "2024-04-12T07:27:17.451528700Z"
    }
   },
   "id": "4793d2cf26df6467"
  },
  {
   "cell_type": "code",
   "execution_count": 26,
   "outputs": [],
   "source": [],
   "metadata": {
    "collapsed": false,
    "ExecuteTime": {
     "end_time": "2024-04-12T07:27:17.499488800Z",
     "start_time": "2024-04-12T07:27:17.465573100Z"
    }
   },
   "id": "6fecf71a59b20577"
  }
 ],
 "metadata": {
  "kernelspec": {
   "display_name": "Python 3",
   "language": "python",
   "name": "python3"
  },
  "language_info": {
   "codemirror_mode": {
    "name": "ipython",
    "version": 2
   },
   "file_extension": ".py",
   "mimetype": "text/x-python",
   "name": "python",
   "nbconvert_exporter": "python",
   "pygments_lexer": "ipython2",
   "version": "2.7.6"
  }
 },
 "nbformat": 4,
 "nbformat_minor": 5
}
