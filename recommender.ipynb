{
 "cells": [
  {
   "cell_type": "code",
   "execution_count": 1,
   "id": "initial_id",
   "metadata": {
    "collapsed": true,
    "ExecuteTime": {
     "end_time": "2024-03-28T09:02:46.146967300Z",
     "start_time": "2024-03-28T09:02:45.426133300Z"
    }
   },
   "outputs": [],
   "source": [
    "import numpy as np\n",
    "import pandas as pd\n",
    "import math\n",
    "from tqdm import tqdm"
   ]
  },
  {
   "cell_type": "code",
   "execution_count": 2,
   "outputs": [
    {
     "data": {
      "text/plain": "       anime_id                             Name  \\\n0             1                     Cowboy Bebop   \n1             5  Cowboy Bebop: Tengoku no Tobira   \n2             6                           Trigun   \n3             7               Witch Hunter Robin   \n4             8                   Bouken Ou Beet   \n...         ...                              ...   \n24900     55731                      Wu Nao Monu   \n24901     55732              Bu Xing Si: Yuan Qi   \n24902     55733                      Di Yi Xulie   \n24903     55734         Bokura no Saishuu Sensou   \n24904     55735                   Shijuuku Nichi   \n\n                             mod_name  Score  \\\n0                        cowboy bebop   8.75   \n1      cowboy bebop tengoku no tobira   8.38   \n2                              trigun   8.22   \n3                  witch hunter robin   7.25   \n4                      bouken ou beet   6.94   \n...                               ...    ...   \n24900                     wu nao monu   0.00   \n24901              bu xing si yuan qi   0.00   \n24902                     di yi xulie   0.00   \n24903        bokura no saishuu sensou   0.00   \n24904                  shijuuku nichi   0.00   \n\n                                     Genres   Type Episodes  \\\n0             Action, Award Winning, Sci-Fi     TV     26.0   \n1                            Action, Sci-Fi  Movie      1.0   \n2                 Action, Adventure, Sci-Fi     TV     26.0   \n3      Action, Drama, Mystery, Supernatural     TV     26.0   \n4          Adventure, Fantasy, Supernatural     TV     52.0   \n...                                     ...    ...      ...   \n24900        Comedy, Fantasy, Slice of Life    ONA     15.0   \n24901            Action, Adventure, Fantasy    ONA     18.0   \n24902    Action, Adventure, Fantasy, Sci-Fi    ONA     16.0   \n24903                               UNKNOWN  Music      1.0   \n24904                               UNKNOWN  Music      1.0   \n\n                              Aired    Premiered           Status  \\\n0       Apr 3, 1998 to Apr 24, 1999  spring 1998  Finished Airing   \n1                       Sep 1, 2001      UNKNOWN  Finished Airing   \n2       Apr 1, 1998 to Sep 30, 1998  spring 1998  Finished Airing   \n3       Jul 3, 2002 to Dec 25, 2002  summer 2002  Finished Airing   \n4      Sep 30, 2004 to Sep 29, 2005    fall 2004  Finished Airing   \n...                             ...          ...              ...   \n24900              Jul 4, 2023 to ?      UNKNOWN    Not yet aired   \n24901             Jul 27, 2023 to ?      UNKNOWN    Not yet aired   \n24902             Jul 19, 2023 to ?      UNKNOWN  Finished Airing   \n24903                  Apr 23, 2022      UNKNOWN  Finished Airing   \n24904                   Sep 5, 2022      UNKNOWN  Finished Airing   \n\n              Studios     Source       Duration  \\\n0             Sunrise   Original  24 min per ep   \n1               Bones   Original    1 hr 55 min   \n2            Madhouse      Manga  24 min per ep   \n3             Sunrise   Original  25 min per ep   \n4      Toei Animation      Manga  23 min per ep   \n...               ...        ...            ...   \n24900         UNKNOWN  Web manga        Unknown   \n24901         UNKNOWN  Web novel        Unknown   \n24902         UNKNOWN  Web novel        Unknown   \n24903         UNKNOWN   Original          3 min   \n24904         UNKNOWN   Original          3 min   \n\n                               Rating    Rank  Popularity  Favorites  \\\n0      R - 17+ (violence & profanity)    41.0          43      78525   \n1      R - 17+ (violence & profanity)   189.0         602       1448   \n2           PG-13 - Teens 13 or older   328.0         246      15035   \n3           PG-13 - Teens 13 or older  2764.0        1795        613   \n4                       PG - Children  4240.0        5126         14   \n...                               ...     ...         ...        ...   \n24900       PG-13 - Teens 13 or older     NaN       24723          0   \n24901       PG-13 - Teens 13 or older     0.0           0          0   \n24902       PG-13 - Teens 13 or older     0.0           0          0   \n24903       PG-13 - Teens 13 or older     0.0           0          0   \n24904       PG-13 - Teens 13 or older     0.0           0          0   \n\n       Scored By  Members                                          Image URL  \n0       914193.0  1771505  https://cdn.myanimelist.net/images/anime/4/196...  \n1       206248.0   360978  https://cdn.myanimelist.net/images/anime/1439/...  \n2       356739.0   727252  https://cdn.myanimelist.net/images/anime/7/203...  \n3        42829.0   111931  https://cdn.myanimelist.net/images/anime/10/19...  \n4         6413.0    15001  https://cdn.myanimelist.net/images/anime/7/215...  \n...          ...      ...                                                ...  \n24900        NaN        0  https://cdn.myanimelist.net/images/anime/1386/...  \n24901        NaN        0  https://cdn.myanimelist.net/images/anime/1383/...  \n24902        NaN        0  https://cdn.myanimelist.net/images/anime/1130/...  \n24903        NaN        0  https://cdn.myanimelist.net/images/anime/1931/...  \n24904        NaN        0  https://cdn.myanimelist.net/images/anime/1902/...  \n\n[24903 rows x 20 columns]",
      "text/html": "<div>\n<style scoped>\n    .dataframe tbody tr th:only-of-type {\n        vertical-align: middle;\n    }\n\n    .dataframe tbody tr th {\n        vertical-align: top;\n    }\n\n    .dataframe thead th {\n        text-align: right;\n    }\n</style>\n<table border=\"1\" class=\"dataframe\">\n  <thead>\n    <tr style=\"text-align: right;\">\n      <th></th>\n      <th>anime_id</th>\n      <th>Name</th>\n      <th>mod_name</th>\n      <th>Score</th>\n      <th>Genres</th>\n      <th>Type</th>\n      <th>Episodes</th>\n      <th>Aired</th>\n      <th>Premiered</th>\n      <th>Status</th>\n      <th>Studios</th>\n      <th>Source</th>\n      <th>Duration</th>\n      <th>Rating</th>\n      <th>Rank</th>\n      <th>Popularity</th>\n      <th>Favorites</th>\n      <th>Scored By</th>\n      <th>Members</th>\n      <th>Image URL</th>\n    </tr>\n  </thead>\n  <tbody>\n    <tr>\n      <th>0</th>\n      <td>1</td>\n      <td>Cowboy Bebop</td>\n      <td>cowboy bebop</td>\n      <td>8.75</td>\n      <td>Action, Award Winning, Sci-Fi</td>\n      <td>TV</td>\n      <td>26.0</td>\n      <td>Apr 3, 1998 to Apr 24, 1999</td>\n      <td>spring 1998</td>\n      <td>Finished Airing</td>\n      <td>Sunrise</td>\n      <td>Original</td>\n      <td>24 min per ep</td>\n      <td>R - 17+ (violence &amp; profanity)</td>\n      <td>41.0</td>\n      <td>43</td>\n      <td>78525</td>\n      <td>914193.0</td>\n      <td>1771505</td>\n      <td>https://cdn.myanimelist.net/images/anime/4/196...</td>\n    </tr>\n    <tr>\n      <th>1</th>\n      <td>5</td>\n      <td>Cowboy Bebop: Tengoku no Tobira</td>\n      <td>cowboy bebop tengoku no tobira</td>\n      <td>8.38</td>\n      <td>Action, Sci-Fi</td>\n      <td>Movie</td>\n      <td>1.0</td>\n      <td>Sep 1, 2001</td>\n      <td>UNKNOWN</td>\n      <td>Finished Airing</td>\n      <td>Bones</td>\n      <td>Original</td>\n      <td>1 hr 55 min</td>\n      <td>R - 17+ (violence &amp; profanity)</td>\n      <td>189.0</td>\n      <td>602</td>\n      <td>1448</td>\n      <td>206248.0</td>\n      <td>360978</td>\n      <td>https://cdn.myanimelist.net/images/anime/1439/...</td>\n    </tr>\n    <tr>\n      <th>2</th>\n      <td>6</td>\n      <td>Trigun</td>\n      <td>trigun</td>\n      <td>8.22</td>\n      <td>Action, Adventure, Sci-Fi</td>\n      <td>TV</td>\n      <td>26.0</td>\n      <td>Apr 1, 1998 to Sep 30, 1998</td>\n      <td>spring 1998</td>\n      <td>Finished Airing</td>\n      <td>Madhouse</td>\n      <td>Manga</td>\n      <td>24 min per ep</td>\n      <td>PG-13 - Teens 13 or older</td>\n      <td>328.0</td>\n      <td>246</td>\n      <td>15035</td>\n      <td>356739.0</td>\n      <td>727252</td>\n      <td>https://cdn.myanimelist.net/images/anime/7/203...</td>\n    </tr>\n    <tr>\n      <th>3</th>\n      <td>7</td>\n      <td>Witch Hunter Robin</td>\n      <td>witch hunter robin</td>\n      <td>7.25</td>\n      <td>Action, Drama, Mystery, Supernatural</td>\n      <td>TV</td>\n      <td>26.0</td>\n      <td>Jul 3, 2002 to Dec 25, 2002</td>\n      <td>summer 2002</td>\n      <td>Finished Airing</td>\n      <td>Sunrise</td>\n      <td>Original</td>\n      <td>25 min per ep</td>\n      <td>PG-13 - Teens 13 or older</td>\n      <td>2764.0</td>\n      <td>1795</td>\n      <td>613</td>\n      <td>42829.0</td>\n      <td>111931</td>\n      <td>https://cdn.myanimelist.net/images/anime/10/19...</td>\n    </tr>\n    <tr>\n      <th>4</th>\n      <td>8</td>\n      <td>Bouken Ou Beet</td>\n      <td>bouken ou beet</td>\n      <td>6.94</td>\n      <td>Adventure, Fantasy, Supernatural</td>\n      <td>TV</td>\n      <td>52.0</td>\n      <td>Sep 30, 2004 to Sep 29, 2005</td>\n      <td>fall 2004</td>\n      <td>Finished Airing</td>\n      <td>Toei Animation</td>\n      <td>Manga</td>\n      <td>23 min per ep</td>\n      <td>PG - Children</td>\n      <td>4240.0</td>\n      <td>5126</td>\n      <td>14</td>\n      <td>6413.0</td>\n      <td>15001</td>\n      <td>https://cdn.myanimelist.net/images/anime/7/215...</td>\n    </tr>\n    <tr>\n      <th>...</th>\n      <td>...</td>\n      <td>...</td>\n      <td>...</td>\n      <td>...</td>\n      <td>...</td>\n      <td>...</td>\n      <td>...</td>\n      <td>...</td>\n      <td>...</td>\n      <td>...</td>\n      <td>...</td>\n      <td>...</td>\n      <td>...</td>\n      <td>...</td>\n      <td>...</td>\n      <td>...</td>\n      <td>...</td>\n      <td>...</td>\n      <td>...</td>\n      <td>...</td>\n    </tr>\n    <tr>\n      <th>24900</th>\n      <td>55731</td>\n      <td>Wu Nao Monu</td>\n      <td>wu nao monu</td>\n      <td>0.00</td>\n      <td>Comedy, Fantasy, Slice of Life</td>\n      <td>ONA</td>\n      <td>15.0</td>\n      <td>Jul 4, 2023 to ?</td>\n      <td>UNKNOWN</td>\n      <td>Not yet aired</td>\n      <td>UNKNOWN</td>\n      <td>Web manga</td>\n      <td>Unknown</td>\n      <td>PG-13 - Teens 13 or older</td>\n      <td>NaN</td>\n      <td>24723</td>\n      <td>0</td>\n      <td>NaN</td>\n      <td>0</td>\n      <td>https://cdn.myanimelist.net/images/anime/1386/...</td>\n    </tr>\n    <tr>\n      <th>24901</th>\n      <td>55732</td>\n      <td>Bu Xing Si: Yuan Qi</td>\n      <td>bu xing si yuan qi</td>\n      <td>0.00</td>\n      <td>Action, Adventure, Fantasy</td>\n      <td>ONA</td>\n      <td>18.0</td>\n      <td>Jul 27, 2023 to ?</td>\n      <td>UNKNOWN</td>\n      <td>Not yet aired</td>\n      <td>UNKNOWN</td>\n      <td>Web novel</td>\n      <td>Unknown</td>\n      <td>PG-13 - Teens 13 or older</td>\n      <td>0.0</td>\n      <td>0</td>\n      <td>0</td>\n      <td>NaN</td>\n      <td>0</td>\n      <td>https://cdn.myanimelist.net/images/anime/1383/...</td>\n    </tr>\n    <tr>\n      <th>24902</th>\n      <td>55733</td>\n      <td>Di Yi Xulie</td>\n      <td>di yi xulie</td>\n      <td>0.00</td>\n      <td>Action, Adventure, Fantasy, Sci-Fi</td>\n      <td>ONA</td>\n      <td>16.0</td>\n      <td>Jul 19, 2023 to ?</td>\n      <td>UNKNOWN</td>\n      <td>Finished Airing</td>\n      <td>UNKNOWN</td>\n      <td>Web novel</td>\n      <td>Unknown</td>\n      <td>PG-13 - Teens 13 or older</td>\n      <td>0.0</td>\n      <td>0</td>\n      <td>0</td>\n      <td>NaN</td>\n      <td>0</td>\n      <td>https://cdn.myanimelist.net/images/anime/1130/...</td>\n    </tr>\n    <tr>\n      <th>24903</th>\n      <td>55734</td>\n      <td>Bokura no Saishuu Sensou</td>\n      <td>bokura no saishuu sensou</td>\n      <td>0.00</td>\n      <td>UNKNOWN</td>\n      <td>Music</td>\n      <td>1.0</td>\n      <td>Apr 23, 2022</td>\n      <td>UNKNOWN</td>\n      <td>Finished Airing</td>\n      <td>UNKNOWN</td>\n      <td>Original</td>\n      <td>3 min</td>\n      <td>PG-13 - Teens 13 or older</td>\n      <td>0.0</td>\n      <td>0</td>\n      <td>0</td>\n      <td>NaN</td>\n      <td>0</td>\n      <td>https://cdn.myanimelist.net/images/anime/1931/...</td>\n    </tr>\n    <tr>\n      <th>24904</th>\n      <td>55735</td>\n      <td>Shijuuku Nichi</td>\n      <td>shijuuku nichi</td>\n      <td>0.00</td>\n      <td>UNKNOWN</td>\n      <td>Music</td>\n      <td>1.0</td>\n      <td>Sep 5, 2022</td>\n      <td>UNKNOWN</td>\n      <td>Finished Airing</td>\n      <td>UNKNOWN</td>\n      <td>Original</td>\n      <td>3 min</td>\n      <td>PG-13 - Teens 13 or older</td>\n      <td>0.0</td>\n      <td>0</td>\n      <td>0</td>\n      <td>NaN</td>\n      <td>0</td>\n      <td>https://cdn.myanimelist.net/images/anime/1902/...</td>\n    </tr>\n  </tbody>\n</table>\n<p>24903 rows × 20 columns</p>\n</div>"
     },
     "execution_count": 2,
     "metadata": {},
     "output_type": "execute_result"
    }
   ],
   "source": [
    "anime = pd.read_parquet('anime/anime.parquet')\n",
    "anime"
   ],
   "metadata": {
    "collapsed": false,
    "ExecuteTime": {
     "end_time": "2024-03-28T09:02:46.348799600Z",
     "start_time": "2024-03-28T09:02:46.150322400Z"
    }
   },
   "id": "f28b5069e42459f9"
  },
  {
   "cell_type": "code",
   "execution_count": 3,
   "outputs": [
    {
     "data": {
      "text/plain": "       anime_id                                               Name  \\\n5336       8365  Crayon Shin-chan Movie 13: Densetsu wo Yobu Bu...   \n7428      16498                                 Shingeki no Kyojin   \n7857      18397                             Shingeki no Kyojin OVA   \n8030      19285                    Shingeki no Kyojin: Ano Hi Kara   \n8046      19391                   Shingeki no Kyojin Picture Drama   \n8512      21843                       Shingeki no Bahamut: Genesis   \n8988      23775        Shingeki no Kyojin Movie 1: Guren no Yumiya   \n8989      23777       Shingeki no Kyojin Movie 2: Jiyuu no Tsubasa   \n9352      25777                        Shingeki no Kyojin Season 2   \n9353      25781                Shingeki no Kyojin: Kuinaki Sentaku   \n9752      28447             Shingeki no Bahamut: Genesis - Roundup   \n10588     30736                   Shingeki no Bahamut: Virgin Soul   \n10874     31374                        Shingeki! Kyojin Chuugakkou   \n12462     34642         Shingeki no Bahamut: Genesis - Short Story   \n12776     35122                                 Shingeki no Kyotou   \n13176     35760                        Shingeki no Kyojin Season 3   \n13349     36106                     Shingeki no Kyojin: Lost Girls   \n13721     36702  Shingeki no Kyojin Season 2 Movie: Kakusei no ...   \n14865     38524                 Shingeki no Kyojin Season 3 Part 2   \n15520     39477               Shingeki no Kyojin Season 3 Specials   \n15521     39478  Shingeki no Kyojin in the Dome: Heishi-tachi n...   \n15822     40028               Shingeki no Kyojin: The Final Season   \n16827     42091                      Shingeki no Kyojin: Chronicle   \n20972     48583        Shingeki no Kyojin: The Final Season Part 2   \n21410     49627      Shingeki no Kyojin: The Final Season Specials   \n21450     49739                      Snickers x Shingeki no Kyojin   \n22157     51239            10-pun de Oitsukeru: Shingeki no Kyojin   \n22158     51240            15-pun de Oitsukeru: Shingeki no Kyojin   \n22159     51241            20-pun de Oitsukeru: Shingeki no Kyojin   \n22348     51535  Shingeki no Kyojin: The Final Season - Kankets...   \n24112     54560            25-pun de Oitsukeru: Shingeki no Kyojin   \n\n                                                mod_name  Score  \\\n5336   crayon shinchan movie 13 densetsu wo yobu buri...   6.62   \n7428                                  shingeki no kyojin   8.54   \n7857                              shingeki no kyojin ova   7.87   \n8030                      shingeki no kyojin ano hi kara   7.34   \n8046                    shingeki no kyojin picture drama   6.60   \n8512                         shingeki no bahamut genesis   7.62   \n8988          shingeki no kyojin movie 1 guren no yumiya   7.74   \n8989         shingeki no kyojin movie 2 jiyuu no tsubasa   7.85   \n9352                         shingeki no kyojin season 2   8.50   \n9353                  shingeki no kyojin kuinaki sentaku   8.41   \n9752                 shingeki no bahamut genesis roundup   6.34   \n10588                    shingeki no bahamut virgin soul   7.43   \n10874                         shingeki kyojin chuugakkou   7.20   \n12462            shingeki no bahamut genesis short story   7.12   \n12776                                 shingeki no kyotou   6.37   \n13176                        shingeki no kyojin season 3   8.62   \n13349                      shingeki no kyojin lost girls   7.81   \n13721  shingeki no kyojin season 2 movie kakusei no h...   7.83   \n14865                 shingeki no kyojin season 3 part 2   9.05   \n15520               shingeki no kyojin season 3 specials   7.55   \n15521  shingeki no kyojin in the dome heishitachi no ...   7.11   \n15822                shingeki no kyojin the final season   8.80   \n16827                       shingeki no kyojin chronicle   7.73   \n20972         shingeki no kyojin the final season part 2   8.77   \n21410       shingeki no kyojin the final season specials   6.98   \n21450                      snickers x shingeki no kyojin   6.00   \n22157              10pun de oitsukeru shingeki no kyojin   6.15   \n22158              15pun de oitsukeru shingeki no kyojin   6.17   \n22159              20pun de oitsukeru shingeki no kyojin   6.13   \n22348    shingeki no kyojin the final season kanketsuhen   9.05   \n24112              25pun de oitsukeru shingeki no kyojin   0.00   \n\n                                       Genres     Type Episodes  \\\n5336             Comedy, Slice of Life, Ecchi    Movie      1.0   \n7428   Action, Award Winning, Drama, Suspense       TV     25.0   \n7857                            Action, Drama      OVA      3.0   \n8030                            Action, Drama  Special      1.0   \n8046                                   Comedy  Special      9.0   \n8512               Action, Adventure, Fantasy       TV     12.0   \n8988                            Action, Drama    Movie      1.0   \n8989                            Action, Drama    Movie      1.0   \n9352                  Action, Drama, Suspense       TV     12.0   \n9353                                   Action      OVA      2.0   \n9752               Action, Adventure, Fantasy  Special      1.0   \n10588              Action, Adventure, Fantasy       TV     24.0   \n10874                                  Comedy       TV     12.0   \n12462              Action, Adventure, Fantasy      ONA      2.0   \n12776                         Action, Fantasy    Movie      1.0   \n13176                           Action, Drama       TV     12.0   \n13349                           Action, Drama      OVA      3.0   \n13721                           Action, Drama    Movie      1.0   \n14865                           Action, Drama       TV     10.0   \n15520                                  Comedy  Special      7.0   \n15521                                 UNKNOWN    Movie      1.0   \n15822                           Action, Drama       TV     16.0   \n16827                           Action, Drama    Movie      1.0   \n20972                           Action, Drama       TV     12.0   \n21410                                  Comedy  Special      2.0   \n21450                                  Comedy  Special      2.0   \n22157         Action, Drama, Fantasy, Mystery      ONA      1.0   \n22158         Action, Drama, Fantasy, Mystery      ONA      1.0   \n22159         Action, Drama, Fantasy, Mystery      ONA      1.0   \n22348                 Action, Drama, Suspense  Special      2.0   \n24112         Action, Drama, Fantasy, Mystery      ONA      1.0   \n\n                              Aired    Premiered            Status  \\\n5336                   Apr 16, 2005      UNKNOWN   Finished Airing   \n7428    Apr 7, 2013 to Sep 29, 2013  spring 2013   Finished Airing   \n7857     Dec 9, 2013 to Aug 8, 2014      UNKNOWN   Finished Airing   \n8030                    Jul 7, 2013      UNKNOWN   Finished Airing   \n8046   Jul 17, 2013 to Mar 19, 2014      UNKNOWN   Finished Airing   \n8512    Oct 6, 2014 to Dec 29, 2014    fall 2014   Finished Airing   \n8988                   Nov 22, 2014      UNKNOWN   Finished Airing   \n8989                   Jun 27, 2015      UNKNOWN   Finished Airing   \n9352    Apr 1, 2017 to Jun 17, 2017  spring 2017   Finished Airing   \n9353     Dec 9, 2014 to Apr 9, 2015      UNKNOWN   Finished Airing   \n9752                   Nov 18, 2014      UNKNOWN   Finished Airing   \n10588   Apr 8, 2017 to Sep 30, 2017  spring 2017   Finished Airing   \n10874   Oct 4, 2015 to Dec 20, 2015    fall 2015   Finished Airing   \n12462  Dec 28, 2016 to Feb 20, 2017      UNKNOWN   Finished Airing   \n12776                  Apr 10, 2017      UNKNOWN   Finished Airing   \n13176  Jul 23, 2018 to Oct 15, 2018  summer 2018   Finished Airing   \n13349    Dec 8, 2017 to Aug 9, 2018      UNKNOWN   Finished Airing   \n13721                  Jan 13, 2018      UNKNOWN   Finished Airing   \n14865   Apr 29, 2019 to Jul 1, 2019  spring 2019   Finished Airing   \n15520  Oct 17, 2018 to Sep 18, 2019      UNKNOWN   Finished Airing   \n15521                  May 20, 2017      UNKNOWN   Finished Airing   \n15822   Dec 7, 2020 to Mar 29, 2021  winter 2021   Finished Airing   \n16827                  Jul 17, 2020      UNKNOWN   Finished Airing   \n20972   Jan 10, 2022 to Apr 4, 2022  winter 2022   Finished Airing   \n21410    Jul 7, 2021 to Aug 4, 2021      UNKNOWN   Finished Airing   \n21450    Oct 1, 2019 to Nov 1, 2019      UNKNOWN   Finished Airing   \n22157                   Jul 2, 2018      UNKNOWN   Finished Airing   \n22158                   Dec 2, 2020      UNKNOWN   Finished Airing   \n22159                  Dec 27, 2021      UNKNOWN   Finished Airing   \n22348           Mar 4, 2023 to 2023      UNKNOWN  Currently Airing   \n24112                  Feb 18, 2023      UNKNOWN   Finished Airing   \n\n                 Studios        Source           Duration  \\\n5336   Shin-Ei Animation         Manga        1 hr 28 min   \n7428          Wit Studio         Manga      24 min per ep   \n7857          Wit Studio         Manga      23 min per ep   \n8030          Wit Studio         Manga             24 min   \n8046      Studio Moriken         Manga      10 min per ep   \n8512               MAPPA     Card game      24 min per ep   \n8988          Wit Studio         Manga        1 hr 58 min   \n8989          Wit Studio         Manga               2 hr   \n9352          Wit Studio         Manga      24 min per ep   \n9353          Wit Studio  Visual novel      27 min per ep   \n9752               MAPPA          Game             24 min   \n10588              MAPPA     Card game      24 min per ep   \n10874     Production I.G         Manga      17 min per ep   \n12462              MAPPA          Game       9 min per ep   \n12776            UNKNOWN         Manga              7 min   \n13176         Wit Studio         Manga      23 min per ep   \n13349         Wit Studio         Novel      25 min per ep   \n13721         Wit Studio         Manga               2 hr   \n14865         Wit Studio         Manga      23 min per ep   \n15520     Studio Moriken         Manga       2 min per ep   \n15521            UNKNOWN         Manga             20 min   \n15822              MAPPA         Manga      23 min per ep   \n16827         Wit Studio         Manga               2 hr   \n20972              MAPPA         Manga      23 min per ep   \n21410     Studio Moriken         Manga       5 min per ep   \n21450         Wit Studio       Unknown      30 sec per ep   \n22157         Wit Studio         Manga             11 min   \n22158         Wit Studio         Manga             15 min   \n22159  MAPPA, Wit Studio         Manga             20 min   \n22348              MAPPA         Manga  1 hr 1 min per ep   \n24112            UNKNOWN         Manga             25 min   \n\n                               Rating    Rank  Popularity  Favorites  \\\n5336                     G - All Ages  5728.0        8956          3   \n7428   R - 17+ (violence & profanity)   107.0           1     163844   \n7857   R - 17+ (violence & profanity)   781.0         470        897   \n8030   R - 17+ (violence & profanity)  2350.0        1551        344   \n8046        PG-13 - Teens 13 or older  5842.0        2773         75   \n8512   R - 17+ (violence & profanity)  1342.0         533       1664   \n8988   R - 17+ (violence & profanity)  1052.0        1740        197   \n8989   R - 17+ (violence & profanity)   832.0        1688        222   \n9352   R - 17+ (violence & profanity)   128.0          12      20899   \n9353   R - 17+ (violence & profanity)   169.0         418       1865   \n9752   R - 17+ (violence & profanity)  7165.0        5010          7   \n10588  R - 17+ (violence & profanity)  1975.0         952        997   \n10874       PG-13 - Teens 13 or older  3051.0         892        775   \n12462       PG-13 - Teens 13 or older  3443.0        4007         11   \n12776       PG-13 - Teens 13 or older  7023.0        4170         81   \n13176  R - 17+ (violence & profanity)    78.0          18      19825   \n13349  R - 17+ (violence & profanity)   893.0         764        540   \n13721  R - 17+ (violence & profanity)   867.0        2528         82   \n14865  R - 17+ (violence & profanity)     6.0          24      55245   \n15520                    G - All Ages  1569.0        3638         56   \n15521  R - 17+ (violence & profanity)  3505.0        4646         18   \n15822  R - 17+ (violence & profanity)    34.0          41      51403   \n16827  R - 17+ (violence & profanity)  1078.0        2208        224   \n20972  R - 17+ (violence & profanity)    39.0         119      29161   \n21410                    G - All Ages  4082.0        6180         28   \n21450       PG-13 - Teens 13 or older  8847.0        8961         14   \n22157  R - 17+ (violence & profanity)  8088.0       10966         11   \n22158  R - 17+ (violence & profanity)  8014.0       10924          1   \n22159  R - 17+ (violence & profanity)  8223.0       10840          3   \n22348  R - 17+ (violence & profanity)     7.0         479       9078   \n24112  R - 17+ (violence & profanity)     0.0           0          0   \n\n       Scored By  Members                                          Image URL  \n5336      1708.0     3573  https://cdn.myanimelist.net/images/anime/6/220...  \n7428   2660903.0  3744541  https://cdn.myanimelist.net/images/anime/10/47...  \n7857    258640.0   442327  https://cdn.myanimelist.net/images/anime/9/592...  \n8030     66364.0   134163  https://cdn.myanimelist.net/images/anime/3/517...  \n8046     26703.0    54585  https://cdn.myanimelist.net/images/anime/8/534...  \n8512    176666.0   400576  https://cdn.myanimelist.net/images/anime/2/675...  \n8988     48540.0   116318  https://cdn.myanimelist.net/images/anime/7/632...  \n8989     46923.0   121251  https://cdn.myanimelist.net/images/anime/2/725...  \n9352   1761316.0  2566796  https://cdn.myanimelist.net/images/anime/4/841...  \n9353    292266.0   488704  https://cdn.myanimelist.net/images/anime/8/694...  \n9752      6398.0    16037  https://cdn.myanimelist.net/images/anime/3/687...  \n10588    87448.0   234925  https://cdn.myanimelist.net/images/anime/13/85...  \n10874   139358.0   251268  https://cdn.myanimelist.net/images/anime/3/754...  \n12462    10411.0    26758  https://cdn.myanimelist.net/images/anime/1581/...  \n12776     6775.0    24604  https://cdn.myanimelist.net/images/anime/3/847...  \n13176  1505962.0  2212297  https://cdn.myanimelist.net/images/anime/1173/...  \n13349   148653.0   291631  https://cdn.myanimelist.net/images/anime/3/894...  \n13721    19690.0    65088  https://cdn.myanimelist.net/images/anime/1710/...  \n14865  1471825.0  2104016  https://cdn.myanimelist.net/images/anime/1517/...  \n15520     9721.0    32717  https://cdn.myanimelist.net/images/anime/1909/...  \n15521     3115.0    19337  https://cdn.myanimelist.net/images/anime/1893/...  \n15822  1219934.0  1846397  https://cdn.myanimelist.net/images/anime/1000/...  \n16827    25414.0    81015  https://cdn.myanimelist.net/images/anime/1786/...  \n20972   628827.0  1133470  https://cdn.myanimelist.net/images/anime/1948/...  \n21410     2235.0     9491  https://cdn.myanimelist.net/images/anime/1470/...  \n21450     1643.0     3569  https://cdn.myanimelist.net/images/anime/1305/...  \n22157      708.0     1811  https://cdn.myanimelist.net/images/anime/1261/...  \n22158      655.0     1842  https://cdn.myanimelist.net/images/anime/1226/...  \n22159      677.0     1900  https://cdn.myanimelist.net/images/anime/1582/...  \n22348   155773.0   435672  https://cdn.myanimelist.net/images/anime/1279/...  \n24112        NaN        0  https://cdn.myanimelist.net/images/anime/1773/...  ",
      "text/html": "<div>\n<style scoped>\n    .dataframe tbody tr th:only-of-type {\n        vertical-align: middle;\n    }\n\n    .dataframe tbody tr th {\n        vertical-align: top;\n    }\n\n    .dataframe thead th {\n        text-align: right;\n    }\n</style>\n<table border=\"1\" class=\"dataframe\">\n  <thead>\n    <tr style=\"text-align: right;\">\n      <th></th>\n      <th>anime_id</th>\n      <th>Name</th>\n      <th>mod_name</th>\n      <th>Score</th>\n      <th>Genres</th>\n      <th>Type</th>\n      <th>Episodes</th>\n      <th>Aired</th>\n      <th>Premiered</th>\n      <th>Status</th>\n      <th>Studios</th>\n      <th>Source</th>\n      <th>Duration</th>\n      <th>Rating</th>\n      <th>Rank</th>\n      <th>Popularity</th>\n      <th>Favorites</th>\n      <th>Scored By</th>\n      <th>Members</th>\n      <th>Image URL</th>\n    </tr>\n  </thead>\n  <tbody>\n    <tr>\n      <th>5336</th>\n      <td>8365</td>\n      <td>Crayon Shin-chan Movie 13: Densetsu wo Yobu Bu...</td>\n      <td>crayon shinchan movie 13 densetsu wo yobu buri...</td>\n      <td>6.62</td>\n      <td>Comedy, Slice of Life, Ecchi</td>\n      <td>Movie</td>\n      <td>1.0</td>\n      <td>Apr 16, 2005</td>\n      <td>UNKNOWN</td>\n      <td>Finished Airing</td>\n      <td>Shin-Ei Animation</td>\n      <td>Manga</td>\n      <td>1 hr 28 min</td>\n      <td>G - All Ages</td>\n      <td>5728.0</td>\n      <td>8956</td>\n      <td>3</td>\n      <td>1708.0</td>\n      <td>3573</td>\n      <td>https://cdn.myanimelist.net/images/anime/6/220...</td>\n    </tr>\n    <tr>\n      <th>7428</th>\n      <td>16498</td>\n      <td>Shingeki no Kyojin</td>\n      <td>shingeki no kyojin</td>\n      <td>8.54</td>\n      <td>Action, Award Winning, Drama, Suspense</td>\n      <td>TV</td>\n      <td>25.0</td>\n      <td>Apr 7, 2013 to Sep 29, 2013</td>\n      <td>spring 2013</td>\n      <td>Finished Airing</td>\n      <td>Wit Studio</td>\n      <td>Manga</td>\n      <td>24 min per ep</td>\n      <td>R - 17+ (violence &amp; profanity)</td>\n      <td>107.0</td>\n      <td>1</td>\n      <td>163844</td>\n      <td>2660903.0</td>\n      <td>3744541</td>\n      <td>https://cdn.myanimelist.net/images/anime/10/47...</td>\n    </tr>\n    <tr>\n      <th>7857</th>\n      <td>18397</td>\n      <td>Shingeki no Kyojin OVA</td>\n      <td>shingeki no kyojin ova</td>\n      <td>7.87</td>\n      <td>Action, Drama</td>\n      <td>OVA</td>\n      <td>3.0</td>\n      <td>Dec 9, 2013 to Aug 8, 2014</td>\n      <td>UNKNOWN</td>\n      <td>Finished Airing</td>\n      <td>Wit Studio</td>\n      <td>Manga</td>\n      <td>23 min per ep</td>\n      <td>R - 17+ (violence &amp; profanity)</td>\n      <td>781.0</td>\n      <td>470</td>\n      <td>897</td>\n      <td>258640.0</td>\n      <td>442327</td>\n      <td>https://cdn.myanimelist.net/images/anime/9/592...</td>\n    </tr>\n    <tr>\n      <th>8030</th>\n      <td>19285</td>\n      <td>Shingeki no Kyojin: Ano Hi Kara</td>\n      <td>shingeki no kyojin ano hi kara</td>\n      <td>7.34</td>\n      <td>Action, Drama</td>\n      <td>Special</td>\n      <td>1.0</td>\n      <td>Jul 7, 2013</td>\n      <td>UNKNOWN</td>\n      <td>Finished Airing</td>\n      <td>Wit Studio</td>\n      <td>Manga</td>\n      <td>24 min</td>\n      <td>R - 17+ (violence &amp; profanity)</td>\n      <td>2350.0</td>\n      <td>1551</td>\n      <td>344</td>\n      <td>66364.0</td>\n      <td>134163</td>\n      <td>https://cdn.myanimelist.net/images/anime/3/517...</td>\n    </tr>\n    <tr>\n      <th>8046</th>\n      <td>19391</td>\n      <td>Shingeki no Kyojin Picture Drama</td>\n      <td>shingeki no kyojin picture drama</td>\n      <td>6.60</td>\n      <td>Comedy</td>\n      <td>Special</td>\n      <td>9.0</td>\n      <td>Jul 17, 2013 to Mar 19, 2014</td>\n      <td>UNKNOWN</td>\n      <td>Finished Airing</td>\n      <td>Studio Moriken</td>\n      <td>Manga</td>\n      <td>10 min per ep</td>\n      <td>PG-13 - Teens 13 or older</td>\n      <td>5842.0</td>\n      <td>2773</td>\n      <td>75</td>\n      <td>26703.0</td>\n      <td>54585</td>\n      <td>https://cdn.myanimelist.net/images/anime/8/534...</td>\n    </tr>\n    <tr>\n      <th>8512</th>\n      <td>21843</td>\n      <td>Shingeki no Bahamut: Genesis</td>\n      <td>shingeki no bahamut genesis</td>\n      <td>7.62</td>\n      <td>Action, Adventure, Fantasy</td>\n      <td>TV</td>\n      <td>12.0</td>\n      <td>Oct 6, 2014 to Dec 29, 2014</td>\n      <td>fall 2014</td>\n      <td>Finished Airing</td>\n      <td>MAPPA</td>\n      <td>Card game</td>\n      <td>24 min per ep</td>\n      <td>R - 17+ (violence &amp; profanity)</td>\n      <td>1342.0</td>\n      <td>533</td>\n      <td>1664</td>\n      <td>176666.0</td>\n      <td>400576</td>\n      <td>https://cdn.myanimelist.net/images/anime/2/675...</td>\n    </tr>\n    <tr>\n      <th>8988</th>\n      <td>23775</td>\n      <td>Shingeki no Kyojin Movie 1: Guren no Yumiya</td>\n      <td>shingeki no kyojin movie 1 guren no yumiya</td>\n      <td>7.74</td>\n      <td>Action, Drama</td>\n      <td>Movie</td>\n      <td>1.0</td>\n      <td>Nov 22, 2014</td>\n      <td>UNKNOWN</td>\n      <td>Finished Airing</td>\n      <td>Wit Studio</td>\n      <td>Manga</td>\n      <td>1 hr 58 min</td>\n      <td>R - 17+ (violence &amp; profanity)</td>\n      <td>1052.0</td>\n      <td>1740</td>\n      <td>197</td>\n      <td>48540.0</td>\n      <td>116318</td>\n      <td>https://cdn.myanimelist.net/images/anime/7/632...</td>\n    </tr>\n    <tr>\n      <th>8989</th>\n      <td>23777</td>\n      <td>Shingeki no Kyojin Movie 2: Jiyuu no Tsubasa</td>\n      <td>shingeki no kyojin movie 2 jiyuu no tsubasa</td>\n      <td>7.85</td>\n      <td>Action, Drama</td>\n      <td>Movie</td>\n      <td>1.0</td>\n      <td>Jun 27, 2015</td>\n      <td>UNKNOWN</td>\n      <td>Finished Airing</td>\n      <td>Wit Studio</td>\n      <td>Manga</td>\n      <td>2 hr</td>\n      <td>R - 17+ (violence &amp; profanity)</td>\n      <td>832.0</td>\n      <td>1688</td>\n      <td>222</td>\n      <td>46923.0</td>\n      <td>121251</td>\n      <td>https://cdn.myanimelist.net/images/anime/2/725...</td>\n    </tr>\n    <tr>\n      <th>9352</th>\n      <td>25777</td>\n      <td>Shingeki no Kyojin Season 2</td>\n      <td>shingeki no kyojin season 2</td>\n      <td>8.50</td>\n      <td>Action, Drama, Suspense</td>\n      <td>TV</td>\n      <td>12.0</td>\n      <td>Apr 1, 2017 to Jun 17, 2017</td>\n      <td>spring 2017</td>\n      <td>Finished Airing</td>\n      <td>Wit Studio</td>\n      <td>Manga</td>\n      <td>24 min per ep</td>\n      <td>R - 17+ (violence &amp; profanity)</td>\n      <td>128.0</td>\n      <td>12</td>\n      <td>20899</td>\n      <td>1761316.0</td>\n      <td>2566796</td>\n      <td>https://cdn.myanimelist.net/images/anime/4/841...</td>\n    </tr>\n    <tr>\n      <th>9353</th>\n      <td>25781</td>\n      <td>Shingeki no Kyojin: Kuinaki Sentaku</td>\n      <td>shingeki no kyojin kuinaki sentaku</td>\n      <td>8.41</td>\n      <td>Action</td>\n      <td>OVA</td>\n      <td>2.0</td>\n      <td>Dec 9, 2014 to Apr 9, 2015</td>\n      <td>UNKNOWN</td>\n      <td>Finished Airing</td>\n      <td>Wit Studio</td>\n      <td>Visual novel</td>\n      <td>27 min per ep</td>\n      <td>R - 17+ (violence &amp; profanity)</td>\n      <td>169.0</td>\n      <td>418</td>\n      <td>1865</td>\n      <td>292266.0</td>\n      <td>488704</td>\n      <td>https://cdn.myanimelist.net/images/anime/8/694...</td>\n    </tr>\n    <tr>\n      <th>9752</th>\n      <td>28447</td>\n      <td>Shingeki no Bahamut: Genesis - Roundup</td>\n      <td>shingeki no bahamut genesis roundup</td>\n      <td>6.34</td>\n      <td>Action, Adventure, Fantasy</td>\n      <td>Special</td>\n      <td>1.0</td>\n      <td>Nov 18, 2014</td>\n      <td>UNKNOWN</td>\n      <td>Finished Airing</td>\n      <td>MAPPA</td>\n      <td>Game</td>\n      <td>24 min</td>\n      <td>R - 17+ (violence &amp; profanity)</td>\n      <td>7165.0</td>\n      <td>5010</td>\n      <td>7</td>\n      <td>6398.0</td>\n      <td>16037</td>\n      <td>https://cdn.myanimelist.net/images/anime/3/687...</td>\n    </tr>\n    <tr>\n      <th>10588</th>\n      <td>30736</td>\n      <td>Shingeki no Bahamut: Virgin Soul</td>\n      <td>shingeki no bahamut virgin soul</td>\n      <td>7.43</td>\n      <td>Action, Adventure, Fantasy</td>\n      <td>TV</td>\n      <td>24.0</td>\n      <td>Apr 8, 2017 to Sep 30, 2017</td>\n      <td>spring 2017</td>\n      <td>Finished Airing</td>\n      <td>MAPPA</td>\n      <td>Card game</td>\n      <td>24 min per ep</td>\n      <td>R - 17+ (violence &amp; profanity)</td>\n      <td>1975.0</td>\n      <td>952</td>\n      <td>997</td>\n      <td>87448.0</td>\n      <td>234925</td>\n      <td>https://cdn.myanimelist.net/images/anime/13/85...</td>\n    </tr>\n    <tr>\n      <th>10874</th>\n      <td>31374</td>\n      <td>Shingeki! Kyojin Chuugakkou</td>\n      <td>shingeki kyojin chuugakkou</td>\n      <td>7.20</td>\n      <td>Comedy</td>\n      <td>TV</td>\n      <td>12.0</td>\n      <td>Oct 4, 2015 to Dec 20, 2015</td>\n      <td>fall 2015</td>\n      <td>Finished Airing</td>\n      <td>Production I.G</td>\n      <td>Manga</td>\n      <td>17 min per ep</td>\n      <td>PG-13 - Teens 13 or older</td>\n      <td>3051.0</td>\n      <td>892</td>\n      <td>775</td>\n      <td>139358.0</td>\n      <td>251268</td>\n      <td>https://cdn.myanimelist.net/images/anime/3/754...</td>\n    </tr>\n    <tr>\n      <th>12462</th>\n      <td>34642</td>\n      <td>Shingeki no Bahamut: Genesis - Short Story</td>\n      <td>shingeki no bahamut genesis short story</td>\n      <td>7.12</td>\n      <td>Action, Adventure, Fantasy</td>\n      <td>ONA</td>\n      <td>2.0</td>\n      <td>Dec 28, 2016 to Feb 20, 2017</td>\n      <td>UNKNOWN</td>\n      <td>Finished Airing</td>\n      <td>MAPPA</td>\n      <td>Game</td>\n      <td>9 min per ep</td>\n      <td>PG-13 - Teens 13 or older</td>\n      <td>3443.0</td>\n      <td>4007</td>\n      <td>11</td>\n      <td>10411.0</td>\n      <td>26758</td>\n      <td>https://cdn.myanimelist.net/images/anime/1581/...</td>\n    </tr>\n    <tr>\n      <th>12776</th>\n      <td>35122</td>\n      <td>Shingeki no Kyotou</td>\n      <td>shingeki no kyotou</td>\n      <td>6.37</td>\n      <td>Action, Fantasy</td>\n      <td>Movie</td>\n      <td>1.0</td>\n      <td>Apr 10, 2017</td>\n      <td>UNKNOWN</td>\n      <td>Finished Airing</td>\n      <td>UNKNOWN</td>\n      <td>Manga</td>\n      <td>7 min</td>\n      <td>PG-13 - Teens 13 or older</td>\n      <td>7023.0</td>\n      <td>4170</td>\n      <td>81</td>\n      <td>6775.0</td>\n      <td>24604</td>\n      <td>https://cdn.myanimelist.net/images/anime/3/847...</td>\n    </tr>\n    <tr>\n      <th>13176</th>\n      <td>35760</td>\n      <td>Shingeki no Kyojin Season 3</td>\n      <td>shingeki no kyojin season 3</td>\n      <td>8.62</td>\n      <td>Action, Drama</td>\n      <td>TV</td>\n      <td>12.0</td>\n      <td>Jul 23, 2018 to Oct 15, 2018</td>\n      <td>summer 2018</td>\n      <td>Finished Airing</td>\n      <td>Wit Studio</td>\n      <td>Manga</td>\n      <td>23 min per ep</td>\n      <td>R - 17+ (violence &amp; profanity)</td>\n      <td>78.0</td>\n      <td>18</td>\n      <td>19825</td>\n      <td>1505962.0</td>\n      <td>2212297</td>\n      <td>https://cdn.myanimelist.net/images/anime/1173/...</td>\n    </tr>\n    <tr>\n      <th>13349</th>\n      <td>36106</td>\n      <td>Shingeki no Kyojin: Lost Girls</td>\n      <td>shingeki no kyojin lost girls</td>\n      <td>7.81</td>\n      <td>Action, Drama</td>\n      <td>OVA</td>\n      <td>3.0</td>\n      <td>Dec 8, 2017 to Aug 9, 2018</td>\n      <td>UNKNOWN</td>\n      <td>Finished Airing</td>\n      <td>Wit Studio</td>\n      <td>Novel</td>\n      <td>25 min per ep</td>\n      <td>R - 17+ (violence &amp; profanity)</td>\n      <td>893.0</td>\n      <td>764</td>\n      <td>540</td>\n      <td>148653.0</td>\n      <td>291631</td>\n      <td>https://cdn.myanimelist.net/images/anime/3/894...</td>\n    </tr>\n    <tr>\n      <th>13721</th>\n      <td>36702</td>\n      <td>Shingeki no Kyojin Season 2 Movie: Kakusei no ...</td>\n      <td>shingeki no kyojin season 2 movie kakusei no h...</td>\n      <td>7.83</td>\n      <td>Action, Drama</td>\n      <td>Movie</td>\n      <td>1.0</td>\n      <td>Jan 13, 2018</td>\n      <td>UNKNOWN</td>\n      <td>Finished Airing</td>\n      <td>Wit Studio</td>\n      <td>Manga</td>\n      <td>2 hr</td>\n      <td>R - 17+ (violence &amp; profanity)</td>\n      <td>867.0</td>\n      <td>2528</td>\n      <td>82</td>\n      <td>19690.0</td>\n      <td>65088</td>\n      <td>https://cdn.myanimelist.net/images/anime/1710/...</td>\n    </tr>\n    <tr>\n      <th>14865</th>\n      <td>38524</td>\n      <td>Shingeki no Kyojin Season 3 Part 2</td>\n      <td>shingeki no kyojin season 3 part 2</td>\n      <td>9.05</td>\n      <td>Action, Drama</td>\n      <td>TV</td>\n      <td>10.0</td>\n      <td>Apr 29, 2019 to Jul 1, 2019</td>\n      <td>spring 2019</td>\n      <td>Finished Airing</td>\n      <td>Wit Studio</td>\n      <td>Manga</td>\n      <td>23 min per ep</td>\n      <td>R - 17+ (violence &amp; profanity)</td>\n      <td>6.0</td>\n      <td>24</td>\n      <td>55245</td>\n      <td>1471825.0</td>\n      <td>2104016</td>\n      <td>https://cdn.myanimelist.net/images/anime/1517/...</td>\n    </tr>\n    <tr>\n      <th>15520</th>\n      <td>39477</td>\n      <td>Shingeki no Kyojin Season 3 Specials</td>\n      <td>shingeki no kyojin season 3 specials</td>\n      <td>7.55</td>\n      <td>Comedy</td>\n      <td>Special</td>\n      <td>7.0</td>\n      <td>Oct 17, 2018 to Sep 18, 2019</td>\n      <td>UNKNOWN</td>\n      <td>Finished Airing</td>\n      <td>Studio Moriken</td>\n      <td>Manga</td>\n      <td>2 min per ep</td>\n      <td>G - All Ages</td>\n      <td>1569.0</td>\n      <td>3638</td>\n      <td>56</td>\n      <td>9721.0</td>\n      <td>32717</td>\n      <td>https://cdn.myanimelist.net/images/anime/1909/...</td>\n    </tr>\n    <tr>\n      <th>15521</th>\n      <td>39478</td>\n      <td>Shingeki no Kyojin in the Dome: Heishi-tachi n...</td>\n      <td>shingeki no kyojin in the dome heishitachi no ...</td>\n      <td>7.11</td>\n      <td>UNKNOWN</td>\n      <td>Movie</td>\n      <td>1.0</td>\n      <td>May 20, 2017</td>\n      <td>UNKNOWN</td>\n      <td>Finished Airing</td>\n      <td>UNKNOWN</td>\n      <td>Manga</td>\n      <td>20 min</td>\n      <td>R - 17+ (violence &amp; profanity)</td>\n      <td>3505.0</td>\n      <td>4646</td>\n      <td>18</td>\n      <td>3115.0</td>\n      <td>19337</td>\n      <td>https://cdn.myanimelist.net/images/anime/1893/...</td>\n    </tr>\n    <tr>\n      <th>15822</th>\n      <td>40028</td>\n      <td>Shingeki no Kyojin: The Final Season</td>\n      <td>shingeki no kyojin the final season</td>\n      <td>8.80</td>\n      <td>Action, Drama</td>\n      <td>TV</td>\n      <td>16.0</td>\n      <td>Dec 7, 2020 to Mar 29, 2021</td>\n      <td>winter 2021</td>\n      <td>Finished Airing</td>\n      <td>MAPPA</td>\n      <td>Manga</td>\n      <td>23 min per ep</td>\n      <td>R - 17+ (violence &amp; profanity)</td>\n      <td>34.0</td>\n      <td>41</td>\n      <td>51403</td>\n      <td>1219934.0</td>\n      <td>1846397</td>\n      <td>https://cdn.myanimelist.net/images/anime/1000/...</td>\n    </tr>\n    <tr>\n      <th>16827</th>\n      <td>42091</td>\n      <td>Shingeki no Kyojin: Chronicle</td>\n      <td>shingeki no kyojin chronicle</td>\n      <td>7.73</td>\n      <td>Action, Drama</td>\n      <td>Movie</td>\n      <td>1.0</td>\n      <td>Jul 17, 2020</td>\n      <td>UNKNOWN</td>\n      <td>Finished Airing</td>\n      <td>Wit Studio</td>\n      <td>Manga</td>\n      <td>2 hr</td>\n      <td>R - 17+ (violence &amp; profanity)</td>\n      <td>1078.0</td>\n      <td>2208</td>\n      <td>224</td>\n      <td>25414.0</td>\n      <td>81015</td>\n      <td>https://cdn.myanimelist.net/images/anime/1786/...</td>\n    </tr>\n    <tr>\n      <th>20972</th>\n      <td>48583</td>\n      <td>Shingeki no Kyojin: The Final Season Part 2</td>\n      <td>shingeki no kyojin the final season part 2</td>\n      <td>8.77</td>\n      <td>Action, Drama</td>\n      <td>TV</td>\n      <td>12.0</td>\n      <td>Jan 10, 2022 to Apr 4, 2022</td>\n      <td>winter 2022</td>\n      <td>Finished Airing</td>\n      <td>MAPPA</td>\n      <td>Manga</td>\n      <td>23 min per ep</td>\n      <td>R - 17+ (violence &amp; profanity)</td>\n      <td>39.0</td>\n      <td>119</td>\n      <td>29161</td>\n      <td>628827.0</td>\n      <td>1133470</td>\n      <td>https://cdn.myanimelist.net/images/anime/1948/...</td>\n    </tr>\n    <tr>\n      <th>21410</th>\n      <td>49627</td>\n      <td>Shingeki no Kyojin: The Final Season Specials</td>\n      <td>shingeki no kyojin the final season specials</td>\n      <td>6.98</td>\n      <td>Comedy</td>\n      <td>Special</td>\n      <td>2.0</td>\n      <td>Jul 7, 2021 to Aug 4, 2021</td>\n      <td>UNKNOWN</td>\n      <td>Finished Airing</td>\n      <td>Studio Moriken</td>\n      <td>Manga</td>\n      <td>5 min per ep</td>\n      <td>G - All Ages</td>\n      <td>4082.0</td>\n      <td>6180</td>\n      <td>28</td>\n      <td>2235.0</td>\n      <td>9491</td>\n      <td>https://cdn.myanimelist.net/images/anime/1470/...</td>\n    </tr>\n    <tr>\n      <th>21450</th>\n      <td>49739</td>\n      <td>Snickers x Shingeki no Kyojin</td>\n      <td>snickers x shingeki no kyojin</td>\n      <td>6.00</td>\n      <td>Comedy</td>\n      <td>Special</td>\n      <td>2.0</td>\n      <td>Oct 1, 2019 to Nov 1, 2019</td>\n      <td>UNKNOWN</td>\n      <td>Finished Airing</td>\n      <td>Wit Studio</td>\n      <td>Unknown</td>\n      <td>30 sec per ep</td>\n      <td>PG-13 - Teens 13 or older</td>\n      <td>8847.0</td>\n      <td>8961</td>\n      <td>14</td>\n      <td>1643.0</td>\n      <td>3569</td>\n      <td>https://cdn.myanimelist.net/images/anime/1305/...</td>\n    </tr>\n    <tr>\n      <th>22157</th>\n      <td>51239</td>\n      <td>10-pun de Oitsukeru: Shingeki no Kyojin</td>\n      <td>10pun de oitsukeru shingeki no kyojin</td>\n      <td>6.15</td>\n      <td>Action, Drama, Fantasy, Mystery</td>\n      <td>ONA</td>\n      <td>1.0</td>\n      <td>Jul 2, 2018</td>\n      <td>UNKNOWN</td>\n      <td>Finished Airing</td>\n      <td>Wit Studio</td>\n      <td>Manga</td>\n      <td>11 min</td>\n      <td>R - 17+ (violence &amp; profanity)</td>\n      <td>8088.0</td>\n      <td>10966</td>\n      <td>11</td>\n      <td>708.0</td>\n      <td>1811</td>\n      <td>https://cdn.myanimelist.net/images/anime/1261/...</td>\n    </tr>\n    <tr>\n      <th>22158</th>\n      <td>51240</td>\n      <td>15-pun de Oitsukeru: Shingeki no Kyojin</td>\n      <td>15pun de oitsukeru shingeki no kyojin</td>\n      <td>6.17</td>\n      <td>Action, Drama, Fantasy, Mystery</td>\n      <td>ONA</td>\n      <td>1.0</td>\n      <td>Dec 2, 2020</td>\n      <td>UNKNOWN</td>\n      <td>Finished Airing</td>\n      <td>Wit Studio</td>\n      <td>Manga</td>\n      <td>15 min</td>\n      <td>R - 17+ (violence &amp; profanity)</td>\n      <td>8014.0</td>\n      <td>10924</td>\n      <td>1</td>\n      <td>655.0</td>\n      <td>1842</td>\n      <td>https://cdn.myanimelist.net/images/anime/1226/...</td>\n    </tr>\n    <tr>\n      <th>22159</th>\n      <td>51241</td>\n      <td>20-pun de Oitsukeru: Shingeki no Kyojin</td>\n      <td>20pun de oitsukeru shingeki no kyojin</td>\n      <td>6.13</td>\n      <td>Action, Drama, Fantasy, Mystery</td>\n      <td>ONA</td>\n      <td>1.0</td>\n      <td>Dec 27, 2021</td>\n      <td>UNKNOWN</td>\n      <td>Finished Airing</td>\n      <td>MAPPA, Wit Studio</td>\n      <td>Manga</td>\n      <td>20 min</td>\n      <td>R - 17+ (violence &amp; profanity)</td>\n      <td>8223.0</td>\n      <td>10840</td>\n      <td>3</td>\n      <td>677.0</td>\n      <td>1900</td>\n      <td>https://cdn.myanimelist.net/images/anime/1582/...</td>\n    </tr>\n    <tr>\n      <th>22348</th>\n      <td>51535</td>\n      <td>Shingeki no Kyojin: The Final Season - Kankets...</td>\n      <td>shingeki no kyojin the final season kanketsuhen</td>\n      <td>9.05</td>\n      <td>Action, Drama, Suspense</td>\n      <td>Special</td>\n      <td>2.0</td>\n      <td>Mar 4, 2023 to 2023</td>\n      <td>UNKNOWN</td>\n      <td>Currently Airing</td>\n      <td>MAPPA</td>\n      <td>Manga</td>\n      <td>1 hr 1 min per ep</td>\n      <td>R - 17+ (violence &amp; profanity)</td>\n      <td>7.0</td>\n      <td>479</td>\n      <td>9078</td>\n      <td>155773.0</td>\n      <td>435672</td>\n      <td>https://cdn.myanimelist.net/images/anime/1279/...</td>\n    </tr>\n    <tr>\n      <th>24112</th>\n      <td>54560</td>\n      <td>25-pun de Oitsukeru: Shingeki no Kyojin</td>\n      <td>25pun de oitsukeru shingeki no kyojin</td>\n      <td>0.00</td>\n      <td>Action, Drama, Fantasy, Mystery</td>\n      <td>ONA</td>\n      <td>1.0</td>\n      <td>Feb 18, 2023</td>\n      <td>UNKNOWN</td>\n      <td>Finished Airing</td>\n      <td>UNKNOWN</td>\n      <td>Manga</td>\n      <td>25 min</td>\n      <td>R - 17+ (violence &amp; profanity)</td>\n      <td>0.0</td>\n      <td>0</td>\n      <td>0</td>\n      <td>NaN</td>\n      <td>0</td>\n      <td>https://cdn.myanimelist.net/images/anime/1773/...</td>\n    </tr>\n  </tbody>\n</table>\n</div>"
     },
     "execution_count": 3,
     "metadata": {},
     "output_type": "execute_result"
    }
   ],
   "source": [
    "anime.loc[anime['Name'].str.contains('Shingeki')]"
   ],
   "metadata": {
    "collapsed": false,
    "ExecuteTime": {
     "end_time": "2024-03-28T09:02:46.476613600Z",
     "start_time": "2024-03-28T09:02:46.371482Z"
    }
   },
   "id": "9b3aedc7a0fb1356"
  },
  {
   "cell_type": "code",
   "execution_count": 4,
   "outputs": [],
   "source": [
    "df = pd.read_parquet('score/users_scores_0.parquet')"
   ],
   "metadata": {
    "collapsed": false,
    "ExecuteTime": {
     "end_time": "2024-03-28T09:02:46.743389700Z",
     "start_time": "2024-03-28T09:02:46.381058700Z"
    }
   },
   "id": "21a13d816fa52a34"
  },
  {
   "cell_type": "markdown",
   "source": [
    "# Define Useful Functions"
   ],
   "metadata": {
    "collapsed": false
   },
   "id": "80974ca7e1c0976a"
  },
  {
   "cell_type": "markdown",
   "source": [],
   "metadata": {
    "collapsed": false
   },
   "id": "d2d32c6b6e8aeeea"
  },
  {
   "cell_type": "code",
   "execution_count": 5,
   "outputs": [],
   "source": [
    "def find_similar_user_interactions(data, anime_list, min_anime_similar=3, max_members=50, max_anime_reviewed=500):\n",
    "    data['same'] = data['anime_id'].isin(anime_list)\n",
    "    grouped_data = data.groupby('user_id').agg(num_same=('same', 'sum'), count_review=('same', 'count')).reset_index()\n",
    "    grouped_data = grouped_data[\n",
    "                       (grouped_data['num_same'] >= min_anime_similar) & \n",
    "                       (grouped_data['count_review'] < max_anime_reviewed)\n",
    "                   ].sort_values(by='num_same', ascending=False).iloc[:max_members]\n",
    "    selected_users = grouped_data['user_id'].tolist()\n",
    "    return data.loc[data['user_id'].isin(selected_users)].drop('same', axis=1)"
   ],
   "metadata": {
    "collapsed": false,
    "ExecuteTime": {
     "end_time": "2024-03-28T09:02:46.884576800Z",
     "start_time": "2024-03-28T09:02:46.550951900Z"
    }
   },
   "id": "153e076f4293a905"
  },
  {
   "cell_type": "code",
   "execution_count": 6,
   "outputs": [],
   "source": [
    "def find_total_similar_user_interactions(anime_list, coverage=1, min_anime_similar=2, max_members=50, max_anime_reviewed=500):\n",
    "    users = []\n",
    "    counter = 0\n",
    "    files = np.arange(5)\n",
    "    np.random.shuffle(files)\n",
    "    coverage_count = 0\n",
    "    \n",
    "    for i in files:\n",
    "        print(f\"Visiting file {i}\")\n",
    "        data = pd.read_parquet(f'score/users_scores_{i}.parquet')\n",
    "        temp = find_similar_user_interactions(data, anime_list, min_anime_similar, max_members - counter, max_anime_reviewed)\n",
    "        users.append(temp)\n",
    "        counter += len(temp)\n",
    "        coverage_count += 1\n",
    "        \n",
    "        # if coverage_count >= coverage:\n",
    "        #     break\n",
    "        \n",
    "        # if counter >= max_members:\n",
    "        #     break\n",
    "            \n",
    "    return pd.concat(users, axis=0)"
   ],
   "metadata": {
    "collapsed": false,
    "ExecuteTime": {
     "end_time": "2024-03-28T09:02:46.953378800Z",
     "start_time": "2024-03-28T09:02:46.570553800Z"
    }
   },
   "id": "a5d07709370f91c7"
  },
  {
   "cell_type": "code",
   "execution_count": 7,
   "outputs": [],
   "source": [
    "def generate_rating(liked_book_list, rating=10):\n",
    "    interaction_list = []\n",
    "    for book in liked_book_list:\n",
    "        interaction_list.append([0, book, rating])\n",
    "    return pd.DataFrame(interaction_list, columns=['user_id', 'anime_id', 'rating'])"
   ],
   "metadata": {
    "collapsed": false,
    "ExecuteTime": {
     "end_time": "2024-03-28T09:02:46.954474200Z",
     "start_time": "2024-03-28T09:02:46.583270600Z"
    }
   },
   "id": "581ef21232d8b02e"
  },
  {
   "cell_type": "markdown",
   "source": [],
   "metadata": {
    "collapsed": false
   },
   "id": "e3e8f226ce3c4be"
  },
  {
   "cell_type": "markdown",
   "source": [
    "# Actually using this"
   ],
   "metadata": {
    "collapsed": false
   },
   "id": "47def9e576669676"
  },
  {
   "cell_type": "code",
   "execution_count": 8,
   "outputs": [
    {
     "name": "stdout",
     "output_type": "stream",
     "text": [
      "Visiting file 1\n",
      "Visiting file 3\n",
      "Visiting file 2\n",
      "Visiting file 4\n",
      "Visiting file 0\n"
     ]
    }
   ],
   "source": [
    "liked_anime_list = [1, 21, 40748, 10629, 16498, 18397]\n",
    "similar_interactions = find_total_similar_user_interactions(liked_anime_list, coverage=5, min_anime_similar=2, max_anime_reviewed=200)\n",
    "my_ratings = generate_rating(liked_anime_list, rating=10)\n",
    "interactions = pd.concat([my_ratings, similar_interactions], axis=0)"
   ],
   "metadata": {
    "collapsed": false,
    "ExecuteTime": {
     "end_time": "2024-03-28T09:02:49.217937300Z",
     "start_time": "2024-03-28T09:02:46.591459200Z"
    }
   },
   "id": "429c79fed457db4a"
  },
  {
   "cell_type": "code",
   "execution_count": 9,
   "outputs": [
    {
     "data": {
      "text/plain": "         user_id  anime_id  rating\n93231      78999      4975       7\n93232      78999      2030       6\n93233      78999     40748       6\n93234      78999        21       7\n93235      78999       339       7\n...          ...       ...     ...\n4949500   342027     10863      10\n4949501   342027     38826       9\n4949502   342027     32995      10\n4949503   342027     40935       8\n4949504   342027       225       7\n\n[7391 rows x 3 columns]",
      "text/html": "<div>\n<style scoped>\n    .dataframe tbody tr th:only-of-type {\n        vertical-align: middle;\n    }\n\n    .dataframe tbody tr th {\n        vertical-align: top;\n    }\n\n    .dataframe thead th {\n        text-align: right;\n    }\n</style>\n<table border=\"1\" class=\"dataframe\">\n  <thead>\n    <tr style=\"text-align: right;\">\n      <th></th>\n      <th>user_id</th>\n      <th>anime_id</th>\n      <th>rating</th>\n    </tr>\n  </thead>\n  <tbody>\n    <tr>\n      <th>93231</th>\n      <td>78999</td>\n      <td>4975</td>\n      <td>7</td>\n    </tr>\n    <tr>\n      <th>93232</th>\n      <td>78999</td>\n      <td>2030</td>\n      <td>6</td>\n    </tr>\n    <tr>\n      <th>93233</th>\n      <td>78999</td>\n      <td>40748</td>\n      <td>6</td>\n    </tr>\n    <tr>\n      <th>93234</th>\n      <td>78999</td>\n      <td>21</td>\n      <td>7</td>\n    </tr>\n    <tr>\n      <th>93235</th>\n      <td>78999</td>\n      <td>339</td>\n      <td>7</td>\n    </tr>\n    <tr>\n      <th>...</th>\n      <td>...</td>\n      <td>...</td>\n      <td>...</td>\n    </tr>\n    <tr>\n      <th>4949500</th>\n      <td>342027</td>\n      <td>10863</td>\n      <td>10</td>\n    </tr>\n    <tr>\n      <th>4949501</th>\n      <td>342027</td>\n      <td>38826</td>\n      <td>9</td>\n    </tr>\n    <tr>\n      <th>4949502</th>\n      <td>342027</td>\n      <td>32995</td>\n      <td>10</td>\n    </tr>\n    <tr>\n      <th>4949503</th>\n      <td>342027</td>\n      <td>40935</td>\n      <td>8</td>\n    </tr>\n    <tr>\n      <th>4949504</th>\n      <td>342027</td>\n      <td>225</td>\n      <td>7</td>\n    </tr>\n  </tbody>\n</table>\n<p>7391 rows × 3 columns</p>\n</div>"
     },
     "execution_count": 9,
     "metadata": {},
     "output_type": "execute_result"
    }
   ],
   "source": [
    "similar_interactions"
   ],
   "metadata": {
    "collapsed": false,
    "ExecuteTime": {
     "end_time": "2024-03-28T09:02:49.233866500Z",
     "start_time": "2024-03-28T09:02:49.215707900Z"
    }
   },
   "id": "4156836806d6f1a3"
  },
  {
   "cell_type": "code",
   "execution_count": 10,
   "outputs": [],
   "source": [
    "interactions[\"user_index\"] = interactions[\"user_id\"].astype(\"category\").cat.codes\n",
    "interactions[\"anime_index\"] = interactions[\"anime_id\"].astype(\"category\").cat.codes"
   ],
   "metadata": {
    "collapsed": false,
    "ExecuteTime": {
     "end_time": "2024-03-28T09:02:49.247281500Z",
     "start_time": "2024-03-28T09:02:49.233866500Z"
    }
   },
   "id": "1904fa18b588147e"
  },
  {
   "cell_type": "code",
   "execution_count": 11,
   "outputs": [],
   "source": [
    "from scipy.sparse import coo_matrix\n",
    "rating_matrix_coo = coo_matrix((interactions['rating'], (interactions['user_index'], interactions['anime_index'])))"
   ],
   "metadata": {
    "collapsed": false,
    "ExecuteTime": {
     "end_time": "2024-03-28T09:02:49.445744700Z",
     "start_time": "2024-03-28T09:02:49.243533200Z"
    }
   },
   "id": "2d147aebef9ee4f5"
  },
  {
   "cell_type": "code",
   "execution_count": 12,
   "outputs": [],
   "source": [
    "rating_matrix = rating_matrix_coo.tocsr()"
   ],
   "metadata": {
    "collapsed": false,
    "ExecuteTime": {
     "end_time": "2024-03-28T09:02:49.447376500Z",
     "start_time": "2024-03-28T09:02:49.411251900Z"
    }
   },
   "id": "b803c090ada2e238"
  },
  {
   "cell_type": "code",
   "execution_count": 13,
   "outputs": [],
   "source": [
    "def create_recommendation_matrix(liked_anime_list, anime_percentage = 0.6):\n",
    "    number_animes = len(liked_anime_list)\n",
    "    min_anime_similar = math.ceil(anime_percentage * number_animes)\n",
    "    similar_interactions = find_total_similar_user_interactions(liked_anime_list, coverage=5, min_anime_similar=min_anime_similar, max_anime_reviewed=700)\n",
    "    my_ratings = generate_rating(liked_anime_list, rating=10)\n",
    "    interactions = pd.concat([my_ratings, similar_interactions], axis=0)\n",
    "    \n",
    "    interactions[\"user_index\"] = interactions[\"user_id\"].astype(\"category\").cat.codes\n",
    "    interactions[\"anime_index\"] = interactions[\"anime_id\"].astype(\"category\").cat.codes\n",
    "    \n",
    "    from scipy.sparse import coo_matrix\n",
    "    rating_matrix_coo = coo_matrix((interactions['rating'], (interactions['user_index'], interactions['anime_index'])))\n",
    "    \n",
    "    \n",
    "    return rating_matrix_coo.tocsr(), interactions"
   ],
   "metadata": {
    "collapsed": false,
    "ExecuteTime": {
     "end_time": "2024-03-28T09:02:49.449484300Z",
     "start_time": "2024-03-28T09:02:49.425758600Z"
    }
   },
   "id": "9770eed2b69ec0f"
  },
  {
   "cell_type": "markdown",
   "source": [
    "# Let's recommend stuff"
   ],
   "metadata": {
    "collapsed": false
   },
   "id": "d04280f701c968c9"
  },
  {
   "cell_type": "code",
   "execution_count": 14,
   "outputs": [],
   "source": [
    "def create_anime_recommendation_df(rating_matrix, interactions):\n",
    "    \n",
    "    my_index = interactions.loc[interactions.user_id==0]['user_index'][0]\n",
    "    \n",
    "    from sklearn.metrics.pairwise import cosine_similarity\n",
    "    similarity = cosine_similarity(rating_matrix[my_index, :], rating_matrix).flatten()\n",
    "    print(similarity.shape)\n",
    "    similar_user_indices = np.argpartition(similarity, -15)[-15:]\n",
    "    \n",
    "    similar_users = interactions.loc[interactions['user_index'].isin(similar_user_indices)].copy()\n",
    "    similar_users = similar_users.loc[similar_users['user_id'] != 0].reset_index().drop('index', axis=1)\n",
    "    \n",
    "    anime_recs = similar_users.groupby('anime_id').rating.agg(['count', 'mean'])\n",
    "    return anime_recs"
   ],
   "metadata": {
    "collapsed": false,
    "ExecuteTime": {
     "end_time": "2024-03-28T09:02:49.450605600Z",
     "start_time": "2024-03-28T09:02:49.435403200Z"
    }
   },
   "id": "1218db32d19e5d7b"
  },
  {
   "cell_type": "code",
   "execution_count": 15,
   "outputs": [],
   "source": [
    "my_index = interactions.loc[interactions.user_id==0]['user_index'][0]"
   ],
   "metadata": {
    "collapsed": false,
    "ExecuteTime": {
     "end_time": "2024-03-28T09:02:49.493055900Z",
     "start_time": "2024-03-28T09:02:49.444101100Z"
    }
   },
   "id": "88049b18337367bb"
  },
  {
   "cell_type": "code",
   "execution_count": 16,
   "outputs": [],
   "source": [
    "from sklearn.metrics.pairwise import cosine_similarity\n",
    "similarity = cosine_similarity(rating_matrix[my_index, :], rating_matrix).flatten()"
   ],
   "metadata": {
    "collapsed": false,
    "ExecuteTime": {
     "end_time": "2024-03-28T09:02:51.033967300Z",
     "start_time": "2024-03-28T09:02:49.453954200Z"
    }
   },
   "id": "d5a185d338d673e7"
  },
  {
   "cell_type": "code",
   "execution_count": 17,
   "outputs": [],
   "source": [
    "similar_user_indices = np.argpartition(similarity, -15)[-15:]"
   ],
   "metadata": {
    "collapsed": false,
    "ExecuteTime": {
     "end_time": "2024-03-28T09:02:51.035632600Z",
     "start_time": "2024-03-28T09:02:51.032720700Z"
    }
   },
   "id": "df47973dbbdaed2e"
  },
  {
   "cell_type": "code",
   "execution_count": 18,
   "outputs": [],
   "source": [
    "similar_users = interactions.loc[interactions['user_index'].isin(similar_user_indices)].copy()\n",
    "similar_users = similar_users.loc[similar_users['user_id'] != 0].reset_index().drop('index', axis=1)"
   ],
   "metadata": {
    "collapsed": false,
    "ExecuteTime": {
     "end_time": "2024-03-28T09:02:51.037934400Z",
     "start_time": "2024-03-28T09:02:51.033732700Z"
    }
   },
   "id": "29d1ff93f012afd1"
  },
  {
   "cell_type": "code",
   "execution_count": 19,
   "outputs": [],
   "source": [
    "anime_recs = similar_users.groupby('anime_id').rating.agg(['count', 'mean'])"
   ],
   "metadata": {
    "collapsed": false,
    "ExecuteTime": {
     "end_time": "2024-03-28T09:02:51.061119800Z",
     "start_time": "2024-03-28T09:02:51.033967300Z"
    }
   },
   "id": "35c86f8aad456dd"
  },
  {
   "cell_type": "code",
   "execution_count": 44,
   "outputs": [],
   "source": [
    "def recommend_anime(anime_recs, min_count=2, min_mean=7):\n",
    "    anime_list = pd.read_parquet('anime/anime.parquet')\n",
    "    merged = pd.merge(anime_recs, anime_list, how='inner', on='anime_id')\n",
    "    \n",
    "    # Filter out already watched anime\n",
    "    merged = merged.loc[~merged['anime_id'].isin(liked_anime_list)]\n",
    "    merged = merged.loc[(merged['count'] > min_count) & (merged['mean'] > min_mean)]\n",
    "    \n",
    "    # Rank the recommendation\n",
    "    merged['adjusted_count'] = merged['count'] * merged['count'] / np.exp2(np.log(merged['Scored By']))\n",
    "    merged['recommend_score'] = merged['mean'] * merged['adjusted_count']\n",
    "    merged.sort_values(\"recommend_score\", ascending=False, inplace=True)\n",
    "    \n",
    "    return merged"
   ],
   "metadata": {
    "collapsed": false,
    "ExecuteTime": {
     "end_time": "2024-03-28T09:17:23.534836400Z",
     "start_time": "2024-03-28T09:17:23.509423500Z"
    }
   },
   "id": "2fd1767014d23cbf"
  },
  {
   "cell_type": "code",
   "execution_count": 39,
   "outputs": [
    {
     "data": {
      "text/plain": "      anime_id  count      mean                                    Name  \\\n368       1535     14  8.714286                              Death Note   \n619       5114     12  9.416667        Fullmetal Alchemist: Brotherhood   \n58         121     11  8.545455                     Fullmetal Alchemist   \n1153     30276     12  8.916667                           One Punch Man   \n420       2001     10  9.100000              Tengen Toppa Gurren Lagann   \n...        ...    ...       ...                                     ...   \n1122     27899      3  8.666667                          Tokyo Ghoul √A   \n1128     28223      3  8.000000                            Death Parade   \n1160     30503      3  7.333333                        Noragami Aragoto   \n1325     34933      3  7.333333                               Kakegurui   \n1168     30831      3  7.333333  Kono Subarashii Sekai ni Shukufuku wo!   \n\n                                   mod_name  Score  \\\n368                              death note   8.62   \n619         fullmetal alchemist brotherhood   9.10   \n58                      fullmetal alchemist   8.11   \n1153                          one punch man   8.50   \n420              tengen toppa gurren lagann   8.63   \n...                                     ...    ...   \n1122                          tokyo ghoul a   7.02   \n1128                           death parade   8.15   \n1160                       noragami aragoto   8.16   \n1325                              kakegurui   7.24   \n1168  kono subarashii sekai ni shukufuku wo   8.11   \n\n                                                Genres Type Episodes  \\\n368                             Supernatural, Suspense   TV     37.0   \n619                  Action, Adventure, Drama, Fantasy   TV     64.0   \n58    Action, Adventure, Award Winning, Drama, Fantasy   TV     51.0   \n1153                                    Action, Comedy   TV     12.0   \n420           Action, Adventure, Award Winning, Sci-Fi   TV     27.0   \n...                                                ...  ...      ...   \n1122                           Action, Fantasy, Horror   TV     12.0   \n1128                     Drama, Supernatural, Suspense   TV     12.0   \n1160                                   Action, Fantasy   TV     13.0   \n1325                                    Drama, Mystery   TV     12.0   \n1168                        Adventure, Comedy, Fantasy   TV     10.0   \n\n                             Aired  ...       Duration  \\\n368    Oct 4, 2006 to Jun 27, 2007  ...  23 min per ep   \n619     Apr 5, 2009 to Jul 4, 2010  ...  24 min per ep   \n58      Oct 4, 2003 to Oct 2, 2004  ...  24 min per ep   \n1153   Oct 5, 2015 to Dec 21, 2015  ...  24 min per ep   \n420    Apr 1, 2007 to Sep 30, 2007  ...  24 min per ep   \n...                            ...  ...            ...   \n1122   Jan 9, 2015 to Mar 27, 2015  ...  24 min per ep   \n1128  Jan 10, 2015 to Mar 28, 2015  ...  23 min per ep   \n1160   Oct 3, 2015 to Dec 26, 2015  ...  24 min per ep   \n1325   Jul 1, 2017 to Sep 23, 2017  ...  24 min per ep   \n1168  Jan 14, 2016 to Mar 17, 2016  ...  23 min per ep   \n\n                              Rating    Rank Popularity Favorites  Scored By  \\\n368   R - 17+ (violence & profanity)    74.0          2    167586  2619479.0   \n619   R - 17+ (violence & profanity)     1.0          3    217606  2020030.0   \n58    R - 17+ (violence & profanity)   454.0         76     25502   868434.0   \n1153  R - 17+ (violence & profanity)   127.0          4     62408  2131099.0   \n420        PG-13 - Teens 13 or older    71.0         65     75870   867956.0   \n...                              ...     ...        ...       ...        ...   \n1122  R - 17+ (violence & profanity)  3920.0         46     10324  1157527.0   \n1128  R - 17+ (violence & profanity)   402.0         48     27492   964617.0   \n1160       PG-13 - Teens 13 or older   396.0         78     11428   865558.0   \n1325  R - 17+ (violence & profanity)  2852.0         77     10596   870773.0   \n1168       PG-13 - Teens 13 or older   442.0         38     43506  1212458.0   \n\n      Members                                          Image URL  \\\n368   3713315  https://cdn.myanimelist.net/images/anime/9/945...   \n619   3176556  https://cdn.myanimelist.net/images/anime/1208/...   \n58    1426703  https://cdn.myanimelist.net/images/anime/10/75...   \n1153  3058666  https://cdn.myanimelist.net/images/anime/12/76...   \n420   1547735  https://cdn.myanimelist.net/images/anime/4/512...   \n...       ...                                                ...   \n1122  1707428  https://cdn.myanimelist.net/images/anime/1889/...   \n1128  1688655  https://cdn.myanimelist.net/images/anime/5/715...   \n1160  1402622  https://cdn.myanimelist.net/images/anime/1689/...   \n1325  1410008  https://cdn.myanimelist.net/images/anime/3/865...   \n1168  1862270  https://cdn.myanimelist.net/images/anime/8/778...   \n\n      adjusted_count  recommend_score  \n368         2.291822        19.971591  \n619         1.820793        17.145804  \n58          1.972638        16.857091  \n1153        1.791690        15.975906  \n420         1.630550        14.838003  \n...              ...              ...  \n1122        0.134567         1.166245  \n1128        0.142158         1.137266  \n1160        0.146872         1.077059  \n1325        0.146606         1.075114  \n1168        0.132702         0.973145  \n\n[294 rows x 24 columns]",
      "text/html": "<div>\n<style scoped>\n    .dataframe tbody tr th:only-of-type {\n        vertical-align: middle;\n    }\n\n    .dataframe tbody tr th {\n        vertical-align: top;\n    }\n\n    .dataframe thead th {\n        text-align: right;\n    }\n</style>\n<table border=\"1\" class=\"dataframe\">\n  <thead>\n    <tr style=\"text-align: right;\">\n      <th></th>\n      <th>anime_id</th>\n      <th>count</th>\n      <th>mean</th>\n      <th>Name</th>\n      <th>mod_name</th>\n      <th>Score</th>\n      <th>Genres</th>\n      <th>Type</th>\n      <th>Episodes</th>\n      <th>Aired</th>\n      <th>...</th>\n      <th>Duration</th>\n      <th>Rating</th>\n      <th>Rank</th>\n      <th>Popularity</th>\n      <th>Favorites</th>\n      <th>Scored By</th>\n      <th>Members</th>\n      <th>Image URL</th>\n      <th>adjusted_count</th>\n      <th>recommend_score</th>\n    </tr>\n  </thead>\n  <tbody>\n    <tr>\n      <th>368</th>\n      <td>1535</td>\n      <td>14</td>\n      <td>8.714286</td>\n      <td>Death Note</td>\n      <td>death note</td>\n      <td>8.62</td>\n      <td>Supernatural, Suspense</td>\n      <td>TV</td>\n      <td>37.0</td>\n      <td>Oct 4, 2006 to Jun 27, 2007</td>\n      <td>...</td>\n      <td>23 min per ep</td>\n      <td>R - 17+ (violence &amp; profanity)</td>\n      <td>74.0</td>\n      <td>2</td>\n      <td>167586</td>\n      <td>2619479.0</td>\n      <td>3713315</td>\n      <td>https://cdn.myanimelist.net/images/anime/9/945...</td>\n      <td>2.291822</td>\n      <td>19.971591</td>\n    </tr>\n    <tr>\n      <th>619</th>\n      <td>5114</td>\n      <td>12</td>\n      <td>9.416667</td>\n      <td>Fullmetal Alchemist: Brotherhood</td>\n      <td>fullmetal alchemist brotherhood</td>\n      <td>9.10</td>\n      <td>Action, Adventure, Drama, Fantasy</td>\n      <td>TV</td>\n      <td>64.0</td>\n      <td>Apr 5, 2009 to Jul 4, 2010</td>\n      <td>...</td>\n      <td>24 min per ep</td>\n      <td>R - 17+ (violence &amp; profanity)</td>\n      <td>1.0</td>\n      <td>3</td>\n      <td>217606</td>\n      <td>2020030.0</td>\n      <td>3176556</td>\n      <td>https://cdn.myanimelist.net/images/anime/1208/...</td>\n      <td>1.820793</td>\n      <td>17.145804</td>\n    </tr>\n    <tr>\n      <th>58</th>\n      <td>121</td>\n      <td>11</td>\n      <td>8.545455</td>\n      <td>Fullmetal Alchemist</td>\n      <td>fullmetal alchemist</td>\n      <td>8.11</td>\n      <td>Action, Adventure, Award Winning, Drama, Fantasy</td>\n      <td>TV</td>\n      <td>51.0</td>\n      <td>Oct 4, 2003 to Oct 2, 2004</td>\n      <td>...</td>\n      <td>24 min per ep</td>\n      <td>R - 17+ (violence &amp; profanity)</td>\n      <td>454.0</td>\n      <td>76</td>\n      <td>25502</td>\n      <td>868434.0</td>\n      <td>1426703</td>\n      <td>https://cdn.myanimelist.net/images/anime/10/75...</td>\n      <td>1.972638</td>\n      <td>16.857091</td>\n    </tr>\n    <tr>\n      <th>1153</th>\n      <td>30276</td>\n      <td>12</td>\n      <td>8.916667</td>\n      <td>One Punch Man</td>\n      <td>one punch man</td>\n      <td>8.50</td>\n      <td>Action, Comedy</td>\n      <td>TV</td>\n      <td>12.0</td>\n      <td>Oct 5, 2015 to Dec 21, 2015</td>\n      <td>...</td>\n      <td>24 min per ep</td>\n      <td>R - 17+ (violence &amp; profanity)</td>\n      <td>127.0</td>\n      <td>4</td>\n      <td>62408</td>\n      <td>2131099.0</td>\n      <td>3058666</td>\n      <td>https://cdn.myanimelist.net/images/anime/12/76...</td>\n      <td>1.791690</td>\n      <td>15.975906</td>\n    </tr>\n    <tr>\n      <th>420</th>\n      <td>2001</td>\n      <td>10</td>\n      <td>9.100000</td>\n      <td>Tengen Toppa Gurren Lagann</td>\n      <td>tengen toppa gurren lagann</td>\n      <td>8.63</td>\n      <td>Action, Adventure, Award Winning, Sci-Fi</td>\n      <td>TV</td>\n      <td>27.0</td>\n      <td>Apr 1, 2007 to Sep 30, 2007</td>\n      <td>...</td>\n      <td>24 min per ep</td>\n      <td>PG-13 - Teens 13 or older</td>\n      <td>71.0</td>\n      <td>65</td>\n      <td>75870</td>\n      <td>867956.0</td>\n      <td>1547735</td>\n      <td>https://cdn.myanimelist.net/images/anime/4/512...</td>\n      <td>1.630550</td>\n      <td>14.838003</td>\n    </tr>\n    <tr>\n      <th>...</th>\n      <td>...</td>\n      <td>...</td>\n      <td>...</td>\n      <td>...</td>\n      <td>...</td>\n      <td>...</td>\n      <td>...</td>\n      <td>...</td>\n      <td>...</td>\n      <td>...</td>\n      <td>...</td>\n      <td>...</td>\n      <td>...</td>\n      <td>...</td>\n      <td>...</td>\n      <td>...</td>\n      <td>...</td>\n      <td>...</td>\n      <td>...</td>\n      <td>...</td>\n      <td>...</td>\n    </tr>\n    <tr>\n      <th>1122</th>\n      <td>27899</td>\n      <td>3</td>\n      <td>8.666667</td>\n      <td>Tokyo Ghoul √A</td>\n      <td>tokyo ghoul a</td>\n      <td>7.02</td>\n      <td>Action, Fantasy, Horror</td>\n      <td>TV</td>\n      <td>12.0</td>\n      <td>Jan 9, 2015 to Mar 27, 2015</td>\n      <td>...</td>\n      <td>24 min per ep</td>\n      <td>R - 17+ (violence &amp; profanity)</td>\n      <td>3920.0</td>\n      <td>46</td>\n      <td>10324</td>\n      <td>1157527.0</td>\n      <td>1707428</td>\n      <td>https://cdn.myanimelist.net/images/anime/1889/...</td>\n      <td>0.134567</td>\n      <td>1.166245</td>\n    </tr>\n    <tr>\n      <th>1128</th>\n      <td>28223</td>\n      <td>3</td>\n      <td>8.000000</td>\n      <td>Death Parade</td>\n      <td>death parade</td>\n      <td>8.15</td>\n      <td>Drama, Supernatural, Suspense</td>\n      <td>TV</td>\n      <td>12.0</td>\n      <td>Jan 10, 2015 to Mar 28, 2015</td>\n      <td>...</td>\n      <td>23 min per ep</td>\n      <td>R - 17+ (violence &amp; profanity)</td>\n      <td>402.0</td>\n      <td>48</td>\n      <td>27492</td>\n      <td>964617.0</td>\n      <td>1688655</td>\n      <td>https://cdn.myanimelist.net/images/anime/5/715...</td>\n      <td>0.142158</td>\n      <td>1.137266</td>\n    </tr>\n    <tr>\n      <th>1160</th>\n      <td>30503</td>\n      <td>3</td>\n      <td>7.333333</td>\n      <td>Noragami Aragoto</td>\n      <td>noragami aragoto</td>\n      <td>8.16</td>\n      <td>Action, Fantasy</td>\n      <td>TV</td>\n      <td>13.0</td>\n      <td>Oct 3, 2015 to Dec 26, 2015</td>\n      <td>...</td>\n      <td>24 min per ep</td>\n      <td>PG-13 - Teens 13 or older</td>\n      <td>396.0</td>\n      <td>78</td>\n      <td>11428</td>\n      <td>865558.0</td>\n      <td>1402622</td>\n      <td>https://cdn.myanimelist.net/images/anime/1689/...</td>\n      <td>0.146872</td>\n      <td>1.077059</td>\n    </tr>\n    <tr>\n      <th>1325</th>\n      <td>34933</td>\n      <td>3</td>\n      <td>7.333333</td>\n      <td>Kakegurui</td>\n      <td>kakegurui</td>\n      <td>7.24</td>\n      <td>Drama, Mystery</td>\n      <td>TV</td>\n      <td>12.0</td>\n      <td>Jul 1, 2017 to Sep 23, 2017</td>\n      <td>...</td>\n      <td>24 min per ep</td>\n      <td>R - 17+ (violence &amp; profanity)</td>\n      <td>2852.0</td>\n      <td>77</td>\n      <td>10596</td>\n      <td>870773.0</td>\n      <td>1410008</td>\n      <td>https://cdn.myanimelist.net/images/anime/3/865...</td>\n      <td>0.146606</td>\n      <td>1.075114</td>\n    </tr>\n    <tr>\n      <th>1168</th>\n      <td>30831</td>\n      <td>3</td>\n      <td>7.333333</td>\n      <td>Kono Subarashii Sekai ni Shukufuku wo!</td>\n      <td>kono subarashii sekai ni shukufuku wo</td>\n      <td>8.11</td>\n      <td>Adventure, Comedy, Fantasy</td>\n      <td>TV</td>\n      <td>10.0</td>\n      <td>Jan 14, 2016 to Mar 17, 2016</td>\n      <td>...</td>\n      <td>23 min per ep</td>\n      <td>PG-13 - Teens 13 or older</td>\n      <td>442.0</td>\n      <td>38</td>\n      <td>43506</td>\n      <td>1212458.0</td>\n      <td>1862270</td>\n      <td>https://cdn.myanimelist.net/images/anime/8/778...</td>\n      <td>0.132702</td>\n      <td>0.973145</td>\n    </tr>\n  </tbody>\n</table>\n<p>294 rows × 24 columns</p>\n</div>"
     },
     "execution_count": 39,
     "metadata": {},
     "output_type": "execute_result"
    }
   ],
   "source": [
    "recommend_anime(anime_recs)"
   ],
   "metadata": {
    "collapsed": false,
    "ExecuteTime": {
     "end_time": "2024-03-28T09:17:01.400082200Z",
     "start_time": "2024-03-28T09:17:01.288493Z"
    }
   },
   "id": "328b07b37a46d44c"
  },
  {
   "cell_type": "markdown",
   "source": [
    "# Recap"
   ],
   "metadata": {
    "collapsed": false
   },
   "id": "9da5d4a5fac139e4"
  },
  {
   "cell_type": "code",
   "execution_count": 45,
   "outputs": [
    {
     "name": "stdout",
     "output_type": "stream",
     "text": [
      "Visiting file 4\n",
      "Visiting file 2\n",
      "Visiting file 3\n",
      "Visiting file 1\n",
      "Visiting file 0\n",
      "(48,)\n"
     ]
    }
   ],
   "source": [
    "liked_anime_list = [1, 21, 40748, 10629, 16498, 18397]\n",
    "rating_matrix, interactions = create_recommendation_matrix(liked_anime_list, anime_percentage=0.8)\n",
    "anime_recs = create_anime_recommendation_df(rating_matrix, interactions)\n",
    "anime_list = recommend_anime(anime_recs)"
   ],
   "metadata": {
    "collapsed": false,
    "ExecuteTime": {
     "end_time": "2024-03-28T09:17:39.296412Z",
     "start_time": "2024-03-28T09:17:37.009262700Z"
    }
   },
   "id": "d34112f9562c808e"
  },
  {
   "cell_type": "code",
   "execution_count": 41,
   "outputs": [
    {
     "name": "stdout",
     "output_type": "stream",
     "text": [
      "Visiting file 0\n",
      "Visiting file 1\n",
      "Visiting file 3\n",
      "Visiting file 2\n",
      "Visiting file 4\n"
     ]
    }
   ],
   "source": [
    "liked_anime_list = [16498, 18397]\n",
    "rating_matrix, interactions = create_recommendation_matrix(liked_anime_list)"
   ],
   "metadata": {
    "collapsed": false,
    "ExecuteTime": {
     "end_time": "2024-03-28T09:17:11.902457800Z",
     "start_time": "2024-03-28T09:17:09.897401Z"
    }
   },
   "id": "213b946c3af0d780"
  },
  {
   "cell_type": "code",
   "execution_count": 42,
   "outputs": [
    {
     "data": {
      "text/plain": "<51x3647 sparse matrix of type '<class 'numpy.int64'>'\n\twith 14343 stored elements in Compressed Sparse Row format>"
     },
     "execution_count": 42,
     "metadata": {},
     "output_type": "execute_result"
    }
   ],
   "source": [
    "rating_matrix"
   ],
   "metadata": {
    "collapsed": false,
    "ExecuteTime": {
     "end_time": "2024-03-28T09:17:11.918592100Z",
     "start_time": "2024-03-28T09:17:11.907740400Z"
    }
   },
   "id": "f0e79563b2db6d90"
  },
  {
   "cell_type": "code",
   "execution_count": 46,
   "outputs": [
    {
     "data": {
      "text/plain": "                                                   Name  Score  Scored By  \\\n355                        One Piece Film: Strong World   8.08   150154.0   \n662                                   One Piece Film: Z   8.14   168575.0   \n593               Steins;Gate: Oukoubakko no Poriomania   8.29   267749.0   \n487              One Piece Film: Strong World Episode 0   7.94    45878.0   \n918                 Shingeki no Kyojin: Kuinaki Sentaku   8.41   292266.0   \n...                                                 ...    ...        ...   \n709                      Chuunibyou demo Koi ga Shitai!   7.71   751777.0   \n711   Yahari Ore no Seishun Love Comedy wa Machigatt...   8.01   815829.0   \n1029           Kono Subarashii Sekai ni Shukufuku wo! 2   8.27   957748.0   \n936                                  Shokugeki no Souma   8.16   967773.0   \n877                             Shigatsu wa Kimi no Uso   8.65  1290329.0   \n\n      recommend_score  \n355          0.125985  \n662          0.120086  \n593          0.118261  \n487          0.117450  \n918          0.108364  \n...               ...  \n709          0.005832  \n711          0.005751  \n1029         0.005575  \n936          0.005322  \n877          0.004708  \n\n[244 rows x 4 columns]",
      "text/html": "<div>\n<style scoped>\n    .dataframe tbody tr th:only-of-type {\n        vertical-align: middle;\n    }\n\n    .dataframe tbody tr th {\n        vertical-align: top;\n    }\n\n    .dataframe thead th {\n        text-align: right;\n    }\n</style>\n<table border=\"1\" class=\"dataframe\">\n  <thead>\n    <tr style=\"text-align: right;\">\n      <th></th>\n      <th>Name</th>\n      <th>Score</th>\n      <th>Scored By</th>\n      <th>recommend_score</th>\n    </tr>\n  </thead>\n  <tbody>\n    <tr>\n      <th>355</th>\n      <td>One Piece Film: Strong World</td>\n      <td>8.08</td>\n      <td>150154.0</td>\n      <td>0.125985</td>\n    </tr>\n    <tr>\n      <th>662</th>\n      <td>One Piece Film: Z</td>\n      <td>8.14</td>\n      <td>168575.0</td>\n      <td>0.120086</td>\n    </tr>\n    <tr>\n      <th>593</th>\n      <td>Steins;Gate: Oukoubakko no Poriomania</td>\n      <td>8.29</td>\n      <td>267749.0</td>\n      <td>0.118261</td>\n    </tr>\n    <tr>\n      <th>487</th>\n      <td>One Piece Film: Strong World Episode 0</td>\n      <td>7.94</td>\n      <td>45878.0</td>\n      <td>0.117450</td>\n    </tr>\n    <tr>\n      <th>918</th>\n      <td>Shingeki no Kyojin: Kuinaki Sentaku</td>\n      <td>8.41</td>\n      <td>292266.0</td>\n      <td>0.108364</td>\n    </tr>\n    <tr>\n      <th>...</th>\n      <td>...</td>\n      <td>...</td>\n      <td>...</td>\n      <td>...</td>\n    </tr>\n    <tr>\n      <th>709</th>\n      <td>Chuunibyou demo Koi ga Shitai!</td>\n      <td>7.71</td>\n      <td>751777.0</td>\n      <td>0.005832</td>\n    </tr>\n    <tr>\n      <th>711</th>\n      <td>Yahari Ore no Seishun Love Comedy wa Machigatt...</td>\n      <td>8.01</td>\n      <td>815829.0</td>\n      <td>0.005751</td>\n    </tr>\n    <tr>\n      <th>1029</th>\n      <td>Kono Subarashii Sekai ni Shukufuku wo! 2</td>\n      <td>8.27</td>\n      <td>957748.0</td>\n      <td>0.005575</td>\n    </tr>\n    <tr>\n      <th>936</th>\n      <td>Shokugeki no Souma</td>\n      <td>8.16</td>\n      <td>967773.0</td>\n      <td>0.005322</td>\n    </tr>\n    <tr>\n      <th>877</th>\n      <td>Shigatsu wa Kimi no Uso</td>\n      <td>8.65</td>\n      <td>1290329.0</td>\n      <td>0.004708</td>\n    </tr>\n  </tbody>\n</table>\n<p>244 rows × 4 columns</p>\n</div>"
     },
     "execution_count": 46,
     "metadata": {},
     "output_type": "execute_result"
    }
   ],
   "source": [
    "anime_list[['Name', 'Score', 'Scored By', 'recommend_score']]"
   ],
   "metadata": {
    "collapsed": false,
    "ExecuteTime": {
     "end_time": "2024-03-28T09:17:41.273680600Z",
     "start_time": "2024-03-28T09:17:41.262702400Z"
    }
   },
   "id": "4793d2cf26df6467"
  },
  {
   "cell_type": "code",
   "execution_count": null,
   "outputs": [],
   "source": [],
   "metadata": {
    "collapsed": false
   },
   "id": "6fecf71a59b20577"
  }
 ],
 "metadata": {
  "kernelspec": {
   "display_name": "Python 3",
   "language": "python",
   "name": "python3"
  },
  "language_info": {
   "codemirror_mode": {
    "name": "ipython",
    "version": 2
   },
   "file_extension": ".py",
   "mimetype": "text/x-python",
   "name": "python",
   "nbconvert_exporter": "python",
   "pygments_lexer": "ipython2",
   "version": "2.7.6"
  }
 },
 "nbformat": 4,
 "nbformat_minor": 5
}
