{
 "cells": [
  {
   "cell_type": "code",
   "execution_count": 1,
   "id": "initial_id",
   "metadata": {
    "collapsed": true,
    "ExecuteTime": {
     "end_time": "2024-02-22T08:02:38.268681800Z",
     "start_time": "2024-02-22T08:02:36.267106200Z"
    }
   },
   "outputs": [],
   "source": [
    "import numpy as np\n",
    "import pandas as pd\n",
    "from tqdm import tqdm"
   ]
  },
  {
   "cell_type": "code",
   "execution_count": 2,
   "outputs": [
    {
     "data": {
      "text/plain": "       anime_id                             Name  Score  \\\n0             1                     Cowboy Bebop   8.75   \n1             5  Cowboy Bebop: Tengoku no Tobira   8.38   \n2             6                           Trigun   8.22   \n3             7               Witch Hunter Robin   7.25   \n4             8                   Bouken Ou Beet   6.94   \n...         ...                              ...    ...   \n24900     55731                      Wu Nao Monu   0.00   \n24901     55732              Bu Xing Si: Yuan Qi   0.00   \n24902     55733                      Di Yi Xulie   0.00   \n24903     55734         Bokura no Saishuu Sensou   0.00   \n24904     55735                   Shijuuku Nichi   0.00   \n\n                                     Genres   Type Episodes  \\\n0             Action, Award Winning, Sci-Fi     TV     26.0   \n1                            Action, Sci-Fi  Movie      1.0   \n2                 Action, Adventure, Sci-Fi     TV     26.0   \n3      Action, Drama, Mystery, Supernatural     TV     26.0   \n4          Adventure, Fantasy, Supernatural     TV     52.0   \n...                                     ...    ...      ...   \n24900        Comedy, Fantasy, Slice of Life    ONA     15.0   \n24901            Action, Adventure, Fantasy    ONA     18.0   \n24902    Action, Adventure, Fantasy, Sci-Fi    ONA     16.0   \n24903                               UNKNOWN  Music      1.0   \n24904                               UNKNOWN  Music      1.0   \n\n                              Aired    Premiered           Status  \\\n0       Apr 3, 1998 to Apr 24, 1999  spring 1998  Finished Airing   \n1                       Sep 1, 2001      UNKNOWN  Finished Airing   \n2       Apr 1, 1998 to Sep 30, 1998  spring 1998  Finished Airing   \n3       Jul 3, 2002 to Dec 25, 2002  summer 2002  Finished Airing   \n4      Sep 30, 2004 to Sep 29, 2005    fall 2004  Finished Airing   \n...                             ...          ...              ...   \n24900              Jul 4, 2023 to ?      UNKNOWN    Not yet aired   \n24901             Jul 27, 2023 to ?      UNKNOWN    Not yet aired   \n24902             Jul 19, 2023 to ?      UNKNOWN  Finished Airing   \n24903                  Apr 23, 2022      UNKNOWN  Finished Airing   \n24904                   Sep 5, 2022      UNKNOWN  Finished Airing   \n\n              Studios     Source       Duration  \\\n0             Sunrise   Original  24 min per ep   \n1               Bones   Original    1 hr 55 min   \n2            Madhouse      Manga  24 min per ep   \n3             Sunrise   Original  25 min per ep   \n4      Toei Animation      Manga  23 min per ep   \n...               ...        ...            ...   \n24900         UNKNOWN  Web manga        Unknown   \n24901         UNKNOWN  Web novel        Unknown   \n24902         UNKNOWN  Web novel        Unknown   \n24903         UNKNOWN   Original          3 min   \n24904         UNKNOWN   Original          3 min   \n\n                               Rating    Rank  Popularity  Favorites  \\\n0      R - 17+ (violence & profanity)    41.0          43      78525   \n1      R - 17+ (violence & profanity)   189.0         602       1448   \n2           PG-13 - Teens 13 or older   328.0         246      15035   \n3           PG-13 - Teens 13 or older  2764.0        1795        613   \n4                       PG - Children  4240.0        5126         14   \n...                               ...     ...         ...        ...   \n24900       PG-13 - Teens 13 or older     NaN       24723          0   \n24901       PG-13 - Teens 13 or older     0.0           0          0   \n24902       PG-13 - Teens 13 or older     0.0           0          0   \n24903       PG-13 - Teens 13 or older     0.0           0          0   \n24904       PG-13 - Teens 13 or older     0.0           0          0   \n\n       Scored By  Members                                          Image URL  \n0       914193.0  1771505  https://cdn.myanimelist.net/images/anime/4/196...  \n1       206248.0   360978  https://cdn.myanimelist.net/images/anime/1439/...  \n2       356739.0   727252  https://cdn.myanimelist.net/images/anime/7/203...  \n3        42829.0   111931  https://cdn.myanimelist.net/images/anime/10/19...  \n4         6413.0    15001  https://cdn.myanimelist.net/images/anime/7/215...  \n...          ...      ...                                                ...  \n24900        NaN        0  https://cdn.myanimelist.net/images/anime/1386/...  \n24901        NaN        0  https://cdn.myanimelist.net/images/anime/1383/...  \n24902        NaN        0  https://cdn.myanimelist.net/images/anime/1130/...  \n24903        NaN        0  https://cdn.myanimelist.net/images/anime/1931/...  \n24904        NaN        0  https://cdn.myanimelist.net/images/anime/1902/...  \n\n[24905 rows x 19 columns]",
      "text/html": "<div>\n<style scoped>\n    .dataframe tbody tr th:only-of-type {\n        vertical-align: middle;\n    }\n\n    .dataframe tbody tr th {\n        vertical-align: top;\n    }\n\n    .dataframe thead th {\n        text-align: right;\n    }\n</style>\n<table border=\"1\" class=\"dataframe\">\n  <thead>\n    <tr style=\"text-align: right;\">\n      <th></th>\n      <th>anime_id</th>\n      <th>Name</th>\n      <th>Score</th>\n      <th>Genres</th>\n      <th>Type</th>\n      <th>Episodes</th>\n      <th>Aired</th>\n      <th>Premiered</th>\n      <th>Status</th>\n      <th>Studios</th>\n      <th>Source</th>\n      <th>Duration</th>\n      <th>Rating</th>\n      <th>Rank</th>\n      <th>Popularity</th>\n      <th>Favorites</th>\n      <th>Scored By</th>\n      <th>Members</th>\n      <th>Image URL</th>\n    </tr>\n  </thead>\n  <tbody>\n    <tr>\n      <th>0</th>\n      <td>1</td>\n      <td>Cowboy Bebop</td>\n      <td>8.75</td>\n      <td>Action, Award Winning, Sci-Fi</td>\n      <td>TV</td>\n      <td>26.0</td>\n      <td>Apr 3, 1998 to Apr 24, 1999</td>\n      <td>spring 1998</td>\n      <td>Finished Airing</td>\n      <td>Sunrise</td>\n      <td>Original</td>\n      <td>24 min per ep</td>\n      <td>R - 17+ (violence &amp; profanity)</td>\n      <td>41.0</td>\n      <td>43</td>\n      <td>78525</td>\n      <td>914193.0</td>\n      <td>1771505</td>\n      <td>https://cdn.myanimelist.net/images/anime/4/196...</td>\n    </tr>\n    <tr>\n      <th>1</th>\n      <td>5</td>\n      <td>Cowboy Bebop: Tengoku no Tobira</td>\n      <td>8.38</td>\n      <td>Action, Sci-Fi</td>\n      <td>Movie</td>\n      <td>1.0</td>\n      <td>Sep 1, 2001</td>\n      <td>UNKNOWN</td>\n      <td>Finished Airing</td>\n      <td>Bones</td>\n      <td>Original</td>\n      <td>1 hr 55 min</td>\n      <td>R - 17+ (violence &amp; profanity)</td>\n      <td>189.0</td>\n      <td>602</td>\n      <td>1448</td>\n      <td>206248.0</td>\n      <td>360978</td>\n      <td>https://cdn.myanimelist.net/images/anime/1439/...</td>\n    </tr>\n    <tr>\n      <th>2</th>\n      <td>6</td>\n      <td>Trigun</td>\n      <td>8.22</td>\n      <td>Action, Adventure, Sci-Fi</td>\n      <td>TV</td>\n      <td>26.0</td>\n      <td>Apr 1, 1998 to Sep 30, 1998</td>\n      <td>spring 1998</td>\n      <td>Finished Airing</td>\n      <td>Madhouse</td>\n      <td>Manga</td>\n      <td>24 min per ep</td>\n      <td>PG-13 - Teens 13 or older</td>\n      <td>328.0</td>\n      <td>246</td>\n      <td>15035</td>\n      <td>356739.0</td>\n      <td>727252</td>\n      <td>https://cdn.myanimelist.net/images/anime/7/203...</td>\n    </tr>\n    <tr>\n      <th>3</th>\n      <td>7</td>\n      <td>Witch Hunter Robin</td>\n      <td>7.25</td>\n      <td>Action, Drama, Mystery, Supernatural</td>\n      <td>TV</td>\n      <td>26.0</td>\n      <td>Jul 3, 2002 to Dec 25, 2002</td>\n      <td>summer 2002</td>\n      <td>Finished Airing</td>\n      <td>Sunrise</td>\n      <td>Original</td>\n      <td>25 min per ep</td>\n      <td>PG-13 - Teens 13 or older</td>\n      <td>2764.0</td>\n      <td>1795</td>\n      <td>613</td>\n      <td>42829.0</td>\n      <td>111931</td>\n      <td>https://cdn.myanimelist.net/images/anime/10/19...</td>\n    </tr>\n    <tr>\n      <th>4</th>\n      <td>8</td>\n      <td>Bouken Ou Beet</td>\n      <td>6.94</td>\n      <td>Adventure, Fantasy, Supernatural</td>\n      <td>TV</td>\n      <td>52.0</td>\n      <td>Sep 30, 2004 to Sep 29, 2005</td>\n      <td>fall 2004</td>\n      <td>Finished Airing</td>\n      <td>Toei Animation</td>\n      <td>Manga</td>\n      <td>23 min per ep</td>\n      <td>PG - Children</td>\n      <td>4240.0</td>\n      <td>5126</td>\n      <td>14</td>\n      <td>6413.0</td>\n      <td>15001</td>\n      <td>https://cdn.myanimelist.net/images/anime/7/215...</td>\n    </tr>\n    <tr>\n      <th>...</th>\n      <td>...</td>\n      <td>...</td>\n      <td>...</td>\n      <td>...</td>\n      <td>...</td>\n      <td>...</td>\n      <td>...</td>\n      <td>...</td>\n      <td>...</td>\n      <td>...</td>\n      <td>...</td>\n      <td>...</td>\n      <td>...</td>\n      <td>...</td>\n      <td>...</td>\n      <td>...</td>\n      <td>...</td>\n      <td>...</td>\n      <td>...</td>\n    </tr>\n    <tr>\n      <th>24900</th>\n      <td>55731</td>\n      <td>Wu Nao Monu</td>\n      <td>0.00</td>\n      <td>Comedy, Fantasy, Slice of Life</td>\n      <td>ONA</td>\n      <td>15.0</td>\n      <td>Jul 4, 2023 to ?</td>\n      <td>UNKNOWN</td>\n      <td>Not yet aired</td>\n      <td>UNKNOWN</td>\n      <td>Web manga</td>\n      <td>Unknown</td>\n      <td>PG-13 - Teens 13 or older</td>\n      <td>NaN</td>\n      <td>24723</td>\n      <td>0</td>\n      <td>NaN</td>\n      <td>0</td>\n      <td>https://cdn.myanimelist.net/images/anime/1386/...</td>\n    </tr>\n    <tr>\n      <th>24901</th>\n      <td>55732</td>\n      <td>Bu Xing Si: Yuan Qi</td>\n      <td>0.00</td>\n      <td>Action, Adventure, Fantasy</td>\n      <td>ONA</td>\n      <td>18.0</td>\n      <td>Jul 27, 2023 to ?</td>\n      <td>UNKNOWN</td>\n      <td>Not yet aired</td>\n      <td>UNKNOWN</td>\n      <td>Web novel</td>\n      <td>Unknown</td>\n      <td>PG-13 - Teens 13 or older</td>\n      <td>0.0</td>\n      <td>0</td>\n      <td>0</td>\n      <td>NaN</td>\n      <td>0</td>\n      <td>https://cdn.myanimelist.net/images/anime/1383/...</td>\n    </tr>\n    <tr>\n      <th>24902</th>\n      <td>55733</td>\n      <td>Di Yi Xulie</td>\n      <td>0.00</td>\n      <td>Action, Adventure, Fantasy, Sci-Fi</td>\n      <td>ONA</td>\n      <td>16.0</td>\n      <td>Jul 19, 2023 to ?</td>\n      <td>UNKNOWN</td>\n      <td>Finished Airing</td>\n      <td>UNKNOWN</td>\n      <td>Web novel</td>\n      <td>Unknown</td>\n      <td>PG-13 - Teens 13 or older</td>\n      <td>0.0</td>\n      <td>0</td>\n      <td>0</td>\n      <td>NaN</td>\n      <td>0</td>\n      <td>https://cdn.myanimelist.net/images/anime/1130/...</td>\n    </tr>\n    <tr>\n      <th>24903</th>\n      <td>55734</td>\n      <td>Bokura no Saishuu Sensou</td>\n      <td>0.00</td>\n      <td>UNKNOWN</td>\n      <td>Music</td>\n      <td>1.0</td>\n      <td>Apr 23, 2022</td>\n      <td>UNKNOWN</td>\n      <td>Finished Airing</td>\n      <td>UNKNOWN</td>\n      <td>Original</td>\n      <td>3 min</td>\n      <td>PG-13 - Teens 13 or older</td>\n      <td>0.0</td>\n      <td>0</td>\n      <td>0</td>\n      <td>NaN</td>\n      <td>0</td>\n      <td>https://cdn.myanimelist.net/images/anime/1931/...</td>\n    </tr>\n    <tr>\n      <th>24904</th>\n      <td>55735</td>\n      <td>Shijuuku Nichi</td>\n      <td>0.00</td>\n      <td>UNKNOWN</td>\n      <td>Music</td>\n      <td>1.0</td>\n      <td>Sep 5, 2022</td>\n      <td>UNKNOWN</td>\n      <td>Finished Airing</td>\n      <td>UNKNOWN</td>\n      <td>Original</td>\n      <td>3 min</td>\n      <td>PG-13 - Teens 13 or older</td>\n      <td>0.0</td>\n      <td>0</td>\n      <td>0</td>\n      <td>NaN</td>\n      <td>0</td>\n      <td>https://cdn.myanimelist.net/images/anime/1902/...</td>\n    </tr>\n  </tbody>\n</table>\n<p>24905 rows × 19 columns</p>\n</div>"
     },
     "execution_count": 2,
     "metadata": {},
     "output_type": "execute_result"
    }
   ],
   "source": [
    "anime = pd.read_parquet('anime/anime.parquet')\n",
    "anime"
   ],
   "metadata": {
    "collapsed": false,
    "ExecuteTime": {
     "end_time": "2024-02-22T08:02:38.959701500Z",
     "start_time": "2024-02-22T08:02:38.271922Z"
    }
   },
   "id": "f28b5069e42459f9"
  },
  {
   "cell_type": "code",
   "execution_count": 3,
   "outputs": [
    {
     "data": {
      "text/plain": "       anime_id                                               Name  Score  \\\n10629     30831             Kono Subarashii Sekai ni Shukufuku wo!   8.11   \n11295     32380  Kono Subarashii Sekai ni Shukufuku wo! Kono Su...   7.84   \n11572     32937           Kono Subarashii Sekai ni Shukufuku wo! 2   8.27   \n12451     34626  Kono Subarashii Sekai ni Shukufuku wo! 2: Kono...   8.03   \n14578     38040  Kono Subarashii Sekai ni Shukufuku wo! Movie: ...   8.45   \n21335     49458           Kono Subarashii Sekai ni Shukufuku wo! 3   0.00   \n22581     51958                Kono Subarashii Sekai ni Bakuen wo!   7.60   \n\n                           Genres   Type Episodes  \\\n10629  Adventure, Comedy, Fantasy     TV     10.0   \n11295             Comedy, Fantasy    OVA      1.0   \n11572  Adventure, Comedy, Fantasy     TV     10.0   \n12451  Adventure, Comedy, Fantasy    OVA      1.0   \n14578  Adventure, Comedy, Fantasy  Movie      1.0   \n21335  Adventure, Comedy, Fantasy     TV  UNKNOWN   \n22581             Comedy, Fantasy     TV     12.0   \n\n                              Aired    Premiered            Status  \\\n10629  Jan 14, 2016 to Mar 17, 2016  winter 2016   Finished Airing   \n11295                  Jun 24, 2016      UNKNOWN   Finished Airing   \n11572  Jan 12, 2017 to Mar 16, 2017  winter 2017   Finished Airing   \n12451                  Jul 24, 2017      UNKNOWN   Finished Airing   \n14578                  Aug 30, 2019      UNKNOWN   Finished Airing   \n21335                 Not available      UNKNOWN     Not yet aired   \n22581   Apr 6, 2023 to Jun 22, 2023  spring 2023  Currently Airing   \n\n           Studios       Source       Duration                     Rating  \\\n10629  Studio Deen  Light novel  23 min per ep  PG-13 - Teens 13 or older   \n11295  Studio Deen  Light novel         23 min  PG-13 - Teens 13 or older   \n11572  Studio Deen  Light novel  23 min per ep  PG-13 - Teens 13 or older   \n12451  Studio Deen  Light novel         28 min  PG-13 - Teens 13 or older   \n14578    J.C.Staff  Light novel    1 hr 30 min  PG-13 - Teens 13 or older   \n21335        Drive  Light novel        Unknown  PG-13 - Teens 13 or older   \n22581        Drive  Light novel  23 min per ep  PG-13 - Teens 13 or older   \n\n         Rank  Popularity  Favorites  Scored By  Members  \\\n10629   442.0          38      43506  1212458.0  1862270   \n11295   833.0         549        633   249049.0   385635   \n11572   275.0          74      11709   957748.0  1437771   \n12451   544.0         621        721   213689.0   351228   \n14578   144.0         247       4690   457103.0   725216   \n21335     NaN        1204       1618        NaN   183954   \n22581  1378.0         941       1351    34595.0   237447   \n\n                                               Image URL  \n10629  https://cdn.myanimelist.net/images/anime/8/778...  \n11295  https://cdn.myanimelist.net/images/anime/1649/...  \n11572  https://cdn.myanimelist.net/images/anime/2/831...  \n12451  https://cdn.myanimelist.net/images/anime/1115/...  \n14578  https://cdn.myanimelist.net/images/anime/1638/...  \n21335  https://cdn.myanimelist.net/images/anime/1800/...  \n22581  https://cdn.myanimelist.net/images/anime/1626/...  ",
      "text/html": "<div>\n<style scoped>\n    .dataframe tbody tr th:only-of-type {\n        vertical-align: middle;\n    }\n\n    .dataframe tbody tr th {\n        vertical-align: top;\n    }\n\n    .dataframe thead th {\n        text-align: right;\n    }\n</style>\n<table border=\"1\" class=\"dataframe\">\n  <thead>\n    <tr style=\"text-align: right;\">\n      <th></th>\n      <th>anime_id</th>\n      <th>Name</th>\n      <th>Score</th>\n      <th>Genres</th>\n      <th>Type</th>\n      <th>Episodes</th>\n      <th>Aired</th>\n      <th>Premiered</th>\n      <th>Status</th>\n      <th>Studios</th>\n      <th>Source</th>\n      <th>Duration</th>\n      <th>Rating</th>\n      <th>Rank</th>\n      <th>Popularity</th>\n      <th>Favorites</th>\n      <th>Scored By</th>\n      <th>Members</th>\n      <th>Image URL</th>\n    </tr>\n  </thead>\n  <tbody>\n    <tr>\n      <th>10629</th>\n      <td>30831</td>\n      <td>Kono Subarashii Sekai ni Shukufuku wo!</td>\n      <td>8.11</td>\n      <td>Adventure, Comedy, Fantasy</td>\n      <td>TV</td>\n      <td>10.0</td>\n      <td>Jan 14, 2016 to Mar 17, 2016</td>\n      <td>winter 2016</td>\n      <td>Finished Airing</td>\n      <td>Studio Deen</td>\n      <td>Light novel</td>\n      <td>23 min per ep</td>\n      <td>PG-13 - Teens 13 or older</td>\n      <td>442.0</td>\n      <td>38</td>\n      <td>43506</td>\n      <td>1212458.0</td>\n      <td>1862270</td>\n      <td>https://cdn.myanimelist.net/images/anime/8/778...</td>\n    </tr>\n    <tr>\n      <th>11295</th>\n      <td>32380</td>\n      <td>Kono Subarashii Sekai ni Shukufuku wo! Kono Su...</td>\n      <td>7.84</td>\n      <td>Comedy, Fantasy</td>\n      <td>OVA</td>\n      <td>1.0</td>\n      <td>Jun 24, 2016</td>\n      <td>UNKNOWN</td>\n      <td>Finished Airing</td>\n      <td>Studio Deen</td>\n      <td>Light novel</td>\n      <td>23 min</td>\n      <td>PG-13 - Teens 13 or older</td>\n      <td>833.0</td>\n      <td>549</td>\n      <td>633</td>\n      <td>249049.0</td>\n      <td>385635</td>\n      <td>https://cdn.myanimelist.net/images/anime/1649/...</td>\n    </tr>\n    <tr>\n      <th>11572</th>\n      <td>32937</td>\n      <td>Kono Subarashii Sekai ni Shukufuku wo! 2</td>\n      <td>8.27</td>\n      <td>Adventure, Comedy, Fantasy</td>\n      <td>TV</td>\n      <td>10.0</td>\n      <td>Jan 12, 2017 to Mar 16, 2017</td>\n      <td>winter 2017</td>\n      <td>Finished Airing</td>\n      <td>Studio Deen</td>\n      <td>Light novel</td>\n      <td>23 min per ep</td>\n      <td>PG-13 - Teens 13 or older</td>\n      <td>275.0</td>\n      <td>74</td>\n      <td>11709</td>\n      <td>957748.0</td>\n      <td>1437771</td>\n      <td>https://cdn.myanimelist.net/images/anime/2/831...</td>\n    </tr>\n    <tr>\n      <th>12451</th>\n      <td>34626</td>\n      <td>Kono Subarashii Sekai ni Shukufuku wo! 2: Kono...</td>\n      <td>8.03</td>\n      <td>Adventure, Comedy, Fantasy</td>\n      <td>OVA</td>\n      <td>1.0</td>\n      <td>Jul 24, 2017</td>\n      <td>UNKNOWN</td>\n      <td>Finished Airing</td>\n      <td>Studio Deen</td>\n      <td>Light novel</td>\n      <td>28 min</td>\n      <td>PG-13 - Teens 13 or older</td>\n      <td>544.0</td>\n      <td>621</td>\n      <td>721</td>\n      <td>213689.0</td>\n      <td>351228</td>\n      <td>https://cdn.myanimelist.net/images/anime/1115/...</td>\n    </tr>\n    <tr>\n      <th>14578</th>\n      <td>38040</td>\n      <td>Kono Subarashii Sekai ni Shukufuku wo! Movie: ...</td>\n      <td>8.45</td>\n      <td>Adventure, Comedy, Fantasy</td>\n      <td>Movie</td>\n      <td>1.0</td>\n      <td>Aug 30, 2019</td>\n      <td>UNKNOWN</td>\n      <td>Finished Airing</td>\n      <td>J.C.Staff</td>\n      <td>Light novel</td>\n      <td>1 hr 30 min</td>\n      <td>PG-13 - Teens 13 or older</td>\n      <td>144.0</td>\n      <td>247</td>\n      <td>4690</td>\n      <td>457103.0</td>\n      <td>725216</td>\n      <td>https://cdn.myanimelist.net/images/anime/1638/...</td>\n    </tr>\n    <tr>\n      <th>21335</th>\n      <td>49458</td>\n      <td>Kono Subarashii Sekai ni Shukufuku wo! 3</td>\n      <td>0.00</td>\n      <td>Adventure, Comedy, Fantasy</td>\n      <td>TV</td>\n      <td>UNKNOWN</td>\n      <td>Not available</td>\n      <td>UNKNOWN</td>\n      <td>Not yet aired</td>\n      <td>Drive</td>\n      <td>Light novel</td>\n      <td>Unknown</td>\n      <td>PG-13 - Teens 13 or older</td>\n      <td>NaN</td>\n      <td>1204</td>\n      <td>1618</td>\n      <td>NaN</td>\n      <td>183954</td>\n      <td>https://cdn.myanimelist.net/images/anime/1800/...</td>\n    </tr>\n    <tr>\n      <th>22581</th>\n      <td>51958</td>\n      <td>Kono Subarashii Sekai ni Bakuen wo!</td>\n      <td>7.60</td>\n      <td>Comedy, Fantasy</td>\n      <td>TV</td>\n      <td>12.0</td>\n      <td>Apr 6, 2023 to Jun 22, 2023</td>\n      <td>spring 2023</td>\n      <td>Currently Airing</td>\n      <td>Drive</td>\n      <td>Light novel</td>\n      <td>23 min per ep</td>\n      <td>PG-13 - Teens 13 or older</td>\n      <td>1378.0</td>\n      <td>941</td>\n      <td>1351</td>\n      <td>34595.0</td>\n      <td>237447</td>\n      <td>https://cdn.myanimelist.net/images/anime/1626/...</td>\n    </tr>\n  </tbody>\n</table>\n</div>"
     },
     "execution_count": 3,
     "metadata": {},
     "output_type": "execute_result"
    }
   ],
   "source": [
    "anime.loc[anime['Name'].str.contains('Kono Subarashi')]"
   ],
   "metadata": {
    "collapsed": false,
    "ExecuteTime": {
     "end_time": "2024-02-22T08:02:39.022819600Z",
     "start_time": "2024-02-22T08:02:38.960775500Z"
    }
   },
   "id": "9b3aedc7a0fb1356"
  },
  {
   "cell_type": "code",
   "execution_count": 90,
   "outputs": [],
   "source": [
    "df = pd.read_parquet('score/users_scores_0.parquet')"
   ],
   "metadata": {
    "collapsed": false,
    "ExecuteTime": {
     "end_time": "2024-02-12T16:49:27.110234900Z",
     "start_time": "2024-02-12T16:49:26.997792900Z"
    }
   },
   "id": "21a13d816fa52a34"
  },
  {
   "cell_type": "markdown",
   "source": [
    "# Define Useful Functions"
   ],
   "metadata": {
    "collapsed": false
   },
   "id": "80974ca7e1c0976a"
  },
  {
   "cell_type": "markdown",
   "source": [],
   "metadata": {
    "collapsed": false
   },
   "id": "d2d32c6b6e8aeeea"
  },
  {
   "cell_type": "code",
   "execution_count": 10,
   "outputs": [],
   "source": [
    "def find_similar_user_interactions(data, anime_list, min_anime_similar=3, max_members=50, max_anime_reviewed=500):\n",
    "    data['same'] = data['anime_id'].isin(anime_list)\n",
    "    grouped_data = data.groupby('user_id').agg(num_same=('same', 'sum'), count_review=('same', 'count')).reset_index()\n",
    "    grouped_data = grouped_data[\n",
    "                       (grouped_data['num_same'] >= min_anime_similar) & \n",
    "                       (grouped_data['count_review'] < max_anime_reviewed)\n",
    "                   ].sort_values(by='num_same', ascending=False).iloc[:max_members]\n",
    "    selected_users = grouped_data['user_id'].tolist()\n",
    "    return data.loc[data['user_id'].isin(selected_users)].drop('same', axis=1)"
   ],
   "metadata": {
    "collapsed": false,
    "ExecuteTime": {
     "end_time": "2024-02-12T21:41:01.533626400Z",
     "start_time": "2024-02-12T21:41:01.518309800Z"
    }
   },
   "id": "153e076f4293a905"
  },
  {
   "cell_type": "code",
   "execution_count": 11,
   "outputs": [],
   "source": [
    "def find_total_similar_user_interactions(anime_list, coverage=1, min_anime_similar=2, max_members=50, max_anime_reviewed=500):\n",
    "    users = []\n",
    "    counter = 0\n",
    "    files = np.arange(5)\n",
    "    np.random.shuffle(files)\n",
    "    \n",
    "    for i in files:\n",
    "        data = pd.read_parquet(f'score/users_scores_{i}.parquet')\n",
    "        temp = find_similar_user_interactions(data, anime_list, min_anime_similar, max_members - counter, max_anime_reviewed)\n",
    "        users.append(temp)\n",
    "        counter += len(temp)\n",
    "        \n",
    "        if counter >= max_members:\n",
    "            break\n",
    "            \n",
    "    return pd.concat(users, axis=0)"
   ],
   "metadata": {
    "collapsed": false,
    "ExecuteTime": {
     "end_time": "2024-02-12T21:41:01.863454900Z",
     "start_time": "2024-02-12T21:41:01.851782600Z"
    }
   },
   "id": "a5d07709370f91c7"
  },
  {
   "cell_type": "code",
   "execution_count": 12,
   "outputs": [],
   "source": [
    "def generate_rating(liked_book_list, rating=10):\n",
    "    interaction_list = []\n",
    "    for book in liked_book_list:\n",
    "        interaction_list.append([0, book, rating])\n",
    "    return pd.DataFrame(interaction_list, columns=['user_id', 'anime_id', 'rating'])"
   ],
   "metadata": {
    "collapsed": false,
    "ExecuteTime": {
     "end_time": "2024-02-12T21:41:02.600825700Z",
     "start_time": "2024-02-12T21:41:02.585554500Z"
    }
   },
   "id": "581ef21232d8b02e"
  },
  {
   "cell_type": "markdown",
   "source": [
    "# Actually using this"
   ],
   "metadata": {
    "collapsed": false
   },
   "id": "47def9e576669676"
  },
  {
   "cell_type": "code",
   "execution_count": 107,
   "outputs": [],
   "source": [
    "liked_anime_list = [1, 21, 40748, 10629]\n",
    "similar_interactions = find_total_similar_user_interactions(liked_anime_list, coverage=3, min_anime_similar=3, max_anime_reviewed=200)\n",
    "my_ratings = generate_rating(liked_anime_list, rating=10)\n",
    "interactions = pd.concat([my_ratings, similar_interactions], axis=0)"
   ],
   "metadata": {
    "collapsed": false,
    "ExecuteTime": {
     "end_time": "2024-02-12T21:15:01.068425Z",
     "start_time": "2024-02-12T21:14:59.935290600Z"
    }
   },
   "id": "429c79fed457db4a"
  },
  {
   "cell_type": "code",
   "execution_count": 108,
   "outputs": [],
   "source": [
    "interactions[\"user_index\"] = interactions[\"user_id\"].astype(\"category\").cat.codes\n",
    "interactions[\"anime_index\"] = interactions[\"anime_id\"].astype(\"category\").cat.codes"
   ],
   "metadata": {
    "collapsed": false,
    "ExecuteTime": {
     "end_time": "2024-02-12T21:15:01.139807100Z",
     "start_time": "2024-02-12T21:15:01.086287600Z"
    }
   },
   "id": "1904fa18b588147e"
  },
  {
   "cell_type": "code",
   "execution_count": 109,
   "outputs": [],
   "source": [
    "from scipy.sparse import coo_matrix\n",
    "rating_matrix_coo = coo_matrix((interactions['rating'], (interactions['user_index'], interactions['anime_index'])))"
   ],
   "metadata": {
    "collapsed": false,
    "ExecuteTime": {
     "end_time": "2024-02-12T21:15:01.217151300Z",
     "start_time": "2024-02-12T21:15:01.137594900Z"
    }
   },
   "id": "2d147aebef9ee4f5"
  },
  {
   "cell_type": "code",
   "execution_count": 110,
   "outputs": [],
   "source": [
    "rating_matrix = rating_matrix_coo.tocsr()"
   ],
   "metadata": {
    "collapsed": false,
    "ExecuteTime": {
     "end_time": "2024-02-12T21:15:02.101356900Z",
     "start_time": "2024-02-12T21:15:02.059321800Z"
    }
   },
   "id": "b803c090ada2e238"
  },
  {
   "cell_type": "code",
   "execution_count": 13,
   "outputs": [],
   "source": [
    "def create_recommendation_matrix(liked_anime_list):\n",
    "    similar_interactions = find_total_similar_user_interactions(liked_anime_list, coverage=3, min_anime_similar=3, max_anime_reviewed=200)\n",
    "    my_ratings = generate_rating(liked_anime_list, rating=10)\n",
    "    interactions = pd.concat([my_ratings, similar_interactions], axis=0)\n",
    "    \n",
    "    interactions[\"user_index\"] = interactions[\"user_id\"].astype(\"category\").cat.codes\n",
    "    interactions[\"anime_index\"] = interactions[\"anime_id\"].astype(\"category\").cat.codes\n",
    "    \n",
    "    from scipy.sparse import coo_matrix\n",
    "    rating_matrix_coo = coo_matrix((interactions['rating'], (interactions['user_index'], interactions['anime_index'])))\n",
    "    \n",
    "    \n",
    "    return rating_matrix_coo.tocsr(), interactions"
   ],
   "metadata": {
    "collapsed": false,
    "ExecuteTime": {
     "end_time": "2024-02-12T21:41:05.823492Z",
     "start_time": "2024-02-12T21:41:05.801498200Z"
    }
   },
   "id": "9770eed2b69ec0f"
  },
  {
   "cell_type": "markdown",
   "source": [
    "# Let's recommend stuff"
   ],
   "metadata": {
    "collapsed": false
   },
   "id": "d04280f701c968c9"
  },
  {
   "cell_type": "code",
   "execution_count": 14,
   "outputs": [],
   "source": [
    "def create_anime_recommendation_df(rating_matrix, interactions):\n",
    "    \n",
    "    my_index = interactions.loc[interactions.user_id==0]['user_index'][0]\n",
    "    \n",
    "    from sklearn.metrics.pairwise import cosine_similarity\n",
    "    similarity = cosine_similarity(rating_matrix[my_index, :], rating_matrix).flatten()\n",
    "    similar_user_indices = np.argpartition(similarity, -15)[-15:]\n",
    "    \n",
    "    similar_users = interactions.loc[interactions['user_index'].isin(similar_user_indices)].copy()\n",
    "    similar_users = similar_users.loc[similar_users['user_id'] != 0].reset_index().drop('index', axis=1)\n",
    "    \n",
    "    anime_recs = similar_users.groupby('anime_id').rating.agg(['count', 'mean'])\n",
    "    return anime_recs"
   ],
   "metadata": {
    "collapsed": false,
    "ExecuteTime": {
     "end_time": "2024-02-12T21:41:06.946784400Z",
     "start_time": "2024-02-12T21:41:06.936326800Z"
    }
   },
   "id": "1218db32d19e5d7b"
  },
  {
   "cell_type": "code",
   "execution_count": 111,
   "outputs": [],
   "source": [
    "my_index = interactions.loc[interactions.user_id==0]['user_index'][0]"
   ],
   "metadata": {
    "collapsed": false,
    "ExecuteTime": {
     "end_time": "2024-02-12T21:15:03.448385500Z",
     "start_time": "2024-02-12T21:15:03.435565400Z"
    }
   },
   "id": "88049b18337367bb"
  },
  {
   "cell_type": "code",
   "execution_count": 112,
   "outputs": [],
   "source": [
    "from sklearn.metrics.pairwise import cosine_similarity\n",
    "similarity = cosine_similarity(rating_matrix[my_index, :], rating_matrix).flatten()"
   ],
   "metadata": {
    "collapsed": false,
    "ExecuteTime": {
     "end_time": "2024-02-12T21:15:03.690951600Z",
     "start_time": "2024-02-12T21:15:03.639710600Z"
    }
   },
   "id": "d5a185d338d673e7"
  },
  {
   "cell_type": "code",
   "execution_count": 113,
   "outputs": [],
   "source": [
    "similar_user_indices = np.argpartition(similarity, -15)[-15:]"
   ],
   "metadata": {
    "collapsed": false,
    "ExecuteTime": {
     "end_time": "2024-02-12T21:15:03.914421Z",
     "start_time": "2024-02-12T21:15:03.893535200Z"
    }
   },
   "id": "df47973dbbdaed2e"
  },
  {
   "cell_type": "code",
   "execution_count": 114,
   "outputs": [],
   "source": [
    "similar_users = interactions.loc[interactions['user_index'].isin(similar_user_indices)].copy()\n",
    "similar_users = similar_users.loc[similar_users['user_id'] != 0].reset_index().drop('index', axis=1)"
   ],
   "metadata": {
    "collapsed": false,
    "ExecuteTime": {
     "end_time": "2024-02-12T21:15:04.208050100Z",
     "start_time": "2024-02-12T21:15:04.168635500Z"
    }
   },
   "id": "29d1ff93f012afd1"
  },
  {
   "cell_type": "code",
   "execution_count": 115,
   "outputs": [],
   "source": [
    "anime_recs = similar_users.groupby('anime_id').rating.agg(['count', 'mean'])"
   ],
   "metadata": {
    "collapsed": false,
    "ExecuteTime": {
     "end_time": "2024-02-12T21:15:04.623613100Z",
     "start_time": "2024-02-12T21:15:04.591662800Z"
    }
   },
   "id": "35c86f8aad456dd"
  },
  {
   "cell_type": "code",
   "execution_count": 15,
   "outputs": [],
   "source": [
    "def recommend_anime(anime_recs, min_count=2, min_mean=7):\n",
    "    anime_list = pd.read_parquet('anime/anime.parquet')\n",
    "    merged = pd.merge(anime_recs, anime_list, how='inner', on='anime_id')\n",
    "    \n",
    "    # Filter out already watched anime\n",
    "    merged = merged.loc[~merged['anime_id'].isin(liked_anime_list)]\n",
    "    merged = merged.loc[(merged['count'] > min_count) & (merged['mean'] > min_mean)]\n",
    "    \n",
    "    # Rank the recommendation\n",
    "    merged['adjusted_count'] = merged['count'] * merged['count'] / np.log10(merged['Scored By'])\n",
    "    merged['recommend_score'] = merged['mean'] * merged['adjusted_count']\n",
    "    merged.sort_values(\"recommend_score\", ascending=False, inplace=True)\n",
    "    \n",
    "    return merged"
   ],
   "metadata": {
    "collapsed": false,
    "ExecuteTime": {
     "end_time": "2024-02-12T21:41:11.178674700Z",
     "start_time": "2024-02-12T21:41:11.160013500Z"
    }
   },
   "id": "2fd1767014d23cbf"
  },
  {
   "cell_type": "code",
   "execution_count": 119,
   "outputs": [
    {
     "data": {
      "text/plain": "     anime_id  count      mean                              Name  Score  \\\n239      1535     13  8.307692                        Death Note   8.62   \n522     16498     12  9.000000                Shingeki no Kyojin   8.54   \n253      1735     12  8.333333                Naruto: Shippuuden   8.26   \n44        121     11  8.454545               Fullmetal Alchemist   8.11   \n93        269     11  8.181818                            Bleach   7.92   \n..        ...    ...       ...                               ...    ...   \n132       481      3  7.333333           Yu☆Gi☆Oh! Duel Monsters   7.48   \n197       889      3  7.666667                      Black Lagoon   8.03   \n237      1519      3  7.333333  Black Lagoon: The Second Barrage   8.17   \n549     22535      3  8.000000        Kiseijuu: Sei no Kakuritsu   8.34   \n682     37349      3  7.666667                     Goblin Slayer   7.42   \n\n                                               Genres Type Episodes  \\\n239                            Supernatural, Suspense   TV     37.0   \n522            Action, Award Winning, Drama, Suspense   TV     25.0   \n253                        Action, Adventure, Fantasy   TV    500.0   \n44   Action, Adventure, Award Winning, Drama, Fantasy   TV     51.0   \n93                         Action, Adventure, Fantasy   TV    366.0   \n..                                                ...  ...      ...   \n132                        Action, Adventure, Fantasy   TV    224.0   \n197                                            Action   TV     12.0   \n237                                            Action   TV     12.0   \n549                            Action, Horror, Sci-Fi   TV     24.0   \n682                        Action, Adventure, Fantasy   TV     12.0   \n\n                            Aired    Premiered  ...       Duration  \\\n239   Oct 4, 2006 to Jun 27, 2007    fall 2006  ...  23 min per ep   \n522   Apr 7, 2013 to Sep 29, 2013  spring 2013  ...  24 min per ep   \n253  Feb 15, 2007 to Mar 23, 2017  winter 2007  ...  23 min per ep   \n44     Oct 4, 2003 to Oct 2, 2004    fall 2003  ...  24 min per ep   \n93    Oct 5, 2004 to Mar 27, 2012    fall 2004  ...  24 min per ep   \n..                            ...          ...  ...            ...   \n132  Apr 18, 2000 to Sep 29, 2004  spring 2000  ...  23 min per ep   \n197   Apr 9, 2006 to Jun 25, 2006  spring 2006  ...  23 min per ep   \n237   Oct 3, 2006 to Dec 19, 2006    fall 2006  ...  23 min per ep   \n549   Oct 9, 2014 to Mar 26, 2015    fall 2014  ...  23 min per ep   \n682   Oct 7, 2018 to Dec 30, 2018    fall 2018  ...  23 min per ep   \n\n                             Rating    Rank Popularity Favorites  Scored By  \\\n239  R - 17+ (violence & profanity)    74.0          2    167586  2619479.0   \n522  R - 17+ (violence & profanity)   107.0          1    163844  2660903.0   \n253       PG-13 - Teens 13 or older   278.0         15    107735  1569553.0   \n44   R - 17+ (violence & profanity)   454.0         76     25502   868434.0   \n93        PG-13 - Teens 13 or older   686.0         39     68896  1069200.0   \n..                              ...     ...        ...       ...        ...   \n132       PG-13 - Teens 13 or older  1776.0        560      4558   243219.0   \n197  R - 17+ (violence & profanity)   544.0        153     17759   471583.0   \n237  R - 17+ (violence & profanity)   380.0        412      2988   304997.0   \n549  R - 17+ (violence & profanity)   210.0         42     33548  1103538.0   \n682  R - 17+ (violence & profanity)  2013.0        133      6984   627847.0   \n\n     Members                                          Image URL  \\\n239  3713315  https://cdn.myanimelist.net/images/anime/9/945...   \n522  3744541  https://cdn.myanimelist.net/images/anime/10/47...   \n253  2349413  https://cdn.myanimelist.net/images/anime/1565/...   \n44   1426703  https://cdn.myanimelist.net/images/anime/10/75...   \n93   1856976  https://cdn.myanimelist.net/images/anime/3/404...   \n..       ...                                                ...   \n132   381676  https://cdn.myanimelist.net/images/anime/3/770...   \n197   959701  https://cdn.myanimelist.net/images/anime/1906/...   \n237   496265  https://cdn.myanimelist.net/images/anime/3/837...   \n549  1781551  https://cdn.myanimelist.net/images/anime/3/731...   \n682  1048766  https://cdn.myanimelist.net/images/anime/1719/...   \n\n     adjusted_count  recommend_score  \n239       26.331309       218.752413  \n522       22.412350       201.711150  \n253       23.241641       193.680340  \n44        20.374703       172.258854  \n93        20.069467       164.204730  \n..              ...              ...  \n132        1.671000        12.253998  \n197        1.586306        12.161680  \n237        1.641049        12.034362  \n549        1.489379        11.915031  \n682        1.552299        11.900955  \n\n[103 rows x 23 columns]",
      "text/html": "<div>\n<style scoped>\n    .dataframe tbody tr th:only-of-type {\n        vertical-align: middle;\n    }\n\n    .dataframe tbody tr th {\n        vertical-align: top;\n    }\n\n    .dataframe thead th {\n        text-align: right;\n    }\n</style>\n<table border=\"1\" class=\"dataframe\">\n  <thead>\n    <tr style=\"text-align: right;\">\n      <th></th>\n      <th>anime_id</th>\n      <th>count</th>\n      <th>mean</th>\n      <th>Name</th>\n      <th>Score</th>\n      <th>Genres</th>\n      <th>Type</th>\n      <th>Episodes</th>\n      <th>Aired</th>\n      <th>Premiered</th>\n      <th>...</th>\n      <th>Duration</th>\n      <th>Rating</th>\n      <th>Rank</th>\n      <th>Popularity</th>\n      <th>Favorites</th>\n      <th>Scored By</th>\n      <th>Members</th>\n      <th>Image URL</th>\n      <th>adjusted_count</th>\n      <th>recommend_score</th>\n    </tr>\n  </thead>\n  <tbody>\n    <tr>\n      <th>239</th>\n      <td>1535</td>\n      <td>13</td>\n      <td>8.307692</td>\n      <td>Death Note</td>\n      <td>8.62</td>\n      <td>Supernatural, Suspense</td>\n      <td>TV</td>\n      <td>37.0</td>\n      <td>Oct 4, 2006 to Jun 27, 2007</td>\n      <td>fall 2006</td>\n      <td>...</td>\n      <td>23 min per ep</td>\n      <td>R - 17+ (violence &amp; profanity)</td>\n      <td>74.0</td>\n      <td>2</td>\n      <td>167586</td>\n      <td>2619479.0</td>\n      <td>3713315</td>\n      <td>https://cdn.myanimelist.net/images/anime/9/945...</td>\n      <td>26.331309</td>\n      <td>218.752413</td>\n    </tr>\n    <tr>\n      <th>522</th>\n      <td>16498</td>\n      <td>12</td>\n      <td>9.000000</td>\n      <td>Shingeki no Kyojin</td>\n      <td>8.54</td>\n      <td>Action, Award Winning, Drama, Suspense</td>\n      <td>TV</td>\n      <td>25.0</td>\n      <td>Apr 7, 2013 to Sep 29, 2013</td>\n      <td>spring 2013</td>\n      <td>...</td>\n      <td>24 min per ep</td>\n      <td>R - 17+ (violence &amp; profanity)</td>\n      <td>107.0</td>\n      <td>1</td>\n      <td>163844</td>\n      <td>2660903.0</td>\n      <td>3744541</td>\n      <td>https://cdn.myanimelist.net/images/anime/10/47...</td>\n      <td>22.412350</td>\n      <td>201.711150</td>\n    </tr>\n    <tr>\n      <th>253</th>\n      <td>1735</td>\n      <td>12</td>\n      <td>8.333333</td>\n      <td>Naruto: Shippuuden</td>\n      <td>8.26</td>\n      <td>Action, Adventure, Fantasy</td>\n      <td>TV</td>\n      <td>500.0</td>\n      <td>Feb 15, 2007 to Mar 23, 2017</td>\n      <td>winter 2007</td>\n      <td>...</td>\n      <td>23 min per ep</td>\n      <td>PG-13 - Teens 13 or older</td>\n      <td>278.0</td>\n      <td>15</td>\n      <td>107735</td>\n      <td>1569553.0</td>\n      <td>2349413</td>\n      <td>https://cdn.myanimelist.net/images/anime/1565/...</td>\n      <td>23.241641</td>\n      <td>193.680340</td>\n    </tr>\n    <tr>\n      <th>44</th>\n      <td>121</td>\n      <td>11</td>\n      <td>8.454545</td>\n      <td>Fullmetal Alchemist</td>\n      <td>8.11</td>\n      <td>Action, Adventure, Award Winning, Drama, Fantasy</td>\n      <td>TV</td>\n      <td>51.0</td>\n      <td>Oct 4, 2003 to Oct 2, 2004</td>\n      <td>fall 2003</td>\n      <td>...</td>\n      <td>24 min per ep</td>\n      <td>R - 17+ (violence &amp; profanity)</td>\n      <td>454.0</td>\n      <td>76</td>\n      <td>25502</td>\n      <td>868434.0</td>\n      <td>1426703</td>\n      <td>https://cdn.myanimelist.net/images/anime/10/75...</td>\n      <td>20.374703</td>\n      <td>172.258854</td>\n    </tr>\n    <tr>\n      <th>93</th>\n      <td>269</td>\n      <td>11</td>\n      <td>8.181818</td>\n      <td>Bleach</td>\n      <td>7.92</td>\n      <td>Action, Adventure, Fantasy</td>\n      <td>TV</td>\n      <td>366.0</td>\n      <td>Oct 5, 2004 to Mar 27, 2012</td>\n      <td>fall 2004</td>\n      <td>...</td>\n      <td>24 min per ep</td>\n      <td>PG-13 - Teens 13 or older</td>\n      <td>686.0</td>\n      <td>39</td>\n      <td>68896</td>\n      <td>1069200.0</td>\n      <td>1856976</td>\n      <td>https://cdn.myanimelist.net/images/anime/3/404...</td>\n      <td>20.069467</td>\n      <td>164.204730</td>\n    </tr>\n    <tr>\n      <th>...</th>\n      <td>...</td>\n      <td>...</td>\n      <td>...</td>\n      <td>...</td>\n      <td>...</td>\n      <td>...</td>\n      <td>...</td>\n      <td>...</td>\n      <td>...</td>\n      <td>...</td>\n      <td>...</td>\n      <td>...</td>\n      <td>...</td>\n      <td>...</td>\n      <td>...</td>\n      <td>...</td>\n      <td>...</td>\n      <td>...</td>\n      <td>...</td>\n      <td>...</td>\n      <td>...</td>\n    </tr>\n    <tr>\n      <th>132</th>\n      <td>481</td>\n      <td>3</td>\n      <td>7.333333</td>\n      <td>Yu☆Gi☆Oh! Duel Monsters</td>\n      <td>7.48</td>\n      <td>Action, Adventure, Fantasy</td>\n      <td>TV</td>\n      <td>224.0</td>\n      <td>Apr 18, 2000 to Sep 29, 2004</td>\n      <td>spring 2000</td>\n      <td>...</td>\n      <td>23 min per ep</td>\n      <td>PG-13 - Teens 13 or older</td>\n      <td>1776.0</td>\n      <td>560</td>\n      <td>4558</td>\n      <td>243219.0</td>\n      <td>381676</td>\n      <td>https://cdn.myanimelist.net/images/anime/3/770...</td>\n      <td>1.671000</td>\n      <td>12.253998</td>\n    </tr>\n    <tr>\n      <th>197</th>\n      <td>889</td>\n      <td>3</td>\n      <td>7.666667</td>\n      <td>Black Lagoon</td>\n      <td>8.03</td>\n      <td>Action</td>\n      <td>TV</td>\n      <td>12.0</td>\n      <td>Apr 9, 2006 to Jun 25, 2006</td>\n      <td>spring 2006</td>\n      <td>...</td>\n      <td>23 min per ep</td>\n      <td>R - 17+ (violence &amp; profanity)</td>\n      <td>544.0</td>\n      <td>153</td>\n      <td>17759</td>\n      <td>471583.0</td>\n      <td>959701</td>\n      <td>https://cdn.myanimelist.net/images/anime/1906/...</td>\n      <td>1.586306</td>\n      <td>12.161680</td>\n    </tr>\n    <tr>\n      <th>237</th>\n      <td>1519</td>\n      <td>3</td>\n      <td>7.333333</td>\n      <td>Black Lagoon: The Second Barrage</td>\n      <td>8.17</td>\n      <td>Action</td>\n      <td>TV</td>\n      <td>12.0</td>\n      <td>Oct 3, 2006 to Dec 19, 2006</td>\n      <td>fall 2006</td>\n      <td>...</td>\n      <td>23 min per ep</td>\n      <td>R - 17+ (violence &amp; profanity)</td>\n      <td>380.0</td>\n      <td>412</td>\n      <td>2988</td>\n      <td>304997.0</td>\n      <td>496265</td>\n      <td>https://cdn.myanimelist.net/images/anime/3/837...</td>\n      <td>1.641049</td>\n      <td>12.034362</td>\n    </tr>\n    <tr>\n      <th>549</th>\n      <td>22535</td>\n      <td>3</td>\n      <td>8.000000</td>\n      <td>Kiseijuu: Sei no Kakuritsu</td>\n      <td>8.34</td>\n      <td>Action, Horror, Sci-Fi</td>\n      <td>TV</td>\n      <td>24.0</td>\n      <td>Oct 9, 2014 to Mar 26, 2015</td>\n      <td>fall 2014</td>\n      <td>...</td>\n      <td>23 min per ep</td>\n      <td>R - 17+ (violence &amp; profanity)</td>\n      <td>210.0</td>\n      <td>42</td>\n      <td>33548</td>\n      <td>1103538.0</td>\n      <td>1781551</td>\n      <td>https://cdn.myanimelist.net/images/anime/3/731...</td>\n      <td>1.489379</td>\n      <td>11.915031</td>\n    </tr>\n    <tr>\n      <th>682</th>\n      <td>37349</td>\n      <td>3</td>\n      <td>7.666667</td>\n      <td>Goblin Slayer</td>\n      <td>7.42</td>\n      <td>Action, Adventure, Fantasy</td>\n      <td>TV</td>\n      <td>12.0</td>\n      <td>Oct 7, 2018 to Dec 30, 2018</td>\n      <td>fall 2018</td>\n      <td>...</td>\n      <td>23 min per ep</td>\n      <td>R - 17+ (violence &amp; profanity)</td>\n      <td>2013.0</td>\n      <td>133</td>\n      <td>6984</td>\n      <td>627847.0</td>\n      <td>1048766</td>\n      <td>https://cdn.myanimelist.net/images/anime/1719/...</td>\n      <td>1.552299</td>\n      <td>11.900955</td>\n    </tr>\n  </tbody>\n</table>\n<p>103 rows × 23 columns</p>\n</div>"
     },
     "execution_count": 119,
     "metadata": {},
     "output_type": "execute_result"
    }
   ],
   "source": [
    "recommend_anime(anime_recs)"
   ],
   "metadata": {
    "collapsed": false,
    "ExecuteTime": {
     "end_time": "2024-02-12T21:15:08.136707Z",
     "start_time": "2024-02-12T21:15:08.012545300Z"
    }
   },
   "id": "328b07b37a46d44c"
  },
  {
   "cell_type": "markdown",
   "source": [
    "# Recap"
   ],
   "metadata": {
    "collapsed": false
   },
   "id": "9da5d4a5fac139e4"
  },
  {
   "cell_type": "code",
   "execution_count": 16,
   "outputs": [
    {
     "data": {
      "text/plain": "     anime_id  count      mean                              Name  Score  \\\n239      1535     13  8.307692                        Death Note   8.62   \n522     16498     12  9.000000                Shingeki no Kyojin   8.54   \n253      1735     12  8.333333                Naruto: Shippuuden   8.26   \n44        121     11  8.454545               Fullmetal Alchemist   8.11   \n93        269     11  8.181818                            Bleach   7.92   \n..        ...    ...       ...                               ...    ...   \n132       481      3  7.333333           Yu☆Gi☆Oh! Duel Monsters   7.48   \n197       889      3  7.666667                      Black Lagoon   8.03   \n237      1519      3  7.333333  Black Lagoon: The Second Barrage   8.17   \n549     22535      3  8.000000        Kiseijuu: Sei no Kakuritsu   8.34   \n682     37349      3  7.666667                     Goblin Slayer   7.42   \n\n                                               Genres Type Episodes  \\\n239                            Supernatural, Suspense   TV     37.0   \n522            Action, Award Winning, Drama, Suspense   TV     25.0   \n253                        Action, Adventure, Fantasy   TV    500.0   \n44   Action, Adventure, Award Winning, Drama, Fantasy   TV     51.0   \n93                         Action, Adventure, Fantasy   TV    366.0   \n..                                                ...  ...      ...   \n132                        Action, Adventure, Fantasy   TV    224.0   \n197                                            Action   TV     12.0   \n237                                            Action   TV     12.0   \n549                            Action, Horror, Sci-Fi   TV     24.0   \n682                        Action, Adventure, Fantasy   TV     12.0   \n\n                            Aired    Premiered  ...       Duration  \\\n239   Oct 4, 2006 to Jun 27, 2007    fall 2006  ...  23 min per ep   \n522   Apr 7, 2013 to Sep 29, 2013  spring 2013  ...  24 min per ep   \n253  Feb 15, 2007 to Mar 23, 2017  winter 2007  ...  23 min per ep   \n44     Oct 4, 2003 to Oct 2, 2004    fall 2003  ...  24 min per ep   \n93    Oct 5, 2004 to Mar 27, 2012    fall 2004  ...  24 min per ep   \n..                            ...          ...  ...            ...   \n132  Apr 18, 2000 to Sep 29, 2004  spring 2000  ...  23 min per ep   \n197   Apr 9, 2006 to Jun 25, 2006  spring 2006  ...  23 min per ep   \n237   Oct 3, 2006 to Dec 19, 2006    fall 2006  ...  23 min per ep   \n549   Oct 9, 2014 to Mar 26, 2015    fall 2014  ...  23 min per ep   \n682   Oct 7, 2018 to Dec 30, 2018    fall 2018  ...  23 min per ep   \n\n                             Rating    Rank Popularity Favorites  Scored By  \\\n239  R - 17+ (violence & profanity)    74.0          2    167586  2619479.0   \n522  R - 17+ (violence & profanity)   107.0          1    163844  2660903.0   \n253       PG-13 - Teens 13 or older   278.0         15    107735  1569553.0   \n44   R - 17+ (violence & profanity)   454.0         76     25502   868434.0   \n93        PG-13 - Teens 13 or older   686.0         39     68896  1069200.0   \n..                              ...     ...        ...       ...        ...   \n132       PG-13 - Teens 13 or older  1776.0        560      4558   243219.0   \n197  R - 17+ (violence & profanity)   544.0        153     17759   471583.0   \n237  R - 17+ (violence & profanity)   380.0        412      2988   304997.0   \n549  R - 17+ (violence & profanity)   210.0         42     33548  1103538.0   \n682  R - 17+ (violence & profanity)  2013.0        133      6984   627847.0   \n\n     Members                                          Image URL  \\\n239  3713315  https://cdn.myanimelist.net/images/anime/9/945...   \n522  3744541  https://cdn.myanimelist.net/images/anime/10/47...   \n253  2349413  https://cdn.myanimelist.net/images/anime/1565/...   \n44   1426703  https://cdn.myanimelist.net/images/anime/10/75...   \n93   1856976  https://cdn.myanimelist.net/images/anime/3/404...   \n..       ...                                                ...   \n132   381676  https://cdn.myanimelist.net/images/anime/3/770...   \n197   959701  https://cdn.myanimelist.net/images/anime/1906/...   \n237   496265  https://cdn.myanimelist.net/images/anime/3/837...   \n549  1781551  https://cdn.myanimelist.net/images/anime/3/731...   \n682  1048766  https://cdn.myanimelist.net/images/anime/1719/...   \n\n     adjusted_count  recommend_score  \n239       26.331309       218.752413  \n522       22.412350       201.711150  \n253       23.241641       193.680340  \n44        20.374703       172.258854  \n93        20.069467       164.204730  \n..              ...              ...  \n132        1.671000        12.253998  \n197        1.586306        12.161680  \n237        1.641049        12.034362  \n549        1.489379        11.915031  \n682        1.552299        11.900955  \n\n[103 rows x 23 columns]",
      "text/html": "<div>\n<style scoped>\n    .dataframe tbody tr th:only-of-type {\n        vertical-align: middle;\n    }\n\n    .dataframe tbody tr th {\n        vertical-align: top;\n    }\n\n    .dataframe thead th {\n        text-align: right;\n    }\n</style>\n<table border=\"1\" class=\"dataframe\">\n  <thead>\n    <tr style=\"text-align: right;\">\n      <th></th>\n      <th>anime_id</th>\n      <th>count</th>\n      <th>mean</th>\n      <th>Name</th>\n      <th>Score</th>\n      <th>Genres</th>\n      <th>Type</th>\n      <th>Episodes</th>\n      <th>Aired</th>\n      <th>Premiered</th>\n      <th>...</th>\n      <th>Duration</th>\n      <th>Rating</th>\n      <th>Rank</th>\n      <th>Popularity</th>\n      <th>Favorites</th>\n      <th>Scored By</th>\n      <th>Members</th>\n      <th>Image URL</th>\n      <th>adjusted_count</th>\n      <th>recommend_score</th>\n    </tr>\n  </thead>\n  <tbody>\n    <tr>\n      <th>239</th>\n      <td>1535</td>\n      <td>13</td>\n      <td>8.307692</td>\n      <td>Death Note</td>\n      <td>8.62</td>\n      <td>Supernatural, Suspense</td>\n      <td>TV</td>\n      <td>37.0</td>\n      <td>Oct 4, 2006 to Jun 27, 2007</td>\n      <td>fall 2006</td>\n      <td>...</td>\n      <td>23 min per ep</td>\n      <td>R - 17+ (violence &amp; profanity)</td>\n      <td>74.0</td>\n      <td>2</td>\n      <td>167586</td>\n      <td>2619479.0</td>\n      <td>3713315</td>\n      <td>https://cdn.myanimelist.net/images/anime/9/945...</td>\n      <td>26.331309</td>\n      <td>218.752413</td>\n    </tr>\n    <tr>\n      <th>522</th>\n      <td>16498</td>\n      <td>12</td>\n      <td>9.000000</td>\n      <td>Shingeki no Kyojin</td>\n      <td>8.54</td>\n      <td>Action, Award Winning, Drama, Suspense</td>\n      <td>TV</td>\n      <td>25.0</td>\n      <td>Apr 7, 2013 to Sep 29, 2013</td>\n      <td>spring 2013</td>\n      <td>...</td>\n      <td>24 min per ep</td>\n      <td>R - 17+ (violence &amp; profanity)</td>\n      <td>107.0</td>\n      <td>1</td>\n      <td>163844</td>\n      <td>2660903.0</td>\n      <td>3744541</td>\n      <td>https://cdn.myanimelist.net/images/anime/10/47...</td>\n      <td>22.412350</td>\n      <td>201.711150</td>\n    </tr>\n    <tr>\n      <th>253</th>\n      <td>1735</td>\n      <td>12</td>\n      <td>8.333333</td>\n      <td>Naruto: Shippuuden</td>\n      <td>8.26</td>\n      <td>Action, Adventure, Fantasy</td>\n      <td>TV</td>\n      <td>500.0</td>\n      <td>Feb 15, 2007 to Mar 23, 2017</td>\n      <td>winter 2007</td>\n      <td>...</td>\n      <td>23 min per ep</td>\n      <td>PG-13 - Teens 13 or older</td>\n      <td>278.0</td>\n      <td>15</td>\n      <td>107735</td>\n      <td>1569553.0</td>\n      <td>2349413</td>\n      <td>https://cdn.myanimelist.net/images/anime/1565/...</td>\n      <td>23.241641</td>\n      <td>193.680340</td>\n    </tr>\n    <tr>\n      <th>44</th>\n      <td>121</td>\n      <td>11</td>\n      <td>8.454545</td>\n      <td>Fullmetal Alchemist</td>\n      <td>8.11</td>\n      <td>Action, Adventure, Award Winning, Drama, Fantasy</td>\n      <td>TV</td>\n      <td>51.0</td>\n      <td>Oct 4, 2003 to Oct 2, 2004</td>\n      <td>fall 2003</td>\n      <td>...</td>\n      <td>24 min per ep</td>\n      <td>R - 17+ (violence &amp; profanity)</td>\n      <td>454.0</td>\n      <td>76</td>\n      <td>25502</td>\n      <td>868434.0</td>\n      <td>1426703</td>\n      <td>https://cdn.myanimelist.net/images/anime/10/75...</td>\n      <td>20.374703</td>\n      <td>172.258854</td>\n    </tr>\n    <tr>\n      <th>93</th>\n      <td>269</td>\n      <td>11</td>\n      <td>8.181818</td>\n      <td>Bleach</td>\n      <td>7.92</td>\n      <td>Action, Adventure, Fantasy</td>\n      <td>TV</td>\n      <td>366.0</td>\n      <td>Oct 5, 2004 to Mar 27, 2012</td>\n      <td>fall 2004</td>\n      <td>...</td>\n      <td>24 min per ep</td>\n      <td>PG-13 - Teens 13 or older</td>\n      <td>686.0</td>\n      <td>39</td>\n      <td>68896</td>\n      <td>1069200.0</td>\n      <td>1856976</td>\n      <td>https://cdn.myanimelist.net/images/anime/3/404...</td>\n      <td>20.069467</td>\n      <td>164.204730</td>\n    </tr>\n    <tr>\n      <th>...</th>\n      <td>...</td>\n      <td>...</td>\n      <td>...</td>\n      <td>...</td>\n      <td>...</td>\n      <td>...</td>\n      <td>...</td>\n      <td>...</td>\n      <td>...</td>\n      <td>...</td>\n      <td>...</td>\n      <td>...</td>\n      <td>...</td>\n      <td>...</td>\n      <td>...</td>\n      <td>...</td>\n      <td>...</td>\n      <td>...</td>\n      <td>...</td>\n      <td>...</td>\n      <td>...</td>\n    </tr>\n    <tr>\n      <th>132</th>\n      <td>481</td>\n      <td>3</td>\n      <td>7.333333</td>\n      <td>Yu☆Gi☆Oh! Duel Monsters</td>\n      <td>7.48</td>\n      <td>Action, Adventure, Fantasy</td>\n      <td>TV</td>\n      <td>224.0</td>\n      <td>Apr 18, 2000 to Sep 29, 2004</td>\n      <td>spring 2000</td>\n      <td>...</td>\n      <td>23 min per ep</td>\n      <td>PG-13 - Teens 13 or older</td>\n      <td>1776.0</td>\n      <td>560</td>\n      <td>4558</td>\n      <td>243219.0</td>\n      <td>381676</td>\n      <td>https://cdn.myanimelist.net/images/anime/3/770...</td>\n      <td>1.671000</td>\n      <td>12.253998</td>\n    </tr>\n    <tr>\n      <th>197</th>\n      <td>889</td>\n      <td>3</td>\n      <td>7.666667</td>\n      <td>Black Lagoon</td>\n      <td>8.03</td>\n      <td>Action</td>\n      <td>TV</td>\n      <td>12.0</td>\n      <td>Apr 9, 2006 to Jun 25, 2006</td>\n      <td>spring 2006</td>\n      <td>...</td>\n      <td>23 min per ep</td>\n      <td>R - 17+ (violence &amp; profanity)</td>\n      <td>544.0</td>\n      <td>153</td>\n      <td>17759</td>\n      <td>471583.0</td>\n      <td>959701</td>\n      <td>https://cdn.myanimelist.net/images/anime/1906/...</td>\n      <td>1.586306</td>\n      <td>12.161680</td>\n    </tr>\n    <tr>\n      <th>237</th>\n      <td>1519</td>\n      <td>3</td>\n      <td>7.333333</td>\n      <td>Black Lagoon: The Second Barrage</td>\n      <td>8.17</td>\n      <td>Action</td>\n      <td>TV</td>\n      <td>12.0</td>\n      <td>Oct 3, 2006 to Dec 19, 2006</td>\n      <td>fall 2006</td>\n      <td>...</td>\n      <td>23 min per ep</td>\n      <td>R - 17+ (violence &amp; profanity)</td>\n      <td>380.0</td>\n      <td>412</td>\n      <td>2988</td>\n      <td>304997.0</td>\n      <td>496265</td>\n      <td>https://cdn.myanimelist.net/images/anime/3/837...</td>\n      <td>1.641049</td>\n      <td>12.034362</td>\n    </tr>\n    <tr>\n      <th>549</th>\n      <td>22535</td>\n      <td>3</td>\n      <td>8.000000</td>\n      <td>Kiseijuu: Sei no Kakuritsu</td>\n      <td>8.34</td>\n      <td>Action, Horror, Sci-Fi</td>\n      <td>TV</td>\n      <td>24.0</td>\n      <td>Oct 9, 2014 to Mar 26, 2015</td>\n      <td>fall 2014</td>\n      <td>...</td>\n      <td>23 min per ep</td>\n      <td>R - 17+ (violence &amp; profanity)</td>\n      <td>210.0</td>\n      <td>42</td>\n      <td>33548</td>\n      <td>1103538.0</td>\n      <td>1781551</td>\n      <td>https://cdn.myanimelist.net/images/anime/3/731...</td>\n      <td>1.489379</td>\n      <td>11.915031</td>\n    </tr>\n    <tr>\n      <th>682</th>\n      <td>37349</td>\n      <td>3</td>\n      <td>7.666667</td>\n      <td>Goblin Slayer</td>\n      <td>7.42</td>\n      <td>Action, Adventure, Fantasy</td>\n      <td>TV</td>\n      <td>12.0</td>\n      <td>Oct 7, 2018 to Dec 30, 2018</td>\n      <td>fall 2018</td>\n      <td>...</td>\n      <td>23 min per ep</td>\n      <td>R - 17+ (violence &amp; profanity)</td>\n      <td>2013.0</td>\n      <td>133</td>\n      <td>6984</td>\n      <td>627847.0</td>\n      <td>1048766</td>\n      <td>https://cdn.myanimelist.net/images/anime/1719/...</td>\n      <td>1.552299</td>\n      <td>11.900955</td>\n    </tr>\n  </tbody>\n</table>\n<p>103 rows × 23 columns</p>\n</div>"
     },
     "execution_count": 16,
     "metadata": {},
     "output_type": "execute_result"
    }
   ],
   "source": [
    "liked_anime_list = [1, 21, 40748, 10629]\n",
    "rating_matrix, interactions = create_recommendation_matrix(liked_anime_list)\n",
    "anime_recs = create_anime_recommendation_df(rating_matrix, interactions)\n",
    "recommend_anime(anime_recs)"
   ],
   "metadata": {
    "collapsed": false,
    "ExecuteTime": {
     "end_time": "2024-02-12T21:41:15.249022500Z",
     "start_time": "2024-02-12T21:41:14.231081500Z"
    }
   },
   "id": "d34112f9562c808e"
  },
  {
   "cell_type": "code",
   "execution_count": null,
   "outputs": [],
   "source": [],
   "metadata": {
    "collapsed": false
   },
   "id": "213b946c3af0d780"
  }
 ],
 "metadata": {
  "kernelspec": {
   "display_name": "Python 3",
   "language": "python",
   "name": "python3"
  },
  "language_info": {
   "codemirror_mode": {
    "name": "ipython",
    "version": 2
   },
   "file_extension": ".py",
   "mimetype": "text/x-python",
   "name": "python",
   "nbconvert_exporter": "python",
   "pygments_lexer": "ipython2",
   "version": "2.7.6"
  }
 },
 "nbformat": 4,
 "nbformat_minor": 5
}
